{
 "cells": [
  {
   "cell_type": "code",
   "execution_count": null,
   "metadata": {},
   "outputs": [],
   "source": [
    "#default_exp data.blocks"
   ]
  },
  {
   "cell_type": "markdown",
   "metadata": {},
   "source": [
    "# Data blocks"
   ]
  },
  {
   "cell_type": "markdown",
   "metadata": {},
   "source": [
    "## TfmList -"
   ]
  },
  {
   "cell_type": "code",
   "execution_count": null,
   "metadata": {},
   "outputs": [],
   "source": [
    "#export\n",
    "class TfmList():\n",
    "    def __init__(self, ttfms, tfm=noop):\n",
    "        self.activ,self.ttfms = False,[Transforms(tfm) for tfm in listify(ttfms)]\n",
    "\n",
    "    def __call__(self, o, **kwargs):\n",
    "        if self.activ: return self.activ(o, **kwargs)\n",
    "        return [t(o, **kwargs) for t in self.ttfms]\n",
    "    \n",
    "    def decode(self, o, **kwargs): return [t.decode(p, **kwargs) for p,t in zip(o,self.ttfms)]\n",
    "\n",
    "    def setup(self, o):\n",
    "        for tfm in self.ttfms:\n",
    "            self.activ = tfm\n",
    "            tfm.setup(o)\n",
    "        self.activ=None\n",
    "        \n",
    "    def show(self, o, **kwargs): return show_xs(o, self.ttfms, **kwargs)\n",
    "    def __repr__(self): return f'TfmList({self.ttfms})'\n",
    "    \n",
    "    @property\n",
    "    def xt(self): return self.ttfms[0]\n",
    "    @property\n",
    "    def yt(self): return self.ttfms[1]"
   ]
  },
  {
   "cell_type": "code",
   "execution_count": null,
   "metadata": {},
   "outputs": [],
   "source": []
  }
 ],
 "metadata": {
  "kernelspec": {
   "display_name": "Python 3",
   "language": "python",
   "name": "python3"
  }
 },
 "nbformat": 4,
 "nbformat_minor": 2
}
