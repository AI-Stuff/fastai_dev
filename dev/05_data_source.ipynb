{
 "cells": [
  {
   "cell_type": "code",
   "execution_count": null,
   "metadata": {},
   "outputs": [],
   "source": [
    "#default_exp data.source"
   ]
  },
  {
   "cell_type": "code",
   "execution_count": null,
   "metadata": {},
   "outputs": [],
   "source": [
    "#export\n",
    "from local.imports import *\n",
    "from local.test import *\n",
    "from local.core import *\n",
    "from local.data.core import *\n",
    "from local.data.pipeline import *\n",
    "from local.notebook.showdoc import show_doc"
   ]
  },
  {
   "cell_type": "markdown",
   "metadata": {},
   "source": [
    "# Data source\n",
    "> Base container for all the items"
   ]
  },
  {
   "cell_type": "markdown",
   "metadata": {},
   "source": [
    "## Convenience functions"
   ]
  },
  {
   "cell_type": "code",
   "execution_count": null,
   "metadata": {},
   "outputs": [],
   "source": [
    "#export core\n",
    "def all_union(sets):\n",
    "    \"Set of union of all `sets` (each `setified` if needed)\"\n",
    "    return set().union(*(map(setify,sets)))"
   ]
  },
  {
   "cell_type": "code",
   "execution_count": null,
   "metadata": {},
   "outputs": [],
   "source": [
    "sets = [[1,2],[2,3]]\n",
    "test_eq(all_union(sets), {1,2,3})"
   ]
  },
  {
   "cell_type": "code",
   "execution_count": null,
   "metadata": {},
   "outputs": [],
   "source": [
    "#export core\n",
    "def all_disjoint(sets):\n",
    "    \"`True` iif no element appears in more than one item of `sets`\"\n",
    "    return sum(map(len,sets))==len(all_union(sets))"
   ]
  },
  {
   "cell_type": "code",
   "execution_count": null,
   "metadata": {},
   "outputs": [],
   "source": [
    "assert not all_disjoint(sets)\n",
    "assert all_disjoint([[1,2],[3,4]])\n",
    "assert all_disjoint([[1,2],[]])\n",
    "assert all_disjoint([[1,2]])\n",
    "assert all_disjoint([])"
   ]
  },
  {
   "cell_type": "markdown",
   "metadata": {},
   "source": [
    "## Classes"
   ]
  },
  {
   "cell_type": "markdown",
   "metadata": {},
   "source": [
    "### DataSource -"
   ]
  },
  {
   "cell_type": "code",
   "execution_count": null,
   "metadata": {},
   "outputs": [],
   "source": [
    "# export\n",
    "class DataSource(PipedList):\n",
    "    \"Applies a `Pipeline` of `tfms` to filtered subsets of `items`\"\n",
    "    def __init__(self, items, tfms=None, filts=None):\n",
    "        if filts is None: filts = [range_of(items)]\n",
    "        self.filts = listify(mask2idxs(filt) for filt in filts)\n",
    "        # Create map from item id to filter id\n",
    "        assert all_disjoint(self.filts)\n",
    "        self.filt_idx = ListContainer([None]*len(items))\n",
    "        for i,f in enumerate(self.filts): self.filt_idx[f] = i\n",
    "        super().__init__(items, tfms)\n",
    "\n",
    "    def len(self,filt): return len(self.filts[filt])\n",
    "    def subset(self, i): return _DsrcSubset(self, i)\n",
    "    def __call__(self, x, filt, **kwargs): return super().__call__(x, filt=filt, **kwargs)\n",
    "    def decode  (self, x, filt, **kwargs): return super().decode  (x, filt=filt, **kwargs)\n",
    "    \n",
    "    def __getitem__(self, i):\n",
    "        \"Transformed item(s) at `i`\"\n",
    "        its,fts = self.items[i],self.filt_idx[i]\n",
    "        if is_iter(i): return [self(it,f) for it,f in zip(its,fts)]\n",
    "        else: return self(its, fts)\n",
    "\n",
    "DataSource.train,DataSource.valid = add_props(lambda i,x: x.subset(i), 2)"
   ]
  },
  {
   "cell_type": "code",
   "execution_count": null,
   "metadata": {},
   "outputs": [],
   "source": [
    "# export\n",
    "add_docs(\n",
    "    DataSource,\n",
    "    len=\"`len` of subset `filt`\",\n",
    "    subset=\"Filtered subset `i`\",\n",
    "    decode=\"Transform decode\",\n",
    ")"
   ]
  },
  {
   "cell_type": "code",
   "execution_count": null,
   "metadata": {},
   "outputs": [],
   "source": [
    "#export\n",
    "class _DsrcSubset:\n",
    "    def __init__(self, dsrc, filt): self.dsrc,self.filt,self.filts = dsrc,filt,dsrc.filts[filt]\n",
    "    def __getitem__(self,i): return self.dsrc[self.filts[i]]\n",
    "    def decode(self, o, **kwargs): return self.dsrc.decode(o, self.filt, **kwargs)\n",
    "    def decode_at(self, i, **kwargs): return self.decode(self[i], **kwargs)\n",
    "    def __len__(self): return len(self.filts)\n",
    "    def __eq__(self,b): return all_equal(b,self)\n",
    "    def __repr__(self): return coll_repr(self)\n",
    "    def show_at(self, i, **kwargs): return self.dsrc.show(self.decode_at(i), **kwargs)"
   ]
  },
  {
   "cell_type": "markdown",
   "metadata": {},
   "source": [
    "A `DataSource` provides filtering and transformation capabilities to a list of items. If you don't pass any filters or transforms, it simply provides a single subset with the same behavior as a `ListContainer`."
   ]
  },
  {
   "cell_type": "code",
   "execution_count": null,
   "metadata": {},
   "outputs": [],
   "source": [
    "inp = [0,1,2,3,4]\n",
    "dsrc = DataSource(inp)"
   ]
  },
  {
   "cell_type": "code",
   "execution_count": null,
   "metadata": {},
   "outputs": [
    {
     "data": {
      "text/plain": [
       "DataSource: ListContainer (5 items) [0,1,2,3,4]\n",
       "tfms - []"
      ]
     },
     "execution_count": null,
     "metadata": {},
     "output_type": "execute_result"
    }
   ],
   "source": [
    "test_eq(dsrc,inp)               # No filters, so equal to input items\n",
    "test_eq(dsrc.subset(0), inp)     # Only one subset\n",
    "test_ne(dsrc, [0,1,2,3,5])\n",
    "test_eq(dsrc[2], 2)         # Retrieve one item (subset 0 is the default)\n",
    "test_eq(dsrc[1,2], [1,2]) # Retrieve two items by index\n",
    "mask = [True,False,False,True,False]\n",
    "test_eq(dsrc[mask], [0,3])  # Retrieve two items by mask\n",
    "dsrc"
   ]
  },
  {
   "cell_type": "markdown",
   "metadata": {},
   "source": [
    "Passing `filts` allows you to create multiple subsets."
   ]
  },
  {
   "cell_type": "code",
   "execution_count": null,
   "metadata": {},
   "outputs": [
    {
     "data": {
      "text/plain": [
       "DataSource: ListContainer (5 items) [0,1,2,3,4]\n",
       "tfms - []"
      ]
     },
     "execution_count": null,
     "metadata": {},
     "output_type": "execute_result"
    }
   ],
   "source": [
    "# filts can be indices\n",
    "dsrc = DataSource(range(5), filts=[tensor([0,2]), [1,3,4]])\n",
    "test_eq(dsrc.subset(0), [0,2])\n",
    "test_eq(dsrc.subset(1), [1,3,4])\n",
    "test_eq(dsrc.subset(1)[2], 4)          # item 2 of subset 1\n",
    "\n",
    "# filts can be boolean masks (they don't have to cover all items, but must be disjoint)\n",
    "filts = [[False,True,True,False,True], [True,False,False,False,False]]\n",
    "dsrc = DataSource(range(5), filts=filts)\n",
    "test_eq(dsrc.subset(0), [1,2,4])\n",
    "test_eq(dsrc.subset(1), [0])\n",
    "dsrc"
   ]
  },
  {
   "cell_type": "markdown",
   "metadata": {},
   "source": [
    "Pass `tfms` to have transformations applied before returning items."
   ]
  },
  {
   "cell_type": "code",
   "execution_count": null,
   "metadata": {},
   "outputs": [],
   "source": [
    "# apply transforms to all items\n",
    "tfms = [lambda x: x*2,lambda x: x+1]\n",
    "filts = [[1,2],[0,3,4]]\n",
    "dsrc = DataSource(range(5), tfms, filts=filts)\n",
    "test_eq(dsrc.subset(0),[3,5])\n",
    "test_eq(dsrc.subset(1),[1,7,9])\n",
    "test_eq(dsrc.subset(0)[False,True], [5])"
   ]
  },
  {
   "cell_type": "markdown",
   "metadata": {},
   "source": [
    "The subset idx is also passed to your transform, so if it is an instance of `Transform` it will only be applied if the filt idx matches."
   ]
  },
  {
   "cell_type": "code",
   "execution_count": null,
   "metadata": {},
   "outputs": [],
   "source": [
    "# only transform subset 1\n",
    "class _Tfm(Transform):\n",
    "    def encodes(self, x): return x*2\n",
    "    def decodes(self, x): return x//2\n",
    "    def show(self, x): return f\" * {x}\"\n",
    "        \n",
    "tfm = _Tfm(filt=1)\n",
    "dsrc = DataSource(range(5), tfm, filts=[[1,2],[0,3,4]])\n",
    "test_eq(dsrc.subset(0),[1,2])\n",
    "test_eq(dsrc.subset(1),[0,6,8])\n",
    "test_eq(dsrc.train[False,True], [2])"
   ]
  },
  {
   "cell_type": "code",
   "execution_count": null,
   "metadata": {},
   "outputs": [
    {
     "data": {
      "text/markdown": [
       "<h4 id=\"DataSource.__getitem__\" class=\"doc_header\"><code>__getitem__</code><a href=\"https://nbviewer.jupyter.org/github/fastai/fastai_docs/blob/master/dev/05_data_source.ipynb#DataSource--\" class=\"source_link\" style=\"float:right\">[source]</a></h4>\n",
       "\n",
       "> <code>__getitem__</code>(**`i`**)\n",
       "\n",
       "Transformed item(s) at `i`"
      ],
      "text/plain": [
       "<IPython.core.display.Markdown object>"
      ]
     },
     "metadata": {},
     "output_type": "display_data"
    }
   ],
   "source": [
    "show_doc(DataSource.__getitem__)"
   ]
  },
  {
   "cell_type": "markdown",
   "metadata": {},
   "source": [
    "`i` can be an int, or list of ints, or a boolean mask."
   ]
  },
  {
   "cell_type": "code",
   "execution_count": null,
   "metadata": {},
   "outputs": [
    {
     "data": {
      "text/plain": [
       "([1], 1, 1)"
      ]
     },
     "execution_count": null,
     "metadata": {},
     "output_type": "execute_result"
    }
   ],
   "source": [
    "dsrc[False,True], dsrc[1], dsrc[1]"
   ]
  },
  {
   "cell_type": "code",
   "execution_count": null,
   "metadata": {},
   "outputs": [
    {
     "data": {
      "text/markdown": [
       "<h4 id=\"Pipeline.decode_at\" class=\"doc_header\"><code>decode_at</code><a href=\"https://nbviewer.jupyter.org/github/fastai/fastai_docs/blob/master/dev/02_data_pipeline.ipynb#Pipeline--\" class=\"source_link\" style=\"float:right\">[source]</a></h4>\n",
       "\n",
       "> <code>decode_at</code>(**`idx`**)\n",
       "\n",
       "Decoded version of `get`"
      ],
      "text/plain": [
       "<IPython.core.display.Markdown object>"
      ]
     },
     "metadata": {},
     "output_type": "display_data"
    }
   ],
   "source": [
    "show_doc(DataSource.decode_at)"
   ]
  },
  {
   "cell_type": "code",
   "execution_count": null,
   "metadata": {},
   "outputs": [],
   "source": [
    "test_eq(dsrc.valid[1], 6)\n",
    "test_eq(dsrc.valid.decode_at(1), 3)"
   ]
  },
  {
   "cell_type": "code",
   "execution_count": null,
   "metadata": {},
   "outputs": [
    {
     "data": {
      "text/markdown": [
       "<h4 id=\"DataSource.len\" class=\"doc_header\"><code>len</code><a href=\"https://nbviewer.jupyter.org/github/fastai/fastai_docs/blob/master/dev/05_data_source.ipynb#DataSource--\" class=\"source_link\" style=\"float:right\">[source]</a></h4>\n",
       "\n",
       "> <code>len</code>(**`filt`**)\n",
       "\n",
       "`len` of subset `filt`"
      ],
      "text/plain": [
       "<IPython.core.display.Markdown object>"
      ]
     },
     "metadata": {},
     "output_type": "display_data"
    }
   ],
   "source": [
    "show_doc(DataSource.len)"
   ]
  },
  {
   "cell_type": "code",
   "execution_count": null,
   "metadata": {},
   "outputs": [
    {
     "data": {
      "text/plain": [
       "[2, 3]"
      ]
     },
     "execution_count": null,
     "metadata": {},
     "output_type": "execute_result"
    }
   ],
   "source": [
    "[dsrc.len(i) for i in range(2)]"
   ]
  },
  {
   "cell_type": "code",
   "execution_count": null,
   "metadata": {},
   "outputs": [
    {
     "data": {
      "text/markdown": [
       "<h4 id=\"DataSource.decode\" class=\"doc_header\"><code>decode</code><a href=\"https://nbviewer.jupyter.org/github/fastai/fastai_docs/blob/master/dev/05_data_source.ipynb#DataSource--\" class=\"source_link\" style=\"float:right\">[source]</a></h4>\n",
       "\n",
       "> <code>decode</code>(**`x`**, **`filt`**, **\\*\\*`kwargs`**)\n",
       "\n",
       "Transform decode"
      ],
      "text/plain": [
       "<IPython.core.display.Markdown object>"
      ]
     },
     "metadata": {},
     "output_type": "display_data"
    }
   ],
   "source": [
    "show_doc(DataSource.decode)"
   ]
  },
  {
   "cell_type": "code",
   "execution_count": null,
   "metadata": {},
   "outputs": [],
   "source": [
    "t = dsrc.valid[1]\n",
    "test_eq(dsrc.decode(t,filt=1), 3)"
   ]
  },
  {
   "cell_type": "code",
   "execution_count": null,
   "metadata": {},
   "outputs": [
    {
     "data": {
      "text/markdown": [
       "<h4 id=\"Pipeline.show_at\" class=\"doc_header\"><code>show_at</code><a href=\"https://nbviewer.jupyter.org/github/fastai/fastai_docs/blob/master/dev/02_data_pipeline.ipynb#Pipeline--\" class=\"source_link\" style=\"float:right\">[source]</a></h4>\n",
       "\n",
       "> <code>show_at</code>(**`idx`**)\n",
       "\n",
       "Call `tfm.show` for item `idx`/`filt`"
      ],
      "text/plain": [
       "<IPython.core.display.Markdown object>"
      ]
     },
     "metadata": {},
     "output_type": "display_data"
    }
   ],
   "source": [
    "show_doc(DataSource.show_at)"
   ]
  },
  {
   "cell_type": "code",
   "execution_count": null,
   "metadata": {},
   "outputs": [],
   "source": [
    "test_eq(dsrc.valid.show_at(1), ' * 3')"
   ]
  },
  {
   "cell_type": "markdown",
   "metadata": {},
   "source": [
    "## Export -"
   ]
  },
  {
   "cell_type": "code",
   "execution_count": null,
   "metadata": {},
   "outputs": [
    {
     "name": "stdout",
     "output_type": "stream",
     "text": [
      "Converted 00_test.ipynb.\n",
      "Converted 01_core.ipynb.\n",
      "Converted 02_data_pipeline.ipynb.\n",
      "Converted 03_data_external.ipynb.\n",
      "Converted 04_data_core.ipynb.\n",
      "Converted 05_data_source.ipynb.\n",
      "Converted 06_vision_core.ipynb.\n",
      "Converted 07_pets_tutorial.ipynb.\n",
      "Converted 90_notebook_core.ipynb.\n",
      "Converted 91_notebook_export.ipynb.\n",
      "Converted 92_notebook_showdoc.ipynb.\n",
      "Converted 93_notebook_export2html.ipynb.\n",
      "Converted 94_index.ipynb.\n"
     ]
    }
   ],
   "source": [
    "#hide\n",
    "from local.notebook.export import notebook2script\n",
    "notebook2script(all_fs=True)"
   ]
  },
  {
   "cell_type": "code",
   "execution_count": null,
   "metadata": {},
   "outputs": [],
   "source": []
  }
 ],
 "metadata": {
  "kernelspec": {
   "display_name": "Python 3",
   "language": "python",
   "name": "python3"
  }
 },
 "nbformat": 4,
 "nbformat_minor": 2
}
