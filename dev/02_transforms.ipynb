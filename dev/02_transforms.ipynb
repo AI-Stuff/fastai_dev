{
 "cells": [
  {
   "cell_type": "code",
   "execution_count": null,
   "metadata": {},
   "outputs": [],
   "source": [
    "#default_exp data.transform"
   ]
  },
  {
   "cell_type": "code",
   "execution_count": null,
   "metadata": {},
   "outputs": [],
   "source": [
    "#export\n",
    "from local.imports import *\n",
    "from local.test import *\n",
    "from local.core import *\n",
    "from local.notebook.showdoc import show_doc\n",
    "\n",
    "from types import MethodType"
   ]
  },
  {
   "cell_type": "markdown",
   "metadata": {},
   "source": [
    "# Transforms"
   ]
  },
  {
   "cell_type": "code",
   "execution_count": null,
   "metadata": {},
   "outputs": [],
   "source": [
    "#export\n",
    "def anno_ret(func):\n",
    "    \"Get the return annotation of `func`\"\n",
    "    ann = typing.get_type_hints(func)\n",
    "    if not ann: return None\n",
    "    typ = ann.get('return')\n",
    "    return list(typ.__args__) if getattr(typ, '_name', '')=='Tuple' else typ"
   ]
  },
  {
   "cell_type": "code",
   "execution_count": null,
   "metadata": {},
   "outputs": [],
   "source": [
    "#hide\n",
    "def f(x) -> float: return x\n",
    "test_eq(anno_ret(f), float)\n",
    "def f(x) -> Tuple[float,float]: return x\n",
    "test_eq(anno_ret(f), [float,float])\n",
    "def f(x) -> None: return x\n",
    "test_eq(anno_ret(f), NoneType)\n",
    "def f(x): return x\n",
    "test_eq(anno_ret(f), None)"
   ]
  },
  {
   "cell_type": "code",
   "execution_count": null,
   "metadata": {},
   "outputs": [],
   "source": [
    "#export\n",
    "cmp_instance = functools.cmp_to_key(lambda a,b: 0 if a==b else 1 if issubclass(a,b) else -1)"
   ]
  },
  {
   "cell_type": "code",
   "execution_count": null,
   "metadata": {},
   "outputs": [],
   "source": [
    "td = {int:1, numbers.Number:2, numbers.Integral:3}\n",
    "test_eq(sorted(td, key=cmp_instance), [numbers.Number, numbers.Integral, int])"
   ]
  },
  {
   "cell_type": "code",
   "execution_count": null,
   "metadata": {},
   "outputs": [],
   "source": [
    "#export\n",
    "def _p1_anno(f):\n",
    "    \"Get the annotation of first param of `f`\"\n",
    "    ann = [o for n,o in typing.get_type_hints(f).items() if n!='return']\n",
    "    return ann[0] if ann else object"
   ]
  },
  {
   "cell_type": "code",
   "execution_count": null,
   "metadata": {},
   "outputs": [],
   "source": [
    "def _f(a, b): pass\n",
    "test_eq(_p1_anno(_f), object)\n",
    "def _f(a, b)->str: pass\n",
    "test_eq(_p1_anno(_f), object)\n",
    "def _f(a, b:str)->float: pass\n",
    "test_eq(_p1_anno(_f), str)\n",
    "def _f(a:int, b:int)->float: pass\n",
    "test_eq(_p1_anno(_f), int)"
   ]
  },
  {
   "cell_type": "code",
   "execution_count": null,
   "metadata": {},
   "outputs": [],
   "source": [
    "#export\n",
    "class TransformBase():\n",
    "    \"Delegates (`__call__`,`decode`) to (`encodes`,`decodes`) if `filt` matches\"\n",
    "    filt=None\n",
    "    def __init__(self, filt=None, whole_tuple=False): self.filt,self.whole_tuple=filt,whole_tuple\n",
    "    def __call__(self, *args, **kwargs): return self.call(True, *args, **kwargs)\n",
    "    def decode  (self, *args, **kwargs): return self.call(False, *args, **kwargs)\n",
    "    def encodes(self, x, *args, **kwargs): return x\n",
    "    def decodes(self, x, *args, **kwargs): return x\n",
    "    \n",
    "    def call(self, is_enc, x, *args, filt=None, **kwargs):\n",
    "        f = self.func(is_enc, x, filt=filt)\n",
    "        if is_listy(f): return tuple(self._do_call(f_, x_, *args, filt=filt, **kwargs) for f_,x_ in zip(f,x))\n",
    "        return self._do_call(f, x, *args, filt=filt, **kwargs)\n",
    "    \n",
    "    def func(self, is_enc, x, filt=None):\n",
    "        if filt!=self.filt and filt is not None: return None\n",
    "        f = self.encodes if is_enc else self.decodes\n",
    "        if self.whole_tuple: return f\n",
    "        t = _p1_anno(f)\n",
    "        f_ = lambda o: f if isinstance(o,t) else None\n",
    "        return [f_(x_) for x_ in x] if is_listy(x) else f_(x)\n",
    "        \n",
    "    def _do_call(self, f, x, *args, filt=None, **kwargs):\n",
    "        if f is None: return x\n",
    "        res = f(x, *args, **kwargs)\n",
    "        typ_r = ifnone(anno_ret(f), type(x))\n",
    "        return typ_r(res) if (type(res) != typ_r) and typ_r!=NoneType else res"
   ]
  },
  {
   "cell_type": "code",
   "execution_count": null,
   "metadata": {},
   "outputs": [],
   "source": [
    "#export\n",
    "class ShowTitle:\n",
    "    def show(self, ctx=None, **kwargs): return show_title(str(self), ctx=ctx)\n",
    "class Int(int, ShowTitle): pass\n",
    "class Float(float, ShowTitle): pass\n",
    "class Str(str, ShowTitle): pass"
   ]
  },
  {
   "cell_type": "code",
   "execution_count": null,
   "metadata": {},
   "outputs": [],
   "source": [
    "test_stdout(lambda: Str('s').show(), 's')\n",
    "test_stdout(lambda: Int(1).show(), '1')"
   ]
  },
  {
   "cell_type": "code",
   "execution_count": null,
   "metadata": {},
   "outputs": [],
   "source": [
    "class A(TransformBase):\n",
    "    def encodes(self, x)->Int: return x/2\n",
    "    \n",
    "f = A()\n",
    "test_eq_type(f(2), Int(1))\n",
    "test_eq_type(f.decode(2.0), 2.0)"
   ]
  },
  {
   "cell_type": "code",
   "execution_count": null,
   "metadata": {},
   "outputs": [],
   "source": [
    "class A(TransformBase):\n",
    "    def encodes(self, x): return x/2\n",
    "    \n",
    "f = A()\n",
    "test_eq_type(f(Int(2)), Int(1))\n",
    "test_eq_type(f(2), 1)"
   ]
  },
  {
   "cell_type": "code",
   "execution_count": null,
   "metadata": {},
   "outputs": [],
   "source": [
    "class A(TransformBase):\n",
    "    def encodes(self, x)->None: return x/2\n",
    "    \n",
    "f = A()\n",
    "test_eq_type(f(2), 1.)\n",
    "test_eq_type(f(2.), 1.)"
   ]
  },
  {
   "cell_type": "code",
   "execution_count": null,
   "metadata": {},
   "outputs": [],
   "source": [
    "class A(TransformBase): \n",
    "    def encodes(self, x:int)->Int: return x+1\n",
    "    def decodes(self, x:int): return x-1\n",
    "\n",
    "f = A()\n",
    "test_eq_type(f(1), Int(2))\n",
    "test_eq_type(f(1.), 1.)\n",
    "t = f((1.,2))\n",
    "test_eq_type(t, (1.,Int(3)))\n",
    "test_eq(f.decode(t), (1,2))\n",
    "\n",
    "f.filt = 1\n",
    "test_eq(f((1.,2), filt=1), (1.,3))\n",
    "test_eq_type(f((1.,2), filt=0), (1.,2))"
   ]
  },
  {
   "cell_type": "code",
   "execution_count": null,
   "metadata": {},
   "outputs": [],
   "source": [
    "class TransformWhole(TransformBase):\n",
    "    def __init__(self, filt=None): super().__init__(filt=filt, whole_tuple=True)"
   ]
  },
  {
   "cell_type": "code",
   "execution_count": null,
   "metadata": {},
   "outputs": [],
   "source": [
    "#Apply on the tuple as a whole\n",
    "class A(TransformWhole): \n",
    "    def encodes(self, xy): x,y=xy; return (x+y,y)\n",
    "    def decodes(self, xy): x,y=xy; return (x-y,y)\n",
    "\n",
    "f = A()\n",
    "t = f((1,2))\n",
    "test_eq(t, (3,2))\n",
    "test_eq(f.decode(t), (1,2))\n",
    "f.filt = 1\n",
    "test_eq(f((1,2), filt=1), (3,2))\n",
    "test_eq(f((1,2), filt=0), (1,2))"
   ]
  },
  {
   "cell_type": "code",
   "execution_count": null,
   "metadata": {},
   "outputs": [],
   "source": [
    "#export\n",
    "class TypeDispatch:\n",
    "    \"Dictionary-like object; `__getitem__` matches keys of types using `issubclass`\"\n",
    "    def __init__(self, *funcs):\n",
    "        self.funcs,self.cache = {},{}\n",
    "        for f in funcs: self.add(f)\n",
    "        \n",
    "    def _reset(self):\n",
    "        self.funcs = {k:self.funcs[k] for k in sorted(self.funcs, key=cmp_instance, reverse=True)}\n",
    "        self.cache = {**self.funcs}\n",
    "        \n",
    "    def add(self, f):\n",
    "        \"Add type `t` and function `f`\"\n",
    "        self.funcs[_p1_anno(f) or object] = f\n",
    "        self._reset()\n",
    "        \n",
    "    def __repr__(self): return str(self.funcs)\n",
    "    def __getitem__(self, k):\n",
    "        \"Find first matching type that is a super-class of `k`\"\n",
    "        if k in self.cache: return self.cache[k]\n",
    "        types = [f for f in self.funcs if issubclass(k,f)]\n",
    "        res = self.funcs[types[0]] if types else None\n",
    "        self.cache[k] = res\n",
    "        return res"
   ]
  },
  {
   "cell_type": "code",
   "execution_count": null,
   "metadata": {},
   "outputs": [],
   "source": [
    "def f_col(x:typing.Collection): pass\n",
    "def f_nin(x:numbers.Integral): pass\n",
    "def f_num(x:numbers.Number): pass\n",
    "t = TypeDispatch(f_nin,f_num)\n",
    "\n",
    "test_eq(t[int], f_nin)\n",
    "test_eq(t[str], None)\n",
    "test_eq(t[float], f_num)\n",
    "t.add(f_col)\n",
    "test_eq(t[str], f_col)\n",
    "test_eq(t[int], f_nin)"
   ]
  },
  {
   "cell_type": "code",
   "execution_count": null,
   "metadata": {},
   "outputs": [],
   "source": [
    "#export\n",
    "class TfmMeta(type):\n",
    "    def __new__(cls, name, bases, dct):\n",
    "        res = super().__new__(cls, name, bases, dct)\n",
    "        res.fs = (TypeDispatch(),TypeDispatch())\n",
    "        return res\n",
    "\n",
    "    def __call__(cls, *args, **kwargs):\n",
    "        f = args[0] if args else None\n",
    "        if isinstance(f,Callable) and f.__name__ in ('decode','encode','_'):\n",
    "            d = cls.fs[f.__name__ != 'decode']\n",
    "            d.add(f)\n",
    "            return f\n",
    "        return super().__call__(*args, **kwargs)"
   ]
  },
  {
   "cell_type": "code",
   "execution_count": null,
   "metadata": {},
   "outputs": [],
   "source": [
    "#export\n",
    "class Transform(TransformBase, metaclass=TfmMeta):\n",
    "    def __init__(self, enc=None, dec=None, filt=None):\n",
    "        super().__init__(filt)\n",
    "        if not (enc or dec): return\n",
    "        self.fs = (TypeDispatch(),TypeDispatch())\n",
    "        if enc: self.fs[True].add(enc)\n",
    "        if dec: self.fs[False].add(dec)\n",
    "\n",
    "    def lookup(self, is_enc, x): return MethodType(self.fs[is_enc][type(x)] or noops, self)\n",
    "    \n",
    "    def func(self, is_enc, x, filt=None):\n",
    "        if filt!=self.filt and filt is not None: return None\n",
    "        f = partial(self.lookup, is_enc)\n",
    "        return [f(x_) for x_ in x] if is_listy(x) else f(x)"
   ]
  },
  {
   "cell_type": "code",
   "execution_count": null,
   "metadata": {},
   "outputs": [],
   "source": [
    "def neg_int(self, x:numbers.Integral): return -x\n",
    "\n",
    "f = Transform(neg_int)\n",
    "test_eq(f(1), -1)\n",
    "test_eq(f(1.), 1.)\n",
    "test_eq(f((1.,2,3.)), (1.,-2,3.))\n",
    "test_eq(f.decode((1,2)), (1,2))"
   ]
  },
  {
   "cell_type": "code",
   "execution_count": null,
   "metadata": {},
   "outputs": [],
   "source": [
    "def float_to_int(self, x:(float,int))->Int: return x\n",
    "\n",
    "f = Transform(float_to_int)\n",
    "test_eq_type(f(1.), Int(1))\n",
    "test_eq_type(f(1), Int(1))\n",
    "test_eq_type(f('1'), '1')\n",
    "test_eq_type(f((1,'1')), (Int(1),'1'))\n",
    "test_eq(f.decode(1), 1)"
   ]
  },
  {
   "cell_type": "code",
   "execution_count": null,
   "metadata": {},
   "outputs": [],
   "source": [
    "class B(Transform): pass\n",
    "class C(Transform): pass\n",
    "f = B()\n",
    "test_eq(f(1), 1)"
   ]
  },
  {
   "cell_type": "code",
   "execution_count": null,
   "metadata": {},
   "outputs": [],
   "source": [
    "@B\n",
    "def _(self, x:int): return x+1\n",
    "@B\n",
    "def _(self, x:str): return x+'1'\n",
    "\n",
    "b,c = B(),C()\n",
    "test_eq(b(1), 2)\n",
    "test_eq(b('1'), '11')\n",
    "test_eq(c(1), 1)\n",
    "test_eq(b((1,2)), (2,3))\n",
    "test_eq(b.decode(2), 2)\n",
    "assert pickle.loads(pickle.dumps(b))"
   ]
  },
  {
   "cell_type": "code",
   "execution_count": null,
   "metadata": {},
   "outputs": [],
   "source": [
    "@B\n",
    "def decode(self, x:int): return x-1\n",
    "test_eq(b.decode(2), 1)\n",
    "test_eq(b.decode('2'), '2')"
   ]
  },
  {
   "cell_type": "code",
   "execution_count": null,
   "metadata": {},
   "outputs": [],
   "source": [
    "class B(Transform): pass\n",
    "@B\n",
    "def _(self, x:int)->Int: return x+1\n",
    "@B\n",
    "def _(self, x:str): return x+'1'\n",
    "@B\n",
    "def decode(self, x:Int): return x/2\n",
    "\n",
    "f = B()\n",
    "start = (1.,2,'3')\n",
    "t = f(start)\n",
    "test_eq_type(t, (1.,Int(3),'31'))\n",
    "test_eq(f.decode(t), (1.,Int(1),'31'))"
   ]
  },
  {
   "cell_type": "code",
   "execution_count": null,
   "metadata": {},
   "outputs": [],
   "source": [
    "class A(Transform): pass\n",
    "@A\n",
    "def _(self, x): return x+1\n",
    "@A\n",
    "def decode(self, x): return x-1\n",
    "\n",
    "f = A()\n",
    "t = f((1,2))\n",
    "test_eq(t, (2,3))\n",
    "test_eq(f.decode(t), (1,2))"
   ]
  },
  {
   "cell_type": "code",
   "execution_count": null,
   "metadata": {},
   "outputs": [],
   "source": [
    "class A(Transform): pass\n",
    "@A\n",
    "def _(self, x:numbers.Integral): return x+1\n",
    "@A\n",
    "def _(self, x:float): return x*3\n",
    "@A\n",
    "def decode(self, x:int): return x-1\n",
    "\n",
    "f = A()\n",
    "start = 1.0\n",
    "t = f(start)\n",
    "test_eq(t, 3.)\n",
    "test_eq(f.decode(t), 3)"
   ]
  },
  {
   "cell_type": "code",
   "execution_count": null,
   "metadata": {},
   "outputs": [],
   "source": [
    "start = (1.,2,3.)\n",
    "t = f(start)\n",
    "test_eq(t, (3.,3,9.))\n",
    "test_eq(f.decode(t), (3.,2,9.))"
   ]
  },
  {
   "cell_type": "markdown",
   "metadata": {},
   "source": [
    "## Export -"
   ]
  },
  {
   "cell_type": "code",
   "execution_count": null,
   "metadata": {},
   "outputs": [
    {
     "name": "stdout",
     "output_type": "stream",
     "text": [
      "Converted 00_test.ipynb.\n",
      "Converted 01_core.ipynb.\n",
      "Converted 02_data_pipeline-Copy1.ipynb.\n",
      "Converted 02_data_pipeline.ipynb.\n",
      "Converted 02_transforms.ipynb.\n",
      "Converted 02a_pipeline.ipynb.\n",
      "Converted 03_data_external.ipynb.\n",
      "Converted 04_data_core.ipynb.\n",
      "Converted 05_data_source.ipynb.\n",
      "Converted 06_vision_core.ipynb.\n",
      "Converted 07_pets_tutorial-meta.ipynb.\n",
      "Converted 07_pets_tutorial.ipynb.\n",
      "Converted 08_vision_augment.ipynb.\n",
      "Converted 09_data_block-Copy1.ipynb.\n",
      "Converted 09_data_block.ipynb.\n",
      "Converted 10_layers.ipynb.\n",
      "Converted 11_optimizer.ipynb.\n",
      "Converted 12_learner.ipynb.\n",
      "Converted 13_callback_schedule.ipynb.\n",
      "Converted 14_callback_hook.ipynb.\n",
      "Converted 15_callback_progress.ipynb.\n",
      "Converted 16_callback_tracker.ipynb.\n",
      "Converted 17_callback_fp16.ipynb.\n",
      "Converted 30_text_core.ipynb.\n",
      "Converted 90_notebook_core.ipynb.\n",
      "Converted 91_notebook_export.ipynb.\n",
      "Converted 92_notebook_showdoc.ipynb.\n",
      "Converted 93_notebook_export2html.ipynb.\n",
      "Converted 94_index.ipynb.\n",
      "Converted 95_synth_learner.ipynb.\n"
     ]
    }
   ],
   "source": [
    "#hide\n",
    "from local.notebook.export import notebook2script\n",
    "notebook2script(all_fs=True)"
   ]
  },
  {
   "cell_type": "code",
   "execution_count": null,
   "metadata": {},
   "outputs": [],
   "source": [
    "# get rid of this later if we don't need it\n",
    "def n_params(f):\n",
    "    \"Count of positional params\"\n",
    "    return len([p for p in inspect.signature(f).parameters.values()\n",
    "                if p.default == inspect.Parameter.empty and p.kind != inspect.Parameter.VAR_KEYWORD])"
   ]
  }
 ],
 "metadata": {
  "kernelspec": {
   "display_name": "Python 3",
   "language": "python",
   "name": "python3"
  }
 },
 "nbformat": 4,
 "nbformat_minor": 2
}
