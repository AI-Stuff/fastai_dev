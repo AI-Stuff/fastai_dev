{
 "cells": [
  {
   "cell_type": "code",
   "execution_count": null,
   "metadata": {},
   "outputs": [],
   "source": [
    "#default_exp data.transform"
   ]
  },
  {
   "cell_type": "code",
   "execution_count": null,
   "metadata": {},
   "outputs": [],
   "source": [
    "#export\n",
    "from local.imports import *\n",
    "from local.test import *\n",
    "from local.core import *\n",
    "from local.notebook.showdoc import show_doc\n",
    "\n",
    "from types import MethodType"
   ]
  },
  {
   "cell_type": "markdown",
   "metadata": {},
   "source": [
    "# Transforms"
   ]
  },
  {
   "cell_type": "markdown",
   "metadata": {},
   "source": [
    "## Helpers"
   ]
  },
  {
   "cell_type": "code",
   "execution_count": null,
   "metadata": {},
   "outputs": [],
   "source": [
    "#export\n",
    "def anno_ret(func):\n",
    "    \"Get the return annotation of `func`\"\n",
    "    ann = typing.get_type_hints(func)\n",
    "    if not ann: return None\n",
    "    typ = ann.get('return')\n",
    "    return list(typ.__args__) if getattr(typ, '_name', '')=='Tuple' else typ"
   ]
  },
  {
   "cell_type": "code",
   "execution_count": null,
   "metadata": {},
   "outputs": [],
   "source": [
    "#hide\n",
    "def f(x) -> float: return x\n",
    "test_eq(anno_ret(f), float)\n",
    "def f(x) -> Tuple[float,float]: return x\n",
    "test_eq(anno_ret(f), [float,float])\n",
    "def f(x) -> None: return x\n",
    "test_eq(anno_ret(f), NoneType)\n",
    "def f(x): return x\n",
    "test_eq(anno_ret(f), None)"
   ]
  },
  {
   "cell_type": "code",
   "execution_count": null,
   "metadata": {},
   "outputs": [],
   "source": [
    "#export\n",
    "cmp_instance = functools.cmp_to_key(lambda a,b: 0 if a==b else 1 if issubclass(a,b) else -1)"
   ]
  },
  {
   "cell_type": "code",
   "execution_count": null,
   "metadata": {},
   "outputs": [],
   "source": [
    "td = {int:1, numbers.Number:2, numbers.Integral:3}\n",
    "test_eq(sorted(td, key=cmp_instance), [numbers.Number, numbers.Integral, int])"
   ]
  },
  {
   "cell_type": "code",
   "execution_count": null,
   "metadata": {},
   "outputs": [],
   "source": [
    "#export\n",
    "def _p1_anno(f):\n",
    "    \"Get the annotation of first param of `f`\"\n",
    "    ann = [o for n,o in typing.get_type_hints(f).items() if n!='return']\n",
    "    return ann[0] if ann else object"
   ]
  },
  {
   "cell_type": "code",
   "execution_count": null,
   "metadata": {},
   "outputs": [],
   "source": [
    "def _f(a, b): pass\n",
    "test_eq(_p1_anno(_f), object)\n",
    "def _f(a, b)->str: pass\n",
    "test_eq(_p1_anno(_f), object)\n",
    "def _f(a, b:str)->float: pass\n",
    "test_eq(_p1_anno(_f), str)\n",
    "def _f(a:int, b:int)->float: pass\n",
    "test_eq(_p1_anno(_f), int)"
   ]
  },
  {
   "cell_type": "markdown",
   "metadata": {},
   "source": [
    "## Types"
   ]
  },
  {
   "cell_type": "code",
   "execution_count": null,
   "metadata": {},
   "outputs": [],
   "source": [
    "#export\n",
    "class ShowTitle:\n",
    "    \"Base class that adds a simple `show`\"\n",
    "    def show(self, ctx=None, **kwargs): return show_title(str(self), ctx=ctx)\n",
    "\n",
    "class Int(int, ShowTitle): pass\n",
    "class Float(float, ShowTitle): pass\n",
    "class Str(str, ShowTitle): pass\n",
    "add_docs(Int, \"An `int` with `show`\"); add_docs(Str, \"An `str` with `show`\"); add_docs(Float, \"An `float` with `show`\")"
   ]
  },
  {
   "cell_type": "code",
   "execution_count": null,
   "metadata": {},
   "outputs": [
    {
     "data": {
      "text/markdown": [
       "<h3 id=\"<code>class</code> <code>Int</code>\" class=\"doc_header\"><code>class</code> <code>Int</code><a href=\"https://nbviewer.jupyter.org/github/fastai/fastai_docs/blob/master/dev/02_transforms.ipynb#Types\" class=\"source_link\" style=\"float:right\">[source]</a></h3>\n",
       "\n",
       "> <code>Int</code>() :: `int`\n",
       "\n",
       "An `int` with `show`"
      ],
      "text/plain": [
       "<IPython.core.display.Markdown object>"
      ]
     },
     "metadata": {},
     "output_type": "display_data"
    }
   ],
   "source": [
    "show_doc(Int, title_level=3)"
   ]
  },
  {
   "cell_type": "code",
   "execution_count": null,
   "metadata": {},
   "outputs": [
    {
     "data": {
      "text/markdown": [
       "<h3 id=\"<code>class</code> <code>Str</code>\" class=\"doc_header\"><code>class</code> <code>Str</code><a href=\"https://nbviewer.jupyter.org/github/fastai/fastai_docs/blob/master/dev/02_transforms.ipynb#Types\" class=\"source_link\" style=\"float:right\">[source]</a></h3>\n",
       "\n",
       "> <code>Str</code>() :: `str`\n",
       "\n",
       "An `str` with `show`"
      ],
      "text/plain": [
       "<IPython.core.display.Markdown object>"
      ]
     },
     "metadata": {},
     "output_type": "display_data"
    }
   ],
   "source": [
    "show_doc(Str, title_level=3)"
   ]
  },
  {
   "cell_type": "code",
   "execution_count": null,
   "metadata": {},
   "outputs": [
    {
     "data": {
      "text/markdown": [
       "<h3 id=\"<code>class</code> <code>Float</code>\" class=\"doc_header\"><code>class</code> <code>Float</code><a href=\"https://nbviewer.jupyter.org/github/fastai/fastai_docs/blob/master/dev/02_transforms.ipynb#Types\" class=\"source_link\" style=\"float:right\">[source]</a></h3>\n",
       "\n",
       "> <code>Float</code>(**`x`**=*`0`*) :: `float`\n",
       "\n",
       "An `float` with `show`"
      ],
      "text/plain": [
       "<IPython.core.display.Markdown object>"
      ]
     },
     "metadata": {},
     "output_type": "display_data"
    }
   ],
   "source": [
    "show_doc(Float, title_level=3)"
   ]
  },
  {
   "cell_type": "code",
   "execution_count": null,
   "metadata": {},
   "outputs": [],
   "source": [
    "test_stdout(lambda: Str('s').show(), 's')\n",
    "test_stdout(lambda: Int(1).show(), '1')"
   ]
  },
  {
   "cell_type": "code",
   "execution_count": null,
   "metadata": {},
   "outputs": [],
   "source": [
    "#export\n",
    "class TensorBase(Tensor):\n",
    "    def __new__(cls, x, *args, **kwargs):\n",
    "        x = cls._cast(tensor(x))\n",
    "        x._cls = cls\n",
    "        x.show = MethodType(partial(cls.show, show_args=cls._show_args), x)\n",
    "        return x\n",
    "\n",
    "    @classmethod\n",
    "    def _cast(cls, x): return x.float()\n",
    "\n",
    "class TensorImage(TensorBase):\n",
    "    _show_args = {'cmap':'viridis'}\n",
    "    def show(self, ctx=None, show_args=None, **kwargs): return show_image(self, ctx=ctx, **{**show_args, **kwargs})\n",
    "    \n",
    "class FloatTensorImage(TensorImage): pass\n",
    "\n",
    "class ByteTensorImage (TensorImage):\n",
    "    @classmethod\n",
    "    def _cast(cls, x): return x.byte()\n",
    "\n",
    "class ByteTensorMask(TensorImage):\n",
    "    _show_args = {'alpha':0.5, 'cmap':'tab20'}\n",
    "    @classmethod\n",
    "    def _cast(cls, x): return x.byte()\n",
    "    \n",
    "class LongTensorMask(TensorImage): \n",
    "    _show_args = {'alpha':0.5, 'cmap':'tab20'}\n",
    "    @classmethod\n",
    "    def _cast(cls, x): return x.long()"
   ]
  },
  {
   "cell_type": "code",
   "execution_count": null,
   "metadata": {},
   "outputs": [],
   "source": [
    "#TODO show docs"
   ]
  },
  {
   "cell_type": "code",
   "execution_count": null,
   "metadata": {},
   "outputs": [
    {
     "data": {
      "text/plain": [
       "(torch.Size([128, 128, 3]), 'torch.ByteTensor', __main__.ByteTensorImage)"
      ]
     },
     "execution_count": null,
     "metadata": {},
     "output_type": "execute_result"
    }
   ],
   "source": [
    "im = PIL.Image.open(TEST_IMAGE).resize((128,128))\n",
    "im_a = array(im)\n",
    "im_bt = ByteTensorImage(im_a)\n",
    "im_bt.shape, im_bt.type(), im_bt._cls"
   ]
  },
  {
   "cell_type": "code",
   "execution_count": null,
   "metadata": {},
   "outputs": [
    {
     "data": {
      "image/png": "[encoded data removed]",
      "text/plain": [
       "<Figure size 72x72 with 1 Axes>"
      ]
     },
     "metadata": {
      "needs_background": "light"
     },
     "output_type": "display_data"
    }
   ],
   "source": [
    "im_bt.show(figsize=(1,1));"
   ]
  },
  {
   "cell_type": "code",
   "execution_count": null,
   "metadata": {},
   "outputs": [],
   "source": [
    "#export\n",
    "def type_ex(x):\n",
    "    \"Type of `x`, using `_cls` if available\"\n",
    "    if not (isinstance(x,Tensor) and hasattr(x,'_cls')): return type(x)\n",
    "    return x._cls"
   ]
  },
  {
   "cell_type": "code",
   "execution_count": null,
   "metadata": {},
   "outputs": [],
   "source": [
    "test_eq(type_ex(3), int)\n",
    "test_eq(type_ex(tensor(1)), Tensor)\n",
    "test_eq(type_ex(im_bt), ByteTensorImage)"
   ]
  },
  {
   "cell_type": "code",
   "execution_count": null,
   "metadata": {},
   "outputs": [],
   "source": [
    "#export\n",
    "def load_image(fn, *args, **kwargs):\n",
    "    im = PIL.Image.open(fn, *args, **kwargs)\n",
    "    im.load()\n",
    "    return im._new(im.im)"
   ]
  },
  {
   "cell_type": "code",
   "execution_count": null,
   "metadata": {},
   "outputs": [],
   "source": [
    "#export\n",
    "class PILBase(PIL.Image.Image):\n",
    "    def __new__(cls, x, *args, **kwargs):\n",
    "        if not isinstance(x,PIL.Image.Image): return super().__new__(cls)\n",
    "        x.__class__ = cls\n",
    "        return x\n",
    "    \n",
    "    def __init__(self, x=None):\n",
    "        if not isinstance(x,PIL.Image.Image): return super().__init__()\n",
    "        \n",
    "    @classmethod\n",
    "    def open(cls, fn, *args, **kwargs): return cls(load_image(fn, *args, **kwargs))"
   ]
  },
  {
   "cell_type": "code",
   "execution_count": null,
   "metadata": {},
   "outputs": [],
   "source": [
    "#export\n",
    "class PILImage(PILBase): pass"
   ]
  },
  {
   "cell_type": "code",
   "execution_count": null,
   "metadata": {},
   "outputs": [],
   "source": [
    "#export\n",
    "class PILMask(PILBase): pass"
   ]
  },
  {
   "cell_type": "code",
   "execution_count": null,
   "metadata": {},
   "outputs": [],
   "source": [
    "im = PILImage.open(TEST_IMAGE)\n",
    "test_eq(type(im), PILImage)"
   ]
  },
  {
   "cell_type": "code",
   "execution_count": null,
   "metadata": {},
   "outputs": [
    {
     "data": {
      "image/png": "[encoded data removed]",
      "text/plain": [
       "<PIL.Image.Image image mode=RGB size=64x64 at 0x7F9325078F98>"
      ]
     },
     "execution_count": null,
     "metadata": {},
     "output_type": "execute_result"
    }
   ],
   "source": [
    "im.resize((64,64))"
   ]
  },
  {
   "cell_type": "code",
   "execution_count": null,
   "metadata": {},
   "outputs": [],
   "source": [
    "im = PILMask.open(TEST_IMAGE)\n",
    "test_eq(type(im), PILMask)"
   ]
  },
  {
   "cell_type": "code",
   "execution_count": null,
   "metadata": {},
   "outputs": [],
   "source": [
    "class TensorBase(Tensor):\n",
    "    def __new__(cls, x, *args, **kwargs):\n",
    "        if not isinstance(x,Tensor): return super().__new__(cls)\n",
    "        x.__class__ = cls\n",
    "        return x\n",
    "    \n",
    "    def __init__(self, *args, **kwargs):\n",
    "        if not (args and isinstance(args[0],Tensor)): return super().__init__(*args, **kwargs)\n",
    "    \n",
    "class TensorImage(TensorBase): pass\n",
    "class TensorMask(TensorBase): pass"
   ]
  },
  {
   "cell_type": "code",
   "execution_count": null,
   "metadata": {},
   "outputs": [],
   "source": [
    "t = tensor([2.,1])"
   ]
  },
  {
   "cell_type": "code",
   "execution_count": null,
   "metadata": {},
   "outputs": [],
   "source": [
    "t2 = TensorImage(t)"
   ]
  },
  {
   "cell_type": "code",
   "execution_count": null,
   "metadata": {},
   "outputs": [
    {
     "data": {
      "text/plain": [
       "True"
      ]
     },
     "execution_count": null,
     "metadata": {},
     "output_type": "execute_result"
    }
   ],
   "source": [
    "isinstance(t2, TensorImage)"
   ]
  },
  {
   "cell_type": "markdown",
   "metadata": {},
   "source": [
    "## Transform -"
   ]
  },
  {
   "cell_type": "code",
   "execution_count": null,
   "metadata": {},
   "outputs": [],
   "source": [
    "#export\n",
    "class TypeDispatch:\n",
    "    \"Dictionary-like object; `__getitem__` matches keys of types using `issubclass`\"\n",
    "    def __init__(self, *funcs):\n",
    "        self.funcs,self.cache = {},{}\n",
    "        for f in funcs: self.add(f)\n",
    "        \n",
    "    def _reset(self):\n",
    "        self.funcs = {k:self.funcs[k] for k in sorted(self.funcs, key=cmp_instance, reverse=True)}\n",
    "        self.cache = {**self.funcs}\n",
    "        \n",
    "    def add(self, f):\n",
    "        \"Add type `t` and function `f`\"\n",
    "        self.funcs[_p1_anno(f) or object] = f\n",
    "        self._reset()\n",
    "        \n",
    "    def __repr__(self): return str({getattr(k,'__name__',str(k)):v.__name__ for k,v in self.funcs.items()})\n",
    "    def __getitem__(self, k):\n",
    "        \"Find first matching type that is a super-class of `k`\"\n",
    "        if k in self.cache: return self.cache[k]\n",
    "        types = [f for f in self.funcs if issubclass(k,f)]\n",
    "        res = self.funcs[types[0]] if types else None\n",
    "        self.cache[k] = res\n",
    "        return res"
   ]
  },
  {
   "cell_type": "code",
   "execution_count": null,
   "metadata": {},
   "outputs": [
    {
     "data": {
      "text/plain": [
       "{'ByteTensorImage': 'f_bti', 'FloatTensorImage': 'f_fti', 'typing.Collection': 'f_col', 'bool': 'f_flt', 'Integral': 'f_nin', 'Number': 'f_num'}"
      ]
     },
     "execution_count": null,
     "metadata": {},
     "output_type": "execute_result"
    }
   ],
   "source": [
    "def f_col(x:typing.Collection): pass\n",
    "def f_nin(x:numbers.Integral): pass\n",
    "def f_bti(x:ByteTensorImage): pass\n",
    "def f_fti(x:FloatTensorImage): pass\n",
    "def f_flt(x:bool): pass\n",
    "def f_num(x:numbers.Number): pass\n",
    "t = TypeDispatch(f_nin,f_fti,f_num,f_bti,f_flt)\n",
    "\n",
    "test_eq(t[int], f_nin)\n",
    "test_eq(t[str], None)\n",
    "test_eq(t[FloatTensorImage], f_fti)\n",
    "test_eq(t[float], f_num)\n",
    "t.add(f_col)\n",
    "test_eq(t[str], f_col)\n",
    "test_eq(t[int], f_nin)\n",
    "t"
   ]
  },
  {
   "cell_type": "code",
   "execution_count": null,
   "metadata": {},
   "outputs": [],
   "source": [
    "#export\n",
    "class TfmMeta(type):\n",
    "    def __new__(cls, name, bases, dct):\n",
    "        res = super().__new__(cls, name, bases, dct)\n",
    "        res.fs = (TypeDispatch(),TypeDispatch())\n",
    "        if hasattr(res,'encodes'): res.fs[True ].add(res.encodes)\n",
    "        if hasattr(res,'decodes'): res.fs[False].add(res.decodes)\n",
    "        return res\n",
    "\n",
    "    def __call__(cls, *args, **kwargs):\n",
    "        f = args[0] if args else None\n",
    "        if isinstance(f,Callable) and f.__name__ in ('decode','encode','_'):\n",
    "            d = cls.fs[f.__name__ != 'decode']\n",
    "            d.add(f)\n",
    "            return f\n",
    "        return super().__call__(*args, **kwargs)"
   ]
  },
  {
   "cell_type": "code",
   "execution_count": null,
   "metadata": {},
   "outputs": [],
   "source": [
    "#export\n",
    "class Transform(metaclass=TfmMeta):\n",
    "    \"Delegates (`__call__`,`decode`) to (`encodes`,`decodes`) if `filt` matches\"\n",
    "    filt,init_enc,as_item_force,as_item = None,False,None,True\n",
    "    def __init__(self, enc=None, dec=None, filt=None, as_item=True):\n",
    "        self.filt,self.as_item = ifnone(filt, self.filt),as_item\n",
    "        self.init_enc = enc or dec\n",
    "        if not self.init_enc: return\n",
    "        self.fs = (TypeDispatch(),TypeDispatch())\n",
    "        if enc: self.fs[True] .add(enc)\n",
    "        if dec: self.fs[False].add(dec)\n",
    "\n",
    "    @property\n",
    "    def use_as_item(self): return ifnone(self.as_item_force, self.as_item)\n",
    "    def __call__(self, x, **kwargs): return self.call(True,  x, **kwargs)\n",
    "    def decode  (self, x, **kwargs): return self.call(False, x, **kwargs)\n",
    "    def __repr__(self): return f'{self.use_as_item} {self.fs}'\n",
    "    \n",
    "    def call(self, is_enc, x, filt=None, **kwargs):\n",
    "        if filt!=self.filt and self.filt is not None: return x\n",
    "        f = self.func(is_enc, x)\n",
    "        if self.use_as_item: return self._do_call(f, x, **kwargs)\n",
    "        return tuple(self._do_call(f_, x_, **kwargs) for f_,x_ in zip(f,x))\n",
    "\n",
    "    def lookup(self, is_enc, x):\n",
    "        f = self.fs[is_enc][type_ex(x)]\n",
    "        return (f or noop) if self.init_enc else MethodType(f or noops, self)\n",
    "    \n",
    "    def func(self, is_enc, x, filt=None):\n",
    "        if self.use_as_item: return self.lookup(is_enc,x)\n",
    "        return [self.lookup(is_enc,x_) for x_ in x]\n",
    "\n",
    "    def _do_call(self, f, x, **kwargs):\n",
    "        if f is None: return x\n",
    "        res = f(x, **kwargs)\n",
    "        typ_r = ifnone(anno_ret(f), type_ex(x))\n",
    "        return typ_r(res) if typ_r!=NoneType and not isinstance(res, typ_r) else res"
   ]
  },
  {
   "cell_type": "markdown",
   "metadata": {},
   "source": [
    "Base class that delegates `__call__` and `decode` to `encodes` and `decodes`, doing nothing if param annotation doesn't match type. If called with listy `x` then it calls function with each item (unless `whole_typle`, in which case it's passed directly as a whole). The function (if matching 1st param type) will cast the result to the same as the input type, unless there's a return annotation (in which case it's cast to that), or the return annotation is `None` (in which case no casting is done)."
   ]
  },
  {
   "cell_type": "markdown",
   "metadata": {},
   "source": [
    "Details: `Transform` is a base class where you override encodes and/or decodes. e.g. `__call__` uses `call` which looks up what to call using `func`. If `whole_tuple` is set, that just returns `encodes` (or `decodes` if not `is_enc`). Otherwise we find the first annotated param with `_p1_anno` and check if `x` is an instance of that (if not `is_listy(x)`). If it is, we return the function (encodes/decodes), otherwise None. `call` then passes on to `_do_call` which does nothing if function is `None`. If `x` is listy, then we return a *list* of {functions or `None`}, and a list of results from `_do_call` for each function is returned."
   ]
  },
  {
   "cell_type": "code",
   "execution_count": null,
   "metadata": {},
   "outputs": [],
   "source": [
    "class A(Transform): pass\n",
    "f = A()\n",
    "test_eq_type(f(2), 2)\n",
    "test_eq_type(f.decode(2.0), 2.0)"
   ]
  },
  {
   "cell_type": "markdown",
   "metadata": {},
   "source": [
    "Return annotation is used to ensure we get an `Int`. Since `decodes` doesn't exist, `decode` does nothing."
   ]
  },
  {
   "cell_type": "code",
   "execution_count": null,
   "metadata": {},
   "outputs": [],
   "source": [
    "class A(Transform):\n",
    "    def encodes(self, x)->Int: return x/2\n",
    "    \n",
    "f = A()\n",
    "test_eq_type(f(2), Int(1))\n",
    "test_eq_type(f.decode(2.0), 2.0)"
   ]
  },
  {
   "cell_type": "markdown",
   "metadata": {},
   "source": [
    "`Transform` will not convert a subclass to a superclass type. For "
   ]
  },
  {
   "cell_type": "code",
   "execution_count": null,
   "metadata": {},
   "outputs": [],
   "source": [
    "class A(Transform):\n",
    "    def encodes(self, x)->PILImage: return x\n",
    "\n",
    "im = load_image(TEST_IMAGE)\n",
    "f = A()\n",
    "t = f(im)\n",
    "test_eq(t, im)\n",
    "test_eq(type(t), PILImage)"
   ]
  },
  {
   "cell_type": "code",
   "execution_count": null,
   "metadata": {},
   "outputs": [],
   "source": [
    "class A(Transform):\n",
    "    def encodes(self, x:ByteTensorImage): return -x\n",
    "    \n",
    "f = A()\n",
    "t = f(im_bt)\n",
    "test_eq(t, -im_bt)\n",
    "test_eq(type_ex(t), ByteTensorImage)"
   ]
  },
  {
   "cell_type": "markdown",
   "metadata": {},
   "source": [
    "Without return annotation we get an `Int` back since that's what was passed."
   ]
  },
  {
   "cell_type": "code",
   "execution_count": null,
   "metadata": {},
   "outputs": [],
   "source": [
    "class A(Transform):\n",
    "    def encodes(self, x): return x/2\n",
    "    \n",
    "f = A()\n",
    "test_eq_type(f(Int(2)), Int(1))\n",
    "test_eq_type(f(2), 1)"
   ]
  },
  {
   "cell_type": "markdown",
   "metadata": {},
   "source": [
    "With return annotation `None` we get back whatever Python creates usually."
   ]
  },
  {
   "cell_type": "code",
   "execution_count": null,
   "metadata": {},
   "outputs": [],
   "source": [
    "class A(Transform):\n",
    "    def encodes(self, x)->None: return x/2\n",
    "    \n",
    "f = A()\n",
    "test_eq_type(f(2), 1.)\n",
    "test_eq_type(f(2.), 1.)"
   ]
  },
  {
   "cell_type": "markdown",
   "metadata": {},
   "source": [
    "Since `decodes` has no return annotation, but `encodes` created an `Int` and we pass that result here to `decode`, we end up with an `Int`."
   ]
  },
  {
   "cell_type": "code",
   "execution_count": null,
   "metadata": {},
   "outputs": [],
   "source": [
    "class A(Transform): \n",
    "    def encodes(self, x)->Int: return x+1\n",
    "    def decodes(self, x): return x-1\n",
    "\n",
    "f = A()\n",
    "t = f(1)\n",
    "test_eq_type(t, Int(2))\n",
    "test_eq_type(f.decode(t), Int(1))"
   ]
  },
  {
   "cell_type": "markdown",
   "metadata": {},
   "source": [
    "If the transform has `filt` then it's only applied if `filt` param matches."
   ]
  },
  {
   "cell_type": "code",
   "execution_count": null,
   "metadata": {},
   "outputs": [],
   "source": [
    "f.filt = 1\n",
    "test_eq(f(1, filt=1),2)\n",
    "test_eq_type(f(1, filt=0), 1)"
   ]
  },
  {
   "cell_type": "code",
   "execution_count": null,
   "metadata": {},
   "outputs": [],
   "source": [
    "class A(Transform): \n",
    "    def encodes(self, xy): x,y=xy; return (x+y,y)\n",
    "    def decodes(self, xy): x,y=xy; return (x-y,y)\n",
    "\n",
    "f = A()\n",
    "t = f((1,2))\n",
    "test_eq(t, (3,2))\n",
    "test_eq(f.decode(t), (1,2))\n",
    "f.filt = 1\n",
    "test_eq(f((1,2), filt=1), (3,2))\n",
    "test_eq(f((1,2), filt=0), (1,2))"
   ]
  },
  {
   "cell_type": "code",
   "execution_count": null,
   "metadata": {},
   "outputs": [],
   "source": [
    "class AL(Transform): \n",
    "    def encodes(self, x): return L(x_+1 for x_ in x)\n",
    "    def decodes(self, x): return L(x_-1 for x_ in x)\n",
    "\n",
    "f = AL()\n",
    "t = f([1,2])\n",
    "test_eq(t, [2,3])\n",
    "test_eq(f.decode(t), [1,2])"
   ]
  },
  {
   "cell_type": "markdown",
   "metadata": {},
   "source": [
    "## TupleTransform"
   ]
  },
  {
   "cell_type": "code",
   "execution_count": null,
   "metadata": {},
   "outputs": [],
   "source": [
    "def neg_int(x:numbers.Integral): return -x\n",
    "\n",
    "f = Transform(neg_int, as_item=False)\n",
    "test_eq(f([1]), (-1,))\n",
    "test_eq(f([1.]), (1.,))\n",
    "test_eq(f([1.,2,3.]), (1.,-2,3.))\n",
    "test_eq(f.decode([1,2]), (1,2))"
   ]
  },
  {
   "cell_type": "code",
   "execution_count": null,
   "metadata": {},
   "outputs": [],
   "source": [
    "#export\n",
    "class TupleTransform(Transform):\n",
    "    \"`Transform` that always treats `as_item` as `False`\"\n",
    "    as_item_force=False"
   ]
  },
  {
   "cell_type": "code",
   "execution_count": null,
   "metadata": {},
   "outputs": [],
   "source": [
    "#export\n",
    "class ItemTransform (Transform):\n",
    "    \"`Transform` that always treats `as_item` as `True`\"\n",
    "    as_item_force=True"
   ]
  },
  {
   "cell_type": "code",
   "execution_count": null,
   "metadata": {},
   "outputs": [],
   "source": [
    "def float_to_int(x:(float,int))->Int: return x\n",
    "\n",
    "f = TupleTransform(float_to_int)\n",
    "test_eq_type(f([1.]), (Int(1),))\n",
    "test_eq_type(f([1]), (Int(1),))\n",
    "test_eq_type(f(['1']), ('1',))\n",
    "test_eq_type(f([1,'1']), (Int(1),'1'))\n",
    "test_eq(f.decode([1]), [1])"
   ]
  },
  {
   "cell_type": "code",
   "execution_count": null,
   "metadata": {},
   "outputs": [],
   "source": [
    "class B(TupleTransform): pass\n",
    "class C(TupleTransform): pass\n",
    "f = B()\n",
    "test_eq(f([1]), [1])"
   ]
  },
  {
   "cell_type": "code",
   "execution_count": null,
   "metadata": {},
   "outputs": [],
   "source": [
    "@B\n",
    "def _(self, x:int): return x+1\n",
    "@B\n",
    "def _(self, x:str): return x+'1'\n",
    "@B\n",
    "def _(self, x)->None: return str(x)+'!'\n",
    "\n",
    "b,c = B(),C()\n",
    "test_eq(b([1]), [2])\n",
    "test_eq(b(['1']), ('11',))\n",
    "test_eq(b([1.0]), ('1.0!',))\n",
    "test_eq(c([1]), [1])\n",
    "test_eq(b([1,2]), (2,3))\n",
    "test_eq(b.decode([2]), [2])\n",
    "assert pickle.loads(pickle.dumps(b))"
   ]
  },
  {
   "cell_type": "code",
   "execution_count": null,
   "metadata": {},
   "outputs": [],
   "source": [
    "@B\n",
    "def decode(self, x:int): return x-1\n",
    "test_eq(b.decode([2]), [1])\n",
    "test_eq(b.decode(('2',)), ('2',))"
   ]
  },
  {
   "cell_type": "markdown",
   "metadata": {},
   "source": [
    "Non-type-constrained functions are applied to all elements of a tuple."
   ]
  },
  {
   "cell_type": "code",
   "execution_count": null,
   "metadata": {},
   "outputs": [],
   "source": [
    "class A(TupleTransform): pass\n",
    "@A\n",
    "def _(self, x): return x+1\n",
    "@A\n",
    "def decode(self, x): return x-1\n",
    "\n",
    "f = A()\n",
    "t = f((1,2.0))\n",
    "test_eq_type(t, (2,3.0))\n",
    "test_eq_type(f.decode(t), (1,2.0))"
   ]
  },
  {
   "cell_type": "markdown",
   "metadata": {},
   "source": [
    "Type-constrained functions are applied to only matching elements of a tuple, and return annotations are only applied where matching."
   ]
  },
  {
   "cell_type": "code",
   "execution_count": null,
   "metadata": {},
   "outputs": [],
   "source": [
    "class B(TupleTransform): pass\n",
    "@B\n",
    "def _(self, x:int)->Int: return x+1\n",
    "@B\n",
    "def _(self, x:str): return x+'1'\n",
    "@B\n",
    "def decode(self, x:Int): return x/2\n",
    "\n",
    "f = B()\n",
    "start = (1.,2,'3')\n",
    "t = f(start)\n",
    "test_eq_type(t, (1.,Int(3),'31'))\n",
    "test_eq(f.decode(t), (1.,Int(1),'31'))"
   ]
  },
  {
   "cell_type": "markdown",
   "metadata": {},
   "source": [
    "The same behavior also works with `typing` module type classes."
   ]
  },
  {
   "cell_type": "code",
   "execution_count": null,
   "metadata": {},
   "outputs": [],
   "source": [
    "class A(Transform): pass\n",
    "@A\n",
    "def _(self, x:numbers.Integral): return x+1\n",
    "@A\n",
    "def _(self, x:float): return x*3\n",
    "@A\n",
    "def decode(self, x:int): return x-1\n",
    "\n",
    "f = A()\n",
    "start = 1.0\n",
    "t = f(start)\n",
    "test_eq(t, 3.)\n",
    "test_eq(f.decode(t), 3)\n",
    "\n",
    "f = A(as_item=False)\n",
    "start = (1.,2,3.)\n",
    "t = f(start)\n",
    "test_eq(t, (3.,3,9.))\n",
    "test_eq(f.decode(t), (3.,2,9.))"
   ]
  },
  {
   "cell_type": "markdown",
   "metadata": {},
   "source": [
    "Transform accepts lists"
   ]
  },
  {
   "cell_type": "code",
   "execution_count": null,
   "metadata": {},
   "outputs": [],
   "source": [
    "def a(x): return L(x_+1 for x_ in x)\n",
    "def b(x): return L(x_-1 for x_ in x)\n",
    "f = TupleTransform(a,b)\n",
    "\n",
    "t = f((L(1,2),))\n",
    "test_eq(t, (L(2,3),))\n",
    "test_eq(f.decode(t), (L(1,2),))"
   ]
  },
  {
   "cell_type": "markdown",
   "metadata": {},
   "source": [
    "## Export -"
   ]
  },
  {
   "cell_type": "code",
   "execution_count": null,
   "metadata": {},
   "outputs": [
    {
     "name": "stdout",
     "output_type": "stream",
     "text": [
      "Converted 00_test.ipynb.\n",
      "Converted 01_core.ipynb.\n",
      "Converted 02_data_pipeline.ipynb.\n",
      "Converted 02_transforms.ipynb.\n",
      "Converted 02a_pipeline.ipynb.\n",
      "Converted 03_data_external.ipynb.\n",
      "Converted 04_data_core.ipynb.\n",
      "Converted 05_data_source.ipynb.\n",
      "Converted 06_vision_core.ipynb.\n",
      "Converted 07_pets_tutorial-meta.ipynb.\n",
      "Converted 07_pets_tutorial.ipynb.\n",
      "Converted 08_vision_augment.ipynb.\n",
      "Converted 09_data_block.ipynb.\n",
      "Converted 10_layers.ipynb.\n",
      "Converted 11_optimizer.ipynb.\n",
      "Converted 12_learner.ipynb.\n",
      "Converted 13_callback_schedule.ipynb.\n",
      "Converted 14_callback_hook.ipynb.\n",
      "Converted 15_callback_progress.ipynb.\n",
      "Converted 16_callback_tracker.ipynb.\n",
      "Converted 17_callback_fp16.ipynb.\n",
      "Converted 30_text_core.ipynb.\n",
      "Converted 90_notebook_core.ipynb.\n",
      "Converted 91_notebook_export.ipynb.\n",
      "Converted 92_notebook_showdoc.ipynb.\n",
      "Converted 93_notebook_export2html.ipynb.\n",
      "Converted 94_index.ipynb.\n",
      "Converted 95_synth_learner.ipynb.\n"
     ]
    }
   ],
   "source": [
    "#hide\n",
    "from local.notebook.export import notebook2script\n",
    "notebook2script(all_fs=True)"
   ]
  },
  {
   "cell_type": "code",
   "execution_count": null,
   "metadata": {},
   "outputs": [],
   "source": []
  }
 ],
 "metadata": {
  "kernelspec": {
   "display_name": "Python 3",
   "language": "python",
   "name": "python3"
  }
 },
 "nbformat": 4,
 "nbformat_minor": 2
}
