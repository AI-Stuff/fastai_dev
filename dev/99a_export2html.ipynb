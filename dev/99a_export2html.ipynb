{
 "cells": [
  {
   "cell_type": "code",
   "execution_count": null,
   "metadata": {},
   "outputs": [],
   "source": [
    "# export\n",
    "from fastai_local.core import *\n",
    "from fastai_local.test import *\n",
    "from fastai_local.imports import *"
   ]
  },
  {
   "cell_type": "code",
   "execution_count": null,
   "metadata": {},
   "outputs": [],
   "source": [
    "# default_exp notebook.export2html"
   ]
  },
  {
   "cell_type": "markdown",
   "metadata": {},
   "source": [
    "# Converting notebooks to html\n",
    "\n",
    "> The functions that transform the dev notebooks in the documentation of the library"
   ]
  },
  {
   "cell_type": "markdown",
   "metadata": {},
   "source": [
    "## Preprocessing notebook"
   ]
  },
  {
   "cell_type": "code",
   "execution_count": null,
   "metadata": {},
   "outputs": [],
   "source": [
    "#export\n",
    "def remove_code_cell_jupyter_widget_state_elem(cells):\n",
    "    widget_str = 'application/vnd.jupyter.widget-view+json'\n",
    "    for c in cells:\n",
    "        if c['cell_type'] == 'code':\n",
    "            if 'outputs' in c:\n",
    "                c['outputs'] = [l for l in c['outputs'] if not ('data' in l and widget_str in l.data)]\n",
    "    return cells"
   ]
  },
  {
   "cell_type": "code",
   "execution_count": null,
   "metadata": {},
   "outputs": [],
   "source": [
    "#export\n",
    "def hide_export_cell(cells):\n",
    "    "
   ]
  },
  {
   "cell_type": "code",
   "execution_count": null,
   "metadata": {},
   "outputs": [],
   "source": [
    "def remove_undoc_cells(cells):\n",
    "    old, _, _ = parse_sections(cells)\n",
    "    return old\n",
    "\n",
    "# currently code vbox sub-cells mainly\n",
    "def remove_code_cell_jupyter_widget_state_elem(cells):\n",
    "    for c in cells:\n",
    "        if c['cell_type'] == 'code':\n",
    "            if 'outputs' in c:\n",
    "                c['outputs'] = [l for l in c['outputs'] if not ('data' in l and 'application/vnd.jupyter.widget-view+json' in l.data)]\n",
    "    return cells"
   ]
  }
 ],
 "metadata": {
  "kernelspec": {
   "display_name": "Python 3",
   "language": "python",
   "name": "python3"
  }
 },
 "nbformat": 4,
 "nbformat_minor": 2
}
