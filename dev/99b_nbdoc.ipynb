{
 "cells": [
  {
   "cell_type": "code",
   "execution_count": null,
   "metadata": {},
   "outputs": [],
   "source": [
    "#default_exp nbdoc"
   ]
  },
  {
   "cell_type": "code",
   "execution_count": null,
   "metadata": {},
   "outputs": [],
   "source": [
    "# export\n",
    "from fastai_local.core import *\n",
    "from fastai_local.imports import *\n",
    "from fastai_local.data.pipeline import *\n",
    "from fastai_local.data.external import *\n",
    "from fastai_local.test import *\n",
    "import inspect"
   ]
  },
  {
   "cell_type": "code",
   "execution_count": null,
   "metadata": {},
   "outputs": [],
   "source": [
    "test_cases = [\n",
    "    listify,    #Basic func\n",
    "    Pipeline,   #Basic class\n",
    "    ConfigKey,  #Enum\n",
    "    compose,    #Func with star args and type annotation\n",
    "    untar_data, #Func with defaults\n",
    "    add_docs    #Func with kwargs\n",
    "]"
   ]
  },
  {
   "cell_type": "code",
   "execution_count": null,
   "metadata": {},
   "outputs": [],
   "source": [
    "def fn_name(ft)->str:\n",
    "    if hasattr(ft, '__name__'):   return ft.__name__\n",
    "    elif hasattr(ft,'_name') and ft._name: return ft._name\n",
    "    else:                          return str(ft).split('.')[-1]"
   ]
  },
  {
   "cell_type": "code",
   "execution_count": null,
   "metadata": {},
   "outputs": [],
   "source": [
    "test_eq([fn_name(o) for o in test_cases], \n",
    "        ['listify', 'Pipeline', 'ConfigKey', 'compose', 'untar_data', 'add_docs'])"
   ]
  },
  {
   "cell_type": "code",
   "execution_count": null,
   "metadata": {},
   "outputs": [],
   "source": [
    "def get_anchor(fn):\n",
    "    if hasattr(fn,'__qualname__'): return fn.__qualname__\n",
    "    if inspect.ismethod(fn): return fn_name(fn.__self__) + '.' + fn_name(fn)\n",
    "    return fn_name(fn)"
   ]
  },
  {
   "cell_type": "code",
   "execution_count": null,
   "metadata": {},
   "outputs": [],
   "source": [
    "test_eq([get_anchor(o) for o in test_cases], \n",
    "        ['listify', 'Pipeline', 'ConfigKey', 'compose', 'untar_data', 'add_docs'])\n",
    "test_eq(get_anchor(Pipeline.composed), 'Pipeline.composed')"
   ]
  },
  {
   "cell_type": "code",
   "execution_count": null,
   "metadata": {},
   "outputs": [],
   "source": []
  },
  {
   "cell_type": "code",
   "execution_count": null,
   "metadata": {},
   "outputs": [],
   "source": [
    "doc =  f'<h{title_level} id=\"{anchor_id}\" class=\"doc_header\">{name}{source_link}{test_link}</h{title_level}>'\n",
    "    doc += f'\\n\\n> {args}\\n\\n'\n",
    "    doc += f'{test_modal}'"
   ]
  }
 ],
 "metadata": {
  "kernelspec": {
   "display_name": "Python 3",
   "language": "python",
   "name": "python3"
  }
 },
 "nbformat": 4,
 "nbformat_minor": 2
}
