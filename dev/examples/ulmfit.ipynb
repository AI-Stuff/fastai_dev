{
 "cells": [
  {
   "cell_type": "code",
   "execution_count": null,
   "metadata": {},
   "outputs": [],
   "source": [
    "#export\n",
    "from local.torch_basics import *\n",
    "from local.test import *\n",
    "from local.core import *\n",
    "from local.layers import *\n",
    "from local.data.all import *\n",
    "from local.notebook.showdoc import show_doc\n",
    "from local.optimizer import *\n",
    "from local.learner import *\n",
    "from local.metrics import *\n",
    "from local.text.core import *\n",
    "from local.text.data import *\n",
    "from local.text.models.core import *\n",
    "from local.text.models.awdlstm import *\n",
    "from local.text.learner import *\n",
    "from local.callback.rnn import *\n",
    "from local.callback.all import *"
   ]
  },
  {
   "cell_type": "markdown",
   "metadata": {},
   "source": [
    "# ULMFiT"
   ]
  },
  {
   "cell_type": "markdown",
   "metadata": {},
   "source": [
    "## Finetune a pretrained Language Model"
   ]
  },
  {
   "cell_type": "markdown",
   "metadata": {},
   "source": [
    "First we get our data and tokenize it."
   ]
  },
  {
   "cell_type": "code",
   "execution_count": null,
   "metadata": {},
   "outputs": [],
   "source": [
    "path = untar_data(URLs.IMDB)\n",
    "tokenize_folder(path, folders=['train', 'test', 'unsup'])"
   ]
  },
  {
   "cell_type": "code",
   "execution_count": null,
   "metadata": {},
   "outputs": [],
   "source": [
    "path = untar_data(URLs.IMDB).parent/'imdb_tok'"
   ]
  },
  {
   "cell_type": "code",
   "execution_count": null,
   "metadata": {},
   "outputs": [],
   "source": [
    "count = pickle.load(open(path/'counter.pkl', 'rb'))\n",
    "vocab = make_vocab(count)"
   ]
  },
  {
   "cell_type": "code",
   "execution_count": null,
   "metadata": {},
   "outputs": [],
   "source": [
    "texts = get_files(path, extensions=['.txt'])"
   ]
  },
  {
   "cell_type": "code",
   "execution_count": null,
   "metadata": {},
   "outputs": [],
   "source": [
    "lens = [int(f.with_suffix('.len').read()) for f in texts]"
   ]
  },
  {
   "cell_type": "code",
   "execution_count": null,
   "metadata": {},
   "outputs": [
    {
     "data": {
      "text/plain": [
       "(100000, 100000)"
      ]
     },
     "execution_count": null,
     "metadata": {},
     "output_type": "execute_result"
    }
   ],
   "source": [
    "len(texts),len(lens)"
   ]
  },
  {
   "cell_type": "markdown",
   "metadata": {},
   "source": [
    "Then we put it in a `DataSource`. For a language model, we don't have targets, so there is only one transform to numericalize the texts. Note that `tokenize_df` returns the count of the words in the corpus to make it easy to create a vocabulary."
   ]
  },
  {
   "cell_type": "code",
   "execution_count": null,
   "metadata": {},
   "outputs": [],
   "source": [
    "def read_file(f): return L(f.read().split(' '))"
   ]
  },
  {
   "cell_type": "code",
   "execution_count": null,
   "metadata": {},
   "outputs": [],
   "source": [
    "splits = RandomSplitter()(texts)\n",
    "vocab = make_vocab(count)\n",
    "dsrc = DataSource(texts, [[read_file, Numericalize(vocab)]], filts=splits)"
   ]
  },
  {
   "cell_type": "markdown",
   "metadata": {},
   "source": [
    "Then we use that `DataSource` to create a `DataBunch`. Here the class of `TfmdDL` we need to use is `LMDataLoader` which will concatenate all the texts in a source (with a shuffle at each epoch for the training set), split it in `bs` chunks then read continuously through it."
   ]
  },
  {
   "cell_type": "code",
   "execution_count": null,
   "metadata": {},
   "outputs": [],
   "source": [
    "bs,sl=256,80\n",
    "dbunch_lm = LMDataLoader.dbunchify(dsrc, lens=lens, bs=bs, seq_len=sl, val_bs=bs)"
   ]
  },
  {
   "cell_type": "code",
   "execution_count": null,
   "metadata": {},
   "outputs": [],
   "source": [
    "dbunch_lm.show_batch()"
   ]
  },
  {
   "cell_type": "markdown",
   "metadata": {},
   "source": [
    "Then we have a convenience method to directly grab a `Learner` from it, using the `AWD_LSTM` architecture."
   ]
  },
  {
   "cell_type": "code",
   "execution_count": null,
   "metadata": {},
   "outputs": [],
   "source": [
    "opt_func = partial(Adam, wd=0.1)\n",
    "learn = language_model_learner(dbunch_lm, AWD_LSTM, vocab, opt_func=opt_func, metrics=[accuracy, Perplexity()], path=path)\n",
    "learn.to_fp16(clip=0.1)"
   ]
  },
  {
   "cell_type": "code",
   "execution_count": null,
   "metadata": {},
   "outputs": [],
   "source": [
    "learn.fit_one_cycle(1, 2e-2, moms=(0.8,0.7,0.8))"
   ]
  },
  {
   "cell_type": "code",
   "execution_count": null,
   "metadata": {},
   "outputs": [],
   "source": [
    "learn.save('stage1')"
   ]
  },
  {
   "cell_type": "code",
   "execution_count": null,
   "metadata": {},
   "outputs": [],
   "source": [
    "learn.load('stage1')"
   ]
  },
  {
   "cell_type": "code",
   "execution_count": null,
   "metadata": {},
   "outputs": [],
   "source": [
    "learn.unfreeze()\n",
    "learn.fit_one_cycle(10, 2e-3, moms=(0.8,0.7,0.8))"
   ]
  },
  {
   "cell_type": "markdown",
   "metadata": {},
   "source": [
    "Once we have fine-tuned the pretrained language model to this corpus, we save the encoder since we will use it for the classifier."
   ]
  },
  {
   "cell_type": "code",
   "execution_count": null,
   "metadata": {},
   "outputs": [],
   "source": [
    "learn.save_encoder('finetuned')"
   ]
  },
  {
   "cell_type": "markdown",
   "metadata": {},
   "source": [
    "## Use it to train a classifier"
   ]
  },
  {
   "cell_type": "code",
   "execution_count": null,
   "metadata": {},
   "outputs": [],
   "source": [
    "texts = get_files(path, extensions=['.txt'], folders=['train', 'test'])"
   ]
  },
  {
   "cell_type": "code",
   "execution_count": null,
   "metadata": {},
   "outputs": [],
   "source": [
    "splits = GrandparentSplitter(valid_name='test')(texts)"
   ]
  },
  {
   "cell_type": "markdown",
   "metadata": {},
   "source": [
    "For classification, we need to use two set of transforms: one to numericalize the texts and the other to encode the labels as categories."
   ]
  },
  {
   "cell_type": "code",
   "execution_count": null,
   "metadata": {},
   "outputs": [],
   "source": [
    "dsrc = DataSource(texts, [[read_file, Numericalize(vocab)], [parent_label, Categorize()]], filts=splits)"
   ]
  },
  {
   "cell_type": "code",
   "execution_count": null,
   "metadata": {},
   "outputs": [],
   "source": [
    "lens = [int(f.with_suffix('.len').read()) for f in texts]"
   ]
  },
  {
   "cell_type": "code",
   "execution_count": null,
   "metadata": {},
   "outputs": [],
   "source": [
    "res = [L(lens, use_list=None)[f] for f in dsrc.filts]"
   ]
  },
  {
   "cell_type": "code",
   "execution_count": null,
   "metadata": {},
   "outputs": [],
   "source": [
    "bs = 64"
   ]
  },
  {
   "cell_type": "code",
   "execution_count": null,
   "metadata": {},
   "outputs": [],
   "source": [
    "trn_dl = SortedDL(dsrc.train, res=res[0], create_batch=pad_collate, after_batch=[Cuda], shuffle=True, drop_last=True, bs=bs)\n",
    "val_dl = SortedDL(dsrc.valid, res=res[1], create_batch=pad_collate, after_batch=[Cuda], bs=bs)\n",
    "dbunch = DataBunch(trn_dl, val_dl)"
   ]
  },
  {
   "cell_type": "code",
   "execution_count": null,
   "metadata": {},
   "outputs": [
    {
     "data": {
      "text/html": [
       "<table border=\"1\" class=\"dataframe\">\n",
       "  <thead>\n",
       "    <tr style=\"text-align: right;\">\n",
       "      <th></th>\n",
       "      <th>text</th>\n",
       "      <th>category</th>\n",
       "    </tr>\n",
       "  </thead>\n",
       "  <tbody>\n",
       "    <tr>\n",
       "      <th>0</th>\n",
       "      <td>xxbos * ! ! - xxup spoilers - ! ! * \\n\\n xxmaj before i begin this , let me say that i have had both the advantages of seeing this movie on the big screen and of having seen the \" authorized xxmaj version \" of this movie , remade by xxmaj stephen xxmaj king , himself , in 1997 . \\n\\n xxmaj both advantages made me appreciate this version of \" the xxmaj shining , \" all the more . \\n\\n xxmaj also , let me say that xxmaj i 've read xxmaj mr . xxmaj king 's book , \" the xxmaj shining \" on many occasions over the years , and while i love the book and am a huge fan of his work , xxmaj stanley xxmaj kubrick 's retelling of this story is far more compelling … and xxup scary . \\n\\n xxmaj kubrick really knows how to convey the terror of the psyche straight to film . xxmaj in the direction of the movie xxup and the writing of the screenplay , itself , he acquired the title \" magus \" beyond question . xxmaj kubrick 's genius is like magic . xxmaj the movie world lost a great director when he died in 1 xxrep 3 9 . xxmaj among his other outstanding credits are : xxmaj eyes xxmaj wide xxmaj shut , 1 xxrep 3 9 ; xxmaj full xxmaj metal xxmaj jacket , 1987 ; xxmaj barry xxmaj lyndon , 1975 ; a xxmaj clockwork xxmaj orange , 1971 ; 2001 : a xxmaj space xxmaj odyssey , 1968 ; xxmaj spartacus , 1960 and many more . \\n\\n xxmaj the xxmaj xxunk ( jack , xxmaj wendy his wife and xxmaj danny , their son ) are living in the xxmaj overlook xxmaj hotel for the winter ; xxmaj jack has been hired as the caretaker . xxmaj it is his job to oversee the xxunk of the hotel during the several months of hard snow , until spring when the xxmaj overlook reopens its doors . xxmaj it seems there are many wealthy and jaded tourists who will flock to the xxmaj colorado xxmaj mountains for a snow - filled summer getaway . \\n\\n xxmaj the xxmaj hotel was an impressive piece of architecture and staging . xxmaj it lent to the atmosphere , by having a dark , yet at the same time \" welcoming \" atmosphere , itself . xxmaj the furnishings and furniture was all period ( late 70 's - early 80 's ) , and the filmography of the landscape approaching the hotel in the opening scene is brilliant . xxmaj it not only lets you enjoy the approach to the xxmaj overlook , it also fixes in your mind how deserted and isolated the xxmaj hotel is from the rest of the world . \\n\\n xxmaj the introduction of xxmaj wendy and xxmaj danny 's characters was a stroke of genius . xxmaj you get the whole story of their past , xxmaj danny 's \" imaginary friend , \" xxmaj tony , and the story of xxmaj jack 's alcoholism all rolled into this nice , neat introductory scene . xxmaj there was no need in stretching the past history out over two hours of the movie ; obviously , xxmaj kubrick saw that from the beginning . \\n\\n xxmaj closing xxmaj day . xxmaj again , the scenic drive up the mountains to the xxmaj hotel ( this time , with family in tow ) , the interaction between xxmaj jack and xxmaj danny was hilarious while also portraying a very disturbing exchange . \\n\\n xxmaj the initial tour through the xxmaj overlook is quite breathtaking , even as the \" staff \" is moving things out , you get a chance to see the majestic fire places , the high cathedral ceilings and expensive furnishings , xxunk and crown xxunk in the architecture . \" they did a good job ! xxmaj pink and gold are my favorite colors . \" ( wendy xxmaj torrence ) xxmaj even the \" staff wing \" is well designed and beautifully built . \\n\\n xxmaj the maze was a magnificent touch , reminiscent of the xxmaj labyrinth in which the xxmaj minotaur of xxmaj crete was xxmaj guardian . xxmaj when xxmaj jack xxmaj nicholson stands at the scaled model of the maze and stares into the center , seeing xxmaj wendy and xxmaj danny entering , it 's a magickal moment ; one that tells you right away , there are heavy energies in that house ; there 's something seriously wrong , already starting . \" i would n't want to go in there unless i had at least an hour to find my way out . \" ( the xxmaj hotel xxmaj manager ) \\n\\n xxmaj scatman xxmaj xxunk , as xxmaj dick xxmaj halloran , was genuine and open in his performance . xxmaj his smiles were natural and his performance was wonderful . xxmaj you could actually believe you were there in the hotel , taking the tour of the kitchen with xxmaj wendy and \" doc . \" xxmaj his explanation of \" the shining \" to xxmaj danny was very well delivered , as was his conversation with the child about xxmaj tony and the xxmaj hotel . xxmaj it was believable and sincere . \\n\\n xxmaj the cut out and pan scan of the hotel itself , with the mountains looming behind , the cold air swirling about , mist coming up from the warm roof of the snowbound hotel , adds so xxup much to the atmosphere of the movie . xxmaj it also marks the \" half - way - to - hell \" point , so to speak ; the turning point in the movie . \\n\\n xxmaj shelley xxmaj duvall 's portrayal of xxmaj wendy xxmaj torrence was masterful . ( so xxup what if she also played xxmaj olive xxmaj oyl ? ! xxmaj it just shows her marvelous diversity ! ) xxmaj honestly , before i saw the movie on the big screen in 1980 , i said , \" xxmaj what ? xxmaj olive xxmaj oyl ? * lol * ( popeye was also released in 1980 . ) xxmaj but i took that back as soon as the movie started . xxmaj she 's brilliant . xxmaj in this xxmaj fiend 's opinion , this is her best performance , to date ! ( although i did love her in xxmaj steve xxmaj martin 's \" roxanne , \" 1987 . ) \\n\\n xxmaj once xxmaj kubrick has established the pearly bits of information of which you , the viewer , need to be in possession : the xxmaj torrence 's past ; xxmaj danny 's broken arm ; xxmaj tony ; the history of the xxmaj hotel itself ; the fact that xxmaj danny is not \" mental , \" but rather clairvoyant instead , and the general layout of the xxmaj hotel ; all of which you get in the opening 3 sequences ; the movie never stops scaring you . \\n\\n xxmaj the two butchered daughters of the previous caretaker , xxmaj delbert xxmaj grady ( the girls having appeared several times to xxmaj danny , first by way of xxmaj tony in the apartment before the family ever left for the hotel ) were icons with which xxmaj danny could identify , and of which he was afraid , at the same time . xxmaj they were haunting ( and haunted ) , themselves and showed xxmaj danny how and where they were killed , in a rather graphic and material way . \\n\\n xxmaj kubrick 's xxmaj tony was written as an attendant spirit , like a spirit guide which he acquired as a result of his arm nearly being wrenched off his body by his own father . xxmaj he was … \" the little boy who lives in my mouth . \" xxmaj he would manifest in the end of xxmaj danny 's finger and physically spoke through xxmaj danny in order to speak xxup to xxmaj danny . xxup not like in the book , i realize , where xxmaj tony was intended by xxmaj stephen xxmaj king to be the projection of xxmaj danny as an older boy , trying to save his father . xxmaj kubrick left out that little twist and it somehow made it more frightening when xxmaj tony \" took … xxmaj danny … over . \" xxmaj the idea of xxmaj danny 's older self projecting back to his younger self is n't … scary . \\n\\n xxmaj the \" woman in the xxmaj shower \" scene , done by xxmaj lia xxmaj xxunk ( about whom i can find no other credits for having done anything before , or since ) as the younger woman and xxmaj billie xxmaj gibson ( who xxup also appears to suffer from a lack of credits for works before or since ) , was seductively obnoxious and thoroughly disgusting . xxmaj it was dramatic , and frightening . xxmaj abhorrent and scary . xxmaj when xxmaj nicholson looks into the mirror and sees her decomposing flesh beneath his hands ; the look of sheer terror on his face was so complete and xxup real . \\n\\n xxmaj jack quickly embarks on his trek from the \" jonesing \" alcoholic to a certifiable insane person . xxmaj the degradation of his character 's mental state is carefully and thoroughly documented by xxmaj kubrick . xxmaj jack 's instant friendship with xxmaj lloyd the xxmaj bartender ( as only alcoholics , would - be mental patients and drug addicts do ) portrays his pressing xxup need of the atmosphere to which xxmaj lloyd xxunk him ; namely , alcohol … \" hair of the dog that bit me . \" ( jack xxmaj torrence ) xxmaj in xxmaj jack 's case , it 's bourbon on the rocks , at no charge to xxmaj jack . \" orders from the house . \" ( lloyd the xxmaj bartender ) xxmaj nice play on words . \\n\\n xxmaj when xxmaj wendy find 's xxmaj jack 's \" screenplay \" is nothing more than page after page of the same line typed over and over , albeit in 8 or 9 different creative styles … when he asks from the shadows , \" how do you like it ? \" and xxmaj wendy whirls and screams with the baseball bat in her hand … is so poignant . xxmaj it 's the point where she realizes how messed up the whole situation is … how messed up xxmaj jack is . xxmaj it 's very scary , dramatic and delivers a strong presence . xxmaj that coupled with xxmaj danny 's visions of the hotel lobby filling with blood , imposed over the scene between xxmaj jack and xxmaj wendy , and with the confrontational ending to this scene , make this possibly xxup the strongest scene of the movie . \\n\\n xxmaj the \" redrum \" scene . xxmaj wow . xxmaj what do i say ? xxmaj what mother would not be totally freaked by awakening to find their young , troubled son standing over them with a huge knife , talking in that freaky little voice , exclaiming \" redrum \" over and over ? xxmaj even if it xxup had no meaning , it would still be as scary as the 7th level of xxup hell . xxmaj it was something everyone could ( and has ) xxunk ) . xxmaj speaking of memorable scenes … \\n\\n xxmaj nicholson 's final assault on his family with an axe was perhaps one of the scariest scenes of movie history . xxmaj his ad - libbed line , \" h xxrep 5 e re 's xxmaj johnny ! \" was a stroke of brilliance and is one of the most memorable scenes in the history of horror . xxmaj it also goes down in horror movie history . \\n\\n xxmaj the ending .. ? xxmaj kubrick 's ending was perfection . i felt it ended beautifully . xxmaj no smarm , no platitudinous whining , no tearfully idiotic ending for xxup this movie . xxmaj just epitomized perfection . xxmaj that 's all xxmaj i 'll say on the subject of the ending . \\n\\n xxmaj who cares what was taken out ? ! xxmaj look what xxmaj kubrick put xxup in . xxmaj rent it , watch it , xxup buy xxup it . xxmaj it 's a classic in the horror genre , and for good reason . xxup it xxup xxunk ! ! \\n\\n * me being xxmaj me * … xxmaj take this movie , and xxunk it in your xxmaj stephen xxmaj king collection , and take the 1997 \" authorized \" version done by xxmaj king and stick it down in the kiddie section . xxmaj that 's where it belongs . . : xxmaj this movie rates a xxunk from the xxmaj fiend : .</td>\n",
       "      <td>pos</td>\n",
       "    </tr>\n",
       "    <tr>\n",
       "      <th>1</th>\n",
       "      <td>xxbos xxmaj some have praised xxunk xxmaj lost xxmaj xxunk as a xxmaj disney adventure for adults . i do n't think so -- at least not for thinking adults . \\n\\n xxmaj this script suggests a beginning as a live - action movie , that struck someone as the type of crap you can not sell to adults anymore . xxmaj the \" crack staff \" of many older adventure movies has been done well before , ( think xxmaj the xxmaj dirty xxmaj dozen ) but xxunk represents one of the worse films in that motif . xxmaj the characters are weak . xxmaj even the background that each member trots out seems stock and awkward at best . xxmaj an xxup md / xxmaj medicine xxmaj man , a tomboy mechanic whose father always wanted sons , if we have not at least seen these before , we have seen mix - and - match quirks before . xxmaj the story about how one companion , xxmaj vinny played by xxmaj don xxmaj novello ( fr . xxmaj guido xxmaj sarducci ) , went from flower stores to demolitions totally unconvincing . \\n\\n xxmaj only the main character , xxmaj milo xxmaj thatch , a young xxmaj atlantis - obsessed academic voiced by xxmaj michael xxup j. xxmaj fox , has any depth to him . xxmaj milo 's search for xxmaj atlantis continues that of his grandfather who raised him . xxmaj the opening scene shows a much younger xxmaj milo giddily perched on a knee , as his grandfather places his pith helmet on his head . \\n\\n xxmaj and while the characters were thin at best , the best part about xxunk was the voice talent . xxmaj commander xxmaj rourke loses nothing being voiced by xxmaj james xxmaj garner . xxmaj although xxmaj rourke is a pretty stock military type , xxmaj garner shows his ability to breath life into characters simply by his delivery . xxmaj garner 's vocal performance is the high point . xxmaj i 'm sorry to say xxmaj leonard xxmaj nimoy 's xxmaj dying xxmaj king is nothing more than obligatory . xxmaj additionally , xxmaj don xxmaj novello as the demolition expert , xxmaj vinny xxmaj xxunk , was also notable for one or two well - done , funny lines -- but xxmaj i 've always liked xxmaj father xxmaj guido xxmaj sarducci , anyway . \\n\\n xxmaj also well done was the xxmaj computer xxmaj animation . xxmaj the xxup background animation , that is . xxmaj the character animation does nothing if not make already flat characters appear even flatter . xxmaj aside from landscapes , buildings and vehicles there is n't much to impress . \\n\\n xxmaj the plot was the worst . xxmaj some say hackneyed or trite . xxmaj i 'm not so sure about that . xxmaj any serviceable plot can be made into something new with the proper treatment . xxmaj shakespeare often started from a known story and plot and was famous only for putting on a new coat of paint . xxmaj so the treatment is the thing . xxmaj and xxunk obviously lacks that . \\n\\n i can not begin to go into all the logic gaps without a spoiler section . xxmaj the plot was bad . xxmaj the plot 's bridges snap like twine and the ending does not make sense . xxmaj to add to that , the script and the animation is peppered with annoying sloppiness . \\n\\n * * xxup spoilers * * \\n\\n xxmaj right at the beginning when xxmaj milo reveals that runic or xxmaj celtic symbols have been wrongly xxunk and the \" coast of xxmaj ireland \" should read the \" coast of xxmaj iceland \" , we begin to have problems . xxmaj the writers of the script would need to know the xxmaj british take for xxmaj xxunk or xxmaj xxunk as \" ireland \" , and completely ignore the older , xxmaj latin term xxmaj xxunk . xxmaj but more than this , they need to know of the xxmaj vikings conspiracy to call the greener island xxmaj iceland and the xxunk island xxmaj greenland . \\n\\n xxmaj by making it the matter of a mis - xxunk \" letter \" , the writers have doomed themselves to requiring a runic version of xxmaj english and a post - roman date on the script . xxmaj since this is long after xxmaj atlantis was supposed to have sunk into its undersea cave . xxmaj and without visible clues and less technology than xxmaj milo had , made the inscription far less trustworthy . \\n\\n xxmaj the xxmaj shepherd 's xxmaj journal could not be written before the sinking of xxmaj atlantis , or it would know nothing about the cave or the crystal lying \" in the xxmaj king 's eye \" . xxmaj it must have been written after the sinking , but without even the technology that xxmaj milo 's expedition had , how the heck did anybody get by the xxmaj leviathan . xxmaj so how could it know more about anything after that ? xxmaj and why would it be written in xxmaj atlantian ? \\n\\n xxmaj automatic writing and clairvoyance or astral travel can explain these things . xxmaj however clairvoyance and astral travel do not require to write in xxmaj atlantian . xxmaj so it 's got to be some sort automatic writing . xxmaj since no - one left in xxmaj atlantis can read , it must be the spirits of the crystal beaming messages to the surface . xxmaj this would have made more sense . xxmaj but could also have been explained within the movie : xxmaj milo could shepherd have discovered that this power had been calling him all his life -- appeared in dreams , etc . xxmaj this needed to be explored in the movie . \\n\\n xxmaj the xxmaj atlantians should simply not be able to comprehend modern languages . xxmaj no - one expects that the original indo - europeans would be able to converse in xxmaj europe , anymore than xxmaj romans would understand that hard \" xxunk or their day became xxmaj french \" xxunk ( pronounced like \" xxunk , no less ! ) \\n\\n xxmaj current xxmaj atlantians were alive before the cataclysm -- when apparently they * could * read , yet now are unable to read what they used to , or operate similar machinery . \\n\\n xxmaj the xxmaj mass xxmaj illiteracy points out a crucial flaw in the movie . xxup nothing seems to have happened to this culture . xxmaj it seems suspended in air until xxmaj milo can rescue it . xxmaj even though it appears that life is not a constant struggle for survival , no - one wants to compose poetry or write novels and perhaps it is a combination of xxmaj atlantian school systems going downhill toward the end and lack of good fiction that caused xxmaj atlantis to fall into illiteracy . \\n\\n xxmaj kida can be excused for not knowing how to read or operate the machinery if she was so young when the xxmaj cataclysm of xxmaj stupidity set in -- but xxup any xxup of xxup it * * hardly * * qualifies her father for xxmaj xxunk ! ! xxmaj kashakim 's foolishness almost single - handedly wiped his people from existence . xxmaj killed a bunch in the cataclysm , stalled progress ( not a lot killed here , but he oversaw a massive slide in culture and progress ) until someone could take the crystal to kill everybody , if they were n't boiled in lava first because the xxmaj giant xxmaj robots were n't there to protect them . \\n\\n a bolt of blue electricity should have shattered xxmaj kashakim 's likeness , when xxmaj kida tried joining her father 's image to the circle of xxup great xxmaj kings of xxmaj atlantis ! \\n\\n xxmaj even though xxmaj milo was the only one who could read xxmaj atlantian , xxmaj rourke and others knew enough to look through a book of gibberish and find a page on a crystal -- which he knew to be a crystal and not some stylized astrological or \" phases of the sun \" diagram . \\n\\n xxmaj if xxmaj milo 's grandfather had told xxmaj rourke about it , it still does not explain how xxmaj rourke would have suffered from xxmaj milo 's reading it as part of the book . xxmaj ripping out the page -- which was dog - eared in xxmaj rourke 's hand , even though xxmaj milo found xxup no sign of a torn page in the book apparently -- only was there to tip off the viewer that \" something was not quite right \" . xxmaj unless the word \" crystal \" would have set alarms off in xxmaj milo 's head that somebody would try to steal it , xxmaj milo would have suspected nothing . xxmaj it 's just thick - headed foreshadowing . \\n\\n xxmaj the crew 's \" double - cross \" was not a character change . xxmaj we learned that xxmaj vinny , xxmaj sweet , xxmaj audrey and xxmaj cookie had been going along with xxmaj rourke from the beginning . xxmaj however , the \" change of heart \" falls flat . xxmaj it was a change , and needed to be better motivated . xxmaj hard to do with characters who were n't given anything to begin with . \\n\\n xxmaj niggling little bit that the lava flows up over the dome , instead of filling in the rest of the area that we view the sequence from . xxmaj it 's liquid ; it will not flow over the protective dome until it fills up all lower areas . \\n\\n xxmaj the ending xxup xxunk and makes no sense other than to appease political correctness . xxmaj with it 's xxunk restored , xxmaj atlantis is no longer a weak power , needing coddling . xxmaj the giant robot guardians and the sky - cycles shooting blue lightning suggest that they have less to fear from us than they might . xxmaj the technology is superior to ours , and definitely to early 20th - century . xxmaj in the end xxmaj milo needs to teach the xxmaj atlantians to read , for what ? xxmaj the whole idea is to leave their little quiet , chastened culture alone , not to send it into xxunk . \\n\\n * * xxup end xxup spoilers * * \\n\\n xxmaj perhaps , the xxmaj lost xxmaj world plot and the turn - of - the - century setting should give me a hint that this is more an homage to pulps . xxmaj the failures i find with the film agree with this idea . xxmaj but i am at a loss why i should pay to see thin characters and plot holes simply because many dime novels had them as well . xxmaj and pulp stories is part of the \" crap they ca n't sell adults anymore \" , anyway . xxmaj we have become a bit more sophisticated and our pulp needs to grow up as well . xxmaj raiders of the xxmaj lost xxmaj ark lost none of its pulp feel and avoided so much badness . \\n\\n 4 out of 10 - -the movie is enjoyable but as i think about the plot , it seeps ever lower .</td>\n",
       "      <td>neg</td>\n",
       "    </tr>\n",
       "  </tbody>\n",
       "</table>"
      ],
      "text/plain": [
       "<IPython.core.display.HTML object>"
      ]
     },
     "metadata": {},
     "output_type": "display_data"
    }
   ],
   "source": [
    "dbunch.show_batch(max_n=2)"
   ]
  },
  {
   "cell_type": "markdown",
   "metadata": {},
   "source": [
    "Then we once again have a convenience function to create a classifier from this `DataBunch` with the `AWD_LSTM` architecture."
   ]
  },
  {
   "cell_type": "code",
   "execution_count": null,
   "metadata": {},
   "outputs": [],
   "source": [
    "opt_func = partial(Adam, wd=0.1)\n",
    "learn = text_classifier_learner(dbunch, AWD_LSTM, vocab, metrics=[accuracy], path=path, drop_mult=0.5, opt_func=opt_func)"
   ]
  },
  {
   "cell_type": "markdown",
   "metadata": {},
   "source": [
    "We load our pretrained encoder."
   ]
  },
  {
   "cell_type": "code",
   "execution_count": null,
   "metadata": {},
   "outputs": [],
   "source": [
    "learn = learn.load_encoder('finetuned')"
   ]
  },
  {
   "cell_type": "markdown",
   "metadata": {},
   "source": [
    "Then we can train with gradual unfreezing and differential learning rates."
   ]
  },
  {
   "cell_type": "code",
   "execution_count": null,
   "metadata": {},
   "outputs": [],
   "source": [
    "lr = 1e-1 * bs/128"
   ]
  },
  {
   "cell_type": "code",
   "execution_count": null,
   "metadata": {},
   "outputs": [
    {
     "data": {
      "text/html": [
       "<table border=\"1\" class=\"dataframe\">\n",
       "  <thead>\n",
       "    <tr style=\"text-align: left;\">\n",
       "      <th>epoch</th>\n",
       "      <th>train_loss</th>\n",
       "      <th>valid_loss</th>\n",
       "      <th>accuracy</th>\n",
       "      <th>time</th>\n",
       "    </tr>\n",
       "  </thead>\n",
       "  <tbody>\n",
       "    <tr>\n",
       "      <td>0</td>\n",
       "      <td>0.432456</td>\n",
       "      <td>0.216977</td>\n",
       "      <td>0.914560</td>\n",
       "      <td>01:23</td>\n",
       "    </tr>\n",
       "  </tbody>\n",
       "</table>"
      ],
      "text/plain": [
       "<IPython.core.display.HTML object>"
      ]
     },
     "metadata": {},
     "output_type": "display_data"
    }
   ],
   "source": [
    "learn.fit_one_cycle(1, lr, moms=(0.8,0.7,0.8), wd=0.1)"
   ]
  },
  {
   "cell_type": "code",
   "execution_count": null,
   "metadata": {},
   "outputs": [
    {
     "data": {
      "text/html": [
       "<table border=\"1\" class=\"dataframe\">\n",
       "  <thead>\n",
       "    <tr style=\"text-align: left;\">\n",
       "      <th>epoch</th>\n",
       "      <th>train_loss</th>\n",
       "      <th>valid_loss</th>\n",
       "      <th>accuracy</th>\n",
       "      <th>time</th>\n",
       "    </tr>\n",
       "  </thead>\n",
       "  <tbody>\n",
       "    <tr>\n",
       "      <td>0</td>\n",
       "      <td>0.270958</td>\n",
       "      <td>0.182856</td>\n",
       "      <td>0.931280</td>\n",
       "      <td>01:38</td>\n",
       "    </tr>\n",
       "  </tbody>\n",
       "</table>"
      ],
      "text/plain": [
       "<IPython.core.display.HTML object>"
      ]
     },
     "metadata": {},
     "output_type": "display_data"
    }
   ],
   "source": [
    "learn.freeze_to(-2)\n",
    "lr /= 2\n",
    "learn.fit_one_cycle(1, slice(lr/(2.6**4),lr), moms=(0.8,0.7,0.8), wd=0.1)"
   ]
  },
  {
   "cell_type": "code",
   "execution_count": null,
   "metadata": {},
   "outputs": [
    {
     "data": {
      "text/html": [
       "<table border=\"1\" class=\"dataframe\">\n",
       "  <thead>\n",
       "    <tr style=\"text-align: left;\">\n",
       "      <th>epoch</th>\n",
       "      <th>train_loss</th>\n",
       "      <th>valid_loss</th>\n",
       "      <th>accuracy</th>\n",
       "      <th>time</th>\n",
       "    </tr>\n",
       "  </thead>\n",
       "  <tbody>\n",
       "    <tr>\n",
       "      <td>0</td>\n",
       "      <td>0.208677</td>\n",
       "      <td>0.169175</td>\n",
       "      <td>0.934000</td>\n",
       "      <td>02:14</td>\n",
       "    </tr>\n",
       "  </tbody>\n",
       "</table>"
      ],
      "text/plain": [
       "<IPython.core.display.HTML object>"
      ]
     },
     "metadata": {},
     "output_type": "display_data"
    }
   ],
   "source": [
    "learn.freeze_to(-3)\n",
    "lr /= 2\n",
    "learn.fit_one_cycle(1, slice(lr/(2.6**4),lr), moms=(0.8,0.7,0.8), wd=0.1)"
   ]
  },
  {
   "cell_type": "code",
   "execution_count": null,
   "metadata": {},
   "outputs": [
    {
     "data": {
      "text/html": [
       "\n",
       "    <div>\n",
       "        <style>\n",
       "            /* Turns off some styling */\n",
       "            progress {\n",
       "                /* gets rid of default border in Firefox and Opera. */\n",
       "                border: none;\n",
       "                /* Needs to be in here for Safari polyfill so background images work as expected. */\n",
       "                background-size: auto;\n",
       "            }\n",
       "            .progress-bar-interrupted, .progress-bar-interrupted::-webkit-progress-bar {\n",
       "                background: #F44336;\n",
       "            }\n",
       "        </style>\n",
       "      <progress value='1' class='' max='2', style='width:300px; height:20px; vertical-align: middle;'></progress>\n",
       "      50.00% [1/2 02:46<02:46]\n",
       "    </div>\n",
       "    \n",
       "<table border=\"1\" class=\"dataframe\">\n",
       "  <thead>\n",
       "    <tr style=\"text-align: left;\">\n",
       "      <th>epoch</th>\n",
       "      <th>train_loss</th>\n",
       "      <th>valid_loss</th>\n",
       "      <th>accuracy</th>\n",
       "      <th>time</th>\n",
       "    </tr>\n",
       "  </thead>\n",
       "  <tbody>\n",
       "    <tr>\n",
       "      <td>0</td>\n",
       "      <td>0.151267</td>\n",
       "      <td>0.176616</td>\n",
       "      <td>0.935760</td>\n",
       "      <td>02:46</td>\n",
       "    </tr>\n",
       "  </tbody>\n",
       "</table><p>\n",
       "\n",
       "    <div>\n",
       "        <style>\n",
       "            /* Turns off some styling */\n",
       "            progress {\n",
       "                /* gets rid of default border in Firefox and Opera. */\n",
       "                border: none;\n",
       "                /* Needs to be in here for Safari polyfill so background images work as expected. */\n",
       "                background-size: auto;\n",
       "            }\n",
       "            .progress-bar-interrupted, .progress-bar-interrupted::-webkit-progress-bar {\n",
       "                background: #F44336;\n",
       "            }\n",
       "        </style>\n",
       "      <progress value='46' class='' max='391', style='width:300px; height:20px; vertical-align: middle;'></progress>\n",
       "      11.76% [46/391 00:12<01:37 0.1093]\n",
       "    </div>\n",
       "    "
      ],
      "text/plain": [
       "<IPython.core.display.HTML object>"
      ]
     },
     "metadata": {},
     "output_type": "display_data"
    }
   ],
   "source": [
    "learn.unfreeze()\n",
    "lr /= 5\n",
    "learn.fit_one_cycle(2, slice(lr/(2.6**4),lr), moms=(0.8,0.7,0.8), wd=0.1)"
   ]
  },
  {
   "cell_type": "code",
   "execution_count": null,
   "metadata": {},
   "outputs": [],
   "source": []
  }
 ],
 "metadata": {
  "kernelspec": {
   "display_name": "Python 3",
   "language": "python",
   "name": "python3"
  }
 },
 "nbformat": 4,
 "nbformat_minor": 2
}
