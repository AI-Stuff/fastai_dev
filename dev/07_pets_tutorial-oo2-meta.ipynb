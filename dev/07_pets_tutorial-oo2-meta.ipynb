{
 "cells": [
  {
   "cell_type": "markdown",
   "metadata": {},
   "source": [
    "# Tutorial: Using `fastai.data` low-level APIs\n",
    "\n",
    "> Using `DataSource`, `Pipeline`, `TfmdList`, `TfmOver`, and `Transform`"
   ]
  },
  {
   "cell_type": "code",
   "execution_count": null,
   "metadata": {},
   "outputs": [],
   "source": [
    "from local.imports import *\n",
    "from local.test import *\n",
    "from local.core import *\n",
    "from local.data.pipeline import *\n",
    "from local.data.source import *\n",
    "from local.data.core import *\n",
    "from local.vision.core import *\n",
    "from local.data.external import *"
   ]
  },
  {
   "cell_type": "code",
   "execution_count": null,
   "metadata": {},
   "outputs": [],
   "source": [
    "from PIL.ImageFile import ImageFile"
   ]
  },
  {
   "cell_type": "code",
   "execution_count": null,
   "metadata": {},
   "outputs": [],
   "source": [
    "#torch.cuda.set_device(6)"
   ]
  },
  {
   "cell_type": "markdown",
   "metadata": {},
   "source": [
    "## Overview"
   ]
  },
  {
   "cell_type": "markdown",
   "metadata": {},
   "source": [
    "- start with list of filenames\n",
    "- end with iterator of tensor batches\n",
    "- display a batch\n",
    "- display a prediction\n",
    "  - a prediction should be same structure as a batch (?)\n",
    "- filename -> (image,label)\n",
    "- image:\n",
    "  - open\n",
    "  - make tensor\n",
    "  - augment (at PIL, image tensor, or batch tensor level)\n",
    "    - don't apply to valid set; toggle on/off as needed (e.g. fix_dl)\n",
    "    - same rand for x/y\n",
    "    - segment needs nearest neighbor, bbox/points need different funcs\n",
    "  - show: dataset-wide params like cmap and alpha; denorm params; to_cpu\n",
    "- label:\n",
    "  - view text (needs state: vocab)\n",
    "  - get number\n",
    "- batch:\n",
    "  - concat tuples\n",
    "  - normalize\n",
    "  - CUDA / float tensor\n",
    "  - augment"
   ]
  },
  {
   "cell_type": "markdown",
   "metadata": {},
   "source": [
    "## v1"
   ]
  },
  {
   "cell_type": "code",
   "execution_count": null,
   "metadata": {},
   "outputs": [
    {
     "data": {
      "image/png": "[encoded data removed]",
      "text/plain": [
       "<PIL.PngImagePlugin.PngImageFile image mode=L size=28x28 at 0x7F0D06917748>"
      ]
     },
     "execution_count": null,
     "metadata": {},
     "output_type": "execute_result"
    }
   ],
   "source": [
    "source = untar_data(URLs.MNIST_TINY)/'train'\n",
    "items = get_image_files(source)\n",
    "fn = items[0]\n",
    "img = PIL.Image.open(fn); img"
   ]
  },
  {
   "cell_type": "code",
   "execution_count": null,
   "metadata": {},
   "outputs": [],
   "source": [
    "def mk_tensor(im): return tensor(array(im))[None]"
   ]
  },
  {
   "cell_type": "code",
   "execution_count": null,
   "metadata": {},
   "outputs": [
    {
     "data": {
      "text/plain": [
       "(torch.Size([1, 28, 28]), torch.Tensor)"
      ]
     },
     "execution_count": null,
     "metadata": {},
     "output_type": "execute_result"
    }
   ],
   "source": [
    "imgt = mk_tensor(img)\n",
    "imgt.shape,type(imgt)"
   ]
  },
  {
   "cell_type": "code",
   "execution_count": null,
   "metadata": {},
   "outputs": [
    {
     "data": {
      "text/plain": [
       "('3', 0)"
      ]
     },
     "execution_count": null,
     "metadata": {},
     "output_type": "execute_result"
    }
   ],
   "source": [
    "lbls = items.mapped(parent_label)\n",
    "itos,stoi = uniqueify(lbls, bidir=True, sort=True)\n",
    "lbls[0], stoi['3']"
   ]
  },
  {
   "cell_type": "code",
   "execution_count": null,
   "metadata": {},
   "outputs": [
    {
     "data": {
      "image/png": "[encoded data removed]",
      "text/plain": [
       "<Figure size 72x72 with 1 Axes>"
      ]
     },
     "metadata": {
      "needs_background": "light"
     },
     "output_type": "display_data"
    }
   ],
   "source": [
    "show_image(imgt, title=lbls[0], figsize=(1,1), cmap=\"Greys\");"
   ]
  },
  {
   "cell_type": "code",
   "execution_count": null,
   "metadata": {},
   "outputs": [],
   "source": [
    "@patch\n",
    "def dihedral(im:ImageFile, idx=0): return im.transpose(idx-1) if idx>=1 else im\n",
    "def rand_dihedral(im): return im.dihedral(random.randint(0,7))"
   ]
  },
  {
   "cell_type": "code",
   "execution_count": null,
   "metadata": {},
   "outputs": [
    {
     "data": {
      "image/png": "[encoded data removed]",
      "text/plain": [
       "<Figure size 72x72 with 1 Axes>"
      ]
     },
     "metadata": {
      "needs_background": "light"
     },
     "output_type": "display_data"
    }
   ],
   "source": [
    "pipe_open = compose(PIL.Image.open, rand_dihedral, mk_tensor)\n",
    "\n",
    "class MNIST():\n",
    "    def __getitem__(self,i): return pipe_open(items[i]), stoi[lbls[i]]\n",
    "    def __len__(self): return len(items)\n",
    "\n",
    "ds = MNIST()\n",
    "show_titled_image(ds[0], figsize=(1,1), cmap=\"Greys\")"
   ]
  },
  {
   "cell_type": "code",
   "execution_count": null,
   "metadata": {},
   "outputs": [],
   "source": [
    "dl = DataLoader(ds, batch_size=9)\n",
    "b = next(iter(dl))\n",
    "x,y = to_device(b)\n",
    "x = x.float()/255."
   ]
  },
  {
   "cell_type": "code",
   "execution_count": null,
   "metadata": {},
   "outputs": [],
   "source": [
    "def normalize  (o,m,s): return (o-m)/s\n",
    "def denormalize(o,m,s): return (o*s)+m\n",
    "\n",
    "def decode_vocab(o, v): return [v[o_] for o_ in o]"
   ]
  },
  {
   "cell_type": "code",
   "execution_count": null,
   "metadata": {},
   "outputs": [
    {
     "data": {
      "text/plain": [
       "(tensor(0.0727, device='cuda:0'), tensor(0.9880, device='cuda:0'))"
      ]
     },
     "execution_count": null,
     "metadata": {},
     "output_type": "execute_result"
    }
   ],
   "source": [
    "m,s = 0.1,0.3\n",
    "x = normalize(x,m,s)\n",
    "x.mean(),x.std()"
   ]
  },
  {
   "cell_type": "code",
   "execution_count": null,
   "metadata": {},
   "outputs": [],
   "source": [
    "denorm = partial(denormalize,m=m,s=s)\n",
    "decode = partial(decode_vocab, v=itos)"
   ]
  },
  {
   "cell_type": "code",
   "execution_count": null,
   "metadata": {},
   "outputs": [
    {
     "data": {
      "image/png": "[encoded data removed]",
      "text/plain": [
       "<Figure size 288x288 with 9 Axes>"
      ]
     },
     "metadata": {
      "needs_background": "light"
     },
     "output_type": "display_data"
    }
   ],
   "source": [
    "show_image_batch((denorm(x),decode(y)), cmap=\"Greys\", figsize=(4,4))"
   ]
  },
  {
   "cell_type": "markdown",
   "metadata": {},
   "source": [
    "## v2"
   ]
  },
  {
   "cell_type": "code",
   "execution_count": null,
   "metadata": {},
   "outputs": [],
   "source": [
    "vocab = SimpleNamespace(itos=itos,stoi=stoi)"
   ]
  },
  {
   "cell_type": "code",
   "execution_count": null,
   "metadata": {},
   "outputs": [],
   "source": [
    "def floatify(o): return o.float()/255."
   ]
  },
  {
   "cell_type": "code",
   "execution_count": null,
   "metadata": {},
   "outputs": [],
   "source": [
    "def _get_types(func):\n",
    "    sig = inspect.signature(func)\n",
    "    t_out = sig.return_annotation if sig.return_annotation != inspect._empty else None\n",
    "    t_in = getattr(next(iter(sig.parameters.items())), 'annotation', None)\n",
    "    return (t_in,t_out)\n",
    "\n",
    "def _check_same(t1, t2):\n",
    "    assert t1 is None or t2 is None or t1 == t2\n",
    "    return t2 if t1 is None else t1"
   ]
  },
  {
   "cell_type": "code",
   "execution_count": null,
   "metadata": {},
   "outputs": [],
   "source": [
    "class Transform(metaclass=PrePostInitMeta):\n",
    "    def __init__(self, encodes=None):\n",
    "        if encodes is not None: self.encodes = encodes\n",
    "    \n",
    "    def __post_init__(self):\n",
    "        self.type_in,self.type_out = _get_types(self.encodes)\n",
    "        if hasattr(self, 'decodes'):\n",
    "            t_out,t_in = _get_types(self.decodes)\n",
    "            self.type_in  = _check_same(self.type_in,  t_in)\n",
    "            self.type_out = _check_same(self.type_out, t_out)\n",
    "\n",
    "    def __call__(self, m, t=None): \n",
    "        return (self.encodes(m), t if self.type_out is None else self.type_out)\n",
    "    def decode(self, m, t=None):   \n",
    "        return (getattr(self, 'decodes', noop)(m), t if self.type_in is None else self.type_in)"
   ]
  },
  {
   "cell_type": "code",
   "execution_count": null,
   "metadata": {},
   "outputs": [],
   "source": [
    "class Normalize(Transform):\n",
    "    def __init__(self, m, s): self.m,self.s = m,s\n",
    "    def encodes(self,o): return (o-self.m)/self.s \n",
    "    def decodes(self,o): return (o*self.s)+self.m \n",
    "\n",
    "norm_mnist = Normalize(m,s)"
   ]
  },
  {
   "cell_type": "code",
   "execution_count": null,
   "metadata": {},
   "outputs": [
    {
     "data": {
      "text/plain": [
       "(tensor(0.1983), tensor(0.3761))"
      ]
     },
     "execution_count": null,
     "metadata": {},
     "output_type": "execute_result"
    }
   ],
   "source": [
    "imgt = floatify(imgt)\n",
    "imgt.mean(),imgt.std()"
   ]
  },
  {
   "cell_type": "code",
   "execution_count": null,
   "metadata": {},
   "outputs": [
    {
     "data": {
      "text/plain": [
       "(tensor(0.3277), tensor(1.2535))"
      ]
     },
     "execution_count": null,
     "metadata": {},
     "output_type": "execute_result"
    }
   ],
   "source": [
    "imgn = norm_mnist(imgt)[0]\n",
    "imgn.mean(),imgn.std()"
   ]
  },
  {
   "cell_type": "code",
   "execution_count": null,
   "metadata": {},
   "outputs": [
    {
     "data": {
      "text/plain": [
       "(tensor(0.1983), tensor(0.3761))"
      ]
     },
     "execution_count": null,
     "metadata": {},
     "output_type": "execute_result"
    }
   ],
   "source": [
    "imgt2 = norm_mnist.decode(imgn)[0]\n",
    "imgt2.mean(),imgt2.std()"
   ]
  },
  {
   "cell_type": "code",
   "execution_count": null,
   "metadata": {},
   "outputs": [],
   "source": [
    "class String():\n",
    "    @staticmethod\n",
    "    def show(o, ctx=None, **kwargs): return show_title(str(o), ctx=ctx)"
   ]
  },
  {
   "cell_type": "code",
   "execution_count": null,
   "metadata": {},
   "outputs": [
    {
     "name": "stdout",
     "output_type": "stream",
     "text": [
      "3\n"
     ]
    }
   ],
   "source": [
    "String.show(\"3\")"
   ]
  },
  {
   "cell_type": "code",
   "execution_count": null,
   "metadata": {},
   "outputs": [],
   "source": [
    "class Categorify(Transform):\n",
    "    def __init__(self, vocab): self.vocab = vocab\n",
    "    def encodes(self, s): return self.vocab.stoi[getattr(s, 'data', s)]\n",
    "    def decodes(self, i) -> String: return self.vocab.itos[i]"
   ]
  },
  {
   "cell_type": "code",
   "execution_count": null,
   "metadata": {},
   "outputs": [],
   "source": [
    "tst = Categorify(vocab)"
   ]
  },
  {
   "cell_type": "code",
   "execution_count": null,
   "metadata": {},
   "outputs": [
    {
     "data": {
      "text/plain": [
       "(None, __main__.String)"
      ]
     },
     "execution_count": null,
     "metadata": {},
     "output_type": "execute_result"
    }
   ],
   "source": [
    "tst.type_out,tst.type_in"
   ]
  },
  {
   "cell_type": "code",
   "execution_count": null,
   "metadata": {},
   "outputs": [],
   "source": [
    "class TensorImage():\n",
    "    @staticmethod\n",
    "    def show(o, ctx=None, **kwargs): return show_image(to_cpu(o), ctx=ctx, **kwargs)"
   ]
  },
  {
   "cell_type": "code",
   "execution_count": null,
   "metadata": {},
   "outputs": [],
   "source": [
    "def mk_tensor(im) -> TensorImage: return tensor(array(im))[None]"
   ]
  },
  {
   "cell_type": "code",
   "execution_count": null,
   "metadata": {},
   "outputs": [],
   "source": [
    "def compose_tfms(x, t, tfms, func_nm='__call__', reverse=False):\n",
    "    if reverse: tfms = reversed(tfms)\n",
    "    for tfm in tfms: x,t = getattr(tfm,func_nm,noop)(x, t)\n",
    "    return x,t\n",
    "\n",
    "class Pipeline():\n",
    "    def __init__(self, *tfms): self.tfms = [t if isinstance(t, Transform) else Transform(t) for t in tfms]\n",
    "    def __call__(self, o, t=None): return compose_tfms(o, t, self.tfms)\n",
    "    def decode  (self, i, t=None): return compose_tfms(i, t, self.tfms, func_nm='decode', reverse=True)\n",
    "    def show(self, o, t=None, ctx=None, **kwargs):\n",
    "        for tfm in reversed(self.tfms):\n",
    "            if hasattr(t, 'show'): return t.show(o, ctx=ctx, **kwargs)\n",
    "            o,t = tfm.decode(o,t)\n",
    "        if hasattr(t, 'show'): return t.show(o, ctx=ctx, **kwargs)"
   ]
  },
  {
   "cell_type": "code",
   "execution_count": null,
   "metadata": {},
   "outputs": [],
   "source": [
    "pipe_x = Pipeline(PIL.Image.open, rand_dihedral, mk_tensor)\n",
    "pipe_y = Pipeline(Categorify(vocab))"
   ]
  },
  {
   "cell_type": "code",
   "execution_count": null,
   "metadata": {},
   "outputs": [],
   "source": [
    "class MNIST(): #Missing xy transforms\n",
    "    def __init__(self, items, lbls, f_x, f_y): #, t_x=None,t_y=None):\n",
    "        self.items,self.lbls,self.f_x,self.f_y = items,lbls,f_x,f_y\n",
    "        self.t_x,self.t_y = None,None\n",
    "#         self.t_x,self.t_y = t_x,t_y\n",
    "        \n",
    "    def __getitem__(self, i): \n",
    "        x,self.final_t_x = self.f_x(self.items[i], self.t_x)\n",
    "        y,self.final_t_y = self.f_y(self.lbls[i],  self.t_y)\n",
    "        return x,y\n",
    "    \n",
    "    def __len__(self): return len(items)\n",
    "    def show_at(self, i, ctx=None, **kwargs):\n",
    "        x,y = self[i]\n",
    "        ctx =  self.f_x.show(x, t=self.final_t_x, ctx=ctx, **kwargs)\n",
    "        return self.f_y.show(y, t=self.final_t_y, ctx=ctx, **kwargs)\n",
    "\n",
    "ds = MNIST(items, lbls, pipe_x, pipe_y)"
   ]
  },
  {
   "cell_type": "code",
   "execution_count": null,
   "metadata": {},
   "outputs": [
    {
     "data": {
      "image/png": "[encoded data removed]",
      "text/plain": [
       "<Figure size 72x72 with 1 Axes>"
      ]
     },
     "metadata": {
      "needs_background": "light"
     },
     "output_type": "display_data"
    }
   ],
   "source": [
    "ds.show_at(0, cmap=\"Greys\", figsize=(1,1))"
   ]
  },
  {
   "cell_type": "code",
   "execution_count": null,
   "metadata": {},
   "outputs": [],
   "source": [
    "dl = DataLoader(ds, batch_size=9)"
   ]
  },
  {
   "cell_type": "code",
   "execution_count": null,
   "metadata": {},
   "outputs": [],
   "source": [
    "class MNIST_DL():\n",
    "    def __init__(self, dl, f_x, f_y): self.dl,self.f_x,self.f_y = dl,f_x,f_y\n",
    "    def __iter__(self): \n",
    "        for x,y in self.dl:\n",
    "            t_x = getattr(self.dl.dataset, 'final_t_x', None)\n",
    "            t_y = getattr(self.dl.dataset, 'final_t_y', None)\n",
    "            x1,self.final_t_x = self.f_x(x, t_x)\n",
    "            y1,self.final_t_y = self.f_y(y, t_y)\n",
    "            yield x1,y1\n",
    "    def __len__(self): return len(self.dl)\n",
    "    \n",
    "    def decode_batch(self, b):\n",
    "        x,y = b\n",
    "        (x,t_x) = self.f_x.decode(x, self.final_t_x)\n",
    "        (y,t_y) = self.f_y.decode(y, self.final_t_y)\n",
    "        return (x,y),(t_x,t_y)\n",
    "    \n",
    "    def show_batch(self, b, max_rows=10, ctxs=None, **kwargs):\n",
    "        b,ts = self.decode_batch(b) \n",
    "        rows = itertools.islice(zip(*L(b)), max_rows)\n",
    "        if ctxs is None: ctxs = [None] * len(b[0] if is_iter(b[0]) else b)\n",
    "        for o,ctx in zip(rows,ctxs):\n",
    "            ctx = self.dl.dataset.f_x.show(o[0], t=ts[0], ctx=ctx, **kwargs)\n",
    "            self.dl.dataset.f_y.show(o[1], t=ts[1], ctx=ctx, **kwargs)\n",
    "\n",
    "dl_pipe_x = Pipeline(to_device, floatify, norm_mnist)\n",
    "dl_pipe_y = Pipeline(to_device)\n",
    "mdl = MNIST_DL(dl, dl_pipe_x, dl_pipe_y)"
   ]
  },
  {
   "cell_type": "code",
   "execution_count": null,
   "metadata": {},
   "outputs": [],
   "source": [
    "b = next(iter(mdl))"
   ]
  },
  {
   "cell_type": "code",
   "execution_count": null,
   "metadata": {},
   "outputs": [
    {
     "data": {
      "text/plain": [
       "(torch.Size([9, 1, 28, 28]), torch.Size([9]))"
      ]
     },
     "execution_count": null,
     "metadata": {},
     "output_type": "execute_result"
    }
   ],
   "source": [
    "b[0].shape,b[1].shape"
   ]
  },
  {
   "cell_type": "code",
   "execution_count": null,
   "metadata": {},
   "outputs": [
    {
     "data": {
      "text/plain": [
       "(__main__.TensorImage, None)"
      ]
     },
     "execution_count": null,
     "metadata": {},
     "output_type": "execute_result"
    }
   ],
   "source": [
    "mdl.final_t_x,mdl.final_t_y"
   ]
  },
  {
   "cell_type": "code",
   "execution_count": null,
   "metadata": {},
   "outputs": [
    {
     "data": {
      "image/png": "[encoded data removed]",
      "text/plain": [
       "<Figure size 432x288 with 9 Axes>"
      ]
     },
     "metadata": {
      "needs_background": "light"
     },
     "output_type": "display_data"
    }
   ],
   "source": [
    "fig,axs = plt.subplots(3,3)\n",
    "mdl.show_batch(b, cmap=\"Greys\", figsize=(4,4), ctxs=axs.flat)"
   ]
  },
  {
   "cell_type": "markdown",
   "metadata": {},
   "source": [
    "## v3"
   ]
  },
  {
   "cell_type": "code",
   "execution_count": null,
   "metadata": {},
   "outputs": [],
   "source": [
    "vocab = SimpleNamespace(itos=itos,stoi=stoi)"
   ]
  },
  {
   "cell_type": "code",
   "execution_count": null,
   "metadata": {},
   "outputs": [],
   "source": [
    "def floatify(o): return o.float()/255."
   ]
  },
  {
   "cell_type": "code",
   "execution_count": null,
   "metadata": {},
   "outputs": [],
   "source": [
    "def _get_types(func):\n",
    "    sig = inspect.signature(func)\n",
    "    t_out = sig.return_annotation if sig.return_annotation != inspect._empty else None\n",
    "    t_in = [p.annotation if p.annotation != inspect._empty else None \n",
    "            for p in sig.parameters.values() if p.default == inspect._empty]\n",
    "    if len(t_in) == 1: t_in = t_in[0]\n",
    "    return (t_in,t_out)\n",
    "\n",
    "def _check_same(t1, t2):\n",
    "    assert t1 is None or t2 is None or t1 == t2\n",
    "    return t2 if t1 is None else t1"
   ]
  },
  {
   "cell_type": "code",
   "execution_count": null,
   "metadata": {},
   "outputs": [],
   "source": [
    "class Transform(metaclass=PrePostInitMeta):\n",
    "    def __init__(self, encodes=None):\n",
    "        if encodes is not None: self.encodes = encodes\n",
    "    \n",
    "    def __post_init__(self):\n",
    "        self.type_in,self.type_out = _get_types(self.encodes) if hasattr(self, 'encodes') else (None,None)\n",
    "        if hasattr(self, 'decodes'):\n",
    "            t_out,t_in = _get_types(self.decodes)\n",
    "            self.type_in  = _check_same(self.type_in,  t_in)\n",
    "            self.type_out = _check_same(self.type_out, t_out)\n",
    "    \n",
    "    def __call__(self, o, t=None): \n",
    "        t = t if self.type_out is None else self.type_out\n",
    "        if is_listy(t) and not is_listy(self.type_in):\n",
    "            return (tuple(self.encode_with_type(o_, t=t_) for o_,t_ in zip(o,t)),t)\n",
    "        return (self.encode_with_type(*L(o), t),t)\n",
    "                \n",
    "    def decode(self, o, t=None):    # XXX: refactor\n",
    "        t = t if self.type_in is None else self.type_in\n",
    "        if is_listy(t) and not is_listy(self.type_out):\n",
    "            return (tuple(self.decode_with_type(o_, t=t_) for o_,t_ in zip(o,t)),t)\n",
    "        return (self.decode_with_type(*L(o), t),t)\n",
    "    \n",
    "    def encode_with_type(self, m, t=None): return self.encodes(m)\n",
    "    def decode_with_type(self, m, t=None): return getattr(self, 'decodes', noop)(m)"
   ]
  },
  {
   "cell_type": "code",
   "execution_count": null,
   "metadata": {},
   "outputs": [],
   "source": [
    "@patch\n",
    "def   normalize(self:TensorImage, m, s): return (self-m)/s\n",
    "@patch\n",
    "def denormalize(self:TensorImage, m, s): return (self*s)+m"
   ]
  },
  {
   "cell_type": "code",
   "execution_count": null,
   "metadata": {},
   "outputs": [],
   "source": [
    "class Normalize(Transform):\n",
    "    def __init__(self, m, s): self.m,self.s = m,s\n",
    "    def encode_with_type(self,o,t): return getattr(t,  'normalize',noop)(o, self.m, self.s)\n",
    "    def decode_with_type(self,o,t): return getattr(t,'denormalize',noop)(o, self.m, self.s)\n",
    "\n",
    "norm_mnist = Normalize(m,s)"
   ]
  },
  {
   "cell_type": "code",
   "execution_count": null,
   "metadata": {},
   "outputs": [
    {
     "data": {
      "text/plain": [
       "(tensor(0.1983), tensor(0.3761))"
      ]
     },
     "execution_count": null,
     "metadata": {},
     "output_type": "execute_result"
    }
   ],
   "source": [
    "imgt.mean(),imgt.std()"
   ]
  },
  {
   "cell_type": "code",
   "execution_count": null,
   "metadata": {},
   "outputs": [
    {
     "data": {
      "text/plain": [
       "(tensor(0.3277), tensor(1.2535))"
      ]
     },
     "execution_count": null,
     "metadata": {},
     "output_type": "execute_result"
    }
   ],
   "source": [
    "imgn = norm_mnist(imgt, TensorImage)[0]\n",
    "imgn.mean(),imgn.std()"
   ]
  },
  {
   "cell_type": "code",
   "execution_count": null,
   "metadata": {},
   "outputs": [
    {
     "data": {
      "text/plain": [
       "(tensor(0.1983), tensor(0.3761))"
      ]
     },
     "execution_count": null,
     "metadata": {},
     "output_type": "execute_result"
    }
   ],
   "source": [
    "imgt2 = norm_mnist.decode(imgn, TensorImage)[0]\n",
    "imgt2.mean(),imgt2.std()"
   ]
  },
  {
   "cell_type": "code",
   "execution_count": null,
   "metadata": {},
   "outputs": [],
   "source": [
    "class String():\n",
    "    @staticmethod\n",
    "    def show(o, ctx=None, **kwargs): return show_title(str(o), ctx=ctx)"
   ]
  },
  {
   "cell_type": "code",
   "execution_count": null,
   "metadata": {},
   "outputs": [
    {
     "name": "stdout",
     "output_type": "stream",
     "text": [
      "3\n"
     ]
    }
   ],
   "source": [
    "String.show(\"3\")"
   ]
  },
  {
   "cell_type": "code",
   "execution_count": null,
   "metadata": {},
   "outputs": [],
   "source": [
    "class Categorify(Transform):\n",
    "    def __init__(self, vocab): self.vocab = vocab\n",
    "    def encodes(self, s): return self.vocab.stoi[getattr(s, 'data', s)]\n",
    "    def decodes(self, i) -> String: return self.vocab.itos[i]"
   ]
  },
  {
   "cell_type": "code",
   "execution_count": null,
   "metadata": {},
   "outputs": [],
   "source": [
    "tst = Categorify(vocab)"
   ]
  },
  {
   "cell_type": "code",
   "execution_count": null,
   "metadata": {},
   "outputs": [
    {
     "data": {
      "text/plain": [
       "(None, __main__.String)"
      ]
     },
     "execution_count": null,
     "metadata": {},
     "output_type": "execute_result"
    }
   ],
   "source": [
    "tst.type_out,tst.type_in"
   ]
  },
  {
   "cell_type": "code",
   "execution_count": null,
   "metadata": {},
   "outputs": [],
   "source": [
    "class TensorImage():\n",
    "    @staticmethod\n",
    "    def show(o, ctx=None, **kwargs): return show_image(to_cpu(o), ctx=ctx, **kwargs)"
   ]
  },
  {
   "cell_type": "code",
   "execution_count": null,
   "metadata": {},
   "outputs": [],
   "source": [
    "def mk_tensor(im) -> TensorImage: return tensor(array(im))[None]"
   ]
  },
  {
   "cell_type": "code",
   "execution_count": null,
   "metadata": {},
   "outputs": [],
   "source": [
    "def compose_tfms(x, t, tfms, func_nm='__call__', reverse=False):\n",
    "    if reverse: tfms = reversed(tfms)\n",
    "    for tfm in tfms: x,t = getattr(tfm,func_nm,noop)(x, t)\n",
    "    return x,t\n",
    "\n",
    "class Pipeline(PrePostInit):\n",
    "    def __init__(self, *tfms): self.tfms = [t if isinstance(t, Transform) else Transform(t) for t in tfms]\n",
    "    def __call__(self, o, t=None): return compose_tfms(o, t, self.tfms)\n",
    "    def decode  (self, i, t=None): return compose_tfms(i, t, self.tfms, func_nm='decode', reverse=True)\n",
    "    def show(self, o, t=None, ctx=None, **kwargs):\n",
    "        for tfm in reversed(self.tfms):\n",
    "            if hasattr(t, 'show'): return t.show(o, ctx=ctx, **kwargs)\n",
    "            o,t = tfm.decode(o,t)\n",
    "        if hasattr(t, 'show'): return t.show(o, ctx=ctx, **kwargs)"
   ]
  },
  {
   "cell_type": "code",
   "execution_count": null,
   "metadata": {},
   "outputs": [],
   "source": [
    "pipe_x = Pipeline(PIL.Image.open, rand_dihedral, mk_tensor)\n",
    "pipe_y = Pipeline(Categorify(vocab))"
   ]
  },
  {
   "cell_type": "code",
   "execution_count": null,
   "metadata": {},
   "outputs": [],
   "source": [
    "class MNIST(): #Missing xy transforms\n",
    "    def __init__(self, items, lbls, f_x, f_y, f_xy): #, t_x=None,t_y=None):\n",
    "        self.items,self.lbls,self.f_x,self.f_y,self.f_xy = items,lbls,f_x,f_y,f_xy\n",
    "        self.t_x,self.t_y = None,None\n",
    "#         self.t_x,self.t_y = t_x,t_y\n",
    "        \n",
    "    def __getitem__(self, i): \n",
    "        x,t_x = self.f_x(self.items[i], self.t_x)\n",
    "        y,t_y = self.f_y(self.lbls[i],  self.t_y)\n",
    "        (x,y),self.final_t = self.f_xy((x,y), [t_x,t_y])\n",
    "        return x,y\n",
    "    \n",
    "    def __len__(self): return len(items)\n",
    "    def show_at(self, i, ctx=None, **kwargs):\n",
    "        x,y = self[i]\n",
    "        (x,y),(t_x,t_y) = self.f_xy.decode((x,y), self.final_t)\n",
    "        ctx =  self.f_x.show(x, t=t_x, ctx=ctx, **kwargs)\n",
    "        return self.f_y.show(y, t=t_y, ctx=ctx, **kwargs)"
   ]
  },
  {
   "cell_type": "code",
   "execution_count": null,
   "metadata": {},
   "outputs": [],
   "source": [
    "ds = MNIST(items, lbls, pipe_x, pipe_y, Pipeline())"
   ]
  },
  {
   "cell_type": "code",
   "execution_count": null,
   "metadata": {},
   "outputs": [
    {
     "data": {
      "image/png": "[encoded data removed]",
      "text/plain": [
       "<Figure size 72x72 with 1 Axes>"
      ]
     },
     "metadata": {
      "needs_background": "light"
     },
     "output_type": "display_data"
    }
   ],
   "source": [
    "ds.show_at(0, cmap=\"Greys\", figsize=(1,1))"
   ]
  },
  {
   "cell_type": "code",
   "execution_count": null,
   "metadata": {},
   "outputs": [],
   "source": [
    "dl = DataLoader(ds, batch_size=9)"
   ]
  },
  {
   "cell_type": "code",
   "execution_count": null,
   "metadata": {},
   "outputs": [],
   "source": [
    "@patch\n",
    "def floatify(x:TensorImage): return x.float()/255. \n",
    "\n",
    "class Floatify(Transform):\n",
    "    def encode_with_type(self, x, t): return getattr(t, 'floatify', noop)(x)"
   ]
  },
  {
   "cell_type": "code",
   "execution_count": null,
   "metadata": {},
   "outputs": [],
   "source": [
    "dl_pipe = Pipeline(to_device, Floatify(), norm_mnist)"
   ]
  },
  {
   "cell_type": "code",
   "execution_count": null,
   "metadata": {},
   "outputs": [],
   "source": [
    "class MNIST_DL():\n",
    "    def __init__(self, dl, f): self.dl,self.f = dl,f\n",
    "    def __iter__(self): \n",
    "        for b in self.dl:\n",
    "            t = getattr(self.dl.dataset, 'final_t', None)\n",
    "            b,self.final_t = self.f(b,t)\n",
    "            yield b\n",
    "    def __len__(self): return len(self.dl)\n",
    "    \n",
    "    def decode_batch(self, b):\n",
    "        return self.f.decode(b, self.final_t)\n",
    "    \n",
    "    def show_batch(self, b, max_rows=10, ctxs=None, **kwargs):\n",
    "        b,ts = self.decode_batch(b) \n",
    "        rows = itertools.islice(zip(*L(b)), max_rows)\n",
    "        if ctxs is None: ctxs = [None] * len(b[0] if is_iter(b[0]) else b)\n",
    "        for o,ctx in zip(rows,ctxs):\n",
    "            (x,y),(t_x,t_y) = self.dl.dataset.f_xy.decode(o, ts)\n",
    "            ctx = self.dl.dataset.f_x.show(x, t=t_x, ctx=ctx, **kwargs)\n",
    "            self.dl.dataset.f_y.show(y, t=t_y, ctx=ctx, **kwargs)"
   ]
  },
  {
   "cell_type": "code",
   "execution_count": null,
   "metadata": {},
   "outputs": [],
   "source": [
    "mdl = MNIST_DL(dl, dl_pipe)"
   ]
  },
  {
   "cell_type": "code",
   "execution_count": null,
   "metadata": {},
   "outputs": [],
   "source": [
    "b = next(iter(mdl))"
   ]
  },
  {
   "cell_type": "code",
   "execution_count": null,
   "metadata": {},
   "outputs": [
    {
     "data": {
      "text/plain": [
       "(torch.Size([9, 1, 28, 28]), torch.Size([9]))"
      ]
     },
     "execution_count": null,
     "metadata": {},
     "output_type": "execute_result"
    }
   ],
   "source": [
    "b[0].shape,b[1].shape"
   ]
  },
  {
   "cell_type": "code",
   "execution_count": null,
   "metadata": {},
   "outputs": [
    {
     "data": {
      "text/plain": [
       "[__main__.TensorImage, None]"
      ]
     },
     "execution_count": null,
     "metadata": {},
     "output_type": "execute_result"
    }
   ],
   "source": [
    "mdl.final_t"
   ]
  },
  {
   "cell_type": "code",
   "execution_count": null,
   "metadata": {},
   "outputs": [
    {
     "data": {
      "image/png": "[encoded data removed]",
      "text/plain": [
       "<Figure size 432x288 with 9 Axes>"
      ]
     },
     "metadata": {
      "needs_background": "light"
     },
     "output_type": "display_data"
    }
   ],
   "source": [
    "fig,axs = plt.subplots(3,3)\n",
    "mdl.show_batch(b, cmap=\"Greys\", figsize=(4,4), ctxs=axs.flat)"
   ]
  },
  {
   "cell_type": "markdown",
   "metadata": {},
   "source": [
    "## v4"
   ]
  },
  {
   "cell_type": "code",
   "execution_count": null,
   "metadata": {},
   "outputs": [],
   "source": [
    "vocab = SimpleNamespace(itos=itos,stoi=stoi)"
   ]
  },
  {
   "cell_type": "code",
   "execution_count": null,
   "metadata": {},
   "outputs": [],
   "source": [
    "def floatify(o): return o.float()/255."
   ]
  },
  {
   "cell_type": "code",
   "execution_count": null,
   "metadata": {},
   "outputs": [],
   "source": [
    "def _get_types(func):\n",
    "    sig = inspect.signature(func)\n",
    "    t_out = sig.return_annotation if sig.return_annotation != inspect._empty else None\n",
    "    t_in = [p.annotation if p.annotation != inspect._empty else None \n",
    "            for p in sig.parameters.values() if p.default == inspect._empty]\n",
    "    return (len(t_in) > 1,t_out)\n",
    "\n",
    "def _check_same(t1, t2):\n",
    "    assert t1 is None or t2 is None or t1 == t2\n",
    "    return t2 if t1 is None else t1"
   ]
  },
  {
   "cell_type": "code",
   "execution_count": null,
   "metadata": {},
   "outputs": [],
   "source": [
    "class Transform(metaclass=PrePostInitMeta):\n",
    "    def __init__(self, encodes=None):\n",
    "        if encodes is not None: self.encodes = encodes\n",
    "    \n",
    "    def __post_init__(self):\n",
    "        self.is_tuple_in, t1 = _get_types(self.encodes) if hasattr(self, 'encodes') else (False,None)\n",
    "        self.is_tuple_out,t2 = _get_types(self.decodes) if hasattr(self, 'decodes') else (False,None)\n",
    "        self.type = _check_same(t1, t2)\n",
    "    \n",
    "    def __call__(self, o): \n",
    "        if is_listy(o) and not self.is_tuple_in:\n",
    "            return tuple(self.encode_with_type(o_, t=t_) for o_,t_ in zip(o,self.type))\n",
    "        return self.encode_with_type(*L(o), self.type)\n",
    "                \n",
    "    def decode(self, o):    # XXX: refactor\n",
    "        if is_listy(o) and not self.is_tuple_out:\n",
    "            return tuple(self.decode_with_type(o_, t=t_) for o_,t_ in zip(o,self.type))\n",
    "        return self.decode_with_type(*L(o), self.type)\n",
    "    \n",
    "    def encode_with_type(self, m, t=None): return self.encodes(m)\n",
    "    def decode_with_type(self, m, t=None): return getattr(self, 'decodes', noop)(m)"
   ]
  },
  {
   "cell_type": "code",
   "execution_count": null,
   "metadata": {},
   "outputs": [],
   "source": [
    "@patch\n",
    "def   normalize(self:TensorImage, m, s): return (self-m)/s\n",
    "@patch\n",
    "def denormalize(self:TensorImage, m, s): return (self*s)+m"
   ]
  },
  {
   "cell_type": "code",
   "execution_count": null,
   "metadata": {},
   "outputs": [],
   "source": [
    "class Normalize(Transform):\n",
    "    def __init__(self, m, s): self.m,self.s = m,s\n",
    "    def encode_with_type(self,o,t): return getattr(t,  'normalize',noop)(o, self.m, self.s)\n",
    "    def decode_with_type(self,o,t): return getattr(t,'denormalize',noop)(o, self.m, self.s)\n",
    "\n",
    "norm_mnist = Normalize(m,s)"
   ]
  },
  {
   "cell_type": "code",
   "execution_count": null,
   "metadata": {},
   "outputs": [
    {
     "data": {
      "text/plain": [
       "(tensor(0.1983), tensor(0.3761))"
      ]
     },
     "execution_count": null,
     "metadata": {},
     "output_type": "execute_result"
    }
   ],
   "source": [
    "imgt.mean(),imgt.std()"
   ]
  },
  {
   "cell_type": "code",
   "execution_count": null,
   "metadata": {},
   "outputs": [
    {
     "data": {
      "text/plain": [
       "(tensor(0.3277), tensor(1.2535))"
      ]
     },
     "execution_count": null,
     "metadata": {},
     "output_type": "execute_result"
    }
   ],
   "source": [
    "norm_mnist.type = TensorImage #Pipeline will set this\n",
    "imgn = norm_mnist(imgt)\n",
    "imgn.mean(),imgn.std()"
   ]
  },
  {
   "cell_type": "code",
   "execution_count": null,
   "metadata": {},
   "outputs": [
    {
     "data": {
      "text/plain": [
       "(tensor(0.1983), tensor(0.3761))"
      ]
     },
     "execution_count": null,
     "metadata": {},
     "output_type": "execute_result"
    }
   ],
   "source": [
    "imgt2 = norm_mnist.decode(imgn)\n",
    "imgt2.mean(),imgt2.std()"
   ]
  },
  {
   "cell_type": "code",
   "execution_count": null,
   "metadata": {},
   "outputs": [],
   "source": [
    "class String():\n",
    "    @staticmethod\n",
    "    def show(o, ctx=None, **kwargs): return show_title(str(o), ctx=ctx)"
   ]
  },
  {
   "cell_type": "code",
   "execution_count": null,
   "metadata": {},
   "outputs": [
    {
     "name": "stdout",
     "output_type": "stream",
     "text": [
      "3\n"
     ]
    }
   ],
   "source": [
    "String.show(\"3\")"
   ]
  },
  {
   "cell_type": "code",
   "execution_count": null,
   "metadata": {},
   "outputs": [],
   "source": [
    "class Categorify(Transform):\n",
    "    def __init__(self, vocab): self.vocab = vocab\n",
    "    def encodes(self, s): return self.vocab.stoi[getattr(s, 'data', s)]\n",
    "    def decodes(self, i) -> String: return self.vocab.itos[i]"
   ]
  },
  {
   "cell_type": "code",
   "execution_count": null,
   "metadata": {},
   "outputs": [],
   "source": [
    "tst = Categorify(vocab)"
   ]
  },
  {
   "cell_type": "code",
   "execution_count": null,
   "metadata": {},
   "outputs": [
    {
     "data": {
      "text/plain": [
       "__main__.String"
      ]
     },
     "execution_count": null,
     "metadata": {},
     "output_type": "execute_result"
    }
   ],
   "source": [
    "tst.type"
   ]
  },
  {
   "cell_type": "code",
   "execution_count": null,
   "metadata": {},
   "outputs": [],
   "source": [
    "class TensorImage():\n",
    "    @staticmethod\n",
    "    def show(o, ctx=None, **kwargs): return show_image(to_cpu(o), ctx=ctx, **kwargs)"
   ]
  },
  {
   "cell_type": "code",
   "execution_count": null,
   "metadata": {},
   "outputs": [],
   "source": [
    "def mk_tensor(im) -> TensorImage: return tensor(array(im))[None]"
   ]
  },
  {
   "cell_type": "code",
   "execution_count": null,
   "metadata": {},
   "outputs": [],
   "source": [
    "def compose_tfms(x, tfms, func_nm='__call__', reverse=False):\n",
    "    if reverse: tfms = reversed(tfms)\n",
    "    for tfm in tfms: x = getattr(tfm,func_nm,noop)(x)\n",
    "    return x\n",
    "\n",
    "class Pipeline():\n",
    "    def __init__(self, *tfms): \n",
    "        self.tfms = [t if isinstance(t, Transform) else Transform(t) for t in tfms]\n",
    "        \n",
    "    def setup(self, t=None):\n",
    "        if len(self.tfms) == 0: self.final_t = t\n",
    "        else:\n",
    "            if self.tfms[0].type is None: self.tfms[0].type = t\n",
    "            for t_prec,t in zip(self.tfms[:-1],self.tfms[1:]):\n",
    "                if t.type is None: t.type = t_prec.type\n",
    "            self.final_t = self.tfms[-1].type\n",
    "                \n",
    "    def __call__(self, o): return compose_tfms(o, self.tfms)\n",
    "    def decode  (self, i): return compose_tfms(i, self.tfms, func_nm='decode', reverse=True)\n",
    "    def show(self, o, ctx=None, **kwargs):\n",
    "        r_tfms = list(reversed(self.tfms))\n",
    "        for i,tfm in enumerate(r_tfms):\n",
    "            o = tfm.decode(o)\n",
    "            if hasattr(tfm.type, 'show') and (i==len(r_tfms)-1 or r_tfms[i+1].type!=tfm.type):\n",
    "                #tfm.type knows how to show AND is the first tfm with this type\n",
    "                return tfm.type.show(o, ctx=ctx, **kwargs)"
   ]
  },
  {
   "cell_type": "code",
   "execution_count": null,
   "metadata": {},
   "outputs": [],
   "source": [
    "pipe_x = Pipeline(PIL.Image.open, rand_dihedral, mk_tensor)\n",
    "pipe_y = Pipeline(Categorify(vocab))"
   ]
  },
  {
   "cell_type": "code",
   "execution_count": null,
   "metadata": {},
   "outputs": [],
   "source": [
    "class MNIST():\n",
    "    def __init__(self, items, lbls, f_x, f_y, f_xy):\n",
    "        self.items,self.lbls,self.f_x,self.f_y,self.f_xy = items,lbls,f_x,f_y,f_xy\n",
    "        #setup\n",
    "        self.f_x.setup(); self.f_y.setup()\n",
    "        self.f_xy.setup(t = [self.f_x.final_t, self.f_y.final_t])\n",
    "        \n",
    "    def __getitem__(self, i): \n",
    "        return self.f_xy([self.f_x(self.items[i]),self.f_y(self.lbls[i])])\n",
    "    \n",
    "    def __len__(self): return len(items)\n",
    "    def show_at(self, i, ctx=None, **kwargs):\n",
    "        x,y = self.f_xy.decode(self[i])\n",
    "        ctx =  self.f_x.show(x, ctx=ctx, **kwargs)\n",
    "        return self.f_y.show(y, ctx=ctx, **kwargs)"
   ]
  },
  {
   "cell_type": "code",
   "execution_count": null,
   "metadata": {},
   "outputs": [],
   "source": [
    "ds = MNIST(items, lbls, pipe_x, pipe_y, Pipeline())"
   ]
  },
  {
   "cell_type": "code",
   "execution_count": null,
   "metadata": {},
   "outputs": [
    {
     "data": {
      "image/png": "[encoded data removed]",
      "text/plain": [
       "<Figure size 72x72 with 1 Axes>"
      ]
     },
     "metadata": {
      "needs_background": "light"
     },
     "output_type": "display_data"
    }
   ],
   "source": [
    "ds.show_at(0, cmap=\"Greys\", figsize=(1,1))"
   ]
  },
  {
   "cell_type": "code",
   "execution_count": null,
   "metadata": {},
   "outputs": [
    {
     "data": {
      "text/plain": [
       "[__main__.TensorImage, __main__.String]"
      ]
     },
     "execution_count": null,
     "metadata": {},
     "output_type": "execute_result"
    }
   ],
   "source": [
    "ds.f_xy.final_t"
   ]
  },
  {
   "cell_type": "code",
   "execution_count": null,
   "metadata": {},
   "outputs": [],
   "source": [
    "dl = DataLoader(ds, batch_size=9)"
   ]
  },
  {
   "cell_type": "code",
   "execution_count": null,
   "metadata": {},
   "outputs": [],
   "source": [
    "@patch\n",
    "def floatify(x:TensorImage): return x.float()/255. \n",
    "\n",
    "class Floatify(Transform):\n",
    "    def encode_with_type(self, x, t): return getattr(t, 'floatify', noop)(x)"
   ]
  },
  {
   "cell_type": "code",
   "execution_count": null,
   "metadata": {},
   "outputs": [],
   "source": [
    "norm_mnist = Normalize(m,s)\n",
    "dl_pipe = Pipeline(to_device, Floatify(), norm_mnist)"
   ]
  },
  {
   "cell_type": "code",
   "execution_count": null,
   "metadata": {},
   "outputs": [],
   "source": [
    "class MNIST_DL():\n",
    "    def __init__(self, dl, f): \n",
    "        self.dl,self.f = dl,f\n",
    "        #setup\n",
    "        t = getattr(self.dl.dataset.f_xy, 'final_t', None) if hasattr(self.dl.dataset, 'f_xy') else None\n",
    "        self.f.setup(t=t)\n",
    "        \n",
    "    def __iter__(self): return (self.f(b) for b in self.dl)\n",
    "    def __len__(self): return len(self.dl)\n",
    "    \n",
    "    def show_batch(self, b, max_rows=10, ctxs=None, **kwargs):\n",
    "        b = self.f.decode(b) \n",
    "        rows = itertools.islice(zip(*L(b)), max_rows)\n",
    "        if ctxs is None: ctxs = [None] * len(b[0] if is_iter(b[0]) else b)\n",
    "        for o,ctx in zip(rows,ctxs):\n",
    "            (x,y) = self.dl.dataset.f_xy.decode(o)\n",
    "            ctx = self.dl.dataset.f_x.show(x, ctx=ctx, **kwargs)\n",
    "            self.dl.dataset.f_y.show(y, ctx=ctx, **kwargs)"
   ]
  },
  {
   "cell_type": "code",
   "execution_count": null,
   "metadata": {},
   "outputs": [],
   "source": [
    "mdl = MNIST_DL(dl, dl_pipe)"
   ]
  },
  {
   "cell_type": "code",
   "execution_count": null,
   "metadata": {},
   "outputs": [],
   "source": [
    "b = next(iter(mdl))"
   ]
  },
  {
   "cell_type": "code",
   "execution_count": null,
   "metadata": {},
   "outputs": [
    {
     "data": {
      "text/plain": [
       "(torch.Size([9, 1, 28, 28]), torch.Size([9]))"
      ]
     },
     "execution_count": null,
     "metadata": {},
     "output_type": "execute_result"
    }
   ],
   "source": [
    "b[0].shape,b[1].shape"
   ]
  },
  {
   "cell_type": "code",
   "execution_count": null,
   "metadata": {},
   "outputs": [
    {
     "data": {
      "text/plain": [
       "[__main__.TensorImage, __main__.String]"
      ]
     },
     "execution_count": null,
     "metadata": {},
     "output_type": "execute_result"
    }
   ],
   "source": [
    "mdl.f.final_t"
   ]
  },
  {
   "cell_type": "code",
   "execution_count": null,
   "metadata": {},
   "outputs": [
    {
     "data": {
      "image/png": "[encoded data removed]",
      "text/plain": [
       "<Figure size 432x288 with 9 Axes>"
      ]
     },
     "metadata": {
      "needs_background": "light"
     },
     "output_type": "display_data"
    }
   ],
   "source": [
    "fig,axs = plt.subplots(3,3)\n",
    "mdl.show_batch(b, cmap=\"Greys\", figsize=(4,4), ctxs=axs.flat)"
   ]
  },
  {
   "cell_type": "markdown",
   "metadata": {},
   "source": [
    "## v5"
   ]
  },
  {
   "cell_type": "code",
   "execution_count": null,
   "metadata": {},
   "outputs": [],
   "source": [
    "vocab = SimpleNamespace(itos=itos,stoi=stoi)"
   ]
  },
  {
   "cell_type": "code",
   "execution_count": null,
   "metadata": {},
   "outputs": [],
   "source": [
    "def _get_types(func):\n",
    "    sig = inspect.signature(func)\n",
    "    t_out = sig.return_annotation if sig.return_annotation != inspect._empty else None\n",
    "    t_in = [p.annotation if p.annotation != inspect._empty else None \n",
    "            for p in sig.parameters.values() if p.default == inspect._empty and p.kind != inspect._VAR_KEYWORD]\n",
    "#     if not t_out: t_out = t_in[0]\n",
    "    return (len(t_in) > 1,t_out)\n",
    "\n",
    "def _check_same(t1, t2):\n",
    "    assert t1 is None or t2 is None or t1 == t2\n",
    "    return t2 if t1 is None else t1"
   ]
  },
  {
   "cell_type": "code",
   "execution_count": null,
   "metadata": {},
   "outputs": [],
   "source": [
    "class Transform(metaclass=PrePostInitMeta):\n",
    "    def __init__(self, encodes=None):\n",
    "        if encodes is not None: self.encodes = encodes\n",
    "    \n",
    "    def __post_init__(self):\n",
    "        is_tuple_in, t1 = _get_types(self.encodes) if hasattr(self, 'encodes') else (False,None)\n",
    "        is_tuple_out,t2 = _get_types(self.decodes) if hasattr(self, 'decodes') else (False,None)\n",
    "        assert is_tuple_in == is_tuple_out\n",
    "        self.type = _check_same(t1, t2)\n",
    "        self.is_tuple = is_tuple_in\n",
    "        \n",
    "    def __getattr__(self,k):\n",
    "        if k not in ['encodes', 'decodes', 'decode']:\n",
    "            def _inner(x, *args, **kwargs):\n",
    "                return getattr(self.type,  k, noop)(x, *args, **kwargs)\n",
    "            return _inner\n",
    "        else: raise AttributeError\n",
    "    \n",
    "    def _apply(self, n, o):\n",
    "        if is_listy(self.type) and not self.is_tuple:\n",
    "            old_type = self.type\n",
    "            res = []\n",
    "            for o_,t in zip(o,old_type):\n",
    "                self.type=t\n",
    "                res.append(getattr(self, n, noop)(o_))\n",
    "            self.type = old_type\n",
    "            return tuple(res)\n",
    "        return getattr(self, n, noop)(*L(o))\n",
    "    \n",
    "    def __call__(self, o): return self._apply('encodes', o)            \n",
    "    def decode(self, o):   return self._apply('decodes', o)"
   ]
  },
  {
   "cell_type": "code",
   "execution_count": null,
   "metadata": {},
   "outputs": [],
   "source": [
    "class String():\n",
    "    @staticmethod\n",
    "    def show(o, ctx=None, **kwargs): return show_title(str(o), ctx=ctx)"
   ]
  },
  {
   "cell_type": "code",
   "execution_count": null,
   "metadata": {},
   "outputs": [
    {
     "name": "stdout",
     "output_type": "stream",
     "text": [
      "3\n"
     ]
    }
   ],
   "source": [
    "String.show(\"3\")"
   ]
  },
  {
   "cell_type": "code",
   "execution_count": null,
   "metadata": {},
   "outputs": [],
   "source": [
    "class Categorify(Transform):\n",
    "    def __init__(self, vocab): self.vocab = vocab\n",
    "    def encodes(self, s): return self.vocab.stoi[getattr(s, 'data', s)]\n",
    "    def decodes(self, i) -> String: return self.vocab.itos[i]"
   ]
  },
  {
   "cell_type": "code",
   "execution_count": null,
   "metadata": {},
   "outputs": [
    {
     "data": {
      "text/plain": [
       "__main__.String"
      ]
     },
     "execution_count": null,
     "metadata": {},
     "output_type": "execute_result"
    }
   ],
   "source": [
    "tst = Categorify(vocab)\n",
    "tst.type"
   ]
  },
  {
   "cell_type": "code",
   "execution_count": null,
   "metadata": {},
   "outputs": [],
   "source": [
    "class TensorImage():\n",
    "    @staticmethod\n",
    "    def show(o, ctx=None, **kwargs): return show_image(to_cpu(o), ctx=ctx, **kwargs)"
   ]
  },
  {
   "cell_type": "code",
   "execution_count": null,
   "metadata": {},
   "outputs": [],
   "source": [
    "def mk_tensor(im) -> TensorImage: return tensor(array(im))[None]"
   ]
  },
  {
   "cell_type": "code",
   "execution_count": null,
   "metadata": {},
   "outputs": [],
   "source": [
    "def compose_tfms(x, tfms, func_nm='__call__', reverse=False):\n",
    "    if reverse: tfms = reversed(tfms)\n",
    "    for tfm in tfms: x = getattr(tfm,func_nm,noop)(x)\n",
    "    return x"
   ]
  },
  {
   "cell_type": "code",
   "execution_count": null,
   "metadata": {},
   "outputs": [],
   "source": [
    "class Pipeline():\n",
    "    def __init__(self, *tfms): \n",
    "        self.tfms = [t if isinstance(t, Transform) else Transform(t) for t in tfms]\n",
    "        \n",
    "    def setup(self, t=None):\n",
    "        if len(self.tfms) == 0: self.final_t = t\n",
    "        else:\n",
    "            if self.tfms[0].type is None: self.tfms[0].type = t\n",
    "            for t_prec,t in zip(self.tfms[:-1],self.tfms[1:]):\n",
    "                if t.type is None: t.type = t_prec.type\n",
    "            self.final_t = self.tfms[-1].type\n",
    "                \n",
    "    def __call__(self, o): return compose_tfms(o, self.tfms)\n",
    "    def decode  (self, i): return compose_tfms(i, self.tfms, func_nm='decode', reverse=True)\n",
    "    def show(self, o, ctx=None, **kwargs):\n",
    "        r_tfms = list(reversed(self.tfms))\n",
    "        for i,tfm in enumerate(r_tfms):\n",
    "            o = tfm.decode(o)\n",
    "            if hasattr(tfm.type, 'show') and (i==len(r_tfms)-1 or r_tfms[i+1].type!=tfm.type):\n",
    "                #tfm.type knows how to show AND is the first tfm with this type\n",
    "                return tfm.type.show(o, ctx=ctx, **kwargs)"
   ]
  },
  {
   "cell_type": "code",
   "execution_count": null,
   "metadata": {},
   "outputs": [],
   "source": [
    "class MNIST():\n",
    "    def __init__(self, items, pipes, tuple_pipe):\n",
    "        self.items,self.pipes,self.tuple_pipe = items,pipes,tuple_pipe\n",
    "        for p in self.pipes: p.setup()\n",
    "        self.tuple_pipe.setup(t = [p.final_t for p in self.pipes])\n",
    "        \n",
    "    def __getitem__(self, i): return self.tuple_pipe([p(self.items[i]) for p in self.pipes])\n",
    "    def __len__(self): return len(items)\n",
    "    \n",
    "    def show(self, o, ctx=None, **kwargs):\n",
    "        o = self.tuple_pipe.decode(o)\n",
    "        for o_,p in zip(o,self.pipes): ctx = p.show(o_, ctx=ctx, **kwargs)\n",
    "        return ctx\n",
    "        \n",
    "    def show_at(self, i, ctx=None, **kwargs): return self.show(self[i], ctx=ctx, **kwargs)"
   ]
  },
  {
   "cell_type": "code",
   "execution_count": null,
   "metadata": {},
   "outputs": [],
   "source": [
    "pipe_x = Pipeline(PIL.Image.open, rand_dihedral, mk_tensor)\n",
    "pipe_y = Pipeline(parent_label, Categorify(vocab))"
   ]
  },
  {
   "cell_type": "code",
   "execution_count": null,
   "metadata": {},
   "outputs": [],
   "source": [
    "ds = MNIST(items, [pipe_x, pipe_y], Pipeline())"
   ]
  },
  {
   "cell_type": "code",
   "execution_count": null,
   "metadata": {},
   "outputs": [
    {
     "data": {
      "image/png": "[encoded data removed]",
      "text/plain": [
       "<Figure size 72x72 with 1 Axes>"
      ]
     },
     "metadata": {
      "needs_background": "light"
     },
     "output_type": "display_data"
    }
   ],
   "source": [
    "ds.show_at(0, cmap=\"Greys\", figsize=(1,1))"
   ]
  },
  {
   "cell_type": "code",
   "execution_count": null,
   "metadata": {},
   "outputs": [
    {
     "data": {
      "text/plain": [
       "[__main__.TensorImage, __main__.String]"
      ]
     },
     "execution_count": null,
     "metadata": {},
     "output_type": "execute_result"
    }
   ],
   "source": [
    "ds.tuple_pipe.final_t"
   ]
  },
  {
   "cell_type": "code",
   "execution_count": null,
   "metadata": {},
   "outputs": [],
   "source": [
    "dl = DataLoader(ds, batch_size=9)"
   ]
  },
  {
   "cell_type": "code",
   "execution_count": null,
   "metadata": {},
   "outputs": [],
   "source": [
    "@patch\n",
    "def floatify(x:TensorImage): return x.float()/255."
   ]
  },
  {
   "cell_type": "code",
   "execution_count": null,
   "metadata": {},
   "outputs": [],
   "source": [
    "class Normalize(Transform):\n",
    "    def __init__(self, m, s): self.m,self.s = m,s\n",
    "    def encodes(self, o)->TensorImage: return (o-self.m)/self.s\n",
    "    def decodes(self, o):              return (o*self.s)+self.m\n",
    "\n",
    "norm_mnist = Normalize(m,s)"
   ]
  },
  {
   "cell_type": "code",
   "execution_count": null,
   "metadata": {},
   "outputs": [],
   "source": [
    "imgf = floatify(imgt)"
   ]
  },
  {
   "cell_type": "code",
   "execution_count": null,
   "metadata": {},
   "outputs": [
    {
     "data": {
      "text/plain": [
       "(tensor(0.1983), tensor(0.3761))"
      ]
     },
     "execution_count": null,
     "metadata": {},
     "output_type": "execute_result"
    }
   ],
   "source": [
    "imgf.mean(),imgf.std()"
   ]
  },
  {
   "cell_type": "code",
   "execution_count": null,
   "metadata": {},
   "outputs": [
    {
     "data": {
      "text/plain": [
       "(tensor(0.3277), tensor(1.2535))"
      ]
     },
     "execution_count": null,
     "metadata": {},
     "output_type": "execute_result"
    }
   ],
   "source": [
    "imgn = norm_mnist(imgf)\n",
    "imgn.mean(),imgn.std()"
   ]
  },
  {
   "cell_type": "code",
   "execution_count": null,
   "metadata": {},
   "outputs": [
    {
     "data": {
      "text/plain": [
       "(tensor(0.1983), tensor(0.3761))"
      ]
     },
     "execution_count": null,
     "metadata": {},
     "output_type": "execute_result"
    }
   ],
   "source": [
    "imgf2 = norm_mnist.decode(imgn)\n",
    "imgf2.mean(),imgf2.std()"
   ]
  },
  {
   "cell_type": "code",
   "execution_count": null,
   "metadata": {},
   "outputs": [],
   "source": [
    "norm_mnist = Normalize(m,s)\n",
    "dl_pipe = Pipeline(to_device, floatify, norm_mnist)"
   ]
  },
  {
   "cell_type": "code",
   "execution_count": null,
   "metadata": {},
   "outputs": [],
   "source": [
    "class MNIST_DL():\n",
    "    def __init__(self, dl, f): \n",
    "        self.dl,self.f = dl,f\n",
    "        t = getattr(self.dl.dataset.tuple_pipe, 'final_t', None) if hasattr(self.dl.dataset, 'tuple_pipe') else None\n",
    "        self.f.setup(t=t)\n",
    "        \n",
    "    def __iter__(self): return (self.f(b) for b in self.dl)\n",
    "    def __len__(self): return len(self.dl)\n",
    "    \n",
    "    def show_batch(self, b, max_rows=10, ctxs=None, **kwargs):\n",
    "        b = self.f.decode(b) \n",
    "        rows = itertools.islice(zip(*L(b)), max_rows)\n",
    "        if ctxs is None: ctxs = [None] * len(b[0] if is_iter(b[0]) else b)\n",
    "        for o,ctx in zip(rows,ctxs): self.dl.dataset.show(o, ctx=ctx, **kwargs)"
   ]
  },
  {
   "cell_type": "code",
   "execution_count": null,
   "metadata": {},
   "outputs": [],
   "source": [
    "mdl = MNIST_DL(dl, dl_pipe)"
   ]
  },
  {
   "cell_type": "code",
   "execution_count": null,
   "metadata": {},
   "outputs": [
    {
     "ename": "TypeError",
     "evalue": "encodes() takes 2 positional arguments but 3 were given",
     "output_type": "error",
     "traceback": [
      "\u001b[0;31m---------------------------------------------------------------------------\u001b[0m",
      "\u001b[0;31mTypeError\u001b[0m                                 Traceback (most recent call last)",
      "\u001b[0;32m<ipython-input-129-ab3e74f72e3d>\u001b[0m in \u001b[0;36m<module>\u001b[0;34m\u001b[0m\n\u001b[0;32m----> 1\u001b[0;31m \u001b[0mb\u001b[0m \u001b[0;34m=\u001b[0m \u001b[0mnext\u001b[0m\u001b[0;34m(\u001b[0m\u001b[0miter\u001b[0m\u001b[0;34m(\u001b[0m\u001b[0mmdl\u001b[0m\u001b[0;34m)\u001b[0m\u001b[0;34m)\u001b[0m\u001b[0;34m\u001b[0m\u001b[0;34m\u001b[0m\u001b[0m\n\u001b[0m",
      "\u001b[0;32m<ipython-input-127-9aad680dfb5a>\u001b[0m in \u001b[0;36m<genexpr>\u001b[0;34m(.0)\u001b[0m\n\u001b[1;32m      5\u001b[0m         \u001b[0mself\u001b[0m\u001b[0;34m.\u001b[0m\u001b[0mf\u001b[0m\u001b[0;34m.\u001b[0m\u001b[0msetup\u001b[0m\u001b[0;34m(\u001b[0m\u001b[0mt\u001b[0m\u001b[0;34m=\u001b[0m\u001b[0mt\u001b[0m\u001b[0;34m)\u001b[0m\u001b[0;34m\u001b[0m\u001b[0;34m\u001b[0m\u001b[0m\n\u001b[1;32m      6\u001b[0m \u001b[0;34m\u001b[0m\u001b[0m\n\u001b[0;32m----> 7\u001b[0;31m     \u001b[0;32mdef\u001b[0m \u001b[0m__iter__\u001b[0m\u001b[0;34m(\u001b[0m\u001b[0mself\u001b[0m\u001b[0;34m)\u001b[0m\u001b[0;34m:\u001b[0m \u001b[0;32mreturn\u001b[0m \u001b[0;34m(\u001b[0m\u001b[0mself\u001b[0m\u001b[0;34m.\u001b[0m\u001b[0mf\u001b[0m\u001b[0;34m(\u001b[0m\u001b[0mb\u001b[0m\u001b[0;34m)\u001b[0m \u001b[0;32mfor\u001b[0m \u001b[0mb\u001b[0m \u001b[0;32min\u001b[0m \u001b[0mself\u001b[0m\u001b[0;34m.\u001b[0m\u001b[0mdl\u001b[0m\u001b[0;34m)\u001b[0m\u001b[0;34m\u001b[0m\u001b[0;34m\u001b[0m\u001b[0m\n\u001b[0m\u001b[1;32m      8\u001b[0m     \u001b[0;32mdef\u001b[0m \u001b[0m__len__\u001b[0m\u001b[0;34m(\u001b[0m\u001b[0mself\u001b[0m\u001b[0;34m)\u001b[0m\u001b[0;34m:\u001b[0m \u001b[0;32mreturn\u001b[0m \u001b[0mlen\u001b[0m\u001b[0;34m(\u001b[0m\u001b[0mself\u001b[0m\u001b[0;34m.\u001b[0m\u001b[0mdl\u001b[0m\u001b[0;34m)\u001b[0m\u001b[0;34m\u001b[0m\u001b[0;34m\u001b[0m\u001b[0m\n\u001b[1;32m      9\u001b[0m \u001b[0;34m\u001b[0m\u001b[0m\n",
      "\u001b[0;32m<ipython-input-114-6ce9dde1596e>\u001b[0m in \u001b[0;36m__call__\u001b[0;34m(self, o)\u001b[0m\n\u001b[1;32m     11\u001b[0m             \u001b[0mself\u001b[0m\u001b[0;34m.\u001b[0m\u001b[0mfinal_t\u001b[0m \u001b[0;34m=\u001b[0m \u001b[0mself\u001b[0m\u001b[0;34m.\u001b[0m\u001b[0mtfms\u001b[0m\u001b[0;34m[\u001b[0m\u001b[0;34m-\u001b[0m\u001b[0;36m1\u001b[0m\u001b[0;34m]\u001b[0m\u001b[0;34m.\u001b[0m\u001b[0mtype\u001b[0m\u001b[0;34m\u001b[0m\u001b[0;34m\u001b[0m\u001b[0m\n\u001b[1;32m     12\u001b[0m \u001b[0;34m\u001b[0m\u001b[0m\n\u001b[0;32m---> 13\u001b[0;31m     \u001b[0;32mdef\u001b[0m \u001b[0m__call__\u001b[0m\u001b[0;34m(\u001b[0m\u001b[0mself\u001b[0m\u001b[0;34m,\u001b[0m \u001b[0mo\u001b[0m\u001b[0;34m)\u001b[0m\u001b[0;34m:\u001b[0m \u001b[0;32mreturn\u001b[0m \u001b[0mcompose_tfms\u001b[0m\u001b[0;34m(\u001b[0m\u001b[0mo\u001b[0m\u001b[0;34m,\u001b[0m \u001b[0mself\u001b[0m\u001b[0;34m.\u001b[0m\u001b[0mtfms\u001b[0m\u001b[0;34m)\u001b[0m\u001b[0;34m\u001b[0m\u001b[0;34m\u001b[0m\u001b[0m\n\u001b[0m\u001b[1;32m     14\u001b[0m     \u001b[0;32mdef\u001b[0m \u001b[0mdecode\u001b[0m  \u001b[0;34m(\u001b[0m\u001b[0mself\u001b[0m\u001b[0;34m,\u001b[0m \u001b[0mi\u001b[0m\u001b[0;34m)\u001b[0m\u001b[0;34m:\u001b[0m \u001b[0;32mreturn\u001b[0m \u001b[0mcompose_tfms\u001b[0m\u001b[0;34m(\u001b[0m\u001b[0mi\u001b[0m\u001b[0;34m,\u001b[0m \u001b[0mself\u001b[0m\u001b[0;34m.\u001b[0m\u001b[0mtfms\u001b[0m\u001b[0;34m,\u001b[0m \u001b[0mfunc_nm\u001b[0m\u001b[0;34m=\u001b[0m\u001b[0;34m'decode'\u001b[0m\u001b[0;34m,\u001b[0m \u001b[0mreverse\u001b[0m\u001b[0;34m=\u001b[0m\u001b[0;32mTrue\u001b[0m\u001b[0;34m)\u001b[0m\u001b[0;34m\u001b[0m\u001b[0;34m\u001b[0m\u001b[0m\n\u001b[1;32m     15\u001b[0m     \u001b[0;32mdef\u001b[0m \u001b[0mshow\u001b[0m\u001b[0;34m(\u001b[0m\u001b[0mself\u001b[0m\u001b[0;34m,\u001b[0m \u001b[0mo\u001b[0m\u001b[0;34m,\u001b[0m \u001b[0mctx\u001b[0m\u001b[0;34m=\u001b[0m\u001b[0;32mNone\u001b[0m\u001b[0;34m,\u001b[0m \u001b[0;34m**\u001b[0m\u001b[0mkwargs\u001b[0m\u001b[0;34m)\u001b[0m\u001b[0;34m:\u001b[0m\u001b[0;34m\u001b[0m\u001b[0;34m\u001b[0m\u001b[0m\n",
      "\u001b[0;32m<ipython-input-113-84243fdc461a>\u001b[0m in \u001b[0;36mcompose_tfms\u001b[0;34m(x, tfms, func_nm, reverse)\u001b[0m\n\u001b[1;32m      1\u001b[0m \u001b[0;32mdef\u001b[0m \u001b[0mcompose_tfms\u001b[0m\u001b[0;34m(\u001b[0m\u001b[0mx\u001b[0m\u001b[0;34m,\u001b[0m \u001b[0mtfms\u001b[0m\u001b[0;34m,\u001b[0m \u001b[0mfunc_nm\u001b[0m\u001b[0;34m=\u001b[0m\u001b[0;34m'__call__'\u001b[0m\u001b[0;34m,\u001b[0m \u001b[0mreverse\u001b[0m\u001b[0;34m=\u001b[0m\u001b[0;32mFalse\u001b[0m\u001b[0;34m)\u001b[0m\u001b[0;34m:\u001b[0m\u001b[0;34m\u001b[0m\u001b[0;34m\u001b[0m\u001b[0m\n\u001b[1;32m      2\u001b[0m     \u001b[0;32mif\u001b[0m \u001b[0mreverse\u001b[0m\u001b[0;34m:\u001b[0m \u001b[0mtfms\u001b[0m \u001b[0;34m=\u001b[0m \u001b[0mreversed\u001b[0m\u001b[0;34m(\u001b[0m\u001b[0mtfms\u001b[0m\u001b[0;34m)\u001b[0m\u001b[0;34m\u001b[0m\u001b[0;34m\u001b[0m\u001b[0m\n\u001b[0;32m----> 3\u001b[0;31m     \u001b[0;32mfor\u001b[0m \u001b[0mtfm\u001b[0m \u001b[0;32min\u001b[0m \u001b[0mtfms\u001b[0m\u001b[0;34m:\u001b[0m \u001b[0mx\u001b[0m \u001b[0;34m=\u001b[0m \u001b[0mgetattr\u001b[0m\u001b[0;34m(\u001b[0m\u001b[0mtfm\u001b[0m\u001b[0;34m,\u001b[0m\u001b[0mfunc_nm\u001b[0m\u001b[0;34m,\u001b[0m\u001b[0mnoop\u001b[0m\u001b[0;34m)\u001b[0m\u001b[0;34m(\u001b[0m\u001b[0mx\u001b[0m\u001b[0;34m)\u001b[0m\u001b[0;34m\u001b[0m\u001b[0;34m\u001b[0m\u001b[0m\n\u001b[0m\u001b[1;32m      4\u001b[0m     \u001b[0;32mreturn\u001b[0m \u001b[0mx\u001b[0m\u001b[0;34m\u001b[0m\u001b[0;34m\u001b[0m\u001b[0m\n",
      "\u001b[0;32m<ipython-input-105-8dcefc2a8cee>\u001b[0m in \u001b[0;36m__call__\u001b[0;34m(self, o)\u001b[0m\n\u001b[1;32m     28\u001b[0m         \u001b[0;32mreturn\u001b[0m \u001b[0mgetattr\u001b[0m\u001b[0;34m(\u001b[0m\u001b[0mself\u001b[0m\u001b[0;34m,\u001b[0m \u001b[0mn\u001b[0m\u001b[0;34m,\u001b[0m \u001b[0mnoop\u001b[0m\u001b[0;34m)\u001b[0m\u001b[0;34m(\u001b[0m\u001b[0;34m*\u001b[0m\u001b[0mL\u001b[0m\u001b[0;34m(\u001b[0m\u001b[0mo\u001b[0m\u001b[0;34m)\u001b[0m\u001b[0;34m)\u001b[0m\u001b[0;34m\u001b[0m\u001b[0;34m\u001b[0m\u001b[0m\n\u001b[1;32m     29\u001b[0m \u001b[0;34m\u001b[0m\u001b[0m\n\u001b[0;32m---> 30\u001b[0;31m     \u001b[0;32mdef\u001b[0m \u001b[0m__call__\u001b[0m\u001b[0;34m(\u001b[0m\u001b[0mself\u001b[0m\u001b[0;34m,\u001b[0m \u001b[0mo\u001b[0m\u001b[0;34m)\u001b[0m\u001b[0;34m:\u001b[0m \u001b[0;32mreturn\u001b[0m \u001b[0mself\u001b[0m\u001b[0;34m.\u001b[0m\u001b[0m_apply\u001b[0m\u001b[0;34m(\u001b[0m\u001b[0;34m'encodes'\u001b[0m\u001b[0;34m,\u001b[0m \u001b[0mo\u001b[0m\u001b[0;34m)\u001b[0m\u001b[0;34m\u001b[0m\u001b[0;34m\u001b[0m\u001b[0m\n\u001b[0m\u001b[1;32m     31\u001b[0m     \u001b[0;32mdef\u001b[0m \u001b[0mdecode\u001b[0m\u001b[0;34m(\u001b[0m\u001b[0mself\u001b[0m\u001b[0;34m,\u001b[0m \u001b[0mo\u001b[0m\u001b[0;34m)\u001b[0m\u001b[0;34m:\u001b[0m   \u001b[0;32mreturn\u001b[0m \u001b[0mself\u001b[0m\u001b[0;34m.\u001b[0m\u001b[0m_apply\u001b[0m\u001b[0;34m(\u001b[0m\u001b[0;34m'decodes'\u001b[0m\u001b[0;34m,\u001b[0m \u001b[0mo\u001b[0m\u001b[0;34m)\u001b[0m\u001b[0;34m\u001b[0m\u001b[0;34m\u001b[0m\u001b[0m\n",
      "\u001b[0;32m<ipython-input-105-8dcefc2a8cee>\u001b[0m in \u001b[0;36m_apply\u001b[0;34m(self, n, o)\u001b[0m\n\u001b[1;32m     26\u001b[0m             \u001b[0mself\u001b[0m\u001b[0;34m.\u001b[0m\u001b[0mtype\u001b[0m \u001b[0;34m=\u001b[0m \u001b[0mold_type\u001b[0m\u001b[0;34m\u001b[0m\u001b[0;34m\u001b[0m\u001b[0m\n\u001b[1;32m     27\u001b[0m             \u001b[0;32mreturn\u001b[0m \u001b[0mtuple\u001b[0m\u001b[0;34m(\u001b[0m\u001b[0mres\u001b[0m\u001b[0;34m)\u001b[0m\u001b[0;34m\u001b[0m\u001b[0;34m\u001b[0m\u001b[0m\n\u001b[0;32m---> 28\u001b[0;31m         \u001b[0;32mreturn\u001b[0m \u001b[0mgetattr\u001b[0m\u001b[0;34m(\u001b[0m\u001b[0mself\u001b[0m\u001b[0;34m,\u001b[0m \u001b[0mn\u001b[0m\u001b[0;34m,\u001b[0m \u001b[0mnoop\u001b[0m\u001b[0;34m)\u001b[0m\u001b[0;34m(\u001b[0m\u001b[0;34m*\u001b[0m\u001b[0mL\u001b[0m\u001b[0;34m(\u001b[0m\u001b[0mo\u001b[0m\u001b[0;34m)\u001b[0m\u001b[0;34m)\u001b[0m\u001b[0;34m\u001b[0m\u001b[0;34m\u001b[0m\u001b[0m\n\u001b[0m\u001b[1;32m     29\u001b[0m \u001b[0;34m\u001b[0m\u001b[0m\n\u001b[1;32m     30\u001b[0m     \u001b[0;32mdef\u001b[0m \u001b[0m__call__\u001b[0m\u001b[0;34m(\u001b[0m\u001b[0mself\u001b[0m\u001b[0;34m,\u001b[0m \u001b[0mo\u001b[0m\u001b[0;34m)\u001b[0m\u001b[0;34m:\u001b[0m \u001b[0;32mreturn\u001b[0m \u001b[0mself\u001b[0m\u001b[0;34m.\u001b[0m\u001b[0m_apply\u001b[0m\u001b[0;34m(\u001b[0m\u001b[0;34m'encodes'\u001b[0m\u001b[0;34m,\u001b[0m \u001b[0mo\u001b[0m\u001b[0;34m)\u001b[0m\u001b[0;34m\u001b[0m\u001b[0;34m\u001b[0m\u001b[0m\n",
      "\u001b[0;31mTypeError\u001b[0m: encodes() takes 2 positional arguments but 3 were given"
     ]
    }
   ],
   "source": [
    "b = next(iter(mdl))"
   ]
  },
  {
   "cell_type": "code",
   "execution_count": null,
   "metadata": {},
   "outputs": [],
   "source": [
    "b[0].shape,b[1].shape, b[0].mean(), b[0].std()\n",
    "assert b[0].min()<0"
   ]
  },
  {
   "cell_type": "code",
   "execution_count": null,
   "metadata": {},
   "outputs": [],
   "source": [
    "mdl.f.final_t"
   ]
  },
  {
   "cell_type": "code",
   "execution_count": null,
   "metadata": {},
   "outputs": [],
   "source": [
    "fig,axs = plt.subplots(3,3)\n",
    "mdl.show_batch(b, cmap=\"Greys\", figsize=(4,4), ctxs=axs.flat)"
   ]
  },
  {
   "cell_type": "markdown",
   "metadata": {},
   "source": [
    "## v6"
   ]
  },
  {
   "cell_type": "code",
   "execution_count": null,
   "metadata": {},
   "outputs": [],
   "source": [
    "class Transform(PrePostInit):\n",
    "    def __init__(self,encode=None,decode=None):\n",
    "        if encode: self.encode = encode\n",
    "        if decode: self.decode = decode"
   ]
  },
  {
   "cell_type": "code",
   "execution_count": null,
   "metadata": {},
   "outputs": [],
   "source": [
    "@patch\n",
    "def powx(x:math, a): return math.pow(x,a)\n",
    "\n",
    "@patch\n",
    "def powx(x:torch, a): return torch.pow(x,a)\n",
    "\n",
    "class Add1(Transform):\n",
    "    def encode(self,x): return x+1\n",
    "    def decode(self,x): return x-1"
   ]
  },
  {
   "cell_type": "code",
   "execution_count": null,
   "metadata": {},
   "outputs": [],
   "source": [
    "def mk_torch(x)->torch: return tensor(x)\n",
    "def mk_math (x)->math : return x"
   ]
  },
  {
   "cell_type": "code",
   "execution_count": null,
   "metadata": {},
   "outputs": [],
   "source": [
    "class Func():\n",
    "    def __init__(self, nm, *args, **kwargs): self.nm,self.args,self.kwargs = nm,args,kwargs\n",
    "    def __call__(self,t):\n",
    "        f = getattr(t,self.nm)\n",
    "        if not (self.args or self.kwargs): return f\n",
    "        return partial(f, *self.args, **self.kwargs)"
   ]
  },
  {
   "cell_type": "code",
   "execution_count": null,
   "metadata": {},
   "outputs": [],
   "source": [
    "pipe_funcs = [(Func('powx',a=2), 'sqrt'), Add1()]\n",
    "\n",
    "pf1 = [mk_math ] + pipe_funcs\n",
    "pf2 = [mk_torch] + pipe_funcs"
   ]
  },
  {
   "cell_type": "code",
   "execution_count": null,
   "metadata": {},
   "outputs": [],
   "source": [
    "def mk_func(f, t):\n",
    "    if isinstance(f,str ): f = Func(f)\n",
    "    if isinstance(f,Func): f = f(t)\n",
    "    return f\n",
    "\n",
    "def mk_tfm(f,t):\n",
    "    if not is_listy(f): f = (f,None)\n",
    "    return Transform(mk_func(f[0],t), mk_func(f[1],t))"
   ]
  },
  {
   "cell_type": "code",
   "execution_count": null,
   "metadata": {},
   "outputs": [],
   "source": [
    "def compose_tfms(x, tfms, func_nm='encode', reverse=False):\n",
    "    if reverse: tfms = reversed(tfms)\n",
    "    for tfm in tfms: x = getattr(tfm,func_nm,noop)(x)\n",
    "    return x"
   ]
  },
  {
   "cell_type": "code",
   "execution_count": null,
   "metadata": {},
   "outputs": [],
   "source": [
    "def _get_ret(func):\n",
    "    ann = getattr(func,'__annotations__', None)\n",
    "    if not ann: return None\n",
    "    return ann.get('return')"
   ]
  },
  {
   "cell_type": "code",
   "execution_count": null,
   "metadata": {},
   "outputs": [],
   "source": [
    "class Pipeline():\n",
    "    def __init__(self, funcs):\n",
    "        self.fs = []\n",
    "        self.t = None\n",
    "        for f in funcs:\n",
    "            if not isinstance(f,Transform): f = mk_tfm(f, self.t)\n",
    "            self.fs.append(f)\n",
    "            self.t = _get_ret(f.encode) or self.t\n",
    "                \n",
    "    def __call__(self, o): return compose_tfms(o, self.fs)\n",
    "    def decode  (self, i): return compose_tfms(i, self.fs, func_nm='decode', reverse=True)"
   ]
  },
  {
   "cell_type": "code",
   "execution_count": null,
   "metadata": {},
   "outputs": [
    {
     "data": {
      "text/plain": [
       "5.0"
      ]
     },
     "execution_count": null,
     "metadata": {},
     "output_type": "execute_result"
    }
   ],
   "source": [
    "p1 = Pipeline(pf1)\n",
    "a1 = p1(2); a1"
   ]
  },
  {
   "cell_type": "code",
   "execution_count": null,
   "metadata": {},
   "outputs": [
    {
     "data": {
      "text/plain": [
       "2.0"
      ]
     },
     "execution_count": null,
     "metadata": {},
     "output_type": "execute_result"
    }
   ],
   "source": [
    "p1.decode(a1)"
   ]
  },
  {
   "cell_type": "code",
   "execution_count": null,
   "metadata": {},
   "outputs": [
    {
     "data": {
      "text/plain": [
       "tensor(5.)"
      ]
     },
     "execution_count": null,
     "metadata": {},
     "output_type": "execute_result"
    }
   ],
   "source": [
    "p2 = Pipeline(pf2)\n",
    "a2 = p2(tensor(2.)); a2"
   ]
  },
  {
   "cell_type": "code",
   "execution_count": null,
   "metadata": {},
   "outputs": [
    {
     "data": {
      "text/plain": [
       "tensor(2.)"
      ]
     },
     "execution_count": null,
     "metadata": {},
     "output_type": "execute_result"
    }
   ],
   "source": [
    "p2.decode(a2)"
   ]
  },
  {
   "cell_type": "markdown",
   "metadata": {},
   "source": [
    "## fin"
   ]
  },
  {
   "cell_type": "code",
   "execution_count": null,
   "metadata": {},
   "outputs": [],
   "source": []
  }
 ],
 "metadata": {
  "kernelspec": {
   "display_name": "Python 3",
   "language": "python",
   "name": "python3"
  }
 },
 "nbformat": 4,
 "nbformat_minor": 2
}
