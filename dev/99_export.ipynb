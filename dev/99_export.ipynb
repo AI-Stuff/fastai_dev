{
 "cells": [
  {
   "cell_type": "code",
   "execution_count": null,
   "metadata": {},
   "outputs": [],
   "source": [
    "# export\n",
    "import json,fire,re,os,shutil,glob\n",
    "from pathlib import Path\n",
    "from fastai.gen_doc.nbdoc import show_doc\n",
    "from typing import Union, Optional\n",
    "from typeguard import typechecked\n",
    "NoneType = type(None)"
   ]
  },
  {
   "cell_type": "code",
   "execution_count": null,
   "metadata": {},
   "outputs": [],
   "source": [
    "# default_exp export"
   ]
  },
  {
   "cell_type": "markdown",
   "metadata": {},
   "source": [
    "## Reading a notebook"
   ]
  },
  {
   "cell_type": "markdown",
   "metadata": {},
   "source": [
    "### What's a notebook?"
   ]
  },
  {
   "cell_type": "markdown",
   "metadata": {},
   "source": [
    "A jupyter notebook is a json file behind the scenes. We can just read it with the json module, which will return a nested dictionary of dictionaries/lists of dictionaries."
   ]
  },
  {
   "cell_type": "code",
   "execution_count": null,
   "metadata": {},
   "outputs": [],
   "source": [
    "test_nb = json.load(open('00_export.ipynb'))"
   ]
  },
  {
   "cell_type": "markdown",
   "metadata": {},
   "source": [
    "The root has four keys: `cells` contains the cells of the notebook, `metadata` some stuff around the version of python used to execute the notebook, `nbformat` and `nbformat_minor` the version of nbformat. "
   ]
  },
  {
   "cell_type": "code",
   "execution_count": null,
   "metadata": {},
   "outputs": [
    {
     "data": {
      "text/plain": [
       "dict_keys(['cells', 'metadata', 'nbformat', 'nbformat_minor'])"
      ]
     },
     "execution_count": null,
     "metadata": {},
     "output_type": "execute_result"
    }
   ],
   "source": [
    "test_nb.keys()"
   ]
  },
  {
   "cell_type": "code",
   "execution_count": null,
   "metadata": {},
   "outputs": [
    {
     "data": {
      "text/plain": [
       "{'kernelspec': {'display_name': 'Python 3',\n",
       "  'language': 'python',\n",
       "  'name': 'python3'},\n",
       " 'language_info': {'codemirror_mode': {'name': 'ipython', 'version': 3},\n",
       "  'file_extension': '.py',\n",
       "  'mimetype': 'text/x-python',\n",
       "  'name': 'python',\n",
       "  'nbconvert_exporter': 'python',\n",
       "  'pygments_lexer': 'ipython3',\n",
       "  'version': '3.7.1'}}"
      ]
     },
     "execution_count": null,
     "metadata": {},
     "output_type": "execute_result"
    }
   ],
   "source": [
    "test_nb['metadata']"
   ]
  },
  {
   "cell_type": "code",
   "execution_count": null,
   "metadata": {},
   "outputs": [
    {
     "data": {
      "text/plain": [
       "'4.2'"
      ]
     },
     "execution_count": null,
     "metadata": {},
     "output_type": "execute_result"
    }
   ],
   "source": [
    "f\"{test_nb['nbformat']}.{test_nb['nbformat_minor']}\""
   ]
  },
  {
   "cell_type": "markdown",
   "metadata": {},
   "source": [
    "The cells key then contains a list of cells. Each one is a new dictionary that contains entries like the type (code or markdown), the source (what is written in the cell) and the output (for code cells)."
   ]
  },
  {
   "cell_type": "code",
   "execution_count": null,
   "metadata": {},
   "outputs": [
    {
     "data": {
      "text/plain": [
       "{'cell_type': 'code',\n",
       " 'execution_count': 1,\n",
       " 'metadata': {},\n",
       " 'outputs': [],\n",
       " 'source': ['# export\\n',\n",
       "  'import json,fire,re,os,shutil,glob\\n',\n",
       "  'from pathlib import Path\\n',\n",
       "  'from fastai.gen_doc.nbdoc import show_doc\\n',\n",
       "  'from typing import Union, Optional\\n',\n",
       "  'from typeguard import typechecked\\n',\n",
       "  'NoneType = type(None)']}"
      ]
     },
     "execution_count": null,
     "metadata": {},
     "output_type": "execute_result"
    }
   ],
   "source": [
    "test_nb['cells'][0]"
   ]
  },
  {
   "cell_type": "markdown",
   "metadata": {},
   "source": [
    "### Finiding patterns"
   ]
  },
  {
   "cell_type": "code",
   "execution_count": null,
   "metadata": {},
   "outputs": [],
   "source": [
    "# export\n",
    "def check_re_pattern(cell, pat):\n",
    "    \"Check if `cell` contains given `pat`.\"\n",
    "    if cell['cell_type'] != 'code': return False\n",
    "    src = cell['source']\n",
    "    if len(src) == 0: return False\n",
    "    return re.match(pat, src[0], re.IGNORECASE) "
   ]
  },
  {
   "cell_type": "code",
   "execution_count": null,
   "metadata": {},
   "outputs": [
    {
     "data": {
      "text/markdown": [
       "<h4 id=\"check_re_pattern\" class=\"doc_header\"><code>check_re_pattern</code><a class=\"source_link\" data-toggle=\"collapse\" data-target=\"#check_re_pattern-pytest\" style=\"float:right; padding-right:10px\">[test]</a></h4>\n",
       "\n",
       "> <code>check_re_pattern</code>(**`cell`**, **`pat`**)\n",
       "\n",
       "<div class=\"collapse\" id=\"check_re_pattern-pytest\"><div class=\"card card-body pytest_card\"><a type=\"button\" data-toggle=\"collapse\" data-target=\"#check_re_pattern-pytest\" class=\"close\" aria-label=\"Close\"><span aria-hidden=\"true\">&times;</span></a><p>No tests found for <code>check_re_pattern</code>. To contribute a test please refer to <a href=\"/dev/test.html\">this guide</a> and <a href=\"https://forums.fast.ai/t/improving-expanding-functional-tests/32929\">this discussion</a>.</p></div></div>\n",
       "\n",
       "Check if `cell` contains given `pat`.  "
      ],
      "text/plain": [
       "<IPython.core.display.Markdown object>"
      ]
     },
     "metadata": {},
     "output_type": "display_data"
    }
   ],
   "source": [
    "show_doc(check_re_pattern)"
   ]
  },
  {
   "cell_type": "markdown",
   "metadata": {},
   "source": [
    "This functions returns `None` if `pat` isn't present in `cell` and the re match object otherwise, in case you want to access the groups it matched."
   ]
  },
  {
   "cell_type": "code",
   "execution_count": null,
   "metadata": {},
   "outputs": [],
   "source": [
    "cell = {'cell_type': 'code', 'source': ['# export\\n', 'import fastai']}\n",
    "assert check_re_pattern(cell, r'^#') is not None\n",
    "assert check_re_pattern(cell, r'bla') is None\n",
    "assert check_re_pattern(cell, r'^#\\s*(\\S*)\\s*$').groups()[0] == 'export'"
   ]
  },
  {
   "cell_type": "code",
   "execution_count": null,
   "metadata": {},
   "outputs": [],
   "source": [
    "# export\n",
    "def is_export(cell, default):\n",
    "    \"Check if `cell` is to be exported and returns the name of the module.\"\n",
    "    if check_re_pattern(cell, r'^\\s*#\\s*exports?\\s*$'): \n",
    "        if default is None: print(f\"This cell doesn't have an export destination and was ignored:\\n{cell['source'][1]}\")\n",
    "        return default\n",
    "    tst = check_re_pattern(cell, r'^\\s*#\\s*exports?\\s*(\\S+)\\s*$')\n",
    "    return os.path.sep.join(tst.groups()[0].split('.')) if tst else None "
   ]
  },
  {
   "cell_type": "code",
   "execution_count": null,
   "metadata": {},
   "outputs": [
    {
     "data": {
      "text/markdown": [
       "<h4 id=\"is_export\" class=\"doc_header\"><code>is_export</code><a class=\"source_link\" data-toggle=\"collapse\" data-target=\"#is_export-pytest\" style=\"float:right; padding-right:10px\">[test]</a></h4>\n",
       "\n",
       "> <code>is_export</code>(**`cell`**, **`default`**)\n",
       "\n",
       "<div class=\"collapse\" id=\"is_export-pytest\"><div class=\"card card-body pytest_card\"><a type=\"button\" data-toggle=\"collapse\" data-target=\"#is_export-pytest\" class=\"close\" aria-label=\"Close\"><span aria-hidden=\"true\">&times;</span></a><p>No tests found for <code>is_export</code>. To contribute a test please refer to <a href=\"/dev/test.html\">this guide</a> and <a href=\"https://forums.fast.ai/t/improving-expanding-functional-tests/32929\">this discussion</a>.</p></div></div>\n",
       "\n",
       "Check if `cell` is to be exported and returns the name of the module.  "
      ],
      "text/plain": [
       "<IPython.core.display.Markdown object>"
      ]
     },
     "metadata": {},
     "output_type": "display_data"
    }
   ],
   "source": [
    "show_doc(is_export)"
   ]
  },
  {
   "cell_type": "markdown",
   "metadata": {},
   "source": [
    "The cells to export are marked with an `#export` or `#exports` code, potentially with a module name where we want it exported. The default is given in a cell of the form `#default_exp bla` inside the notebook (usually at the top), though in this function, it needs the be passed (the final script will read the whole notebook to find it)."
   ]
  },
  {
   "cell_type": "code",
   "execution_count": null,
   "metadata": {},
   "outputs": [],
   "source": [
    "cell = test_nb['cells'][0].copy()\n",
    "assert is_export(cell, 'export') == 'export'\n",
    "cell['source'][0] = \"# exports\" \n",
    "assert is_export(cell, 'export') == 'export'\n",
    "cell['source'][0] = \"# export mod\" \n",
    "assert is_export(cell, 'export') == 'mod'\n",
    "cell['source'][0] = \"# export mod.file\" \n",
    "assert is_export(cell, 'export') == 'mod/file'\n",
    "cell['source'][0] = \"# expt mod.file\"\n",
    "assert is_export(cell, 'export') is None\n",
    "cell['source'][0] = \"# export\""
   ]
  },
  {
   "cell_type": "code",
   "execution_count": null,
   "metadata": {},
   "outputs": [],
   "source": [
    "# export\n",
    "def find_default_export(cells):\n",
    "    \"Find in `cells` the default export module.\"\n",
    "    for cell in cells:\n",
    "        tst = check_re_pattern(cell, r'^\\s*#\\s*default_exp\\s*(\\S*)\\s*$')\n",
    "        if tst: return tst.groups()[0]"
   ]
  },
  {
   "cell_type": "code",
   "execution_count": null,
   "metadata": {},
   "outputs": [
    {
     "data": {
      "text/markdown": [
       "<h4 id=\"find_default_export\" class=\"doc_header\"><code>find_default_export</code><a class=\"source_link\" data-toggle=\"collapse\" data-target=\"#find_default_export-pytest\" style=\"float:right; padding-right:10px\">[test]</a></h4>\n",
       "\n",
       "> <code>find_default_export</code>(**`cells`**)\n",
       "\n",
       "<div class=\"collapse\" id=\"find_default_export-pytest\"><div class=\"card card-body pytest_card\"><a type=\"button\" data-toggle=\"collapse\" data-target=\"#find_default_export-pytest\" class=\"close\" aria-label=\"Close\"><span aria-hidden=\"true\">&times;</span></a><p>No tests found for <code>find_default_export</code>. To contribute a test please refer to <a href=\"/dev/test.html\">this guide</a> and <a href=\"https://forums.fast.ai/t/improving-expanding-functional-tests/32929\">this discussion</a>.</p></div></div>\n",
       "\n",
       "Find in `cells` the default export module.  "
      ],
      "text/plain": [
       "<IPython.core.display.Markdown object>"
      ]
     },
     "metadata": {},
     "output_type": "display_data"
    }
   ],
   "source": [
    "show_doc(find_default_export)"
   ]
  },
  {
   "cell_type": "markdown",
   "metadata": {},
   "source": [
    "Stops at the first cell containing a `#default_exp` code and return the value behind. Returns `None` if there are no cell with that code."
   ]
  },
  {
   "cell_type": "code",
   "execution_count": null,
   "metadata": {},
   "outputs": [],
   "source": [
    "assert find_default_export(test_nb['cells']) == 'export'\n",
    "assert find_default_export(test_nb['cells'][2:]) is None"
   ]
  },
  {
   "cell_type": "markdown",
   "metadata": {},
   "source": [
    "### Exporting notebooks"
   ]
  },
  {
   "cell_type": "markdown",
   "metadata": {},
   "source": [
    "We're now ready to export notebooks!"
   ]
  },
  {
   "cell_type": "code",
   "execution_count": null,
   "metadata": {},
   "outputs": [],
   "source": [
    "# export\n",
    "def _create_mod_file(fname, nb_path):\n",
    "    \"Create a module file for `fname`.\"\n",
    "    with open(fname, 'w') as f: \n",
    "        f.write(f\"#AUTOGENERATED! DO NOT EDIT! File to edit: dev/{nb_path.name} (unless otherwise specified).\")"
   ]
  },
  {
   "cell_type": "code",
   "execution_count": null,
   "metadata": {},
   "outputs": [],
   "source": [
    "#export \n",
    "def _notebook2script(fname):\n",
    "    \"Finds cells starting with `#export` and puts them into a new module\"\n",
    "    fname = Path(fname)\n",
    "    nb = json.load(open(fname,'r'))\n",
    "    default = find_default_export(nb['cells'])\n",
    "    if default is not None: \n",
    "        default = os.path.sep.join(default.split('.'))\n",
    "        _create_mod_file(Path.cwd()/'fastai_local'/f'{default}.py', fname)\n",
    "    exports = [is_export(c, default) for c in nb['cells']]\n",
    "    cells = [(c,e) for (c,e) in zip(nb['cells'],exports) if e is not None]\n",
    "    for (c,e) in cells:\n",
    "        fname_out = Path.cwd()/'fastai_local'/f'{e}.py'\n",
    "        orig = '' if e==default else f'#Comes from {fname.name}.\\n'\n",
    "        code = '\\n\\n' + orig + ''.join(c['source'][1:])\n",
    "        # remove trailing spaces\n",
    "        code = re.sub(r' +$', '', code, flags=re.MULTILINE)\n",
    "        with open(fname_out, 'a') as f: f.write(code)\n",
    "    print(f\"Converted {fname}.\")"
   ]
  },
  {
   "cell_type": "code",
   "execution_count": null,
   "metadata": {},
   "outputs": [],
   "source": [
    "#export \n",
    "def _get_sorted_files(all_fs: Union[bool,str], up_to=None):\n",
    "    \"Return the list of files corresponding to `g` in the current dir.\"\n",
    "    if (all_fs==True): ret = glob.glob('*.ipynb') # Checks both that is bool type and that is True\n",
    "    else: ret = glob.glob(all_fs) if isinstance(g,str) else []\n",
    "    if len(ret)==0: print('WARNING: No files found')\n",
    "    if up_to is not None: ret = [f for f in ret if str(f)<=str(up_to)]\n",
    "    return sorted(ret)"
   ]
  },
  {
   "cell_type": "code",
   "execution_count": null,
   "metadata": {},
   "outputs": [],
   "source": [
    "#export \n",
    "def notebook2script(fname=None, all_fs:Optional[Union[bool,str]]=None, up_to=None):\n",
    "    # initial checks\n",
    "    assert fname or all_fs\n",
    "    if (all_fs is None) and (up_to is not None): all_fs=True # Enable allFiles if upTo is present\n",
    "    fnames = _get_sorted_files(all_fs, up_to=up_to) if all_fs else [fname]\n",
    "    [_notebook2script(f) for f in fnames]"
   ]
  },
  {
   "cell_type": "markdown",
   "metadata": {},
   "source": [
    "Finds cells starting with `#export` and puts them into the appropriate module.\n",
    "* `fname`: the filename of one notebook to convert\n",
    "* `all_fs`: `True` if you want to convert all notebook files in the folder or a glob expression\n",
    "* `up_to`: converts all notebooks respecting the previous arg up to a certain number\n",
    "\n",
    "Examples of use in console:\n",
    "```\n",
    "notebook2script 00_export.ipynb                 # Parse 00_export.ipynb\n",
    "notebook2script --all_fs=True                   # Parse all files\n",
    "notebook2script --all_fs=nb*                    # Parse all files starting with nb*\n",
    "notebook2script --up_to=10                      # Parse all files with (name<='10')\n",
    "notebook2script --all_fs=*_*.ipynb --up_to=10   # Parse all files with an '_' and (name<='10')\n",
    "```"
   ]
  },
  {
   "cell_type": "code",
   "execution_count": null,
   "metadata": {},
   "outputs": [
    {
     "name": "stdout",
     "output_type": "stream",
     "text": [
      "Converted 99_export.ipynb.\n"
     ]
    }
   ],
   "source": [
    "notebook2script('99_export.ipynb')"
   ]
  },
  {
   "cell_type": "code",
   "execution_count": null,
   "metadata": {},
   "outputs": [
    {
     "name": "stdout",
     "output_type": "stream",
     "text": [
      "Converted 00_test.ipynb.\n",
      "Converted 01_core.ipynb.\n",
      "Converted 99_export.ipynb.\n"
     ]
    }
   ],
   "source": [
    "notebook2script(all_fs=True)"
   ]
  },
  {
   "cell_type": "code",
   "execution_count": null,
   "metadata": {},
   "outputs": [],
   "source": []
  }
 ],
 "metadata": {
  "kernelspec": {
   "display_name": "Python 3",
   "language": "python",
   "name": "python3"
  }
 },
 "nbformat": 4,
 "nbformat_minor": 2
}
