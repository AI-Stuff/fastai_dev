{
 "cells": [
  {
   "cell_type": "code",
   "execution_count": null,
   "metadata": {
    "hide_input": false
   },
   "outputs": [],
   "source": [
    "# export\n",
    "from fastai_local.core import *\n",
    "from fastai_local.test import *\n",
    "from fastai_local.imports import *\n",
    "import nbformat"
   ]
  },
  {
   "cell_type": "code",
   "execution_count": null,
   "metadata": {},
   "outputs": [],
   "source": [
    "# default_exp notebook.export"
   ]
  },
  {
   "cell_type": "markdown",
   "metadata": {},
   "source": [
    "# Converting notebooks to modules\n",
    "\n",
    "> The functions that transform the dev notebooks in the fastai library"
   ]
  },
  {
   "cell_type": "markdown",
   "metadata": {},
   "source": [
    "## Reading a notebook"
   ]
  },
  {
   "cell_type": "markdown",
   "metadata": {},
   "source": [
    "### What's a notebook?"
   ]
  },
  {
   "cell_type": "markdown",
   "metadata": {},
   "source": [
    "A jupyter notebook is a json file behind the scenes. We can just read it with the json module, which will return a nested dictionary of dictionaries/lists of dictionaries, but there are some small differences between reading the json and using the tools from `nbformat` so we'll use this one."
   ]
  },
  {
   "cell_type": "code",
   "execution_count": null,
   "metadata": {},
   "outputs": [],
   "source": [
    "#export\n",
    "def read_nb(fname):\n",
    "    \"Read the notebook in `fname`.\"\n",
    "    with open(Path(fname),'r') as f: return nbformat.reads(f.read(), as_version=4)"
   ]
  },
  {
   "cell_type": "markdown",
   "metadata": {},
   "source": [
    "`fname` can be a string or a pathlib object."
   ]
  },
  {
   "cell_type": "code",
   "execution_count": null,
   "metadata": {},
   "outputs": [],
   "source": [
    "test_nb = read_nb('99_export.ipynb')"
   ]
  },
  {
   "cell_type": "markdown",
   "metadata": {},
   "source": [
    "The root has four keys: `cells` contains the cells of the notebook, `metadata` some stuff around the version of python used to execute the notebook, `nbformat` and `nbformat_minor` the version of nbformat. "
   ]
  },
  {
   "cell_type": "code",
   "execution_count": null,
   "metadata": {},
   "outputs": [
    {
     "data": {
      "text/plain": [
       "dict_keys(['cells', 'metadata', 'nbformat', 'nbformat_minor'])"
      ]
     },
     "execution_count": null,
     "metadata": {},
     "output_type": "execute_result"
    }
   ],
   "source": [
    "test_nb.keys()"
   ]
  },
  {
   "cell_type": "code",
   "execution_count": null,
   "metadata": {},
   "outputs": [
    {
     "data": {
      "text/plain": [
       "{'kernelspec': {'display_name': 'Python 3',\n",
       "  'language': 'python',\n",
       "  'name': 'python3'},\n",
       " 'language_info': {'codemirror_mode': {'name': 'ipython', 'version': 3},\n",
       "  'file_extension': '.py',\n",
       "  'mimetype': 'text/x-python',\n",
       "  'name': 'python',\n",
       "  'nbconvert_exporter': 'python',\n",
       "  'pygments_lexer': 'ipython3',\n",
       "  'version': '3.7.1'}}"
      ]
     },
     "execution_count": null,
     "metadata": {},
     "output_type": "execute_result"
    }
   ],
   "source": [
    "test_nb['metadata']"
   ]
  },
  {
   "cell_type": "code",
   "execution_count": null,
   "metadata": {},
   "outputs": [
    {
     "data": {
      "text/plain": [
       "'4.2'"
      ]
     },
     "execution_count": null,
     "metadata": {},
     "output_type": "execute_result"
    }
   ],
   "source": [
    "f\"{test_nb['nbformat']}.{test_nb['nbformat_minor']}\""
   ]
  },
  {
   "cell_type": "markdown",
   "metadata": {},
   "source": [
    "The cells key then contains a list of cells. Each one is a new dictionary that contains entries like the type (code or markdown), the source (what is written in the cell) and the output (for code cells)."
   ]
  },
  {
   "cell_type": "code",
   "execution_count": null,
   "metadata": {},
   "outputs": [
    {
     "data": {
      "text/plain": [
       "{'cell_type': 'code',\n",
       " 'execution_count': 1,\n",
       " 'metadata': {'hide_input': False},\n",
       " 'outputs': [],\n",
       " 'source': '# export\\nfrom fastai_local.core import *\\nfrom fastai_local.test import *\\nfrom fastai_local.imports import *\\nimport nbformat'}"
      ]
     },
     "execution_count": null,
     "metadata": {},
     "output_type": "execute_result"
    }
   ],
   "source": [
    "test_nb['cells'][0]"
   ]
  },
  {
   "cell_type": "markdown",
   "metadata": {},
   "source": [
    "### Finding patterns"
   ]
  },
  {
   "cell_type": "code",
   "execution_count": null,
   "metadata": {},
   "outputs": [],
   "source": [
    "# export\n",
    "def check_re(cell, pat):\n",
    "    if cell['cell_type'] != 'code': return False\n",
    "    return re.match(pat, cell['source'], re.IGNORECASE | re.MULTILINE)"
   ]
  },
  {
   "cell_type": "code",
   "execution_count": null,
   "metadata": {},
   "outputs": [],
   "source": [
    "cell = test_nb['cells'][0].copy()\n",
    "assert check_re(cell, '# export') is not None\n",
    "test_is(check_re(cell, '# bla'), None)"
   ]
  },
  {
   "cell_type": "code",
   "execution_count": null,
   "metadata": {},
   "outputs": [],
   "source": [
    "# export\n",
    "def is_export(cell, default):\n",
    "    \"Check if `cell` is to be exported and returns the name of the module.\"\n",
    "    if check_re(cell, r'^\\s*#\\s*exports?\\s*$'): \n",
    "        if default is None: print(f\"This cell doesn't have an export destination and was ignored:\\n{cell['source'][1]}\")\n",
    "        return default\n",
    "    tst = check_re(cell, r'^\\s*#\\s*exports?\\s*(\\S+)\\s*$')\n",
    "    return os.path.sep.join(tst.groups()[0].split('.')) if tst else None "
   ]
  },
  {
   "cell_type": "markdown",
   "metadata": {},
   "source": [
    "The cells to export are marked with an `#export` or `#exports` code, potentially with a module name where we want it exported. The default is given in a cell of the form `#default_exp bla` inside the notebook (usually at the top), though in this function, it needs the be passed (the final script will read the whole notebook to find it)."
   ]
  },
  {
   "cell_type": "code",
   "execution_count": null,
   "metadata": {},
   "outputs": [],
   "source": [
    "cell = test_nb['cells'][0].copy()\n",
    "test_eq(is_export(cell, 'export'), 'export')\n",
    "cell['source'] = \"# exports\" \n",
    "test_eq(is_export(cell, 'export'), 'export')\n",
    "cell['source'] = \"# export mod\" \n",
    "test_eq(is_export(cell, 'export'), 'mod')\n",
    "cell['source'] = \"# export mod.file\" \n",
    "test_eq(is_export(cell, 'export'), 'mod/file')\n",
    "cell['source'] = \"# expt mod.file\"\n",
    "assert is_export(cell, 'export') is None"
   ]
  },
  {
   "cell_type": "code",
   "execution_count": null,
   "metadata": {},
   "outputs": [],
   "source": [
    "# export\n",
    "def find_default_export(cells):\n",
    "    \"Find in `cells` the default export module.\"\n",
    "    for cell in cells:\n",
    "        tst = check_re(cell, r'^\\s*#\\s*default_exp\\s*(\\S*)\\s*$')\n",
    "        if tst: return tst.groups()[0]"
   ]
  },
  {
   "cell_type": "markdown",
   "metadata": {},
   "source": [
    "Stops at the first cell containing a `#default_exp` code and return the value behind. Returns `None` if there are no cell with that code."
   ]
  },
  {
   "cell_type": "code",
   "execution_count": null,
   "metadata": {},
   "outputs": [],
   "source": [
    "test_eq(find_default_export(test_nb['cells']), 'notebook.export')\n",
    "assert find_default_export(test_nb['cells'][2:]) is None"
   ]
  },
  {
   "cell_type": "markdown",
   "metadata": {},
   "source": [
    "### Exporting notebooks"
   ]
  },
  {
   "cell_type": "markdown",
   "metadata": {},
   "source": [
    "We're now ready to export notebooks!"
   ]
  },
  {
   "cell_type": "code",
   "execution_count": null,
   "metadata": {},
   "outputs": [],
   "source": [
    "# export\n",
    "def _create_mod_file(fname, nb_path):\n",
    "    \"Create a module file for `fname`.\"\n",
    "    fname.parent.mkdir(parents=True, exist_ok=True)\n",
    "    with open(fname, 'w') as f: \n",
    "        f.write(f\"#AUTOGENERATED! DO NOT EDIT! File to edit: dev/{nb_path.name} (unless otherwise specified).\")\n",
    "        f.write('\\n\\n__all__ = []')"
   ]
  },
  {
   "cell_type": "code",
   "execution_count": null,
   "metadata": {},
   "outputs": [],
   "source": [
    "# export\n",
    "def export_names(code, func_only=False):\n",
    "    \"Find the names of the objects, functions or classes defined in `code` that are exported.\"\n",
    "    names = re.findall(r'^(?:def|class)\\s+([^\\(\\s]*)\\s*\\(', code, re.MULTILINE)\n",
    "    if not func_only: names += re.findall(r'^([^\\(\\s]*)\\s*=', code, re.MULTILINE)\n",
    "    return [n for n in names if not n.startswith('_') and not '.' in n]"
   ]
  },
  {
   "cell_type": "markdown",
   "metadata": {},
   "source": [
    "This function only picks the zero-indented objects, functions or classes (we don't want the class methods for instance) and excludes private names (that begin with `_`). It only returns func and class names when `func_only=True`."
   ]
  },
  {
   "cell_type": "code",
   "execution_count": null,
   "metadata": {},
   "outputs": [],
   "source": [
    "test_eq(export_names(\"def my_func(x)():\\n  pass\\nclass MyClass():\"), [\"my_func\", \"MyClass\"])\n",
    "#Indented funcs are ignored (funcs inside a class)\n",
    "test_eq(export_names(\"  def my_func(x)():\\n  pass\\nclass MyClass():\"), [\"MyClass\"])\n",
    "#Private funcs are ignored\n",
    "test_eq(export_names(\"def _my_func():\\n  pass\\nclass MyClass():\"), [\"MyClass\"])\n",
    "#trailing spaces\n",
    "test_eq(export_names(\"def my_func ():\\n  pass\\nclass MyClass():\"), [\"my_func\", \"MyClass\"])\n",
    "#object and funcs\n",
    "test_eq(export_names(\"def my_func ():\\n  pass\\ndefault_bla = []:\"), [\"my_func\", \"default_bla\"])\n",
    "test_eq(export_names(\"def my_func ():\\n  pass\\ndefault_bla = []:\", func_only=True), [\"my_func\"])\n",
    "#Private objects are ignored\n",
    "test_eq(export_names(\"def my_func ():\\n  pass\\n_default_bla = []:\"), [\"my_func\"])\n",
    "#Objects with dots are ignored\n",
    "test_eq(export_names(\"def my_func ():\\n  pass\\ndefault.bla = []:\"), [\"my_func\"])"
   ]
  },
  {
   "cell_type": "code",
   "execution_count": null,
   "metadata": {},
   "outputs": [],
   "source": [
    "#export\n",
    "def _add2add(fname, names, line_width=120):\n",
    "    if len(names) == 0: return\n",
    "    with open(fname, 'r') as f: text = f.read()\n",
    "    tw = TextWrapper(width=120, initial_indent='', subsequent_indent=' '*11, break_long_words=False)\n",
    "    re_all = re.search(r'__all__\\s*=\\s*\\[([^\\]]*)\\]', text)\n",
    "    start,end = re_all.start(),re_all.end()\n",
    "    text_all = tw.wrap(f\"{text[start:end-1]}{'' if text[end-2]=='[' else ', '}{', '.join(names)}]\")\n",
    "    with open(fname, 'w') as f: f.write(text[:start] + '\\n'.join(text_all) + text[end:])"
   ]
  },
  {
   "cell_type": "code",
   "execution_count": null,
   "metadata": {},
   "outputs": [],
   "source": [
    "fname = 'test_add.txt'\n",
    "with open(fname, 'w') as f: f.write(\"Bla\\n__all__ = [my_file, MyClas]\\nBli\")\n",
    "_add2add(fname, ['new_function'])\n",
    "with open(fname, 'r') as f: \n",
    "    test_eq(f.read(), \"Bla\\n__all__ = [my_file, MyClas, new_function]\\nBli\")\n",
    "_add2add(fname, [f'new_function{i}' for i in range(10)])\n",
    "with open(fname, 'r') as f: \n",
    "    test_eq(f.read(), \"\"\"Bla\n",
    "__all__ = [my_file, MyClas, new_function, new_function0, new_function1, new_function2, new_function3, new_function4,\n",
    "           new_function5, new_function6, new_function7, new_function8, new_function9]\n",
    "Bli\"\"\")\n",
    "os.remove(fname)"
   ]
  },
  {
   "cell_type": "code",
   "execution_count": null,
   "metadata": {},
   "outputs": [],
   "source": [
    "# export\n",
    "def _relative_import(name, fname):\n",
    "    mods = name.split('.')\n",
    "    splits = str(fname).split(os.path.sep)\n",
    "    if mods[0] not in splits: return name\n",
    "    splits = splits[splits.index(mods[0]):]\n",
    "    while splits[0] == mods[0]: splits,mods = splits[1:],mods[1:]\n",
    "    return '.' * (len(splits)-len(mods)+1) + '.'.join(mods)"
   ]
  },
  {
   "cell_type": "code",
   "execution_count": null,
   "metadata": {},
   "outputs": [],
   "source": [
    "test_eq(_relative_import('fastai_local.core', Path('fastai_local')/'data.py'), '.core')\n",
    "test_eq(_relative_import('fastai_local.core', Path('fastai_local')/'vision'/'data.py'), '..core')\n",
    "test_eq(_relative_import('fastai_local.vision.transform', Path('fastai_local')/'vision'/'data.py'), '.transform')"
   ]
  },
  {
   "cell_type": "code",
   "execution_count": null,
   "metadata": {},
   "outputs": [
    {
     "data": {
      "text/plain": [
       "('fastai_local.core', '*')"
      ]
     },
     "execution_count": null,
     "metadata": {},
     "output_type": "execute_result"
    }
   ],
   "source": [
    "pat = re.compile(r'from (fastai_local.\\S*) import (\\S*)$')\n",
    "m = re.match(pat, \"from fastai_local.core import *\\n\")\n",
    "m.groups()"
   ]
  },
  {
   "cell_type": "code",
   "execution_count": null,
   "metadata": {},
   "outputs": [],
   "source": [
    "# export\n",
    "def _deal_import(code_lines, fname):\n",
    "    pat = re.compile(r'from (fastai_local.\\S*) import (\\S*)$')\n",
    "    lines = []\n",
    "    for line in code_lines:\n",
    "        match = re.match(pat, line)\n",
    "        if match: lines.append(f\"from {_relative_import(match.groups()[0], fname)} import {match.groups()[1]}\")\n",
    "        else: lines.append(line)\n",
    "    return lines                    "
   ]
  },
  {
   "cell_type": "code",
   "execution_count": null,
   "metadata": {},
   "outputs": [],
   "source": [
    "#hide\n",
    "#Tricking jupyter notebook to have a __file__ attribute.\n",
    "__file__ = Path('fastai_local').absolute()/'notebook'/'export.py'"
   ]
  },
  {
   "cell_type": "code",
   "execution_count": null,
   "metadata": {},
   "outputs": [],
   "source": [
    "#export\n",
    "def _get_index():\n",
    "    if not (Path(__file__).parent/'index.txt').exists(): return {}\n",
    "    return json.load(open(Path(__file__).parent/'index.txt', 'r'))\n",
    "\n",
    "def _save_index(index): json.dump(index, open(Path(__file__).parent/'index.txt', 'w'))"
   ]
  },
  {
   "cell_type": "code",
   "execution_count": null,
   "metadata": {},
   "outputs": [],
   "source": [
    "#hide\n",
    "ind,ind_bak = Path(__file__).parent/'index.txt',Path(__file__).parent/'index.bak'\n",
    "if ind.exists(): shutil.move(ind, ind_bak)\n",
    "test_eq(_get_index(), {})\n",
    "_save_index({'foo':'bar'})\n",
    "test_eq(_get_index(), {'foo':'bar'})\n",
    "if ind_bak.exists(): shutil.move(ind_bak, ind)"
   ]
  },
  {
   "cell_type": "code",
   "execution_count": null,
   "metadata": {},
   "outputs": [],
   "source": [
    "#export \n",
    "def _notebook2script(fname):\n",
    "    \"Finds cells starting with `#export` and puts them into a new module\"\n",
    "    fname = Path(fname)\n",
    "    nb = read_nb(fname)\n",
    "    default = find_default_export(nb['cells'])\n",
    "    if default is not None: \n",
    "        default = os.path.sep.join(default.split('.'))\n",
    "        _create_mod_file(Path.cwd()/'fastai_local'/f'{default}.py', fname)\n",
    "    index = _get_index()\n",
    "    exports = [is_export(c, default) for c in nb['cells']]\n",
    "    cells = [(c,e) for (c,e) in zip(nb['cells'],exports) if e is not None]\n",
    "    for (c,e) in cells:\n",
    "        fname_out = Path.cwd()/'fastai_local'/f'{e}.py'\n",
    "        orig = '' if e==default else f'#Comes from {fname.name}.\\n'\n",
    "        code = '\\n\\n' + orig + '\\n'.join(_deal_import(c['source'].split('\\n')[1:], fname_out))\n",
    "        # remove trailing spaces\n",
    "        names = export_names(code)\n",
    "        _add2add(fname_out, [f\"'{f}'\" for f in names])\n",
    "        index.update({f: fname.name for f in names})\n",
    "        code = re.sub(r' +$', '', code, flags=re.MULTILINE)\n",
    "        with open(fname_out, 'a') as f: f.write(code)\n",
    "    _save_index(index)\n",
    "    print(f\"Converted {fname}.\")"
   ]
  },
  {
   "cell_type": "code",
   "execution_count": null,
   "metadata": {},
   "outputs": [],
   "source": [
    "#export \n",
    "def _get_sorted_files(all_fs: Union[bool,str], up_to=None):\n",
    "    \"Return the list of files corresponding to `g` in the current dir.\"\n",
    "    if (all_fs==True): ret = glob.glob('*.ipynb') # Checks both that is bool type and that is True\n",
    "    else: ret = glob.glob(all_fs) if isinstance(g,str) else []\n",
    "    if len(ret)==0: print('WARNING: No files found')\n",
    "    if up_to is not None: ret = [f for f in ret if str(f)<=str(up_to)]\n",
    "    return sorted(ret)"
   ]
  },
  {
   "cell_type": "code",
   "execution_count": null,
   "metadata": {},
   "outputs": [],
   "source": [
    "#export \n",
    "def notebook2script(fname=None, all_fs=None, up_to=None):\n",
    "    \"Convert `fname` or all the notebook satisfying `all_fs`.\"\n",
    "    # initial checks\n",
    "    assert fname or all_fs\n",
    "    if (all_fs is None) and (up_to is not None): all_fs=True # Enable allFiles if upTo is present\n",
    "    fnames = _get_sorted_files(all_fs, up_to=up_to) if all_fs else [fname]\n",
    "    [_notebook2script(f) for f in fnames]"
   ]
  },
  {
   "cell_type": "markdown",
   "metadata": {},
   "source": [
    "Finds cells starting with `#export` and puts them into the appropriate module.\n",
    "* `fname`: the filename of one notebook to convert\n",
    "* `all_fs`: `True` if you want to convert all notebook files in the folder or a glob expression\n",
    "* `up_to`: converts all notebooks respecting the previous arg up to a certain number\n",
    "\n",
    "Examples of use in console:\n",
    "```\n",
    "notebook2script                                 # Parse all files\n",
    "notebook2script --fname 00_export.ipynb         # Parse 00_export.ipynb\n",
    "notebook2script --all_fs=nb*                    # Parse all files starting with nb*\n",
    "notebook2script --up_to=10                      # Parse all files with (name<='10')\n",
    "notebook2script --all_fs=*_*.ipynb --up_to=10   # Parse all files with an '_' and (name<='10')\n",
    "```"
   ]
  },
  {
   "cell_type": "markdown",
   "metadata": {},
   "source": [
    "### Finding the way back to notebooks"
   ]
  },
  {
   "cell_type": "code",
   "execution_count": null,
   "metadata": {},
   "outputs": [],
   "source": [
    "# export\n",
    "def source_nb(func):\n",
    "    \"Return the name of the notebook where `func` was defined\"\n",
    "    index = _get_index()\n",
    "    return index.get(func.__name__, \"Not found\")"
   ]
  },
  {
   "cell_type": "code",
   "execution_count": null,
   "metadata": {},
   "outputs": [],
   "source": [
    "from fastai_local.data.pipeline import Transform\n",
    "test_eq(source_nb(test_fail),'00_test.ipynb')\n",
    "test_eq(source_nb(Transform),'02_data_pipeline.ipynb')\n",
    "#add_docs is in the core module but defined in 02\n",
    "test_eq(source_nb(add_docs), '02_data_pipeline.ipynb')"
   ]
  },
  {
   "cell_type": "code",
   "execution_count": null,
   "metadata": {},
   "outputs": [
    {
     "name": "stderr",
     "output_type": "stream",
     "text": [
      "ERROR:root:Internal Python error in the inspect module.\n",
      "Below is the traceback from this internal error.\n",
      "\n"
     ]
    },
    {
     "name": "stdout",
     "output_type": "stream",
     "text": [
      "Traceback (most recent call last):\n",
      "  File \"/home/ubuntu/anaconda3/lib/python3.7/site-packages/IPython/core/interactiveshell.py\", line 3267, in run_code\n",
      "    exec(code_obj, self.user_global_ns, self.user_ns)\n",
      "  File \"<ipython-input-72-172b19f8ef39>\", line 2, in <module>\n",
      "    notebook2script(all_fs=True)\n",
      "  File \"<ipython-input-67-bb67b32d78c9>\", line 8, in notebook2script\n",
      "    [_notebook2script(f) for f in fnames]\n",
      "  File \"<ipython-input-67-bb67b32d78c9>\", line 8, in <listcomp>\n",
      "    [_notebook2script(f) for f in fnames]\n",
      "  File \"<ipython-input-65-0d434165917a>\", line 10, in _notebook2script\n",
      "    index = _get_index()\n",
      "  File \"<ipython-input-63-454d00475b74>\", line 4, in _get_index\n",
      "    return json.load(open(Path(__file__).parent/'index.txt', 'r'))\n",
      "  File \"/home/ubuntu/anaconda3/lib/python3.7/json/__init__.py\", line 296, in load\n",
      "    parse_constant=parse_constant, object_pairs_hook=object_pairs_hook, **kw)\n",
      "  File \"/home/ubuntu/anaconda3/lib/python3.7/json/__init__.py\", line 348, in loads\n",
      "    return _default_decoder.decode(s)\n",
      "  File \"/home/ubuntu/anaconda3/lib/python3.7/json/decoder.py\", line 337, in decode\n",
      "    obj, end = self.raw_decode(s, idx=_w(s, 0).end())\n",
      "  File \"/home/ubuntu/anaconda3/lib/python3.7/json/decoder.py\", line 355, in raw_decode\n",
      "    raise JSONDecodeError(\"Expecting value\", s, err.value) from None\n",
      "json.decoder.JSONDecodeError: Expecting value: line 1 column 1 (char 0)\n",
      "\n",
      "During handling of the above exception, another exception occurred:\n",
      "\n",
      "Traceback (most recent call last):\n",
      "  File \"/home/ubuntu/anaconda3/lib/python3.7/site-packages/IPython/core/interactiveshell.py\", line 2018, in showtraceback\n",
      "    stb = value._render_traceback_()\n",
      "AttributeError: 'JSONDecodeError' object has no attribute '_render_traceback_'\n",
      "\n",
      "During handling of the above exception, another exception occurred:\n",
      "\n",
      "Traceback (most recent call last):\n",
      "  File \"/home/ubuntu/anaconda3/lib/python3.7/site-packages/IPython/core/ultratb.py\", line 1095, in get_records\n",
      "    return _fixed_getinnerframes(etb, number_of_lines_of_context, tb_offset)\n",
      "  File \"/home/ubuntu/anaconda3/lib/python3.7/site-packages/IPython/core/ultratb.py\", line 313, in wrapped\n",
      "    return f(*args, **kwargs)\n",
      "  File \"/home/ubuntu/anaconda3/lib/python3.7/site-packages/IPython/core/ultratb.py\", line 347, in _fixed_getinnerframes\n",
      "    records = fix_frame_records_filenames(inspect.getinnerframes(etb, context))\n",
      "  File \"/home/ubuntu/anaconda3/lib/python3.7/inspect.py\", line 1500, in getinnerframes\n",
      "    frameinfo = (tb.tb_frame,) + getframeinfo(tb, context)\n",
      "  File \"/home/ubuntu/anaconda3/lib/python3.7/inspect.py\", line 1458, in getframeinfo\n",
      "    filename = getsourcefile(frame) or getfile(frame)\n",
      "  File \"/home/ubuntu/anaconda3/lib/python3.7/inspect.py\", line 696, in getsourcefile\n",
      "    if getattr(getmodule(object, filename), '__loader__', None) is not None:\n",
      "  File \"/home/ubuntu/anaconda3/lib/python3.7/inspect.py\", line 739, in getmodule\n",
      "    f = getabsfile(module)\n",
      "  File \"/home/ubuntu/anaconda3/lib/python3.7/inspect.py\", line 708, in getabsfile\n",
      "    _filename = getsourcefile(object) or getfile(object)\n",
      "  File \"/home/ubuntu/anaconda3/lib/python3.7/inspect.py\", line 687, in getsourcefile\n",
      "    if any(filename.endswith(s) for s in all_bytecode_suffixes):\n",
      "  File \"/home/ubuntu/anaconda3/lib/python3.7/inspect.py\", line 687, in <genexpr>\n",
      "    if any(filename.endswith(s) for s in all_bytecode_suffixes):\n",
      "AttributeError: 'PosixPath' object has no attribute 'endswith'\n"
     ]
    },
    {
     "ename": "JSONDecodeError",
     "evalue": "Expecting value: line 1 column 1 (char 0)",
     "output_type": "error",
     "traceback": [
      "\u001b[0;31m---------------------------------------------------------------------------\u001b[0m"
     ]
    }
   ],
   "source": [
    "#hide\n",
    "notebook2script(all_fs=True)"
   ]
  },
  {
   "cell_type": "code",
   "execution_count": null,
   "metadata": {},
   "outputs": [],
   "source": []
  }
 ],
 "metadata": {
  "kernelspec": {
   "display_name": "Python 3",
   "language": "python",
   "name": "python3"
  }
 },
 "nbformat": 4,
 "nbformat_minor": 2
}
