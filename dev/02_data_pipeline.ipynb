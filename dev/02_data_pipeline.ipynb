{
 "cells": [
  {
   "cell_type": "code",
   "execution_count": null,
   "metadata": {},
   "outputs": [],
   "source": [
    "#default_exp data.pipeline"
   ]
  },
  {
   "cell_type": "code",
   "execution_count": null,
   "metadata": {},
   "outputs": [],
   "source": [
    "#export\n",
    "from fastai_local.imports import *\n",
    "from fastai_local.test import *\n",
    "from fastai_local.core import *"
   ]
  },
  {
   "cell_type": "markdown",
   "metadata": {},
   "source": [
    "# Transforms and Pipeline\n",
    "\n",
    "> Low-level transform pipelines"
   ]
  },
  {
   "cell_type": "markdown",
   "metadata": {},
   "source": [
    "## Convenience functions"
   ]
  },
  {
   "cell_type": "code",
   "execution_count": null,
   "metadata": {},
   "outputs": [],
   "source": [
    "# export core\n",
    "def opt_call(f, fname='__call__', *args, **kwargs):\n",
    "    \"Call `f.{fname}(*args, **kwargs)`, or `noop` if not defined\"\n",
    "    return getattr(f,fname,noop)(*args, **kwargs)"
   ]
  },
  {
   "cell_type": "code",
   "execution_count": null,
   "metadata": {},
   "outputs": [],
   "source": [
    "test_eq(opt_call(operator.neg, '__call__', 2), -2)\n",
    "test_eq(opt_call(list, 'foobar', [2]), [2])\n",
    "\n",
    "a=[2,1]\n",
    "opt_call(list, 'sort', a)\n",
    "test_eq(a, [1,2])"
   ]
  },
  {
   "cell_type": "markdown",
   "metadata": {},
   "source": [
    "## Classes"
   ]
  },
  {
   "cell_type": "markdown",
   "metadata": {},
   "source": [
    "### Transform -"
   ]
  },
  {
   "cell_type": "code",
   "execution_count": null,
   "metadata": {},
   "outputs": [],
   "source": [
    "# export\n",
    "@docs\n",
    "class Transform():\n",
    "    \"A function that `encodes` if `filt` matches, and optionally `decodes`, with an optional `setup`\"\n",
    "    order,filt = 0,None\n",
    "\n",
    "    def __init__(self, encodes=None, **kwargs):\n",
    "        if encodes is not None: self.encodes=encodes\n",
    "        for k,v in kwargs.items(): setattr(self, k, v)\n",
    "\n",
    "    @classmethod\n",
    "    def create(cls, f, filt=None):\n",
    "        \"classmethod: Turn `f` into a `Transform` unless it already is one\"\n",
    "        return f if hasattr(f,'decode') or isinstance(f,Transform) else cls(f)\n",
    "    \n",
    "    def _filt_match(self, filt): return self.filt is None or self.filt==filt\n",
    "    def __call__(self, o, filt=None, **kwargs): return self.encodes(o, **kwargs) if self._filt_match(filt) else o\n",
    "    def decode  (self, o, filt=None, **kwargs): return self.decodes(o, **kwargs) if self._filt_match(filt) else o\n",
    "    def __repr__(self): return str(self.encodes) if self.__class__==Transform else str(self.__class__)\n",
    "    def decodes(self, o, *args, **kwargs): return o\n",
    "    \n",
    "    _docs=dict(__call__=\"Call `self.encodes` unless `filt` is passed and it doesn't match `self.filt`\",\n",
    "              decode=\"Call `self.decodes` unless `filt` is passed and it doesn't match `self.filt`\",\n",
    "              decodes=\"Override to implement custom decoding\")"
   ]
  },
  {
   "cell_type": "markdown",
   "metadata": {},
   "source": [
    "In a transformation pipeline some steps need to be reversible - for instance, if you turn a string (such as *dog*) into an int (such as *1*) for modeling, then for display purposes you'll want to turn it back to a string again (e.g. when you have a prediction). In addition, you may wish to only run the transformation for a particular data subset, such as the training set.\n",
    "\n",
    "`Transform` provides all this functionality. `filt` is some dataset index (e.g. provided by `DataSource`), and you provide `encodes` and optional `decodes` functions for your code. You can pass `encodes` and `decodes` functions directly to the constructor for quickly creating simple transforms."
   ]
  },
  {
   "cell_type": "code",
   "execution_count": null,
   "metadata": {},
   "outputs": [],
   "source": [
    "def add(x, a=1): return x+a\n",
    "def add_undo(x, a=1): return x-a\n",
    "addt  = Transform(add, decodes=add_undo)\n",
    "\n",
    "start = 4\n",
    "t = addt(start)\n",
    "test_eq(t, 5)\n",
    "test_eq(addt.decode(5), start)"
   ]
  },
  {
   "cell_type": "markdown",
   "metadata": {},
   "source": [
    "More commonly, you'll subclass `Transform` and define `encodes` and `decodes`."
   ]
  },
  {
   "cell_type": "code",
   "execution_count": null,
   "metadata": {},
   "outputs": [],
   "source": [
    "class _AddTfm(Transform):\n",
    "    def encodes(self, x, a=1): return x+a\n",
    "    def decodes(self, x, a=1): return x-a\n",
    "    \n",
    "addt  = _AddTfm()\n",
    "start = 4\n",
    "t = addt(start)\n",
    "test_eq(t, 5)\n",
    "test_eq(addt.decode(5), start)"
   ]
  },
  {
   "cell_type": "code",
   "execution_count": null,
   "metadata": {},
   "outputs": [
    {
     "data": {
      "text/markdown": [
       "<h4 id=\"Transform.__call__\" class=\"doc_header\"><code>__call__</code><a class=\"source_link\" data-toggle=\"collapse\" data-target=\"#Transform-__call__-pytest\" style=\"float:right; padding-right:10px\">[test]</a></h4>\n",
       "\n",
       "> <code>__call__</code>(**`o`**, **`filt`**=***`None`***, **\\*\\*`kwargs`**)\n",
       "\n",
       "<div class=\"collapse\" id=\"Transform-__call__-pytest\"><div class=\"card card-body pytest_card\"><a type=\"button\" data-toggle=\"collapse\" data-target=\"#Transform-__call__-pytest\" class=\"close\" aria-label=\"Close\"><span aria-hidden=\"true\">&times;</span></a><p>No tests found for <code>__call__</code>. To contribute a test please refer to <a href=\"/dev/test.html\">this guide</a> and <a href=\"https://forums.fast.ai/t/improving-expanding-functional-tests/32929\">this discussion</a>.</p></div></div>\n",
       "\n",
       "Call `self.encodes` unless `filt` is passed and it doesn't match `self.filt`  "
      ],
      "text/plain": [
       "<IPython.core.display.Markdown object>"
      ]
     },
     "metadata": {},
     "output_type": "display_data"
    }
   ],
   "source": [
    "show_doc(Transform.__call__)"
   ]
  },
  {
   "cell_type": "code",
   "execution_count": null,
   "metadata": {},
   "outputs": [
    {
     "data": {
      "text/markdown": [
       "<h4 id=\"Transform.decode\" class=\"doc_header\"><code>decode</code><a class=\"source_link\" data-toggle=\"collapse\" data-target=\"#Transform-decode-pytest\" style=\"float:right; padding-right:10px\">[test]</a></h4>\n",
       "\n",
       "> <code>decode</code>(**`o`**, **`filt`**=***`None`***, **\\*\\*`kwargs`**)\n",
       "\n",
       "<div class=\"collapse\" id=\"Transform-decode-pytest\"><div class=\"card card-body pytest_card\"><a type=\"button\" data-toggle=\"collapse\" data-target=\"#Transform-decode-pytest\" class=\"close\" aria-label=\"Close\"><span aria-hidden=\"true\">&times;</span></a><p>No tests found for <code>decode</code>. To contribute a test please refer to <a href=\"/dev/test.html\">this guide</a> and <a href=\"https://forums.fast.ai/t/improving-expanding-functional-tests/32929\">this discussion</a>.</p></div></div>\n",
       "\n",
       "Call `self.decodes` unless `filt` is passed and it doesn't match `self.filt`  "
      ],
      "text/plain": [
       "<IPython.core.display.Markdown object>"
      ]
     },
     "metadata": {},
     "output_type": "display_data"
    }
   ],
   "source": [
    "show_doc(Transform.decode)"
   ]
  },
  {
   "cell_type": "code",
   "execution_count": null,
   "metadata": {},
   "outputs": [
    {
     "data": {
      "text/markdown": [
       "<h4 id=\"Transform.create\" class=\"doc_header\"><code>create</code><a class=\"source_link\" data-toggle=\"collapse\" data-target=\"#Transform-create-pytest\" style=\"float:right; padding-right:10px\">[test]</a></h4>\n",
       "\n",
       "> <code>create</code>(**`f`**, **`filt`**=***`None`***)\n",
       "\n",
       "<div class=\"collapse\" id=\"Transform-create-pytest\"><div class=\"card card-body pytest_card\"><a type=\"button\" data-toggle=\"collapse\" data-target=\"#Transform-create-pytest\" class=\"close\" aria-label=\"Close\"><span aria-hidden=\"true\">&times;</span></a><p>No tests found for <code>create</code>. To contribute a test please refer to <a href=\"/dev/test.html\">this guide</a> and <a href=\"https://forums.fast.ai/t/improving-expanding-functional-tests/32929\">this discussion</a>.</p></div></div>\n",
       "\n",
       "classmethod: Turn `f` into a `Transform` unless it already is one  "
      ],
      "text/plain": [
       "<IPython.core.display.Markdown object>"
      ]
     },
     "metadata": {},
     "output_type": "display_data"
    }
   ],
   "source": [
    "show_doc(Transform.create)"
   ]
  },
  {
   "cell_type": "markdown",
   "metadata": {},
   "source": [
    "### Pipeline -"
   ]
  },
  {
   "cell_type": "code",
   "execution_count": null,
   "metadata": {},
   "outputs": [],
   "source": [
    "#export\n",
    "class Pipeline():\n",
    "    \"A pipeline of transforms applied to a collection, composed and applied for encode/decode, and setup one at a time\"\n",
    "    def __init__(self, tfms, items=None):\n",
    "        self.items,self.tfms = items,[]\n",
    "        self.add([Transform.create(t) for t in listify(tfms)])\n",
    "\n",
    "    def add(self, tfms):\n",
    "        \"Call `setup` on all `tfms` and append them to this pipeline\"\n",
    "        for t in sorted(listify(tfms), key=lambda o: getattr(o, 'order', 0)):\n",
    "            self.tfms.append(t)\n",
    "            if hasattr(t, 'setup'): t.setup(self)\n",
    "\n",
    "    def __call__(self, x, **kwargs): return self.composed(x, **kwargs)\n",
    "    def decode(self, x, **kwargs): return self.composed(x, rev=True, fname='decode', **kwargs)\n",
    "    def __eq__(self, b): return all_equal(self, b)\n",
    "    def __len__(self): return len(self.items)\n",
    "    def __getitem__(self, i):\n",
    "        its = self.items[i]\n",
    "        return [self(o) for o in its] if is_listy(its) else self(its)\n",
    "    \n",
    "    def composed(self, x, rev=False, fname='__call__', **kwargs):\n",
    "        \"Compose `{fname}` of all `self.tfms` (reversed if `rev`) on `x`\"\n",
    "        tfms = reversed(self.tfms) if rev else self.tfms\n",
    "        for f in tfms: x = opt_call(f, fname, x, **kwargs)\n",
    "        return x\n",
    "\n",
    "    def __repr__(self): return str(self.tfms)\n",
    "    def delete(self, idx): del(self.tfms[idx])\n",
    "    def remove(self, tfm): self.tfms.remove(tfm)\n",
    "    \n",
    "    def __getattr__(self, k):\n",
    "        \"Find last tfm in `self.tfms` that has attr `k`\"\n",
    "        try: return next(getattr(t,k) for t in reversed(self.tfms) if hasattr(t,k))\n",
    "        except StopIteration: raise AttributeError(k) from None"
   ]
  },
  {
   "cell_type": "code",
   "execution_count": null,
   "metadata": {},
   "outputs": [],
   "source": [
    "#export\n",
    "add_docs(\n",
    "    Pipeline,\n",
    "    __call__=\"Compose `__call__` of all `tfms` on `x`\",\n",
    "    decode=\"Compose `decode` of all `tfms` on `x`\",\n",
    "    delete=\"Delete transform `idx` from pipeline\",\n",
    "    remove=\"Remove `tfm` from pipeline\",\n",
    ")"
   ]
  },
  {
   "cell_type": "markdown",
   "metadata": {},
   "source": [
    "A list of transforms are often applied in a particular order, and decoded by applying in the reverse order. `Pipeline` provides this functionality, and also ensures that any `setup` methods are called, without including later transforms in those calls. NB: `setup` must be run before encoding/decoding.\n",
    "\n",
    "Here's some simple examples:"
   ]
  },
  {
   "cell_type": "code",
   "execution_count": null,
   "metadata": {},
   "outputs": [],
   "source": [
    "def add(x, a=1): return x+a\n",
    "def multiply(x, a=2): return x*a\n",
    "def square(x): return x**2\n",
    "def add_undo(x, a=1): return x-a\n",
    "def multiply_undo(x, a=2): return x/a\n",
    "tadd  = Transform(add, decodes=add_undo, order=2)\n",
    "tmult = Transform(multiply, decodes=multiply_undo, order=1)\n",
    "tsqr  = Transform(square, order=0)\n",
    "pipe = Pipeline([tadd,tmult,tsqr])\n",
    "\n",
    "start = 2\n",
    "t = pipe(2)\n",
    "test_eq(t, ((2**2) * 2) + 1)\n",
    "test_eq(pipe.decode(t), (9-1)/2)"
   ]
  },
  {
   "cell_type": "markdown",
   "metadata": {},
   "source": [
    "Here's how we can use `Pipeline.setup` to implement a simple category list, getting labels from a mock file list:"
   ]
  },
  {
   "cell_type": "code",
   "execution_count": null,
   "metadata": {},
   "outputs": [],
   "source": [
    "class _Cat(Transform):\n",
    "    order=1\n",
    "    def encodes(self, o): return self.o2i[o] if hasattr(self,'o2i') else o\n",
    "    def decodes(self, o): return self.vocab[o]\n",
    "    def setup(self, items): self.vocab,self.o2i = uniqueify(items, sort=True, bidir=True)\n",
    "    def show(self, o): print(self.decodes(o))\n",
    "\n",
    "def lbl_(o): return o.split('_')[0]\n",
    "\n",
    "test_fns = ['dog_0.jpg','cat_0.jpg','cat_2.jpg','cat_1.jpg','dog_1.jpg']\n",
    "tcat = _Cat()\n",
    "pipe = Pipeline([tcat,lbl_], test_fns)\n",
    "\n",
    "test_eq(tcat.vocab, ['cat','dog'])\n",
    "test_eq([1,0,0,0,1], pipe)\n",
    "t = list(pipe)\n",
    "test_eq([1,0,0,0,1], t)\n",
    "test_eq(['dog','cat','cat','cat','dog'], map(pipe.decode,t))"
   ]
  },
  {
   "cell_type": "code",
   "execution_count": null,
   "metadata": {},
   "outputs": [
    {
     "data": {
      "text/markdown": [
       "<h4 id=\"Pipeline.__call__\" class=\"doc_header\"><code>__call__</code><a class=\"source_link\" data-toggle=\"collapse\" data-target=\"#Pipeline-__call__-pytest\" style=\"float:right; padding-right:10px\">[test]</a></h4>\n",
       "\n",
       "> <code>__call__</code>(**`x`**, **\\*\\*`kwargs`**)\n",
       "\n",
       "<div class=\"collapse\" id=\"Pipeline-__call__-pytest\"><div class=\"card card-body pytest_card\"><a type=\"button\" data-toggle=\"collapse\" data-target=\"#Pipeline-__call__-pytest\" class=\"close\" aria-label=\"Close\"><span aria-hidden=\"true\">&times;</span></a><p>No tests found for <code>__call__</code>. To contribute a test please refer to <a href=\"/dev/test.html\">this guide</a> and <a href=\"https://forums.fast.ai/t/improving-expanding-functional-tests/32929\">this discussion</a>.</p></div></div>\n",
       "\n",
       "Compose `__call__` of all `tfms` on `x`  "
      ],
      "text/plain": [
       "<IPython.core.display.Markdown object>"
      ]
     },
     "metadata": {},
     "output_type": "display_data"
    }
   ],
   "source": [
    "show_doc(Pipeline.__call__)"
   ]
  },
  {
   "cell_type": "code",
   "execution_count": null,
   "metadata": {},
   "outputs": [
    {
     "data": {
      "text/markdown": [
       "<h4 id=\"Pipeline.decode\" class=\"doc_header\"><code>decode</code><a class=\"source_link\" data-toggle=\"collapse\" data-target=\"#Pipeline-decode-pytest\" style=\"float:right; padding-right:10px\">[test]</a></h4>\n",
       "\n",
       "> <code>decode</code>(**`x`**, **\\*\\*`kwargs`**)\n",
       "\n",
       "<div class=\"collapse\" id=\"Pipeline-decode-pytest\"><div class=\"card card-body pytest_card\"><a type=\"button\" data-toggle=\"collapse\" data-target=\"#Pipeline-decode-pytest\" class=\"close\" aria-label=\"Close\"><span aria-hidden=\"true\">&times;</span></a><p>No tests found for <code>decode</code>. To contribute a test please refer to <a href=\"/dev/test.html\">this guide</a> and <a href=\"https://forums.fast.ai/t/improving-expanding-functional-tests/32929\">this discussion</a>.</p></div></div>\n",
       "\n",
       "Compose `decode` of all `tfms` on `x`  "
      ],
      "text/plain": [
       "<IPython.core.display.Markdown object>"
      ]
     },
     "metadata": {},
     "output_type": "display_data"
    }
   ],
   "source": [
    "show_doc(Pipeline.decode)"
   ]
  },
  {
   "cell_type": "code",
   "execution_count": null,
   "metadata": {},
   "outputs": [
    {
     "data": {
      "text/markdown": [
       "<h4 id=\"Pipeline.delete\" class=\"doc_header\"><code>delete</code><a class=\"source_link\" data-toggle=\"collapse\" data-target=\"#Pipeline-delete-pytest\" style=\"float:right; padding-right:10px\">[test]</a></h4>\n",
       "\n",
       "> <code>delete</code>(**`idx`**)\n",
       "\n",
       "<div class=\"collapse\" id=\"Pipeline-delete-pytest\"><div class=\"card card-body pytest_card\"><a type=\"button\" data-toggle=\"collapse\" data-target=\"#Pipeline-delete-pytest\" class=\"close\" aria-label=\"Close\"><span aria-hidden=\"true\">&times;</span></a><p>No tests found for <code>delete</code>. To contribute a test please refer to <a href=\"/dev/test.html\">this guide</a> and <a href=\"https://forums.fast.ai/t/improving-expanding-functional-tests/32929\">this discussion</a>.</p></div></div>\n",
       "\n",
       "Delete transform `idx` from pipeline  "
      ],
      "text/plain": [
       "<IPython.core.display.Markdown object>"
      ]
     },
     "metadata": {},
     "output_type": "display_data"
    }
   ],
   "source": [
    "show_doc(Pipeline.delete)"
   ]
  },
  {
   "cell_type": "code",
   "execution_count": null,
   "metadata": {},
   "outputs": [
    {
     "data": {
      "text/markdown": [
       "<h4 id=\"Pipeline.remove\" class=\"doc_header\"><code>remove</code><a class=\"source_link\" data-toggle=\"collapse\" data-target=\"#Pipeline-remove-pytest\" style=\"float:right; padding-right:10px\">[test]</a></h4>\n",
       "\n",
       "> <code>remove</code>(**`tfm`**)\n",
       "\n",
       "<div class=\"collapse\" id=\"Pipeline-remove-pytest\"><div class=\"card card-body pytest_card\"><a type=\"button\" data-toggle=\"collapse\" data-target=\"#Pipeline-remove-pytest\" class=\"close\" aria-label=\"Close\"><span aria-hidden=\"true\">&times;</span></a><p>No tests found for <code>remove</code>. To contribute a test please refer to <a href=\"/dev/test.html\">this guide</a> and <a href=\"https://forums.fast.ai/t/improving-expanding-functional-tests/32929\">this discussion</a>.</p></div></div>\n",
       "\n",
       "Remove `tfm` from pipeline  "
      ],
      "text/plain": [
       "<IPython.core.display.Markdown object>"
      ]
     },
     "metadata": {},
     "output_type": "display_data"
    }
   ],
   "source": [
    "show_doc(Pipeline.remove)"
   ]
  },
  {
   "cell_type": "code",
   "execution_count": null,
   "metadata": {},
   "outputs": [
    {
     "data": {
      "text/markdown": [
       "<h4 id=\"Pipeline.add\" class=\"doc_header\"><code>add</code><a class=\"source_link\" data-toggle=\"collapse\" data-target=\"#Pipeline-add-pytest\" style=\"float:right; padding-right:10px\">[test]</a></h4>\n",
       "\n",
       "> <code>add</code>(**`tfms`**)\n",
       "\n",
       "<div class=\"collapse\" id=\"Pipeline-add-pytest\"><div class=\"card card-body pytest_card\"><a type=\"button\" data-toggle=\"collapse\" data-target=\"#Pipeline-add-pytest\" class=\"close\" aria-label=\"Close\"><span aria-hidden=\"true\">&times;</span></a><p>No tests found for <code>add</code>. To contribute a test please refer to <a href=\"/dev/test.html\">this guide</a> and <a href=\"https://forums.fast.ai/t/improving-expanding-functional-tests/32929\">this discussion</a>.</p></div></div>\n",
       "\n",
       "Call `setup` on all `tfms` and append them to this pipeline  "
      ],
      "text/plain": [
       "<IPython.core.display.Markdown object>"
      ]
     },
     "metadata": {},
     "output_type": "display_data"
    }
   ],
   "source": [
    "show_doc(Pipeline.add)"
   ]
  },
  {
   "cell_type": "code",
   "execution_count": null,
   "metadata": {},
   "outputs": [
    {
     "data": {
      "text/markdown": [
       "<h4 id=\"Pipeline.__getattr__\" class=\"doc_header\"><code>__getattr__</code><a class=\"source_link\" data-toggle=\"collapse\" data-target=\"#Pipeline-__getattr__-pytest\" style=\"float:right; padding-right:10px\">[test]</a></h4>\n",
       "\n",
       "> <code>__getattr__</code>(**`k`**)\n",
       "\n",
       "<div class=\"collapse\" id=\"Pipeline-__getattr__-pytest\"><div class=\"card card-body pytest_card\"><a type=\"button\" data-toggle=\"collapse\" data-target=\"#Pipeline-__getattr__-pytest\" class=\"close\" aria-label=\"Close\"><span aria-hidden=\"true\">&times;</span></a><p>No tests found for <code>__getattr__</code>. To contribute a test please refer to <a href=\"/dev/test.html\">this guide</a> and <a href=\"https://forums.fast.ai/t/improving-expanding-functional-tests/32929\">this discussion</a>.</p></div></div>\n",
       "\n",
       "Find last tfm in `self.tfms` that has attr `k`  "
      ],
      "text/plain": [
       "<IPython.core.display.Markdown object>"
      ]
     },
     "metadata": {},
     "output_type": "display_data"
    }
   ],
   "source": [
    "show_doc(Pipeline.__getattr__)"
   ]
  },
  {
   "cell_type": "code",
   "execution_count": null,
   "metadata": {},
   "outputs": [],
   "source": [
    "test_eq(pipe.show, tcat.show)"
   ]
  },
  {
   "cell_type": "code",
   "execution_count": null,
   "metadata": {},
   "outputs": [
    {
     "name": "stdout",
     "output_type": "stream",
     "text": [
      "dog\n"
     ]
    }
   ],
   "source": [
    "pipe.show(t[0])"
   ]
  },
  {
   "cell_type": "markdown",
   "metadata": {},
   "source": [
    "## Export -"
   ]
  },
  {
   "cell_type": "code",
   "execution_count": null,
   "metadata": {},
   "outputs": [
    {
     "name": "stdout",
     "output_type": "stream",
     "text": [
      "Converted 00_test.ipynb.\n",
      "Converted 01_core.ipynb.\n",
      "Converted 02_data_pipeline.ipynb.\n",
      "Converted 03_data_source.ipynb.\n",
      "Converted 04_data_external.ipynb.\n",
      "Converted 05_data_core.ipynb.\n",
      "Converted 06_pets_tutorial.ipynb.\n",
      "Converted 08_vision_core.ipynb.\n",
      "Converted 99_export.ipynb.\n",
      "Converted 99a_export2html.ipynb.\n",
      "Converted _07_data_blocks.ipynb.\n",
      "Converted _09_data_blocks_tutorial_vision.ipynb.\n"
     ]
    }
   ],
   "source": [
    "#hide\n",
    "from fastai_local.notebook.export import notebook2script\n",
    "notebook2script(all_fs=True)"
   ]
  },
  {
   "cell_type": "code",
   "execution_count": null,
   "metadata": {},
   "outputs": [],
   "source": []
  }
 ],
 "metadata": {
  "kernelspec": {
   "display_name": "Python 3",
   "language": "python",
   "name": "python3"
  }
 },
 "nbformat": 4,
 "nbformat_minor": 2
}
