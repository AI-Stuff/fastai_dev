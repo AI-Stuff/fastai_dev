{
 "cells": [
  {
   "cell_type": "code",
   "execution_count": null,
   "metadata": {},
   "outputs": [],
   "source": [
    "#default_exp data_transforms"
   ]
  },
  {
   "cell_type": "code",
   "execution_count": null,
   "metadata": {},
   "outputs": [],
   "source": [
    "from fastai_local.test import *\n",
    "from fastai_local.core import *"
   ]
  },
  {
   "cell_type": "markdown",
   "metadata": {},
   "source": [
    "# Basic data loading\n",
    "\n",
    "> Creates low-level transforms and data sources"
   ]
  },
  {
   "cell_type": "markdown",
   "metadata": {},
   "source": [
    "## Convenience functions"
   ]
  },
  {
   "cell_type": "code",
   "execution_count": null,
   "metadata": {},
   "outputs": [],
   "source": [
    "# export\n",
    "def opt_call(f, fname='__call__', *args, **kwargs):\n",
    "    \"Call `f.{fname}(*args, **kwargs)`, or `noop` if not defined\"\n",
    "    return getattr(f,fname,noop)(*args, **kwargs)"
   ]
  },
  {
   "cell_type": "code",
   "execution_count": null,
   "metadata": {},
   "outputs": [],
   "source": [
    "test_eq(opt_call(operator.neg, '__call__', 2), -2)\n",
    "test_eq(opt_call(list, 'foobar', [2]), [2])\n",
    "\n",
    "a=[2,1]\n",
    "opt_call(list, 'sort', a)\n",
    "test_eq(a, [1,2])"
   ]
  },
  {
   "cell_type": "markdown",
   "metadata": {},
   "source": [
    "## Transform -"
   ]
  },
  {
   "cell_type": "code",
   "execution_count": null,
   "metadata": {},
   "outputs": [],
   "source": [
    "# export\n",
    "class Transform():\n",
    "    \"A function that `encodes` if `filt` matches, and optionally `decodes`, with an optional `setup`\"\n",
    "    order,filt = 0,None\n",
    "\n",
    "    def __init__(self, **kwargs):\n",
    "        for k,v in kwargs.items(): setattr(self, k, v)\n",
    "\n",
    "    @classmethod\n",
    "    def create(cls, f, filt=None):\n",
    "        \"classmethod: Turn `f` into a `Transform` unless it already is one\"\n",
    "        return f if hasattr(f,'decode') or isinstance(f,Transform) else cls(f)\n",
    "    \n",
    "    def __call__(self, o, filt=None, **kwargs): \n",
    "        \"Call `self.encodes` unless `filt` is passed and it doesn't match `self.filt`\"\n",
    "        if self.filt is not None and self.filt!=filt: return o\n",
    "        return self.encodes(o, **kwargs)\n",
    "\n",
    "    def decode(self, o, filt=None, **kwargs): \n",
    "        \"Call `self.decodes` unless `filt` is passed and it doesn't match `self.filt`\"\n",
    "        if self.filt is not None and self.filt!=filt: return o\n",
    "        return self.decodes(o, **kwargs)\n",
    "    \n",
    "    def __repr__(self): return str(self.encodes) if self.__class__==Transform else str(self.__class__)\n",
    "    def decodes(self, o, *args, **kwargs): return o"
   ]
  },
  {
   "cell_type": "markdown",
   "metadata": {},
   "source": [
    "In a transformation pipeline some steps need to be reversible - for instance, if you turn a string (such as *dog*) into an int (such as *1*) for modeling, then for display purposes you'll want to turn it back to a string again (e.g. when you have a prediction). In addition, you may wish to only run the transformation for a particular data subset, such as the training set.\n",
    "\n",
    "`Transform` provides all this functionality. `filt` is some dataset index (e.g. provided by `DataSource`), and you provide `encodes` and optional `decodes` functions for your code. You can pass `encodes` and `decodes` functions directly to the constructor for quickly creating simple transforms, or you (more common) you can subclass `Transform` and define these methods."
   ]
  },
  {
   "cell_type": "code",
   "execution_count": null,
   "metadata": {},
   "outputs": [],
   "source": [
    "def add(x, a=1): return x+a\n",
    "def add_undo(x, a=1): return x-a\n",
    "addt  = Transform(encodes=add, decodes=add_undo)\n",
    "\n",
    "start = 4\n",
    "t = addt(start)\n",
    "test_eq(t, 5)\n",
    "test_eq(addt.decode(5), start)"
   ]
  },
  {
   "cell_type": "code",
   "execution_count": null,
   "metadata": {},
   "outputs": [],
   "source": [
    "class AddTfm(Transform):\n",
    "    def encodes(self, x, a=1): return x+a\n",
    "    def decodes(self, x, a=1): return x-a\n",
    "    \n",
    "addt  = AddTfm()\n",
    "start = 4\n",
    "t = addt(start)\n",
    "test_eq(t, 5)\n",
    "test_eq(addt.decode(5), start)"
   ]
  },
  {
   "cell_type": "code",
   "execution_count": null,
   "metadata": {},
   "outputs": [
    {
     "data": {
      "text/markdown": [
       "<h4 id=\"Transform.__call__\" class=\"doc_header\"><code>__call__</code><a class=\"source_link\" data-toggle=\"collapse\" data-target=\"#Transform-__call__-pytest\" style=\"float:right; padding-right:10px\">[test]</a></h4>\n",
       "\n",
       "> <code>__call__</code>(**`o`**, **`filt`**=***`None`***, **\\*\\*`kwargs`**)\n",
       "\n",
       "<div class=\"collapse\" id=\"Transform-__call__-pytest\"><div class=\"card card-body pytest_card\"><a type=\"button\" data-toggle=\"collapse\" data-target=\"#Transform-__call__-pytest\" class=\"close\" aria-label=\"Close\"><span aria-hidden=\"true\">&times;</span></a><p>No tests found for <code>__call__</code>. To contribute a test please refer to <a href=\"/dev/test.html\">this guide</a> and <a href=\"https://forums.fast.ai/t/improving-expanding-functional-tests/32929\">this discussion</a>.</p></div></div>\n",
       "\n",
       "Call `self.encodes` unless `filt` is passed and it doesn't match `self.filt`  "
      ],
      "text/plain": [
       "<IPython.core.display.Markdown object>"
      ]
     },
     "metadata": {},
     "output_type": "display_data"
    }
   ],
   "source": [
    "show_doc(Transform.__call__)"
   ]
  },
  {
   "cell_type": "code",
   "execution_count": null,
   "metadata": {},
   "outputs": [
    {
     "data": {
      "text/markdown": [
       "<h4 id=\"Transform.decode\" class=\"doc_header\"><code>decode</code><a class=\"source_link\" data-toggle=\"collapse\" data-target=\"#Transform-decode-pytest\" style=\"float:right; padding-right:10px\">[test]</a></h4>\n",
       "\n",
       "> <code>decode</code>(**`o`**, **`filt`**=***`None`***, **\\*\\*`kwargs`**)\n",
       "\n",
       "<div class=\"collapse\" id=\"Transform-decode-pytest\"><div class=\"card card-body pytest_card\"><a type=\"button\" data-toggle=\"collapse\" data-target=\"#Transform-decode-pytest\" class=\"close\" aria-label=\"Close\"><span aria-hidden=\"true\">&times;</span></a><p>No tests found for <code>decode</code>. To contribute a test please refer to <a href=\"/dev/test.html\">this guide</a> and <a href=\"https://forums.fast.ai/t/improving-expanding-functional-tests/32929\">this discussion</a>.</p></div></div>\n",
       "\n",
       "Call `self.decodes` unless `filt` is passed and it doesn't match `self.filt`  "
      ],
      "text/plain": [
       "<IPython.core.display.Markdown object>"
      ]
     },
     "metadata": {},
     "output_type": "display_data"
    }
   ],
   "source": [
    "show_doc(Transform.decode)"
   ]
  },
  {
   "cell_type": "code",
   "execution_count": null,
   "metadata": {},
   "outputs": [
    {
     "data": {
      "text/markdown": [
       "<h4 id=\"Transform.create\" class=\"doc_header\"><code>create</code><a class=\"source_link\" data-toggle=\"collapse\" data-target=\"#Transform-create-pytest\" style=\"float:right; padding-right:10px\">[test]</a></h4>\n",
       "\n",
       "> <code>create</code>(**`f`**, **`filt`**=***`None`***)\n",
       "\n",
       "<div class=\"collapse\" id=\"Transform-create-pytest\"><div class=\"card card-body pytest_card\"><a type=\"button\" data-toggle=\"collapse\" data-target=\"#Transform-create-pytest\" class=\"close\" aria-label=\"Close\"><span aria-hidden=\"true\">&times;</span></a><p>No tests found for <code>create</code>. To contribute a test please refer to <a href=\"/dev/test.html\">this guide</a> and <a href=\"https://forums.fast.ai/t/improving-expanding-functional-tests/32929\">this discussion</a>.</p></div></div>\n",
       "\n",
       "classmethod: Turn `f` into a `Transform` unless it already is one  "
      ],
      "text/plain": [
       "<IPython.core.display.Markdown object>"
      ]
     },
     "metadata": {},
     "output_type": "display_data"
    }
   ],
   "source": [
    "show_doc(Transform.create)"
   ]
  },
  {
   "cell_type": "markdown",
   "metadata": {},
   "source": [
    "## Pipeline -"
   ]
  },
  {
   "cell_type": "code",
   "execution_count": null,
   "metadata": {},
   "outputs": [],
   "source": [
    "class Pipeline():\n",
    "    \"A pipeline of transforms, composed and applied for encode/decode, and setup one at a time\"\n",
    "    def __init__(self, tfms):\n",
    "        self.tfms,self._tfms = [],[Transform.create(t) for t in listify(tfms)]\n",
    "\n",
    "    def __call__(self, x, **kwargs): return self._apply(x, **kwargs)\n",
    "    def decode(self, x, **kwargs): return self._apply(x, rev=True, fname='decode', **kwargs)\n",
    "    def _apply(self, x, rev=False, fname='__call__', **kwargs):\n",
    "        tfms = reversed(self.tfms) if rev else self.tfms\n",
    "        for f in tfms: x = opt_call(f, fname, x, **kwargs)\n",
    "        return x\n",
    "\n",
    "    def __repr__(self): return str(self.tfms)\n",
    "    def delete(self, idx): del(self.tfms[idx])\n",
    "    def remove(self, tfm): self.tfms.remove(tfm)\n",
    "\n",
    "    def setup(self, items=None): self.add(self._tfms, items)\n",
    "    def add(self, tfm, items):\n",
    "        # We only add one at a time so that each setup has access to correct tfm subset\n",
    "        for t in sorted(listify(tfm), key=lambda o: getattr(o, 'order', 0)):\n",
    "            self.tfms.append(t)\n",
    "            opt_call(t, 'setup', items)\n",
    "    \n",
    "    def __getattr__(self, k):\n",
    "        for t in reversed(self.tfms):\n",
    "            a = getattr(t, k, None)\n",
    "            if a is not None: return a\n",
    "        raise AttributeError(k)"
   ]
  },
  {
   "cell_type": "markdown",
   "metadata": {},
   "source": [
    "A list of transforms are often applied in a particular order, and decoded by applying in the reverse order. `Pipeline` provides this functionality, and also ensures that any `setup` methods are called, without including later transforms in those calls. NB: `setup` must be run before encoding/decoding.\n",
    "\n",
    "Here's some simple examples "
   ]
  },
  {
   "cell_type": "code",
   "execution_count": null,
   "metadata": {},
   "outputs": [],
   "source": [
    "# test\n",
    "def add(x, a=1): return x+a\n",
    "def multiply(x, a=2): return x*a\n",
    "def square(x): return x**2\n",
    "def add_undo(x, a=1): return x-a\n",
    "def multiply_undo(x, a=2): return x/a\n",
    "tadd  = Transform(encodes=add, decodes=add_undo, order=2)\n",
    "tmult = Transform(encodes=multiply, decodes=multiply_undo, order=1)\n",
    "tsqr  = Transform(encodes=square, order=0)\n",
    "\n",
    "pln = Pipeline([tadd,tmult,tsqr])\n",
    "pln.setup()\n",
    "start = 2\n",
    "t = pln(2)\n",
    "test_eq(t, ((2**2) * 2) + 1)\n",
    "test_eq(pln.decode(t), (9-1)/2)"
   ]
  },
  {
   "cell_type": "markdown",
   "metadata": {},
   "source": [
    "## TfmList"
   ]
  },
  {
   "cell_type": "code",
   "execution_count": null,
   "metadata": {},
   "outputs": [],
   "source": [
    "#export\n",
    "class TfmList():\n",
    "    def __init__(self, ttfms, tfm=noop):\n",
    "        self.activ,self.ttfms = False,[Transforms(tfm) for tfm in listify(ttfms)]\n",
    "\n",
    "    def __call__(self, o, **kwargs):\n",
    "        if self.activ: return self.activ(o, **kwargs)\n",
    "        return [t(o, **kwargs) for t in self.ttfms]\n",
    "    \n",
    "    def decode(self, o, **kwargs): return [t.decode(p, **kwargs) for p,t in zip(o,self.ttfms)]\n",
    "\n",
    "    def setup(self, o):\n",
    "        for tfm in self.ttfms:\n",
    "            self.activ = tfm\n",
    "            tfm.setup(o)\n",
    "        self.activ=None\n",
    "        \n",
    "    def show(self, o, **kwargs): return show_xs(o, self.ttfms, **kwargs)\n",
    "    def __repr__(self): return f'TfmList({self.ttfms})'\n",
    "    \n",
    "    @property\n",
    "    def xt(self): return self.ttfms[0]\n",
    "    @property\n",
    "    def yt(self): return self.ttfms[1]"
   ]
  },
  {
   "cell_type": "code",
   "execution_count": null,
   "metadata": {},
   "outputs": [],
   "source": []
  }
 ],
 "metadata": {
  "kernelspec": {
   "display_name": "Python 3",
   "language": "python",
   "name": "python3"
  }
 },
 "nbformat": 4,
 "nbformat_minor": 2
}
