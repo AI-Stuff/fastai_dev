{
 "cells": [
  {
   "cell_type": "code",
   "execution_count": null,
   "metadata": {},
   "outputs": [],
   "source": [
    "# export\n",
    "from local.imports import *\n",
    "from local.notebook.core import *\n",
    "from local.notebook.export import *\n",
    "import nbformat,inspect\n",
    "from nbformat.sign import NotebookNotary\n",
    "from nbconvert.preprocessors import ExecutePreprocessor\n",
    "from local.test import *"
   ]
  },
  {
   "cell_type": "code",
   "execution_count": null,
   "metadata": {},
   "outputs": [],
   "source": [
    "# default_exp notebook.test"
   ]
  },
  {
   "cell_type": "markdown",
   "metadata": {},
   "source": [
    "# Extracting tests from notebooks\n",
    "\n",
    "> The functions that grab the cells containing tests (filtering with potential flags) and execute them"
   ]
  },
  {
   "cell_type": "code",
   "execution_count": null,
   "metadata": {},
   "outputs": [],
   "source": [
    "_re_all_flag = re.compile(\"\"\"\n",
    "# Matches any line with #all_something and catches that something in a group:\n",
    "^         # beginning of line (since re.MULTILINE is passed)\n",
    "\\s*       # any number of whitespace\n",
    "\\#\\s*     # # then any number of whitespace\n",
    "all_(\\S+) # all_ followed by a group with any non-whitespace chars\n",
    "\\s*       # any number of whitespace\n",
    "$         # end of line (since re.MULTILINE is passed)\n",
    "\"\"\", re.IGNORECASE | re.MULTILINE | re.VERBOSE)"
   ]
  },
  {
   "cell_type": "code",
   "execution_count": null,
   "metadata": {},
   "outputs": [],
   "source": [
    "# export\n",
    "def check_all_flag(cells):\n",
    "    for cell in cells:\n",
    "        if check_re(cell, _re_all_flag): return check_re(cell, _re_all_flag).groups()[0]"
   ]
  },
  {
   "cell_type": "code",
   "execution_count": null,
   "metadata": {},
   "outputs": [],
   "source": [
    "nb = read_nb(\"35_tutorial_wikitext.ipynb\")\n",
    "test_eq(check_all_flag(nb['cells']), 'slow')\n",
    "nb = read_nb(\"91_notebook_export.ipynb\")\n",
    "assert check_all_flag(nb['cells']) is None"
   ]
  },
  {
   "cell_type": "code",
   "execution_count": null,
   "metadata": {},
   "outputs": [],
   "source": [
    "_re_flags = re.compile(\"\"\"\n",
    "# Matches any line with a test flad and catches it in a group:\n",
    "^               # beginning of line (since re.MULTILINE is passed)\n",
    "\\s*             # any number of whitespace\n",
    "\\#\\s*           # # then any number of whitespace\n",
    "(slow|cuda|cpp) # all test flags\n",
    "\\s*             # any number of whitespace\n",
    "$               # end of line (since re.MULTILINE is passed)\n",
    "\"\"\", re.IGNORECASE | re.MULTILINE | re.VERBOSE)"
   ]
  },
  {
   "cell_type": "code",
   "execution_count": null,
   "metadata": {},
   "outputs": [],
   "source": [
    "def get_cell_flags(cell):\n",
    "    if cell['cell_type'] != 'code': return []\n",
    "    return _re_flags.findall(cell['source'])"
   ]
  },
  {
   "cell_type": "code",
   "execution_count": null,
   "metadata": {},
   "outputs": [],
   "source": [
    "test_eq(get_cell_flags({'cell_type': 'code', 'source': \"#hide\\n# slow\\n\"}), ['slow'])\n",
    "test_eq(get_cell_flags({'cell_type': 'code', 'source': \"#hide\\n# slow\\n # cuda\"}), ['slow', 'cuda'])\n",
    "test_eq(get_cell_flags({'cell_type': 'markdown', 'source': \"#hide\\n# slow\\n # cuda\"}), [])\n",
    "test_eq(get_cell_flags({'cell_type': 'code', 'source': \"#hide\\n\"}), [])"
   ]
  },
  {
   "cell_type": "code",
   "execution_count": null,
   "metadata": {},
   "outputs": [],
   "source": [
    "# export\n",
    "def _add_import_cell(mod):\n",
    "    \"Return an import cell for `mod`\"\n",
    "    return {'cell_type': 'code',\n",
    "            'execution_count': None,\n",
    "            'metadata': {'hide_input': True},\n",
    "            'outputs': [],\n",
    "            'source': f\"\\nfrom local.{mod} import *\"}"
   ]
  },
  {
   "cell_type": "code",
   "execution_count": null,
   "metadata": {},
   "outputs": [],
   "source": [
    "# export\n",
    "from local.notebook.export import _re_mod_export\n",
    "\n",
    "class NoExportPreprocessor(ExecutePreprocessor):\n",
    "    \"An `ExecutePreprocessor` that executes not exported cells\"\n",
    "    @delegates(ExecutePreprocessor.__init__)\n",
    "    def __init__(self, flags, **kwargs):\n",
    "        self.flags = flags\n",
    "        \n",
    "        \n",
    "    def preprocess_cell(self, cell, resources, index):\n",
    "        if 'source' in cell and cell['cell_type'] == \"code\":\n",
    "            if not _re_mod_export.search(cell['source']):\n",
    "                return super().preprocess_cell(cell, resources, index)\n",
    "        return cell, resources"
   ]
  },
  {
   "cell_type": "code",
   "execution_count": null,
   "metadata": {},
   "outputs": [],
   "source": [
    "def test_nb(nb, mod=None, name=None):\n",
    "    \"Execute `nb` (or only the `show_doc` cells) with `metadata`\"\n",
    "    mod = find_default_export(nb['cells'])\n",
    "    if mod is not None: nb['cells'].insert(0, _add_import_cell(mod))\n",
    "    ep = NoExportPreprocessor(timeout=600, kernel_name='python3')\n",
    "    pnb = nbformat.from_dict(nb)\n",
    "    ep.preprocess(pnb)\n",
    "    "
   ]
  }
 ],
 "metadata": {
  "kernelspec": {
   "display_name": "Python 3",
   "language": "python",
   "name": "python3"
  }
 },
 "nbformat": 4,
 "nbformat_minor": 2
}
