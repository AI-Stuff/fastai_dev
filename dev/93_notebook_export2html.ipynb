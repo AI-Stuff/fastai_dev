{
 "cells": [
  {
   "cell_type": "code",
   "execution_count": null,
   "metadata": {},
   "outputs": [],
   "source": [
    "# export\n",
    "from fastai_local.core import *\n",
    "from fastai_local.test import *\n",
    "from fastai_local.imports import *\n",
    "from fastai_local.notebook.export import *\n",
    "import nbformat\n",
    "from nbconvert.preprocessors import ExecutePreprocessor, Preprocessor\n",
    "from nbconvert import HTMLExporter\n",
    "from nbformat.sign import NotebookNotary\n",
    "from traitlets.config import Config"
   ]
  },
  {
   "cell_type": "code",
   "execution_count": null,
   "metadata": {},
   "outputs": [],
   "source": [
    "# default_exp notebook.export2html"
   ]
  },
  {
   "cell_type": "markdown",
   "metadata": {},
   "source": [
    "# Converting notebooks to html\n",
    "\n",
    "> The functions that transform the dev notebooks in the documentation of the library"
   ]
  },
  {
   "cell_type": "markdown",
   "metadata": {},
   "source": [
    "## Preprocessing notebook"
   ]
  },
  {
   "cell_type": "markdown",
   "metadata": {},
   "source": [
    "### Cell processors"
   ]
  },
  {
   "cell_type": "code",
   "execution_count": null,
   "metadata": {},
   "outputs": [],
   "source": [
    "#export\n",
    "def remove_widget_state(cell):\n",
    "    \"Remove widgets in the output of `cells`\"\n",
    "    if cell['cell_type'] == 'code' and 'outputs' in cell:\n",
    "        cell['outputs'] = [l for l in cell['outputs'] \n",
    "                           if not ('data' in l and 'application/vnd.jupyter.widget-view+json' in l.data)]\n",
    "    return cell"
   ]
  },
  {
   "cell_type": "code",
   "execution_count": null,
   "metadata": {},
   "outputs": [],
   "source": [
    "#export\n",
    "def hide_cells(cell):\n",
    "    \"Hide `cell` that need to be hidden\"\n",
    "    if check_re(cell, r's*show_doc\\(|^\\s*#\\s*(export)\\s+'): \n",
    "        cell['metadata'] = {'hide_input': True}\n",
    "    return cell"
   ]
  },
  {
   "cell_type": "code",
   "execution_count": null,
   "metadata": {},
   "outputs": [],
   "source": [
    "for source in ['show_doc(read_nb)', '# export\\nfrom fastai_local.core import *']:\n",
    "    cell = {'cell_type': 'code', 'source': 'show_doc(read_nb)'}\n",
    "    cell1 = hide_cells(cell.copy())\n",
    "    assert 'metadata' in cell1\n",
    "    assert 'hide_input' in cell1['metadata']\n",
    "    assert cell1['metadata']['hide_input']\n",
    "\n",
    "cell = {'cell_type': 'code', 'source': '# exports\\nfrom fastai_local.core import *'}\n",
    "test_eq(cell, hide_cells(cell.copy()))"
   ]
  },
  {
   "cell_type": "code",
   "execution_count": null,
   "metadata": {},
   "outputs": [],
   "source": [
    "#export\n",
    "def remove_hidden(cells):\n",
    "    res = []\n",
    "    pat = re.compile(r'^\\s*#\\s*(hide|default_exp)\\s+')\n",
    "    for cell in cells:\n",
    "        if cell['cell_type']=='markdown' or re.search(pat, cell['source']) is None:\n",
    "            res.append(cell)\n",
    "    return res"
   ]
  },
  {
   "cell_type": "code",
   "execution_count": null,
   "metadata": {},
   "outputs": [],
   "source": [
    "cells = [{'cell_type': 'code', 'source': source} for source in [\n",
    "    '# export\\nfrom fastai_local.core import *', \n",
    "    '# hide\\nfrom fastai_local.core import *',\n",
    "    '#exports\\nsuper code',\n",
    "    '#default_exp notebook.export',\n",
    "    'show_doc(read_nb)']] + [{'cell_type': 'markdown', 'source': 'nice'}]\n",
    "         \n",
    "cells1 = remove_hidden(cells)\n",
    "test_eq(len(cells1), 4)\n",
    "test_eq(cells1[0], cells[0])\n",
    "test_eq(cells1[1], cells[2])\n",
    "test_eq(cells1[2], cells[4])\n",
    "test_eq(cells1[3], cells[5])"
   ]
  },
  {
   "cell_type": "code",
   "execution_count": null,
   "metadata": {},
   "outputs": [],
   "source": [
    "#export\n",
    "def _show_doc_cell(name):\n",
    "    return {'cell_type': 'code',\n",
    "            'execution_count': None,\n",
    "            'metadata': {},\n",
    "            'outputs': [],\n",
    "            'source': f\"show_doc({name})\"}\n",
    "\n",
    "def add_show_docs(cells):\n",
    "    \"Add `show_doc` for each exported function or class\"\n",
    "    res = []\n",
    "    for cell in cells:\n",
    "        res.append(cell)\n",
    "        if check_re(cell, r'^\\s*#\\s*exports?\\s*'):\n",
    "            names = export_names(cell['source'], func_only=True)\n",
    "            for n in names: res.append(_show_doc_cell(n))\n",
    "    return res"
   ]
  },
  {
   "cell_type": "code",
   "execution_count": null,
   "metadata": {},
   "outputs": [],
   "source": [
    "tst_nb = read_nb('91_export.ipynb')\n",
    "for i,cell in enumerate(tst_nb['cells']):\n",
    "    if cell['source'].startswith('#export\\ndef read_nb'): break\n",
    "tst_cells = [c.copy() for c in tst_nb['cells'][i-1:i+1]]\n",
    "added_cells = add_show_docs(tst_cells)\n",
    "test_eq(len(added_cells), 3)\n",
    "test_eq(added_cells[0], tst_nb['cells'][i-1])\n",
    "test_eq(added_cells[1], tst_nb['cells'][i])\n",
    "test_eq(added_cells[2], _show_doc_cell('read_nb'))"
   ]
  },
  {
   "cell_type": "code",
   "execution_count": null,
   "metadata": {},
   "outputs": [],
   "source": [
    "# export\n",
    "def remove_fake_headers(cells):\n",
    "    \"Remove in `cells` the fake header\"\n",
    "    res = []\n",
    "    pat = re.compile(r'#+.*-$')\n",
    "    for cell in cells:\n",
    "        if cell['cell_type']=='code' or re.search(pat, cell['source']) is None:\n",
    "            res.append(cell)\n",
    "    return res"
   ]
  },
  {
   "cell_type": "code",
   "execution_count": null,
   "metadata": {},
   "outputs": [],
   "source": [
    "cells = [{'cell_type': 'markdown',\n",
    "          'metadata': {},\n",
    "          'source': '### Fake-'}] + tst_nb['cells'][:10]\n",
    "cells1 = remove_fake_headers(cells)\n",
    "test_eq(len(cells1), len(cells)-1)\n",
    "test_eq(cells1[0], cells[1])"
   ]
  },
  {
   "cell_type": "code",
   "execution_count": null,
   "metadata": {},
   "outputs": [],
   "source": [
    "# export\n",
    "def remove_empty(cells):\n",
    "    \"Remove in `cells` the empty cells\"\n",
    "    return [c for c in cells if len(c['source']) >0]"
   ]
  },
  {
   "cell_type": "markdown",
   "metadata": {},
   "source": [
    "### Grabbing metada"
   ]
  },
  {
   "cell_type": "code",
   "execution_count": null,
   "metadata": {},
   "outputs": [
    {
     "data": {
      "text/plain": [
       "[1, 3]"
      ]
     },
     "execution_count": null,
     "metadata": {},
     "output_type": "execute_result"
    }
   ],
   "source": [
    "x = [1,2,3]\n",
    "x.pop(1)\n",
    "x"
   ]
  },
  {
   "cell_type": "code",
   "execution_count": null,
   "metadata": {},
   "outputs": [],
   "source": [
    "# export\n",
    "def get_metadata(cells):\n",
    "    \"Find the cell with title and summary in `cells`.\"\n",
    "    pat = re.compile('^\\s*#\\s*([^\\n]*)\\n*>\\s*([^\\n]*)')\n",
    "    for i,cell in enumerate(cells):\n",
    "        if cell['cell_type'] == 'markdown':\n",
    "            match = re.match(pat, cell['source'])\n",
    "            if match: \n",
    "                cells.pop(i)\n",
    "                return {'keywords': 'fastai',\n",
    "                        'summary' : match.groups()[1],\n",
    "                        'title'   : match.groups()[0]}\n",
    "    return {'keywords': 'fastai',\n",
    "            'summary' : 'summary',\n",
    "            'title'   : 'Title'}"
   ]
  },
  {
   "cell_type": "code",
   "execution_count": null,
   "metadata": {},
   "outputs": [],
   "source": [
    "tst_nb = read_nb('91_export.ipynb')\n",
    "test_eq(get_metadata(tst_nb['cells']), {\n",
    "    'keywords': 'fastai',\n",
    "    'summary': 'The functions that transform the dev notebooks in the fastai library',\n",
    "    'title': 'Converting notebooks to modules'})\n",
    "#The cell with the metada is poped out, so if we do it a second time we get the default.\n",
    "test_eq(get_metadata(tst_nb['cells']), {'keywords': 'fastai',\n",
    "            'summary' : 'summary',\n",
    "            'title'   : 'Title'})"
   ]
  },
  {
   "cell_type": "markdown",
   "metadata": {},
   "source": [
    "### Executing show_doc cells"
   ]
  },
  {
   "cell_type": "code",
   "execution_count": null,
   "metadata": {},
   "outputs": [],
   "source": [
    "# export\n",
    "class ExecuteShowDocPreprocessor(ExecutePreprocessor):\n",
    "    \"An `ExecutePreprocessor` that only executes `show_doc` and `import` cells\"\n",
    "    def preprocess_cell(self, cell, resources, index):\n",
    "        pat = re.compile(r\"show_doc\\(([\\w\\.]*)|^\\s*#\\s*exports?\\s*\")\n",
    "        if 'source' in cell and cell.cell_type == \"code\":\n",
    "            if re.search(pat, cell['source']):\n",
    "                return super().preprocess_cell(cell, resources, index)\n",
    "        return cell, resources"
   ]
  },
  {
   "cell_type": "code",
   "execution_count": null,
   "metadata": {},
   "outputs": [],
   "source": [
    "# export\n",
    "def execute_nb(nb, metadata=None, show_doc_only=True):\n",
    "    \"Execute `nb` (or only the `show_doc` cells) with `metadata`\"\n",
    "    ep_cls = ExecuteShowDocPreprocessor if show_doc_only else ExecutePreprocessor\n",
    "    ep = ep_cls(timeout=600, kernel_name='python3')\n",
    "    metadata = metadata or {}\n",
    "    pnb = nbformat.from_dict(nb)\n",
    "    ep.preprocess(pnb, metadata)\n",
    "    return pnb"
   ]
  },
  {
   "cell_type": "code",
   "execution_count": null,
   "metadata": {},
   "outputs": [],
   "source": [
    "fake_nb = {k:v for k,v in tst_nb.items() if k != 'cells'}\n",
    "fake_nb['cells'] = [tst_nb['cells'][0].copy()] + added_cells\n",
    "fake_nb = execute_nb(fake_nb)\n",
    "assert len(fake_nb['cells'][-1]['outputs']) > 0"
   ]
  },
  {
   "cell_type": "markdown",
   "metadata": {},
   "source": [
    "## Conversion"
   ]
  },
  {
   "cell_type": "code",
   "execution_count": null,
   "metadata": {},
   "outputs": [],
   "source": [
    "#hide\n",
    "#Tricking jupyter notebook to have a __file__ attribute. All _file_ will be replaced by __file__\n",
    "_file_ = Path('fastai_local').absolute()/'notebook'/'export.py'"
   ]
  },
  {
   "cell_type": "code",
   "execution_count": null,
   "metadata": {},
   "outputs": [],
   "source": [
    "# export\n",
    "def _exporter():\n",
    "    exporter = HTMLExporter(Config())\n",
    "    exporter.exclude_input_prompt=True\n",
    "    exporter.exclude_output_prompt=True\n",
    "    exporter.template_file = 'jekyll.tpl'\n",
    "    exporter.template_path.append(str(Path(_file_).parent))\n",
    "    return exporter"
   ]
  },
  {
   "cell_type": "code",
   "execution_count": null,
   "metadata": {},
   "outputs": [],
   "source": [
    "# export\n",
    "process_cells = [remove_fake_headers, add_show_docs, remove_hidden, remove_empty]\n",
    "process_cell  = [hide_cells, remove_widget_state]"
   ]
  },
  {
   "cell_type": "code",
   "execution_count": null,
   "metadata": {},
   "outputs": [],
   "source": [
    "# export\n",
    "def convert_nb(fname, dest_path='docs'):\n",
    "    \"Convert a notebook `fname` to html file in `dest_path`.\"\n",
    "    fname = Path(fname).absolute()\n",
    "    nb = read_nb(fname)\n",
    "    nb['cells'] = compose(*process_cells)(nb['cells'])\n",
    "    nb['cells'] = [compose(*process_cell)(c) for c in nb['cells']]\n",
    "    fname = Path(fname).absolute()\n",
    "    dest_name = '.'.join(fname.with_suffix('.html').name.split('_')[1:])\n",
    "    meta_jekyll = get_metadata(nb['cells'])\n",
    "    meta_jekyll['nb_path'] = f'{fname.parent.name}/{fname.name}'\n",
    "    nb = execute_nb(nb)\n",
    "    with open(f'{dest_path}/{dest_name}','w') as f:\n",
    "        f.write(_exporter().from_notebook_node(nb, resources=meta_jekyll)[0])"
   ]
  },
  {
   "cell_type": "code",
   "execution_count": null,
   "metadata": {},
   "outputs": [],
   "source": [
    "# export\n",
    "def convert_all(path='.', dest_path='docs', force_all=False):\n",
    "    \"Convert all notebooks in `path` to html files in `dest_path`.\"\n",
    "    path = Path(path)\n",
    "    changed_cnt = 0\n",
    "    for fname in path.glob(\"*.ipynb\"):\n",
    "        # only rebuild modified files\n",
    "        if fname.name.startswith('_'): continue\n",
    "        fname_out = Path(dest_path)/'.'.join(fname.with_suffix('.html').name.split('_')[1:])\n",
    "        if not force_all and fname_out.exists() and os.path.getmtime(fname) < os.path.getmtime(fname_out): \n",
    "            continue\n",
    "        print(f\"converting: {fname} => {fname_out}\")\n",
    "        changed_cnt += 1\n",
    "        try: convert_nb(fname, dest_path=dest_path)\n",
    "        except: print(\"Failed\")\n",
    "    if changed_cnt==0: print(\"No notebooks were modified\")"
   ]
  },
  {
   "cell_type": "code",
   "execution_count": null,
   "metadata": {},
   "outputs": [
    {
     "name": "stdout",
     "output_type": "stream",
     "text": [
      "converting: 04_data_core.ipynb => docs/data.core.html\n",
      "converting: 90_notebook_core.ipynb => docs/notebook.core.html\n",
      "converting: 91_notebook_export.ipynb => docs/notebook.export.html\n",
      "converting: 92_notebook_showdoc.ipynb => docs/notebook.showdoc.html\n",
      "Failed\n",
      "converting: 03_data_external.ipynb => docs/data.external.html\n",
      "converting: 05_data_source.ipynb => docs/data.source.html\n",
      "converting: 06_pets_tutorial.ipynb => docs/pets.tutorial.html\n",
      "converting: 02_data_pipeline.ipynb => docs/data.pipeline.html\n",
      "Failed\n",
      "converting: 93_notebook_export2html.ipynb => docs/notebook.export2html.html\n"
     ]
    }
   ],
   "source": [
    "#hide\n",
    "convert_all()"
   ]
  },
  {
   "cell_type": "markdown",
   "metadata": {},
   "source": [
    "## Export-"
   ]
  },
  {
   "cell_type": "code",
   "execution_count": null,
   "metadata": {},
   "outputs": [],
   "source": [
    "#hide\n",
    "notebook2script(all_fs=True)"
   ]
  },
  {
   "cell_type": "code",
   "execution_count": null,
   "metadata": {},
   "outputs": [],
   "source": []
  }
 ],
 "metadata": {
  "kernelspec": {
   "display_name": "Python 3",
   "language": "python",
   "name": "python3"
  }
 },
 "nbformat": 4,
 "nbformat_minor": 2
}
