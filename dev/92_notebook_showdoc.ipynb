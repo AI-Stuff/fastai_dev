{
 "cells": [
  {
   "cell_type": "code",
   "execution_count": null,
   "metadata": {},
   "outputs": [],
   "source": [
    "#default_exp notebook.showdoc"
   ]
  },
  {
   "cell_type": "code",
   "execution_count": null,
   "metadata": {},
   "outputs": [],
   "source": [
    "# export\n",
    "from fastai_local.core import *\n",
    "from fastai_local.imports import *\n",
    "from fastai_local.data.pipeline import *\n",
    "from fastai_local.data.external import *\n",
    "from fastai_local.test import *\n",
    "from fastai_local.notebook.export import *\n",
    "import inspect,enum\n",
    "from IPython.display import Markdown,display"
   ]
  },
  {
   "cell_type": "markdown",
   "metadata": {},
   "source": [
    "# Show doc\n",
    "> Functions to show the doc cells in notebooks"
   ]
  },
  {
   "cell_type": "code",
   "execution_count": null,
   "metadata": {},
   "outputs": [],
   "source": [
    "test_cases = [\n",
    "    listify,    #Basic func\n",
    "    Pipeline,   #Basic class\n",
    "    ConfigKey,  #Enum\n",
    "    compose,    #Func with star args and type annotation\n",
    "    untar_data, #Func with defaults\n",
    "    add_docs    #Func with kwargs\n",
    "]"
   ]
  },
  {
   "cell_type": "markdown",
   "metadata": {},
   "source": [
    "## Gather the information"
   ]
  },
  {
   "cell_type": "markdown",
   "metadata": {},
   "source": [
    "### Names and stuff"
   ]
  },
  {
   "cell_type": "code",
   "execution_count": null,
   "metadata": {},
   "outputs": [],
   "source": [
    "def fn_name(ft):\n",
    "    \"Get the name of `ft`\"\n",
    "    if hasattr(ft, '__name__'):       return ft.__name__\n",
    "    elif getattr(ft, '_name', False): return ft._name\n",
    "    elif hasattr(ft,'__origin__'):    return str(ft.__origin__).split('.')[-1] #types\n",
    "    else:                             return str(ft).split('.')[-1]"
   ]
  },
  {
   "cell_type": "code",
   "execution_count": null,
   "metadata": {},
   "outputs": [],
   "source": [
    "test_eq([fn_name(o) for o in test_cases], \n",
    "        ['listify', 'Pipeline', 'ConfigKey', 'compose', 'untar_data', 'add_docs'])\n",
    "test_eq(fn_name(Union[Tensor, float]), 'Union')"
   ]
  },
  {
   "cell_type": "code",
   "execution_count": null,
   "metadata": {},
   "outputs": [],
   "source": [
    "def get_anchor(fn):\n",
    "    \"Anchor name associated to `fn`\"\n",
    "    if hasattr(fn,'__qualname__'): return fn.__qualname__\n",
    "    if inspect.ismethod(fn): return fn_name(fn.__self__) + '.' + fn_name(fn)\n",
    "    return fn_name(fn)"
   ]
  },
  {
   "cell_type": "code",
   "execution_count": null,
   "metadata": {},
   "outputs": [],
   "source": [
    "test_eq([get_anchor(o) for o in test_cases], \n",
    "        ['listify', 'Pipeline', 'ConfigKey', 'compose', 'untar_data', 'add_docs'])\n",
    "test_eq(get_anchor(Pipeline.composed), 'Pipeline.composed')"
   ]
  },
  {
   "cell_type": "markdown",
   "metadata": {},
   "source": [
    "The inspect module lets us know quickly if an object is a function or a class but it doesn't distinguish classes and enums."
   ]
  },
  {
   "cell_type": "code",
   "execution_count": null,
   "metadata": {},
   "outputs": [],
   "source": [
    "def is_enum(cls): \n",
    "    \"Check if `cls` is an enum or another type of class\"\n",
    "    return cls.__class__ == enum.Enum or cls.__class__ == enum.EnumMeta"
   ]
  },
  {
   "cell_type": "code",
   "execution_count": null,
   "metadata": {},
   "outputs": [],
   "source": [
    "assert is_enum(ConfigKey)\n",
    "assert not is_enum(Pipeline)"
   ]
  },
  {
   "cell_type": "code",
   "execution_count": null,
   "metadata": {},
   "outputs": [],
   "source": [
    "def _get_mod_name(ft): \n",
    "    \"Return the name of the module where `ft` is defined\"\n",
    "    return inspect.getmodule(ft).__name__"
   ]
  },
  {
   "cell_type": "code",
   "execution_count": null,
   "metadata": {},
   "outputs": [],
   "source": [
    "test_eq(_get_mod_name(Pipeline), 'fastai_local.data.pipeline')\n",
    "test_eq(_get_mod_name(untar_data), 'fastai_local.data.external')\n",
    "test_eq(_get_mod_name(ConfigKey), 'fastai_local.data.external')"
   ]
  },
  {
   "cell_type": "markdown",
   "metadata": {},
   "source": [
    "### Links"
   ]
  },
  {
   "cell_type": "code",
   "execution_count": null,
   "metadata": {},
   "outputs": [],
   "source": [
    "#hide\n",
    "#Tricking jupyter notebook to have a __file__ attribute. All _file_ will be replaced by __file__\n",
    "_file_ = Path('fastai_local').absolute()/'notebook'/'show_doc.py'"
   ]
  },
  {
   "cell_type": "code",
   "execution_count": null,
   "metadata": {},
   "outputs": [],
   "source": [
    "def _get_pytorch_index():\n",
    "    if not (Path(_file_).parent/'index_pytorch.txt').exists(): return {}\n",
    "    return json.load(open(Path(_file_).parent/'index_pytorch.txt', 'r'))\n",
    "\n",
    "def add_pytorch_index(func_name, url):\n",
    "    \"Add `func_name` in the PyTorch index for automatic links.\"\n",
    "    index = _get_pytorch_index()\n",
    "    if not url.startswith(\"https://pytorch.org/docs/stable/\"):\n",
    "        url = \"https://pytorch.org/docs/stable/\" + url\n",
    "    index[func_name] = url\n",
    "    json.dump(index, open(Path(_file_).parent/'index_pytorch.txt', 'w'), indent=2)"
   ]
  },
  {
   "cell_type": "markdown",
   "metadata": {},
   "source": [
    "`url` can be the full url or just the part after `https://pytorch.org/docs/stable/`, see the example below."
   ]
  },
  {
   "cell_type": "code",
   "execution_count": null,
   "metadata": {},
   "outputs": [],
   "source": [
    "#hide\n",
    "ind,ind_bak = Path(_file_).parent/'index_pytorch.txt',Path(_file_).parent/'index_pytorch.bak'\n",
    "if ind.exists(): shutil.move(ind, ind_bak)\n",
    "test_eq(_get_pytorch_index(), {})\n",
    "add_pytorch_index('Tensor', 'tensors.html#torch-tensor')\n",
    "test_eq(_get_pytorch_index(), {'Tensor':'https://pytorch.org/docs/stable/tensors.html#torch-tensor'})\n",
    "if ind_bak.exists(): shutil.move(ind_bak, ind)"
   ]
  },
  {
   "cell_type": "code",
   "execution_count": null,
   "metadata": {},
   "outputs": [],
   "source": [
    "add_pytorch_index('Tensor', 'tensors.html#torch-tensor')\n",
    "add_pytorch_index('device', 'tensor_attributes.html#torch-device')\n",
    "add_pytorch_index('DataLoader', 'data.html#torch.utils.data.DataLoader')"
   ]
  },
  {
   "cell_type": "code",
   "execution_count": null,
   "metadata": {},
   "outputs": [],
   "source": [
    "def is_fastai_module(name):\n",
    "    \"Test if `name` is a fastai module.\"\n",
    "    dir_name = os.path.sep.join(name.split('.'))\n",
    "    return (Path(_file_).parent.parent/f\"{dir_name}.py\").exists()"
   ]
  },
  {
   "cell_type": "code",
   "execution_count": null,
   "metadata": {},
   "outputs": [],
   "source": [
    "assert is_fastai_module('data.external')\n",
    "assert is_fastai_module('core')\n",
    "assert not is_fastai_module('export')"
   ]
  },
  {
   "cell_type": "code",
   "execution_count": null,
   "metadata": {},
   "outputs": [],
   "source": [
    "#Might change once the library is renamed fastai.\n",
    "def _is_fastai_class(ft): return belongs_to_module(ft, 'fastai_source')\n",
    "def _strip_fastai(s): return re.sub(r'^fastai_local\\.', '', s)\n",
    "FASTAI_DOCS = '' #TODO: change when live"
   ]
  },
  {
   "cell_type": "code",
   "execution_count": null,
   "metadata": {},
   "outputs": [],
   "source": [
    "def doc_link(name, include_bt:bool=True):\n",
    "    \"Create link to documentation for `name`.\"\n",
    "    cname = f'`{name}`' if include_bt else name\n",
    "    if is_fastai_module(name): return f'[{cname}]({FASTAI_DOCS}/{name}.html)'\n",
    "    try_fastai = source_nb(name, is_name=True)\n",
    "    if try_fastai:\n",
    "        page = '.'.join(try_fastai.split('_')[1:]).replace('.ipynb', '.html')\n",
    "        return f'[{cname}]({FASTAI_DOCS}/{page}#{name})'\n",
    "    try_pytorch = _get_pytorch_index().get(name, None)\n",
    "    if try_pytorch: return f'[{cname}]({try_pytorch})'\n",
    "    return cname"
   ]
  },
  {
   "cell_type": "code",
   "execution_count": null,
   "metadata": {},
   "outputs": [],
   "source": [
    "test_eq(doc_link('data.pipeline'), f'[`data.pipeline`]({FASTAI_DOCS}/data.pipeline.html)')\n",
    "test_eq(doc_link('Pipeline'), f'[`Pipeline`]({FASTAI_DOCS}/data.pipeline.html#Pipeline)')\n",
    "test_eq(doc_link('Transform.create'), \n",
    "        f'[`Transform.create`]({FASTAI_DOCS}/data.pipeline.html#Transform.create)')\n",
    "test_eq(doc_link('Tensor'), '[`Tensor`](https://pytorch.org/docs/stable/tensors.html#torch-tensor)')\n",
    "test_eq(doc_link('Tenso'), '`Tenso`')"
   ]
  },
  {
   "cell_type": "code",
   "execution_count": null,
   "metadata": {},
   "outputs": [],
   "source": [
    "def add_doc_links(text):\n",
    "    \"Try to find doc link for any item between backticks in `text`.\"\n",
    "    pat = re.compile(\"\\[`([^`]*)`\\](?:\\([^)]*\\))|`([^`]*)`\")\n",
    "    def _replace_link(m): return doc_link(m.group(1) or m.group(2))\n",
    "    return re.sub(pat, _replace_link, text)"
   ]
  },
  {
   "cell_type": "markdown",
   "metadata": {},
   "source": [
    "This function not only add links to backstick keywords, it also update the links that are already in the text."
   ]
  },
  {
   "cell_type": "code",
   "execution_count": null,
   "metadata": {},
   "outputs": [],
   "source": [
    "test_eq(add_doc_links('This is an example of `Pipeline`'), \n",
    "        \"This is an example of [`Pipeline`](/data.pipeline.html#Pipeline)\")\n",
    "test_eq(add_doc_links('Here we alread add a link in [`Tensor`](fake)'), \n",
    "        \"Here we alread add a link in [`Tensor`](https://pytorch.org/docs/stable/tensors.html#torch-tensor)\")"
   ]
  },
  {
   "cell_type": "markdown",
   "metadata": {},
   "source": [
    "## Show documentation"
   ]
  },
  {
   "cell_type": "code",
   "execution_count": null,
   "metadata": {},
   "outputs": [],
   "source": [
    "def partial_repr(t):\n",
    "    args = (t.func.__name__,) + t.args + tuple([f'{k}={v}' for k,v in t.keywords.items()])\n",
    "    reprs = ', '.join([doc_link(o) for o in args])\n",
    "    return f'<code>partial(</code>{reprs}<code>)</code>'"
   ]
  },
  {
   "cell_type": "code",
   "execution_count": null,
   "metadata": {},
   "outputs": [],
   "source": [
    "test_eq(partial_repr(partial(untar_data, c_key=ConfigKey.Model)),\n",
    "        \"<code>partial(</code>[`untar_data`](/data.external.html#untar_data), `c_key=3`<code>)</code>\")"
   ]
  },
  {
   "cell_type": "code",
   "execution_count": null,
   "metadata": {},
   "outputs": [],
   "source": [
    "def type_repr(t):\n",
    "    \"Representation of type `t` (in a type annotation)\"\n",
    "    if getattr(t, '__args__', None):\n",
    "        args = t.__args__\n",
    "        if len(args)==2 and args[1] == type(None):\n",
    "            return f'`Optional`\\[{type_repr(args[0])}\\]'\n",
    "        reprs = ', '.join([type_repr(o) for o in args])\n",
    "        return f'{doc_link(fn_name(t))}\\[{reprs}\\]'\n",
    "    else: return doc_link(fn_name(t))"
   ]
  },
  {
   "cell_type": "code",
   "execution_count": null,
   "metadata": {},
   "outputs": [],
   "source": [
    "test_eq(type_repr(Optional[Tensor]), \n",
    "        '`Optional`\\\\[[`Tensor`](https://pytorch.org/docs/stable/tensors.html#torch-tensor)\\\\]')\n",
    "test_eq(type_repr(Union[Tensor, float]), \n",
    "        '`Union`\\\\[[`Tensor`](https://pytorch.org/docs/stable/tensors.html#torch-tensor), `float`\\\\]')"
   ]
  },
  {
   "cell_type": "code",
   "execution_count": null,
   "metadata": {},
   "outputs": [],
   "source": [
    "_arg_prefixes = {inspect._VAR_POSITIONAL: '\\*', inspect._VAR_KEYWORD:'\\*\\*'}\n",
    "\n",
    "def format_param(p):\n",
    "    \"Formats function param to `param1:Type=val`. Font weights: param1=bold, val=bold+italic\"\n",
    "    arg_prefix = _arg_prefixes.get(p.kind, '') # asterisk prefix for *args and **kwargs\n",
    "    res = f\"**{arg_prefix}`{p.name}`**\"\n",
    "    if hasattr(p, 'annotation') and p.annotation != p.empty: res += f':{type_repr(p.annotation)}'\n",
    "    if p.default != p.empty:\n",
    "        default = getattr(p.default, 'func', p.default)\n",
    "        default = getattr(default, '__name__', default)\n",
    "        if is_enum(default.__class__):\n",
    "            res += f'=*`{default.__class__.__name__}.{default.name}`*'\n",
    "        else: res += f'=*`{repr(default)}`*'\n",
    "    return res"
   ]
  },
  {
   "cell_type": "code",
   "execution_count": null,
   "metadata": {},
   "outputs": [],
   "source": [
    "sig = inspect.signature(untar_data)\n",
    "params = [format_param(p) for _,p in sig.parameters.items()]\n",
    "test_eq(params, [\n",
    "    '**`url`**',\n",
    "    '**`fname`**=*`None`*',\n",
    "    '**`dest`**=*`None`*',\n",
    "    '**`c_key`**=*`ConfigKey.Data`*',\n",
    "    '**`force_download`**=*`False`*'])\n",
    "\n",
    "sig = inspect.signature(compose)\n",
    "params = [format_param(p) for _,p in sig.parameters.items()]\n",
    "test_eq(params[0], '**\\\\*`funcs`**:`Callable`')"
   ]
  },
  {
   "cell_type": "code",
   "execution_count": null,
   "metadata": {},
   "outputs": [],
   "source": [
    "def _format_enum_doc(enum, full_name:str)->str:\n",
    "    \"Formatted `enum` definition to show in documentation\"\n",
    "    vals = ', '.join(enum.__members__.keys())\n",
    "    return f'<code>{full_name}</code>',f'<code>Enum</code> = [{vals}]'"
   ]
  },
  {
   "cell_type": "code",
   "execution_count": null,
   "metadata": {},
   "outputs": [],
   "source": [
    "test_eq(_format_enum_doc(ConfigKey, 'ConfigKey'),\n",
    "        ('<code>ConfigKey</code>', '<code>Enum</code> = [Data, Archive, Model]'))"
   ]
  },
  {
   "cell_type": "code",
   "execution_count": null,
   "metadata": {},
   "outputs": [],
   "source": [
    "def _format_func_doc(func, full_name:str=None)->str:\n",
    "    \"Format `func` definition to show in documentation\"\n",
    "    sig = inspect.signature(func)\n",
    "    name = f'<code>{full_name or func.__name__}</code>'\n",
    "    fmt_params = [format_param(param) for name,param\n",
    "                  in sig.parameters.items() if name not in ('self','cls')]\n",
    "    arg_str = f\"({', '.join(fmt_params)})\"\n",
    "    f_name = f\"<code>class</code> {name}\" if inspect.isclass(func) else name\n",
    "    return f'{f_name}',f'{name}{arg_str}'"
   ]
  },
  {
   "cell_type": "code",
   "execution_count": null,
   "metadata": {},
   "outputs": [],
   "source": [
    "test_eq(_format_func_doc(listify), ('<code>listify</code>', '<code>listify</code>(**`o`**)'))"
   ]
  },
  {
   "cell_type": "code",
   "execution_count": null,
   "metadata": {},
   "outputs": [],
   "source": [
    "def _format_cls_doc(cls, full_name:str)->str:\n",
    "    \"Format `cls` definition to show in documentation\"\n",
    "    parent_class = inspect.getclasstree([cls])[-1][0][1][0]\n",
    "    name,args = _format_func_doc(cls, full_name)\n",
    "    if parent_class != object: args += f' :: {doc_link(fn_name(parent_class))}'\n",
    "    return name,args"
   ]
  },
  {
   "cell_type": "code",
   "execution_count": null,
   "metadata": {},
   "outputs": [],
   "source": [
    "test_eq(_format_cls_doc(Pipeline, 'Pipeline'), ('<code>class</code> <code>Pipeline</code>',\n",
    "                                    '<code>Pipeline</code>(**`tfms`**)'))"
   ]
  },
  {
   "cell_type": "code",
   "execution_count": null,
   "metadata": {},
   "outputs": [],
   "source": [
    "def show_doc(elt, doc_string=True, full_name=None, title_level=None, alt_doc_string='', markdown=True):\n",
    "    \"Show documentation for element `elt`. Supported types: class, function, and enum.\"\n",
    "    anchor_id = get_anchor(elt)\n",
    "    elt = getattr(elt, '__func__', elt)\n",
    "    full_name = full_name or fn_name(elt)\n",
    "    if inspect.isclass(elt):\n",
    "        if is_enum(elt.__class__):   name,args = _format_enum_doc(elt, full_name)\n",
    "        else:                        name,args = _format_cls_doc (elt, full_name)\n",
    "    elif isinstance(elt, Callable):  name,args = _format_func_doc(elt, full_name)\n",
    "    else: raise Exception(f'doc definition not supported for {full_name}')\n",
    "    #TODO: source\n",
    "    link = 'https://github.com/fastai/fastai/'\n",
    "    source_link = '<a href=\"{link}\" class=\"source_link\" style=\"float:right\">[source]</a>'\n",
    "    title_level = ifnone(title_level, 3 if inspect.isclass(elt) else 4)\n",
    "    doc =  f'<h{title_level} id=\"{anchor_id}\" class=\"doc_header\">{name}{source_link}</h{title_level}>'\n",
    "    doc += f'\\n\\n> {args}\\n\\n'\n",
    "    if doc_string and inspect.getdoc(elt): doc += add_doc_links(inspect.getdoc(elt))\n",
    "    if markdown: display(Markdown(doc))\n",
    "    else: return doc"
   ]
  },
  {
   "cell_type": "code",
   "execution_count": null,
   "metadata": {},
   "outputs": [
    {
     "data": {
      "text/markdown": [
       "<h4 id=\"listify\" class=\"doc_header\"><code>listify</code><a href=\"{link}\" class=\"source_link\" style=\"float:right\">[source]</a></h4>\n",
       "\n",
       "> <code>listify</code>(**`o`**)\n",
       "\n",
       "Make `o` a list."
      ],
      "text/plain": [
       "<IPython.core.display.Markdown object>"
      ]
     },
     "metadata": {},
     "output_type": "display_data"
    }
   ],
   "source": [
    "show_doc(listify)"
   ]
  },
  {
   "cell_type": "code",
   "execution_count": null,
   "metadata": {},
   "outputs": [
    {
     "data": {
      "text/markdown": [
       "<h3 id=\"Pipeline\" class=\"doc_header\"><code>class</code> <code>Pipeline</code><a href=\"{link}\" class=\"source_link\" style=\"float:right\">[source]</a></h3>\n",
       "\n",
       "> <code>Pipeline</code>(**`tfms`**)\n",
       "\n",
       "A pipeline of composed (for encode/decode) transforms, setup one at a time"
      ],
      "text/plain": [
       "<IPython.core.display.Markdown object>"
      ]
     },
     "metadata": {},
     "output_type": "display_data"
    }
   ],
   "source": [
    "show_doc(Pipeline)"
   ]
  },
  {
   "cell_type": "code",
   "execution_count": null,
   "metadata": {},
   "outputs": [
    {
     "data": {
      "text/markdown": [
       "<h3 id=\"ConfigKey\" class=\"doc_header\"><code>class</code> <code>ConfigKey</code><a href=\"{link}\" class=\"source_link\" style=\"float:right\">[source]</a></h3>\n",
       "\n",
       "> <code>ConfigKey</code>(**`value`**, **`names`**=*`None`*, **`module`**=*`None`*, **`qualname`**=*`None`*, **`type`**=*`None`*, **`start`**=*`1`*) :: `IntEnum`\n",
       "\n",
       "An enumeration."
      ],
      "text/plain": [
       "<IPython.core.display.Markdown object>"
      ]
     },
     "metadata": {},
     "output_type": "display_data"
    }
   ],
   "source": [
    "show_doc(ConfigKey)"
   ]
  },
  {
   "cell_type": "code",
   "execution_count": null,
   "metadata": {},
   "outputs": [
    {
     "data": {
      "text/markdown": [
       "<h4 id=\"compose\" class=\"doc_header\"><code>compose</code><a href=\"{link}\" class=\"source_link\" style=\"float:right\">[source]</a></h4>\n",
       "\n",
       "> <code>compose</code>(**\\*`funcs`**:`Callable`)\n",
       "\n",
       "Create a function that composes all functions in `funcs`, passing along remaining `*args` and `**kwargs` to all"
      ],
      "text/plain": [
       "<IPython.core.display.Markdown object>"
      ]
     },
     "metadata": {},
     "output_type": "display_data"
    }
   ],
   "source": [
    "show_doc(compose)"
   ]
  },
  {
   "cell_type": "code",
   "execution_count": null,
   "metadata": {},
   "outputs": [
    {
     "data": {
      "text/markdown": [
       "<h4 id=\"untar_data\" class=\"doc_header\"><code>untar_data</code><a href=\"{link}\" class=\"source_link\" style=\"float:right\">[source]</a></h4>\n",
       "\n",
       "> <code>untar_data</code>(**`url`**, **`fname`**=*`None`*, **`dest`**=*`None`*, **`c_key`**=*`ConfigKey.Data`*, **`force_download`**=*`False`*)\n",
       "\n",
       "Download `url` to `fname` if `dest` doesn't exist, and un-tgz to folder `dest`."
      ],
      "text/plain": [
       "<IPython.core.display.Markdown object>"
      ]
     },
     "metadata": {},
     "output_type": "display_data"
    }
   ],
   "source": [
    "show_doc(untar_data)"
   ]
  },
  {
   "cell_type": "code",
   "execution_count": null,
   "metadata": {},
   "outputs": [
    {
     "data": {
      "text/markdown": [
       "<h4 id=\"add_docs\" class=\"doc_header\"><code>add_docs</code><a href=\"{link}\" class=\"source_link\" style=\"float:right\">[source]</a></h4>\n",
       "\n",
       "> <code>add_docs</code>(**\\*\\*`docs`**)\n",
       "\n",
       "Copy values from [`docs`](/core.html#docs) to `cls` docstrings, and confirm all public methods are documented"
      ],
      "text/plain": [
       "<IPython.core.display.Markdown object>"
      ]
     },
     "metadata": {},
     "output_type": "display_data"
    }
   ],
   "source": [
    "show_doc(add_docs)"
   ]
  }
 ],
 "metadata": {
  "kernelspec": {
   "display_name": "Python 3",
   "language": "python",
   "name": "python3"
  }
 },
 "nbformat": 4,
 "nbformat_minor": 2
}
