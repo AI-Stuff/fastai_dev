{
 "cells": [
  {
   "cell_type": "code",
   "execution_count": null,
   "metadata": {},
   "outputs": [],
   "source": [
    "from local.torch_basics import *\n",
    "from local.test import *\n",
    "from local.core import *\n",
    "from local.layers import *\n",
    "from local.data.all import *\n",
    "from local.optimizer import *\n",
    "from local.learner import *\n",
    "from local.metrics import *\n",
    "from local.text.all import *\n",
    "from local.callback.rnn import *\n",
    "from local.callback.all import *"
   ]
  },
  {
   "cell_type": "code",
   "execution_count": null,
   "metadata": {},
   "outputs": [],
   "source": [
    "from local.notebook.showdoc import *"
   ]
  },
  {
   "cell_type": "markdown",
   "metadata": {},
   "source": [
    "# Transfer learning in text\n",
    "\n",
    "> How to fine-tune a language model and train a classifier"
   ]
  },
  {
   "cell_type": "markdown",
   "metadata": {},
   "source": [
    "## Finetune a pretrained Language Model"
   ]
  },
  {
   "cell_type": "markdown",
   "metadata": {},
   "source": [
    "First we get our data and tokenize it."
   ]
  },
  {
   "cell_type": "code",
   "execution_count": null,
   "metadata": {},
   "outputs": [],
   "source": [
    "path = untar_data(URLs.IMDB_SAMPLE)\n",
    "df = pd.read_csv(path/'texts.csv')\n",
    "df_tok,count = tokenize_df(df, 'text')"
   ]
  },
  {
   "cell_type": "markdown",
   "metadata": {},
   "source": [
    "Then we put it in a `DataSource`. For a language model, we don't have targets, so there is only one transform to numericalize the texts. Note that `tokenize_df` returns the count of the words in the corpus to make it easy to create a vocabulary."
   ]
  },
  {
   "cell_type": "code",
   "execution_count": null,
   "metadata": {},
   "outputs": [],
   "source": [
    "splits = RandomSplitter()(range_of(df_tok))\n",
    "vocab = make_vocab(count)\n",
    "dsrc = DataSource(df_tok, [[attrgetter(\"text\"), Numericalize(vocab)]], splits=splits, dl_type=LMDataLoader)"
   ]
  },
  {
   "cell_type": "markdown",
   "metadata": {},
   "source": [
    "Then we use that `DataSource` to create a `DataBunch`. Here the class of `TfmdDL` we need to use is `LMDataLoader` which will concatenate all the texts in a source (with a shuffle at each epoch for the training set), split it in `bs` chunks then read continuously through it."
   ]
  },
  {
   "cell_type": "code",
   "execution_count": null,
   "metadata": {},
   "outputs": [],
   "source": [
    "dbunch = dsrc.databunch(bs=64, seq_len=72, after_batch=Cuda)"
   ]
  },
  {
   "cell_type": "code",
   "execution_count": null,
   "metadata": {},
   "outputs": [
    {
     "data": {
      "text/html": [
       "<table border=\"1\" class=\"dataframe\">\n",
       "  <thead>\n",
       "    <tr style=\"text-align: right;\">\n",
       "      <th></th>\n",
       "      <th>text</th>\n",
       "      <th>text_</th>\n",
       "    </tr>\n",
       "  </thead>\n",
       "  <tbody>\n",
       "    <tr>\n",
       "      <th>0</th>\n",
       "      <td>xxbos xxmaj this is the most disturbing film i have ever seen . xxmaj it makes \" xxunk for a xxmaj dream \" look like a xxmaj disney film . xxmaj although , technically , it is reasonably well made , acting , cinematography , music , directing , etc . , are good . xxmaj however , the xxunk gang rape scene is the most appalling and violent thing i have</td>\n",
       "      <td>xxmaj this is the most disturbing film i have ever seen . xxmaj it makes \" xxunk for a xxmaj dream \" look like a xxmaj disney film . xxmaj although , technically , it is reasonably well made , acting , cinematography , music , directing , etc . , are good . xxmaj however , the xxunk gang rape scene is the most appalling and violent thing i have ever</td>\n",
       "    </tr>\n",
       "    <tr>\n",
       "      <th>1</th>\n",
       "      <td>extended later to a xxunk xxunk over the years to buy any book on the subject , and eventually to read the equally compelling novels of xxmaj hans xxmaj xxunk xxmaj xxunk and xxmaj erich xxmaj maria xxmaj xxunk , which provided an even deeper xxunk . xxmaj the movie versions , however , were unlike this one in that they rarely delivered the xxunk . \\n\\n xxmaj the medium of black</td>\n",
       "      <td>later to a xxunk xxunk over the years to buy any book on the subject , and eventually to read the equally compelling novels of xxmaj hans xxmaj xxunk xxmaj xxunk and xxmaj erich xxmaj maria xxmaj xxunk , which provided an even deeper xxunk . xxmaj the movie versions , however , were unlike this one in that they rarely delivered the xxunk . \\n\\n xxmaj the medium of black -</td>\n",
       "    </tr>\n",
       "    <tr>\n",
       "      <th>2</th>\n",
       "      <td>xxmaj rourke xxunk the good cast in support of the two stars . xxbos xxmaj christopher xxmaj xxunk must have been taught by a xxunk awful xxunk , because he just ca n't let go of the concept . xxmaj the play , \" sister xxmaj mary xxmaj xxunk xxmaj explains xxmaj it xxmaj all xxmaj for xxmaj you , \" was presented -- at least in xxmaj hollywood -- in precisely</td>\n",
       "      <td>rourke xxunk the good cast in support of the two stars . xxbos xxmaj christopher xxmaj xxunk must have been taught by a xxunk awful xxunk , because he just ca n't let go of the concept . xxmaj the play , \" sister xxmaj mary xxmaj xxunk xxmaj explains xxmaj it xxmaj all xxmaj for xxmaj you , \" was presented -- at least in xxmaj hollywood -- in precisely the</td>\n",
       "    </tr>\n",
       "    <tr>\n",
       "      <th>3</th>\n",
       "      <td>movies of the xxmaj american pie type . \\n\\n xxmaj all in all you just may want to see this for yourself when it comes out on video , i know that i got a kick out of it , i mean lets all be honest here , sometimes its comforting to xxunk in the shortcomings of others . xxbos xxmaj victor xxunk 's performance is one of the finest in film</td>\n",
       "      <td>of the xxmaj american pie type . \\n\\n xxmaj all in all you just may want to see this for yourself when it comes out on video , i know that i got a kick out of it , i mean lets all be honest here , sometimes its comforting to xxunk in the shortcomings of others . xxbos xxmaj victor xxunk 's performance is one of the finest in film history</td>\n",
       "    </tr>\n",
       "    <tr>\n",
       "      <th>4</th>\n",
       "      <td>there are jails , one must say , but this one prisoner in \" shot xxmaj in the xxmaj heart \" is definitely out of this world . xxbos xxmaj you should know that i am the type of person that watches even the worst of movies to the finish , often out of sheer morbid curiosity . i even watched xxmaj xxunk to the end before giving in to the temptation</td>\n",
       "      <td>are jails , one must say , but this one prisoner in \" shot xxmaj in the xxmaj heart \" is definitely out of this world . xxbos xxmaj you should know that i am the type of person that watches even the worst of movies to the finish , often out of sheer morbid curiosity . i even watched xxmaj xxunk to the end before giving in to the temptation of</td>\n",
       "    </tr>\n",
       "    <tr>\n",
       "      <th>5</th>\n",
       "      <td>is the line , supposedly lifted from \" lives of the xxmaj xxunk , \" \" a father 's love xxunk . a loving son lets himself be xxunk . \" xxmaj the parallel to god and his son , xxmaj christ , is heavy - handed , irrelevant , and xxunk , like everything else here . \\n\\n xxmaj some reference points to the theme of xxmaj russian xxunk : \"</td>\n",
       "      <td>the line , supposedly lifted from \" lives of the xxmaj xxunk , \" \" a father 's love xxunk . a loving son lets himself be xxunk . \" xxmaj the parallel to god and his son , xxmaj christ , is heavy - handed , irrelevant , and xxunk , like everything else here . \\n\\n xxmaj some reference points to the theme of xxmaj russian xxunk : \" mother</td>\n",
       "    </tr>\n",
       "    <tr>\n",
       "      <th>6</th>\n",
       "      <td>bravo ! xxmaj too bad xxmaj knightly xxunk as good looking as xxmaj jeremy xxmaj xxunk . xxmaj mark xxmaj strong did a fabulous job . xxmaj xxunk xxmaj xxunk was perfect as xxmaj xxunk father . i love the end scene ( which is an addition to the novel - but well written ) when the xxunk is in and xxmaj knightly xxunk with his workers and high society friends .</td>\n",
       "      <td>! xxmaj too bad xxmaj knightly xxunk as good looking as xxmaj jeremy xxmaj xxunk . xxmaj mark xxmaj strong did a fabulous job . xxmaj xxunk xxmaj xxunk was perfect as xxmaj xxunk father . i love the end scene ( which is an addition to the novel - but well written ) when the xxunk is in and xxmaj knightly xxunk with his workers and high society friends . xxmaj</td>\n",
       "    </tr>\n",
       "    <tr>\n",
       "      <th>7</th>\n",
       "      <td>our own misconceptions and limited views of history as xxmaj history itself . xxmaj it is narrated using the memoirs of the xxmaj duc xxunk ' xxunk mistress , xxmaj grace xxmaj elliott . xxmaj so , an event usually claimed as one of their own by xxmaj marxist xxunk , especially in xxmaj france , is here told from the point of view of a female xxunk xxunk . xxmaj inevitably</td>\n",
       "      <td>own misconceptions and limited views of history as xxmaj history itself . xxmaj it is narrated using the memoirs of the xxmaj duc xxunk ' xxunk mistress , xxmaj grace xxmaj elliott . xxmaj so , an event usually claimed as one of their own by xxmaj marxist xxunk , especially in xxmaj france , is here told from the point of view of a female xxunk xxunk . xxmaj inevitably a</td>\n",
       "    </tr>\n",
       "    <tr>\n",
       "      <th>8</th>\n",
       "      <td>\" . xxmaj quite a few were \" xxunk \" , which is hard to believe , and many more either fell from the top of the xxunk or were \" suicide from xxmaj hanging \" . xxmaj no one will ever know what really happened to them , but i think it 's fair to say that none of these men died at their own hands , but at the hands</td>\n",
       "      <td>. xxmaj quite a few were \" xxunk \" , which is hard to believe , and many more either fell from the top of the xxunk or were \" suicide from xxmaj hanging \" . xxmaj no one will ever know what really happened to them , but i think it 's fair to say that none of these men died at their own hands , but at the hands of</td>\n",
       "    </tr>\n",
       "    <tr>\n",
       "      <th>9</th>\n",
       "      <td>less apparent in more current works . ( mtv brought to television and video a static movement that xxunk through , often irrelevant cuts , from theme to theme without forward movement and without clear relationships to theme or storyline . ) xxmaj the voice , xxunk and xxunk of xxmaj redgrave 's reading brings this touching poem to life with all its fear , xxunk and pain . xxmaj in addition</td>\n",
       "      <td>apparent in more current works . ( mtv brought to television and video a static movement that xxunk through , often irrelevant cuts , from theme to theme without forward movement and without clear relationships to theme or storyline . ) xxmaj the voice , xxunk and xxunk of xxmaj redgrave 's reading brings this touching poem to life with all its fear , xxunk and pain . xxmaj in addition ,</td>\n",
       "    </tr>\n",
       "  </tbody>\n",
       "</table>"
      ],
      "text/plain": [
       "<IPython.core.display.HTML object>"
      ]
     },
     "metadata": {},
     "output_type": "display_data"
    }
   ],
   "source": [
    "dbunch.show_batch()"
   ]
  },
  {
   "cell_type": "markdown",
   "metadata": {},
   "source": [
    "Then we have a convenience method to directly grab a `Learner` from it, using the `AWD_LSTM` architecture."
   ]
  },
  {
   "cell_type": "code",
   "execution_count": null,
   "metadata": {},
   "outputs": [],
   "source": [
    "learn = language_model_learner(dbunch, AWD_LSTM, vocab, metrics=[accuracy, Perplexity()], path=path, opt_func = partial(Adam, wd=0.1)).to_fp16()"
   ]
  },
  {
   "cell_type": "code",
   "execution_count": null,
   "metadata": {},
   "outputs": [
    {
     "data": {
      "text/html": [
       "<table border=\"1\" class=\"dataframe\">\n",
       "  <thead>\n",
       "    <tr style=\"text-align: left;\">\n",
       "      <th>epoch</th>\n",
       "      <th>train_loss</th>\n",
       "      <th>valid_loss</th>\n",
       "      <th>accuracy</th>\n",
       "      <th>perplexity</th>\n",
       "      <th>time</th>\n",
       "    </tr>\n",
       "  </thead>\n",
       "  <tbody>\n",
       "    <tr>\n",
       "      <td>0</td>\n",
       "      <td>4.539608</td>\n",
       "      <td>4.083963</td>\n",
       "      <td>0.269826</td>\n",
       "      <td>59.380352</td>\n",
       "      <td>00:05</td>\n",
       "    </tr>\n",
       "  </tbody>\n",
       "</table>"
      ],
      "text/plain": [
       "<IPython.core.display.HTML object>"
      ]
     },
     "metadata": {},
     "output_type": "display_data"
    }
   ],
   "source": [
    "learn.freeze()\n",
    "learn.fit_one_cycle(1, 1e-2, moms=(0.8,0.7,0.8))"
   ]
  },
  {
   "cell_type": "code",
   "execution_count": null,
   "metadata": {},
   "outputs": [
    {
     "data": {
      "text/html": [
       "<table border=\"1\" class=\"dataframe\">\n",
       "  <thead>\n",
       "    <tr style=\"text-align: left;\">\n",
       "      <th>epoch</th>\n",
       "      <th>train_loss</th>\n",
       "      <th>valid_loss</th>\n",
       "      <th>accuracy</th>\n",
       "      <th>perplexity</th>\n",
       "      <th>time</th>\n",
       "    </tr>\n",
       "  </thead>\n",
       "  <tbody>\n",
       "    <tr>\n",
       "      <td>0</td>\n",
       "      <td>4.281470</td>\n",
       "      <td>4.199076</td>\n",
       "      <td>0.254216</td>\n",
       "      <td>66.624725</td>\n",
       "      <td>00:05</td>\n",
       "    </tr>\n",
       "    <tr>\n",
       "      <td>1</td>\n",
       "      <td>4.139605</td>\n",
       "      <td>4.105022</td>\n",
       "      <td>0.265703</td>\n",
       "      <td>60.644073</td>\n",
       "      <td>00:05</td>\n",
       "    </tr>\n",
       "    <tr>\n",
       "      <td>2</td>\n",
       "      <td>3.815871</td>\n",
       "      <td>4.069221</td>\n",
       "      <td>0.271345</td>\n",
       "      <td>58.511337</td>\n",
       "      <td>00:05</td>\n",
       "    </tr>\n",
       "    <tr>\n",
       "      <td>3</td>\n",
       "      <td>3.438873</td>\n",
       "      <td>4.113338</td>\n",
       "      <td>0.270058</td>\n",
       "      <td>61.150467</td>\n",
       "      <td>00:05</td>\n",
       "    </tr>\n",
       "  </tbody>\n",
       "</table>"
      ],
      "text/plain": [
       "<IPython.core.display.HTML object>"
      ]
     },
     "metadata": {},
     "output_type": "display_data"
    }
   ],
   "source": [
    "learn.unfreeze()\n",
    "learn.fit_one_cycle(4, 1e-2, moms=(0.8,0.7,0.8))"
   ]
  },
  {
   "cell_type": "markdown",
   "metadata": {},
   "source": [
    "Once we have fine-tuned the pretrained language model to this corpus, we save the encoder since we will use it for the classifier."
   ]
  },
  {
   "cell_type": "code",
   "execution_count": null,
   "metadata": {},
   "outputs": [
    {
     "data": {
      "text/html": [],
      "text/plain": [
       "<IPython.core.display.HTML object>"
      ]
     },
     "metadata": {},
     "output_type": "display_data"
    },
    {
     "data": {
      "text/html": [
       "<table border=\"1\" class=\"dataframe\">\n",
       "  <thead>\n",
       "    <tr style=\"text-align: right;\">\n",
       "      <th></th>\n",
       "      <th>text</th>\n",
       "      <th>text_</th>\n",
       "      <th>text__</th>\n",
       "    </tr>\n",
       "  </thead>\n",
       "  <tbody>\n",
       "    <tr>\n",
       "      <th>0</th>\n",
       "      <td>xxbos xxunk is normally xxunk , and it 's never really bothered me before -- i loved \" xxunk 2 \" , but i really do n't like pseudo xxunk or playing on xxunk . the whole movie is based on a man with esp caused by an xxunk accident and a witch . i 'm not opposed to witches , and i liked \" carrie \" ( the novel and the</td>\n",
       "      <td>xxunk is normally xxunk , and it 's never really bothered me before -- i loved \" xxunk 2 \" , but i really do n't like pseudo xxunk or playing on xxunk . the whole movie is based on a man with esp caused by an xxunk accident and a witch . i 'm not opposed to witches , and i liked \" carrie \" ( the novel and the movie</td>\n",
       "      <td>xxmaj xxmaj a a by but he 's a really a me . . i was xxmaj the \" \" . but i was did n't like it xxunk . xxunk the the . xxmaj first movie is just on a man with a xxunk by an xxunk accident . a xxunk . xxmaj think not sure to xxunk , but i think \" xxunk \" . xxunk \" ) the movie</td>\n",
       "    </tr>\n",
       "    <tr>\n",
       "      <th>1</th>\n",
       "      <td>still xxunk with an answer to these questions on her deathbed is not lost on her two daughters . \\n\\n xxmaj the cinematography for xxmaj evening is interesting - most of the film is spent in xxmaj ann 's mind as she xxunk the past , and for that reason i think the film was shot as if it was all deliberately xxunk , to give everyone an xxunk xxunk ( and</td>\n",
       "      <td>xxunk with an answer to these questions on her deathbed is not lost on her two daughters . \\n\\n xxmaj the cinematography for xxmaj evening is interesting - most of the film is spent in xxmaj ann 's mind as she xxunk the past , and for that reason i think the film was shot as if it was all deliberately xxunk , to give everyone an xxunk xxunk ( and thus</td>\n",
       "      <td>xxunk the the xxunk to the questions . the xxunk . xxunk convincing . the xxunk daughters . xxmaj xxmaj the story was the xxunk is excellent , the of the film is a on the xxunk 's eye , she is her xxunk and and the the matter , was it film is made with if it were shot made xxunk . and be the a insight xxunk . and not</td>\n",
       "    </tr>\n",
       "    <tr>\n",
       "      <th>2</th>\n",
       "      <td>while the colony tries to gather food for another offering . xxmaj the inventor finds a group of bugs which he thinks are warriors , but after he takes them back to xxmaj ant xxmaj island and introduces them , he learns that they are actually not warriors , but circus bugs ! \\n\\n xxmaj the main reason why this second xxmaj pixar feature has never absolutely xxunk me might be the</td>\n",
       "      <td>the colony tries to gather food for another offering . xxmaj the inventor finds a group of bugs which he thinks are warriors , but after he takes them back to xxmaj ant xxmaj island and introduces them , he learns that they are actually not warriors , but circus bugs ! \\n\\n xxmaj the main reason why this second xxmaj pixar feature has never absolutely xxunk me might be the characters</td>\n",
       "      <td>the film is to xxunk food for a , , xxmaj the xxunk is a xxunk of bugs to he uses are xxunk , but he they xxunk them back to the xxunk xxmaj island , finds them to he xxunk that they are not bugs bugs , but they bugs . xxmaj xxmaj the movie character why this movie xxmaj pixar feature has never really xxunk me is be that xxunk</td>\n",
       "    </tr>\n",
       "    <tr>\n",
       "      <th>3</th>\n",
       "      <td>sum it up , take a bad xxmaj jackie xxmaj chan movie , remove the comedy , remove the choreography , throw away the budget , and you have xxmaj martial xxmaj angels : a xxunk piece of work with no imagination at all . \\n\\n xxmaj mind you , i do have to give credit where credit 's due , and xxmaj shu xxmaj qi was probably the only person to</td>\n",
       "      <td>it up , take a bad xxmaj jackie xxmaj chan movie , remove the comedy , remove the choreography , throw away the budget , and you have xxmaj martial xxmaj angels : a xxunk piece of work with no imagination at all . \\n\\n xxmaj mind you , i do have to give credit where credit 's due , and xxmaj shu xxmaj qi was probably the only person to emerge</td>\n",
       "      <td>of up with but a xxunk xxmaj xxunk xxmaj chan movie , and the xxunk , and the xxunk , and away the camera , and the 'll to xxunk xxmaj arts . xxmaj xxunk , of crap . a xxunk . all . xxmaj xxmaj the you , you would n't to say a for the is not to but the i xxmaj qi is n't the best person to make</td>\n",
       "    </tr>\n",
       "    <tr>\n",
       "      <th>4</th>\n",
       "      <td>such as the destruction of xxmaj big xxmaj ben . xxmaj the acting is often more in the style of that period than xxunk . xxmaj some aspects of xxmaj victorian dress may appear odd , particularly the use of xxunk or xxunk on head and facial hair . \\n\\n xxmaj this film is the only one that follows with some xxunk xxmaj wells ' original narrative  as has been noted</td>\n",
       "      <td>as the destruction of xxmaj big xxmaj ben . xxmaj the acting is often more in the style of that period than xxunk . xxmaj some aspects of xxmaj victorian dress may appear odd , particularly the use of xxunk or xxunk on head and facial hair . \\n\\n xxmaj this film is the only one that follows with some xxunk xxmaj wells ' original narrative  as has been noted .</td>\n",
       "      <td>a xxmaj xxmaj of xxmaj xxunk xxmaj xxunk . xxmaj the story is terrible very than the xxunk of the era than the , xxmaj the of of the xxunk xxunk are be to , but the xxunk of xxunk and xxunk . the . chest hair . xxmaj xxmaj the is is a best film that has in the of of xxunk ' story story . which well been noted .</td>\n",
       "    </tr>\n",
       "    <tr>\n",
       "      <th>5</th>\n",
       "      <td>very silly script puts two xxunk and unbelievable characters together , and they 're played by actors who are completely at sea . \\n\\n xxmaj this has got to be the worst performance of xxmaj al xxmaj pacino 's career , and i say that after having seen \" the xxmaj devil 's xxmaj xxunk \" only two days ago ! xxmaj he plays a control - freak , emotionally xxunk race</td>\n",
       "      <td>silly script puts two xxunk and unbelievable characters together , and they 're played by actors who are completely at sea . \\n\\n xxmaj this has got to be the worst performance of xxmaj al xxmaj pacino 's career , and i say that after having seen \" the xxmaj devil 's xxmaj xxunk \" only two days ago ! xxmaj he plays a control - freak , emotionally xxunk race -</td>\n",
       "      <td>good and , together xxunk characters xxunk characters together . and the are all by xxmaj who are not xxunk the . xxmaj xxmaj the is a to be the worst movie of the xxunk xxmaj pacino 's career , and the have that he the seen this the xxmaj xxunk 's xxmaj hand \" , two days ago . xxmaj the is the xxunk - xxunk , a xxunk , -</td>\n",
       "    </tr>\n",
       "    <tr>\n",
       "      <th>6</th>\n",
       "      <td>it 's a good pit of fluff to watch on a xxmaj sunday morning . the acting veers from respectable to annoying at times but i believe that 's how it was to be written . done as a serious movie it could perhaps have been great or may very well have xxunk into a state of pretension . a little like \" the matrix \" meets \" head \" meets \"</td>\n",
       "      <td>'s a good pit of fluff to watch on a xxmaj sunday morning . the acting veers from respectable to annoying at times but i believe that 's how it was to be written . done as a serious movie it could perhaps have been great or may very well have xxunk into a state of pretension . a little like \" the matrix \" meets \" head \" meets \" human</td>\n",
       "      <td>'s a xxunk movie of food . watch . a rainy saturday afternoon . xxmaj xxunk is from xxunk to xxunk , times , it think that the the it 's made be made . xxmaj by a whole comedy , 's have have been a . entertaining have well have been . a comedy of xxunk . xxmaj xxunk bit xxmaj the xxmaj \" is \" the of , \" xxunk</td>\n",
       "    </tr>\n",
       "    <tr>\n",
       "      <th>7</th>\n",
       "      <td>describe it ) . xxmaj at the beginning , a bullet hits a xxmaj xxunk xxup after a guys says \" what was that ? \" … xxmaj and the other explosions are also laughable . xxmaj but the worst thing is the screenplay and the so - called story . xxmaj you do n't expect a good xxunk , i do n't think anyone renting this movie expects a good movie</td>\n",
       "      <td>it ) . xxmaj at the beginning , a bullet hits a xxmaj xxunk xxup after a guys says \" what was that ? \" … xxmaj and the other explosions are also laughable . xxmaj but the worst thing is the screenplay and the so - called story . xxmaj you do n't expect a good xxunk , i do n't think anyone renting this movie expects a good movie )</td>\n",
       "      <td>how as . xxmaj it least same , the xxunk hits a xxunk xxunk xxmaj after a xxunk is \" what is it ? \" xxmaj xxmaj and that other person are xxunk xxunk . xxmaj the the movie thing is that xxunk . the acting - called \" . xxmaj the can n't know to good movie from but do n't know xxmaj who this movie will to good movie .</td>\n",
       "    </tr>\n",
       "    <tr>\n",
       "      <th>8</th>\n",
       "      <td>for the faint - hearted  just the thick - headed . xxbos i own xxmaj xxunk xxmaj xxunk forgotten masterpiece xxmaj fire &amp; xxmaj ice on an old xxup xxunk rental xxunk . \\n\\n▁ xxmaj well for one thing , this is better than any other xxmaj xxunk - esque film you 'll ever see . xxmaj sure , it 's cheesy , but who cares ? xxmaj it stood the</td>\n",
       "      <td>the faint - hearted  just the thick - headed . xxbos i own xxmaj xxunk xxmaj xxunk forgotten masterpiece xxmaj fire &amp; xxmaj ice on an old xxup xxunk rental xxunk . \\n\\n▁ xxmaj well for one thing , this is better than any other xxmaj xxunk - esque film you 'll ever see . xxmaj sure , it 's cheesy , but who cares ? xxmaj it stood the test</td>\n",
       "      <td>the first - hearted xxmaj xxmaj as xxunk - headed xxmaj xxmaj xxmaj was this xxunk xxmaj xxunk 's film , xxunk &amp; xxmaj ice . xxmaj island xxup vhs xxup store . xxmaj xxrep the , the of , this is a than the other xxmaj xxunk film esque film i have ever see . xxmaj it , it 's a , but it knows ? xxmaj it 's the test</td>\n",
       "    </tr>\n",
       "    <tr>\n",
       "      <th>9</th>\n",
       "      <td>the list . xxmaj what a pity . i hope this movie gets released on xxup dvd for xxmaj region 1 ( north xxmaj america ) , so that 1 ) , i can purchase it , and 2 ) , others discover this hidden treasure . xxbos xxmaj my siblings and i stumbled upon xxmaj the xxmaj xxunk when our local station aired re - runs of it one summer in</td>\n",
       "      <td>list . xxmaj what a pity . i hope this movie gets released on xxup dvd for xxmaj region 1 ( north xxmaj america ) , so that 1 ) , i can purchase it , and 2 ) , others discover this hidden treasure . xxbos xxmaj my siblings and i stumbled upon xxmaj the xxmaj xxunk when our local station aired re - runs of it one summer in the</td>\n",
       "      <td>xxmaj of xxmaj the is waste . xxmaj do that film will better on xxup dvd . the region 1 ( north xxmaj america ) . and that it ) , i can only it . and i ) . i will it . treasure . xxmaj xxmaj this wife and i were on this the xxmaj xxunk xxmaj i xxmaj station aired aired - aired of the . year ago the</td>\n",
       "    </tr>\n",
       "  </tbody>\n",
       "</table>"
      ],
      "text/plain": [
       "<IPython.core.display.HTML object>"
      ]
     },
     "metadata": {},
     "output_type": "display_data"
    }
   ],
   "source": [
    "learn.show_results()"
   ]
  },
  {
   "cell_type": "code",
   "execution_count": null,
   "metadata": {},
   "outputs": [],
   "source": [
    "learn.save_encoder('enc1')"
   ]
  },
  {
   "cell_type": "markdown",
   "metadata": {},
   "source": [
    "## Use it to train a classifier"
   ]
  },
  {
   "cell_type": "markdown",
   "metadata": {},
   "source": [
    "For classification, we need to use two set of transforms: one to numericalize the texts and the other to encode the labels as categories."
   ]
  },
  {
   "cell_type": "code",
   "execution_count": null,
   "metadata": {},
   "outputs": [],
   "source": [
    "splits = RandomSplitter()(range_of(df_tok))\n",
    "dsrc = DataSource(df_tok, splits=splits, tfms=[\n",
    "    [attrgetter(\"text\"), Numericalize(vocab)],\n",
    "    [attrgetter(\"label\"), Categorize()]], dl_type=SortedDL)"
   ]
  },
  {
   "cell_type": "markdown",
   "metadata": {},
   "source": [
    "We opnce again use a subclass of `TfmdDL` for the dataloaders, since we want to sort the texts (sortish for the training set) by order of lengths. We also use `pad_collate` to create batches form texts of different lengths."
   ]
  },
  {
   "cell_type": "code",
   "execution_count": null,
   "metadata": {},
   "outputs": [],
   "source": [
    "dbunch = dsrc.databunch(before_batch=pad_input, after_batch=Cuda)"
   ]
  },
  {
   "cell_type": "code",
   "execution_count": null,
   "metadata": {},
   "outputs": [
    {
     "data": {
      "text/html": [
       "<table border=\"1\" class=\"dataframe\">\n",
       "  <thead>\n",
       "    <tr style=\"text-align: right;\">\n",
       "      <th></th>\n",
       "      <th>text</th>\n",
       "      <th>category</th>\n",
       "    </tr>\n",
       "  </thead>\n",
       "  <tbody>\n",
       "    <tr>\n",
       "      <th>0</th>\n",
       "      <td>xxbos xxup the xxup shop xxup around xxup the xxup corner is one of the xxunk and most feel - good romantic comedies ever made . xxmaj there 's just no getting around that , and it 's hard to actually put one 's feeling for this film into words . xxmaj it 's not one of those films that tries too hard , nor does it come up with the xxunk possible scenarios to get the two protagonists together in the end . xxmaj in fact , all its charm is xxunk , contained within the characters and the setting and the plot … which is highly believable to xxunk . xxmaj it 's easy to think that such a love story , as beautiful as any other ever told , * could * happen to you … a feeling you do n't often get from other romantic comedies , however sweet and heart - warming they may be . \\n\\n xxmaj alfred xxmaj kralik ( james xxmaj stewart ) and xxmaj clara xxmaj xxunk ( margaret xxmaj xxunk ) do n't have the most xxunk of first xxunk when she arrives in the shop ( matuschek &amp; xxmaj co. ) he 's been working in for the past nine years , asking for a job . xxmaj they clash from the very beginning , mostly over a cigarette box that plays music when it 's opened -- he thinks it 's a ludicrous idea ; she makes one big sell of it and gets hired . xxmaj their bickering takes them through the next six months , even as they both ( xxunk , of course ! ) fall in love with each other when they share their souls and minds in letters passed through xxup xxunk xxmaj box xxunk . xxmaj this would be a pretty thin xxunk to base an entire film on , except that xxup the xxup shop xxup around xxup the xxup corner is xxunk xxunk - out with a brilliant supporting cast made up of entirely engaging characters , from the xxunk but lonely xxmaj hugo xxmaj matuschek ( frank xxmaj morgan ) himself , who learns that his shop really is his home ; xxmaj xxunk ( felix xxmaj xxunk ) , xxmaj kralik 's sidekick and friend who always xxunk out of the room when faced with the possibility of being asked for his honest opinion ; xxunk pimp - du - xxunk xxmaj xxunk ( joseph xxmaj xxunk ) who ultimately gets his comeuppance from a xxunk righteous xxmaj kralik ; and ambitious xxunk boy xxmaj xxunk xxmaj xxunk ( william xxmaj tracy ) who wants nothing more than to be promoted to the position of xxunk for xxmaj matuschek &amp; xxmaj co. xxmaj the xxunk love story between ' dear xxmaj friends ' is played out in this little shop in xxmaj budapest , xxmaj hungary , in which xxmaj kralik 's xxunk xxunk and subsequent xxunk to shop manager help the two xxunk - to - be along . xxmaj it 's nice that everyone gets a story in this film ; the supporting characters are well - developed , and xxmaj matuschek 's own journey in life is almost as touching as the one xxmaj alfred and xxmaj clara share . xxmaj his xxunk to new xxunk boy xxmaj xxunk ( charles xxmaj smith ) for xxmaj christmas xxmaj eve dinner , made in the xxunk , beautiful snow of a xxmaj hungarian winter , makes the audience glad that he is not alone ; we come to care even for the characters whose love story it is n't this film 's business to tell . \\n\\n xxmaj aside from the love story , i must say that xxmaj james xxmaj stewart is truly one of the best things about this film . xxmaj he does n't play the full - xxunk xxmaj jimmy xxmaj stewart persona in this film ( c / f ' mr xxmaj smith xxmaj goes xxmaj to xxmaj washington ' for that ) ; in fact xxmaj alfred xxmaj kralik is xxunk and abrupt and not particularly kind . xxmaj he 's rather a xxunk man , in fact , with little hint ( until , perhaps , the very end ) of the xxunk - xxunk down - home xxunk charm xxmaj stewart would soon come to xxunk . xxmaj when he finds out before xxmaj clara that they have been xxunk in secret , in fact , xxmaj kralik does n't ' xxunk up -- he xxunk it out to see how far he can take the xxunk , especially since he quickly realises ( given his stormy relationship with xxmaj clara as boss and xxunk ) that loving the person he knows through the xxunk letters might not xxunk with loving the person herself . xxmaj his description to xxmaj clara of the fictional xxmaj xxunk xxmaj xxunk ( what a name ! ) who was to become her xxunk is hilarious in the extreme , but also his way of proving that the letters do n't reveal all there is to a man , just as her letters do n't reveal all there is to her . xxmaj stewart plays this role perfectly -- he keeps his face perfectly controlled whenever xxmaj clara insults xxmaj mr . xxmaj kralik , as she is often wo nt to do , even ( and especially ) to his face . xxmaj and yet one believes , underneath the xxunk and xxunk , that he * could * reveal his identity with as much xxunk and xxunk and sheer * hope * as he eventually does . \\n\\n xxmaj special mention must be given to the other members of the cast as well . xxmaj margaret xxmaj xxunk xxunk rather less well in the first half of the film , but she really comes into her own in the closing - shop scene on xxmaj christmas xxmaj eve , when she almost gets her heart broken again by xxmaj alfred 's most vivid description of her xxunk xxunk . xxmaj frank xxmaj morgan turns in a great performance as the jealous xxmaj hugo xxmaj matuschek driven to nervous breakdown , the man who has to xxunk his meaning in life when he realises that his wife of 22 years does not want to ' grow old with him ' . xxmaj and xxmaj felix xxmaj xxunk plays the role of the meek but xxunk xxmaj xxunk wonderfully ( a xxmaj lubitsch regular , since he appears as a hilarious xxmaj russian xxunk in xxunk particular note is the scene in which he helps his good friend xxmaj alfred get the xxmaj christmas present the latter * really * wants … a wallet instead of that ludicrous cigarette box xxmaj clara is so hung up on . \\n\\n xxmaj xxunk xxmaj lubitsch really does himself proud with this film -- for example , the famously xxunk and xxunk care given to detail in the creation of the xxmaj matuschek shop is well worth the effort , right down to the xxmaj hungarian names on the door , the xxunk and the cash xxunk and so on . xxmaj but even though xxmaj lubitsch chose to have the story set in xxmaj hungary , the setting is actually universal : it could happen anywhere ; it could happen to you . xxmaj xxunk lies the charm of this simple story , these believable characters who really * are * people . xxmaj the snow on xxmaj christmas xxmaj eve is real as well , or at least as real as xxmaj lubitsch could make it ( he had snow machines brought in at great expense ) . xxmaj it is this desire to make everything appear as real as possible that helps make the story even more believable , that gives this entire film a dreamy realism that can not be xxunk . ( no , not even in a remake like xxup you 've xxup got xxup mail . ) \\n\\n * this * is really the xxmaj jimmy xxmaj stewart xxmaj christmas film that people are missing out on when they talk about xxup it 's a xxup wonderful xxup life . xxmaj not to xxunk from the merits of that other film , but there 'd be no harm , and in fact a lot of good , done in watching xxup the xxup shop xxup around xxup the xxup corner this xxmaj christmas instead . xxmaj it 's sweet , funny , charming , and xxmaj stewart is xxunk in his role . xxmaj we should all be so lucky as to have the romance depicted in this film ; the best thing about this film is that we come away from it feeling that we very possibly could .</td>\n",
       "      <td>positive</td>\n",
       "    </tr>\n",
       "    <tr>\n",
       "      <th>1</th>\n",
       "      <td>xxbos xxmaj now that xxmaj che(2008 ) has finished its relatively short xxmaj australian cinema run ( extremely limited xxunk screen in xxmaj xxunk , after xxunk ) , i can xxunk join both xxunk of \" at xxmaj the xxmaj movies \" in taking xxmaj steven xxmaj soderbergh to task . \\n\\n xxmaj it 's usually satisfying to watch a film director change his style / subject , but xxmaj soderbergh 's most recent stinker , xxmaj the xxmaj girlfriend xxmaj xxunk ) , was also missing a story , so narrative ( and editing ? ) seem to suddenly be xxmaj soderbergh 's main challenge . xxmaj strange , after xxunk years in the business . xxmaj he was probably never much good at narrative , just xxunk it well inside \" edgy \" projects . \\n\\n xxmaj none of this excuses him this present , almost diabolical failure . xxmaj as xxmaj david xxmaj stratton xxunk , \" two parts of xxmaj che do n't ( even ) make a whole \" . \\n\\n xxmaj epic xxunk in name only , xxmaj che(2008 ) barely qualifies as a feature film ! xxmaj it certainly has no legs , xxunk as except for its xxunk ultimate resolution forced upon it by history , xxmaj soderbergh 's xxunk - long xxunk just goes nowhere . \\n\\n xxmaj even xxmaj margaret xxmaj xxunk , the more xxunk of xxmaj australia 's xxmaj at xxmaj the xxmaj movies duo , noted about xxmaj soderbergh 's xxunk waste of ( xxunk digital xxunk ) : \" you 're in the woods … you 're in the woods … you 're in the woods … \" . i too am surprised xxmaj soderbergh did n't give us another xxunk of xxup that somewhere between his xxunk two xxmaj parts , because he still left out massive xxunk of xxmaj che 's \" xxunk \" life ! \\n\\n xxmaj for a xxunk of an important but infamous historical figure , xxmaj soderbergh xxunk xxunk , if not deliberately insults , his audiences by \\n\\n 1 . never providing most of xxmaj che 's story ; \\n\\n 2 . xxunk xxunk film xxunk with mere xxunk xxunk ; \\n\\n 3 . xxunk both true hindsight and a narrative of events ; \\n\\n 4 . barely developing an idea , or a character ; \\n\\n 5 . remaining xxunk episodic ; \\n\\n 6 . xxunk proper context for scenes xxrep 3 - whatever we do get is xxunk in xxunk xxunk ; \\n\\n 7 . xxunk xxunk all audiences ( even xxmaj spanish - xxunk will be confused by the xxunk xxunk in xxmaj english ) ; and \\n\\n 8 . xxunk xxunk his main subject into one dimension . xxmaj why , at xxup this late stage ? xxmaj the xxmaj t - shirt franchise has been a success ! \\n\\n xxmaj our sense of xxunk is surely due to xxmaj peter xxmaj xxunk and xxmaj benjamin xxunk xxmaj xxunk xxunk their screenplay solely on xxmaj xxunk 's memoirs . xxmaj so , like a poor student who has read only xxup one of his xxunk xxunk for his xxunk , xxmaj soderbergh 's product is xxunk limited in perspective . \\n\\n xxmaj the audience is held captive within the same xxunk knowledge , scenery and circumstances of the \" revolutionaries \" , but that does n't xxunk our sympathy . xxmaj instead , it xxunk on us that \" ah , xxmaj soderbergh 's trying to xxunk his audiences the same as the xxmaj latino peasants were at the time \" . xxmaj but these are the xxup same illiterate xxmaj latino peasants who sold out the good doctor to his enemies . xxmaj why does xxmaj soderbergh feel the need to xxunk us with them , and keep us equally mentally captive ? xxmaj such audience xxunk must have a purpose . \\n\\n xxmaj part2 is more xxunk than xxmaj part1 , but it 's literally mind - numbing with its repetitive bush - bashing , misery of outlook , and lack of variety or character xxunk . deltoro 's xxmaj che has no opportunity to grow as a person while he struggles to xxunk his own ill - xxunk troops . xxmaj the only xxunk is the humour as xxmaj che deals with his sometimes deeply ignorant \" revolutionaries \" , some of whom xxunk lack self - control around local peasants or food . xxmaj we certainly get no insight into what caused the conditions , nor any xxunk xxunk of their xxunk xxunk , such as it was . \\n\\n xxmaj part2 's excruciating xxunk remains xxunk episodic : again , nothing is telegraphed or xxunk . xxmaj thus even the scenes with xxmaj xxunk xxmaj xxunk ( xxunk xxmaj xxunk ) are unexpected and disconcerting . xxmaj any xxunk events are portrayed xxunk and xxmaj latino - xxunk , with xxmaj part1 's interviews replaced by time - xxunk xxunk between the corrupt xxmaj xxunk president ( xxunk de xxmaj xxunk ) and xxup us xxmaj government xxunk promising xxup cia xxunk ( ! ) . \\n\\n xxmaj the rest of xxmaj part2 's \" woods \" and day - for - night blue xxunk just xxunk the audience until they 're xxunk the xxunk . \\n\\n xxmaj perhaps deltoro felt too xxunk the frustration of many non - american xxmaj latinos about never getting a truthful , xxunk history of xxmaj che 's exploits within their own countries . xxmaj when foreign xxunk still wo n't deliver a free press to their people -- for whatever reason -- then one can see how a popular xxmaj american indie producer might set out to entice the not - so - well - read ( \" i may not be able to read or write , but xxmaj i 'm xxup not xxunk xxmaj inspector xxmaj xxunk ) ) out to their own local cinemas . xxmaj the film 's obvious xxunk and gross over - xxunk hint very strongly that it 's aiming only at the xxunk of the less - informed xxup who xxup still xxup speak xxup little xxmaj english . xxmaj if they did , they 'd have read xxunk on the subject already , and xxunk the relevant social issues amongst themselves -- learning the lessons of history as they should . \\n\\n xxmaj such insights are precisely what societies still need -- and not just the remaining illiterate xxmaj latinos of xxmaj central and xxmaj south xxmaj america -- yet it 's what xxmaj che(2008 ) xxunk fails to deliver . xxmaj soderbergh xxunk his lead because he 's weak on narrative . i am xxunk why xxmaj xxunk deltoro deliberately chose xxmaj soderbergh for this project if he knew this . xxmaj it 's been xxunk , hindsight about xxmaj xxunk was xxunk wanted : it 's what i went to see this film for , but the director xxunk robs us of that . \\n\\n xxmaj david xxmaj stratton , writing in xxmaj the xxmaj australian ( xxunk ) observed that while xxmaj part1 was \" uneven \" , xxmaj part2 actually \" goes rapidly downhill \" from there , \" xxunk xxmaj che 's final campaign in xxmaj xxunk in excruciating detail \" , which \" … feels almost unbearably slow and turgid \" . \\n\\n che : the xxmaj xxunk aka xxmaj part2 is certainly no xxunk for xxmaj xxunk , painting it a picture of misery and xxunk . xxmaj the entire second half is only redeemed by the aforementioned humour , and the dramatic -- yet tragic -- capture and execution of the film 's subject . \\n\\n xxmaj the rest of this xxunk cinema xxunk is just confusing , irritating misery -- xxunk , for a xxmaj soderbergh film , to be avoided at all costs . xxmaj it is bound to break the hearts of all who know even just a xxunk about the xxunk / 10 )</td>\n",
       "      <td>negative</td>\n",
       "    </tr>\n",
       "  </tbody>\n",
       "</table>"
      ],
      "text/plain": [
       "<IPython.core.display.HTML object>"
      ]
     },
     "metadata": {},
     "output_type": "display_data"
    }
   ],
   "source": [
    "dbunch.show_batch(max_n=2)"
   ]
  },
  {
   "cell_type": "markdown",
   "metadata": {},
   "source": [
    "Then we once again have a convenience function to create a classifier from this `DataBunch` with the `AWD_LSTM` architecture."
   ]
  },
  {
   "cell_type": "code",
   "execution_count": null,
   "metadata": {},
   "outputs": [],
   "source": [
    "learn = text_classifier_learner(dbunch, AWD_LSTM, vocab, metrics=[accuracy], path=path, opt_func=Adam, drop_mult=0.5)"
   ]
  },
  {
   "cell_type": "code",
   "execution_count": null,
   "metadata": {},
   "outputs": [],
   "source": [
    "learn = learn.load_encoder('enc1')"
   ]
  },
  {
   "cell_type": "markdown",
   "metadata": {},
   "source": [
    "Then we can train with gradual unfreezing and differential learning rates."
   ]
  },
  {
   "cell_type": "code",
   "execution_count": null,
   "metadata": {},
   "outputs": [
    {
     "data": {
      "text/html": [
       "<table border=\"1\" class=\"dataframe\">\n",
       "  <thead>\n",
       "    <tr style=\"text-align: left;\">\n",
       "      <th>epoch</th>\n",
       "      <th>train_loss</th>\n",
       "      <th>valid_loss</th>\n",
       "      <th>accuracy</th>\n",
       "      <th>time</th>\n",
       "    </tr>\n",
       "  </thead>\n",
       "  <tbody>\n",
       "    <tr>\n",
       "      <td>0</td>\n",
       "      <td>0.689771</td>\n",
       "      <td>0.491355</td>\n",
       "      <td>0.755000</td>\n",
       "      <td>00:08</td>\n",
       "    </tr>\n",
       "    <tr>\n",
       "      <td>1</td>\n",
       "      <td>0.610202</td>\n",
       "      <td>0.432494</td>\n",
       "      <td>0.785000</td>\n",
       "      <td>00:08</td>\n",
       "    </tr>\n",
       "    <tr>\n",
       "      <td>2</td>\n",
       "      <td>0.505675</td>\n",
       "      <td>0.482715</td>\n",
       "      <td>0.805000</td>\n",
       "      <td>00:08</td>\n",
       "    </tr>\n",
       "    <tr>\n",
       "      <td>3</td>\n",
       "      <td>0.434065</td>\n",
       "      <td>0.444773</td>\n",
       "      <td>0.835000</td>\n",
       "      <td>00:08</td>\n",
       "    </tr>\n",
       "  </tbody>\n",
       "</table>"
      ],
      "text/plain": [
       "<IPython.core.display.HTML object>"
      ]
     },
     "metadata": {},
     "output_type": "display_data"
    }
   ],
   "source": [
    "learn.fit_one_cycle(4, moms=(0.8,0.7,0.8))"
   ]
  },
  {
   "cell_type": "code",
   "execution_count": null,
   "metadata": {},
   "outputs": [
    {
     "data": {
      "text/html": [
       "<table border=\"1\" class=\"dataframe\">\n",
       "  <thead>\n",
       "    <tr style=\"text-align: left;\">\n",
       "      <th>epoch</th>\n",
       "      <th>train_loss</th>\n",
       "      <th>valid_loss</th>\n",
       "      <th>accuracy</th>\n",
       "      <th>time</th>\n",
       "    </tr>\n",
       "  </thead>\n",
       "  <tbody>\n",
       "    <tr>\n",
       "      <td>0</td>\n",
       "      <td>0.429716</td>\n",
       "      <td>0.457978</td>\n",
       "      <td>0.795000</td>\n",
       "      <td>00:13</td>\n",
       "    </tr>\n",
       "    <tr>\n",
       "      <td>1</td>\n",
       "      <td>0.412353</td>\n",
       "      <td>0.446610</td>\n",
       "      <td>0.805000</td>\n",
       "      <td>00:14</td>\n",
       "    </tr>\n",
       "    <tr>\n",
       "      <td>2</td>\n",
       "      <td>0.362996</td>\n",
       "      <td>0.421032</td>\n",
       "      <td>0.815000</td>\n",
       "      <td>00:14</td>\n",
       "    </tr>\n",
       "    <tr>\n",
       "      <td>3</td>\n",
       "      <td>0.325697</td>\n",
       "      <td>0.441673</td>\n",
       "      <td>0.825000</td>\n",
       "      <td>00:15</td>\n",
       "    </tr>\n",
       "    <tr>\n",
       "      <td>4</td>\n",
       "      <td>0.273554</td>\n",
       "      <td>0.454610</td>\n",
       "      <td>0.840000</td>\n",
       "      <td>00:14</td>\n",
       "    </tr>\n",
       "    <tr>\n",
       "      <td>5</td>\n",
       "      <td>0.236317</td>\n",
       "      <td>0.459175</td>\n",
       "      <td>0.825000</td>\n",
       "      <td>00:13</td>\n",
       "    </tr>\n",
       "    <tr>\n",
       "      <td>6</td>\n",
       "      <td>0.228898</td>\n",
       "      <td>0.450375</td>\n",
       "      <td>0.835000</td>\n",
       "      <td>00:13</td>\n",
       "    </tr>\n",
       "    <tr>\n",
       "      <td>7</td>\n",
       "      <td>0.209006</td>\n",
       "      <td>0.431331</td>\n",
       "      <td>0.835000</td>\n",
       "      <td>00:13</td>\n",
       "    </tr>\n",
       "  </tbody>\n",
       "</table>"
      ],
      "text/plain": [
       "<IPython.core.display.HTML object>"
      ]
     },
     "metadata": {},
     "output_type": "display_data"
    }
   ],
   "source": [
    "learn.unfreeze()\n",
    "learn.opt = learn.create_opt()\n",
    "learn.fit_one_cycle(8, slice(1e-5,1e-3), moms=(0.8,0.7,0.8))"
   ]
  },
  {
   "cell_type": "code",
   "execution_count": null,
   "metadata": {},
   "outputs": [
    {
     "data": {
      "text/html": [],
      "text/plain": [
       "<IPython.core.display.HTML object>"
      ]
     },
     "metadata": {},
     "output_type": "display_data"
    },
    {
     "data": {
      "text/html": [
       "<table border=\"1\" class=\"dataframe\">\n",
       "  <thead>\n",
       "    <tr style=\"text-align: right;\">\n",
       "      <th></th>\n",
       "      <th>text</th>\n",
       "      <th>category</th>\n",
       "      <th>category_</th>\n",
       "    </tr>\n",
       "  </thead>\n",
       "  <tbody>\n",
       "    <tr>\n",
       "      <th>0</th>\n",
       "      <td>xxbos xxup the xxup shop xxup around xxup the xxup corner is one of the xxunk and most feel - good romantic comedies ever made . xxmaj there 's just no getting around that , and it 's hard to actually put one 's feeling for this film into words . xxmaj it 's not one of those films that tries too hard , nor does it come up with the xxunk possible scenarios to get the two protagonists together in the end . xxmaj in fact , all its charm is xxunk , contained within the characters and the setting and the plot … which is highly believable to xxunk . xxmaj it 's easy to think that such a love story , as beautiful as any other ever told , * could * happen to you … a feeling you do n't often get from other romantic comedies , however sweet and heart - warming they may be . \\n\\n xxmaj alfred xxmaj kralik ( james xxmaj stewart ) and xxmaj clara xxmaj xxunk ( margaret xxmaj xxunk ) do n't have the most xxunk of first xxunk when she arrives in the shop ( matuschek &amp; xxmaj co. ) he 's been working in for the past nine years , asking for a job . xxmaj they clash from the very beginning , mostly over a cigarette box that plays music when it 's opened -- he thinks it 's a ludicrous idea ; she makes one big sell of it and gets hired . xxmaj their bickering takes them through the next six months , even as they both ( xxunk , of course ! ) fall in love with each other when they share their souls and minds in letters passed through xxup xxunk xxmaj box xxunk . xxmaj this would be a pretty thin xxunk to base an entire film on , except that xxup the xxup shop xxup around xxup the xxup corner is xxunk xxunk - out with a brilliant supporting cast made up of entirely engaging characters , from the xxunk but lonely xxmaj hugo xxmaj matuschek ( frank xxmaj morgan ) himself , who learns that his shop really is his home ; xxmaj xxunk ( felix xxmaj xxunk ) , xxmaj kralik 's sidekick and friend who always xxunk out of the room when faced with the possibility of being asked for his honest opinion ; xxunk pimp - du - xxunk xxmaj xxunk ( joseph xxmaj xxunk ) who ultimately gets his comeuppance from a xxunk righteous xxmaj kralik ; and ambitious xxunk boy xxmaj xxunk xxmaj xxunk ( william xxmaj tracy ) who wants nothing more than to be promoted to the position of xxunk for xxmaj matuschek &amp; xxmaj co. xxmaj the xxunk love story between ' dear xxmaj friends ' is played out in this little shop in xxmaj budapest , xxmaj hungary , in which xxmaj kralik 's xxunk xxunk and subsequent xxunk to shop manager help the two xxunk - to - be along . xxmaj it 's nice that everyone gets a story in this film ; the supporting characters are well - developed , and xxmaj matuschek 's own journey in life is almost as touching as the one xxmaj alfred and xxmaj clara share . xxmaj his xxunk to new xxunk boy xxmaj xxunk ( charles xxmaj smith ) for xxmaj christmas xxmaj eve dinner , made in the xxunk , beautiful snow of a xxmaj hungarian winter , makes the audience glad that he is not alone ; we come to care even for the characters whose love story it is n't this film 's business to tell . \\n\\n xxmaj aside from the love story , i must say that xxmaj james xxmaj stewart is truly one of the best things about this film . xxmaj he does n't play the full - xxunk xxmaj jimmy xxmaj stewart persona in this film ( c / f ' mr xxmaj smith xxmaj goes xxmaj to xxmaj washington ' for that ) ; in fact xxmaj alfred xxmaj kralik is xxunk and abrupt and not particularly kind . xxmaj he 's rather a xxunk man , in fact , with little hint ( until , perhaps , the very end ) of the xxunk - xxunk down - home xxunk charm xxmaj stewart would soon come to xxunk . xxmaj when he finds out before xxmaj clara that they have been xxunk in secret , in fact , xxmaj kralik does n't ' xxunk up -- he xxunk it out to see how far he can take the xxunk , especially since he quickly realises ( given his stormy relationship with xxmaj clara as boss and xxunk ) that loving the person he knows through the xxunk letters might not xxunk with loving the person herself . xxmaj his description to xxmaj clara of the fictional xxmaj xxunk xxmaj xxunk ( what a name ! ) who was to become her xxunk is hilarious in the extreme , but also his way of proving that the letters do n't reveal all there is to a man , just as her letters do n't reveal all there is to her . xxmaj stewart plays this role perfectly -- he keeps his face perfectly controlled whenever xxmaj clara insults xxmaj mr . xxmaj kralik , as she is often wo nt to do , even ( and especially ) to his face . xxmaj and yet one believes , underneath the xxunk and xxunk , that he * could * reveal his identity with as much xxunk and xxunk and sheer * hope * as he eventually does . \\n\\n xxmaj special mention must be given to the other members of the cast as well . xxmaj margaret xxmaj xxunk xxunk rather less well in the first half of the film , but she really comes into her own in the closing - shop scene on xxmaj christmas xxmaj eve , when she almost gets her heart broken again by xxmaj alfred 's most vivid description of her xxunk xxunk . xxmaj frank xxmaj morgan turns in a great performance as the jealous xxmaj hugo xxmaj matuschek driven to nervous breakdown , the man who has to xxunk his meaning in life when he realises that his wife of 22 years does not want to ' grow old with him ' . xxmaj and xxmaj felix xxmaj xxunk plays the role of the meek but xxunk xxmaj xxunk wonderfully ( a xxmaj lubitsch regular , since he appears as a hilarious xxmaj russian xxunk in xxunk particular note is the scene in which he helps his good friend xxmaj alfred get the xxmaj christmas present the latter * really * wants … a wallet instead of that ludicrous cigarette box xxmaj clara is so hung up on . \\n\\n xxmaj xxunk xxmaj lubitsch really does himself proud with this film -- for example , the famously xxunk and xxunk care given to detail in the creation of the xxmaj matuschek shop is well worth the effort , right down to the xxmaj hungarian names on the door , the xxunk and the cash xxunk and so on . xxmaj but even though xxmaj lubitsch chose to have the story set in xxmaj hungary , the setting is actually universal : it could happen anywhere ; it could happen to you . xxmaj xxunk lies the charm of this simple story , these believable characters who really * are * people . xxmaj the snow on xxmaj christmas xxmaj eve is real as well , or at least as real as xxmaj lubitsch could make it ( he had snow machines brought in at great expense ) . xxmaj it is this desire to make everything appear as real as possible that helps make the story even more believable , that gives this entire film a dreamy realism that can not be xxunk . ( no , not even in a remake like xxup you 've xxup got xxup mail . ) \\n\\n * this * is really the xxmaj jimmy xxmaj stewart xxmaj christmas film that people are missing out on when they talk about xxup it 's a xxup wonderful xxup life . xxmaj not to xxunk from the merits of that other film , but there 'd be no harm , and in fact a lot of good , done in watching xxup the xxup shop xxup around xxup the xxup corner this xxmaj christmas instead . xxmaj it 's sweet , funny , charming , and xxmaj stewart is xxunk in his role . xxmaj we should all be so lucky as to have the romance depicted in this film ; the best thing about this film is that we come away from it feeling that we very possibly could .</td>\n",
       "      <td>positive</td>\n",
       "      <td>positive</td>\n",
       "    </tr>\n",
       "    <tr>\n",
       "      <th>1</th>\n",
       "      <td>xxbos xxmaj now that xxmaj che(2008 ) has finished its relatively short xxmaj australian cinema run ( extremely limited xxunk screen in xxmaj xxunk , after xxunk ) , i can xxunk join both xxunk of \" at xxmaj the xxmaj movies \" in taking xxmaj steven xxmaj soderbergh to task . \\n\\n xxmaj it 's usually satisfying to watch a film director change his style / subject , but xxmaj soderbergh 's most recent stinker , xxmaj the xxmaj girlfriend xxmaj xxunk ) , was also missing a story , so narrative ( and editing ? ) seem to suddenly be xxmaj soderbergh 's main challenge . xxmaj strange , after xxunk years in the business . xxmaj he was probably never much good at narrative , just xxunk it well inside \" edgy \" projects . \\n\\n xxmaj none of this excuses him this present , almost diabolical failure . xxmaj as xxmaj david xxmaj stratton xxunk , \" two parts of xxmaj che do n't ( even ) make a whole \" . \\n\\n xxmaj epic xxunk in name only , xxmaj che(2008 ) barely qualifies as a feature film ! xxmaj it certainly has no legs , xxunk as except for its xxunk ultimate resolution forced upon it by history , xxmaj soderbergh 's xxunk - long xxunk just goes nowhere . \\n\\n xxmaj even xxmaj margaret xxmaj xxunk , the more xxunk of xxmaj australia 's xxmaj at xxmaj the xxmaj movies duo , noted about xxmaj soderbergh 's xxunk waste of ( xxunk digital xxunk ) : \" you 're in the woods … you 're in the woods … you 're in the woods … \" . i too am surprised xxmaj soderbergh did n't give us another xxunk of xxup that somewhere between his xxunk two xxmaj parts , because he still left out massive xxunk of xxmaj che 's \" xxunk \" life ! \\n\\n xxmaj for a xxunk of an important but infamous historical figure , xxmaj soderbergh xxunk xxunk , if not deliberately insults , his audiences by \\n\\n 1 . never providing most of xxmaj che 's story ; \\n\\n 2 . xxunk xxunk film xxunk with mere xxunk xxunk ; \\n\\n 3 . xxunk both true hindsight and a narrative of events ; \\n\\n 4 . barely developing an idea , or a character ; \\n\\n 5 . remaining xxunk episodic ; \\n\\n 6 . xxunk proper context for scenes xxrep 3 - whatever we do get is xxunk in xxunk xxunk ; \\n\\n 7 . xxunk xxunk all audiences ( even xxmaj spanish - xxunk will be confused by the xxunk xxunk in xxmaj english ) ; and \\n\\n 8 . xxunk xxunk his main subject into one dimension . xxmaj why , at xxup this late stage ? xxmaj the xxmaj t - shirt franchise has been a success ! \\n\\n xxmaj our sense of xxunk is surely due to xxmaj peter xxmaj xxunk and xxmaj benjamin xxunk xxmaj xxunk xxunk their screenplay solely on xxmaj xxunk 's memoirs . xxmaj so , like a poor student who has read only xxup one of his xxunk xxunk for his xxunk , xxmaj soderbergh 's product is xxunk limited in perspective . \\n\\n xxmaj the audience is held captive within the same xxunk knowledge , scenery and circumstances of the \" revolutionaries \" , but that does n't xxunk our sympathy . xxmaj instead , it xxunk on us that \" ah , xxmaj soderbergh 's trying to xxunk his audiences the same as the xxmaj latino peasants were at the time \" . xxmaj but these are the xxup same illiterate xxmaj latino peasants who sold out the good doctor to his enemies . xxmaj why does xxmaj soderbergh feel the need to xxunk us with them , and keep us equally mentally captive ? xxmaj such audience xxunk must have a purpose . \\n\\n xxmaj part2 is more xxunk than xxmaj part1 , but it 's literally mind - numbing with its repetitive bush - bashing , misery of outlook , and lack of variety or character xxunk . deltoro 's xxmaj che has no opportunity to grow as a person while he struggles to xxunk his own ill - xxunk troops . xxmaj the only xxunk is the humour as xxmaj che deals with his sometimes deeply ignorant \" revolutionaries \" , some of whom xxunk lack self - control around local peasants or food . xxmaj we certainly get no insight into what caused the conditions , nor any xxunk xxunk of their xxunk xxunk , such as it was . \\n\\n xxmaj part2 's excruciating xxunk remains xxunk episodic : again , nothing is telegraphed or xxunk . xxmaj thus even the scenes with xxmaj xxunk xxmaj xxunk ( xxunk xxmaj xxunk ) are unexpected and disconcerting . xxmaj any xxunk events are portrayed xxunk and xxmaj latino - xxunk , with xxmaj part1 's interviews replaced by time - xxunk xxunk between the corrupt xxmaj xxunk president ( xxunk de xxmaj xxunk ) and xxup us xxmaj government xxunk promising xxup cia xxunk ( ! ) . \\n\\n xxmaj the rest of xxmaj part2 's \" woods \" and day - for - night blue xxunk just xxunk the audience until they 're xxunk the xxunk . \\n\\n xxmaj perhaps deltoro felt too xxunk the frustration of many non - american xxmaj latinos about never getting a truthful , xxunk history of xxmaj che 's exploits within their own countries . xxmaj when foreign xxunk still wo n't deliver a free press to their people -- for whatever reason -- then one can see how a popular xxmaj american indie producer might set out to entice the not - so - well - read ( \" i may not be able to read or write , but xxmaj i 'm xxup not xxunk xxmaj inspector xxmaj xxunk ) ) out to their own local cinemas . xxmaj the film 's obvious xxunk and gross over - xxunk hint very strongly that it 's aiming only at the xxunk of the less - informed xxup who xxup still xxup speak xxup little xxmaj english . xxmaj if they did , they 'd have read xxunk on the subject already , and xxunk the relevant social issues amongst themselves -- learning the lessons of history as they should . \\n\\n xxmaj such insights are precisely what societies still need -- and not just the remaining illiterate xxmaj latinos of xxmaj central and xxmaj south xxmaj america -- yet it 's what xxmaj che(2008 ) xxunk fails to deliver . xxmaj soderbergh xxunk his lead because he 's weak on narrative . i am xxunk why xxmaj xxunk deltoro deliberately chose xxmaj soderbergh for this project if he knew this . xxmaj it 's been xxunk , hindsight about xxmaj xxunk was xxunk wanted : it 's what i went to see this film for , but the director xxunk robs us of that . \\n\\n xxmaj david xxmaj stratton , writing in xxmaj the xxmaj australian ( xxunk ) observed that while xxmaj part1 was \" uneven \" , xxmaj part2 actually \" goes rapidly downhill \" from there , \" xxunk xxmaj che 's final campaign in xxmaj xxunk in excruciating detail \" , which \" … feels almost unbearably slow and turgid \" . \\n\\n che : the xxmaj xxunk aka xxmaj part2 is certainly no xxunk for xxmaj xxunk , painting it a picture of misery and xxunk . xxmaj the entire second half is only redeemed by the aforementioned humour , and the dramatic -- yet tragic -- capture and execution of the film 's subject . \\n\\n xxmaj the rest of this xxunk cinema xxunk is just confusing , irritating misery -- xxunk , for a xxmaj soderbergh film , to be avoided at all costs . xxmaj it is bound to break the hearts of all who know even just a xxunk about the xxunk / 10 )</td>\n",
       "      <td>negative</td>\n",
       "      <td>negative</td>\n",
       "    </tr>\n",
       "    <tr>\n",
       "      <th>2</th>\n",
       "      <td>xxbos xxmaj this film sat on my xxmaj xxunk for weeks before i watched it . i xxunk a self - indulgent xxunk flick about relationships gone bad . i was wrong ; this was an xxunk xxunk into the screwed - up xxunk of xxmaj new xxmaj xxunk . \\n\\n xxmaj the format is the same as xxmaj max xxmaj xxunk ' \" la xxmaj xxunk , \" based on a play by xxmaj arthur xxmaj xxunk , who is given an \" inspired by \" credit . xxmaj it starts from one person , a prostitute , standing on a street corner in xxmaj brooklyn . xxmaj she is picked up by a home contractor , who has sex with her on the hood of a car , but ca n't come . xxmaj he refuses to pay her . xxmaj when he 's off xxunk , she answers his cell phone and takes a message . xxmaj she runs away with his keys . \\n\\n xxmaj then the story switches to the contractor , who pays a professional call on a rich , bored xxmaj new xxmaj york woman , who plays with him until he is xxunk , then she pulls away . xxmaj she tells him how desperate and unhappy she is ; he tells her how beautiful she is , and lucky . xxmaj as he is leaving , she asks if he would have sex with her . xxmaj she sits on top of him , xxunk up and down . xxmaj this time he comes , the he leaves . \\n\\n xxmaj the woman and her husband throw a dinner party for their xxunk friends . xxmaj xxunk ( robert ) is talking business , wife ( ellen ) is bored , and switches the subject to sex , and how often men and women think about it . xxmaj husband switches conversation to desert . xxmaj later , after the xxunk leave , xxmaj ellen tries to entice xxmaj robert into sex . xxmaj robert wants none of it , and puts on a jazz record . xxmaj ellen turns on the radio ; xxmaj robert turns up the music ; xxmaj ellen turns on the xxup tv ; xxmaj robert turns on another xxup tv . xxmaj xxunk ensues . xxmaj ellen goes up on the roof , xxmaj robert joins her . xxmaj ellen confesses that she needs to experience more men , men other than xxmaj robert . xxmaj robert says that he too needs to experience men . \\n\\n xxmaj we next follow xxmaj robert as he visits an artist , xxmaj martin , played by xxmaj steve xxmaj buscemi . i wish xxmaj buscemi could have more roles like this , where he is a sexy , smart , totally xxunk guy . xxmaj robert xxunk xxmaj martin 's work , much more than it deserves , xxunk to get it into a show . xxmaj martin is excited , until it turns out that xxmaj robert is speaking out of his xxunk , it is all a xxunk dance . xxmaj robert tries to kiss xxmaj martin , on the lips , and xxmaj martin pulls back , saying that he is not gay . xxmaj robert xxunk that he 's not gay either , xxmaj martin xxunk . xxmaj both admit that the xxunk are bad . xxmaj robert is about to leave , when xxmaj martin allows xxmaj robert to kiss him . xxmaj they make out , and xxmaj robert goes down on xxmaj martin . \\n\\n xxmaj next we follow xxmaj martin , as he xxunk for an art show at a xxmaj manhattan gallery . xxmaj he is xxunk by the xxunk , xxmaj anna , played by xxmaj rosario xxmaj dawson . ( i had to cut some of this review to keep it under 1 xxrep 3 0 words ) … and they make love to each other . \\n\\n xxmaj we next follow xxmaj anna , who is sitting at a lunch stand . xxmaj her boyfriend , xxmaj nick ( adrian xxmaj xxunk ) , enters , bearing xxunk . xxmaj she is cold toward him ; he tries to figure out why . xxmaj he coaxes out of her the information that she has had sex with someone while he was in xxmaj san xxmaj francisco . xxmaj she coaxes out of him the fact that he has stayed with his ex - xxunk while in xxmaj san xxmaj francisco , and had sex with her . xxmaj the latter revelation turns out to be a lie . xxmaj the two of them make out in the xxunk , but she decides that they must break up . xxmaj nick is xxunk . \\n\\n xxmaj and we follow xxmaj nick , who confesses his xxunk to an older woman who he meets on a park bench , xxmaj joey ( carol xxmaj kane ) . xxmaj joey is sort of weird and child - like , but is a good audience for xxmaj nick , who needs a sympathetic ear . xxmaj the two of them go to xxmaj xxunk xxmaj island at night , and look at the stars . xxmaj nick falls under xxmaj joey 's spell , despite the age difference between them . xxmaj they go back to xxmaj joey 's apartment , and xxmaj nick gradually realizes that he is about to have sex with a crazy old woman . xxmaj she is on top of him , does n't want to let him go . xxmaj but he manages to escape . \\n\\n ( this is , by the way , the best xxmaj carol xxmaj kane role since she played xxmaj xxunk 's wife in xxmaj taxi . ) xxmaj joey 's phone rings , and it is a man calling the xxmaj psychic xxmaj friends xxmaj network , and xxmaj joey is one of the psychic friends . xxmaj although she is still hurting from xxmaj nick , she gradually gets into her psychic xxunk . xxmaj the man is at his office , late at night , and wants to have phone sex with her . xxmaj although that is not xxmaj joey 's business , xxmaj joey goes along , and coaxes the man to come . xxmaj she wants to keep talking , although the man want to get off the phone , and finds out that he has xxunk a lot of money from his company , and will be found out xxunk . xxmaj his life is ruined . xxmaj joey realizes that the man is going to commit suicide , and she tries to make him believe that she is his friend , that she cares about him . xxmaj and she does care about him . \\n\\n xxmaj but the man packs a gun into his xxunk , and goes off to seek a prostitute on the xxmaj brooklyn xxunk , and we come back to the beginning , to the same prostitute who started out xxmaj la xxmaj xxunk . xxmaj she wants to give him $ xxunk , xxrep 3 0 in cash if she will kill him . xxmaj he tried to kill himself , but could n't do it . xxmaj the prostitute does not want to do it , but he insists , holding her hand , holding the gun inside his mouth , telling her where to aim . xxmaj eventually , the gun goes off , and we see the prostitute walking down the street , and xxunk at the corner where she normally does business . xxmaj the contractor who did n't pay her earlier in the movie drives up , xxunk down the window . xxmaj they look at each other . xxup the xxup end .</td>\n",
       "      <td>positive</td>\n",
       "      <td>positive</td>\n",
       "    </tr>\n",
       "    <tr>\n",
       "      <th>3</th>\n",
       "      <td>xxbos xxmaj many neglect that this is n't just a classic due to the fact that it 's the first 3d game , or even the first xxunk - up . xxmaj it 's also one of the first xxunk games , one of the xxunk definitely the first ) truly claustrophobic games , and just a pretty well - xxunk gaming experience in general . xxmaj with graphics that are terribly dated today , the game xxunk you into the role of xxunk even * think * xxmaj i 'm going to attempt spelling his last name ! ) , an xxmaj american xxup xxunk . caught in an underground bunker . xxmaj you fight and search your way through xxunk in order to achieve different xxunk for the six xxunk , let 's face it , most of them are just an excuse to hand you a weapon , xxunk you with xxmaj nazis and send you out to waste one of the xxmaj nazi xxunk ) . xxmaj the graphics are , as i mentioned before , quite dated and very simple . xxmaj the least detailed of basically any 3d game released by a professional team of creators . xxmaj if you can get over that , xxunk some would suggest that this simplicity only adds to the effect the game has on you ) , then you 've got one heck of a good shooter / xxunk game . xxmaj the game play consists of searching for keys , health and ammo , xxunk xxunk xxmaj nazis , and a \" boss enemy \" per chapter ) of varying xxunk , of course , grows as you move further in the game ) , xxunk doors and looking for secret rooms . xxmaj there is a bonus count after each level is beaten … it goes by how fast you xxunk , if you beat the ' par time ' , which is the time it took a xxunk to go through the same level ; this can be quite fun to try and beat , and with how difficult the levels are to find your way in , they are even xxunk after many play - xxunk ) , how much xxmaj nazi xxunk ) you xxunk and how many bad guys you killed . xxmaj basically , if you got 100 % of any of aforementioned , you get a bonus , helping you reach the xxunk high score xxunk . xxmaj the game ( mostly , but not always ) allows for two xxunk different methods of playing … xxunk or xxunk down anything and everything you see . xxmaj you can either run or walk , and amongst your weapons is also a knife … running is heard instantly the moment you enter the same room as the guard , as is xxunk . xxmaj many guards are found standing with their backs turned to you , meaning that you can walk up behind them and xxunk them … nearly silently . xxmaj in your xxunk , you can get no less than four weapons and two keys … more about the weapons later . xxmaj the keys xxunk certain doors . xxmaj most doors in the game are n't locked … only two kinds need keys , and these keys are only introduced in later xxunk xxunk in levels , xxunk weaponry , health , score and lives in each chapter ) . xxmaj much of the later game is spent looking for them . xxmaj now , as i just alluded to , this game , like many of the xxunk 80 's , early 90 's ) , is based on xxunk extra lives … personally , i think it 's completely and utterly xxunk was mercifully dropped from here on end … i think ( ? ) , from the next 3d shooter and xxunk ) , since you can save anytime you want and ' using a life ' xxunk weaponry , health and ammo , like starting on a new xxunk is a real pain in later levels , where you * need * xxunk artillery ) . xxmaj now , i shall beat around the bush no longer … moving on to the guns ! xxmaj you start with aforementioned xxunk is silent but only effective up close ) and a xxunk … nothing special , but good for xxunk ammo , unlike the next two bad boys . xxmaj your third weapon is a xxmaj german xxup xxunk … a sub - machine - gun . xxmaj it 's faster and automatic , and some later enemies use it . xxmaj and the last one … is nothing short of a xxmaj xxunk gun ! xxmaj oh yeah ! xxmaj think xxup xxunk . xxmaj think xxmaj xxunk . xxmaj think about xxunk massive xxunk of lead into xxmaj nazi xxunk with such a gun . xxmaj it 's every bit as entertaining as it sounds . xxmaj most of the boss enemies use this , though , so be prepared . i wo n't reveal the identities of these boss enemies , however … that 's for each player to discover for xxunk xxunk . xxmaj the sound is excellent … very crisp and realistic . xxmaj as you hear the tear of a machine - gun firing , the xxunk xxunk xxunk of a door slamming shut behind you or a xxmaj nazi yelling surprised or a warning in xxmaj german , you truly feel like you are there , trapped in these dark and depressing bunker xxunk . xxmaj that xxunk me nicely into the level design … as you run through seemingly countless , nearly identical xxunk towards the next elevator leading you further , you are xxunk by the claustrophobic mood . i almost got motion sickness more than xxunk that might also have something to do with little sleep , lots of xxunk and unusual xxunk … ) from playing . xxmaj though the level of detail is n't terribly high , what there is is great . xxmaj remains of victims , guards ' quarters and countless xxmaj nazi xxunk … the list goes on . xxmaj the game also features quite a bit of gore … for it 's limited graphics engine , xxmaj john xxmaj romero and crew certainly put in all the blood and guts that they could for the game . xxmaj what is there left to say … the first of its kind , and it 's no wonder this xxunk countless others 3d xxunk . xxmaj sure , weapon xxunk and different height xxunk and such ) did n't come around until the next entry into the genre … xxmaj doom … and it was xxmaj duke xxmaj xxunk 3d that introduced the feature of switching your xxunk it goes beyond simply left and right , adding xxunk xxunk to it ) , and jumping did n't come around until a third , later xxunk first xxmaj xxunk , possibly ? xxmaj fellow xxunk , help me out here ) … but all of those games , as well as the rest of the genre , owe their existence to this one . xxmaj so load up the xxmaj xxunk , open the door to enter the bunker and step into xxunk . 's shoes … he deserves the recognition , xxunk maybe even especially ? ) nearly fifteen years after he first appeared . i recommended this to all fans of 3d games . 8 / 10</td>\n",
       "      <td>positive</td>\n",
       "      <td>positive</td>\n",
       "    </tr>\n",
       "    <tr>\n",
       "      <th>4</th>\n",
       "      <td>xxbos xxmaj i 'm sure things did n't exactly go the same way in the real life of xxmaj homer xxmaj hickam as they did in the film adaptation of his book , xxmaj rocket xxmaj boys , but the movie \" october xxmaj sky \" ( an xxunk of the book 's title ) is good enough to stand alone . i have not read xxmaj hickam 's memoirs , but i am still able to enjoy and understand their film adaptation . xxmaj the film , directed by xxmaj joe xxmaj xxunk and written by xxmaj lewis xxmaj xxunk , xxunk the story of teenager xxmaj homer xxmaj hickam ( jake xxmaj xxunk ) , beginning in xxmaj october of 1957 . xxmaj it opens with the sound of a radio broadcast , bringing news of the xxmaj russian satellite xxmaj xxunk , the first artificial satellite in orbit . xxmaj we see a images of a blue - gray town and its people : mostly miners working for the xxmaj olga xxmaj coal xxmaj company . xxmaj one of the miners xxunk to the news on a hand - held radio as he enters the elevator xxunk , but the xxunk is lost as he disappears into the darkness , losing sight of the xxunk sky above him . a melancholy violin tune xxunk with this image . xxmaj we then get a xxunk of xxmaj xxunk on a car radio as words on the screen inform us of the setting : xxmaj october 5 , 1957 , xxmaj coalwood , xxmaj west xxmaj xxunk . xxmaj homer and his buddies , xxmaj roy xxmaj lee xxmaj cook ( william xxmaj lee xxmaj scott ) and xxmaj xxunk o'dell ( chad xxmaj xxunk ) , are talking about football xxunk . xxmaj football xxunk are the only way out of the town , and working in the mines , for these boys . \" why are the xxunk the only ones who get to go to college , \" questions xxmaj homer . xxmaj roy xxmaj lee replies , \" they 're also the only ones who get the girls . \" xxmaj homer does n't make it in football like his older brother , so he is destined for the mines , and to follow in his father 's xxunk as mine xxunk . xxmaj until he sees the xxunk of light xxunk across the xxmaj october sky . xxmaj then he wants to build a rocket . \" i want to go into space , \" says xxmaj homer . xxmaj after a disastrous attempt involving a primitive rocket and his mother 's ( xxunk xxmaj xxunk ) xxunk , xxmaj homer xxunk the help of the nerdy xxmaj quentin xxmaj wilson ( chris xxmaj owen ) . xxmaj quentin asks xxmaj homer , \" what do you want to know about rockets ? \" xxmaj homer quickly xxunk , \" everything . \" xxmaj his science teacher at xxmaj big xxmaj xxunk xxmaj high xxmaj school , xxmaj miss xxmaj xxunk xxmaj riley ( laura xxmaj xxunk ) greatly supports xxmaj homer , and the four boys work on building rockets in xxmaj homer 's basement . xxmaj his father , however , whose life is the mine , does not support him . xxmaj john xxmaj hickam ( chris xxmaj cooper ) believes that xxmaj homer should n't waste his time on the rockets , that the coal mines are all that matter . xxmaj the coal from the mines is used to make steel , and without steel , the country would be nothing . xxmaj the difficult relationship between xxmaj homer and his dad is one of the most poignant relationships i have ever seen in a film . xxmaj miss xxmaj riley introduces xxmaj homer to the idea of entering the local science fair , with a chance to go the xxunk and win a college scholarship . \" you ca n't just dream your way out of xxmaj coalwood , \" she tells xxmaj homer . xxmaj homer and his friends act upon their dreams by working constantly on the rockets , xxunk the models with each attempt . xxmaj despite the many attempts , the boys do not lose their determination . \" what are the chances of us winning that science fair , \" o'dell asks xxmaj homer in one of their more xxunk moments . \" a million to one , \" answers xxmaj homer . \" that good ? \" o'dell replies , \" well , why did n't you say so ? \" xxmaj the music , composed by xxmaj mark xxmaj xxunk , conveys sadness and hope at the same time , especially sad at a point when xxmaj homer xxunk into the mine xxunk and loses sight of the sky and his dreams of getting out of xxmaj coalwood . xxmaj xxunk 1950s ' rock and roll , including songs by xxmaj the xxmaj xxunk and xxmaj buddy xxmaj xxunk , occasionally pushes the xxunk pieces aside to create a light - hearted mood that xxunk the teenagers ' lives with the lives of the miners . xxmaj the film , photographed by xxmaj fred xxmaj murphy , also uses colors to set xxunk and xxunk . xxmaj the town of xxmaj coalwood , actually filmed in xxmaj xxunk , is washed with blues , xxunk , and xxunk . xxmaj it 's as if the xxunk from the coal sticks to xxunk faces , clothes , houses , and roads . xxmaj when a couple in a xxunk red convertible stops to ask for directions from the boys , it is obvious that they are from the world outside of xxmaj coalwood and the xxmaj olga xxmaj coal xxmaj company . xxmaj the book on xxunk xxunk design that xxmaj miss xxmaj riley gives xxmaj homer is red . xxmaj the red stands out enough against the blue - gray world of xxmaj coalwood to xxunk \" getting out \" , but it is still subtle . xxmaj the xxunk are xxunk hints of a world that xxmaj homer only dreams of . xxmaj jake xxmaj xxunk xxunk such xxunk , hope , and xxunk as xxmaj homer xxmaj hickam that it is hard to believe he is n't the real xxmaj homer we see in actual footage at the end of the film . xxmaj chris xxmaj cooper is also xxunk believable as xxmaj homer 's xxunk father , who does n't recognize , or just does n't want to admit , that the mine is not producing enough to keep the town alive . xxmaj homer , and everyone who encourages him in his rocket - building , is aware that the town is dying . xxmaj with the community xxunk , the only way they stay together is by gathering for the rocket boys ' xxunk . xxmaj again , xxmaj i 'm sure things did n't happen exactly as the movie portrayed them , but what would a movie be without a bit of xxunk ? \" october xxmaj sky \" has just enough of that to make it a great motion picture and enough xxunk to keep it real .</td>\n",
       "      <td>positive</td>\n",
       "      <td>positive</td>\n",
       "    </tr>\n",
       "  </tbody>\n",
       "</table>"
      ],
      "text/plain": [
       "<IPython.core.display.HTML object>"
      ]
     },
     "metadata": {},
     "output_type": "display_data"
    }
   ],
   "source": [
    "learn.show_results(max_n=5)"
   ]
  },
  {
   "cell_type": "code",
   "execution_count": null,
   "metadata": {},
   "outputs": [],
   "source": []
  }
 ],
 "metadata": {
  "kernelspec": {
   "display_name": "Python 3",
   "language": "python",
   "name": "python3"
  }
 },
 "nbformat": 4,
 "nbformat_minor": 2
}
