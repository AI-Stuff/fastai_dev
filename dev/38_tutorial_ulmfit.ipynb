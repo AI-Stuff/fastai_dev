{
 "cells": [
  {
   "cell_type": "code",
   "execution_count": null,
   "metadata": {},
   "outputs": [],
   "source": [
    "from local.torch_basics import *\n",
    "from local.test import *\n",
    "from local.core import *\n",
    "from local.layers import *\n",
    "from local.data.all import *\n",
    "from local.optimizer import *\n",
    "from local.learner import *\n",
    "from local.metrics import *\n",
    "from local.text.core import *\n",
    "from local.text.data import *\n",
    "from local.text.models.core import *\n",
    "from local.text.models.awdlstm import *\n",
    "from local.text.learner import *\n",
    "from local.callback.rnn import *\n",
    "from local.callback.all import *"
   ]
  },
  {
   "cell_type": "code",
   "execution_count": null,
   "metadata": {},
   "outputs": [],
   "source": [
    "from local.notebook.showdoc import *"
   ]
  },
  {
   "cell_type": "markdown",
   "metadata": {},
   "source": [
    "# Transfer learning in text\n",
    "\n",
    "> How to fine-tune a language model and train a classifier"
   ]
  },
  {
   "cell_type": "markdown",
   "metadata": {},
   "source": [
    "## Finetune a pretrained Language Model"
   ]
  },
  {
   "cell_type": "markdown",
   "metadata": {},
   "source": [
    "First we get our data and tokenize it."
   ]
  },
  {
   "cell_type": "code",
   "execution_count": null,
   "metadata": {},
   "outputs": [],
   "source": [
    "path = untar_data(URLs.IMDB_SAMPLE)\n",
    "df = pd.read_csv(path/'texts.csv')\n",
    "df_tok,count = tokenize_df(df, 'text')\n",
    "texts,lens = df_tok['text'],df_tok['text_lengths'].values.astype(np.int)"
   ]
  },
  {
   "cell_type": "markdown",
   "metadata": {},
   "source": [
    "Then we put it in a `DataSource`. For a language model, we don't have targets, so there is only one transform to numericalize the texts. Note that `tokenize_df` returns the count of the words in the corpus to make it easy to create a vocabulary."
   ]
  },
  {
   "cell_type": "code",
   "execution_count": null,
   "metadata": {},
   "outputs": [],
   "source": [
    "splits = RandomSplitter()(texts)\n",
    "vocab = make_vocab(count)\n",
    "dsrc = DataSource(texts, [[Numericalize(vocab)], [Numericalize(vocab)]], splits=splits)"
   ]
  },
  {
   "cell_type": "markdown",
   "metadata": {},
   "source": [
    "Then we use that `DataSource` to create a `DataBunch`. Here the class of `TfmdDL` we need to use is `LMDataLoader` which will concatenate all the texts in a source (with a shuffle at each epoch for the training set), split it in `bs` chunks then read continuously through it."
   ]
  },
  {
   "cell_type": "code",
   "execution_count": null,
   "metadata": {},
   "outputs": [],
   "source": [
    "dbunch = LMDataLoader.dbunchify(dsrc, lens=lens, bs=64, seq_len=72)"
   ]
  },
  {
   "cell_type": "code",
   "execution_count": null,
   "metadata": {},
   "outputs": [
    {
     "data": {
      "text/html": [
       "<table border=\"1\" class=\"dataframe\">\n",
       "  <thead>\n",
       "    <tr style=\"text-align: right;\">\n",
       "      <th></th>\n",
       "      <th>text</th>\n",
       "    </tr>\n",
       "  </thead>\n",
       "  <tbody>\n",
       "    <tr>\n",
       "      <th>0</th>\n",
       "      <td>xxbos xxmaj john xxmaj carradine , xxmaj john xxmaj ireland , and xxmaj faith xxmaj xxunk who as players all saw better days in better films got together for this xxmaj grade g horror film about life imitating art in a mysterious mansion . \\n\\n xxmaj for xxmaj carradine it was in those last two decades of his career that he appeared in anything on the theory it was better to keep</td>\n",
       "    </tr>\n",
       "    <tr>\n",
       "      <th>1</th>\n",
       "      <td>' is an improvised sequence in which xxmaj osa xxmaj johnson attempts to teach a jazz dance to some xxmaj xxunk women . ( the dance is the xxmaj black xxmaj bottom , no less … the same dance which xxmaj bob xxmaj hope famously taught to xxmaj daisy and xxmaj xxunk xxmaj xxunk , the xxunk xxunk . ) xxmaj wearing xxunk , riding xxunk , and a xxunk xxunk ,</td>\n",
       "    </tr>\n",
       "    <tr>\n",
       "      <th>2</th>\n",
       "      <td>. \\n\\n i saw the movie again in my late teen years . xxmaj it had n't improved much . xxmaj cathy xxmaj lee xxmaj xxunk was more familiar , thanks to xxmaj that 's xxmaj incredible , but her acting was no better . xxmaj the script had a few good ideas , like the xxunk xxmaj amazon , and a decent villain in xxmaj xxunk xxmaj xxunk , but it</td>\n",
       "    </tr>\n",
       "    <tr>\n",
       "      <th>3</th>\n",
       "      <td>xxmaj bond franchise is utter crap . xxmaj casino xxmaj xxunk blows it out of the water . xxbos xxmaj matthew mcconaughey is a mysterious man waiting for xxmaj agent xxmaj wesley xxmaj doyle ( powers xxmaj boothe ) in his xxup fbi office . xxmaj he claims to have information about a serial killer chased by xxup fbi . xxmaj when xxmaj agent xxmaj doyle arrives in the office , he</td>\n",
       "    </tr>\n",
       "    <tr>\n",
       "      <th>4</th>\n",
       "      <td>but not nearly as good ) , the surprisingly effective xxup lady xxmaj oscar ( 1979 ; which had xxunk as a xxmaj japanese manga ! ) and the splendid xxup cartouche ( xxunk ) . xxmaj actually , i had watched this one not too long ago on late - night xxmaj italian xxup tv and recall not being especially xxunk over by it , so that i was genuinely surprised</td>\n",
       "    </tr>\n",
       "    <tr>\n",
       "      <th>5</th>\n",
       "      <td>adult adventure certainly contains some genuinely gripping scenes xxbos xxmaj for those fans of xxmaj laurel and xxmaj hardy , the 1940s and beyond were a very sad time for the team . xxmaj their xxunk with xxmaj xxunk xxmaj xxunk xxmaj studios had xxunk and now they were \" free xxunk to work for any studio who xxunk them a job . xxmaj unfortunately , xxmaj fox , xxup xxunk ,</td>\n",
       "    </tr>\n",
       "    <tr>\n",
       "      <th>6</th>\n",
       "      <td>i doubt it . xxmaj if there was anything worth remembering about this film , you can rest xxunk i would remember it . \\n\\n xxmaj at the time this film was released , the franchise was still entering its dying phase , so a lot of media coverage was xxunk to it . xxmaj it 's never a good sign when xxunk pop xxunk contain explanations of the plot xxunk .</td>\n",
       "    </tr>\n",
       "    <tr>\n",
       "      <th>7</th>\n",
       "      <td>they managed to avoid the xxunk of making a ( bad ) film version of the books we are all so familiar with , xxunk instead to concentrate on a period in xxmaj modesty 's life only alluded to in the novels . \\n\\n xxmaj as for the production values ( and i am no student of cinematography ! ) : yes , the film was filmed on a tight xxunk and</td>\n",
       "    </tr>\n",
       "    <tr>\n",
       "      <th>8</th>\n",
       "      <td>too young to remember it fully , the xxunk of xxmaj xxunk life in the 60s is all here : xxunk up on a xxmaj friday , songs round the piano , the xxmaj sunday xxunk , good xxunk , the xxunk of xxunk , the massive importance of self - respect , and i was pleased to see xxmaj xxunk 's funniest lines from the play left intact . xxmaj there</td>\n",
       "    </tr>\n",
       "    <tr>\n",
       "      <th>9</th>\n",
       "      <td>- xxunk ' . xxmaj the movie did not let me down . xxmaj any student of xxunk / xxunk construction should have a look - see here . ( note to fellow xxunk : they appear to be using xxmaj xxunk xxmaj sound xxunk with single blade xxunk ) . \\n\\n xxmaj but the film went way beyond this admittedly xxunk interest . xxmaj even though there were as others have</td>\n",
       "    </tr>\n",
       "  </tbody>\n",
       "</table>"
      ],
      "text/plain": [
       "<IPython.core.display.HTML object>"
      ]
     },
     "metadata": {},
     "output_type": "display_data"
    }
   ],
   "source": [
    "dbunch.show_batch()"
   ]
  },
  {
   "cell_type": "markdown",
   "metadata": {},
   "source": [
    "Then we have a convenience method to directly grab a `Learner` from it, using the `AWD_LSTM` architecture."
   ]
  },
  {
   "cell_type": "code",
   "execution_count": null,
   "metadata": {},
   "outputs": [],
   "source": [
    "learn = language_model_learner(dbunch, AWD_LSTM, vocab, metrics=[accuracy, Perplexity()], path=path, opt_func = partial(Adam, wd=0.1))"
   ]
  },
  {
   "cell_type": "code",
   "execution_count": null,
   "metadata": {},
   "outputs": [],
   "source": [
    "learn.to_fp16()"
   ]
  },
  {
   "cell_type": "code",
   "execution_count": null,
   "metadata": {},
   "outputs": [
    {
     "data": {
      "text/html": [
       "<table border=\"1\" class=\"dataframe\">\n",
       "  <thead>\n",
       "    <tr style=\"text-align: left;\">\n",
       "      <th>epoch</th>\n",
       "      <th>train_loss</th>\n",
       "      <th>valid_loss</th>\n",
       "      <th>accuracy</th>\n",
       "      <th>perplexity</th>\n",
       "      <th>time</th>\n",
       "    </tr>\n",
       "  </thead>\n",
       "  <tbody>\n",
       "    <tr>\n",
       "      <td>0</td>\n",
       "      <td>4.595262</td>\n",
       "      <td>4.044319</td>\n",
       "      <td>0.275264</td>\n",
       "      <td>57.072289</td>\n",
       "      <td>00:11</td>\n",
       "    </tr>\n",
       "  </tbody>\n",
       "</table>"
      ],
      "text/plain": [
       "<IPython.core.display.HTML object>"
      ]
     },
     "metadata": {},
     "output_type": "display_data"
    }
   ],
   "source": [
    "learn.freeze()\n",
    "learn.fit_one_cycle(1, 1e-2, moms=(0.8,0.7,0.8))"
   ]
  },
  {
   "cell_type": "code",
   "execution_count": null,
   "metadata": {},
   "outputs": [
    {
     "data": {
      "text/html": [
       "<table border=\"1\" class=\"dataframe\">\n",
       "  <thead>\n",
       "    <tr style=\"text-align: left;\">\n",
       "      <th>epoch</th>\n",
       "      <th>train_loss</th>\n",
       "      <th>valid_loss</th>\n",
       "      <th>accuracy</th>\n",
       "      <th>perplexity</th>\n",
       "      <th>time</th>\n",
       "    </tr>\n",
       "  </thead>\n",
       "  <tbody>\n",
       "    <tr>\n",
       "      <td>0</td>\n",
       "      <td>4.345487</td>\n",
       "      <td>4.044319</td>\n",
       "      <td>0.275264</td>\n",
       "      <td>57.072289</td>\n",
       "      <td>00:11</td>\n",
       "    </tr>\n",
       "    <tr>\n",
       "      <td>1</td>\n",
       "      <td>4.347984</td>\n",
       "      <td>4.044319</td>\n",
       "      <td>0.275264</td>\n",
       "      <td>57.072289</td>\n",
       "      <td>00:10</td>\n",
       "    </tr>\n",
       "    <tr>\n",
       "      <td>2</td>\n",
       "      <td>4.346834</td>\n",
       "      <td>4.044319</td>\n",
       "      <td>0.275264</td>\n",
       "      <td>57.072289</td>\n",
       "      <td>00:10</td>\n",
       "    </tr>\n",
       "    <tr>\n",
       "      <td>3</td>\n",
       "      <td>4.354233</td>\n",
       "      <td>4.044319</td>\n",
       "      <td>0.275264</td>\n",
       "      <td>57.072289</td>\n",
       "      <td>00:11</td>\n",
       "    </tr>\n",
       "  </tbody>\n",
       "</table>"
      ],
      "text/plain": [
       "<IPython.core.display.HTML object>"
      ]
     },
     "metadata": {},
     "output_type": "display_data"
    }
   ],
   "source": [
    "learn.unfreeze()\n",
    "learn.fit_one_cycle(4, 1e-2, moms=(0.8,0.7,0.8))"
   ]
  },
  {
   "cell_type": "code",
   "execution_count": null,
   "metadata": {},
   "outputs": [
    {
     "data": {
      "text/plain": [
       "Index(['a', 'b'], dtype='object')"
      ]
     },
     "execution_count": null,
     "metadata": {},
     "output_type": "execute_result"
    }
   ],
   "source": [
    "df = pd.DataFrame({'a':[0,1], 'b': [1,2]})\n",
    "df.columns"
   ]
  },
  {
   "cell_type": "code",
   "execution_count": null,
   "metadata": {},
   "outputs": [
    {
     "data": {
      "text/html": [
       "<div>\n",
       "<style scoped>\n",
       "    .dataframe tbody tr th:only-of-type {\n",
       "        vertical-align: middle;\n",
       "    }\n",
       "\n",
       "    .dataframe tbody tr th {\n",
       "        vertical-align: top;\n",
       "    }\n",
       "\n",
       "    .dataframe thead th {\n",
       "        text-align: right;\n",
       "    }\n",
       "</style>\n",
       "<table border=\"1\" class=\"dataframe\">\n",
       "  <thead>\n",
       "    <tr style=\"text-align: right;\">\n",
       "      <th></th>\n",
       "      <th>a1</th>\n",
       "      <th>b1</th>\n",
       "    </tr>\n",
       "  </thead>\n",
       "  <tbody>\n",
       "    <tr>\n",
       "      <td>0</td>\n",
       "      <td>0</td>\n",
       "      <td>1</td>\n",
       "    </tr>\n",
       "    <tr>\n",
       "      <td>1</td>\n",
       "      <td>1</td>\n",
       "      <td>2</td>\n",
       "    </tr>\n",
       "  </tbody>\n",
       "</table>\n",
       "</div>"
      ],
      "text/plain": [
       "   a1  b1\n",
       "0   0   1\n",
       "1   1   2"
      ]
     },
     "execution_count": null,
     "metadata": {},
     "output_type": "execute_result"
    }
   ],
   "source": [
    "df.rename(columns={'a':'a1', 'b': 'b1'})"
   ]
  },
  {
   "cell_type": "code",
   "execution_count": null,
   "metadata": {},
   "outputs": [],
   "source": [
    "#export\n",
    "from local.text.data import _get_empty_df\n",
    "\n",
    "@typedispatch\n",
    "def show_results(x: LMTensorText, y, its, ctxs=None, max_n=10, **kwargs):\n",
    "    if ctxs is None: ctxs = _get_empty_df(min(len(its), max_n))\n",
    "    for i,l in enumerate(['input', 'target', 'pred']):\n",
    "        ctxs = [b.show(ctx=c, label=l, **kwargs) for b,c,_ in zip(its.itemgot(i),ctxs,range(max_n))]\n",
    "    display_df(pd.DataFrame(ctxs))\n",
    "    return ctxs"
   ]
  },
  {
   "cell_type": "markdown",
   "metadata": {},
   "source": [
    "Once we have fine-tuned the pretrained language model to this corpus, we save the encoder since we will use it for the classifier."
   ]
  },
  {
   "cell_type": "code",
   "execution_count": null,
   "metadata": {},
   "outputs": [
    {
     "data": {
      "text/html": [],
      "text/plain": [
       "<IPython.core.display.HTML object>"
      ]
     },
     "metadata": {},
     "output_type": "display_data"
    },
    {
     "data": {
      "text/html": [
       "<table border=\"1\" class=\"dataframe\">\n",
       "  <thead>\n",
       "    <tr style=\"text-align: right;\">\n",
       "      <th></th>\n",
       "      <th>input</th>\n",
       "      <th>target</th>\n",
       "      <th>pred</th>\n",
       "    </tr>\n",
       "  </thead>\n",
       "  <tbody>\n",
       "    <tr>\n",
       "      <th>0</th>\n",
       "      <td>xxbos xxmaj every second of the film is gorgeous . xxmaj and that 's why it xxunk a 7 , because the plot is not especially xxunk , and thinking back over the last 90 minutes i never really felt any excitement or xxunk in the characters . xxmaj if anything , the xxunk graphics and framing have made certain scenes ( the car chase , for instance ) more xxunk than</td>\n",
       "      <td>xxmaj every second of the film is gorgeous . xxmaj and that 's why it xxunk a 7 , because the plot is not especially xxunk , and thinking back over the last 90 minutes i never really felt any excitement or xxunk in the characters . xxmaj if anything , the xxunk graphics and framing have made certain scenes ( the car chase , for instance ) more xxunk than they</td>\n",
       "      <td>xxmaj the year of the xxmaj is made , xxmaj the the 's why i 's . lot / 10 it xxmaj is so so good . but the of to the years few minutes . would really liked that xxunk . xxunk . the movie . xxmaj the you , it movie is are the were been the things in and xxunk chase ) the example , a interesting . the</td>\n",
       "    </tr>\n",
       "    <tr>\n",
       "      <th>1</th>\n",
       "      <td>. xxmaj wonderful performances . \\n\\n xxmaj it gives you a real feel of what the pioneers had to go through both physically and emotionally . xxmaj great xxunk of movie . \\n\\n xxmaj it was done when xxmaj ms . xxmaj xxunk was very young . i had always thought of her as a comedian , but this certainly is not a comedy and she is just wonderful . xxmaj there</td>\n",
       "      <td>xxmaj wonderful performances . \\n\\n xxmaj it gives you a real feel of what the pioneers had to go through both physically and emotionally . xxmaj great xxunk of movie . \\n\\n xxmaj it was done when xxmaj ms . xxmaj xxunk was very young . i had always thought of her as a comedian , but this certainly is not a comedy and she is just wonderful . xxmaj there is</td>\n",
       "      <td>xxmaj the xxmaj were xxmaj xxmaj the 's me a sense sense for the you xxmaj were done do through . the and emotionally . xxmaj the xxmaj , the and xxmaj xxmaj the 's a in the xxunk xxmaj xxmaj xxunk was in xxunk . xxmaj was to been that her as a xxunk . but i was did not a xxunk . she is a a . xxmaj she 's</td>\n",
       "    </tr>\n",
       "    <tr>\n",
       "      <th>2</th>\n",
       "      <td>xxmaj the biggest reason i do n't like it is because it is very flawed and to me does not make much sense . xxmaj the acting is very bad even xxmaj steven seagal does not do good acting , xxmaj the rest of the actors i can see because they just do direct to video movies . xxmaj it does not follow a straight storyline everything happens at once so that</td>\n",
       "      <td>the biggest reason i do n't like it is because it is very flawed and to me does not make much sense . xxmaj the acting is very bad even xxmaj steven seagal does not do good acting , xxmaj the rest of the actors i can see because they just do direct to video movies . xxmaj it does not follow a straight storyline everything happens at once so that why</td>\n",
       "      <td>xxunk xxmaj problem for have not know this is that it 's a hard . the be that not have it sense . xxmaj it xxmaj is very good , though xxunk xxmaj . . have . . . but xxunk xxmaj of the cast are have do are they are do not work the . . xxmaj the 's not work the xxunk line . , . the . much you</td>\n",
       "    </tr>\n",
       "    <tr>\n",
       "      <th>3</th>\n",
       "      <td>xxmaj possibly the best writing xxmaj i 've ever witnessed . \\n\\n 22 minutes of cavemen with horrible makeup , tackling tough social issues … xxmaj sounds like an entertaining night . i also love how bad the recent ideas are that they 're xxunk to making a sitcom out of car insurance commercials . i wonder if they 'll do the xxmaj gecko next , so that i can have a</td>\n",
       "      <td>possibly the best writing xxmaj i 've ever witnessed . \\n\\n 22 minutes of cavemen with horrible makeup , tackling tough social issues … xxmaj sounds like an entertaining night . i also love how bad the recent ideas are that they 're xxunk to making a sitcom out of car insurance commercials . i wonder if they 'll do the xxmaj gecko next , so that i can have a new</td>\n",
       "      <td>xxunk xxmaj most of of xxunk xxmaj ever seen . xxmaj xxmaj xxmaj of the were xxmaj xxunk . xxmaj the , issues , xxmaj the like a xxunk movie of xxmaj think xxunk the the it xxmaj xxmaj are . they are not . the a good . of the . . . xxmaj think if this 're be anything same xxunk , year but i 's would get a better</td>\n",
       "    </tr>\n",
       "    <tr>\n",
       "      <th>4</th>\n",
       "      <td>his will . xxmaj but he became more confident and comfortable with the role as time passed . xxmaj since everything happens for a reason in life , i believe he was forced to replace the dictator because he was meant to stay there for over the year that he did . xxmaj i 'm guessing that he stayed because he was supposed to see how good his life was compared to</td>\n",
       "      <td>will . xxmaj but he became more confident and comfortable with the role as time passed . xxmaj since everything happens for a reason in life , i believe he was forced to replace the dictator because he was meant to stay there for over the year that he did . xxmaj i 'm guessing that he stayed because he was supposed to see how good his life was compared to the</td>\n",
       "      <td>xxmaj to xxmaj he he is a involved in xxunk with the xxmaj of he went . xxmaj he he in in him couple , the , he am that will a to do him old . he was a to be in . the a next . he was not xxmaj he was not that he was in he was a to be the he he life was . to his</td>\n",
       "    </tr>\n",
       "    <tr>\n",
       "      <th>5</th>\n",
       "      <td>see . i hope it gets distributed as it should . \\n\\n xxmaj xxunk on the cast and director . \\n\\n xxmaj two thumbs up and a 10 star xxunk from me ! xxbos \" what would you do ? \" is a question that will stick in your mind for weeks after watching the emotional xxmaj xxunk xxmaj palace . xxmaj you will also be left wondering if xxmaj alice (</td>\n",
       "      <td>. i hope it gets distributed as it should . \\n\\n xxmaj xxunk on the cast and director . \\n\\n xxmaj two thumbs up and a 10 star xxunk from me ! xxbos \" what would you do ? \" is a question that will stick in your mind for weeks after watching the emotional xxmaj xxunk xxmaj palace . xxmaj you will also be left wondering if xxmaj alice ( danes</td>\n",
       "      <td>xxmaj xxmaj am that will better to a is be xxmaj xxmaj the xxmaj the xxmaj of crew of xxmaj xxmaj the of up . a xxunk % on . the . xxmaj xxmaj xxmaj i you do ? \" xxmaj a xxunk of is be to the eyes . a . you the movie xxunk xxunk . xxunk . xxmaj the will see see surprised with if you xxunk is xxmaj</td>\n",
       "    </tr>\n",
       "    <tr>\n",
       "      <th>6</th>\n",
       "      <td>with a couple trees and xxunk . xxmaj not scary whatsoever . xxmaj news flash , if you are filming in the xxmaj southern xxmaj california area , big bear is only an hour away . xxmaj they actually have trees there . \\n\\n 2 . xxmaj the writing was absolutely without a doubt the worst dialogue i have ever experienced . xxmaj every possible line in the movie was xxunk ,</td>\n",
       "      <td>a couple trees and xxunk . xxmaj not scary whatsoever . xxmaj news flash , if you are filming in the xxmaj southern xxmaj california area , big bear is only an hour away . xxmaj they actually have trees there . \\n\\n 2 . xxmaj the writing was absolutely without a doubt the worst dialogue i have ever experienced . xxmaj every possible line in the movie was xxunk , cliché</td>\n",
       "      <td>the xxunk of and a , xxmaj the only , , xxmaj the of of and you did to a the xxmaj xxunk xxmaj california area , you - is a a xxunk and . xxmaj the are have to and . xxmaj xxmaj xxmaj xxmaj the xxmaj is so awful any xxunk . xxunk . ever ever ever seen . xxmaj the time thing of the story is xxunk . and</td>\n",
       "    </tr>\n",
       "    <tr>\n",
       "      <th>7</th>\n",
       "      <td>1 xxrep 3 9 to capture part of the xxunk region of xxmaj xxunk from xxmaj india . xxmaj supposedly based on fact , you get a hint from this movie of the difficulty the xxmaj indian army had in xxunk the area from the xxmaj xxunk troops - who occupied the high ground . xxmaj but instead of telling what must have been a compelling and heroic story , all this</td>\n",
       "      <td>xxrep 3 9 to capture part of the xxunk region of xxmaj xxunk from xxmaj india . xxmaj supposedly based on fact , you get a hint from this movie of the difficulty the xxmaj indian army had in xxunk the area from the xxmaj xxunk troops - who occupied the high ground . xxmaj but instead of telling what must have been a compelling and heroic story , all this movie</td>\n",
       "      <td>/ 3 0 : xxunk the of the xxmaj xxmaj of xxmaj xxunk , the xxunk . xxmaj the , on the , the can to xxunk of the xxunk that the xxmaj of xxmaj xxunk xxmaj had in the the xxmaj . the xxmaj xxunk xxmaj . in had the area ground in xxmaj the the of the the they have been a xxunk story xxunk story , the the was</td>\n",
       "    </tr>\n",
       "    <tr>\n",
       "      <th>8</th>\n",
       "      <td>being space porn . xxmaj they eventually cleaned it up a bit and actually had some pretty fair drama , so i started watching again . xxmaj but to end the series with xxunk being a xxunk god angel , same with xxunk and six was pretty dumb . xxbos xxmaj this movie is the first of the six infamous xxmaj guinea xxmaj pig xxmaj movies and is one of the best</td>\n",
       "      <td>space porn . xxmaj they eventually cleaned it up a bit and actually had some pretty fair drama , so i started watching again . xxmaj but to end the series with xxunk being a xxunk god angel , same with xxunk and six was pretty dumb . xxbos xxmaj this movie is the first of the six infamous xxmaj guinea xxmaj pig xxmaj movies and is one of the best .</td>\n",
       "      <td>the - , xxmaj the were became up up and few , made xxunk it xxunk good xxunk . but they was to it . xxmaj the i me the movie , the , a xxunk , , , i - xxmaj , xxunk xxunk a bad . xxmaj xxmaj the is is a first of the xxmaj films films xxunk xxmaj pig films xxunk . the one of the most films</td>\n",
       "    </tr>\n",
       "    <tr>\n",
       "      <th>9</th>\n",
       "      <td>scene . xxmaj not here . xxmaj and xxmaj robert xxmaj taylor plays his part as if he were trying to channel xxmaj cary xxmaj grant half the time , not in speech xxunk but in overall essence . \\n\\n xxmaj but the worst part of it is xxmaj shearer herself . xxmaj for an actress used to parts which gave her a sense of intellectual xxunk and dramatic presence , playing</td>\n",
       "      <td>. xxmaj not here . xxmaj and xxmaj robert xxmaj taylor plays his part as if he were trying to channel xxmaj cary xxmaj grant half the time , not in speech xxunk but in overall essence . \\n\\n xxmaj but the worst part of it is xxmaj shearer herself . xxmaj for an actress used to parts which gave her a sense of intellectual xxunk and dramatic presence , playing xxmaj</td>\n",
       "      <td>in xxmaj the all , xxmaj the the xxunk xxmaj xxunk , the role in a he was a to get his xxunk xxmaj grant 's his time he but the the . . in the xxunk . xxmaj xxmaj the the xxunk thing of the is the xxunk 's . xxmaj she the hour , to be of are her a xxunk of xxunk xxunk , xxunk xxunk , she the</td>\n",
       "    </tr>\n",
       "  </tbody>\n",
       "</table>"
      ],
      "text/plain": [
       "<IPython.core.display.HTML object>"
      ]
     },
     "metadata": {},
     "output_type": "display_data"
    }
   ],
   "source": [
    "learn.show_results()"
   ]
  },
  {
   "cell_type": "code",
   "execution_count": null,
   "metadata": {},
   "outputs": [],
   "source": [
    "learn.save_encoder('enc1')"
   ]
  },
  {
   "cell_type": "markdown",
   "metadata": {},
   "source": [
    "## Use it to train a classifier"
   ]
  },
  {
   "cell_type": "markdown",
   "metadata": {},
   "source": [
    "For classification, we need to use two set of transforms: one to numericalize the texts and the other to encode the labels as categories."
   ]
  },
  {
   "cell_type": "code",
   "execution_count": null,
   "metadata": {},
   "outputs": [],
   "source": [
    "splits = RandomSplitter()(range_of(df_tok))\n",
    "dsrc = DataSource(df_tok, splits=splits, tfms=[\n",
    "    [attrgetter(\"text\"), Numericalize(vocab)],\n",
    "    [attrgetter(\"label\"), Categorize()]])"
   ]
  },
  {
   "cell_type": "markdown",
   "metadata": {},
   "source": [
    "We opnce again use a subclass of `TfmdDL` for the dataloaders, since we want to sort the texts (sortish for the training set) by order of lengths. We also use `pad_collate` to create batches form texts of different lengths."
   ]
  },
  {
   "cell_type": "code",
   "execution_count": null,
   "metadata": {},
   "outputs": [],
   "source": [
    "trn_dl = SortedDL(dsrc.train, create_batch=pad_collate, after_batch=[Cuda], shuffle=True, drop_last=True)\n",
    "val_dl = SortedDL(dsrc.valid, create_batch=pad_collate, after_batch=[Cuda])\n",
    "dbunch = DataBunch(trn_dl, val_dl)"
   ]
  },
  {
   "cell_type": "code",
   "execution_count": null,
   "metadata": {},
   "outputs": [
    {
     "data": {
      "text/html": [
       "<table border=\"1\" class=\"dataframe\">\n",
       "  <thead>\n",
       "    <tr style=\"text-align: right;\">\n",
       "      <th></th>\n",
       "      <th>text</th>\n",
       "      <th>category</th>\n",
       "    </tr>\n",
       "  </thead>\n",
       "  <tbody>\n",
       "    <tr>\n",
       "      <th>0</th>\n",
       "      <td>xxbos xxup the xxup shop xxup around xxup the xxup corner is one of the xxunk and most feel - good romantic comedies ever made . xxmaj there 's just no getting around that , and it 's hard to actually put one 's feeling for this film into words . xxmaj it 's not one of those films that tries too hard , nor does it come up with the xxunk possible scenarios to get the two protagonists together in the end . xxmaj in fact , all its charm is xxunk , contained within the characters and the setting and the plot … which is highly believable to xxunk . xxmaj it 's easy to think that such a love story , as beautiful as any other ever told , * could * happen to you … a feeling you do n't often get from other romantic comedies , however sweet and heart - warming they may be . \\n\\n xxmaj alfred xxmaj kralik ( james xxmaj stewart ) and xxmaj clara xxmaj xxunk ( margaret xxmaj xxunk ) do n't have the most xxunk of first xxunk when she arrives in the shop ( matuschek &amp; xxmaj co. ) he 's been working in for the past nine years , asking for a job . xxmaj they clash from the very beginning , mostly over a cigarette box that plays music when it 's opened -- he thinks it 's a ludicrous idea ; she makes one big sell of it and gets hired . xxmaj their bickering takes them through the next six months , even as they both ( xxunk , of course ! ) fall in love with each other when they share their souls and minds in letters passed through xxup xxunk xxmaj box xxunk . xxmaj this would be a pretty thin xxunk to base an entire film on , except that xxup the xxup shop xxup around xxup the xxup corner is xxunk xxunk - out with a brilliant supporting cast made up of entirely engaging characters , from the xxunk but lonely xxmaj hugo xxmaj matuschek ( frank xxmaj morgan ) himself , who learns that his shop really is his home ; xxmaj xxunk ( felix xxmaj xxunk ) , xxmaj kralik 's sidekick and friend who always xxunk out of the room when faced with the possibility of being asked for his honest opinion ; xxunk pimp - du - xxunk xxmaj xxunk ( joseph xxmaj xxunk ) who ultimately gets his comeuppance from a xxunk righteous xxmaj kralik ; and ambitious xxunk boy xxmaj xxunk xxmaj xxunk ( william xxmaj tracy ) who wants nothing more than to be promoted to the position of xxunk for xxmaj matuschek &amp; xxmaj co. xxmaj the xxunk love story between ' dear xxmaj friends ' is played out in this little shop in xxmaj budapest , xxmaj hungary , in which xxmaj kralik 's xxunk xxunk and subsequent xxunk to shop manager help the two xxunk - to - be along . xxmaj it 's nice that everyone gets a story in this film ; the supporting characters are well - developed , and xxmaj matuschek 's own journey in life is almost as touching as the one xxmaj alfred and xxmaj clara share . xxmaj his xxunk to new xxunk boy xxmaj xxunk ( charles xxmaj smith ) for xxmaj christmas xxmaj eve dinner , made in the xxunk , beautiful snow of a xxmaj hungarian winter , makes the audience glad that he is not alone ; we come to care even for the characters whose love story it is n't this film 's business to tell . \\n\\n xxmaj aside from the love story , i must say that xxmaj james xxmaj stewart is truly one of the best things about this film . xxmaj he does n't play the full - xxunk xxmaj jimmy xxmaj stewart persona in this film ( c / f ' mr xxmaj smith xxmaj goes xxmaj to xxmaj washington ' for that ) ; in fact xxmaj alfred xxmaj kralik is xxunk and abrupt and not particularly kind . xxmaj he 's rather a xxunk man , in fact , with little hint ( until , perhaps , the very end ) of the xxunk - xxunk down - home xxunk charm xxmaj stewart would soon come to xxunk . xxmaj when he finds out before xxmaj clara that they have been xxunk in secret , in fact , xxmaj kralik does n't ' xxunk up -- he xxunk it out to see how far he can take the xxunk , especially since he quickly realises ( given his stormy relationship with xxmaj clara as boss and xxunk ) that loving the person he knows through the xxunk letters might not xxunk with loving the person herself . xxmaj his description to xxmaj clara of the fictional xxmaj xxunk xxmaj xxunk ( what a name ! ) who was to become her xxunk is hilarious in the extreme , but also his way of proving that the letters do n't reveal all there is to a man , just as her letters do n't reveal all there is to her . xxmaj stewart plays this role perfectly -- he keeps his face perfectly controlled whenever xxmaj clara insults xxmaj mr . xxmaj kralik , as she is often wo nt to do , even ( and especially ) to his face . xxmaj and yet one believes , underneath the xxunk and xxunk , that he * could * reveal his identity with as much xxunk and xxunk and sheer * hope * as he eventually does . \\n\\n xxmaj special mention must be given to the other members of the cast as well . xxmaj margaret xxmaj xxunk xxunk rather less well in the first half of the film , but she really comes into her own in the closing - shop scene on xxmaj christmas xxmaj eve , when she almost gets her heart broken again by xxmaj alfred 's most vivid description of her xxunk xxunk . xxmaj frank xxmaj morgan turns in a great performance as the jealous xxmaj hugo xxmaj matuschek driven to nervous breakdown , the man who has to xxunk his meaning in life when he realises that his wife of 22 years does not want to ' grow old with him ' . xxmaj and xxmaj felix xxmaj xxunk plays the role of the meek but xxunk xxmaj xxunk wonderfully ( a xxmaj lubitsch regular , since he appears as a hilarious xxmaj russian xxunk in xxunk particular note is the scene in which he helps his good friend xxmaj alfred get the xxmaj christmas present the latter * really * wants … a wallet instead of that ludicrous cigarette box xxmaj clara is so hung up on . \\n\\n xxmaj xxunk xxmaj lubitsch really does himself proud with this film -- for example , the famously xxunk and xxunk care given to detail in the creation of the xxmaj matuschek shop is well worth the effort , right down to the xxmaj hungarian names on the door , the xxunk and the cash xxunk and so on . xxmaj but even though xxmaj lubitsch chose to have the story set in xxmaj hungary , the setting is actually universal : it could happen anywhere ; it could happen to you . xxmaj xxunk lies the charm of this simple story , these believable characters who really * are * people . xxmaj the snow on xxmaj christmas xxmaj eve is real as well , or at least as real as xxmaj lubitsch could make it ( he had snow machines brought in at great expense ) . xxmaj it is this desire to make everything appear as real as possible that helps make the story even more believable , that gives this entire film a dreamy realism that can not be xxunk . ( no , not even in a remake like xxup you 've xxup got xxup mail . ) \\n\\n * this * is really the xxmaj jimmy xxmaj stewart xxmaj christmas film that people are missing out on when they talk about xxup it 's a xxup wonderful xxup life . xxmaj not to xxunk from the merits of that other film , but there 'd be no harm , and in fact a lot of good , done in watching xxup the xxup shop xxup around xxup the xxup corner this xxmaj christmas instead . xxmaj it 's sweet , funny , charming , and xxmaj stewart is xxunk in his role . xxmaj we should all be so lucky as to have the romance depicted in this film ; the best thing about this film is that we come away from it feeling that we very possibly could .</td>\n",
       "      <td>positive</td>\n",
       "    </tr>\n",
       "    <tr>\n",
       "      <th>1</th>\n",
       "      <td>xxbos xxmaj now that xxmaj che(2008 ) has finished its relatively short xxmaj australian cinema run ( extremely limited xxunk screen in xxmaj xxunk , after xxunk ) , i can xxunk join both xxunk of \" at xxmaj the xxmaj movies \" in taking xxmaj steven xxmaj soderbergh to task . \\n\\n xxmaj it 's usually satisfying to watch a film director change his style / subject , but xxmaj soderbergh 's most recent stinker , xxmaj the xxmaj girlfriend xxmaj xxunk ) , was also missing a story , so narrative ( and editing ? ) seem to suddenly be xxmaj soderbergh 's main challenge . xxmaj strange , after xxunk years in the business . xxmaj he was probably never much good at narrative , just xxunk it well inside \" edgy \" projects . \\n\\n xxmaj none of this excuses him this present , almost diabolical failure . xxmaj as xxmaj david xxmaj stratton xxunk , \" two parts of xxmaj che do n't ( even ) make a whole \" . \\n\\n xxmaj epic xxunk in name only , xxmaj che(2008 ) barely qualifies as a feature film ! xxmaj it certainly has no legs , xxunk as except for its xxunk ultimate resolution forced upon it by history , xxmaj soderbergh 's xxunk - long xxunk just goes nowhere . \\n\\n xxmaj even xxmaj margaret xxmaj xxunk , the more xxunk of xxmaj australia 's xxmaj at xxmaj the xxmaj movies duo , noted about xxmaj soderbergh 's xxunk waste of ( xxunk digital xxunk ) : \" you 're in the woods … you 're in the woods … you 're in the woods … \" . i too am surprised xxmaj soderbergh did n't give us another xxunk of xxup that somewhere between his xxunk two xxmaj parts , because he still left out massive xxunk of xxmaj che 's \" xxunk \" life ! \\n\\n xxmaj for a xxunk of an important but infamous historical figure , xxmaj soderbergh xxunk xxunk , if not deliberately insults , his audiences by \\n\\n 1 . never providing most of xxmaj che 's story ; \\n\\n 2 . xxunk xxunk film xxunk with mere xxunk xxunk ; \\n\\n 3 . xxunk both true hindsight and a narrative of events ; \\n\\n 4 . barely developing an idea , or a character ; \\n\\n 5 . remaining xxunk episodic ; \\n\\n 6 . xxunk proper context for scenes xxrep 3 - whatever we do get is xxunk in xxunk xxunk ; \\n\\n 7 . xxunk xxunk all audiences ( even xxmaj spanish - xxunk will be confused by the xxunk xxunk in xxmaj english ) ; and \\n\\n 8 . xxunk xxunk his main subject into one dimension . xxmaj why , at xxup this late stage ? xxmaj the xxmaj t - shirt franchise has been a success ! \\n\\n xxmaj our sense of xxunk is surely due to xxmaj peter xxmaj xxunk and xxmaj benjamin xxunk xxmaj xxunk xxunk their screenplay solely on xxmaj xxunk 's memoirs . xxmaj so , like a poor student who has read only xxup one of his xxunk xxunk for his xxunk , xxmaj soderbergh 's product is xxunk limited in perspective . \\n\\n xxmaj the audience is held captive within the same xxunk knowledge , scenery and circumstances of the \" revolutionaries \" , but that does n't xxunk our sympathy . xxmaj instead , it xxunk on us that \" ah , xxmaj soderbergh 's trying to xxunk his audiences the same as the xxmaj latino peasants were at the time \" . xxmaj but these are the xxup same illiterate xxmaj latino peasants who sold out the good doctor to his enemies . xxmaj why does xxmaj soderbergh feel the need to xxunk us with them , and keep us equally mentally captive ? xxmaj such audience xxunk must have a purpose . \\n\\n xxmaj part2 is more xxunk than xxmaj part1 , but it 's literally mind - numbing with its repetitive bush - bashing , misery of outlook , and lack of variety or character xxunk . deltoro 's xxmaj che has no opportunity to grow as a person while he struggles to xxunk his own ill - xxunk troops . xxmaj the only xxunk is the humour as xxmaj che deals with his sometimes deeply ignorant \" revolutionaries \" , some of whom xxunk lack self - control around local peasants or food . xxmaj we certainly get no insight into what caused the conditions , nor any xxunk xxunk of their xxunk xxunk , such as it was . \\n\\n xxmaj part2 's excruciating xxunk remains xxunk episodic : again , nothing is telegraphed or xxunk . xxmaj thus even the scenes with xxmaj xxunk xxmaj xxunk ( xxunk xxmaj xxunk ) are unexpected and disconcerting . xxmaj any xxunk events are portrayed xxunk and xxmaj latino - xxunk , with xxmaj part1 's interviews replaced by time - xxunk xxunk between the corrupt xxmaj xxunk president ( xxunk de xxmaj xxunk ) and xxup us xxmaj government xxunk promising xxup cia xxunk ( ! ) . \\n\\n xxmaj the rest of xxmaj part2 's \" woods \" and day - for - night blue xxunk just xxunk the audience until they 're xxunk the xxunk . \\n\\n xxmaj perhaps deltoro felt too xxunk the frustration of many non - american xxmaj latinos about never getting a truthful , xxunk history of xxmaj che 's exploits within their own countries . xxmaj when foreign xxunk still wo n't deliver a free press to their people -- for whatever reason -- then one can see how a popular xxmaj american indie producer might set out to entice the not - so - well - read ( \" i may not be able to read or write , but xxmaj i 'm xxup not xxunk xxmaj inspector xxmaj xxunk ) ) out to their own local cinemas . xxmaj the film 's obvious xxunk and gross over - xxunk hint very strongly that it 's aiming only at the xxunk of the less - informed xxup who xxup still xxup speak xxup little xxmaj english . xxmaj if they did , they 'd have read xxunk on the subject already , and xxunk the relevant social issues amongst themselves -- learning the lessons of history as they should . \\n\\n xxmaj such insights are precisely what societies still need -- and not just the remaining illiterate xxmaj latinos of xxmaj central and xxmaj south xxmaj america -- yet it 's what xxmaj che(2008 ) xxunk fails to deliver . xxmaj soderbergh xxunk his lead because he 's weak on narrative . i am xxunk why xxmaj xxunk deltoro deliberately chose xxmaj soderbergh for this project if he knew this . xxmaj it 's been xxunk , hindsight about xxmaj xxunk was xxunk wanted : it 's what i went to see this film for , but the director xxunk robs us of that . \\n\\n xxmaj david xxmaj stratton , writing in xxmaj the xxmaj australian ( xxunk ) observed that while xxmaj part1 was \" uneven \" , xxmaj part2 actually \" goes rapidly downhill \" from there , \" xxunk xxmaj che 's final campaign in xxmaj xxunk in excruciating detail \" , which \" … feels almost unbearably slow and turgid \" . \\n\\n che : the xxmaj xxunk aka xxmaj part2 is certainly no xxunk for xxmaj xxunk , painting it a picture of misery and xxunk . xxmaj the entire second half is only redeemed by the aforementioned humour , and the dramatic -- yet tragic -- capture and execution of the film 's subject . \\n\\n xxmaj the rest of this xxunk cinema xxunk is just confusing , irritating misery -- xxunk , for a xxmaj soderbergh film , to be avoided at all costs . xxmaj it is bound to break the hearts of all who know even just a xxunk about the xxunk / 10 )</td>\n",
       "      <td>negative</td>\n",
       "    </tr>\n",
       "  </tbody>\n",
       "</table>"
      ],
      "text/plain": [
       "<IPython.core.display.HTML object>"
      ]
     },
     "metadata": {},
     "output_type": "display_data"
    }
   ],
   "source": [
    "dbunch.show_batch(max_n=2)"
   ]
  },
  {
   "cell_type": "markdown",
   "metadata": {},
   "source": [
    "Then we once again have a convenience function to create a classifier from this `DataBunch` with the `AWD_LSTM` architecture."
   ]
  },
  {
   "cell_type": "code",
   "execution_count": null,
   "metadata": {},
   "outputs": [],
   "source": [
    "learn = text_classifier_learner(dbunch, AWD_LSTM, vocab, metrics=[accuracy], path=path, opt_func=Adam)"
   ]
  },
  {
   "cell_type": "code",
   "execution_count": null,
   "metadata": {},
   "outputs": [],
   "source": [
    "learn = learn.load_encoder('enc1')"
   ]
  },
  {
   "cell_type": "markdown",
   "metadata": {},
   "source": [
    "Then we can train with gradual unfreezing and differential learning rates."
   ]
  },
  {
   "cell_type": "code",
   "execution_count": null,
   "metadata": {},
   "outputs": [
    {
     "data": {
      "text/html": [
       "<table border=\"1\" class=\"dataframe\">\n",
       "  <thead>\n",
       "    <tr style=\"text-align: left;\">\n",
       "      <th>epoch</th>\n",
       "      <th>train_loss</th>\n",
       "      <th>valid_loss</th>\n",
       "      <th>accuracy</th>\n",
       "      <th>time</th>\n",
       "    </tr>\n",
       "  </thead>\n",
       "  <tbody>\n",
       "    <tr>\n",
       "      <td>0</td>\n",
       "      <td>0.803183</td>\n",
       "      <td>0.603046</td>\n",
       "      <td>0.730000</td>\n",
       "      <td>00:18</td>\n",
       "    </tr>\n",
       "    <tr>\n",
       "      <td>1</td>\n",
       "      <td>0.732904</td>\n",
       "      <td>0.568314</td>\n",
       "      <td>0.700000</td>\n",
       "      <td>00:16</td>\n",
       "    </tr>\n",
       "    <tr>\n",
       "      <td>2</td>\n",
       "      <td>0.669284</td>\n",
       "      <td>0.514744</td>\n",
       "      <td>0.765000</td>\n",
       "      <td>00:10</td>\n",
       "    </tr>\n",
       "    <tr>\n",
       "      <td>3</td>\n",
       "      <td>0.640870</td>\n",
       "      <td>0.525304</td>\n",
       "      <td>0.740000</td>\n",
       "      <td>00:08</td>\n",
       "    </tr>\n",
       "  </tbody>\n",
       "</table>"
      ],
      "text/plain": [
       "<IPython.core.display.HTML object>"
      ]
     },
     "metadata": {},
     "output_type": "display_data"
    }
   ],
   "source": [
    "learn.fit_one_cycle(4, moms=(0.8,0.7,0.8))"
   ]
  },
  {
   "cell_type": "code",
   "execution_count": null,
   "metadata": {},
   "outputs": [],
   "source": [
    "@typedispatch\n",
    "def show_results(x: TensorText, y, its, ctxs=None, max_n=10, **kwargs):\n",
    "    if ctxs is None: ctxs = _get_empty_df(min(len(its), max_n))\n",
    "    for i in range(3):\n",
    "        ctxs = [b.show(ctx=c, **kwargs) for b,c,_ in zip(its.itemgot(i),ctxs,range(max_n))]\n",
    "    display_df(pd.DataFrame(ctxs))\n",
    "    return ctxs"
   ]
  },
  {
   "cell_type": "code",
   "execution_count": null,
   "metadata": {},
   "outputs": [
    {
     "data": {
      "text/html": [],
      "text/plain": [
       "<IPython.core.display.HTML object>"
      ]
     },
     "metadata": {},
     "output_type": "display_data"
    },
    {
     "data": {
      "text/html": [
       "<table border=\"1\" class=\"dataframe\">\n",
       "  <thead>\n",
       "    <tr style=\"text-align: right;\">\n",
       "      <th></th>\n",
       "      <th>text</th>\n",
       "      <th>category</th>\n",
       "      <th>category_</th>\n",
       "    </tr>\n",
       "  </thead>\n",
       "  <tbody>\n",
       "    <tr>\n",
       "      <th>0</th>\n",
       "      <td>xxbos xxup the xxup shop xxup around xxup the xxup corner is one of the xxunk and most feel - good romantic comedies ever made . xxmaj there 's just no getting around that , and it 's hard to actually put one 's feeling for this film into words . xxmaj it 's not one of those films that tries too hard , nor does it come up with the xxunk possible scenarios to get the two protagonists together in the end . xxmaj in fact , all its charm is xxunk , contained within the characters and the setting and the plot … which is highly believable to xxunk . xxmaj it 's easy to think that such a love story , as beautiful as any other ever told , * could * happen to you … a feeling you do n't often get from other romantic comedies , however sweet and heart - warming they may be . \\n\\n xxmaj alfred xxmaj kralik ( james xxmaj stewart ) and xxmaj clara xxmaj xxunk ( margaret xxmaj xxunk ) do n't have the most xxunk of first xxunk when she arrives in the shop ( matuschek &amp; xxmaj co. ) he 's been working in for the past nine years , asking for a job . xxmaj they clash from the very beginning , mostly over a cigarette box that plays music when it 's opened -- he thinks it 's a ludicrous idea ; she makes one big sell of it and gets hired . xxmaj their bickering takes them through the next six months , even as they both ( xxunk , of course ! ) fall in love with each other when they share their souls and minds in letters passed through xxup xxunk xxmaj box xxunk . xxmaj this would be a pretty thin xxunk to base an entire film on , except that xxup the xxup shop xxup around xxup the xxup corner is xxunk xxunk - out with a brilliant supporting cast made up of entirely engaging characters , from the xxunk but lonely xxmaj hugo xxmaj matuschek ( frank xxmaj morgan ) himself , who learns that his shop really is his home ; xxmaj xxunk ( felix xxmaj xxunk ) , xxmaj kralik 's sidekick and friend who always xxunk out of the room when faced with the possibility of being asked for his honest opinion ; xxunk pimp - du - xxunk xxmaj xxunk ( joseph xxmaj xxunk ) who ultimately gets his comeuppance from a xxunk righteous xxmaj kralik ; and ambitious xxunk boy xxmaj xxunk xxmaj xxunk ( william xxmaj tracy ) who wants nothing more than to be promoted to the position of xxunk for xxmaj matuschek &amp; xxmaj co. xxmaj the xxunk love story between ' dear xxmaj friends ' is played out in this little shop in xxmaj budapest , xxmaj hungary , in which xxmaj kralik 's xxunk xxunk and subsequent xxunk to shop manager help the two xxunk - to - be along . xxmaj it 's nice that everyone gets a story in this film ; the supporting characters are well - developed , and xxmaj matuschek 's own journey in life is almost as touching as the one xxmaj alfred and xxmaj clara share . xxmaj his xxunk to new xxunk boy xxmaj xxunk ( charles xxmaj smith ) for xxmaj christmas xxmaj eve dinner , made in the xxunk , beautiful snow of a xxmaj hungarian winter , makes the audience glad that he is not alone ; we come to care even for the characters whose love story it is n't this film 's business to tell . \\n\\n xxmaj aside from the love story , i must say that xxmaj james xxmaj stewart is truly one of the best things about this film . xxmaj he does n't play the full - xxunk xxmaj jimmy xxmaj stewart persona in this film ( c / f ' mr xxmaj smith xxmaj goes xxmaj to xxmaj washington ' for that ) ; in fact xxmaj alfred xxmaj kralik is xxunk and abrupt and not particularly kind . xxmaj he 's rather a xxunk man , in fact , with little hint ( until , perhaps , the very end ) of the xxunk - xxunk down - home xxunk charm xxmaj stewart would soon come to xxunk . xxmaj when he finds out before xxmaj clara that they have been xxunk in secret , in fact , xxmaj kralik does n't ' xxunk up -- he xxunk it out to see how far he can take the xxunk , especially since he quickly realises ( given his stormy relationship with xxmaj clara as boss and xxunk ) that loving the person he knows through the xxunk letters might not xxunk with loving the person herself . xxmaj his description to xxmaj clara of the fictional xxmaj xxunk xxmaj xxunk ( what a name ! ) who was to become her xxunk is hilarious in the extreme , but also his way of proving that the letters do n't reveal all there is to a man , just as her letters do n't reveal all there is to her . xxmaj stewart plays this role perfectly -- he keeps his face perfectly controlled whenever xxmaj clara insults xxmaj mr . xxmaj kralik , as she is often wo nt to do , even ( and especially ) to his face . xxmaj and yet one believes , underneath the xxunk and xxunk , that he * could * reveal his identity with as much xxunk and xxunk and sheer * hope * as he eventually does . \\n\\n xxmaj special mention must be given to the other members of the cast as well . xxmaj margaret xxmaj xxunk xxunk rather less well in the first half of the film , but she really comes into her own in the closing - shop scene on xxmaj christmas xxmaj eve , when she almost gets her heart broken again by xxmaj alfred 's most vivid description of her xxunk xxunk . xxmaj frank xxmaj morgan turns in a great performance as the jealous xxmaj hugo xxmaj matuschek driven to nervous breakdown , the man who has to xxunk his meaning in life when he realises that his wife of 22 years does not want to ' grow old with him ' . xxmaj and xxmaj felix xxmaj xxunk plays the role of the meek but xxunk xxmaj xxunk wonderfully ( a xxmaj lubitsch regular , since he appears as a hilarious xxmaj russian xxunk in xxunk particular note is the scene in which he helps his good friend xxmaj alfred get the xxmaj christmas present the latter * really * wants … a wallet instead of that ludicrous cigarette box xxmaj clara is so hung up on . \\n\\n xxmaj xxunk xxmaj lubitsch really does himself proud with this film -- for example , the famously xxunk and xxunk care given to detail in the creation of the xxmaj matuschek shop is well worth the effort , right down to the xxmaj hungarian names on the door , the xxunk and the cash xxunk and so on . xxmaj but even though xxmaj lubitsch chose to have the story set in xxmaj hungary , the setting is actually universal : it could happen anywhere ; it could happen to you . xxmaj xxunk lies the charm of this simple story , these believable characters who really * are * people . xxmaj the snow on xxmaj christmas xxmaj eve is real as well , or at least as real as xxmaj lubitsch could make it ( he had snow machines brought in at great expense ) . xxmaj it is this desire to make everything appear as real as possible that helps make the story even more believable , that gives this entire film a dreamy realism that can not be xxunk . ( no , not even in a remake like xxup you 've xxup got xxup mail . ) \\n\\n * this * is really the xxmaj jimmy xxmaj stewart xxmaj christmas film that people are missing out on when they talk about xxup it 's a xxup wonderful xxup life . xxmaj not to xxunk from the merits of that other film , but there 'd be no harm , and in fact a lot of good , done in watching xxup the xxup shop xxup around xxup the xxup corner this xxmaj christmas instead . xxmaj it 's sweet , funny , charming , and xxmaj stewart is xxunk in his role . xxmaj we should all be so lucky as to have the romance depicted in this film ; the best thing about this film is that we come away from it feeling that we very possibly could .</td>\n",
       "      <td>positive</td>\n",
       "      <td>positive</td>\n",
       "    </tr>\n",
       "    <tr>\n",
       "      <th>1</th>\n",
       "      <td>xxbos xxmaj now that xxmaj che(2008 ) has finished its relatively short xxmaj australian cinema run ( extremely limited xxunk screen in xxmaj xxunk , after xxunk ) , i can xxunk join both xxunk of \" at xxmaj the xxmaj movies \" in taking xxmaj steven xxmaj soderbergh to task . \\n\\n xxmaj it 's usually satisfying to watch a film director change his style / subject , but xxmaj soderbergh 's most recent stinker , xxmaj the xxmaj girlfriend xxmaj xxunk ) , was also missing a story , so narrative ( and editing ? ) seem to suddenly be xxmaj soderbergh 's main challenge . xxmaj strange , after xxunk years in the business . xxmaj he was probably never much good at narrative , just xxunk it well inside \" edgy \" projects . \\n\\n xxmaj none of this excuses him this present , almost diabolical failure . xxmaj as xxmaj david xxmaj stratton xxunk , \" two parts of xxmaj che do n't ( even ) make a whole \" . \\n\\n xxmaj epic xxunk in name only , xxmaj che(2008 ) barely qualifies as a feature film ! xxmaj it certainly has no legs , xxunk as except for its xxunk ultimate resolution forced upon it by history , xxmaj soderbergh 's xxunk - long xxunk just goes nowhere . \\n\\n xxmaj even xxmaj margaret xxmaj xxunk , the more xxunk of xxmaj australia 's xxmaj at xxmaj the xxmaj movies duo , noted about xxmaj soderbergh 's xxunk waste of ( xxunk digital xxunk ) : \" you 're in the woods … you 're in the woods … you 're in the woods … \" . i too am surprised xxmaj soderbergh did n't give us another xxunk of xxup that somewhere between his xxunk two xxmaj parts , because he still left out massive xxunk of xxmaj che 's \" xxunk \" life ! \\n\\n xxmaj for a xxunk of an important but infamous historical figure , xxmaj soderbergh xxunk xxunk , if not deliberately insults , his audiences by \\n\\n 1 . never providing most of xxmaj che 's story ; \\n\\n 2 . xxunk xxunk film xxunk with mere xxunk xxunk ; \\n\\n 3 . xxunk both true hindsight and a narrative of events ; \\n\\n 4 . barely developing an idea , or a character ; \\n\\n 5 . remaining xxunk episodic ; \\n\\n 6 . xxunk proper context for scenes xxrep 3 - whatever we do get is xxunk in xxunk xxunk ; \\n\\n 7 . xxunk xxunk all audiences ( even xxmaj spanish - xxunk will be confused by the xxunk xxunk in xxmaj english ) ; and \\n\\n 8 . xxunk xxunk his main subject into one dimension . xxmaj why , at xxup this late stage ? xxmaj the xxmaj t - shirt franchise has been a success ! \\n\\n xxmaj our sense of xxunk is surely due to xxmaj peter xxmaj xxunk and xxmaj benjamin xxunk xxmaj xxunk xxunk their screenplay solely on xxmaj xxunk 's memoirs . xxmaj so , like a poor student who has read only xxup one of his xxunk xxunk for his xxunk , xxmaj soderbergh 's product is xxunk limited in perspective . \\n\\n xxmaj the audience is held captive within the same xxunk knowledge , scenery and circumstances of the \" revolutionaries \" , but that does n't xxunk our sympathy . xxmaj instead , it xxunk on us that \" ah , xxmaj soderbergh 's trying to xxunk his audiences the same as the xxmaj latino peasants were at the time \" . xxmaj but these are the xxup same illiterate xxmaj latino peasants who sold out the good doctor to his enemies . xxmaj why does xxmaj soderbergh feel the need to xxunk us with them , and keep us equally mentally captive ? xxmaj such audience xxunk must have a purpose . \\n\\n xxmaj part2 is more xxunk than xxmaj part1 , but it 's literally mind - numbing with its repetitive bush - bashing , misery of outlook , and lack of variety or character xxunk . deltoro 's xxmaj che has no opportunity to grow as a person while he struggles to xxunk his own ill - xxunk troops . xxmaj the only xxunk is the humour as xxmaj che deals with his sometimes deeply ignorant \" revolutionaries \" , some of whom xxunk lack self - control around local peasants or food . xxmaj we certainly get no insight into what caused the conditions , nor any xxunk xxunk of their xxunk xxunk , such as it was . \\n\\n xxmaj part2 's excruciating xxunk remains xxunk episodic : again , nothing is telegraphed or xxunk . xxmaj thus even the scenes with xxmaj xxunk xxmaj xxunk ( xxunk xxmaj xxunk ) are unexpected and disconcerting . xxmaj any xxunk events are portrayed xxunk and xxmaj latino - xxunk , with xxmaj part1 's interviews replaced by time - xxunk xxunk between the corrupt xxmaj xxunk president ( xxunk de xxmaj xxunk ) and xxup us xxmaj government xxunk promising xxup cia xxunk ( ! ) . \\n\\n xxmaj the rest of xxmaj part2 's \" woods \" and day - for - night blue xxunk just xxunk the audience until they 're xxunk the xxunk . \\n\\n xxmaj perhaps deltoro felt too xxunk the frustration of many non - american xxmaj latinos about never getting a truthful , xxunk history of xxmaj che 's exploits within their own countries . xxmaj when foreign xxunk still wo n't deliver a free press to their people -- for whatever reason -- then one can see how a popular xxmaj american indie producer might set out to entice the not - so - well - read ( \" i may not be able to read or write , but xxmaj i 'm xxup not xxunk xxmaj inspector xxmaj xxunk ) ) out to their own local cinemas . xxmaj the film 's obvious xxunk and gross over - xxunk hint very strongly that it 's aiming only at the xxunk of the less - informed xxup who xxup still xxup speak xxup little xxmaj english . xxmaj if they did , they 'd have read xxunk on the subject already , and xxunk the relevant social issues amongst themselves -- learning the lessons of history as they should . \\n\\n xxmaj such insights are precisely what societies still need -- and not just the remaining illiterate xxmaj latinos of xxmaj central and xxmaj south xxmaj america -- yet it 's what xxmaj che(2008 ) xxunk fails to deliver . xxmaj soderbergh xxunk his lead because he 's weak on narrative . i am xxunk why xxmaj xxunk deltoro deliberately chose xxmaj soderbergh for this project if he knew this . xxmaj it 's been xxunk , hindsight about xxmaj xxunk was xxunk wanted : it 's what i went to see this film for , but the director xxunk robs us of that . \\n\\n xxmaj david xxmaj stratton , writing in xxmaj the xxmaj australian ( xxunk ) observed that while xxmaj part1 was \" uneven \" , xxmaj part2 actually \" goes rapidly downhill \" from there , \" xxunk xxmaj che 's final campaign in xxmaj xxunk in excruciating detail \" , which \" … feels almost unbearably slow and turgid \" . \\n\\n che : the xxmaj xxunk aka xxmaj part2 is certainly no xxunk for xxmaj xxunk , painting it a picture of misery and xxunk . xxmaj the entire second half is only redeemed by the aforementioned humour , and the dramatic -- yet tragic -- capture and execution of the film 's subject . \\n\\n xxmaj the rest of this xxunk cinema xxunk is just confusing , irritating misery -- xxunk , for a xxmaj soderbergh film , to be avoided at all costs . xxmaj it is bound to break the hearts of all who know even just a xxunk about the xxunk / 10 )</td>\n",
       "      <td>negative</td>\n",
       "      <td>negative</td>\n",
       "    </tr>\n",
       "    <tr>\n",
       "      <th>2</th>\n",
       "      <td>xxbos xxmaj this film sat on my xxmaj xxunk for weeks before i watched it . i xxunk a self - indulgent xxunk flick about relationships gone bad . i was wrong ; this was an xxunk xxunk into the screwed - up xxunk of xxmaj new xxmaj xxunk . \\n\\n xxmaj the format is the same as xxmaj max xxmaj xxunk ' \" la xxmaj xxunk , \" based on a play by xxmaj arthur xxmaj xxunk , who is given an \" inspired by \" credit . xxmaj it starts from one person , a prostitute , standing on a street corner in xxmaj brooklyn . xxmaj she is picked up by a home contractor , who has sex with her on the hood of a car , but ca n't come . xxmaj he refuses to pay her . xxmaj when he 's off xxunk , she answers his cell phone and takes a message . xxmaj she runs away with his keys . \\n\\n xxmaj then the story switches to the contractor , who pays a professional call on a rich , bored xxmaj new xxmaj york woman , who plays with him until he is xxunk , then she pulls away . xxmaj she tells him how desperate and unhappy she is ; he tells her how beautiful she is , and lucky . xxmaj as he is leaving , she asks if he would have sex with her . xxmaj she sits on top of him , xxunk up and down . xxmaj this time he comes , the he leaves . \\n\\n xxmaj the woman and her husband throw a dinner party for their xxunk friends . xxmaj xxunk ( robert ) is talking business , wife ( ellen ) is bored , and switches the subject to sex , and how often men and women think about it . xxmaj husband switches conversation to desert . xxmaj later , after the xxunk leave , xxmaj ellen tries to entice xxmaj robert into sex . xxmaj robert wants none of it , and puts on a jazz record . xxmaj ellen turns on the radio ; xxmaj robert turns up the music ; xxmaj ellen turns on the xxup tv ; xxmaj robert turns on another xxup tv . xxmaj xxunk ensues . xxmaj ellen goes up on the roof , xxmaj robert joins her . xxmaj ellen confesses that she needs to experience more men , men other than xxmaj robert . xxmaj robert says that he too needs to experience men . \\n\\n xxmaj we next follow xxmaj robert as he visits an artist , xxmaj martin , played by xxmaj steve xxmaj buscemi . i wish xxmaj buscemi could have more roles like this , where he is a sexy , smart , totally xxunk guy . xxmaj robert xxunk xxmaj martin 's work , much more than it deserves , xxunk to get it into a show . xxmaj martin is excited , until it turns out that xxmaj robert is speaking out of his xxunk , it is all a xxunk dance . xxmaj robert tries to kiss xxmaj martin , on the lips , and xxmaj martin pulls back , saying that he is not gay . xxmaj robert xxunk that he 's not gay either , xxmaj martin xxunk . xxmaj both admit that the xxunk are bad . xxmaj robert is about to leave , when xxmaj martin allows xxmaj robert to kiss him . xxmaj they make out , and xxmaj robert goes down on xxmaj martin . \\n\\n xxmaj next we follow xxmaj martin , as he xxunk for an art show at a xxmaj manhattan gallery . xxmaj he is xxunk by the xxunk , xxmaj anna , played by xxmaj rosario xxmaj dawson . ( i had to cut some of this review to keep it under 1 xxrep 3 0 words ) … and they make love to each other . \\n\\n xxmaj we next follow xxmaj anna , who is sitting at a lunch stand . xxmaj her boyfriend , xxmaj nick ( adrian xxmaj xxunk ) , enters , bearing xxunk . xxmaj she is cold toward him ; he tries to figure out why . xxmaj he coaxes out of her the information that she has had sex with someone while he was in xxmaj san xxmaj francisco . xxmaj she coaxes out of him the fact that he has stayed with his ex - xxunk while in xxmaj san xxmaj francisco , and had sex with her . xxmaj the latter revelation turns out to be a lie . xxmaj the two of them make out in the xxunk , but she decides that they must break up . xxmaj nick is xxunk . \\n\\n xxmaj and we follow xxmaj nick , who confesses his xxunk to an older woman who he meets on a park bench , xxmaj joey ( carol xxmaj kane ) . xxmaj joey is sort of weird and child - like , but is a good audience for xxmaj nick , who needs a sympathetic ear . xxmaj the two of them go to xxmaj xxunk xxmaj island at night , and look at the stars . xxmaj nick falls under xxmaj joey 's spell , despite the age difference between them . xxmaj they go back to xxmaj joey 's apartment , and xxmaj nick gradually realizes that he is about to have sex with a crazy old woman . xxmaj she is on top of him , does n't want to let him go . xxmaj but he manages to escape . \\n\\n ( this is , by the way , the best xxmaj carol xxmaj kane role since she played xxmaj xxunk 's wife in xxmaj taxi . ) xxmaj joey 's phone rings , and it is a man calling the xxmaj psychic xxmaj friends xxmaj network , and xxmaj joey is one of the psychic friends . xxmaj although she is still hurting from xxmaj nick , she gradually gets into her psychic xxunk . xxmaj the man is at his office , late at night , and wants to have phone sex with her . xxmaj although that is not xxmaj joey 's business , xxmaj joey goes along , and coaxes the man to come . xxmaj she wants to keep talking , although the man want to get off the phone , and finds out that he has xxunk a lot of money from his company , and will be found out xxunk . xxmaj his life is ruined . xxmaj joey realizes that the man is going to commit suicide , and she tries to make him believe that she is his friend , that she cares about him . xxmaj and she does care about him . \\n\\n xxmaj but the man packs a gun into his xxunk , and goes off to seek a prostitute on the xxmaj brooklyn xxunk , and we come back to the beginning , to the same prostitute who started out xxmaj la xxmaj xxunk . xxmaj she wants to give him $ xxunk , xxrep 3 0 in cash if she will kill him . xxmaj he tried to kill himself , but could n't do it . xxmaj the prostitute does not want to do it , but he insists , holding her hand , holding the gun inside his mouth , telling her where to aim . xxmaj eventually , the gun goes off , and we see the prostitute walking down the street , and xxunk at the corner where she normally does business . xxmaj the contractor who did n't pay her earlier in the movie drives up , xxunk down the window . xxmaj they look at each other . xxup the xxup end .</td>\n",
       "      <td>positive</td>\n",
       "      <td>negative</td>\n",
       "    </tr>\n",
       "    <tr>\n",
       "      <th>3</th>\n",
       "      <td>xxbos i really wanted to love this show . i truly , honestly did . \\n\\n xxmaj for the first time , gay viewers get their own version of the \" the xxmaj bachelor \" . xxmaj with the help of his obligatory \" hag \" xxmaj xxunk , xxmaj james , a good looking , well - to - do thirty - something has the chance of love with 15 suitors ( or \" mates \" as they are referred to in the show ) . xxmaj the only problem is half of them are straight and xxmaj james does n't know this . xxmaj if xxmaj james picks a gay one , they get a trip to xxmaj new xxmaj zealand , and xxmaj if he picks a straight one , straight guy gets $ 25 , xxrep 3 0 . xxmaj how can this not be fun ? ! xxmaj take my hand , lets xxunk : \\n\\n xxmaj the most glaring problem with this show is the bachelor himself . xxmaj james is your typical young and successful gay guy with a nice smile and body , the one you 'd probably give two glances towards at your local bar before xxunk for xxunk xxunk . xxmaj why they chose to cast xxmaj james as the leading man is beyond me . xxmaj god knows there 's so many other hotter and xxunk homosexual men out there dying to be on xxup tv . \\n\\n xxmaj aside from his rather average physical appearance , xxmaj james is about as interesting and exciting as a piece of chalk . xxmaj even as such , he has this arrogant , xxunk xxunk xxunk about him . xxmaj however , if xxmaj james were standing up against a blank , white wall he 'd xxunk right into in it . i honestly ca n't recall a single interesting or xxunk thing xxmaj james said during the course of the show . xxmaj he is xxup that boring and forgettable . xxmaj in fact , one of the mates flat out xxunk him he was n't feeling a connection . i thought that was the best part of the show . xxmaj also , xxmaj james speaks with an excruciatingly annoying xxunk . xxmaj sound feminine or sound xxunk , but do n't xxrep 4 * xxunk xxunk xxunk in the middle of sentences … so painful to sit through . i hated him so much all throughout the show i kept thinking , \" please choose a straight guy and xxunk yourself and your unfortunate looking hag \" \\n\\n xxmaj then we have the suitors . a remarkably bland bunch of men who do n't seem to care either way what is happening . xxmaj equally xxunk , they seem to be xxunk from one guy to the next except , \" hey that guy has blond highlights or oh that one has curly hair \" xxmaj again , xxunk inept casting decisions seem to be the aim of this show . xxmaj while it may be hackneyed to type cast roles , it would 've been a lot more entertaining to watch than these xxunk drones . xxmaj however , in all their xxunk they still manage to upstage xxmaj james ( which is n't all that hard to do anyway ) , slightly that is . xxmaj you know you have a problem when some of the suitors are actually hotter and more interesting than the leading man . xxmaj and the fact that the suitors seem to have more fun around xxup each xxup other than with the leading man ? xxmaj very sad . \\n\\n xxmaj also , i just thought that xxmaj i d point something mentioned on the message xxunk which i felt was actually true : the straight men are all hotter than the gay guys . \\n\\n xxmaj do n't get me wrong , xxmaj i m not saying all the gay guys were ugly and boring , as a matter of fact i found some of them very cute . xxmaj it 's just that overall they were just xxup blah compared to the men you 'd see on shows like a xxmaj shot xxmaj at xxmaj love with xxmaj xxunk xxmaj xxunk or xxmaj the xxmaj xxunk . \\n\\n i do n't know how many times i hit fast forward during this show . i can accept a lead character as interesting as a cardboard box , i can accept the xxunk , xxunk suitors but xxup please for the love of xxmaj god entertain me just a little . xxmaj no such luck . \\n\\n xxmaj if you 're expecting drama , intrigue , xxunk , or excitement you will be xxup severely disappointed . xxmaj the biggest \" drama \" comes from the fact that one of the suitors still may have a boyfriend in xxmaj new xxmaj york ( how xxunk ! ) . xxmaj as xxunk as that may be i guarantee you , that is the xxup only thing that remotely resembles any conflict on this show . \\n\\n xxmaj sure there is the twist , but if you have any semblance of xxmaj xxunk in you , you 'll easily xxunk who 's who ( it was n't hard at all , i was only wrong once . ) xxmaj this show is stacking so much of its xxunk on the twist that it fails to deliver anywhere else . \\n\\n xxmaj we get to watch as xxmaj james &amp; xxmaj co xxunk along such exciting activities such as learning how to xxmaj western step dance , shopping for xxunk , visiting a xxunk xxunk , and gay xxunk . xxup yawn . xxmaj sure you have the occasional topless dancing but who cares when everyone is boring anyway . xxmaj that 's one of main problems with the show : xxup no xxup one seems to be enjoying themselves -- they are there just going through the motion trying xxunk hard to appear to have a good time . xxmaj and you really ca nt blame them since the events are all wildly unimaginative and lame . \\n\\n xxmaj finally , the physical aspect is not there . xxmaj there 's no xxunk , no xxunk , no kissing ( ! ) , no xxunk of any sort . xxmaj it 's just \" ok that was a boring date , xxmaj i m gon na go back to my ugly , tacky wanna - be xxmaj xxunk xxmaj xxunk dwelling ( quick xxunk on the lips ) xxup xxunk . \" xxmaj this show is so xxrep 4 * xxunk xxunk it 's ridiculous . i can understand them not wanting to play up the xxunk xxunk nature of homosexual men , but come the xxrep 4 * on . xxmaj people who watch reality xxup tv shows are gon na want more than xxunk xxunk and xxunk kisses . xxmaj this show refuses to compromise . \\n\\n xxmaj sorry if this was long winded but i felt these were issues that needed to be xxunk . i do commend xxmaj bravo for first putting up a show of this nature , but the xxunk incompetent manner in which this show was handled is mind xxunk . xxmaj to summarize my three points : xxmaj boring + xxmaj boring + xxmaj boring = go do something else . xxmaj you 'll have more fun waiting at a doctor 's office for an xxunk , at least they have interesting xxunk there .</td>\n",
       "      <td>negative</td>\n",
       "      <td>negative</td>\n",
       "    </tr>\n",
       "    <tr>\n",
       "      <th>4</th>\n",
       "      <td>xxbos xxmaj many neglect that this is n't just a classic due to the fact that it 's the first 3d game , or even the first xxunk - up . xxmaj it 's also one of the first xxunk games , one of the xxunk definitely the first ) truly claustrophobic games , and just a pretty well - xxunk gaming experience in general . xxmaj with graphics that are terribly dated today , the game xxunk you into the role of xxunk even * think * xxmaj i 'm going to attempt spelling his last name ! ) , an xxmaj american xxup xxunk . caught in an underground bunker . xxmaj you fight and search your way through xxunk in order to achieve different xxunk for the six xxunk , let 's face it , most of them are just an excuse to hand you a weapon , xxunk you with xxmaj nazis and send you out to waste one of the xxmaj nazi xxunk ) . xxmaj the graphics are , as i mentioned before , quite dated and very simple . xxmaj the least detailed of basically any 3d game released by a professional team of creators . xxmaj if you can get over that , xxunk some would suggest that this simplicity only adds to the effect the game has on you ) , then you 've got one heck of a good shooter / xxunk game . xxmaj the game play consists of searching for keys , health and ammo , xxunk xxunk xxmaj nazis , and a \" boss enemy \" per chapter ) of varying xxunk , of course , grows as you move further in the game ) , xxunk doors and looking for secret rooms . xxmaj there is a bonus count after each level is beaten … it goes by how fast you xxunk , if you beat the ' par time ' , which is the time it took a xxunk to go through the same level ; this can be quite fun to try and beat , and with how difficult the levels are to find your way in , they are even xxunk after many play - xxunk ) , how much xxmaj nazi xxunk ) you xxunk and how many bad guys you killed . xxmaj basically , if you got 100 % of any of aforementioned , you get a bonus , helping you reach the xxunk high score xxunk . xxmaj the game ( mostly , but not always ) allows for two xxunk different methods of playing … xxunk or xxunk down anything and everything you see . xxmaj you can either run or walk , and amongst your weapons is also a knife … running is heard instantly the moment you enter the same room as the guard , as is xxunk . xxmaj many guards are found standing with their backs turned to you , meaning that you can walk up behind them and xxunk them … nearly silently . xxmaj in your xxunk , you can get no less than four weapons and two keys … more about the weapons later . xxmaj the keys xxunk certain doors . xxmaj most doors in the game are n't locked … only two kinds need keys , and these keys are only introduced in later xxunk xxunk in levels , xxunk weaponry , health , score and lives in each chapter ) . xxmaj much of the later game is spent looking for them . xxmaj now , as i just alluded to , this game , like many of the xxunk 80 's , early 90 's ) , is based on xxunk extra lives … personally , i think it 's completely and utterly xxunk was mercifully dropped from here on end … i think ( ? ) , from the next 3d shooter and xxunk ) , since you can save anytime you want and ' using a life ' xxunk weaponry , health and ammo , like starting on a new xxunk is a real pain in later levels , where you * need * xxunk artillery ) . xxmaj now , i shall beat around the bush no longer … moving on to the guns ! xxmaj you start with aforementioned xxunk is silent but only effective up close ) and a xxunk … nothing special , but good for xxunk ammo , unlike the next two bad boys . xxmaj your third weapon is a xxmaj german xxup xxunk … a sub - machine - gun . xxmaj it 's faster and automatic , and some later enemies use it . xxmaj and the last one … is nothing short of a xxmaj xxunk gun ! xxmaj oh yeah ! xxmaj think xxup xxunk . xxmaj think xxmaj xxunk . xxmaj think about xxunk massive xxunk of lead into xxmaj nazi xxunk with such a gun . xxmaj it 's every bit as entertaining as it sounds . xxmaj most of the boss enemies use this , though , so be prepared . i wo n't reveal the identities of these boss enemies , however … that 's for each player to discover for xxunk xxunk . xxmaj the sound is excellent … very crisp and realistic . xxmaj as you hear the tear of a machine - gun firing , the xxunk xxunk xxunk of a door slamming shut behind you or a xxmaj nazi yelling surprised or a warning in xxmaj german , you truly feel like you are there , trapped in these dark and depressing bunker xxunk . xxmaj that xxunk me nicely into the level design … as you run through seemingly countless , nearly identical xxunk towards the next elevator leading you further , you are xxunk by the claustrophobic mood . i almost got motion sickness more than xxunk that might also have something to do with little sleep , lots of xxunk and unusual xxunk … ) from playing . xxmaj though the level of detail is n't terribly high , what there is is great . xxmaj remains of victims , guards ' quarters and countless xxmaj nazi xxunk … the list goes on . xxmaj the game also features quite a bit of gore … for it 's limited graphics engine , xxmaj john xxmaj romero and crew certainly put in all the blood and guts that they could for the game . xxmaj what is there left to say … the first of its kind , and it 's no wonder this xxunk countless others 3d xxunk . xxmaj sure , weapon xxunk and different height xxunk and such ) did n't come around until the next entry into the genre … xxmaj doom … and it was xxmaj duke xxmaj xxunk 3d that introduced the feature of switching your xxunk it goes beyond simply left and right , adding xxunk xxunk to it ) , and jumping did n't come around until a third , later xxunk first xxmaj xxunk , possibly ? xxmaj fellow xxunk , help me out here ) … but all of those games , as well as the rest of the genre , owe their existence to this one . xxmaj so load up the xxmaj xxunk , open the door to enter the bunker and step into xxunk . 's shoes … he deserves the recognition , xxunk maybe even especially ? ) nearly fifteen years after he first appeared . i recommended this to all fans of 3d games . 8 / 10</td>\n",
       "      <td>positive</td>\n",
       "      <td>positive</td>\n",
       "    </tr>\n",
       "  </tbody>\n",
       "</table>"
      ],
      "text/plain": [
       "<IPython.core.display.HTML object>"
      ]
     },
     "metadata": {},
     "output_type": "display_data"
    }
   ],
   "source": [
    "learn.show_results(max_n=5)"
   ]
  },
  {
   "cell_type": "code",
   "execution_count": null,
   "metadata": {},
   "outputs": [
    {
     "data": {
      "text/html": [
       "<table border=\"1\" class=\"dataframe\">\n",
       "  <thead>\n",
       "    <tr style=\"text-align: left;\">\n",
       "      <th>epoch</th>\n",
       "      <th>train_loss</th>\n",
       "      <th>valid_loss</th>\n",
       "      <th>accuracy</th>\n",
       "      <th>time</th>\n",
       "    </tr>\n",
       "  </thead>\n",
       "  <tbody>\n",
       "    <tr>\n",
       "      <td>0</td>\n",
       "      <td>0.592388</td>\n",
       "      <td>0.446533</td>\n",
       "      <td>0.825000</td>\n",
       "      <td>00:06</td>\n",
       "    </tr>\n",
       "    <tr>\n",
       "      <td>1</td>\n",
       "      <td>0.637766</td>\n",
       "      <td>0.432634</td>\n",
       "      <td>0.825000</td>\n",
       "      <td>00:06</td>\n",
       "    </tr>\n",
       "    <tr>\n",
       "      <td>2</td>\n",
       "      <td>0.609872</td>\n",
       "      <td>0.427784</td>\n",
       "      <td>0.815000</td>\n",
       "      <td>00:06</td>\n",
       "    </tr>\n",
       "    <tr>\n",
       "      <td>3</td>\n",
       "      <td>0.612264</td>\n",
       "      <td>0.439346</td>\n",
       "      <td>0.785000</td>\n",
       "      <td>00:06</td>\n",
       "    </tr>\n",
       "    <tr>\n",
       "      <td>4</td>\n",
       "      <td>0.620387</td>\n",
       "      <td>0.425461</td>\n",
       "      <td>0.825000</td>\n",
       "      <td>00:06</td>\n",
       "    </tr>\n",
       "    <tr>\n",
       "      <td>5</td>\n",
       "      <td>0.626586</td>\n",
       "      <td>0.413345</td>\n",
       "      <td>0.840000</td>\n",
       "      <td>00:06</td>\n",
       "    </tr>\n",
       "    <tr>\n",
       "      <td>6</td>\n",
       "      <td>0.599026</td>\n",
       "      <td>0.415424</td>\n",
       "      <td>0.845000</td>\n",
       "      <td>00:06</td>\n",
       "    </tr>\n",
       "    <tr>\n",
       "      <td>7</td>\n",
       "      <td>0.615368</td>\n",
       "      <td>0.412292</td>\n",
       "      <td>0.845000</td>\n",
       "      <td>00:06</td>\n",
       "    </tr>\n",
       "  </tbody>\n",
       "</table>"
      ],
      "text/plain": [
       "<IPython.core.display.HTML object>"
      ]
     },
     "metadata": {},
     "output_type": "display_data"
    }
   ],
   "source": [
    "learn.unfreeze()\n",
    "learn.opt = learn.create_opt()\n",
    "learn.fit_one_cycle(8, slice(1e-5,1e-3), moms=(0.8,0.7,0.8))"
   ]
  },
  {
   "cell_type": "code",
   "execution_count": null,
   "metadata": {},
   "outputs": [],
   "source": []
  }
 ],
 "metadata": {
  "kernelspec": {
   "display_name": "Python 3",
   "language": "python",
   "name": "python3"
  }
 },
 "nbformat": 4,
 "nbformat_minor": 2
}
