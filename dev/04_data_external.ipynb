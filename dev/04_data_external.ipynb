{
 "cells": [
  {
   "cell_type": "code",
   "execution_count": null,
   "metadata": {},
   "outputs": [],
   "source": [
    "#default_exp data.external"
   ]
  },
  {
   "cell_type": "code",
   "execution_count": null,
   "metadata": {},
   "outputs": [],
   "source": [
    "#export\n",
    "from fastai_local.imports import *\n",
    "from fastai_local.test import *\n",
    "from fastai_local.core import *"
   ]
  },
  {
   "cell_type": "markdown",
   "metadata": {},
   "source": [
    "# External data\n",
    "> Helper functions to download the fastai datasets"
   ]
  },
  {
   "cell_type": "markdown",
   "metadata": {},
   "source": [
    "## Download things"
   ]
  },
  {
   "cell_type": "code",
   "execution_count": null,
   "metadata": {},
   "outputs": [],
   "source": [
    "# export\n",
    "def download_url(url, dest, overwrite=False, pbar=None, show_progress=True, chunk_size=1024*1024,\n",
    "                 timeout=4, retries=5):\n",
    "    \"Download `url` to `dest` unless it exists and not `overwrite`\"\n",
    "    if os.path.exists(dest) and not overwrite: return\n",
    "    \n",
    "    s = requests.Session()\n",
    "    s.mount('http://',requests.adapters.HTTPAdapter(max_retries=retries))\n",
    "    u = s.get(url, stream=True, timeout=timeout)\n",
    "    try: file_size = int(u.headers[\"Content-Length\"])\n",
    "    except: show_progress = False\n",
    "    \n",
    "    with open(dest, 'wb') as f:\n",
    "        nbytes = 0\n",
    "        if show_progress: \n",
    "            pbar = progress_bar(range(file_size), auto_update=False, leave=False, parent=pbar)\n",
    "        try:\n",
    "            for chunk in u.iter_content(chunk_size=chunk_size):\n",
    "                nbytes += len(chunk)\n",
    "                if show_progress: pbar.update(nbytes)\n",
    "                f.write(chunk)\n",
    "        except requests.exceptions.ConnectionError as e:\n",
    "            fname = url.split('/')[-1]\n",
    "            from fastai.datasets import Config\n",
    "            data_dir = dest.parent\n",
    "            print(f'\\n Download of {url} has failed after {retries} retries\\n'\n",
    "                  f' Fix the download manually:\\n'\n",
    "                  f'$ mkdir -p {data_dir}\\n'\n",
    "                  f'$ cd {data_dir}\\n'\n",
    "                  f'$ wget -c {url}\\n'\n",
    "                  f'$ tar -zxvf {fname}\\n'\n",
    "                  f' And re-run your code once the download is successful\\n')"
   ]
  },
  {
   "cell_type": "code",
   "execution_count": null,
   "metadata": {},
   "outputs": [],
   "source": [
    "url, fname = 'http://files.fast.ai/data/examples/mnist_tiny.tgz', Path('mnist_tiny.tgz')\n",
    "download_url(url, fname)\n",
    "assert fname.exists()\n",
    "t = os.path.getmtime(fname)\n",
    "#Launching the function again doesn't trigger a download since the file is already there.\n",
    "download_url(url, fname)\n",
    "test_eq(t, os.path.getmtime(fname))\n",
    "#But with the overwrite option, we download it again.\n",
    "download_url(url, fname, overwrite=True)\n",
    "test_ne(t, os.path.getmtime(fname))"
   ]
  },
  {
   "cell_type": "markdown",
   "metadata": {},
   "source": [
    "Base urls"
   ]
  },
  {
   "cell_type": "code",
   "execution_count": null,
   "metadata": {},
   "outputs": [],
   "source": [
    "# export\n",
    "class URLs():\n",
    "    \"Global constants for dataset and model URLs.\"\n",
    "    LOCAL_PATH = Path.cwd()\n",
    "    URL = 'http://files.fast.ai/data/examples/'\n",
    "    MDL = 'http://files.fast.ai/models/'\n",
    "    S3 = 'https://s3.amazonaws.com/fast-ai-'\n",
    "\n",
    "    S3_IMAGE    = f'{S3}imageclas/'\n",
    "    S3_IMAGELOC = f'{S3}imagelocal/'\n",
    "    S3_NLP      = f'{S3}nlp/'\n",
    "    S3_COCO     = f'{S3}coco/'\n",
    "    S3_MODEL    = f'{S3}modelzoo/'\n",
    "\n",
    "    # main datasets\n",
    "    ADULT_SAMPLE        = f'{URL}adult_sample'\n",
    "    BIWI_SAMPLE         = f'{URL}biwi_sample'\n",
    "    CIFAR               = f'{URL}cifar10'\n",
    "    COCO_SAMPLE         = f'{S3_COCO}coco_sample'\n",
    "    COCO_TINY           = f'{URL}coco_tiny'\n",
    "    HUMAN_NUMBERS       = f'{URL}human_numbers'\n",
    "    IMDB                = f'{S3_NLP}imdb'\n",
    "    IMDB_SAMPLE         = f'{URL}imdb_sample'\n",
    "    ML_SAMPLE           = f'{URL}movie_lens_sample'\n",
    "    MNIST_SAMPLE        = f'{URL}mnist_sample'\n",
    "    MNIST_TINY          = f'{URL}mnist_tiny'\n",
    "    MNIST_VAR_SIZE_TINY = f'{S3_IMAGE}mnist_var_size_tiny'\n",
    "    PLANET_SAMPLE       = f'{URL}planet_sample'\n",
    "    PLANET_TINY         = f'{URL}planet_tiny'\n",
    "    IMAGENETTE          = f'{S3_IMAGE}imagenette'\n",
    "    IMAGENETTE_160      = f'{S3_IMAGE}imagenette-160'\n",
    "    IMAGENETTE_320      = f'{S3_IMAGE}imagenette-320'\n",
    "    IMAGEWOOF           = f'{S3_IMAGE}imagewoof'\n",
    "    IMAGEWOOF_160       = f'{S3_IMAGE}imagewoof-160'\n",
    "    IMAGEWOOF_320       = f'{S3_IMAGE}imagewoof-320'\n",
    "\n",
    "    # kaggle competitions download dogs-vs-cats -p {DOGS.absolute()}\n",
    "    DOGS = f'{URL}dogscats'\n",
    "\n",
    "    # image classification datasets\n",
    "    CALTECH_101  = f'{S3_IMAGE}caltech_101'\n",
    "    CARS         = f'{S3_IMAGE}stanford-cars'\n",
    "    CIFAR_100    = f'{S3_IMAGE}cifar100'\n",
    "    CUB_200_2011 = f'{S3_IMAGE}CUB_200_2011'\n",
    "    FLOWERS      = f'{S3_IMAGE}oxford-102-flowers'\n",
    "    FOOD         = f'{S3_IMAGE}food-101'\n",
    "    MNIST        = f'{S3_IMAGE}mnist_png'\n",
    "    PETS         = f'{S3_IMAGE}oxford-iiit-pet'\n",
    "\n",
    "    # NLP datasets\n",
    "    AG_NEWS                 = f'{S3_NLP}ag_news_csv'\n",
    "    AMAZON_REVIEWS          = f'{S3_NLP}amazon_review_full_csv'\n",
    "    AMAZON_REVIEWS_POLARITY = f'{S3_NLP}amazon_review_polarity_csv'\n",
    "    DBPEDIA                 = f'{S3_NLP}dbpedia_csv'\n",
    "    MT_ENG_FRA              = f'{S3_NLP}giga-fren'\n",
    "    SOGOU_NEWS              = f'{S3_NLP}sogou_news_csv'\n",
    "    WIKITEXT                = f'{S3_NLP}wikitext-103'\n",
    "    WIKITEXT_TINY           = f'{S3_NLP}wikitext-2'\n",
    "    YAHOO_ANSWERS           = f'{S3_NLP}yahoo_answers_csv'\n",
    "    YELP_REVIEWS            = f'{S3_NLP}yelp_review_full_csv'\n",
    "    YELP_REVIEWS_POLARITY   = f'{S3_NLP}yelp_review_polarity_csv'\n",
    "\n",
    "    # Image localization datasets\n",
    "    BIWI_HEAD_POSE     = f\"{S3_IMAGELOC}biwi_head_pose\"\n",
    "    CAMVID             = f'{S3_IMAGELOC}camvid'\n",
    "    CAMVID_TINY        = f'{URL}camvid_tiny'\n",
    "    LSUN_BEDROOMS      = f'{S3_IMAGE}bedroom'\n",
    "    PASCAL_2007        = f'{S3_IMAGELOC}pascal_2007'\n",
    "    PASCAL_2012        = f'{S3_IMAGELOC}pascal_2012'\n",
    "\n",
    "    #Pretrained models\n",
    "    OPENAI_TRANSFORMER = f'{S3_MODEL}transformer'\n",
    "    WT103              = f'{S3_MODEL}wt103'\n",
    "    #TODO: remove this last one and make sure the mosr recent is up\n",
    "    WT103_1            = f'{S3_MODEL}wt103-1'"
   ]
  },
  {
   "cell_type": "markdown",
   "metadata": {},
   "source": [
    "## Config file"
   ]
  },
  {
   "cell_type": "code",
   "execution_count": null,
   "metadata": {},
   "outputs": [],
   "source": [
    "# export\n",
    "def _get_config():\n",
    "    config_path = Path(os.getenv('FASTAI_HOME', '~/.fastai')).expanduser()\n",
    "    config_file = config_path/'config.yml'\n",
    "    if config_file.exists(): \n",
    "        with open(config_file, 'r') as yaml_file: \n",
    "            config = yaml.safe_load(yaml_file)\n",
    "            if 'version' in config and config['version'] == 1: return config\n",
    "    else: config = {}\n",
    "    #File inexistent or wrong version -> going to default\n",
    "    config = {'data_path':    str(config_path/'data'),\n",
    "              'archive_path': str(config_path/'data'),\n",
    "              'model_path':   str(config_path/'models'),\n",
    "              'version':      1} \n",
    "    with open(config_file, 'w') as yaml_file: \n",
    "        yaml.dump(config, yaml_file, default_flow_style=False)\n",
    "    return config"
   ]
  },
  {
   "cell_type": "code",
   "execution_count": null,
   "metadata": {},
   "outputs": [],
   "source": [
    "#This cell is just to make the config file compatible with current fastai\n",
    "config = _get_config()\n",
    "if 'data_archive_path' not in config: config['data_archive_path'] = config['archive_path']\n",
    "config_path = Path(os.getenv('FASTAI_HOME', '~/.fastai')).expanduser()\n",
    "config_file,config_bak = config_path/'config.yml',config_path/'config.yml.bak'\n",
    "with open(config_file, 'w') as yaml_file: \n",
    "    yaml.dump(config, yaml_file, default_flow_style=False)"
   ]
  },
  {
   "cell_type": "code",
   "execution_count": null,
   "metadata": {},
   "outputs": [],
   "source": [
    "config_path = Path(os.getenv('FASTAI_HOME', '~/.fastai')).expanduser()\n",
    "config_file,config_bak = config_path/'config.yml',config_path/'config.yml.bak'\n",
    "if config_file.exists(): shutil.move(config_file, config_bak)\n",
    "#Test default config\n",
    "config = _get_config()\n",
    "assert (config_path/'config.yml').exists()\n",
    "test_eq(config, {\n",
    "        'data_path':    str(config_path/'data'),\n",
    "        'archive_path': str(config_path/'data'),\n",
    "        'model_path':   str(config_path/'models'),\n",
    "        'version':      1\n",
    "    })\n",
    "\n",
    "#Test change in config\n",
    "config['archive_path'] = '.'\n",
    "with open(config_path/'config.yml', 'w') as yaml_file: \n",
    "    yaml.dump(config, yaml_file, default_flow_style=False)\n",
    "config = _get_config()\n",
    "test_eq(config, {\n",
    "        'data_path':    str(config_path/'data'),\n",
    "        'archive_path': '.',\n",
    "        'model_path':   str(config_path/'models'),\n",
    "        'version':      1\n",
    "    })\n",
    "\n",
    "if config_bak.exists(): shutil.move(config_bak, config_file)"
   ]
  },
  {
   "cell_type": "code",
   "execution_count": null,
   "metadata": {},
   "outputs": [],
   "source": [
    "# export\n",
    "ConfigKey = IntEnum('ConfigKey', 'Data Archive Model')\n",
    "\n",
    "def get_path(c_key=ConfigKey.Data):\n",
    "    return Path(_get_config()[f\"{c_key.name.lower()}_path\"])"
   ]
  },
  {
   "cell_type": "code",
   "execution_count": null,
   "metadata": {},
   "outputs": [],
   "source": [
    "config = _get_config()\n",
    "test_eq(Path(config['data_path']),    get_path(ConfigKey.Data))\n",
    "test_eq(Path(config['archive_path']), get_path(ConfigKey.Archive))\n",
    "test_eq(Path(config['model_path']),   get_path(ConfigKey.Model))"
   ]
  },
  {
   "cell_type": "markdown",
   "metadata": {},
   "source": [
    "### Download in the right place"
   ]
  },
  {
   "cell_type": "code",
   "execution_count": null,
   "metadata": {},
   "outputs": [],
   "source": [
    "#export\n",
    "def _url2path(url, c_key=ConfigKey.Archive, ext='.tgz'):\n",
    "    fname = f\"{url.split('/')[-1]}{ext}\"\n",
    "    local_path = URLs.LOCAL_PATH/('models' if c_key==ConfigKey.Model else 'data')/fname\n",
    "    if local_path.exists(): return local_path\n",
    "    if c_key == ConfigKey.Data: c_key = ConfigKey.Archive\n",
    "    return get_path(c_key)/fname"
   ]
  },
  {
   "cell_type": "code",
   "execution_count": null,
   "metadata": {},
   "outputs": [],
   "source": [
    "#hide\n",
    "path,path_bak = URLs.LOCAL_PATH/'data',URLs.LOCAL_PATH/'data1'\n",
    "if path.exists(): shutil.move(path, path_bak)\n",
    "test_eq(_url2path(URLs.MNIST_TINY), get_path()/'mnist_tiny.tgz')\n",
    "test_eq(_url2path(URLs.MNIST_TINY,ext='.tar'), get_path()/'mnist_tiny.tar')\n",
    "test_eq(_url2path(URLs.MNIST_TINY,c_key=ConfigKey.Model), get_path(ConfigKey.Model)/'mnist_tiny.tgz')\n",
    "if path_bak.exists(): shutil.move(path_bak, path)\n",
    "\n",
    "os.makedirs('data', exist_ok=True)\n",
    "download_url(f\"{URLs.MNIST_TINY}.tgz\", 'data/mnist_tiny.tgz')\n",
    "test_eq(_url2path(URLs.MNIST_TINY), Path.cwd()/'data'/'mnist_tiny.tgz')"
   ]
  },
  {
   "cell_type": "code",
   "execution_count": null,
   "metadata": {},
   "outputs": [],
   "source": [
    "# export\n",
    "def download_data(url, fname=None, c_key=ConfigKey.Archive, ext='.tgz', force_download=False):\n",
    "    fname = Path(fname or _url2path(url, c_key=c_key, ext=ext))\n",
    "    fname.parent.mkdir(parents=True, exist_ok=True)\n",
    "    if not fname.exists() or force_download:\n",
    "        print(f'Downloading {url}')\n",
    "        download_url(f'{url}{ext}', fname, overwrite=force_download)\n",
    "    return fname"
   ]
  },
  {
   "cell_type": "markdown",
   "metadata": {},
   "source": [
    "If `ConfigKey.Data` is passed, it will be replaced by `ConfigKey.Archive` (all archives downloaded there)."
   ]
  },
  {
   "cell_type": "code",
   "execution_count": null,
   "metadata": {},
   "outputs": [],
   "source": [
    "test_eq(download_data(URLs.MNIST_SAMPLE), get_path()/'mnist_sample.tgz')\n",
    "test_eq(download_data(URLs.MNIST_TINY, fname=Path('mnist.tgz')), Path('mnist.tgz'))\n",
    "os.remove(Path('mnist.tgz'))\n",
    "\n",
    "tst_model = get_path(ConfigKey.Model)/'mnist_tiny.tgz'\n",
    "test_eq(download_data(URLs.MNIST_TINY, c_key=ConfigKey.Model), tst_model)\n",
    "os.remove(tst_model)"
   ]
  },
  {
   "cell_type": "markdown",
   "metadata": {},
   "source": [
    "### Check datasets"
   ]
  },
  {
   "cell_type": "code",
   "execution_count": null,
   "metadata": {},
   "outputs": [],
   "source": [
    "#hide\n",
    "#Tricking jupyter notebook to have a __file__ attribute.\n",
    "__file__ = Path('fastai_local').absolute()/'data'/'external.py'"
   ]
  },
  {
   "cell_type": "code",
   "execution_count": null,
   "metadata": {},
   "outputs": [],
   "source": [
    "pickle.dump(_checks, open(Path(__file__).parent/'checks.pkl','wb'))"
   ]
  },
  {
   "cell_type": "code",
   "execution_count": null,
   "metadata": {},
   "outputs": [],
   "source": [
    "_checks = {\n",
    "    URLs.ADULT_SAMPLE:(968212, '64eb9d7e23732de0b138f7372d15492f'),\n",
    "    URLs.AG_NEWS:(11784419, 'b86f328f4dbd072486591cb7a5644dcd'),\n",
    "    URLs.AMAZON_REVIEWS_POLARITY:(688339454, '676f7e5208ec343c8274b4bb085bc938'),\n",
    "    URLs.AMAZON_REVIEWS:(643695014, '4a1196cf0adaea22f4bc3f592cddde90'),\n",
    "    URLs.BIWI_HEAD_POSE:(452316199, '00f4ccf66e8cba184bc292fdc08fb237'),\n",
    "    URLs.BIWI_SAMPLE:(593774, '9179f4c1435f4b291f0d5b072d60c2c9'),\n",
    "    URLs.CALTECH_101:(131740031, 'd673425306e98ee4619fcdeef8a0e876'),\n",
    "    URLs.CAMVID:(598913237, '648371e4f3a833682afb39b08a3ce2aa'),\n",
    "    URLs.CAMVID_TINY:(2314212, '2cf6daf91b7a2083ecfa3e9968e9d915'),\n",
    "    URLs.CARS:(1957803273, '9045d6673c9ced0889f41816f6bf2f9f'),\n",
    "    URLs.CIFAR:(168168549, 'a5f8c31371b63a406b23368042812d3c'),\n",
    "    URLs.CIFAR_100:(169168619, 'e5e65dcb54b9d3913f7b8a9ad6607e62'),\n",
    "    URLs.COCO_SAMPLE:(3245877008, '006cd55d633d94b36ecaf661467830ec'),\n",
    "    URLs.COCO_TINY:(801038, '367467451ac4fba79a647753c2c66d3a'),\n",
    "    URLs.CUB_200_2011:(1150585339, 'd2acaa99439dff0483c7bbac1bfe2a92'),\n",
    "    URLs.DBPEDIA:(68341743, '239c7837b9e79db34486f3de6a00e38e'),\n",
    "    URLs.DOGS:(839285364, '3e483c8d6ef2175e9d395a6027eb92b7'),\n",
    "    URLs.FLOWERS:(345236087, '5666e01c1311b4c67fcf20d2b3850a88'),\n",
    "    URLs.FOOD:(5686607260, '1a540ebf1fb40b2bf3f2294234ba7907'),\n",
    "    URLs.HUMAN_NUMBERS:(30252, '8a19c3bfa2bcb08cd787e741261f3ea2'),\n",
    "    URLs.IMDB:(144440600, '90f9b1c4ff43a90d67553c9240dc0249'),\n",
    "    URLs.IMDB_SAMPLE:(571827, '0842e61a9867caa2e6fbdb14fa703d61'),\n",
    "    URLs.LSUN_BEDROOMS:(4579163978, '35d84f38f8a15fe47e66e460c8800d68'),\n",
    "    URLs.ML_SAMPLE:(51790, '10961384dfe7c5181460390a460c1f77'),\n",
    "    URLs.MNIST:(15683414, '03639f83c4e3d19e0a3a53a8a997c487'),\n",
    "    URLs.MNIST_SAMPLE:(3214948, '2dbc7ec6f9259b583af0072c55816a88'),\n",
    "    URLs.MNIST_TINY:(342207, '56143e8f24db90d925d82a5a74141875'),\n",
    "    URLs.MNIST_VAR_SIZE_TINY:(565372, 'b71a930f4eb744a4a143a6c7ff7ed67f'),\n",
    "    URLs.MT_ENG_FRA:(2598183296, '69573f58e2c850b90f2f954077041d8c'),\n",
    "    URLs.OPENAI_TRANSFORMER:(432848315, '024b0d2203ebb0cd1fc64b27cf8af18e'),\n",
    "    URLs.PASCAL_2007:(1636130334, 'a70574e9bc592bd3b253f5bf46ce12e3'),\n",
    "    URLs.PASCAL_2012:(2611715776, '2ae7897038383836f86ce58f66b09e31'),\n",
    "    URLs.PETS:(811706944, 'e4db5c768afd933bb91f5f594d7417a4'),\n",
    "    URLs.PLANET_SAMPLE:(15523994, '8bfb174b3162f07fbde09b54555bdb00'),\n",
    "    URLs.PLANET_TINY:(997569, '490873c5683454d4b2611fb1f00a68a9'),\n",
    "    URLs.SOGOU_NEWS:(384269937, '950f1366d33be52f5b944f8a8b680902'),\n",
    "    URLs.WIKITEXT:(190200704, '2dd8cf8693b3d27e9c8f0a7df054b2c7'),\n",
    "    URLs.WIKITEXT_TINY:(4070055, '2a82d47a7b85c8b6a8e068dc4c1d37e7'),\n",
    "    URLs.WT103:(206789489, '76fd08236c78bf91b7fb76698d53afa3'),\n",
    "    URLs.WT103_1:(165175630, '9cbe02e9e23b969fee10dc9b8dec6566'),\n",
    "    URLs.YAHOO_ANSWERS:(319476345, '0632a0d236ef3a529c0fa4429b339f68'),\n",
    "    URLs.YELP_REVIEWS_POLARITY:(166373201, '48c8451c1ad30472334d856b5d294807'),\n",
    "    URLs.YELP_REVIEWS:(196146755, '1efd84215ea3e30d90e4c33764b889db'),\n",
    "}"
   ]
  },
  {
   "cell_type": "code",
   "execution_count": null,
   "metadata": {},
   "outputs": [],
   "source": [
    "#export\n",
    "def untar_data(url, fname=None, dest=None, c_key=ConfigKey.Data, force_download=False):\n",
    "    \"Download `url` to `fname` if `dest` doesn't exist, and un-tgz to folder `dest`.\"\n",
    "    default_dest = _url2path(url, c_key=c_key, ext='') \n",
    "    dest = default_dest if dest is None else Path(dest)/default_dest.name\n",
    "    if force_download:\n",
    "        if fname.exists(): os.remove(fname)\n",
    "        if dest.exists(): shutil.rmtree(dest)\n",
    "    if not dest.exists():\n",
    "        fname = download_data(url, fname=fname, c_key=c_key)\n",
    "        tarfile.open(fname, 'r:gz').extractall(dest.parent)\n",
    "    return dest"
   ]
  },
  {
   "cell_type": "code",
   "execution_count": null,
   "metadata": {},
   "outputs": [],
   "source": [
    "test_eq(untar_data(URLs.MNIST_SAMPLE), get_path()/'mnist_sample')\n",
    "test_eq(untar_data(URLs.MNIST_TINY, dest='.'), Path('mnist_tiny'))\n",
    "assert Path('mnist_tiny').exists()\n",
    "shutil.rmtree(Path('mnist_tiny'))\n",
    "\n",
    "tst_model = get_path(ConfigKey.Model)/'mnist_tiny'\n",
    "test_eq(untar_data(URLs.MNIST_TINY, c_key=ConfigKey.Model), tst_model)\n",
    "shutil.rmtree(tst_model)"
   ]
  },
  {
   "cell_type": "markdown",
   "metadata": {},
   "source": [
    "## Export-"
   ]
  },
  {
   "cell_type": "code",
   "execution_count": null,
   "metadata": {},
   "outputs": [
    {
     "name": "stdout",
     "output_type": "stream",
     "text": [
      "Converted 00_test.ipynb.\n",
      "Converted 01_core.ipynb.\n",
      "Converted 02_data_pipeline.ipynb.\n",
      "Converted 03_data_source.ipynb.\n",
      "Converted 04_data_external.ipynb.\n",
      "Converted 05_data_core.ipynb.\n",
      "Converted 06_pets_tutorial.ipynb.\n",
      "Converted 99_export.ipynb.\n",
      "Converted 99a_export2html.ipynb.\n",
      "Converted _07_data_blocks.ipynb.\n"
     ]
    }
   ],
   "source": [
    "#hide\n",
    "! ./notebook2script.py"
   ]
  },
  {
   "cell_type": "code",
   "execution_count": null,
   "metadata": {},
   "outputs": [],
   "source": [
    "_checks = {\n",
    "    URLs.ADULT_SAMPLE:(968212, '64eb9d7e23732de0b138f7372d15492f'),\n",
    "    URLs.AG_NEWS:(11784419, 'b86f328f4dbd072486591cb7a5644dcd'),\n",
    "    URLs.AMAZON_REVIEWS_POLARITY:(688339454, '676f7e5208ec343c8274b4bb085bc938'),\n",
    "    URLs.AMAZON_REVIEWS:(643695014, '4a1196cf0adaea22f4bc3f592cddde90'),\n",
    "    URLs.BIWI_HEAD_POSE:(452316199, '00f4ccf66e8cba184bc292fdc08fb237'),\n",
    "    URLs.BIWI_SAMPLE:(593774, '9179f4c1435f4b291f0d5b072d60c2c9'),\n",
    "    URLs.CALTECH_101:(131740031, 'd673425306e98ee4619fcdeef8a0e876'),\n",
    "    URLs.CAMVID:(598913237, '648371e4f3a833682afb39b08a3ce2aa'),\n",
    "    URLs.CAMVID_TINY:(2314212, '2cf6daf91b7a2083ecfa3e9968e9d915'),\n",
    "    URLs.CARS:(1957803273, '9045d6673c9ced0889f41816f6bf2f9f'),\n",
    "    URLs.CIFAR:(168168549, 'a5f8c31371b63a406b23368042812d3c'),\n",
    "    URLs.CIFAR_100:(169168619, 'e5e65dcb54b9d3913f7b8a9ad6607e62'),\n",
    "    URLs.COCO_SAMPLE:(3245877008, '006cd55d633d94b36ecaf661467830ec'),\n",
    "    URLs.COCO_TINY:(801038, '367467451ac4fba79a647753c2c66d3a'),\n",
    "    URLs.CUB_200_2011:(1150585339, 'd2acaa99439dff0483c7bbac1bfe2a92'),\n",
    "    URLs.DBPEDIA:(68341743, '239c7837b9e79db34486f3de6a00e38e'),\n",
    "    URLs.DOGS:(839285364, '3e483c8d6ef2175e9d395a6027eb92b7'),\n",
    "    URLs.FLOWERS:(345236087, '5666e01c1311b4c67fcf20d2b3850a88'),\n",
    "    URLs.FOOD:(5686607260, '1a540ebf1fb40b2bf3f2294234ba7907'),\n",
    "    URLs.HUMAN_NUMBERS:(30252, '8a19c3bfa2bcb08cd787e741261f3ea2'),\n",
    "    URLs.IMDB:(144440600, '90f9b1c4ff43a90d67553c9240dc0249'),\n",
    "    URLs.IMDB_SAMPLE:(571827, '0842e61a9867caa2e6fbdb14fa703d61'),\n",
    "    URLs.LSUN_BEDROOMS:(4579163978, '35d84f38f8a15fe47e66e460c8800d68'),\n",
    "    URLs.ML_SAMPLE:(51790, '10961384dfe7c5181460390a460c1f77'),\n",
    "    URLs.MNIST:(15683414, '03639f83c4e3d19e0a3a53a8a997c487'),\n",
    "    URLs.MNIST_SAMPLE:(3214948, '2dbc7ec6f9259b583af0072c55816a88'),\n",
    "    URLs.MNIST_TINY:(342207, '56143e8f24db90d925d82a5a74141875'),\n",
    "    URLs.MNIST_VAR_SIZE_TINY:(565372, 'b71a930f4eb744a4a143a6c7ff7ed67f'),\n",
    "    URLs.MT_ENG_FRA:(2598183296, '69573f58e2c850b90f2f954077041d8c'),\n",
    "    URLs.OPENAI_TRANSFORMER:(432848315, '024b0d2203ebb0cd1fc64b27cf8af18e'),\n",
    "    URLs.PASCAL_2007:(1636130334, 'a70574e9bc592bd3b253f5bf46ce12e3'),\n",
    "    URLs.PASCAL_2012:(2611715776, '2ae7897038383836f86ce58f66b09e31'),\n",
    "    URLs.PETS:(811706944, 'e4db5c768afd933bb91f5f594d7417a4'),\n",
    "    URLs.PLANET_SAMPLE:(15523994, '8bfb174b3162f07fbde09b54555bdb00'),\n",
    "    URLs.PLANET_TINY:(997569, '490873c5683454d4b2611fb1f00a68a9'),\n",
    "    URLs.SOGOU_NEWS:(384269937, '950f1366d33be52f5b944f8a8b680902'),\n",
    "    URLs.WIKITEXT:(190200704, '2dd8cf8693b3d27e9c8f0a7df054b2c7'),\n",
    "    URLs.WIKITEXT_TINY:(4070055, '2a82d47a7b85c8b6a8e068dc4c1d37e7'),\n",
    "    URLs.WT103:(206789489, '76fd08236c78bf91b7fb76698d53afa3'),\n",
    "    URLs.WT103_1:(165175630, '9cbe02e9e23b969fee10dc9b8dec6566'),\n",
    "    URLs.YAHOO_ANSWERS:(319476345, '0632a0d236ef3a529c0fa4429b339f68'),\n",
    "    URLs.YELP_REVIEWS_POLARITY:(166373201, '48c8451c1ad30472334d856b5d294807'),\n",
    "    URLs.YELP_REVIEWS:(196146755, '1efd84215ea3e30d90e4c33764b889db'),\n",
    "}"
   ]
  },
  {
   "cell_type": "code",
   "execution_count": null,
   "metadata": {},
   "outputs": [],
   "source": [
    "pickle.dump(_checks, "
   ]
  }
 ],
 "metadata": {
  "kernelspec": {
   "display_name": "Python 3",
   "language": "python",
   "name": "python3"
  }
 },
 "nbformat": 4,
 "nbformat_minor": 2
}
