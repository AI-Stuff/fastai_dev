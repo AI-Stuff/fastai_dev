{
 "cells": [
  {
   "cell_type": "markdown",
   "metadata": {},
   "source": [
    "# Tutorial: Using `fastai.data` low-level APIs\n",
    "\n",
    "> Using `DataSource`, `Pipeline`, `TfmdList`, `TfmOver`, and `Transform`"
   ]
  },
  {
   "cell_type": "code",
   "execution_count": null,
   "metadata": {},
   "outputs": [],
   "source": [
    "from local.imports import *\n",
    "from local.test import *\n",
    "from local.core import *\n",
    "from local.data.pipeline import *\n",
    "from local.data.source import *\n",
    "from local.data.core import *\n",
    "from local.vision.core import *\n",
    "from local.data.external import *"
   ]
  },
  {
   "cell_type": "code",
   "execution_count": null,
   "metadata": {},
   "outputs": [],
   "source": [
    "from PIL.ImageFile import ImageFile"
   ]
  },
  {
   "cell_type": "markdown",
   "metadata": {},
   "source": [
    "## Overview"
   ]
  },
  {
   "cell_type": "markdown",
   "metadata": {},
   "source": [
    "- start with list of filenames\n",
    "- end with iterator of tensor batches\n",
    "- display a batch\n",
    "- display a prediction\n",
    "  - a prediction should be same structure as a batch (?)\n",
    "- filename -> (image,label)\n",
    "- image:\n",
    "  - open\n",
    "  - make tensor\n",
    "  - augment (at PIL, image tensor, or batch tensor level)\n",
    "    - don't apply to valid set; toggle on/off as needed (e.g. fix_dl)\n",
    "    - same rand for x/y\n",
    "    - segment needs nearest neighbor, bbox/points need different funcs\n",
    "  - show: dataset-wide params like cmap and alpha; denorm params; to_cpu\n",
    "- label:\n",
    "  - view text (needs state: vocab)\n",
    "  - get number\n",
    "- batch:\n",
    "  - concat tuples\n",
    "  - normalize\n",
    "  - CUDA / float tensor\n",
    "  - augment"
   ]
  },
  {
   "cell_type": "markdown",
   "metadata": {},
   "source": [
    "### v1"
   ]
  },
  {
   "cell_type": "code",
   "execution_count": null,
   "metadata": {},
   "outputs": [
    {
     "data": {
      "image/png": "[encoded data removed]",
      "text/plain": [
       "<PIL.PngImagePlugin.PngImageFile image mode=L size=28x28 at 0x7F6914910828>"
      ]
     },
     "execution_count": null,
     "metadata": {},
     "output_type": "execute_result"
    }
   ],
   "source": [
    "source = untar_data(URLs.MNIST_TINY)/'train'\n",
    "items = get_image_files(source)\n",
    "fn = items[0]\n",
    "img = PIL.Image.open(fn); img"
   ]
  },
  {
   "cell_type": "code",
   "execution_count": null,
   "metadata": {},
   "outputs": [],
   "source": [
    "def mk_tensor(im): return tensor(array(im))[None]"
   ]
  },
  {
   "cell_type": "code",
   "execution_count": null,
   "metadata": {},
   "outputs": [
    {
     "data": {
      "text/plain": [
       "(torch.Size([1, 28, 28]), torch.Tensor)"
      ]
     },
     "execution_count": null,
     "metadata": {},
     "output_type": "execute_result"
    }
   ],
   "source": [
    "imgt = mk_tensor(img)\n",
    "imgt.shape,type(imgt)"
   ]
  },
  {
   "cell_type": "code",
   "execution_count": null,
   "metadata": {},
   "outputs": [
    {
     "data": {
      "text/plain": [
       "('3', 0)"
      ]
     },
     "execution_count": null,
     "metadata": {},
     "output_type": "execute_result"
    }
   ],
   "source": [
    "lbls = items.mapped(parent_label)\n",
    "itos,stoi = uniqueify(lbls, bidir=True, sort=True)\n",
    "lbls[0], stoi['3']"
   ]
  },
  {
   "cell_type": "code",
   "execution_count": null,
   "metadata": {},
   "outputs": [
    {
     "data": {
      "image/png": "[encoded data removed]",
      "text/plain": [
       "<Figure size 72x72 with 1 Axes>"
      ]
     },
     "metadata": {
      "needs_background": "light"
     },
     "output_type": "display_data"
    }
   ],
   "source": [
    "show_image(imgt, title=lbls[0], figsize=(1,1), cmap=\"Greys\");"
   ]
  },
  {
   "cell_type": "code",
   "execution_count": null,
   "metadata": {},
   "outputs": [],
   "source": [
    "@patch\n",
    "def dihedral(im:ImageFile, idx=0): return im.transpose(idx-1) if idx>=1 else im\n",
    "def rand_dihedral(im): return im.dihedral(random.randint(0,7))"
   ]
  },
  {
   "cell_type": "code",
   "execution_count": null,
   "metadata": {},
   "outputs": [
    {
     "data": {
      "image/png": "[encoded data removed]",
      "text/plain": [
       "<Figure size 72x72 with 1 Axes>"
      ]
     },
     "metadata": {
      "needs_background": "light"
     },
     "output_type": "display_data"
    }
   ],
   "source": [
    "pipe_open = compose(PIL.Image.open, rand_dihedral, mk_tensor)\n",
    "\n",
    "class MNIST():\n",
    "    def __getitem__(self,i): return pipe_open(items[i]), stoi[lbls[i]]\n",
    "    def __len__(self): return len(items)\n",
    "\n",
    "ds = MNIST()\n",
    "show_titled_image(ds[0], figsize=(1,1), cmap=\"Greys\")"
   ]
  },
  {
   "cell_type": "code",
   "execution_count": null,
   "metadata": {},
   "outputs": [],
   "source": [
    "dl = DataLoader(ds, batch_size=9)\n",
    "b = next(iter(dl))\n",
    "x,y = to_device(b)\n",
    "x = x.float()/255."
   ]
  },
  {
   "cell_type": "code",
   "execution_count": null,
   "metadata": {},
   "outputs": [],
   "source": [
    "def normalize  (o,m,s): return (o-m)/s\n",
    "def denormalize(o,m,s): return (o*s)+m\n",
    "\n",
    "def decode_vocab(o, v): return [v[o_] for o_ in o]"
   ]
  },
  {
   "cell_type": "code",
   "execution_count": null,
   "metadata": {},
   "outputs": [
    {
     "data": {
      "text/plain": [
       "(tensor(0.0267, device='cuda:0'), tensor(0.9244, device='cuda:0'))"
      ]
     },
     "execution_count": null,
     "metadata": {},
     "output_type": "execute_result"
    }
   ],
   "source": [
    "m,s = 0.1,0.3\n",
    "x = normalize(x,m,s)\n",
    "x.mean(),x.std()"
   ]
  },
  {
   "cell_type": "code",
   "execution_count": null,
   "metadata": {},
   "outputs": [],
   "source": [
    "denorm = partial(denormalize,m=m,s=s)\n",
    "decode = partial(decode_vocab, v=itos)"
   ]
  },
  {
   "cell_type": "code",
   "execution_count": null,
   "metadata": {},
   "outputs": [
    {
     "data": {
      "image/png": "[encoded data removed]",
      "text/plain": [
       "<Figure size 288x288 with 9 Axes>"
      ]
     },
     "metadata": {
      "needs_background": "light"
     },
     "output_type": "display_data"
    }
   ],
   "source": [
    "show_image_batch((denorm(x),decode(y)), cmap=\"Greys\", figsize=(4,4))"
   ]
  },
  {
   "cell_type": "markdown",
   "metadata": {},
   "source": [
    "### v2"
   ]
  },
  {
   "cell_type": "code",
   "execution_count": null,
   "metadata": {},
   "outputs": [],
   "source": [
    "vocab = SimpleNamespace(itos=itos,stoi=stoi)"
   ]
  },
  {
   "cell_type": "code",
   "execution_count": null,
   "metadata": {},
   "outputs": [],
   "source": [
    "def floatify(o): \n",
    "    o.data = o.data.float()/255.\n",
    "    return o"
   ]
  },
  {
   "cell_type": "code",
   "execution_count": null,
   "metadata": {},
   "outputs": [],
   "source": [
    "class Normalize():\n",
    "    def __init__(self, m, s): self.m,self.s = m,s\n",
    "    def __call__(self,o): \n",
    "        o.data = (o.data-self.m)/self.s\n",
    "        return o\n",
    "    def decode  (self,o): \n",
    "        o.data = (o.data*self.s)+self.m\n",
    "        return o\n",
    "\n",
    "norm_mnist = Normalize(m,s)"
   ]
  },
  {
   "cell_type": "code",
   "execution_count": null,
   "metadata": {},
   "outputs": [
    {
     "data": {
      "text/plain": [
       "(tensor(-0.0007), tensor(0.0092))"
      ]
     },
     "execution_count": null,
     "metadata": {},
     "output_type": "execute_result"
    }
   ],
   "source": [
    "imgt = floatify(imgt)\n",
    "imgt.mean(),imgt.std()"
   ]
  },
  {
   "cell_type": "code",
   "execution_count": null,
   "metadata": {},
   "outputs": [
    {
     "data": {
      "text/plain": [
       "(tensor(-0.3357), tensor(0.0306))"
      ]
     },
     "execution_count": null,
     "metadata": {},
     "output_type": "execute_result"
    }
   ],
   "source": [
    "imgn = norm_mnist(imgt)\n",
    "imgn.mean(),imgn.std()"
   ]
  },
  {
   "cell_type": "code",
   "execution_count": null,
   "metadata": {},
   "outputs": [
    {
     "data": {
      "text/plain": [
       "(tensor(-0.0007), tensor(0.0092))"
      ]
     },
     "execution_count": null,
     "metadata": {},
     "output_type": "execute_result"
    }
   ],
   "source": [
    "imgt2 = norm_mnist.decode(imgn)\n",
    "imgt2.mean(),imgt2.std()"
   ]
  },
  {
   "cell_type": "code",
   "execution_count": null,
   "metadata": {},
   "outputs": [],
   "source": [
    "class Item():\n",
    "    def __init__(self, d): self.data = d"
   ]
  },
  {
   "cell_type": "code",
   "execution_count": null,
   "metadata": {},
   "outputs": [],
   "source": [
    "class String(Item):\n",
    "    def show(self, ctx=None, **kwargs): return show_title(str(self.data), ctx=ctx)"
   ]
  },
  {
   "cell_type": "code",
   "execution_count": null,
   "metadata": {},
   "outputs": [
    {
     "name": "stdout",
     "output_type": "stream",
     "text": [
      "3\n"
     ]
    }
   ],
   "source": [
    "cat = String(\"3\")\n",
    "cat.show()"
   ]
  },
  {
   "cell_type": "code",
   "execution_count": null,
   "metadata": {},
   "outputs": [],
   "source": [
    "class Categorify():\n",
    "    def __init__(self, vocab): self.vocab = vocab\n",
    "    def __call__(self, s): return self.vocab.stoi[getattr(s, 'data', s)]\n",
    "    def decode  (self, i): return String(self.vocab.itos[i])"
   ]
  },
  {
   "cell_type": "code",
   "execution_count": null,
   "metadata": {},
   "outputs": [],
   "source": [
    "from torch.utils.data.dataloader import default_collate"
   ]
  },
  {
   "cell_type": "code",
   "execution_count": null,
   "metadata": {},
   "outputs": [],
   "source": [
    "class TensorImageBatch(Item): #useful for data aug\n",
    "    def __getitem__(self, i): return TensorImage(self.data[i])"
   ]
  },
  {
   "cell_type": "code",
   "execution_count": null,
   "metadata": {},
   "outputs": [],
   "source": [
    "class TensorImage(Item):\n",
    "    def show(self, ctx=None, **kwargs): return show_image(to_cpu(self.data), ctx=ctx, **kwargs)\n",
    "    def collate(self, samples): return TensorImageBatch(default_collate([s.data for s in samples]))"
   ]
  },
  {
   "cell_type": "code",
   "execution_count": null,
   "metadata": {},
   "outputs": [],
   "source": [
    "class MkTensor():\n",
    "    def __call__(self, im): return TensorImage(mk_tensor(im))\n",
    "    def decode  (self, t):  return PIL.Image.fromarray(imgt[0].numpy().astype(np.uint8))"
   ]
  },
  {
   "cell_type": "code",
   "execution_count": null,
   "metadata": {},
   "outputs": [],
   "source": [
    "def compose_tfms(x, tfms, func_nm='__call__', reverse=False):\n",
    "    if reverse: tfms = reversed(tfms)\n",
    "    for t in tfms: x = getattr(t,func_nm,noop)(x)\n",
    "    return x\n",
    "\n",
    "class Pipeline():\n",
    "    def __init__(self, *tfms): self.tfms = tfms\n",
    "    def __call__(self, o): return compose_tfms(o, self.tfms)\n",
    "    def decode  (self, i): return compose_tfms(i, self.tfms, func_nm='decode', reverse=True)\n",
    "    def show(self, b, ctx=None, **kwargs):\n",
    "        for t in reversed(self.tfms):\n",
    "            f = getattr(b,'show',None)\n",
    "            if f: return f(ctx=ctx, **kwargs)\n",
    "            b = getattr(t,'decode',noop)(b)\n",
    "        f = getattr(b,'show',None)\n",
    "        if f: return f(ctx=ctx, **kwargs)"
   ]
  },
  {
   "cell_type": "code",
   "execution_count": null,
   "metadata": {},
   "outputs": [],
   "source": [
    "pipe_x = Pipeline(PIL.Image.open, rand_dihedral, MkTensor())\n",
    "pipe_y = Pipeline(Categorify(vocab))"
   ]
  },
  {
   "cell_type": "code",
   "execution_count": null,
   "metadata": {},
   "outputs": [],
   "source": [
    "class MNIST():\n",
    "    def __init__(self, items, lbls, f_x, f_y):\n",
    "        self.items,self.lbls,self.f_x,self.f_y = items,lbls,f_x,f_y\n",
    "    def __getitem__(self, i): return self.f_x(self.items[i]), self.f_y(self.lbls[i])\n",
    "    def __len__(self): return len(items)\n",
    "    def show_at(self, i, ctx=None, **kwargs):\n",
    "        x,y = self[i]\n",
    "        ctx = self.f_x.show(x, ctx=ctx, **kwargs)\n",
    "        return self.f_y.show(y, ctx=ctx, **kwargs)\n",
    "\n",
    "ds = MNIST(items, lbls, pipe_x, pipe_y)"
   ]
  },
  {
   "cell_type": "code",
   "execution_count": null,
   "metadata": {},
   "outputs": [
    {
     "data": {
      "image/png": "[encoded data removed]",
      "text/plain": [
       "<Figure size 72x72 with 1 Axes>"
      ]
     },
     "metadata": {
      "needs_background": "light"
     },
     "output_type": "display_data"
    }
   ],
   "source": [
    "ds.show_at(0, cmap=\"Greys\", figsize=(1,1))"
   ]
  },
  {
   "cell_type": "code",
   "execution_count": null,
   "metadata": {},
   "outputs": [],
   "source": [
    "def maybe_data(d): return getattr(d, 'data', d)"
   ]
  },
  {
   "cell_type": "code",
   "execution_count": null,
   "metadata": {},
   "outputs": [],
   "source": [
    "def pipe_collate(samples):\n",
    "    if len(samples) >0 and hasattr(samples[0], 'collate'): return samples[0].collate(samples)\n",
    "    return default_collate([maybe_data(s) for s in samples])\n",
    "\n",
    "def batch_collate(samples):\n",
    "    return (pipe_collate(s) for s in zip(*samples))"
   ]
  },
  {
   "cell_type": "code",
   "execution_count": null,
   "metadata": {},
   "outputs": [],
   "source": [
    "dl = DataLoader(ds, batch_size=9, collate_fn=batch_collate)"
   ]
  },
  {
   "cell_type": "code",
   "execution_count": null,
   "metadata": {},
   "outputs": [],
   "source": [
    "class Datafy():\n",
    "    def __init__(self): self.type = None\n",
    "    def __call__(self, x): \n",
    "        self.type = x.__class__\n",
    "        return maybe_data(x)\n",
    "    def decode(self, x): return x if self.type is None else self.type(x)"
   ]
  },
  {
   "cell_type": "code",
   "execution_count": null,
   "metadata": {},
   "outputs": [],
   "source": [
    "class MNIST_DL():\n",
    "    def __init__(self, dl, f_x, f_y): self.dl,self.f_x,self.f_y = dl,f_x,f_y\n",
    "    def __iter__(self): return ((self.f_x(x), self.f_y(y)) for x,y in self.dl)\n",
    "    def __len__(self): return len(self.dl)\n",
    "    \n",
    "    def decode_batch(self, b):\n",
    "        x,y = b\n",
    "        x = self.f_x.decode(x)\n",
    "        y = self.f_y.decode(y)\n",
    "        return x,y\n",
    "    \n",
    "    def show_batch(self, b, max_rows=10, ctxs=None, **kwargs):\n",
    "        b = self.decode_batch(b) \n",
    "        rows = itertools.islice(zip(*L(b)), max_rows)\n",
    "        if ctxs is None: ctxs = [None] * len(b[0] if is_iter(b[0]) else b)\n",
    "        for o,ctx in zip(rows,ctxs):\n",
    "            ctx = self.dl.dataset.f_x.show(o[0], ctx=ctx, **kwargs)\n",
    "            self.dl.dataset.f_y.show(o[1], ctx=ctx, **kwargs)\n",
    "\n",
    "dl_pipe_x = Pipeline(to_device, floatify, norm_mnist, Datafy())\n",
    "dl_pipe_y = Pipeline(to_device)\n",
    "mdl = MNIST_DL(dl, dl_pipe_x, dl_pipe_y)"
   ]
  },
  {
   "cell_type": "code",
   "execution_count": null,
   "metadata": {},
   "outputs": [],
   "source": [
    "b = next(iter(mdl))"
   ]
  },
  {
   "cell_type": "code",
   "execution_count": null,
   "metadata": {},
   "outputs": [
    {
     "data": {
      "image/png": "[encoded data removed]",
      "text/plain": [
       "<Figure size 432x288 with 9 Axes>"
      ]
     },
     "metadata": {
      "needs_background": "light"
     },
     "output_type": "display_data"
    }
   ],
   "source": [
    "fig,axs = plt.subplots(3,3)\n",
    "mdl.show_batch(b, cmap=\"Greys\", figsize=(4,4), ctxs=axs.flat)"
   ]
  },
  {
   "cell_type": "code",
   "execution_count": null,
   "metadata": {},
   "outputs": [],
   "source": []
  }
 ],
 "metadata": {
  "kernelspec": {
   "display_name": "Python 3",
   "language": "python",
   "name": "python3"
  }
 },
 "nbformat": 4,
 "nbformat_minor": 2
}
