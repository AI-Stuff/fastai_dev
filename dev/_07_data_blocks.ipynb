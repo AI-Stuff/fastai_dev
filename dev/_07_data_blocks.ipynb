{
 "cells": [
  {
   "cell_type": "code",
   "execution_count": null,
   "metadata": {},
   "outputs": [],
   "source": [
    "#default_exp data.blocks"
   ]
  },
  {
   "cell_type": "code",
   "execution_count": null,
   "metadata": {},
   "outputs": [],
   "source": [
    "from fastai_local.imports import *\n",
    "from fastai_local.test import *\n",
    "from fastai_local.core import *\n",
    "from fastai_local.data.pipeline import *\n",
    "from fastai_local.data.source import *\n",
    "from fastai_local.data.core import *\n",
    "from fastai.datasets import *"
   ]
  },
  {
   "cell_type": "markdown",
   "metadata": {},
   "source": [
    "# Data blocks"
   ]
  },
  {
   "cell_type": "markdown",
   "metadata": {},
   "source": [
    "## TfmList -"
   ]
  },
  {
   "cell_type": "code",
   "execution_count": null,
   "metadata": {},
   "outputs": [],
   "source": [
    "#export\n",
    "class TfmList():\n",
    "    def __init__(self, tfms): self.activ,self.tfms = False,[Pipeline(t) for t in listify(tfms)]\n",
    "\n",
    "    def __call__(self, o, **kwargs):\n",
    "        if self.activ: return self.activ(o, **kwargs)\n",
    "        return [t(o, **kwargs) for t in self.tfms]\n",
    "    \n",
    "    def decode(self, o, **kwargs): return [t.decode(p, **kwargs) for p,t in zip(o,self.tfms)]\n",
    "\n",
    "    def setup(self, o):\n",
    "        for tfm in self.tfms:\n",
    "            self.activ = tfm\n",
    "            tfm.setup(o)\n",
    "        self.activ=None\n",
    "        \n",
    "    def show(self, o, **kwargs): return show_xs(o, self.tfms, **kwargs)\n",
    "    def __repr__(self): return f'TfmList({self.tfms})'\n",
    "    \n",
    "    @property\n",
    "    def xt(self): return self.tfms[0]\n",
    "    @property\n",
    "    def yt(self): return self.tfms[1]"
   ]
  },
  {
   "cell_type": "code",
   "execution_count": null,
   "metadata": {},
   "outputs": [],
   "source": [
    "tadd  = Transform(lambda x: x+1, decodes=lambda x: x-1 , order=2)\n",
    "tmult = Transform(lambda x: x*2, decodes=lambda x: x//2, order=1)\n",
    "\n",
    "tfm = TfmList([tadd,tmult])\n",
    "test_eq(tfm(3), (4, 6))"
   ]
  },
  {
   "cell_type": "code",
   "execution_count": null,
   "metadata": {},
   "outputs": [],
   "source": [
    "class TNorm_(Transform):\n",
    "    def __init__(self): self.m,self.s = 0,1\n",
    "    def encodes(self, o): return (o-self.m)/self.s\n",
    "    def decodes(self, o): return (o*self.s)+self.m\n",
    "    def setup(self, dsrc):\n",
    "        its = tensor(dsrc.train)\n",
    "        self.m,self.s = its.mean(),its.std()\n",
    "\n",
    "tnrm = TNorm_()\n",
    "tfm = TfmList([tadd,tnrm])\n",
    "source = [1,2,3,4]\n",
    "dsrc = DataSource(source, tfm)\n",
    "x,y = zip(*dsrc.train)\n",
    "test_close(tensor(y).mean(), 0)\n",
    "test_close(tensor(y).std(), 1)\n",
    "test_eq(x, (2,3,4,5))"
   ]
  },
  {
   "cell_type": "code",
   "execution_count": null,
   "metadata": {},
   "outputs": [],
   "source": []
  }
 ],
 "metadata": {
  "kernelspec": {
   "display_name": "Python 3",
   "language": "python",
   "name": "python3"
  }
 },
 "nbformat": 4,
 "nbformat_minor": 2
}
