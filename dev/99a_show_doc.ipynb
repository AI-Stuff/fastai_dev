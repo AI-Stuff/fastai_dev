{
 "cells": [
  {
   "cell_type": "code",
   "execution_count": null,
   "metadata": {},
   "outputs": [],
   "source": [
    "#default_exp notebook.show_doc"
   ]
  },
  {
   "cell_type": "code",
   "execution_count": null,
   "metadata": {},
   "outputs": [],
   "source": [
    "# export\n",
    "from fastai_local.core import *\n",
    "from fastai_local.imports import *\n",
    "from fastai_local.data.pipeline import *\n",
    "from fastai_local.data.external import *\n",
    "from fastai_local.test import *\n",
    "from fastai_local.notebook.export import *\n",
    "import inspect,enum\n",
    "from IPython.display import Markdown,display"
   ]
  },
  {
   "cell_type": "markdown",
   "metadata": {},
   "source": [
    "# Show doc\n",
    "> Functions to show the doc cells in notebooks"
   ]
  },
  {
   "cell_type": "code",
   "execution_count": null,
   "metadata": {},
   "outputs": [],
   "source": [
    "test_cases = [\n",
    "    listify,    #Basic func\n",
    "    Pipeline,   #Basic class\n",
    "    ConfigKey,  #Enum\n",
    "    compose,    #Func with star args and type annotation\n",
    "    untar_data, #Func with defaults\n",
    "    add_docs    #Func with kwargs\n",
    "]"
   ]
  },
  {
   "cell_type": "markdown",
   "metadata": {},
   "source": [
    "## Gather the information"
   ]
  },
  {
   "cell_type": "code",
   "execution_count": null,
   "metadata": {},
   "outputs": [],
   "source": [
    "def fn_name(ft):\n",
    "    \"Get the name of `ft`\"\n",
    "    if hasattr(ft, '__name__'):       return ft.__name__\n",
    "    elif getattr(ft, '_name', False): return ft._name\n",
    "    else:                             return str(ft).split('.')[-1]"
   ]
  },
  {
   "cell_type": "code",
   "execution_count": null,
   "metadata": {},
   "outputs": [],
   "source": [
    "test_eq([fn_name(o) for o in test_cases], \n",
    "        ['listify', 'Pipeline', 'ConfigKey', 'compose', 'untar_data', 'add_docs'])"
   ]
  },
  {
   "cell_type": "code",
   "execution_count": null,
   "metadata": {},
   "outputs": [],
   "source": [
    "def get_anchor(fn):\n",
    "    \"Anchor name associated to `fn`\"\n",
    "    if hasattr(fn,'__qualname__'): return fn.__qualname__\n",
    "    if inspect.ismethod(fn): return fn_name(fn.__self__) + '.' + fn_name(fn)\n",
    "    return fn_name(fn)"
   ]
  },
  {
   "cell_type": "code",
   "execution_count": null,
   "metadata": {},
   "outputs": [],
   "source": [
    "test_eq([get_anchor(o) for o in test_cases], \n",
    "        ['listify', 'Pipeline', 'ConfigKey', 'compose', 'untar_data', 'add_docs'])\n",
    "test_eq(get_anchor(Pipeline.composed), 'Pipeline.composed')"
   ]
  },
  {
   "cell_type": "markdown",
   "metadata": {},
   "source": [
    "The inspect module lets us know quickly if an object is a function or a class but it doesn't distinguish classes and enums."
   ]
  },
  {
   "cell_type": "code",
   "execution_count": null,
   "metadata": {},
   "outputs": [],
   "source": [
    "def is_enum(cls): \n",
    "    \"Check if `cls` is an enum or another type of class\"\n",
    "    return cls.__class__ == enum.Enum or cls.__class__ == enum.EnumMeta"
   ]
  },
  {
   "cell_type": "code",
   "execution_count": null,
   "metadata": {},
   "outputs": [],
   "source": [
    "assert is_enum(ConfigKey)\n",
    "assert not is_enum(Pipeline)"
   ]
  },
  {
   "cell_type": "code",
   "execution_count": null,
   "metadata": {},
   "outputs": [],
   "source": [
    "def get_module_name(ft): \n",
    "    \"Return the name of the module where `ft` is defined\"\n",
    "    return inspect.getmodule(ft).__name__"
   ]
  },
  {
   "cell_type": "code",
   "execution_count": null,
   "metadata": {},
   "outputs": [],
   "source": [
    "test_eq(_get_mod_name(Pipeline), 'fastai_local.data.pipeline')\n",
    "test_eq(_get_mod_name(untar_data), 'fastai_local.data.external')\n",
    "test_eq(_get_mod_name(ConfigKey), 'fastai_local.data.external')"
   ]
  },
  {
   "cell_type": "markdown",
   "metadata": {},
   "source": [
    "### Links"
   ]
  },
  {
   "cell_type": "code",
   "execution_count": null,
   "metadata": {},
   "outputs": [],
   "source": [
    "def belongs_to_module(t, module_name):\n",
    "    \"Check if `t` belongs to `module_name`.\"\n",
    "    if hasattr(t, '__func__'): return belongs_to_module(t.__func__, module_name)\n",
    "    if not inspect.getmodule(t): return False\n",
    "    return inspect.getmodule(t).__name__.startswith(module_name)"
   ]
  },
  {
   "cell_type": "code",
   "execution_count": null,
   "metadata": {},
   "outputs": [],
   "source": [
    "assert belongs_to_module(Pipeline, 'fastai_local')\n",
    "assert belongs_to_module(Tensor, 'torch')\n",
    "assert belongs_to_module(Path, 'pathlib')\n",
    "assert belongs_to_module(Pipeline(lambda x:x+2).composed, 'fastai_local')"
   ]
  },
  {
   "cell_type": "code",
   "execution_count": null,
   "metadata": {},
   "outputs": [],
   "source": [
    "PYTORCH_DOCS = 'https://pytorch.org/docs/stable/'\n",
    "\n",
    "def get_pytorch_link(ft):\n",
    "    \"Returns link to pytorch docs of `ft`.\"\n",
    "    name = ft.__name__\n",
    "    if name == 'device': return f'{PYTORCH_DOCS}tensor_attributes.html#torch-device'\n",
    "    if name == 'Tensor': return f'{PYTORCH_DOCS}tensors.html#torch-tensor'\n",
    "    if name.startswith('torchvision'):\n",
    "        doc_path = get_module_name(ft).replace('.', '/')\n",
    "        if inspect.ismodule(ft): name = name.replace('.', '-')\n",
    "        return f'{PYTORCH_DOCS}{doc_path}.html#{name}'\n",
    "    if name.startswith('torch.nn') and inspect.ismodule(ft): # nn.functional is special case\n",
    "        nn_link = name.replace('.', '-')\n",
    "        return f'{PYTORCH_DOCS}nn.html#{nn_link}'\n",
    "    paths = get_module_name(ft).split('.')\n",
    "    if len(paths) == 1: return f'{PYTORCH_DOCS}{paths[0]}.html#{paths[0]}.{name}'\n",
    "\n",
    "    offset = 1 if paths[1] == 'utils' else 0 # utils is a pytorch special case\n",
    "    doc_path = paths[1+offset]\n",
    "    if inspect.ismodule(ft): return f'{PYTORCH_DOCS}{doc_path}.html#module-{name}'\n",
    "    fnlink = '.'.join(paths[:(2+offset)]+[name])\n",
    "    return f'{PYTORCH_DOCS}{doc_path}.html#{fnlink}'"
   ]
  },
  {
   "cell_type": "code",
   "execution_count": null,
   "metadata": {},
   "outputs": [],
   "source": [
    "#TODO: Fix\n",
    "#Tensor and device are special cases\n",
    "test_eq(get_pytorch_link(torch.device), 'https://pytorch.org/docs/stable/tensor_attributes.html#torch-device')\n",
    "test_eq(get_pytorch_link(Tensor), 'https://pytorch.org/docs/stable/tensors.html#torch-tensor')\n"
   ]
  },
  {
   "cell_type": "code",
   "execution_count": null,
   "metadata": {},
   "outputs": [],
   "source": [
    "#Might change once the library is renamed fastai.\n",
    "def _is_fastai_class(ft): return belongs_to_module(ft, 'fastai_source')\n",
    "def _strip_fastai(s): return re.sub(r'^fastai_local\\.', '', s)"
   ]
  },
  {
   "cell_type": "code",
   "execution_count": null,
   "metadata": {},
   "outputs": [],
   "source": [
    "FASTAI_DOCS = '' #TODO: change when live\n",
    "\n",
    "def get_fn_link(ft):\n",
    "    \"Return function link to notebook documentation of `ft`.\"\n",
    "    ft = getattr(ft, '__func__', ft)\n",
    "    page = '_'.join(source_nb(Pipeline).split('_')[1:]).replace('.ipynb', '.html')\n",
    "    return f'{FASTAI_DOCS}/{page}#{get_anchor(ft)}'"
   ]
  },
  {
   "cell_type": "code",
   "execution_count": null,
   "metadata": {},
   "outputs": [],
   "source": [
    "test_eq(get_fn_link(Pipeline), '/data_pipeline.html#Pipeline')\n",
    "test_eq(get_fn_link(Pipeline.composed), '/data_pipeline.html#Pipeline.composed')"
   ]
  },
  {
   "cell_type": "code",
   "execution_count": null,
   "metadata": {},
   "outputs": [],
   "source": [
    "def doc_link(obj, name=None, include_bt:bool=True):\n",
    "    \"Create link to documentation.\"\n",
    "    name = name or fn_name(obj)\n",
    "    if include_bt: name = code_esc(name)\n",
    "    if belongs_to_module(obj, 'torch') and ('Tensor' not in name): \n",
    "        return f'[{name}]({get_pytorch_link(obj)})'\n",
    "    if _is_fastai_class(obj): return f'[{name}]({get_fn_link(obj)})'\n",
    "    return name"
   ]
  },
  {
   "cell_type": "code",
   "execution_count": null,
   "metadata": {},
   "outputs": [
    {
     "data": {
      "text/plain": [
       "'`Pipeline`'"
      ]
     },
     "execution_count": null,
     "metadata": {},
     "output_type": "execute_result"
    }
   ],
   "source": [
    "doc_link(Pipeline)"
   ]
  },
  {
   "cell_type": "code",
   "execution_count": null,
   "metadata": {},
   "outputs": [
    {
     "data": {
      "text/plain": [
       "True"
      ]
     },
     "execution_count": null,
     "metadata": {},
     "output_type": "execute_result"
    }
   ],
   "source": [
    "hasattr(Pipeline(lambda x:x+2).composed, '__func__')"
   ]
  },
  {
   "cell_type": "code",
   "execution_count": null,
   "metadata": {},
   "outputs": [],
   "source": [
    "assert is_enum(ConfigKey)\n",
    "assert not is_enum(Pipeline)"
   ]
  },
  {
   "cell_type": "code",
   "execution_count": null,
   "metadata": {},
   "outputs": [],
   "source": []
  },
  {
   "cell_type": "code",
   "execution_count": null,
   "metadata": {},
   "outputs": [
    {
     "data": {
      "text/plain": [
       "<_ParameterKind.VAR_POSITIONAL: 2>"
      ]
     },
     "execution_count": null,
     "metadata": {},
     "output_type": "execute_result"
    }
   ],
   "source": [
    "inspect._VAR_POSITIONAL"
   ]
  },
  {
   "cell_type": "code",
   "execution_count": null,
   "metadata": {},
   "outputs": [],
   "source": [
    "arg_prefixes = {inspect._VAR_POSITIONAL: '\\*', inspect._VAR_KEYWORD:'\\*\\*'}\n",
    "def code_esc(s): return f'`{s}`'"
   ]
  },
  {
   "cell_type": "code",
   "execution_count": null,
   "metadata": {},
   "outputs": [],
   "source": [
    "def is_enum(cls): return cls == enum.Enum or cls == enum.EnumMeta"
   ]
  },
  {
   "cell_type": "code",
   "execution_count": null,
   "metadata": {},
   "outputs": [],
   "source": [
    "def link_type(arg_type, arg_name=None, include_bt:bool=True):\n",
    "    \"Create link to documentation.\"\n",
    "    arg_name = arg_name or fn_name(arg_type)\n",
    "    if include_bt: arg_name = code_esc(arg_name)\n",
    "    return arg_name\n",
    "    if belongs_to_module(arg_type, 'torch') and ('Tensor' not in arg_name): return f'[{arg_name}]({get_pytorch_link(arg_type)})'\n",
    "    if is_fastai_class(arg_type): return f'[{arg_name}]({get_fn_link(arg_type)})'\n",
    "    return arg_name"
   ]
  },
  {
   "cell_type": "code",
   "execution_count": null,
   "metadata": {},
   "outputs": [],
   "source": [
    "def type_repr(t):\n",
    "    if isinstance(t, partial): return partial_repr(t)\n",
    "    if hasattr(t, '__forward_arg__'): return link_type(t.__forward_arg__)\n",
    "    elif getattr(t, '__args__', None):\n",
    "        args = t.__args__\n",
    "        if len(args)==2 and args[1] == type(None):\n",
    "            return f'`Optional`\\[{type_repr(args[0])}\\]'\n",
    "        reprs = ', '.join([type_repr(o) for o in args])\n",
    "        return f'{link_type(t)}\\[{reprs}\\]'\n",
    "    else: return link_type(t)"
   ]
  },
  {
   "cell_type": "code",
   "execution_count": null,
   "metadata": {},
   "outputs": [],
   "source": [
    "def format_param(p):\n",
    "    \"Formats function param to `param1:Type=val`. Font weights: param1=bold, val=bold+italic\"\n",
    "    arg_prefix = arg_prefixes.get(p.kind, '') # asterisk prefix for *args and **kwargs\n",
    "    res = f\"**{arg_prefix}{code_esc(p.name)}**\"\n",
    "    if hasattr(p, 'annotation') and p.annotation != p.empty: res += f':{type_repr(p.annotation)}'\n",
    "    if p.default != p.empty:\n",
    "        default = getattr(p.default, 'func', p.default)\n",
    "        default = getattr(default, '__name__', default)\n",
    "        res += f'=***`{repr(default)}`***'\n",
    "    return res"
   ]
  },
  {
   "cell_type": "code",
   "execution_count": null,
   "metadata": {},
   "outputs": [],
   "source": [
    "def format_ft_def(func, full_name:str=None)->str:\n",
    "    \"Format and link `func` definition to show in documentation\"\n",
    "    sig = inspect.signature(func)\n",
    "    name = f'<code>{full_name or func.__name__}</code>'\n",
    "    fmt_params = [format_param(param) for name,param\n",
    "                  in sig.parameters.items() if name not in ('self','cls')]\n",
    "    arg_str = f\"({', '.join(fmt_params)})\"\n",
    "    f_name = f\"<code>class</code> {name}\" if inspect.isclass(func) else name\n",
    "    return f'{f_name}',f'{name}{arg_str}'\n",
    "\n",
    "def get_enum_doc(elt, full_name:str)->str:\n",
    "    \"Formatted enum documentation.\"\n",
    "    vals = ', '.join(elt.__members__.keys())\n",
    "    return f'<code>{full_name}</code>',f'<code>Enum</code> = [{vals}]'\n",
    "\n",
    "def get_cls_doc(elt, full_name:str)->str:\n",
    "    \"Class definition.\"\n",
    "    parent_class = inspect.getclasstree([elt])[-1][0][1][0]\n",
    "    name,args = format_ft_def(elt, full_name)\n",
    "    if parent_class != object: args += f' :: {link_type(parent_class, include_bt=True)}'\n",
    "    return name,args"
   ]
  },
  {
   "cell_type": "code",
   "execution_count": null,
   "metadata": {},
   "outputs": [],
   "source": [
    "def show_doc(elt, doc_string=True, full_name=None, title_level=None, alt_doc_string='', markdown=True):\n",
    "    \"Show documentation for element `elt`. Supported types: class, Callable, and enum.\"\n",
    "    anchor_id = get_anchor(elt)\n",
    "    elt = getattr(elt, '__func__', elt)\n",
    "    full_name = full_name or fn_name(elt)\n",
    "    if inspect.isclass(elt):\n",
    "        if is_enum(elt.__class__):   name,args = get_enum_doc(elt, full_name)\n",
    "        else:                        name,args = get_cls_doc(elt, full_name)\n",
    "    elif isinstance(elt, Callable):  name,args = format_ft_def(elt, full_name)\n",
    "    else: raise Exception(f'doc definition not supported for {full_name}')\n",
    "    #source_link = get_function_source(elt) if is_fastai_class(elt) else \"\"\n",
    "    link = 'https://github.com/fastai/fastai/'\n",
    "    source_link = '<a href=\"{link}\" class=\"source_link\" style=\"float:right\">[source]</a>'\n",
    "    title_level = ifnone(title_level, 3 if inspect.isclass(elt) else 4)\n",
    "    doc =  f'<h{title_level} id=\"{anchor_id}\" class=\"doc_header\">{name}{source_link}</h{title_level}>'\n",
    "    doc += f'\\n\\n> {args}\\n\\n'\n",
    "    if doc_string and inspect.getdoc(elt):\n",
    "        doc += inspect.getdoc(elt) + ' '\n",
    "    if markdown: display(Markdown(doc))\n",
    "    else: return doc"
   ]
  },
  {
   "cell_type": "code",
   "execution_count": null,
   "metadata": {},
   "outputs": [
    {
     "data": {
      "text/markdown": [
       "<h4 id=\"listify\" class=\"doc_header\"><code>listify</code><a href=\"{link}\" class=\"source_link\" style=\"float:right\">[source]</a></h4>\n",
       "\n",
       "> <code>listify</code>(**`o`**)\n",
       "\n",
       "Make `o` a list. "
      ],
      "text/plain": [
       "<IPython.core.display.Markdown object>"
      ]
     },
     "metadata": {},
     "output_type": "display_data"
    }
   ],
   "source": [
    "show_doc(listify)"
   ]
  },
  {
   "cell_type": "code",
   "execution_count": null,
   "metadata": {},
   "outputs": [
    {
     "data": {
      "text/markdown": [
       "<h3 id=\"Pipeline\" class=\"doc_header\"><code>class</code> <code>Pipeline</code><a href=\"{link}\" class=\"source_link\" style=\"float:right\">[source]</a></h3>\n",
       "\n",
       "> <code>Pipeline</code>(**`tfms`**, **`items`**=***`None`***)\n",
       "\n",
       "A pipeline of transforms applied to a collection, composed and applied for encode/decode, and setup one at a time "
      ],
      "text/plain": [
       "<IPython.core.display.Markdown object>"
      ]
     },
     "metadata": {},
     "output_type": "display_data"
    }
   ],
   "source": [
    "show_doc(Pipeline)"
   ]
  },
  {
   "cell_type": "code",
   "execution_count": null,
   "metadata": {},
   "outputs": [
    {
     "data": {
      "text/markdown": [
       "<h3 id=\"ConfigKey\" class=\"doc_header\"><code>ConfigKey</code><a href=\"{link}\" class=\"source_link\" style=\"float:right\">[source]</a></h3>\n",
       "\n",
       "> <code>Enum</code> = [Data, Archive, Model]\n",
       "\n",
       "Keys for a path in the fastai config file "
      ],
      "text/plain": [
       "<IPython.core.display.Markdown object>"
      ]
     },
     "metadata": {},
     "output_type": "display_data"
    }
   ],
   "source": [
    "show_doc(ConfigKey)"
   ]
  },
  {
   "cell_type": "code",
   "execution_count": null,
   "metadata": {},
   "outputs": [
    {
     "data": {
      "text/markdown": [
       "<h4 id=\"compose\" class=\"doc_header\"><code>compose</code><a href=\"{link}\" class=\"source_link\" style=\"float:right\">[source]</a></h4>\n",
       "\n",
       "> <code>compose</code>(**\\*`funcs`**:`Callable`)\n",
       "\n",
       "Create a function that composes all functions in `funcs`, passing along remaining `*args` and `**kwargs` to all "
      ],
      "text/plain": [
       "<IPython.core.display.Markdown object>"
      ]
     },
     "metadata": {},
     "output_type": "display_data"
    }
   ],
   "source": [
    "show_doc(compose)"
   ]
  },
  {
   "cell_type": "code",
   "execution_count": null,
   "metadata": {},
   "outputs": [
    {
     "data": {
      "text/markdown": [
       "<h4 id=\"untar_data\" class=\"doc_header\"><code>untar_data</code><a href=\"{link}\" class=\"source_link\" style=\"float:right\">[source]</a></h4>\n",
       "\n",
       "> <code>untar_data</code>(**`url`**, **`fname`**=***`None`***, **`dest`**=***`None`***, **`c_key`**=***`<ConfigKey.Data: 1>`***, **`force_download`**=***`False`***)\n",
       "\n",
       "Download `url` to `fname` if `dest` doesn't exist, and un-tgz to folder `dest`. "
      ],
      "text/plain": [
       "<IPython.core.display.Markdown object>"
      ]
     },
     "metadata": {},
     "output_type": "display_data"
    }
   ],
   "source": [
    "show_doc(untar_data)"
   ]
  },
  {
   "cell_type": "code",
   "execution_count": null,
   "metadata": {},
   "outputs": [
    {
     "data": {
      "text/markdown": [
       "<h4 id=\"add_docs\" class=\"doc_header\"><code>add_docs</code><a href=\"{link}\" class=\"source_link\" style=\"float:right\">[source]</a></h4>\n",
       "\n",
       "> <code>add_docs</code>(**\\*\\*`docs`**)\n",
       "\n",
       "Copy values from `docs` to `cls` docstrings, and confirm all public methods are documented "
      ],
      "text/plain": [
       "<IPython.core.display.Markdown object>"
      ]
     },
     "metadata": {},
     "output_type": "display_data"
    }
   ],
   "source": [
    "show_doc(add_docs)"
   ]
  },
  {
   "cell_type": "code",
   "execution_count": null,
   "metadata": {},
   "outputs": [],
   "source": [
    "doc =  f'<h{title_level} id=\"{anchor_id}\" class=\"doc_header\">{name}{source_link}{test_link}</h{title_level}>'\n",
    "    doc += f'\\n\\n> {args}\\n\\n'\n",
    "    doc += f'{test_modal}'"
   ]
  }
 ],
 "metadata": {
  "kernelspec": {
   "display_name": "Python 3",
   "language": "python",
   "name": "python3"
  }
 },
 "nbformat": 4,
 "nbformat_minor": 2
}
