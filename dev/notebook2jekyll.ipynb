{
 "cells": [
  {
   "cell_type": "code",
   "execution_count": null,
   "metadata": {},
   "outputs": [],
   "source": [
    "import nbformat, re\n",
    "#from nbconvert.preprocessors import ExecutePreprocessor, Preprocessor\n",
    "from nbconvert import MarkdownExporter\n",
    "from traitlets.config import Config\n",
    "from pathlib import Path"
   ]
  },
  {
   "cell_type": "code",
   "execution_count": null,
   "metadata": {},
   "outputs": [],
   "source": [
    "def _exporter():\n",
    "    exporter = MarkdownExporter(Config())\n",
    "    exporter.exclude_input_prompt=True\n",
    "    exporter.exclude_output_prompt=True\n",
    "    exporter.template_file = 'jekyll.tpl'\n",
    "    exporter.template_path.append(str(Path.cwd().absolute()))\n",
    "    return exporter"
   ]
  },
  {
   "cell_type": "code",
   "execution_count": null,
   "metadata": {},
   "outputs": [],
   "source": [
    "_re_title = re.compile(r'^\\s*#\\s+([^\\n]*\\n)\\s*')\n",
    "\n",
    "def process_title(cell):\n",
    "    if cell['cell_type'] == 'code': return cell\n",
    "    if _re_title.search(cell['source']):\n",
    "        cell['source'] = '---\\n' + _re_title.sub(r'- title: \\1', cell['source']) + '\\n---'\n",
    "    return cell"
   ]
  },
  {
   "cell_type": "code",
   "execution_count": null,
   "metadata": {},
   "outputs": [],
   "source": [
    "def apply_all(x, fs, **kwargs):\n",
    "    for f in fs: x = f(x, **kwargs)\n",
    "    return x"
   ]
  },
  {
   "cell_type": "code",
   "execution_count": null,
   "metadata": {},
   "outputs": [],
   "source": [
    "def convert(fname, dest=None, cell_procs=None):\n",
    "    fname = Path(fname)\n",
    "    if dest is None: dest = fname.with_suffix('.md')\n",
    "    if cell_procs is None: cell_procs = [process_title]\n",
    "    with open(fname,'r') as f: nb = nbformat.reads(f.read(), as_version=4)\n",
    "    nb['cells'] = [apply_all(c, cell_procs) for c in nb['cells']]\n",
    "    with open(dest,'w') as f: f.write(_exporter().from_notebook_node(nb)[0])"
   ]
  },
  {
   "cell_type": "code",
   "execution_count": null,
   "metadata": {},
   "outputs": [],
   "source": [
    "convert(Path.cwd()/'delegation.ipynb')"
   ]
  },
  {
   "cell_type": "code",
   "execution_count": null,
   "metadata": {},
   "outputs": [],
   "source": []
  }
 ],
 "metadata": {
  "kernelspec": {
   "display_name": "Python 3",
   "language": "python",
   "name": "python3"
  }
 },
 "nbformat": 4,
 "nbformat_minor": 2
}
