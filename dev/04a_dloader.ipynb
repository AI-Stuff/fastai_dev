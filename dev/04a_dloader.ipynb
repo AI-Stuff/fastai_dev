{
 "cells": [
  {
   "cell_type": "markdown",
   "metadata": {},
   "source": [
    "# Data loader experiments"
   ]
  },
  {
   "cell_type": "code",
   "execution_count": null,
   "metadata": {},
   "outputs": [],
   "source": [
    "#export\n",
    "from local.imports import *\n",
    "from local.test import *\n",
    "from local.core import *\n",
    "from local.data import *\n",
    "from local.notebook.showdoc import show_doc"
   ]
  },
  {
   "cell_type": "code",
   "execution_count": null,
   "metadata": {},
   "outputs": [],
   "source": [
    "from torch.utils.data import IterableDataset, get_worker_info"
   ]
  },
  {
   "cell_type": "code",
   "execution_count": null,
   "metadata": {},
   "outputs": [],
   "source": [
    "import string\n",
    "letters = list(string.ascii_lowercase)"
   ]
  },
  {
   "cell_type": "code",
   "execution_count": null,
   "metadata": {},
   "outputs": [],
   "source": [
    "bs = 4"
   ]
  },
  {
   "cell_type": "code",
   "execution_count": null,
   "metadata": {},
   "outputs": [],
   "source": [
    "def twoepochs(d): print(' '.join(''.join(o) for _ in range(2) for o in d))"
   ]
  },
  {
   "cell_type": "code",
   "execution_count": null,
   "metadata": {},
   "outputs": [],
   "source": [
    "@patch\n",
    "def __len__(self:DataLoader):\n",
    "    return len(self.dataset) if isinstance(self.dataset, IterableDataset) else len(self.index_sampler)"
   ]
  },
  {
   "cell_type": "markdown",
   "metadata": {},
   "source": [
    "## patch \\_MapDatasetFetcher "
   ]
  },
  {
   "cell_type": "code",
   "execution_count": null,
   "metadata": {},
   "outputs": [],
   "source": [
    "@patch\n",
    "def fetch(self:torch.utils.data._utils.fetch._MapDatasetFetcher, idxs):\n",
    "    ds = self.dataset\n",
    "    if self.auto_collation:\n",
    "        if hasattr(self.collate_fn,\"get_batch\"): return self.collate_fn.get_batch(ds, idxs)\n",
    "        data = [ds[idx] for idx in idxs]\n",
    "    else: data = ds[idxs]\n",
    "    return self.collate_fn(data)"
   ]
  },
  {
   "cell_type": "code",
   "execution_count": null,
   "metadata": {},
   "outputs": [],
   "source": [
    "class CustCollate(CollateFunc):\n",
    "    def get_batch(self, ds, idxs): return self([ds[idx] for idx in idxs])"
   ]
  },
  {
   "cell_type": "code",
   "execution_count": null,
   "metadata": {},
   "outputs": [],
   "source": [
    "ds = string.ascii_lowercase\n",
    "dl = DataLoader(ds, batch_size=4, num_workers=0, collate_fn=CustCollate())"
   ]
  },
  {
   "cell_type": "code",
   "execution_count": null,
   "metadata": {},
   "outputs": [
    {
     "data": {
      "text/plain": [
       "['abcd', 'efgh', 'ijkl', 'mnop', 'qrst', 'uvwx', 'yz']"
      ]
     },
     "execution_count": null,
     "metadata": {},
     "output_type": "execute_result"
    }
   ],
   "source": [
    "[''.join(o) for o in dl]"
   ]
  },
  {
   "cell_type": "markdown",
   "metadata": {},
   "source": [
    "## BatchDS"
   ]
  },
  {
   "cell_type": "code",
   "execution_count": null,
   "metadata": {},
   "outputs": [],
   "source": [
    "class SleepyDS():\n",
    "    def __init__(self,coll): self.coll=coll\n",
    "    def __len__(self): return len(self.coll)\n",
    "    def __getitem__(self,i): time.sleep(0.02); return self.coll[i]"
   ]
  },
  {
   "cell_type": "code",
   "execution_count": null,
   "metadata": {},
   "outputs": [],
   "source": [
    "class BatchDS(IterableDataset):\n",
    "    def __init__(self, ds ,bs=1, shuffle=False, sampler=None, batch_sampler=None, drop_last=False,\n",
    "                sampler_cls=None, batch_sampler_cls=BatchSampler):\n",
    "        self.ds,self.samp,self.rng,self.nw,self.offs = ds,batch_sampler,random.Random(),1,0\n",
    "        if self.samp: return\n",
    "        if not sampler:\n",
    "            if not sampler_cls: sampler_cls = RandomSampler if shuffle else SequentialSampler\n",
    "            sampler = sampler_cls(ds)\n",
    "        self.samp = batch_sampler_cls(sampler, bs, drop_last)\n",
    "        \n",
    "    def __len__(self): return len(self.samp)\n",
    "        \n",
    "    def __iter__(self):\n",
    "        return ([self.ds[j] for j in b] for i,b in enumerate(self.samp) if i%self.nw==self.offs)"
   ]
  },
  {
   "cell_type": "code",
   "execution_count": null,
   "metadata": {},
   "outputs": [],
   "source": [
    "def _wif(worker_id):\n",
    "    info = get_worker_info()\n",
    "    ds = info.dataset\n",
    "    ds.nw,ds.offs = info.num_workers,info.id\n",
    "    torch.manual_seed(ds.rng.randint(0,sys.maxsize))\n",
    "    ds.samp.sampler = copy.copy(ds.samp.sampler)\n",
    "\n",
    "def get_dl(bs=4, collate_fn=default_collate, num_workers=0, **kwargs):\n",
    "    dsi = BatchDS(SleepyDS(string.ascii_lowercase), bs=4, **kwargs)\n",
    "    return DataLoader(dsi, num_workers=num_workers, batch_size=None, worker_init_fn=_wif, collate_fn=collate_fn)"
   ]
  },
  {
   "cell_type": "code",
   "execution_count": null,
   "metadata": {},
   "outputs": [
    {
     "name": "stdout",
     "output_type": "stream",
     "text": [
      "jkuc prsv aweo fmtl zhdg qnby ix jkuc prsv aweo fmtl zhdg qnby ix\n"
     ]
    }
   ],
   "source": [
    "dl = get_dl(bs=4, num_workers=4, shuffle=True)\n",
    "twoepochs(dl)\n",
    "test_eq(len(set(sum(dl,[]))), 26)"
   ]
  },
  {
   "cell_type": "code",
   "execution_count": null,
   "metadata": {},
   "outputs": [
    {
     "name": "stdout",
     "output_type": "stream",
     "text": [
      "abcd efgh ijkl mnop qrst uvwx yz abcd efgh ijkl mnop qrst uvwx yz\n",
      "CPU times: user 18.3 ms, sys: 43.8 ms, total: 62.1 ms\n",
      "Wall time: 390 ms\n"
     ]
    }
   ],
   "source": [
    "dl = get_dl(bs=4, num_workers=4)\n",
    "%time twoepochs(dl)\n",
    "test_eq(len(set(sum(dl,[]))), 26)"
   ]
  },
  {
   "cell_type": "code",
   "execution_count": null,
   "metadata": {},
   "outputs": [
    {
     "name": "stdout",
     "output_type": "stream",
     "text": [
      "abcd efgh ijkl mnop qrst uvwx yz abcd efgh ijkl mnop qrst uvwx yz\n",
      "CPU times: user 1.83 ms, sys: 733 µs, total: 2.56 ms\n",
      "Wall time: 1.05 s\n"
     ]
    },
    {
     "data": {
      "text/plain": [
       "7"
      ]
     },
     "execution_count": null,
     "metadata": {},
     "output_type": "execute_result"
    }
   ],
   "source": [
    "dl = get_dl(bs=4, num_workers=0)\n",
    "%time twoepochs(dl)\n",
    "len(dl)"
   ]
  },
  {
   "cell_type": "code",
   "execution_count": null,
   "metadata": {},
   "outputs": [
    {
     "name": "stdout",
     "output_type": "stream",
     "text": [
      "abcd efgh ijkl mnop qrst uvwx abcd efgh ijkl mnop qrst uvwx\n"
     ]
    },
    {
     "data": {
      "text/plain": [
       "6"
      ]
     },
     "execution_count": null,
     "metadata": {},
     "output_type": "execute_result"
    }
   ],
   "source": [
    "dl = get_dl(bs=4, num_workers=4, drop_last=True)\n",
    "twoepochs(dl)\n",
    "len(dl)"
   ]
  },
  {
   "cell_type": "code",
   "execution_count": null,
   "metadata": {},
   "outputs": [
    {
     "name": "stdout",
     "output_type": "stream",
     "text": [
      "vjgu zhdm owsn kxyl icqb frte pa uzyw rgak vqdl txpe hsfb icjm no\n"
     ]
    }
   ],
   "source": [
    "dl = get_dl(bs=4, num_workers=0, shuffle=True)\n",
    "twoepochs(dl)\n",
    "test_eq(len(set(sum(dl,[]))), 26)"
   ]
  },
  {
   "cell_type": "code",
   "execution_count": null,
   "metadata": {},
   "outputs": [
    {
     "name": "stdout",
     "output_type": "stream",
     "text": [
      "abcd efgh ijkl mnop qrst uvwx yz abcd efgh ijkl mnop qrst uvwx yz\n"
     ]
    }
   ],
   "source": [
    "ds = SleepyDS(string.ascii_lowercase)\n",
    "dl = get_dl(bs=4, num_workers=4, sampler=SequentialSampler(ds))\n",
    "twoepochs(dl)"
   ]
  },
  {
   "cell_type": "code",
   "execution_count": null,
   "metadata": {},
   "outputs": [
    {
     "name": "stdout",
     "output_type": "stream",
     "text": [
      "adcpyuoe fhtwgnql mvxbksij zr adcpyuoe fhtwgnql mvxbksij zr\n"
     ]
    }
   ],
   "source": [
    "dl = get_dl(num_workers=4, batch_sampler=BatchSampler(RandomSampler(ds), 8, False))\n",
    "twoepochs(dl)\n",
    "test_eq(len(set(sum(dl,[]))), 26)"
   ]
  },
  {
   "cell_type": "code",
   "execution_count": null,
   "metadata": {},
   "outputs": [
    {
     "name": "stdout",
     "output_type": "stream",
     "text": [
      "dcba hgfe lkji ponm tsrq xwvu zy dcba hgfe lkji ponm tsrq xwvu zy\n"
     ]
    }
   ],
   "source": [
    "def rev_collate(s): return default_collate(list(reversed(s)))\n",
    "dl = get_dl(bs=4, num_workers=4, collate_fn=rev_collate)\n",
    "twoepochs(dl)"
   ]
  },
  {
   "cell_type": "code",
   "execution_count": null,
   "metadata": {},
   "outputs": [],
   "source": []
  }
 ],
 "metadata": {
  "kernelspec": {
   "display_name": "Python 3",
   "language": "python",
   "name": "python3"
  }
 },
 "nbformat": 4,
 "nbformat_minor": 2
}
