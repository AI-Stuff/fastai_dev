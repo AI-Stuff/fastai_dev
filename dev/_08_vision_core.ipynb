{
 "cells": [
  {
   "cell_type": "code",
   "execution_count": null,
   "metadata": {},
   "outputs": [],
   "source": [
    "#default_exp vision.core"
   ]
  },
  {
   "cell_type": "code",
   "execution_count": null,
   "metadata": {},
   "outputs": [],
   "source": [
    "from fastai_local.imports import *\n",
    "from fastai_local.test import *\n",
    "from fastai_local.core import *\n",
    "from fastai_local.data.pipeline import *\n",
    "from fastai_local.data.source import *\n",
    "from fastai_local.data.core import *\n",
    "from fastai_local.data.blocks import *\n",
    "from fastai_local.data.external import *\n",
    "\n",
    "from PIL import Image"
   ]
  },
  {
   "cell_type": "code",
   "execution_count": null,
   "metadata": {},
   "outputs": [],
   "source": []
  }
 ],
 "metadata": {
  "kernelspec": {
   "display_name": "Python 3",
   "language": "python",
   "name": "python3"
  }
 },
 "nbformat": 4,
 "nbformat_minor": 2
}
