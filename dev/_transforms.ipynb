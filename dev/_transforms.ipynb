{
 "cells": [
  {
   "cell_type": "code",
   "execution_count": null,
   "metadata": {},
   "outputs": [],
   "source": [
    "from local.imports import *\n",
    "from local.test import *\n",
    "from local.core import *\n",
    "from local.notebook.showdoc import show_doc\n",
    "\n",
    "from types import MethodType"
   ]
  },
  {
   "cell_type": "code",
   "execution_count": null,
   "metadata": {},
   "outputs": [],
   "source": [
    "class BasicTransform():\n",
    "    def __call__(self, *args, **kwargs):\n",
    "        return self.encode(*args, **kwargs)\n",
    "    def decode  (self, *args, **kwargs):\n",
    "        return self.decode(*args, **kwargs)"
   ]
  },
  {
   "cell_type": "code",
   "execution_count": null,
   "metadata": {},
   "outputs": [],
   "source": [
    "#Apply on the tuple as a whole\n",
    "class A(BasicTransform): \n",
    "    def encode(self, x, y): return (x+y,y)\n",
    "    def decode(self, x, y): return (x-y,y)\n",
    "\n",
    "addt = A()\n",
    "t = addt(1,2)\n",
    "test_eq(t, (3,2))\n",
    "test_eq(addt.decode(*t), (1,2))"
   ]
  },
  {
   "cell_type": "code",
   "execution_count": null,
   "metadata": {},
   "outputs": [],
   "source": [
    "class TupleTransform(BasicTransform):\n",
    "    def encode(self, x, *args, **kwargs):\n",
    "        if args: return [self.encodes(x_, **kwargs) for x_ in (x,)+args]\n",
    "        return self.encodes(x, **kwargs)\n",
    "\n",
    "    def decode(self, x, *args, **kwargs):\n",
    "        if args: return [self.decodes(x_, **kwargs) for x_ in (x,)+args]\n",
    "        return self.decodes(x, **kwargs)"
   ]
  },
  {
   "cell_type": "code",
   "execution_count": null,
   "metadata": {},
   "outputs": [],
   "source": [
    "#export\n",
    "cmp_instance = functools.cmp_to_key(lambda a,b: 0 if a==b else 1 if issubclass(a,b) else -1)"
   ]
  },
  {
   "cell_type": "code",
   "execution_count": null,
   "metadata": {},
   "outputs": [],
   "source": [
    "td = {int:1, numbers.Number:2, numbers.Integral:3}\n",
    "test_eq(sorted(td, key=cmp_instance), [numbers.Number, numbers.Integral, int])"
   ]
  },
  {
   "cell_type": "code",
   "execution_count": null,
   "metadata": {},
   "outputs": [],
   "source": [
    "#export\n",
    "def param_anno(f, idx=0):\n",
    "    \"Get the annotation of parameter `idx` param of `f`\"\n",
    "    t = list(inspect.signature(f).parameters.values())[idx].annotation\n",
    "    return None if t==inspect.Parameter.empty else t"
   ]
  },
  {
   "cell_type": "code",
   "execution_count": null,
   "metadata": {},
   "outputs": [],
   "source": [
    "def _f(a, b:str)->float: pass\n",
    "test_eq(param_anno(_f, 1), str)\n",
    "test_eq(param_anno(_f, 0), None)"
   ]
  },
  {
   "cell_type": "code",
   "execution_count": null,
   "metadata": {},
   "outputs": [],
   "source": [
    "class FuncTransform(TupleTransform):\n",
    "    def __init__(self, enc=None, dec=None):\n",
    "        if enc: self.enc = enc\n",
    "        if dec: self.dec = dec\n",
    "        self.t_enc = param_anno(self.enc) or object\n",
    "        self.t_dec = param_anno(self.dec) or object\n",
    "\n",
    "    def encodes(self, x, *args, **kwargs):\n",
    "        return self.enc(x, *args, **kwargs) if isinstance(x,self.t_enc) else x\n",
    "    def decodes(self, x, *args, **kwargs):\n",
    "        return self.dec(x, *args, **kwargs) if isinstance(x,self.t_dec) else x\n",
    "\n",
    "    def enc(self, x, *args, **kwargs): return x\n",
    "    def dec(self, x, *args, **kwargs): return x"
   ]
  },
  {
   "cell_type": "code",
   "execution_count": null,
   "metadata": {},
   "outputs": [],
   "source": [
    "d = FuncTransform(operator.neg, operator.neg)\n",
    "test_eq(d(1), -1)\n",
    "test_eq(d.decode(1), -1)"
   ]
  },
  {
   "cell_type": "code",
   "execution_count": null,
   "metadata": {},
   "outputs": [],
   "source": [
    "def neg_int(x:numbers.Integral): return -x\n",
    "\n",
    "d = FuncTransform(neg_int)\n",
    "test_eq(d(1), -1)\n",
    "test_eq(d(1.), 1.)\n",
    "test_eq(d(1.,2,3.), [1.,-2,3.])\n",
    "test_eq(d.decode(1), 1)"
   ]
  },
  {
   "cell_type": "code",
   "execution_count": null,
   "metadata": {},
   "outputs": [],
   "source": [
    "class TypeDispatch:\n",
    "    \"Dictionary-like object; `__getitem__` matches keys of types using `issubclass`\"\n",
    "    def __init__(self, funcs=None):\n",
    "        self.funcs = funcs or {}\n",
    "        self._reset()\n",
    "        \n",
    "    def _reset(self):\n",
    "        self.funcs = {k:self.funcs[k] for k in sorted(self.funcs, key=cmp_instance, reverse=True)}\n",
    "        self.cache = {**self.funcs}\n",
    "        \n",
    "    def add(self, t, f):\n",
    "        \"Add type `t` and function `f`\"\n",
    "        self.funcs[t] = f\n",
    "        self._reset()\n",
    "        \n",
    "    def __repr__(self): return str(self.funcs)\n",
    "    def __getitem__(self, k):\n",
    "        \"Find first matching type that is a super-class of `k`\"\n",
    "        if k in self.cache: return self.cache[k]\n",
    "        types = [f for f in self.funcs if issubclass(k,f)]\n",
    "        res = self.funcs[types[0]] if types else None\n",
    "        self.cache[k] = res\n",
    "        return res"
   ]
  },
  {
   "cell_type": "code",
   "execution_count": null,
   "metadata": {},
   "outputs": [],
   "source": [
    "td = {int:1, numbers.Number:2, numbers.Integral:3}\n",
    "t = TypeDispatch(td)\n",
    "\n",
    "test_eq(t[int], 1)\n",
    "test_eq(t[str], None)\n",
    "test_eq(t[float], 2)\n",
    "t.add(typing.Collection, 4)\n",
    "test_eq(t[str], 4)\n",
    "test_eq(t[int], 1)"
   ]
  },
  {
   "cell_type": "code",
   "execution_count": null,
   "metadata": {},
   "outputs": [],
   "source": [
    "class TfmMeta(type):\n",
    "    def __new__(cls, name, bases, dct):\n",
    "        res = super().__new__(cls, name, bases, dct)\n",
    "        res.enc,res.dec = TypeDispatch(),TypeDispatch()\n",
    "        return res\n",
    "\n",
    "    def __call__(cls, *args, **kwargs):\n",
    "        f = args[0] if args else None\n",
    "        if isinstance(f,Callable) and f.__name__ in ('decode','encode','_'):\n",
    "            d = cls.dec if f.__name__ == 'decode' else cls.enc\n",
    "            d.add(param_anno(f) or object, f)\n",
    "            return f\n",
    "        return super().__call__(*args, **kwargs)"
   ]
  },
  {
   "cell_type": "code",
   "execution_count": null,
   "metadata": {},
   "outputs": [],
   "source": [
    "class Transform(BasicTransform, metaclass=TfmMeta):\n",
    "    def lookup(self, is_enc, x):\n",
    "        d = self.enc if is_enc else self.dec\n",
    "        return d[type(x)] or noops\n",
    "#         try: return d[next(t for t in type(x).mro() if t in d)]\n",
    "#         except StopIteration: return noops\n",
    "    \n",
    "    def _f(self, is_enc, x, *args, **kwargs):\n",
    "        f = MethodType(self.lookup(is_enc, x), self)\n",
    "        return f(x, *args, **kwargs)\n",
    "\n",
    "    def __call__(self, x, *args, **kwargs):\n",
    "        if args: return [self._f(True , x_, **kwargs) for x_ in (x,)+args]\n",
    "        return self._f(True, x, **kwargs)\n",
    "\n",
    "    def decode  (self, x, *args, **kwargs):\n",
    "        if args: return [self._f(False, x_, **kwargs) for x_ in (x,)+args]\n",
    "        return self._f(False, x, **kwargs)"
   ]
  },
  {
   "cell_type": "code",
   "execution_count": null,
   "metadata": {},
   "outputs": [
    {
     "data": {
      "text/plain": [
       "{<class 'object'>: <function _ at 0x7fa7a694d268>}"
      ]
     },
     "execution_count": null,
     "metadata": {},
     "output_type": "execute_result"
    }
   ],
   "source": [
    "b.enc"
   ]
  },
  {
   "cell_type": "code",
   "execution_count": null,
   "metadata": {},
   "outputs": [
    {
     "ename": "TypeError",
     "evalue": "unsupported operand type(s) for +: 'int' and 'str'",
     "output_type": "error",
     "traceback": [
      "\u001b[0;31m---------------------------------------------------------------------------\u001b[0m",
      "\u001b[0;31mTypeError\u001b[0m                                 Traceback (most recent call last)",
      "\u001b[0;32m<ipython-input-57-0179b9d8706c>\u001b[0m in \u001b[0;36m<module>\u001b[0;34m\u001b[0m\n\u001b[1;32m     10\u001b[0m \u001b[0;34m\u001b[0m\u001b[0m\n\u001b[1;32m     11\u001b[0m \u001b[0mb\u001b[0m\u001b[0;34m,\u001b[0m\u001b[0mc\u001b[0m \u001b[0;34m=\u001b[0m \u001b[0mB\u001b[0m\u001b[0;34m(\u001b[0m\u001b[0;34m)\u001b[0m\u001b[0;34m,\u001b[0m\u001b[0mC\u001b[0m\u001b[0;34m(\u001b[0m\u001b[0;34m)\u001b[0m\u001b[0;34m\u001b[0m\u001b[0;34m\u001b[0m\u001b[0m\n\u001b[0;32m---> 12\u001b[0;31m \u001b[0mtest_eq\u001b[0m\u001b[0;34m(\u001b[0m\u001b[0mb\u001b[0m\u001b[0;34m(\u001b[0m\u001b[0;36m1\u001b[0m\u001b[0;34m)\u001b[0m\u001b[0;34m,\u001b[0m \u001b[0;36m2\u001b[0m\u001b[0;34m)\u001b[0m\u001b[0;34m\u001b[0m\u001b[0;34m\u001b[0m\u001b[0m\n\u001b[0m\u001b[1;32m     13\u001b[0m \u001b[0mtest_eq\u001b[0m\u001b[0;34m(\u001b[0m\u001b[0mb\u001b[0m\u001b[0;34m(\u001b[0m\u001b[0;34m'1'\u001b[0m\u001b[0;34m)\u001b[0m\u001b[0;34m,\u001b[0m \u001b[0;34m'11'\u001b[0m\u001b[0;34m)\u001b[0m\u001b[0;34m\u001b[0m\u001b[0;34m\u001b[0m\u001b[0m\n\u001b[1;32m     14\u001b[0m \u001b[0mtest_eq\u001b[0m\u001b[0;34m(\u001b[0m\u001b[0mc\u001b[0m\u001b[0;34m(\u001b[0m\u001b[0;36m1\u001b[0m\u001b[0;34m)\u001b[0m\u001b[0;34m,\u001b[0m \u001b[0;36m1\u001b[0m\u001b[0;34m)\u001b[0m\u001b[0;34m\u001b[0m\u001b[0;34m\u001b[0m\u001b[0m\n",
      "\u001b[0;32m<ipython-input-56-1b3301018b2d>\u001b[0m in \u001b[0;36m__call__\u001b[0;34m(self, x, *args, **kwargs)\u001b[0m\n\u001b[1;32m     12\u001b[0m     \u001b[0;32mdef\u001b[0m \u001b[0m__call__\u001b[0m\u001b[0;34m(\u001b[0m\u001b[0mself\u001b[0m\u001b[0;34m,\u001b[0m \u001b[0mx\u001b[0m\u001b[0;34m,\u001b[0m \u001b[0;34m*\u001b[0m\u001b[0margs\u001b[0m\u001b[0;34m,\u001b[0m \u001b[0;34m**\u001b[0m\u001b[0mkwargs\u001b[0m\u001b[0;34m)\u001b[0m\u001b[0;34m:\u001b[0m\u001b[0;34m\u001b[0m\u001b[0;34m\u001b[0m\u001b[0m\n\u001b[1;32m     13\u001b[0m         \u001b[0;32mif\u001b[0m \u001b[0margs\u001b[0m\u001b[0;34m:\u001b[0m \u001b[0;32mreturn\u001b[0m \u001b[0;34m[\u001b[0m\u001b[0mself\u001b[0m\u001b[0;34m.\u001b[0m\u001b[0m_f\u001b[0m\u001b[0;34m(\u001b[0m\u001b[0;32mTrue\u001b[0m \u001b[0;34m,\u001b[0m \u001b[0mx_\u001b[0m\u001b[0;34m,\u001b[0m \u001b[0;34m**\u001b[0m\u001b[0mkwargs\u001b[0m\u001b[0;34m)\u001b[0m \u001b[0;32mfor\u001b[0m \u001b[0mx_\u001b[0m \u001b[0;32min\u001b[0m \u001b[0;34m(\u001b[0m\u001b[0mx\u001b[0m\u001b[0;34m,\u001b[0m\u001b[0;34m)\u001b[0m\u001b[0;34m+\u001b[0m\u001b[0margs\u001b[0m\u001b[0;34m]\u001b[0m\u001b[0;34m\u001b[0m\u001b[0;34m\u001b[0m\u001b[0m\n\u001b[0;32m---> 14\u001b[0;31m         \u001b[0;32mreturn\u001b[0m \u001b[0mself\u001b[0m\u001b[0;34m.\u001b[0m\u001b[0m_f\u001b[0m\u001b[0;34m(\u001b[0m\u001b[0;32mTrue\u001b[0m\u001b[0;34m,\u001b[0m \u001b[0mx\u001b[0m\u001b[0;34m,\u001b[0m \u001b[0;34m**\u001b[0m\u001b[0mkwargs\u001b[0m\u001b[0;34m)\u001b[0m\u001b[0;34m\u001b[0m\u001b[0;34m\u001b[0m\u001b[0m\n\u001b[0m\u001b[1;32m     15\u001b[0m \u001b[0;34m\u001b[0m\u001b[0m\n\u001b[1;32m     16\u001b[0m     \u001b[0;32mdef\u001b[0m \u001b[0mdecode\u001b[0m  \u001b[0;34m(\u001b[0m\u001b[0mself\u001b[0m\u001b[0;34m,\u001b[0m \u001b[0mx\u001b[0m\u001b[0;34m,\u001b[0m \u001b[0;34m*\u001b[0m\u001b[0margs\u001b[0m\u001b[0;34m,\u001b[0m \u001b[0;34m**\u001b[0m\u001b[0mkwargs\u001b[0m\u001b[0;34m)\u001b[0m\u001b[0;34m:\u001b[0m\u001b[0;34m\u001b[0m\u001b[0;34m\u001b[0m\u001b[0m\n",
      "\u001b[0;32m<ipython-input-56-1b3301018b2d>\u001b[0m in \u001b[0;36m_f\u001b[0;34m(self, is_enc, x, *args, **kwargs)\u001b[0m\n\u001b[1;32m      8\u001b[0m     \u001b[0;32mdef\u001b[0m \u001b[0m_f\u001b[0m\u001b[0;34m(\u001b[0m\u001b[0mself\u001b[0m\u001b[0;34m,\u001b[0m \u001b[0mis_enc\u001b[0m\u001b[0;34m,\u001b[0m \u001b[0mx\u001b[0m\u001b[0;34m,\u001b[0m \u001b[0;34m*\u001b[0m\u001b[0margs\u001b[0m\u001b[0;34m,\u001b[0m \u001b[0;34m**\u001b[0m\u001b[0mkwargs\u001b[0m\u001b[0;34m)\u001b[0m\u001b[0;34m:\u001b[0m\u001b[0;34m\u001b[0m\u001b[0;34m\u001b[0m\u001b[0m\n\u001b[1;32m      9\u001b[0m         \u001b[0mf\u001b[0m \u001b[0;34m=\u001b[0m \u001b[0mMethodType\u001b[0m\u001b[0;34m(\u001b[0m\u001b[0mself\u001b[0m\u001b[0;34m.\u001b[0m\u001b[0mlookup\u001b[0m\u001b[0;34m(\u001b[0m\u001b[0mis_enc\u001b[0m\u001b[0;34m,\u001b[0m \u001b[0mx\u001b[0m\u001b[0;34m)\u001b[0m\u001b[0;34m,\u001b[0m \u001b[0mself\u001b[0m\u001b[0;34m)\u001b[0m\u001b[0;34m\u001b[0m\u001b[0;34m\u001b[0m\u001b[0m\n\u001b[0;32m---> 10\u001b[0;31m         \u001b[0;32mreturn\u001b[0m \u001b[0mf\u001b[0m\u001b[0;34m(\u001b[0m\u001b[0mx\u001b[0m\u001b[0;34m,\u001b[0m \u001b[0;34m*\u001b[0m\u001b[0margs\u001b[0m\u001b[0;34m,\u001b[0m \u001b[0;34m**\u001b[0m\u001b[0mkwargs\u001b[0m\u001b[0;34m)\u001b[0m\u001b[0;34m\u001b[0m\u001b[0;34m\u001b[0m\u001b[0m\n\u001b[0m\u001b[1;32m     11\u001b[0m \u001b[0;34m\u001b[0m\u001b[0m\n\u001b[1;32m     12\u001b[0m     \u001b[0;32mdef\u001b[0m \u001b[0m__call__\u001b[0m\u001b[0;34m(\u001b[0m\u001b[0mself\u001b[0m\u001b[0;34m,\u001b[0m \u001b[0mx\u001b[0m\u001b[0;34m,\u001b[0m \u001b[0;34m*\u001b[0m\u001b[0margs\u001b[0m\u001b[0;34m,\u001b[0m \u001b[0;34m**\u001b[0m\u001b[0mkwargs\u001b[0m\u001b[0;34m)\u001b[0m\u001b[0;34m:\u001b[0m\u001b[0;34m\u001b[0m\u001b[0;34m\u001b[0m\u001b[0m\n",
      "\u001b[0;32m<ipython-input-57-0179b9d8706c>\u001b[0m in \u001b[0;36m_\u001b[0;34m(self, x)\u001b[0m\n\u001b[1;32m      7\u001b[0m \u001b[0;32mdef\u001b[0m \u001b[0m_\u001b[0m\u001b[0;34m(\u001b[0m\u001b[0mself\u001b[0m\u001b[0;34m,\u001b[0m \u001b[0mx\u001b[0m\u001b[0;34m:\u001b[0m\u001b[0mint\u001b[0m\u001b[0;34m)\u001b[0m\u001b[0;34m:\u001b[0m  \u001b[0;32mreturn\u001b[0m \u001b[0mx\u001b[0m\u001b[0;34m+\u001b[0m\u001b[0;36m1\u001b[0m\u001b[0;34m\u001b[0m\u001b[0;34m\u001b[0m\u001b[0m\n\u001b[1;32m      8\u001b[0m \u001b[0;34m@\u001b[0m\u001b[0mB\u001b[0m\u001b[0;34m\u001b[0m\u001b[0;34m\u001b[0m\u001b[0m\n\u001b[0;32m----> 9\u001b[0;31m \u001b[0;32mdef\u001b[0m \u001b[0m_\u001b[0m\u001b[0;34m(\u001b[0m\u001b[0mself\u001b[0m\u001b[0;34m,\u001b[0m \u001b[0mx\u001b[0m\u001b[0;34m:\u001b[0m\u001b[0mstr\u001b[0m\u001b[0;34m)\u001b[0m\u001b[0;34m:\u001b[0m \u001b[0;32mreturn\u001b[0m \u001b[0mx\u001b[0m\u001b[0;34m+\u001b[0m\u001b[0;34m'1'\u001b[0m\u001b[0;34m\u001b[0m\u001b[0;34m\u001b[0m\u001b[0m\n\u001b[0m\u001b[1;32m     10\u001b[0m \u001b[0;34m\u001b[0m\u001b[0m\n\u001b[1;32m     11\u001b[0m \u001b[0mb\u001b[0m\u001b[0;34m,\u001b[0m\u001b[0mc\u001b[0m \u001b[0;34m=\u001b[0m \u001b[0mB\u001b[0m\u001b[0;34m(\u001b[0m\u001b[0;34m)\u001b[0m\u001b[0;34m,\u001b[0m\u001b[0mC\u001b[0m\u001b[0;34m(\u001b[0m\u001b[0;34m)\u001b[0m\u001b[0;34m\u001b[0m\u001b[0;34m\u001b[0m\u001b[0m\n",
      "\u001b[0;31mTypeError\u001b[0m: unsupported operand type(s) for +: 'int' and 'str'"
     ]
    }
   ],
   "source": [
    "class B(Transform): pass\n",
    "class C(Transform): pass\n",
    "b = B()\n",
    "test_eq(b(1), 1)\n",
    "\n",
    "@B\n",
    "def _(self, x:int):  return x+1\n",
    "@B\n",
    "def _(self, x:str): return x+'1'\n",
    "\n",
    "b,c = B(),C()\n",
    "test_eq(b(1), 2)\n",
    "test_eq(b('1'), '11')\n",
    "test_eq(c(1), 1)\n",
    "test_eq(b.decode(2), 2)\n",
    "assert pickle.loads(pickle.dumps(b))"
   ]
  },
  {
   "cell_type": "code",
   "execution_count": null,
   "metadata": {},
   "outputs": [],
   "source": [
    "@B\n",
    "def decode(self, x:int): return x-1\n",
    "test_eq(b.decode(2), 1)\n",
    "test_eq(b.decode('2'), '2')"
   ]
  },
  {
   "cell_type": "code",
   "execution_count": null,
   "metadata": {},
   "outputs": [],
   "source": [
    "start = (1.,2,3.)\n",
    "t = d(*start)\n",
    "test_eq(t, (-1.,2,-3.))\n",
    "test_eq(d.decode(*t), (-1.,2,-3.))"
   ]
  },
  {
   "cell_type": "code",
   "execution_count": null,
   "metadata": {},
   "outputs": [],
   "source": [
    "#Apply on all part of the tuple\n",
    "class A(Transform): pass\n",
    "@A\n",
    "def _(self, x): return x+1\n",
    "@A\n",
    "def decode(self, x): return x-1\n",
    "\n",
    "addt = A()\n",
    "t = addt(1,2)\n",
    "test_eq(t, (2,3))\n",
    "test_eq(addt.decode(*t), (1,2))"
   ]
  },
  {
   "cell_type": "code",
   "execution_count": null,
   "metadata": {},
   "outputs": [],
   "source": [
    "class FuncTransform(TupleTransform):\n",
    "    def __init__(self, enc=None, dec=None):\n",
    "        if enc: self.enc = enc\n",
    "        if dec: self.dec = dec\n",
    "        self.t_enc,self.t_dec = _p1_anno(self.enc),_p1_anno(self.dec)\n",
    "\n",
    "    def encodes(self, x, *args, **kwargs):\n",
    "        return self.enc(x, *args, **kwargs) if isinstance(x,self.t_enc) else x\n",
    "    def decodes(self, x, *args, **kwargs):\n",
    "        return self.dec(x, *args, **kwargs) if isinstance(x,self.t_dec) else x\n",
    "\n",
    "    def enc(self, x, *args, **kwargs): return x\n",
    "    def dec(self, x, *args, **kwargs): return x"
   ]
  },
  {
   "cell_type": "code",
   "execution_count": null,
   "metadata": {},
   "outputs": [],
   "source": [
    "d = FuncTransform(operator.neg, operator.neg)\n",
    "test_eq(d(1), -1)\n",
    "test_eq(d.decode(1), -1)"
   ]
  },
  {
   "cell_type": "code",
   "execution_count": null,
   "metadata": {},
   "outputs": [],
   "source": [
    "def neg_float(x:float): return -x\n",
    "\n",
    "d = FuncTransform(neg_float)\n",
    "test_eq(d(1), 1)\n",
    "test_eq(d(1.0), -1.0)\n",
    "test_eq(d.decode(1), 1)"
   ]
  },
  {
   "cell_type": "code",
   "execution_count": null,
   "metadata": {},
   "outputs": [],
   "source": [
    "#Apply on all integers of the tuple\n",
    "#Also note that your tuples can have more than two elements\n",
    "class A(Transform): pass\n",
    "@A\n",
    "def _(self, x:int): return x+1\n",
    "@A\n",
    "def _(self, x:float): return x*3\n",
    "@A\n",
    "def decode(self, x:int): return x-1\n",
    "\n",
    "addt = A()\n",
    "start = 1.0\n",
    "t = addt(start)\n",
    "test_eq(t, 3.)\n",
    "test_eq(addt.decode(t), 3)"
   ]
  },
  {
   "cell_type": "code",
   "execution_count": null,
   "metadata": {},
   "outputs": [],
   "source": [
    "start = (1.,2,3.)\n",
    "t = addt(*start)\n",
    "test_eq(t, (3.,3,9.))\n",
    "test_eq(addt.decode(*t), (3.,2,9.))"
   ]
  },
  {
   "cell_type": "markdown",
   "metadata": {},
   "source": [
    "Using the encodes method of TensorImage in the encodes method of TensorMask\n",
    "\n",
    "It's used in PILFlip, PILDihedral and AffineCoordTfm IIRC"
   ]
  },
  {
   "cell_type": "code",
   "execution_count": null,
   "metadata": {},
   "outputs": [],
   "source": [
    "#export\n",
    "def n_params(f):\n",
    "    \"Count of positional params\"\n",
    "    return len([p for p in inspect.signature(f).parameters.values()\n",
    "                if p.default == inspect.Parameter.empty and p.kind != inspect.Parameter.VAR_KEYWORD])"
   ]
  }
 ],
 "metadata": {
  "kernelspec": {
   "display_name": "Python 3",
   "language": "python",
   "name": "python3"
  }
 },
 "nbformat": 4,
 "nbformat_minor": 2
}
