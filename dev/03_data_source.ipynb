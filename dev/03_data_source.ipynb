{
 "cells": [
  {
   "cell_type": "code",
   "execution_count": null,
   "metadata": {},
   "outputs": [],
   "source": [
    "#default_exp data.source"
   ]
  },
  {
   "cell_type": "code",
   "execution_count": null,
   "metadata": {},
   "outputs": [],
   "source": [
    "from fastai_local.imports import *\n",
    "from fastai_local.test import *\n",
    "from fastai_local.core import *\n",
    "from fastai_local.data.pipeline import *"
   ]
  },
  {
   "cell_type": "markdown",
   "metadata": {},
   "source": [
    "## DataSource -"
   ]
  },
  {
   "cell_type": "code",
   "execution_count": null,
   "metadata": {},
   "outputs": [],
   "source": [
    "# export\n",
    "@doc\n",
    "class DataSource():\n",
    "    \"Applies a `Pipeline` of `tfms` to filtered subsets of `items`\"\n",
    "    def __init__(self, items, tfms=noop, filts=None):\n",
    "        if filts is None: filts = [range_of(items)]\n",
    "        ft = mask2idxs if isinstance(filts[0][0], bool) else listify\n",
    "        self.filts = listify(ft(filt) for filt in filts)\n",
    "        self.items,self.tfm = listify(items),Pipeline(tfms)\n",
    "        self.tfm.setup(self)\n",
    "        \n",
    "    def __len__(self): return len(self.filts)\n",
    "    def len(self, filt=0): return len(self.filts[filt])\n",
    "    def __getitem__(self, i): return FilteredList(self, i)\n",
    "    def decode(self, o, filt=0, **kwargs): return self.tfm.decode(o, filt=filt, **kwargs)\n",
    "    def decoded(self, idx, filt=0): return self.decode(self.get(idx,filt), filt)\n",
    "    def __iter__(self): return (self[i] for i in range_of(self))\n",
    "    \n",
    "    def get(self, idx, filt=0):\n",
    "        if hasattr(idx,'__len__') and getattr(idx,'ndim',1):\n",
    "            # rank>0 collection\n",
    "            if isinstance(idx[0],bool): idx = mask2idxs(idx)\n",
    "            return [self.get(i,filt) for i in idx]  # index list\n",
    "        it = self.items[self.filts[filt][idx]]\n",
    "        return self.tfm(it, filt=filt)\n",
    "\n",
    "    def __eq__(self,b):\n",
    "        if not isinstance(b,DataSource): b = DataSource(b)\n",
    "        return len(b) == len(self) and all(o==p for o,p in zip(self,b))\n",
    "\n",
    "    def __repr__(self):\n",
    "        res = f'{self.__class__.__name__}\\n'\n",
    "        for i,o in enumerate(self): res += f'{i}: {coll_repr(o)}'\n",
    "        return res\n",
    "    \n",
    "    @property\n",
    "    def train(self): return self[0]\n",
    "    @property\n",
    "    def valid(self): return self[1]\n",
    "    \n",
    "    _doc=dict(\n",
    "        __len__=\"Number of filtered subsets\",\n",
    "        len=\"`len` of subset `filt`\",\n",
    "        __getitem__=\"Filtered subset `i`\",\n",
    "        decode=\"Decode `o` passing `filt`\",\n",
    "        decoded=\"Decoded version of `get`\",\n",
    "        __iter__=\"Iterator for each filtered subset\",\n",
    "        get=\"Value(s) is `idx` from filtered subset `filt`\",\n",
    "    )"
   ]
  },
  {
   "cell_type": "code",
   "execution_count": null,
   "metadata": {},
   "outputs": [
    {
     "data": {
      "text/markdown": [
       "<h4 id=\"DataSource.get\" class=\"doc_header\"><code>get</code><a class=\"source_link\" data-toggle=\"collapse\" data-target=\"#DataSource-get-pytest\" style=\"float:right; padding-right:10px\">[test]</a></h4>\n",
       "\n",
       "> <code>get</code>(**`idx`**, **`filt`**=***`0`***)\n",
       "\n",
       "<div class=\"collapse\" id=\"DataSource-get-pytest\"><div class=\"card card-body pytest_card\"><a type=\"button\" data-toggle=\"collapse\" data-target=\"#DataSource-get-pytest\" class=\"close\" aria-label=\"Close\"><span aria-hidden=\"true\">&times;</span></a><p>No tests found for <code>get</code>. To contribute a test please refer to <a href=\"/dev/test.html\">this guide</a> and <a href=\"https://forums.fast.ai/t/improving-expanding-functional-tests/32929\">this discussion</a>.</p></div></div>\n",
       "\n",
       "Value(s) is `idx` from filtered subset `filt`  "
      ],
      "text/plain": [
       "<IPython.core.display.Markdown object>"
      ]
     },
     "metadata": {},
     "output_type": "display_data"
    }
   ],
   "source": [
    "show_doc(DataSource.get)"
   ]
  },
  {
   "cell_type": "code",
   "execution_count": null,
   "metadata": {},
   "outputs": [
    {
     "data": {
      "text/markdown": [
       "<h4 id=\"DataSource.decoded\" class=\"doc_header\"><code>decoded</code><a class=\"source_link\" data-toggle=\"collapse\" data-target=\"#DataSource-decoded-pytest\" style=\"float:right; padding-right:10px\">[test]</a></h4>\n",
       "\n",
       "> <code>decoded</code>(**`idx`**, **`filt`**=***`0`***)\n",
       "\n",
       "<div class=\"collapse\" id=\"DataSource-decoded-pytest\"><div class=\"card card-body pytest_card\"><a type=\"button\" data-toggle=\"collapse\" data-target=\"#DataSource-decoded-pytest\" class=\"close\" aria-label=\"Close\"><span aria-hidden=\"true\">&times;</span></a><p>No tests found for <code>decoded</code>. To contribute a test please refer to <a href=\"/dev/test.html\">this guide</a> and <a href=\"https://forums.fast.ai/t/improving-expanding-functional-tests/32929\">this discussion</a>.</p></div></div>\n",
       "\n",
       "Decoded version of `get`  "
      ],
      "text/plain": [
       "<IPython.core.display.Markdown object>"
      ]
     },
     "metadata": {},
     "output_type": "display_data"
    }
   ],
   "source": [
    "show_doc(DataSource.decoded)"
   ]
  },
  {
   "cell_type": "code",
   "execution_count": null,
   "metadata": {},
   "outputs": [
    {
     "data": {
      "text/markdown": [
       "<h4 id=\"DataSource.__getitem__\" class=\"doc_header\"><code>__getitem__</code><a class=\"source_link\" data-toggle=\"collapse\" data-target=\"#DataSource-__getitem__-pytest\" style=\"float:right; padding-right:10px\">[test]</a></h4>\n",
       "\n",
       "> <code>__getitem__</code>(**`i`**)\n",
       "\n",
       "<div class=\"collapse\" id=\"DataSource-__getitem__-pytest\"><div class=\"card card-body pytest_card\"><a type=\"button\" data-toggle=\"collapse\" data-target=\"#DataSource-__getitem__-pytest\" class=\"close\" aria-label=\"Close\"><span aria-hidden=\"true\">&times;</span></a><p>No tests found for <code>__getitem__</code>. To contribute a test please refer to <a href=\"/dev/test.html\">this guide</a> and <a href=\"https://forums.fast.ai/t/improving-expanding-functional-tests/32929\">this discussion</a>.</p></div></div>\n",
       "\n",
       "Filtered subset `i`  "
      ],
      "text/plain": [
       "<IPython.core.display.Markdown object>"
      ]
     },
     "metadata": {},
     "output_type": "display_data"
    }
   ],
   "source": [
    "show_doc(DataSource.__getitem__)"
   ]
  },
  {
   "cell_type": "code",
   "execution_count": null,
   "metadata": {},
   "outputs": [
    {
     "data": {
      "text/markdown": [
       "<h4 id=\"DataSource.__len__\" class=\"doc_header\"><code>__len__</code><a class=\"source_link\" data-toggle=\"collapse\" data-target=\"#DataSource-__len__-pytest\" style=\"float:right; padding-right:10px\">[test]</a></h4>\n",
       "\n",
       "> <code>__len__</code>()\n",
       "\n",
       "<div class=\"collapse\" id=\"DataSource-__len__-pytest\"><div class=\"card card-body pytest_card\"><a type=\"button\" data-toggle=\"collapse\" data-target=\"#DataSource-__len__-pytest\" class=\"close\" aria-label=\"Close\"><span aria-hidden=\"true\">&times;</span></a><p>No tests found for <code>__len__</code>. To contribute a test please refer to <a href=\"/dev/test.html\">this guide</a> and <a href=\"https://forums.fast.ai/t/improving-expanding-functional-tests/32929\">this discussion</a>.</p></div></div>\n",
       "\n",
       "Number of filtered subsets  "
      ],
      "text/plain": [
       "<IPython.core.display.Markdown object>"
      ]
     },
     "metadata": {},
     "output_type": "display_data"
    }
   ],
   "source": [
    "show_doc(DataSource.__len__)"
   ]
  },
  {
   "cell_type": "code",
   "execution_count": null,
   "metadata": {},
   "outputs": [
    {
     "data": {
      "text/markdown": [
       "<h4 id=\"DataSource.__iter__\" class=\"doc_header\"><code>__iter__</code><a class=\"source_link\" data-toggle=\"collapse\" data-target=\"#DataSource-__iter__-pytest\" style=\"float:right; padding-right:10px\">[test]</a></h4>\n",
       "\n",
       "> <code>__iter__</code>()\n",
       "\n",
       "<div class=\"collapse\" id=\"DataSource-__iter__-pytest\"><div class=\"card card-body pytest_card\"><a type=\"button\" data-toggle=\"collapse\" data-target=\"#DataSource-__iter__-pytest\" class=\"close\" aria-label=\"Close\"><span aria-hidden=\"true\">&times;</span></a><p>No tests found for <code>__iter__</code>. To contribute a test please refer to <a href=\"/dev/test.html\">this guide</a> and <a href=\"https://forums.fast.ai/t/improving-expanding-functional-tests/32929\">this discussion</a>.</p></div></div>\n",
       "\n",
       "Iterator for each filtered subset  "
      ],
      "text/plain": [
       "<IPython.core.display.Markdown object>"
      ]
     },
     "metadata": {},
     "output_type": "display_data"
    }
   ],
   "source": [
    "show_doc(DataSource.__iter__)"
   ]
  },
  {
   "cell_type": "code",
   "execution_count": null,
   "metadata": {},
   "outputs": [
    {
     "data": {
      "text/markdown": [
       "<h4 id=\"DataSource.len\" class=\"doc_header\"><code>len</code><a class=\"source_link\" data-toggle=\"collapse\" data-target=\"#DataSource-len-pytest\" style=\"float:right; padding-right:10px\">[test]</a></h4>\n",
       "\n",
       "> <code>len</code>(**`filt`**=***`0`***)\n",
       "\n",
       "<div class=\"collapse\" id=\"DataSource-len-pytest\"><div class=\"card card-body pytest_card\"><a type=\"button\" data-toggle=\"collapse\" data-target=\"#DataSource-len-pytest\" class=\"close\" aria-label=\"Close\"><span aria-hidden=\"true\">&times;</span></a><p>No tests found for <code>len</code>. To contribute a test please refer to <a href=\"/dev/test.html\">this guide</a> and <a href=\"https://forums.fast.ai/t/improving-expanding-functional-tests/32929\">this discussion</a>.</p></div></div>\n",
       "\n",
       "`len` of subset `filt`  "
      ],
      "text/plain": [
       "<IPython.core.display.Markdown object>"
      ]
     },
     "metadata": {},
     "output_type": "display_data"
    }
   ],
   "source": [
    "show_doc(DataSource.len)"
   ]
  },
  {
   "cell_type": "code",
   "execution_count": null,
   "metadata": {},
   "outputs": [
    {
     "data": {
      "text/markdown": [
       "<h4 id=\"DataSource.decode\" class=\"doc_header\"><code>decode</code><a class=\"source_link\" data-toggle=\"collapse\" data-target=\"#DataSource-decode-pytest\" style=\"float:right; padding-right:10px\">[test]</a></h4>\n",
       "\n",
       "> <code>decode</code>(**`o`**, **`filt`**=***`0`***, **\\*\\*`kwargs`**)\n",
       "\n",
       "<div class=\"collapse\" id=\"DataSource-decode-pytest\"><div class=\"card card-body pytest_card\"><a type=\"button\" data-toggle=\"collapse\" data-target=\"#DataSource-decode-pytest\" class=\"close\" aria-label=\"Close\"><span aria-hidden=\"true\">&times;</span></a><p>No tests found for <code>decode</code>. To contribute a test please refer to <a href=\"/dev/test.html\">this guide</a> and <a href=\"https://forums.fast.ai/t/improving-expanding-functional-tests/32929\">this discussion</a>.</p></div></div>\n",
       "\n",
       "Decode `o` passing `filt`  "
      ],
      "text/plain": [
       "<IPython.core.display.Markdown object>"
      ]
     },
     "metadata": {},
     "output_type": "display_data"
    }
   ],
   "source": [
    "show_doc(DataSource.decode)"
   ]
  },
  {
   "cell_type": "markdown",
   "metadata": {},
   "source": [
    "## TfmList -"
   ]
  },
  {
   "cell_type": "code",
   "execution_count": null,
   "metadata": {},
   "outputs": [],
   "source": [
    "#export\n",
    "class TfmList():\n",
    "    def __init__(self, ttfms, tfm=noop):\n",
    "        self.activ,self.ttfms = False,[Transforms(tfm) for tfm in listify(ttfms)]\n",
    "\n",
    "    def __call__(self, o, **kwargs):\n",
    "        if self.activ: return self.activ(o, **kwargs)\n",
    "        return [t(o, **kwargs) for t in self.ttfms]\n",
    "    \n",
    "    def decode(self, o, **kwargs): return [t.decode(p, **kwargs) for p,t in zip(o,self.ttfms)]\n",
    "\n",
    "    def setup(self, o):\n",
    "        for tfm in self.ttfms:\n",
    "            self.activ = tfm\n",
    "            tfm.setup(o)\n",
    "        self.activ=None\n",
    "        \n",
    "    def show(self, o, **kwargs): return show_xs(o, self.ttfms, **kwargs)\n",
    "    def __repr__(self): return f'TfmList({self.ttfms})'\n",
    "    \n",
    "    @property\n",
    "    def xt(self): return self.ttfms[0]\n",
    "    @property\n",
    "    def yt(self): return self.ttfms[1]"
   ]
  },
  {
   "cell_type": "code",
   "execution_count": null,
   "metadata": {},
   "outputs": [],
   "source": []
  },
  {
   "cell_type": "code",
   "execution_count": null,
   "metadata": {},
   "outputs": [],
   "source": []
  }
 ],
 "metadata": {
  "kernelspec": {
   "display_name": "Python 3",
   "language": "python",
   "name": "python3"
  }
 },
 "nbformat": 4,
 "nbformat_minor": 2
}
