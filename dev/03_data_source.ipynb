{
 "cells": [
  {
   "cell_type": "code",
   "execution_count": null,
   "metadata": {},
   "outputs": [],
   "source": [
    "#default_exp data.source"
   ]
  },
  {
   "cell_type": "code",
   "execution_count": null,
   "metadata": {},
   "outputs": [],
   "source": [
    "#export\n",
    "from fastai_local.imports import *\n",
    "from fastai_local.test import *\n",
    "from fastai_local.core import *\n",
    "from fastai_local.data.pipeline import *"
   ]
  },
  {
   "cell_type": "markdown",
   "metadata": {},
   "source": [
    "# Data source\n",
    "> Base container for all the items"
   ]
  },
  {
   "cell_type": "markdown",
   "metadata": {},
   "source": [
    "## Convenience functions"
   ]
  },
  {
   "cell_type": "code",
   "execution_count": null,
   "metadata": {},
   "outputs": [],
   "source": [
    "# export\n",
    "def coll_repr(c, max=1000):\n",
    "    \"String repr of up to `max` items of (possibly lazy) collection `c`\"\n",
    "    return f'({len(c)} items) [' + ','.join(itertools.islice(map(str,c), 10)) + ('...'\n",
    "            if len(c)>10 else '') + ']'"
   ]
  },
  {
   "cell_type": "code",
   "execution_count": null,
   "metadata": {},
   "outputs": [],
   "source": [
    "test_eq(coll_repr(range(1000)), '(1000 items) [0,1,2,3,4,5,6,7,8,9...]')"
   ]
  },
  {
   "cell_type": "markdown",
   "metadata": {},
   "source": [
    "## ListContainer -"
   ]
  },
  {
   "cell_type": "code",
   "execution_count": null,
   "metadata": {},
   "outputs": [],
   "source": [
    "#export\n",
    "class ListContainer():\n",
    "    \"Behaves like a list of `items` but can also index with list of indices or masks\"\n",
    "    def __init__(self, items): self.items = listify(items)\n",
    "    def __len__(self): return len(self.items)\n",
    "    def __iter__(self): return iter(self.items)\n",
    "    def __setitem__(self, i, o): self.items[i] = o\n",
    "    def __delitem__(self, i): del(self.items[i])\n",
    "    def __repr__(self): return f'{self.__class__.__name__} {coll_repr(self)}'\n",
    "    def __eq__(self,b): return all_equal(b,self)\n",
    "    def __getitem__(self, idx):\n",
    "        if is_iter(idx): return [self.items[i] for i in mask2idxs(idx)]\n",
    "        return self.items[idx]"
   ]
  },
  {
   "cell_type": "code",
   "execution_count": null,
   "metadata": {},
   "outputs": [],
   "source": [
    "t = ListContainer(range(10))\n",
    "test_eq(t, list(range(10)))\n",
    "test_ne(t, list(range(11)))\n",
    "test_eq(t[[1,2]], [1,2])\n",
    "test_eq(t[[False]*8 + [True,False]], [8])\n",
    "test_eq(t[tensor(3)], 3)"
   ]
  },
  {
   "cell_type": "markdown",
   "metadata": {},
   "source": [
    "## DataSource -"
   ]
  },
  {
   "cell_type": "code",
   "execution_count": null,
   "metadata": {},
   "outputs": [],
   "source": [
    "# export\n",
    "class DataSource():\n",
    "    \"Applies a `Pipeline` of `tfms` to filtered subsets of `items`\"\n",
    "    def __init__(self, items, tfms=noop, filts=None):\n",
    "        if filts is None: filts = [range_of(items)]\n",
    "        self.filts = listify(ListContainer(mask2idxs(filt)) for filt in filts)\n",
    "        self.items,self.tfm = ListContainer(items),Pipeline(tfms)\n",
    "        self.tfm.setup(self)\n",
    "        \n",
    "    def __len__(self): return len(self.filts)\n",
    "    def len(self, filt=0): return len(self.filts[filt])\n",
    "    def __getitem__(self, i): return _DsrcSubset(self, i)\n",
    "    def decode(self, o, filt=0, **kwargs): return self.tfm.decode(o, filt=filt, **kwargs)\n",
    "    def decoded(self, idx, filt=0): return self.decode(self.get(idx,filt), filt)\n",
    "    def __iter__(self): return (self[i] for i in range_of(self))\n",
    "    def __eq__(self,b): return all_equal(b if isinstance(b,DataSource) else DataSource(b),self)\n",
    "    def show(self, o, filt=0, **kwargs): return self.tfm.show(self.decode(o, filt), **kwargs)\n",
    "\n",
    "    def get(self, idx, filt=0):\n",
    "        \"Value(s) at `idx` from filtered subset `filt`\"\n",
    "        it = self.items[self.filts[filt][idx]]\n",
    "        return [self.tfm(o, filt=filt) for o in it] if is_listy(it) else self.tfm(it, filt=filt)\n",
    "\n",
    "    def __repr__(self):\n",
    "        res = f'{self.__class__.__name__}\\n'\n",
    "        return res + '\\n'.join(f'{i}: {coll_repr(o)}' for i,o in enumerate(self))\n",
    "    \n",
    "    def decode_batch(self, b):\n",
    "        \"Decode a batch of `x,y` (i.e. from a `DataLoader`)\"\n",
    "        d = map(self.decode, zip(*b))\n",
    "        return list(zip(*d))\n",
    "\n",
    "DataSource.train,DataSource.valid = property(lambda x: x[0]),property(lambda x: x[1])"
   ]
  },
  {
   "cell_type": "code",
   "execution_count": null,
   "metadata": {},
   "outputs": [],
   "source": [
    "# export\n",
    "add_docs(\n",
    "    DataSource,\n",
    "    __len__=\"Number of filtered subsets\",\n",
    "    len=\"`len` of subset `filt`\",\n",
    "    __getitem__=\"Filtered subset `i`\",\n",
    "    decode=\"Decode `o` passing `filt`\",\n",
    "    decoded=\"Decoded version of `get`\",\n",
    "    __iter__=\"Iterator for each filtered subset\",\n",
    "    show=\"Call `tfm.show` on decoded `o`\"\n",
    ")"
   ]
  },
  {
   "cell_type": "code",
   "execution_count": null,
   "metadata": {},
   "outputs": [],
   "source": [
    "#export\n",
    "class _DsrcSubset:\n",
    "    def __init__(self, dsrc, filt): self.dsrc,self.filt = dsrc,filt\n",
    "    def __getitem__(self,i): return self.dsrc.get(i,self.filt)\n",
    "    def decode(self, o): return self.dsrc.decode(o, self.filt)\n",
    "    def __len__(self): return self.dsrc.len(self.filt)\n",
    "    def __eq__(self,b): return all_equal(b,self)\n",
    "    def __iter__(self): return (self[i] for i in range_of(self))\n",
    "    def __repr__(self): return coll_repr(self)\n",
    "    def show(self, o, **kwargs): return self.dsrc.show(o, self.filt, **kwargs)\n",
    "    def show_at(self, i, **kwargs): return self.show(self[i], **kwargs)"
   ]
  },
  {
   "cell_type": "markdown",
   "metadata": {},
   "source": [
    "A `DataSource` provides filtering and transformation capabilities to a list of items. If you don't pass any filters or transforms, it simply provides a single subset with the same behavior as a `ListContainer`."
   ]
  },
  {
   "cell_type": "code",
   "execution_count": null,
   "metadata": {},
   "outputs": [
    {
     "data": {
      "text/plain": [
       "DataSource\n",
       "0: (5 items) [0,1,2,3,4]"
      ]
     },
     "execution_count": null,
     "metadata": {},
     "output_type": "execute_result"
    }
   ],
   "source": [
    "inp = [0,1,2,3,4]\n",
    "dsrc = DataSource(inp)\n",
    "test_eq(dsrc,inp)               # No filters, so equal to input items\n",
    "test_eq(list(dsrc[0]), inp)     # Only one subset\n",
    "test_ne(dsrc, [0,1,2,3,5])\n",
    "test_eq(dsrc.get(2), 2)         # Retrieve one item (subset 0 is the default)\n",
    "test_eq(dsrc.get([1,2]), [1,2]) # Retrieve two items by index\n",
    "mask = [True,False,False,True,False]\n",
    "test_eq(dsrc.get(mask), [0,3])  # Retrieve two items by mask\n",
    "dsrc"
   ]
  },
  {
   "cell_type": "code",
   "execution_count": null,
   "metadata": {},
   "outputs": [
    {
     "data": {
      "text/plain": [
       "(5 items) [0,1,2,3,4]"
      ]
     },
     "execution_count": null,
     "metadata": {},
     "output_type": "execute_result"
    }
   ],
   "source": [
    "dsrc.train"
   ]
  },
  {
   "cell_type": "markdown",
   "metadata": {},
   "source": [
    "Passing `filts` allows you to create multiple subsets."
   ]
  },
  {
   "cell_type": "code",
   "execution_count": null,
   "metadata": {},
   "outputs": [
    {
     "data": {
      "text/plain": [
       "DataSource\n",
       "0: (3 items) [1,2,4]\n",
       "1: (3 items) [0,3,4]"
      ]
     },
     "execution_count": null,
     "metadata": {},
     "output_type": "execute_result"
    }
   ],
   "source": [
    "# filts can be indices\n",
    "dsrc = DataSource(range(5), filts=[tensor([0,2]), [1,3,4]])\n",
    "test_eq(list(dsrc[0]), [0,2])\n",
    "test_eq(list(dsrc[1]), [1,3,4])\n",
    "test_eq(dsrc.get(2,1), 4)       # item 2 of subset 1\n",
    "test_eq(dsrc[1][2], 4)          # item 2 of subset 1\n",
    "\n",
    "# filts can be boolean masks (masks don't have to be disjoint)\n",
    "filts = [[False,True,True,False,True], [True,False,False,True,True]]\n",
    "dsrc = DataSource(range(5), filts=filts)\n",
    "test_eq(list(dsrc[0]), [1,2,4])\n",
    "test_eq(list(dsrc[1]), [0,3,4])\n",
    "dsrc"
   ]
  },
  {
   "cell_type": "markdown",
   "metadata": {},
   "source": [
    "Pass `tfms` to have transformations applied before returning items."
   ]
  },
  {
   "cell_type": "code",
   "execution_count": null,
   "metadata": {},
   "outputs": [],
   "source": [
    "# apply transforms to all items\n",
    "tfms = [lambda x: x*2,lambda x: x+1]\n",
    "filts = [[1,2],[0,3,4]]\n",
    "dsrc = DataSource(range(5), tfms, filts=filts)\n",
    "test_eq(list(dsrc[0]),[3,5])\n",
    "test_eq(list(dsrc[1]),[1,7,9])\n",
    "test_eq(dsrc.get([False,True], 0), [5])"
   ]
  },
  {
   "cell_type": "markdown",
   "metadata": {},
   "source": [
    "The subset idx is also passed to your transform, so if it is an instance of `Transform` it will only be applied if the filt idx matches."
   ]
  },
  {
   "cell_type": "code",
   "execution_count": null,
   "metadata": {},
   "outputs": [],
   "source": [
    "# only transform subset 1\n",
    "class Tfm_(Transform):\n",
    "    def encodes(self, x): return x*2\n",
    "    def decodes(self, x): return x//2\n",
    "    def show(self, x): return f\" * {x}\"\n",
    "        \n",
    "tfm = Tfm_(filt=1)\n",
    "dsrc = DataSource(range(5), tfm, filts=[[1,2],[0,3,4]])\n",
    "test_eq(list(dsrc[0]),[1,2])\n",
    "test_eq(list(dsrc[1]),[0,6,8])\n",
    "test_eq(dsrc.get([False,True], 0), [2])"
   ]
  },
  {
   "cell_type": "code",
   "execution_count": null,
   "metadata": {},
   "outputs": [
    {
     "data": {
      "text/markdown": [
       "<h4 id=\"DataSource.get\" class=\"doc_header\"><code>get</code><a class=\"source_link\" data-toggle=\"collapse\" data-target=\"#DataSource-get-pytest\" style=\"float:right; padding-right:10px\">[test]</a></h4>\n",
       "\n",
       "> <code>get</code>(**`idx`**, **`filt`**=***`0`***)\n",
       "\n",
       "<div class=\"collapse\" id=\"DataSource-get-pytest\"><div class=\"card card-body pytest_card\"><a type=\"button\" data-toggle=\"collapse\" data-target=\"#DataSource-get-pytest\" class=\"close\" aria-label=\"Close\"><span aria-hidden=\"true\">&times;</span></a><p>No tests found for <code>get</code>. To contribute a test please refer to <a href=\"/dev/test.html\">this guide</a> and <a href=\"https://forums.fast.ai/t/improving-expanding-functional-tests/32929\">this discussion</a>.</p></div></div>\n",
       "\n",
       "Value(s) at `idx` from filtered subset `filt`  "
      ],
      "text/plain": [
       "<IPython.core.display.Markdown object>"
      ]
     },
     "metadata": {},
     "output_type": "display_data"
    }
   ],
   "source": [
    "show_doc(DataSource.get)"
   ]
  },
  {
   "cell_type": "markdown",
   "metadata": {},
   "source": [
    "`idx` can be an int, or list of ints, or a boolean mask."
   ]
  },
  {
   "cell_type": "code",
   "execution_count": null,
   "metadata": {},
   "outputs": [
    {
     "data": {
      "text/plain": [
       "([2], [2], 2)"
      ]
     },
     "execution_count": null,
     "metadata": {},
     "output_type": "execute_result"
    }
   ],
   "source": [
    "dsrc.get([False,True]), dsrc.get([1]), dsrc.get(1)"
   ]
  },
  {
   "cell_type": "code",
   "execution_count": null,
   "metadata": {},
   "outputs": [
    {
     "data": {
      "text/markdown": [
       "<h4 id=\"DataSource.decoded\" class=\"doc_header\"><code>decoded</code><a class=\"source_link\" data-toggle=\"collapse\" data-target=\"#DataSource-decoded-pytest\" style=\"float:right; padding-right:10px\">[test]</a></h4>\n",
       "\n",
       "> <code>decoded</code>(**`idx`**, **`filt`**=***`0`***)\n",
       "\n",
       "<div class=\"collapse\" id=\"DataSource-decoded-pytest\"><div class=\"card card-body pytest_card\"><a type=\"button\" data-toggle=\"collapse\" data-target=\"#DataSource-decoded-pytest\" class=\"close\" aria-label=\"Close\"><span aria-hidden=\"true\">&times;</span></a><p>No tests found for <code>decoded</code>. To contribute a test please refer to <a href=\"/dev/test.html\">this guide</a> and <a href=\"https://forums.fast.ai/t/improving-expanding-functional-tests/32929\">this discussion</a>.</p></div></div>\n",
       "\n",
       "Decoded version of `get`  "
      ],
      "text/plain": [
       "<IPython.core.display.Markdown object>"
      ]
     },
     "metadata": {},
     "output_type": "display_data"
    }
   ],
   "source": [
    "show_doc(DataSource.decoded)"
   ]
  },
  {
   "cell_type": "code",
   "execution_count": null,
   "metadata": {},
   "outputs": [],
   "source": [
    "test_eq(dsrc.get(    1,1), 6)\n",
    "test_eq(dsrc.decoded(1,1), 3)"
   ]
  },
  {
   "cell_type": "code",
   "execution_count": null,
   "metadata": {},
   "outputs": [
    {
     "data": {
      "text/markdown": [
       "<h4 id=\"DataSource.__getitem__\" class=\"doc_header\"><code>__getitem__</code><a class=\"source_link\" data-toggle=\"collapse\" data-target=\"#DataSource-__getitem__-pytest\" style=\"float:right; padding-right:10px\">[test]</a></h4>\n",
       "\n",
       "> <code>__getitem__</code>(**`i`**)\n",
       "\n",
       "<div class=\"collapse\" id=\"DataSource-__getitem__-pytest\"><div class=\"card card-body pytest_card\"><a type=\"button\" data-toggle=\"collapse\" data-target=\"#DataSource-__getitem__-pytest\" class=\"close\" aria-label=\"Close\"><span aria-hidden=\"true\">&times;</span></a><p>No tests found for <code>__getitem__</code>. To contribute a test please refer to <a href=\"/dev/test.html\">this guide</a> and <a href=\"https://forums.fast.ai/t/improving-expanding-functional-tests/32929\">this discussion</a>.</p></div></div>\n",
       "\n",
       "Filtered subset `i`  "
      ],
      "text/plain": [
       "<IPython.core.display.Markdown object>"
      ]
     },
     "metadata": {},
     "output_type": "display_data"
    }
   ],
   "source": [
    "show_doc(DataSource.__getitem__)"
   ]
  },
  {
   "cell_type": "code",
   "execution_count": null,
   "metadata": {},
   "outputs": [
    {
     "data": {
      "text/plain": [
       "(3 items) [0,6,8]"
      ]
     },
     "execution_count": null,
     "metadata": {},
     "output_type": "execute_result"
    }
   ],
   "source": [
    "dsrc[1]"
   ]
  },
  {
   "cell_type": "code",
   "execution_count": null,
   "metadata": {},
   "outputs": [
    {
     "data": {
      "text/markdown": [
       "<h4 id=\"DataSource.__len__\" class=\"doc_header\"><code>__len__</code><a class=\"source_link\" data-toggle=\"collapse\" data-target=\"#DataSource-__len__-pytest\" style=\"float:right; padding-right:10px\">[test]</a></h4>\n",
       "\n",
       "> <code>__len__</code>()\n",
       "\n",
       "<div class=\"collapse\" id=\"DataSource-__len__-pytest\"><div class=\"card card-body pytest_card\"><a type=\"button\" data-toggle=\"collapse\" data-target=\"#DataSource-__len__-pytest\" class=\"close\" aria-label=\"Close\"><span aria-hidden=\"true\">&times;</span></a><p>No tests found for <code>__len__</code>. To contribute a test please refer to <a href=\"/dev/test.html\">this guide</a> and <a href=\"https://forums.fast.ai/t/improving-expanding-functional-tests/32929\">this discussion</a>.</p></div></div>\n",
       "\n",
       "Number of filtered subsets  "
      ],
      "text/plain": [
       "<IPython.core.display.Markdown object>"
      ]
     },
     "metadata": {},
     "output_type": "display_data"
    }
   ],
   "source": [
    "show_doc(DataSource.__len__)"
   ]
  },
  {
   "cell_type": "code",
   "execution_count": null,
   "metadata": {},
   "outputs": [
    {
     "data": {
      "text/plain": [
       "2"
      ]
     },
     "execution_count": null,
     "metadata": {},
     "output_type": "execute_result"
    }
   ],
   "source": [
    "len(dsrc)"
   ]
  },
  {
   "cell_type": "code",
   "execution_count": null,
   "metadata": {},
   "outputs": [
    {
     "data": {
      "text/markdown": [
       "<h4 id=\"DataSource.__iter__\" class=\"doc_header\"><code>__iter__</code><a class=\"source_link\" data-toggle=\"collapse\" data-target=\"#DataSource-__iter__-pytest\" style=\"float:right; padding-right:10px\">[test]</a></h4>\n",
       "\n",
       "> <code>__iter__</code>()\n",
       "\n",
       "<div class=\"collapse\" id=\"DataSource-__iter__-pytest\"><div class=\"card card-body pytest_card\"><a type=\"button\" data-toggle=\"collapse\" data-target=\"#DataSource-__iter__-pytest\" class=\"close\" aria-label=\"Close\"><span aria-hidden=\"true\">&times;</span></a><p>No tests found for <code>__iter__</code>. To contribute a test please refer to <a href=\"/dev/test.html\">this guide</a> and <a href=\"https://forums.fast.ai/t/improving-expanding-functional-tests/32929\">this discussion</a>.</p></div></div>\n",
       "\n",
       "Iterator for each filtered subset  "
      ],
      "text/plain": [
       "<IPython.core.display.Markdown object>"
      ]
     },
     "metadata": {},
     "output_type": "display_data"
    }
   ],
   "source": [
    "show_doc(DataSource.__iter__)"
   ]
  },
  {
   "cell_type": "code",
   "execution_count": null,
   "metadata": {},
   "outputs": [
    {
     "name": "stdout",
     "output_type": "stream",
     "text": [
      " * (2 items) [1,2]\n",
      " * (3 items) [0,6,8]\n"
     ]
    }
   ],
   "source": [
    "for o in dsrc: print(f\" * {o}\")"
   ]
  },
  {
   "cell_type": "code",
   "execution_count": null,
   "metadata": {},
   "outputs": [
    {
     "data": {
      "text/markdown": [
       "<h4 id=\"DataSource.len\" class=\"doc_header\"><code>len</code><a class=\"source_link\" data-toggle=\"collapse\" data-target=\"#DataSource-len-pytest\" style=\"float:right; padding-right:10px\">[test]</a></h4>\n",
       "\n",
       "> <code>len</code>(**`filt`**=***`0`***)\n",
       "\n",
       "<div class=\"collapse\" id=\"DataSource-len-pytest\"><div class=\"card card-body pytest_card\"><a type=\"button\" data-toggle=\"collapse\" data-target=\"#DataSource-len-pytest\" class=\"close\" aria-label=\"Close\"><span aria-hidden=\"true\">&times;</span></a><p>No tests found for <code>len</code>. To contribute a test please refer to <a href=\"/dev/test.html\">this guide</a> and <a href=\"https://forums.fast.ai/t/improving-expanding-functional-tests/32929\">this discussion</a>.</p></div></div>\n",
       "\n",
       "`len` of subset `filt`  "
      ],
      "text/plain": [
       "<IPython.core.display.Markdown object>"
      ]
     },
     "metadata": {},
     "output_type": "display_data"
    }
   ],
   "source": [
    "show_doc(DataSource.len)"
   ]
  },
  {
   "cell_type": "code",
   "execution_count": null,
   "metadata": {},
   "outputs": [
    {
     "data": {
      "text/plain": [
       "[2, 3]"
      ]
     },
     "execution_count": null,
     "metadata": {},
     "output_type": "execute_result"
    }
   ],
   "source": [
    "[dsrc.len(i) for i in range_of(dsrc)]"
   ]
  },
  {
   "cell_type": "code",
   "execution_count": null,
   "metadata": {},
   "outputs": [
    {
     "data": {
      "text/markdown": [
       "<h4 id=\"DataSource.decode\" class=\"doc_header\"><code>decode</code><a class=\"source_link\" data-toggle=\"collapse\" data-target=\"#DataSource-decode-pytest\" style=\"float:right; padding-right:10px\">[test]</a></h4>\n",
       "\n",
       "> <code>decode</code>(**`o`**, **`filt`**=***`0`***, **\\*\\*`kwargs`**)\n",
       "\n",
       "<div class=\"collapse\" id=\"DataSource-decode-pytest\"><div class=\"card card-body pytest_card\"><a type=\"button\" data-toggle=\"collapse\" data-target=\"#DataSource-decode-pytest\" class=\"close\" aria-label=\"Close\"><span aria-hidden=\"true\">&times;</span></a><p>No tests found for <code>decode</code>. To contribute a test please refer to <a href=\"/dev/test.html\">this guide</a> and <a href=\"https://forums.fast.ai/t/improving-expanding-functional-tests/32929\">this discussion</a>.</p></div></div>\n",
       "\n",
       "Decode `o` passing `filt`  "
      ],
      "text/plain": [
       "<IPython.core.display.Markdown object>"
      ]
     },
     "metadata": {},
     "output_type": "display_data"
    }
   ],
   "source": [
    "show_doc(DataSource.decode)"
   ]
  },
  {
   "cell_type": "code",
   "execution_count": null,
   "metadata": {},
   "outputs": [],
   "source": [
    "t = dsrc.get(1,1)\n",
    "test_eq(dsrc.decode(t,1), 3)"
   ]
  },
  {
   "cell_type": "code",
   "execution_count": null,
   "metadata": {},
   "outputs": [
    {
     "data": {
      "text/markdown": [
       "<h4 id=\"DataSource.show\" class=\"doc_header\"><code>show</code><a class=\"source_link\" data-toggle=\"collapse\" data-target=\"#DataSource-show-pytest\" style=\"float:right; padding-right:10px\">[test]</a></h4>\n",
       "\n",
       "> <code>show</code>(**`o`**, **`filt`**=***`0`***, **\\*\\*`kwargs`**)\n",
       "\n",
       "<div class=\"collapse\" id=\"DataSource-show-pytest\"><div class=\"card card-body pytest_card\"><a type=\"button\" data-toggle=\"collapse\" data-target=\"#DataSource-show-pytest\" class=\"close\" aria-label=\"Close\"><span aria-hidden=\"true\">&times;</span></a><p>No tests found for <code>show</code>. To contribute a test please refer to <a href=\"/dev/test.html\">this guide</a> and <a href=\"https://forums.fast.ai/t/improving-expanding-functional-tests/32929\">this discussion</a>.</p></div></div>\n",
       "\n",
       "Call `tfm.show` on decoded `o`  "
      ],
      "text/plain": [
       "<IPython.core.display.Markdown object>"
      ]
     },
     "metadata": {},
     "output_type": "display_data"
    }
   ],
   "source": [
    "show_doc(DataSource.show)"
   ]
  },
  {
   "cell_type": "code",
   "execution_count": null,
   "metadata": {},
   "outputs": [],
   "source": [
    "test_eq(dsrc.show(t,1), ' * 3')"
   ]
  },
  {
   "cell_type": "markdown",
   "metadata": {},
   "source": [
    "It is often more convenient to use these methods on the filtered subset:"
   ]
  },
  {
   "cell_type": "code",
   "execution_count": null,
   "metadata": {},
   "outputs": [],
   "source": [
    "test_eq(dsrc[1].show(t), ' * 3')\n",
    "test_eq(dsrc[1].show_at(1), ' * 3')"
   ]
  },
  {
   "cell_type": "markdown",
   "metadata": {},
   "source": [
    "## Export -"
   ]
  },
  {
   "cell_type": "code",
   "execution_count": null,
   "metadata": {},
   "outputs": [
    {
     "name": "stdout",
     "output_type": "stream",
     "text": [
      "Converted 00_test.ipynb.\n",
      "Converted 01_core.ipynb.\n",
      "Converted 02_data_pipeline.ipynb.\n",
      "Converted 03_data_source.ipynb.\n",
      "Converted 04_data_core.ipynb.\n",
      "Converted 99_export.ipynb.\n",
      "Converted 99a_export2html.ipynb.\n",
      "Converted _05_pets_tutorial.ipynb.\n",
      "Converted _06_data_blocks.ipynb.\n"
     ]
    }
   ],
   "source": [
    "#hide\n",
    "from fastai_local.notebook.export import notebook2script\n",
    "notebook2script(all_fs=True)"
   ]
  },
  {
   "cell_type": "code",
   "execution_count": null,
   "metadata": {},
   "outputs": [],
   "source": []
  }
 ],
 "metadata": {
  "kernelspec": {
   "display_name": "Python 3",
   "language": "python",
   "name": "python3"
  }
 },
 "nbformat": 4,
 "nbformat_minor": 2
}
