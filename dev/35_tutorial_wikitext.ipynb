{
 "cells": [
  {
   "cell_type": "code",
   "execution_count": null,
   "metadata": {},
   "outputs": [],
   "source": [
    "from local.imports import *\n",
    "from local.test import *\n",
    "from local.core import *\n",
    "from local.layers import *\n",
    "from local.data.all import *\n",
    "from local.notebook.showdoc import show_doc\n",
    "from local.optimizer import *\n",
    "from local.learner import *\n",
    "from local.text.data import *\n",
    "from local.text.models.core import *\n",
    "from local.text.models.awdlstm import *\n",
    "from local.callback.rnn import *\n",
    "from local.callback.all import *"
   ]
  },
  {
   "cell_type": "markdown",
   "metadata": {},
   "source": [
    "# Integration test on Wikitext-2\n",
    "\n",
    "> Training a Language Model on WT2"
   ]
  },
  {
   "cell_type": "code",
   "execution_count": null,
   "metadata": {},
   "outputs": [],
   "source": [
    "path = untar_data(URLs.WIKITEXT_TINY)"
   ]
  },
  {
   "cell_type": "code",
   "execution_count": null,
   "metadata": {},
   "outputs": [],
   "source": [
    "def istitle(line):\n",
    "    return len(re.findall(r'^ = [^=]* = $', line)) != 0\n",
    "\n",
    "def read_file(filename):\n",
    "    articles = []\n",
    "    with open(filename, encoding='utf8') as f:\n",
    "        lines = f.readlines()\n",
    "    current_article = ''\n",
    "    for i,line in enumerate(lines):\n",
    "        current_article += line\n",
    "        if i < len(lines)-2 and lines[i+1] == ' \\n' and istitle(lines[i+2]):\n",
    "            articles.append(current_article)\n",
    "            current_article = ''\n",
    "    articles.append(current_article)\n",
    "    return np.array(articles)"
   ]
  },
  {
   "cell_type": "code",
   "execution_count": null,
   "metadata": {},
   "outputs": [],
   "source": [
    "train = read_file(path/'train.txt')\n",
    "valid = read_file(path/'valid.txt')"
   ]
  },
  {
   "cell_type": "code",
   "execution_count": null,
   "metadata": {},
   "outputs": [],
   "source": [
    "all_texts = L(np.concatenate([valid, train]), use_list=True)"
   ]
  },
  {
   "cell_type": "code",
   "execution_count": null,
   "metadata": {},
   "outputs": [],
   "source": [
    "count = Counter([p for t in all_texts for p in t.split()])\n",
    "vocab = make_vocab(count)"
   ]
  },
  {
   "cell_type": "code",
   "execution_count": null,
   "metadata": {},
   "outputs": [],
   "source": [
    "splits = ([list(range(60, len(all_texts))), list(range(60))])\n",
    "dsrc = DataSource(all_texts, type_tfms=[Numericalize(vocab)], filts=splits)"
   ]
  },
  {
   "cell_type": "code",
   "execution_count": null,
   "metadata": {},
   "outputs": [
    {
     "data": {
      "text/html": [
       "<table border=\"1\" class=\"dataframe\">\n",
       "  <thead>\n",
       "    <tr style=\"text-align: right;\">\n",
       "      <th>index</th>\n",
       "      <th>text</th>\n",
       "    </tr>\n",
       "  </thead>\n",
       "  <tbody>\n",
       "    <tr>\n",
       "      <td>0</td>\n",
       "      <td>xxunk xxunk = Dover Athletic F.C. = xxunk xxunk Dover Athletic Football Club is a professional association football club based in the town of Dover , Kent , England . The club was formed in 1983 after the dissolution of the town 's previous club , Dover F.C. , whose place in the Southern League was taken by the new club . In the 1989 – 90 season Dover Athletic won the</td>\n",
       "    </tr>\n",
       "    <tr>\n",
       "      <td>1</td>\n",
       "      <td>of four new dreadnoughts , SMS &lt;unk&gt; &lt;unk&gt; , that made up the Tegetthoff class — the only dreadnoughts built for the Austro @-@ Hungarian Navy — came into active service . With the commissioning of these dreadnoughts , Zrínyi and her sisters were moved from the 1st Division to the 2nd Division of the 1st Battle Squadron . xxunk xxunk = = = World War I = = = xxunk xxunk</td>\n",
       "    </tr>\n",
       "    <tr>\n",
       "      <td>2</td>\n",
       "      <td>AADT ) , a measure of traffic volume for any average day of the year . Only the N @-@ 71 / N @-@ 88 concurrency is part of the National Highway System ( NHS ) , a network of highways identified as being most important for the economy , mobility and defense of the nation . xxunk xxunk = = History = = xxunk xxunk N @-@ 88 was unofficially designated</td>\n",
       "    </tr>\n",
       "    <tr>\n",
       "      <td>3</td>\n",
       "      <td>&lt;unk&gt; Bank buoy which directed shipping into the canal . xxunk Commander Alfred Godsal led the assault in HMS Brilliant and it was he who stumbled into the most effective German counter @-@ measure first . As Brilliant &lt;unk&gt; through the &lt;unk&gt; , the lookout spotted the buoy ahead and Godsal headed directly for it , coming under even heavier fire as he did so . Passing the navigation marker at speed</td>\n",
       "    </tr>\n",
       "    <tr>\n",
       "      <td>4</td>\n",
       "      <td>that this implies that the digital revolution is dominated by people \" on &lt;unk&gt; who have no furniture \" . Similarly , Underwood and his associates are &lt;unk&gt; clad , Barnes shows a lack of fashion recognition . xxunk xxunk = = = Release = = = xxunk xxunk The episode was broadcast online by Netflix on February 1 , 2013 as part of the simultaneous release of all 13 episodes of</td>\n",
       "    </tr>\n",
       "    <tr>\n",
       "      <td>5</td>\n",
       "      <td>&lt;unk&gt; Brian &lt;unk&gt; , and a third exclusively for filming airborne sequences . This expansion increased the number of APF crews and stages to five each . A typical episode contained around 100 effects shots ; Meddings ' team completed up to 18 per day . xxunk An addition to the effects department was Mike &lt;unk&gt; , who served as Meddings ' assistant in designing vehicles and buildings . Meddings and &lt;unk&gt;</td>\n",
       "    </tr>\n",
       "    <tr>\n",
       "      <td>6</td>\n",
       "      <td>withdraw in contact , taking their wounded with them ; the action was later rewarded with a Military Cross for the platoon commander , who was badly wounded after taking over one of the machine guns after its crew had been wounded . xxunk Near the Sungei Murai ( Murai River ) , 15 Platoon — under Lieutenant John Meiklejohn — had been stationed in support of a company from the 2</td>\n",
       "    </tr>\n",
       "    <tr>\n",
       "      <td>7</td>\n",
       "      <td>which is also known as the Golden Temple , was built in &lt;unk&gt; by Queen &lt;unk&gt; &lt;unk&gt; of &lt;unk&gt; . The two pinnacles of the temple are covered in gold and were donated in 1839 by &lt;unk&gt; Singh , the ruler of Punjab . The dome is scheduled to receive gold plating through a proposed initiative of the Ministry of Culture and Religious Affairs of Uttar Pradesh . Numerous rituals , prayers</td>\n",
       "    </tr>\n",
       "    <tr>\n",
       "      <td>8</td>\n",
       "      <td>mainland Europe by rising sea levels before the last ice age had completely finished , it has fewer land animal and plant species than Great Britain , which separated later , or mainland Europe . There are 55 mammal species in Ireland and of them only 26 land mammal species are considered native to Ireland . Some species , such as , the red fox , &lt;unk&gt; and &lt;unk&gt; , are very</td>\n",
       "    </tr>\n",
       "    <tr>\n",
       "      <td>9</td>\n",
       "      <td>shear caused significant weakening thereafter . On October 1 , Polo regained tropical storm strength as it was crossing into the north Central Pacific basin . It dissipated as a tropical cyclone later that day . There were no casualties or damages caused by Polo . xxunk xxunk = = = Tropical Storm Simon = = = xxunk xxunk A weakly defined tropical wave moved off the northwest coast of Africa on</td>\n",
       "    </tr>\n",
       "  </tbody>\n",
       "</table>"
      ],
      "text/plain": [
       "<IPython.core.display.HTML object>"
      ]
     },
     "metadata": {},
     "output_type": "display_data"
    }
   ],
   "source": [
    "bs,sl = 104,72\n",
    "train_ds = LM_Dataset(dsrc.train, bs=bs, seq_len=sl, shuffle=True)\n",
    "train_samp = LM_Sampler(train_ds)\n",
    "train_dl = TfmdDL(train_ds, bs=bs, sampler=train_samp, num_workers=2, tfms=Cuda())\n",
    "valid_ds = LM_Dataset(dsrc.valid, bs=bs, seq_len=sl, shuffle=False)\n",
    "valid_samp = LM_Sampler(valid_ds)\n",
    "valid_dl = TfmdDL(valid_ds, bs=2*bs, sampler=valid_samp, num_workers=2, tfms=Cuda())\n",
    "dbch = DataBunch(train_dl, valid_dl)\n",
    "dbch.show_batch()"
   ]
  },
  {
   "cell_type": "code",
   "execution_count": null,
   "metadata": {},
   "outputs": [],
   "source": [
    "config = awd_lstm_lm_config.copy()\n",
    "config.update({'input_p': 0.6, 'output_p': 0.4, 'weight_p': 0.5, 'embed_p': 0.1, 'hidden_p': 0.2})\n",
    "model = get_language_model(AWD_LSTM, len(vocab), config=config)"
   ]
  },
  {
   "cell_type": "code",
   "execution_count": null,
   "metadata": {},
   "outputs": [],
   "source": [
    "opt_func = partial(Adam, wd=0.1, eps=1e-7)\n",
    "cb_funcs = [partial(MixedPrecision, clip=0.1), partial(RNNTrainer, alpha=3, beta=2)]"
   ]
  },
  {
   "cell_type": "code",
   "execution_count": null,
   "metadata": {},
   "outputs": [],
   "source": [
    "learn = Learner(model, dbch, loss_func=CrossEntropyLossFlat(), opt_func=opt_func, cb_funcs=cb_funcs)"
   ]
  },
  {
   "cell_type": "code",
   "execution_count": null,
   "metadata": {},
   "outputs": [
    {
     "data": {
      "text/html": [
       "\n",
       "    <div>\n",
       "        <style>\n",
       "            /* Turns off some styling */\n",
       "            progress {\n",
       "                /* gets rid of default border in Firefox and Opera. */\n",
       "                border: none;\n",
       "                /* Needs to be in here for Safari polyfill so background images work as expected. */\n",
       "                background-size: auto;\n",
       "            }\n",
       "            .progress-bar-interrupted, .progress-bar-interrupted::-webkit-progress-bar {\n",
       "                background: #F44336;\n",
       "            }\n",
       "        </style>\n",
       "      <progress value='2' class='' max='10', style='width:300px; height:20px; vertical-align: middle;'></progress>\n",
       "      20.00% [2/10 02:40<10:42]\n",
       "    </div>\n",
       "    \n",
       "<table border=\"1\" class=\"dataframe\">\n",
       "  <thead>\n",
       "    <tr style=\"text-align: left;\">\n",
       "      <th>epoch</th>\n",
       "      <th>train_loss</th>\n",
       "      <th>valid_loss</th>\n",
       "      <th>time</th>\n",
       "    </tr>\n",
       "  </thead>\n",
       "  <tbody>\n",
       "    <tr>\n",
       "      <td>0</td>\n",
       "      <td>7.701850</td>\n",
       "      <td>6.290051</td>\n",
       "      <td>01:19</td>\n",
       "    </tr>\n",
       "    <tr>\n",
       "      <td>1</td>\n",
       "      <td>6.243032</td>\n",
       "      <td>5.507934</td>\n",
       "      <td>01:21</td>\n",
       "    </tr>\n",
       "  </tbody>\n",
       "</table><p>\n",
       "\n",
       "    <div>\n",
       "        <style>\n",
       "            /* Turns off some styling */\n",
       "            progress {\n",
       "                /* gets rid of default border in Firefox and Opera. */\n",
       "                border: none;\n",
       "                /* Needs to be in here for Safari polyfill so background images work as expected. */\n",
       "                background-size: auto;\n",
       "            }\n",
       "            .progress-bar-interrupted, .progress-bar-interrupted::-webkit-progress-bar {\n",
       "                background: #F44336;\n",
       "            }\n",
       "        </style>\n",
       "      <progress value='6' class='' max='15', style='width:300px; height:20px; vertical-align: middle;'></progress>\n",
       "      40.00% [6/15 00:02<00:03 5.5738]\n",
       "    </div>\n",
       "    "
      ],
      "text/plain": [
       "<IPython.core.display.HTML object>"
      ]
     },
     "metadata": {},
     "output_type": "display_data"
    }
   ],
   "source": [
    "learn.fit_one_cycle(10, 5e-3, moms=(0.8,0.7,0.8))"
   ]
  },
  {
   "cell_type": "code",
   "execution_count": null,
   "metadata": {},
   "outputs": [],
   "source": []
  }
 ],
 "metadata": {
  "kernelspec": {
   "display_name": "Python 3",
   "language": "python",
   "name": "python3"
  }
 },
 "nbformat": 4,
 "nbformat_minor": 2
}
