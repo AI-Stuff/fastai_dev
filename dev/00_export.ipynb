{
 "cells": [
  {
   "cell_type": "code",
   "execution_count": null,
   "metadata": {},
   "outputs": [],
   "source": [
    "# export\n",
    "import json,fire,re,os,shutil,glob\n",
    "from pathlib import Path\n",
    "from fastai.gen_doc.nbdoc import show_doc\n",
    "from typing import Union, Optional\n",
    "from typeguard import typechecked\n",
    "NoneType = type(None)"
   ]
  },
  {
   "cell_type": "code",
   "execution_count": null,
   "metadata": {},
   "outputs": [],
   "source": [
    "# default_exp export"
   ]
  },
  {
   "cell_type": "markdown",
   "metadata": {},
   "source": [
    "## Type checking"
   ]
  },
  {
   "cell_type": "markdown",
   "metadata": {},
   "source": [
    "Runtime type checking is handy, so let's make it easy!"
   ]
  },
  {
   "cell_type": "code",
   "execution_count": null,
   "metadata": {},
   "outputs": [],
   "source": [
    "#export\n",
    "def chk(f): return typechecked(always=True)(f)"
   ]
  },
  {
   "cell_type": "code",
   "execution_count": null,
   "metadata": {},
   "outputs": [],
   "source": [
    "@chk\n",
    "def test_chk(a:Union[int,NoneType]=None): pass\n",
    "test_chk(1)\n",
    "test_chk()"
   ]
  },
  {
   "cell_type": "markdown",
   "metadata": {},
   "source": [
    "## Reading a notebook"
   ]
  },
  {
   "cell_type": "markdown",
   "metadata": {},
   "source": [
    "### Finding export cells"
   ]
  },
  {
   "cell_type": "markdown",
   "metadata": {},
   "source": [
    "A jupyter notebook is a json file behind the scenes. We can just read it with the json module, which will return a nested dictionary of dictionaries/lists of dictionaries."
   ]
  },
  {
   "cell_type": "code",
   "execution_count": null,
   "metadata": {},
   "outputs": [],
   "source": [
    "test_nb = json.load(open('00_export.ipynb'))"
   ]
  },
  {
   "cell_type": "markdown",
   "metadata": {},
   "source": [
    "The root has four keys: `cells` contains the cells of the notebook, `metadata` some stuff around the version of python used to execute the notebook, `nbformat` and `nbformat_minor` the version of nbformat. "
   ]
  },
  {
   "cell_type": "code",
   "execution_count": null,
   "metadata": {},
   "outputs": [
    {
     "data": {
      "text/plain": [
       "dict_keys(['cells', 'metadata', 'nbformat', 'nbformat_minor'])"
      ]
     },
     "execution_count": null,
     "metadata": {},
     "output_type": "execute_result"
    }
   ],
   "source": [
    "test_nb.keys()"
   ]
  },
  {
   "cell_type": "code",
   "execution_count": null,
   "metadata": {},
   "outputs": [
    {
     "data": {
      "text/plain": [
       "{'kernelspec': {'display_name': 'Python 3',\n",
       "  'language': 'python',\n",
       "  'name': 'python3'},\n",
       " 'language_info': {'codemirror_mode': {'name': 'ipython', 'version': 3},\n",
       "  'file_extension': '.py',\n",
       "  'mimetype': 'text/x-python',\n",
       "  'name': 'python',\n",
       "  'nbconvert_exporter': 'python',\n",
       "  'pygments_lexer': 'ipython3',\n",
       "  'version': '3.7.1'}}"
      ]
     },
     "execution_count": null,
     "metadata": {},
     "output_type": "execute_result"
    }
   ],
   "source": [
    "test_nb['metadata']"
   ]
  },
  {
   "cell_type": "code",
   "execution_count": null,
   "metadata": {},
   "outputs": [
    {
     "data": {
      "text/plain": [
       "'4.2'"
      ]
     },
     "execution_count": null,
     "metadata": {},
     "output_type": "execute_result"
    }
   ],
   "source": [
    "f\"{test_nb['nbformat']}.{test_nb['nbformat_minor']}\""
   ]
  },
  {
   "cell_type": "markdown",
   "metadata": {},
   "source": [
    "The cells key then contains a list of cells. Each one is a new dictionary that contains entries like the type (code or markdown), the source (what is written in the cell) and the output (for code cells)."
   ]
  },
  {
   "cell_type": "code",
   "execution_count": null,
   "metadata": {},
   "outputs": [
    {
     "data": {
      "text/plain": [
       "{'cell_type': 'code',\n",
       " 'execution_count': 1,\n",
       " 'metadata': {},\n",
       " 'outputs': [],\n",
       " 'source': ['# export\\n',\n",
       "  'import json,fire,re,os,shutil\\n',\n",
       "  'from pathlib import Path']}"
      ]
     },
     "execution_count": null,
     "metadata": {},
     "output_type": "execute_result"
    }
   ],
   "source": [
    "test_nb['cells'][0]"
   ]
  },
  {
   "cell_type": "markdown",
   "metadata": {},
   "source": [
    "This function will be used to detect different `# code` at the beginning of cells."
   ]
  },
  {
   "cell_type": "code",
   "execution_count": null,
   "metadata": {},
   "outputs": [],
   "source": [
    "# export\n",
    "def check_re_pattern(cell, pat):\n",
    "    \"Check if `cell` contains given `pat`.\"\n",
    "    if cell['cell_type'] != 'code': return False\n",
    "    src = cell['source']\n",
    "    if len(src) == 0: return False\n",
    "    return re.match(pat, src[0], re.IGNORECASE) "
   ]
  },
  {
   "cell_type": "markdown",
   "metadata": {},
   "source": [
    "Now we can check for the cell that need to be exported."
   ]
  },
  {
   "cell_type": "code",
   "execution_count": null,
   "metadata": {},
   "outputs": [],
   "source": [
    "# export\n",
    "def is_export(cell, default):\n",
    "    \"Check if `cell` is to be exported and returns the name of the module.\"\n",
    "    if check_re_pattern(cell, r'^\\s*#\\s*exports?\\s*$'): return default\n",
    "    tst = check_re_pattern(cell, r'^\\s*#\\s*exports?\\s*(\\S+)\\s*$')\n",
    "    return os.path.sep.join(tst.groups()[0].split('.')) if tst else None "
   ]
  },
  {
   "cell_type": "markdown",
   "metadata": {},
   "source": [
    "We check if the cell begins with an `#export` or `#exports` code, potentially with a module name where we want it exported. The default is given in a cell of the form `#default_exp bla` inside the notebook (usually at the top), though in this function, it needs the be passed (the final script will read the whole notebook to find it)."
   ]
  },
  {
   "cell_type": "code",
   "execution_count": null,
   "metadata": {},
   "outputs": [],
   "source": [
    "cell = test_nb['cells'][0].copy()\n",
    "assert is_export(cell, 'export') == 'export'\n",
    "cell['source'][0] = \"# exports\" \n",
    "assert is_export(cell, 'export') == 'export'\n",
    "cell['source'][0] = \"# export mod\" \n",
    "assert is_export(cell, 'export') == 'mod'\n",
    "cell['source'][0] = \"# export mod.file\" \n",
    "assert is_export(cell, 'export') == 'mod/file'\n",
    "cell['source'][0] = \"# expt mod.file\"\n",
    "assert is_export(cell, 'export') is None\n",
    "cell['source'][0] = \"# export\""
   ]
  },
  {
   "cell_type": "markdown",
   "metadata": {},
   "source": [
    "### Finding the default export path"
   ]
  },
  {
   "cell_type": "code",
   "execution_count": null,
   "metadata": {},
   "outputs": [],
   "source": [
    "# export\n",
    "def find_default_export(cells):\n",
    "    for cell in cells:\n",
    "        tst = check_re_pattern(cell, r'^\\s*#\\s*default_exp\\s*(\\S*)\\s*$')\n",
    "        if tst: return tst.groups()[0]"
   ]
  },
  {
   "cell_type": "code",
   "execution_count": null,
   "metadata": {},
   "outputs": [
    {
     "data": {
      "text/plain": [
       "'export'"
      ]
     },
     "execution_count": null,
     "metadata": {},
     "output_type": "execute_result"
    }
   ],
   "source": [
    "find_default_export(test_nb['cells'])"
   ]
  },
  {
   "cell_type": "markdown",
   "metadata": {},
   "source": [
    "### Exporting one notebook"
   ]
  },
  {
   "cell_type": "code",
   "execution_count": null,
   "metadata": {},
   "outputs": [],
   "source": [
    "#export \n",
    "def _notebook2script(fname):\n",
    "    \"Finds cells starting with `#export` and puts them into a new module\"\n",
    "    fname = Path(fname)\n",
    "    nb = json.load(open(fname,'r'))\n",
    "    default = find_default_export(nb['cells'])\n",
    "    if default is None: \n",
    "        print(f\"Skipping conversion of {fname}: please add an #default_exp cell.\")\n",
    "        return\n",
    "    default = os.path.sep.join(default.split('1.'))\n",
    "    fname_out = Path.cwd()/'fastai_local'/f'{default}.py'\n",
    "    code_cells = [c for c in nb['cells'] if is_export(c, default) is not None]\n",
    "    module = f'''\n",
    "#################################################\n",
    "### THIS FILE WAS AUTOGENERATED! DO NOT EDIT! ###\n",
    "#################################################\n",
    "# file to edit: dev/{fname.name}\n",
    "\n",
    "'''\n",
    "    for cell in code_cells: module += ''.join(cell['source'][1:]) + '\\n\\n'\n",
    "    # remove trailing spaces\n",
    "    module = re.sub(r' +$', '', module, flags=re.MULTILINE)\n",
    "    output_path = fname.parent/'exp'/fname_out\n",
    "    open(output_path,'w').write(module[:-2])\n",
    "    print(f\"Converted {fname} to {output_path}\")"
   ]
  },
  {
   "cell_type": "markdown",
   "metadata": {},
   "source": [
    "### Exporting more notebooks"
   ]
  },
  {
   "cell_type": "code",
   "execution_count": null,
   "metadata": {},
   "outputs": [],
   "source": [
    "#export \n",
    "def _get_sorted_files(all_fs: Union[bool,str], up_to=None):\n",
    "    \"Return the list of files corresponding to `g` in the current dir.\"\n",
    "    if (all_fs==True): ret = glob.glob('*.ipynb') # Checks both that is bool type and that is True\n",
    "    else: ret = glob.glob(all_fs) if isinstance(g,str) else []\n",
    "    if len(ret)==0: print('WARNING: No files found')\n",
    "    if up_to is not None: ret = [f for f in ret if str(f)<=str(up_to)]\n",
    "    return sorted(ret)"
   ]
  },
  {
   "cell_type": "markdown",
   "metadata": {},
   "source": [
    "Note that `g` can either be `True` (for all notebook files in the directory) or a glob pattern (like `00_*.ipynb`). If `up_to` is passed, notebooks are only converted up to that point (since our notebooks are beginning with numbers)."
   ]
  },
  {
   "cell_type": "code",
   "execution_count": null,
   "metadata": {},
   "outputs": [],
   "source": [
    "#export \n",
    "def notebook2script(fname=None, all_fs:Optional[Union[bool,str]]=None, up_to=None):\n",
    "    # initial checks\n",
    "    assert fname or all_fs\n",
    "    if (all_fs is None) and (up_to is not None): all_fs=True # Enable allFiles if upTo is present\n",
    "    fnames = _get_sorted_files(all_fs, up_to=up_to) if all_fs else [fname]\n",
    "    [_notebook2script(f) for f in fnames]"
   ]
  },
  {
   "cell_type": "markdown",
   "metadata": {},
   "source": [
    "Finds cells starting with `#export` and puts them into a new module.\n",
    "* `fname`: the filename of one notebook to convert\n",
    "* `all_fs`: `True` if you want to convert all notebook files in the folder or a glob expression\n",
    "* `up_to`: converts all notebooks respecting the previous arg up to a certain number\n",
    "\n",
    "Examples of use:\n",
    "```\n",
    "notebook2script 00_export.ipynb                 # Parse 00_export.ipynb\n",
    "notebook2script --all_fs=True                   # Parse all files\n",
    "notebook2script --all_fs=nb*                    # Parse all files starting with nb*\n",
    "notebook2script --up_to=10                      # Parse all files with (name<='10')\n",
    "notebook2script --all_fs=*_*.ipynb --up_to=10   # Parse all files with an '_' and (name<='10')\n",
    "```"
   ]
  },
  {
   "cell_type": "code",
   "execution_count": null,
   "metadata": {},
   "outputs": [
    {
     "name": "stdout",
     "output_type": "stream",
     "text": [
      "Converted 00_export.ipynb to /home/ubuntu/fastai_docs/dev/fastai_local/export.py\n"
     ]
    }
   ],
   "source": [
    "notebook2script('00_export.ipynb')"
   ]
  },
  {
   "cell_type": "code",
   "execution_count": null,
   "metadata": {},
   "outputs": [
    {
     "name": "stdout",
     "output_type": "stream",
     "text": [
      "Converted 00_export.ipynb to /home/ubuntu/fastai_docs/dev/fastai_local/export.py\n",
      "Converted 01_test.ipynb to /home/ubuntu/fastai_docs/dev/fastai_local/test.py\n",
      "Skipping conversion of 03_core.ipynb: please add an #default_exp cell.\n"
     ]
    }
   ],
   "source": [
    "notebook2script(all_fs=True)"
   ]
  },
  {
   "cell_type": "code",
   "execution_count": null,
   "metadata": {},
   "outputs": [],
   "source": []
  }
 ],
 "metadata": {
  "kernelspec": {
   "display_name": "Python 3",
   "language": "python",
   "name": "python3"
  }
 },
 "nbformat": 4,
 "nbformat_minor": 2
}
