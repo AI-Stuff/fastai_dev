{
 "cells": [
  {
   "cell_type": "code",
   "execution_count": null,
   "metadata": {},
   "outputs": [],
   "source": [
    "# export\n",
    "import json,fire,re,os,shutil\n",
    "from pathlib import Path"
   ]
  },
  {
   "cell_type": "markdown",
   "metadata": {},
   "source": [
    "## Find our way"
   ]
  },
  {
   "cell_type": "markdown",
   "metadata": {},
   "source": [
    "When exporting things the defualt behavior is that a cell is exported to a module of the same name as the file. However our notebook might be in the base directory (core module) or in a subfolder (application for instance) and we need the export command to reproduce that architecture of directories.\n",
    "\n",
    "The root directory is cleary identified by having a .root file in it."
   ]
  },
  {
   "cell_type": "code",
   "execution_count": null,
   "metadata": {},
   "outputs": [],
   "source": [
    "# export\n",
    "def is_root(path): return (Path(path)/'.root').exists()"
   ]
  },
  {
   "cell_type": "markdown",
   "metadata": {},
   "source": [
    "`path` can be a string or a pathlib oject."
   ]
  },
  {
   "cell_type": "code",
   "execution_count": null,
   "metadata": {},
   "outputs": [],
   "source": [
    "# test\n",
    "assert is_root('.')\n",
    "assert is_root(Path('.'))\n",
    "assert not is_root(Path.home())"
   ]
  },
  {
   "cell_type": "markdown",
   "metadata": {},
   "source": [
    "Then we need to know, for any file, the structure relative to root to find the destination to export it."
   ]
  },
  {
   "cell_type": "code",
   "execution_count": null,
   "metadata": {},
   "outputs": [],
   "source": [
    "# export\n",
    "def export_dest(fname):\n",
    "    \"Returns the destination for an export coming from `fname`\"\n",
    "    fn = Path(fname)\n",
    "    while not is_root(fn): fn = fn.parent\n",
    "    return fn/'fastai'/Path(fname).relative_to(fn)"
   ]
  },
  {
   "cell_type": "markdown",
   "metadata": {},
   "source": [
    "`fname` can be a string or Pathlib object, then the function scans for where the root directory is to return a path similar to `fname`, with fastai in the middle."
   ]
  },
  {
   "cell_type": "code",
   "execution_count": null,
   "metadata": {},
   "outputs": [],
   "source": [
    "# test\n",
    "os.makedirs('test', exist_ok=True)\n",
    "assert export_dest('test') == Path('fastai/test')\n",
    "assert export_dest(Path('test')) == Path('fastai/test')\n",
    "assert export_dest('test/module.py') == Path('fastai/test/module.py')\n",
    "assert export_dest('test/deep/module.py') == Path('fastai/test/deep/module.py')\n",
    "shutil.rmtree('test')"
   ]
  },
  {
   "cell_type": "markdown",
   "metadata": {},
   "source": [
    "## Reading a notebook"
   ]
  },
  {
   "cell_type": "markdown",
   "metadata": {},
   "source": [
    "### Finding export cells"
   ]
  },
  {
   "cell_type": "markdown",
   "metadata": {},
   "source": [
    "A jupyter notebook is a json file behind the scenes. We can just read it with the json module, which will return a nested dictionary of dictionaries/lists of dictionaries."
   ]
  },
  {
   "cell_type": "code",
   "execution_count": null,
   "metadata": {},
   "outputs": [],
   "source": [
    "test_nb = json.load(open('00_export.ipynb'))"
   ]
  },
  {
   "cell_type": "markdown",
   "metadata": {},
   "source": [
    "The root has four keys: `cells` contains the cells of the notebook, `metadata` some stuff around the version of python used to execute the notebook, `nbformat` and `nbformat_minor` the version of nbformat. "
   ]
  },
  {
   "cell_type": "code",
   "execution_count": null,
   "metadata": {},
   "outputs": [
    {
     "data": {
      "text/plain": [
       "dict_keys(['cells', 'metadata', 'nbformat', 'nbformat_minor'])"
      ]
     },
     "execution_count": null,
     "metadata": {},
     "output_type": "execute_result"
    }
   ],
   "source": [
    "test_nb.keys()"
   ]
  },
  {
   "cell_type": "code",
   "execution_count": null,
   "metadata": {},
   "outputs": [
    {
     "data": {
      "text/plain": [
       "{'kernelspec': {'display_name': 'Python 3',\n",
       "  'language': 'python',\n",
       "  'name': 'python3'},\n",
       " 'language_info': {'codemirror_mode': {'name': 'ipython', 'version': 3},\n",
       "  'file_extension': '.py',\n",
       "  'mimetype': 'text/x-python',\n",
       "  'name': 'python',\n",
       "  'nbconvert_exporter': 'python',\n",
       "  'pygments_lexer': 'ipython3',\n",
       "  'version': '3.7.1'}}"
      ]
     },
     "execution_count": null,
     "metadata": {},
     "output_type": "execute_result"
    }
   ],
   "source": [
    "test_nb['metadata']"
   ]
  },
  {
   "cell_type": "code",
   "execution_count": null,
   "metadata": {},
   "outputs": [
    {
     "data": {
      "text/plain": [
       "'4.2'"
      ]
     },
     "execution_count": null,
     "metadata": {},
     "output_type": "execute_result"
    }
   ],
   "source": [
    "f\"{test_nb['nbformat']}.{test_nb['nbformat_minor']}\""
   ]
  },
  {
   "cell_type": "markdown",
   "metadata": {},
   "source": [
    "The cells key then contains a list of cells. Each one is a new dictionary that contains entries like the type (code or markdown), the source (what is written in the cell) and the output (for code cells)."
   ]
  },
  {
   "cell_type": "code",
   "execution_count": null,
   "metadata": {},
   "outputs": [
    {
     "data": {
      "text/plain": [
       "{'cell_type': 'code',\n",
       " 'execution_count': 1,\n",
       " 'metadata': {},\n",
       " 'outputs': [],\n",
       " 'source': ['# export\\n', 'import json,fire,re\\n', 'from pathlib import Path']}"
      ]
     },
     "execution_count": null,
     "metadata": {},
     "output_type": "execute_result"
    }
   ],
   "source": [
    "test_nb['cells'][0]"
   ]
  },
  {
   "cell_type": "code",
   "execution_count": null,
   "metadata": {},
   "outputs": [],
   "source": [
    "# export\n",
    "def is_export(cell, default):\n",
    "    \"Check if `cell` is to be exported and returns the name of the module.\"\n",
    "    if cell['cell_type'] != 'code': return False\n",
    "    src = cell['source']\n",
    "    if len(src) == 0: return False\n",
    "    if re.match(r'^\\s*#\\s*exports?\\s*$', src[0], re.IGNORECASE) is not None: return default\n",
    "    tst = re.match(r'^\\s*#\\s*exports?\\s*(\\S+)\\s*$', src[0], re.IGNORECASE)\n",
    "    return os.path.sep.join(tst.groups()[0].split('.')) if tst is not None else None "
   ]
  },
  {
   "cell_type": "markdown",
   "metadata": {},
   "source": [
    "We check if the cell begins with an export or exports code, potentially with a "
   ]
  },
  {
   "cell_type": "code",
   "execution_count": null,
   "metadata": {},
   "outputs": [],
   "source": [
    "# test\n",
    "cell = test_nb['cells'][0].copy()\n",
    "assert is_export(cell, 'export') == 'export'\n",
    "cell['source'][0] = \"# export mod\" \n",
    "assert is_export(cell, 'export') == 'mod'\n",
    "cell['source'][0] = \"# export mod.file\" \n",
    "assert is_export(cell, 'export') == 'mod/file'\n",
    "cell['source'][0] = \"# expt mod.file\"\n",
    "assert is_export(cell, 'export') is None\n",
    "cell['source'][0] = \"# export\""
   ]
  },
  {
   "cell_type": "code",
   "execution_count": null,
   "metadata": {},
   "outputs": [],
   "source": [
    "def getSortedFiles(allFiles, upTo=None):\n",
    "    '''Returns all the notebok files sorted by name.\n",
    "       allFiles = True : returns all files\n",
    "                = '*_*.ipynb' : returns this pattern\n",
    "       upTo = None : no upper limit\n",
    "            = filter : returns all files up to 'filter' included\n",
    "       The sorting optioj is important to ensure that the notebok are executed in correct order.\n",
    "    '''\n",
    "    import glob\n",
    "    ret = []\n",
    "    if (allFiles==True): ret = glob.glob('*.ipynb') # Checks both that is bool type and that is True\n",
    "    if (isinstance(allFiles,str)): ret = glob.glob(allFiles)\n",
    "    if 0==len(ret): \n",
    "        print('WARNING: No files found')\n",
    "        return ret\n",
    "    if upTo is not None: ret = [f for f in ret if str(f)<=str(upTo)]\n",
    "    return sorted(ret)"
   ]
  },
  {
   "cell_type": "code",
   "execution_count": null,
   "metadata": {},
   "outputs": [],
   "source": [
    "def notebook2script(fname=None, allFiles=None, upTo=None):\n",
    "    '''Finds cells starting with `#export` and puts them into a new module\n",
    "       + allFiles: convert all files in the folder\n",
    "       + upTo: convert files up to specified one included\n",
    "       \n",
    "       ES: \n",
    "       notebook2script --allFiles=True   # Parse all files\n",
    "       notebook2script --allFiles=nb*   # Parse all files starting with nb*\n",
    "       notebook2script --upTo=10   # Parse all files with (name<='10')\n",
    "       notebook2script --allFiles=*_*.ipynb --upTo=10   # Parse all files with an '_' and (name<='10')\n",
    "    '''\n",
    "    # initial checks\n",
    "    if (allFiles is None) and (upTo is not None): allFiles=True # Enable allFiles if upTo is present\n",
    "    if (fname is None) and (not allFiles): print('Should provide a file name')\n",
    "    if not allFiles: notebook2scriptSingle(fname)\n",
    "    else:\n",
    "        print('Begin...')\n",
    "        [notebook2scriptSingle(f) for f in getSortedFiles(allFiles,upTo)]\n",
    "        print('...End')"
   ]
  },
  {
   "cell_type": "code",
   "execution_count": null,
   "metadata": {},
   "outputs": [],
   "source": [
    "def notebook2scriptSingle(fname):\n",
    "    \"Finds cells starting with `#export` and puts them into a new module\"\n",
    "    fname = Path(fname)\n",
    "    fname_out = f'nb_{fname.stem.split(\"_\")[0]}.py'\n",
    "    main_dic = json.load(open(fname,'r'))\n",
    "    code_cells = [c for c in main_dic['cells'] if is_export(c)]\n",
    "    module = f'''\n",
    "#################################################\n",
    "### THIS FILE WAS AUTOGENERATED! DO NOT EDIT! ###\n",
    "#################################################\n",
    "# file to edit: dev_nb/{fname.name}\n",
    "\n",
    "'''\n",
    "    for cell in code_cells: module += ''.join(cell['source'][1:]) + '\\n\\n'\n",
    "    # remove trailing spaces\n",
    "    module = re.sub(r' +$', '', module, flags=re.MULTILINE)\n",
    "    output_path = fname.parent/'exp'/fname_out\n",
    "    open(output_path,'w').write(module[:-2])\n",
    "    print(f\"Converted {fname} to {output_path}\")"
   ]
  },
  {
   "cell_type": "code",
   "execution_count": null,
   "metadata": {},
   "outputs": [],
   "source": [
    "if __name__ == '__main__': fire.Fire(notebook2script)"
   ]
  }
 ],
 "metadata": {
  "kernelspec": {
   "display_name": "Python 3",
   "language": "python",
   "name": "python3"
  }
 },
 "nbformat": 4,
 "nbformat_minor": 2
}
