{
 "cells": [
  {
   "cell_type": "code",
   "execution_count": 1,
   "metadata": {},
   "outputs": [
    {
     "name": "stdout",
     "output_type": "stream",
     "text": [
      "Installing packages:\n",
      "\t.package(url: \"https://github.com/mxcl/Path.swift\", from: \"0.16.1\")\n",
      "\t\tPath\n",
      "\t.package(url: \"https://github.com/JustHTTP/Just\", from: \"0.7.1\")\n",
      "\t\tJust\n",
      "With SwiftPM flags: []\n",
      "Working in: /tmp/tmptqvbigz_/swift-install\n",
      "/home/ubuntu/swift/usr/bin/swift-build: /home/ubuntu/anaconda3/lib/libuuid.so.1: no version information available (required by /home/ubuntu/swift/usr/lib/swift/linux/libFoundation.so)\n",
      "/home/ubuntu/swift/usr/bin/swift-build: /home/ubuntu/anaconda3/lib/libcurl.so.4: no version information available (required by /home/ubuntu/swift/usr/lib/swift/linux/libFoundation.so)\n",
      "/home/ubuntu/swift/usr/bin/swiftc: /home/ubuntu/anaconda3/lib/libuuid.so.1: no version information available (required by /home/ubuntu/swift/usr/bin/swiftc)\n",
      "Compile Swift Module 'jupyterInstalledPackages' (1 sources)\n",
      "/home/ubuntu/swift/usr/bin/swiftc: /home/ubuntu/anaconda3/lib/libuuid.so.1: no version information available (required by /home/ubuntu/swift/usr/bin/swiftc)\n",
      "\n",
      "/home/ubuntu/swift/usr/bin/swift: /home/ubuntu/anaconda3/lib/libuuid.so.1: no version information available (required by /home/ubuntu/swift/usr/bin/swift)\n",
      "\n",
      "/home/ubuntu/swift/usr/bin/swift: /home/ubuntu/anaconda3/lib/libuuid.so.1: no version information available (required by /home/ubuntu/swift/usr/bin/swift)\n",
      "\n",
      "Linking ./.build/x86_64-unknown-linux/debug/libjupyterInstalledPackages.so\n",
      "/home/ubuntu/swift/usr/bin/swiftc: /home/ubuntu/anaconda3/lib/libuuid.so.1: no version information available (required by /home/ubuntu/swift/usr/bin/swiftc)\n",
      "\n",
      "/home/ubuntu/swift/usr/bin/swift-autolink-extract: /home/ubuntu/anaconda3/lib/libuuid.so.1: no version information available (required by /home/ubuntu/swift/usr/bin/swift-autolink-extract)\n",
      "\n",
      "Initializing Swift...\n",
      "Installation complete!\n"
     ]
    }
   ],
   "source": [
    "%install-location $cwd/swift-install\n",
    "%install '.package(url: \"https://github.com/mxcl/Path.swift\", from: \"0.16.1\")' Path\n",
    "%install '.package(url: \"https://github.com/JustHTTP/Just\", from: \"0.7.1\")' Just"
   ]
  },
  {
   "cell_type": "markdown",
   "metadata": {},
   "source": [
    "## Getting the MNIST dataset"
   ]
  },
  {
   "cell_type": "code",
   "execution_count": 2,
   "metadata": {},
   "outputs": [],
   "source": [
    "import Foundation\n",
    "import Just\n",
    "import Path"
   ]
  },
  {
   "cell_type": "code",
   "execution_count": 3,
   "metadata": {},
   "outputs": [],
   "source": [
    "//export\n",
    "@discardableResult\n",
    "public func shellCommand(_ launchPath: String, _ arguments: [String]) -> String\n",
    "{\n",
    "    let task = Process()\n",
    "    task.executableURL = URL(fileURLWithPath: launchPath)\n",
    "    task.arguments = arguments\n",
    "\n",
    "    let pipe = Pipe()\n",
    "    task.standardOutput = pipe\n",
    "    do {\n",
    "        try task.run()\n",
    "    } catch {\n",
    "        print(\"Unexpected error: \\(error).\")\n",
    "    }\n",
    "\n",
    "    let data = pipe.fileHandleForReading.readDataToEndOfFile()\n",
    "    return String(data: data, encoding: String.Encoding.utf8) ?? \"\"\n",
    "}"
   ]
  },
  {
   "cell_type": "code",
   "execution_count": 4,
   "metadata": {},
   "outputs": [
    {
     "name": "stdout",
     "output_type": "stream",
     "text": [
      "total 9.9M\r\n",
      "-rw-rw-r-- 1 ubuntu ubuntu  16K Apr 20 04:42 00_load_data.ipynb\r\n",
      "-rw-rw-r-- 1 ubuntu ubuntu  40K Apr 20 04:40 01_matmul.ipynb\r\n",
      "-rw-rw-r-- 1 ubuntu ubuntu  13K Apr 20 04:19 01a_fastai_layers.ipynb\r\n",
      "-rw-rw-r-- 1 ubuntu ubuntu  22K Apr 20 04:19 01b_sequential_layer.ipynb\r\n",
      "-rw-rw-r-- 1 ubuntu ubuntu  17K Apr 20 04:33 02_fully_connected.ipynb\r\n",
      "-rw-rw-r-- 1 ubuntu ubuntu  11K Apr 20 04:19 02a_why_sqrt5.ipynb\r\n",
      "-rw-rw-r-- 1 ubuntu ubuntu  12K Apr 20 04:19 02b_initializing.ipynb\r\n",
      "-rw-rw-r-- 1 ubuntu ubuntu  18K Apr 20 04:19 03_minibatch_training.ipynb\r\n",
      "-rw-rw-r-- 1 ubuntu ubuntu  24K Apr 20 04:19 04_callbacks.ipynb\r\n",
      "-rw-rw-r-- 1 ubuntu ubuntu  19K Apr 20 04:19 05_anneal.ipynb\r\n",
      "-rw-rw-r-- 1 ubuntu ubuntu  11K Apr 20 04:19 05b_early_stopping.ipynb\r\n",
      "-rw-rw-r-- 1 ubuntu ubuntu  12K Apr 20 04:19 06_cuda.ipynb\r\n",
      "-rw-rw-r-- 1 ubuntu ubuntu  24K Apr 20 04:19 07_batchnorm.ipynb\r\n",
      "-rw-rw-r-- 1 ubuntu ubuntu  24K Apr 20 04:19 08_data_block.ipynb\r\n",
      "-rw-rw-r-- 1 ubuntu ubuntu 3.7K Apr 20 04:19 08a_heterogeneous_dictionary.ipynb\r\n",
      "-rw-rw-r-- 1 ubuntu ubuntu  25K Apr 20 04:19 09_optimizer.ipynb\r\n",
      "-rw-rw-r-- 1 ubuntu ubuntu  12K Apr 20 04:19 10_mixup_ls.ipynb\r\n",
      "drwxrwxr-x 3 ubuntu ubuntu 4.0K Apr 20 04:19 FastaiNotebook_00_load_data\r\n",
      "drwxrwxr-x 3 ubuntu ubuntu 4.0K Apr 20 04:19 FastaiNotebook_01_matmul\r\n",
      "drwxrwxr-x 3 ubuntu ubuntu 4.0K Apr 20 04:19 FastaiNotebook_01a_fastai_layers\r\n",
      "drwxrwxr-x 3 ubuntu ubuntu 4.0K Apr 20 04:19 FastaiNotebook_02_fully_connected\r\n",
      "drwxrwxr-x 3 ubuntu ubuntu 4.0K Apr 20 04:19 FastaiNotebook_02a_why_sqrt5\r\n",
      "drwxrwxr-x 3 ubuntu ubuntu 4.0K Apr 20 04:19 FastaiNotebook_03_minibatch_training\r\n",
      "drwxrwxr-x 3 ubuntu ubuntu 4.0K Apr 20 04:19 FastaiNotebook_04_callbacks\r\n",
      "drwxrwxr-x 3 ubuntu ubuntu 4.0K Apr 20 04:19 FastaiNotebook_05_anneal\r\n",
      "drwxrwxr-x 3 ubuntu ubuntu 4.0K Apr 20 04:19 FastaiNotebook_05b_early_stopping\r\n",
      "drwxrwxr-x 3 ubuntu ubuntu 4.0K Apr 20 04:19 FastaiNotebook_06_cuda\r\n",
      "drwxrwxr-x 3 ubuntu ubuntu 4.0K Apr 20 04:19 FastaiNotebook_07_batchnorm\r\n",
      "drwxrwxr-x 3 ubuntu ubuntu 4.0K Apr 20 04:19 FastaiNotebook_08_data_block\r\n",
      "drwxrwxr-x 3 ubuntu ubuntu 4.0K Apr 20 04:19 FastaiNotebook_08a_heterogeneous_dictionary\r\n",
      "drwxrwxr-x 3 ubuntu ubuntu 4.0K Apr 20 04:19 FastaiNotebook_09_optimizer\r\n",
      "drwxrwxr-x 3 ubuntu ubuntu 4.0K Apr 20 04:19 FastaiNotebooks\r\n",
      "-rw-rw-r-- 1 ubuntu ubuntu 5.8K Apr 20 04:19 GlobalAvgPool.ipynb\r\n",
      "-rw-rw-r-- 1 ubuntu ubuntu 3.0K Apr 20 04:19 create_packages.ipynb\r\n",
      "-rw-rw-r-- 1 ubuntu ubuntu 1.2K Apr 20 04:19 create_packages.py\r\n",
      "-rw-rw-r-- 1 ubuntu ubuntu 6.6K Apr 20 04:19 opencv_integration_example.ipynb\r\n",
      "-rw-rw-r-- 1 ubuntu ubuntu 4.4K Apr 20 04:19 test_array_differentiable.ipynb\r\n",
      "-rw-rw-r-- 1 ubuntu ubuntu 9.5M Apr 20 04:35 train-images-idx3-ubyte.gz\r\n",
      "\r\n"
     ]
    }
   ],
   "source": [
    "print(shellCommand(\"/bin/ls\", [\"-lh\"]))"
   ]
  },
  {
   "cell_type": "markdown",
   "metadata": {},
   "source": [
    "...Chris' sidebar on Optional..."
   ]
  },
  {
   "cell_type": "code",
   "execution_count": 5,
   "metadata": {},
   "outputs": [],
   "source": [
    "//export\n",
    "public func downloadFile(_ url: String, dest: String? = nil, force: Bool = false) {\n",
    "    let dest_name = dest ?? (Path.cwd/url.split(separator: \"/\").last!).string\n",
    "    let url_dest = URL(fileURLWithPath: (dest ?? (Path.cwd/url.split(separator: \"/\").last!).string))\n",
    "    if !force && Path(dest_name)!.exists { return }\n",
    "\n",
    "    print(\"Downloading \\(url)...\")\n",
    "\n",
    "    if let cts = Just.get(url).content {\n",
    "        do    {try cts.write(to: URL(fileURLWithPath:dest_name))}\n",
    "        catch {print(\"Can't write to \\(url_dest).\\n\\(error)\")}\n",
    "    } else {\n",
    "        print(\"Can't reach \\(url)\")\n",
    "    }\n",
    "}"
   ]
  },
  {
   "cell_type": "code",
   "execution_count": 6,
   "metadata": {},
   "outputs": [],
   "source": [
    "downloadFile(\"https://storage.googleapis.com/cvdf-datasets/mnist/train-images-idx3-ubyte.gz\")"
   ]
  },
  {
   "cell_type": "code",
   "execution_count": 7,
   "metadata": {},
   "outputs": [],
   "source": [
    "//export\n",
    "import TensorFlow"
   ]
  },
  {
   "cell_type": "markdown",
   "metadata": {},
   "source": [
    "...Chris' protocol sidebar..."
   ]
  },
  {
   "cell_type": "code",
   "execution_count": 8,
   "metadata": {},
   "outputs": [],
   "source": [
    "//export\n",
    "protocol ConvertableFromByte: TensorFlowScalar {\n",
    "    init(_ d:UInt8)\n",
    "}"
   ]
  },
  {
   "cell_type": "code",
   "execution_count": 9,
   "metadata": {},
   "outputs": [],
   "source": [
    "//export\n",
    "extension Float : ConvertableFromByte{}\n",
    "extension Int32 : ConvertableFromByte{}\n",
    "\n",
    "extension Data {\n",
    "    func asTensor<T:ConvertableFromByte>() -> Tensor<T> {\n",
    "        return Tensor(map(T.init))\n",
    "    }\n",
    "}"
   ]
  },
  {
   "cell_type": "code",
   "execution_count": 10,
   "metadata": {},
   "outputs": [],
   "source": [
    "func readData<T:ConvertableFromByte>(_ fn:String, _ skip:Int) -> Tensor<T> {\n",
    "    let data = try! Data(contentsOf: URL(fileURLWithPath: fn)).dropFirst(skip)\n",
    "    return data.asTensor()\n",
    "}"
   ]
  },
  {
   "cell_type": "markdown",
   "metadata": {},
   "source": [
    "```swift\n",
    "func loadMNIST(training: Bool, labels: Bool, path: Path, flat: Bool) -> Tensor<Float> {\n",
    "func loadMNIST(training: Bool, labels: Bool, path: Path, flat: Bool) -> Tensor<Int32> {\n",
    "```"
   ]
  },
  {
   "cell_type": "code",
   "execution_count": 11,
   "metadata": {},
   "outputs": [],
   "source": [
    "//export\n",
    "func loadMNIST<T:ConvertableFromByte>\n",
    "            (training: Bool, labels: Bool, path: Path, flat: Bool) -> Tensor<T> {\n",
    "    let split = training ? \"train\" : \"t10k\"\n",
    "    let kind = labels ? \"labels\" : \"images\"\n",
    "    let batch = training ? 60000 : 10000\n",
    "    let shape: TensorShape = labels ? [batch] : (flat ? [batch, 784] : [batch, 28, 28])\n",
    "    let dropK = labels ? 8 : 16\n",
    "    let baseUrl = \"https://storage.googleapis.com/cvdf-datasets/mnist/\"\n",
    "    let fname = split + \"-\" + kind + \"-idx\\(labels ? 1 : 3)-ubyte\"\n",
    "    let file = path/fname\n",
    "    if !file.exists {\n",
    "        downloadFile(\"\\(baseUrl)\\(fname).gz\", dest:(path/\"\\(fname).gz\").string)\n",
    "        shellCommand(\"/bin/gunzip\", [\"-fq\", (path/\"\\(fname).gz\").string])\n",
    "    }\n",
    "    let data = try! Data(contentsOf: URL(fileURLWithPath: file.string)).dropFirst(dropK)\n",
    "    if labels { return data.asTensor() }\n",
    "    else      { return data.asTensor().reshaped(to: shape)}\n",
    "}\n",
    "\n",
    "public func loadMNIST(path:Path, flat:Bool = false)\n",
    "        -> (Tensor<Float>, Tensor<Int32>, Tensor<Float>, Tensor<Int32>) {\n",
    "    try! path.mkdir(.p)\n",
    "    return (\n",
    "        loadMNIST(training: true,  labels: false, path: path, flat: flat) / 255.0,\n",
    "        loadMNIST(training: true,  labels: true,  path: path, flat: flat),\n",
    "        loadMNIST(training: false, labels: false, path: path, flat: flat) / 255.0,\n",
    "        loadMNIST(training: false, labels: true,  path: path, flat: flat)\n",
    "    )\n",
    "}"
   ]
  },
  {
   "cell_type": "code",
   "execution_count": 12,
   "metadata": {},
   "outputs": [],
   "source": [
    "//export\n",
    "public let mnistPath = Path.home/\".fastai\"/\"data\"/\"mnist_tst\""
   ]
  },
  {
   "cell_type": "code",
   "execution_count": 13,
   "metadata": {},
   "outputs": [],
   "source": [
    "let (xTrain, yTrain, xValid, yValid) = loadMNIST(path: mnistPath)"
   ]
  },
  {
   "cell_type": "code",
   "execution_count": 14,
   "metadata": {},
   "outputs": [
    {
     "data": {
      "text/plain": [
       "▿ TensorShape\n",
       "  ▿ dimensions : 3 elements\n",
       "    - 0 : 60000\n",
       "    - 1 : 28\n",
       "    - 2 : 28\n"
      ]
     },
     "execution_count": 14,
     "metadata": {},
     "output_type": "execute_result"
    }
   ],
   "source": [
    "xTrain.shape"
   ]
  },
  {
   "cell_type": "code",
   "execution_count": 15,
   "metadata": {},
   "outputs": [
    {
     "data": {
      "text/plain": [
       "▿ TensorShape\n",
       "  ▿ dimensions : 2 elements\n",
       "    - 0 : 60000\n",
       "    - 1 : 784\n"
      ]
     },
     "execution_count": 15,
     "metadata": {},
     "output_type": "execute_result"
    }
   ],
   "source": [
    "let (xTrain, yTrain, xValid, yValid) = loadMNIST(path: mnistPath, flat: true)\n",
    "xTrain.shape"
   ]
  },
  {
   "cell_type": "markdown",
   "metadata": {},
   "source": [
    "## Timing"
   ]
  },
  {
   "cell_type": "code",
   "execution_count": 16,
   "metadata": {},
   "outputs": [],
   "source": [
    "//export \n",
    "import Dispatch\n",
    "\n",
    "// Time how long it takes to run the specified function, optionally taking\n",
    "// the average across a number of repetitions.\n",
    "public func time(repeating: Int = 1, _ function: () -> ()) {\n",
    "    guard repeating > 0 else { return }\n",
    "    \n",
    "    // Warmup\n",
    "    if repeating>1 {function()}\n",
    "    \n",
    "    var times = [Double]()\n",
    "    for _ in 1...repeating {\n",
    "        let start = DispatchTime.now()\n",
    "        function()\n",
    "        let end = DispatchTime.now()\n",
    "        let nanoseconds = Double(end.uptimeNanoseconds - start.uptimeNanoseconds)\n",
    "        let milliseconds = nanoseconds / 1e6\n",
    "        times.append(milliseconds)\n",
    "    }\n",
    "    print(\"average: \\(times.reduce(0.0, +)/Double(times.count)) ms,   \" +\n",
    "          \"min: \\(times.reduce(times[0], min)) ms,   \" +\n",
    "          \"max: \\(times.reduce(times[0], max)) ms\")\n",
    "}"
   ]
  },
  {
   "cell_type": "code",
   "execution_count": 17,
   "metadata": {},
   "outputs": [
    {
     "name": "stdout",
     "output_type": "stream",
     "text": [
      "average: 267.1931697 ms,   min: 267.044378 ms,   max: 267.373041 ms\r\n"
     ]
    }
   ],
   "source": [
    "time(repeating: 10) {\n",
    "    _ = loadMNIST(training: false, labels: false, path: mnistPath, flat: false) as Tensor<Float>\n",
    "}"
   ]
  },
  {
   "cell_type": "markdown",
   "metadata": {},
   "source": [
    "## Export"
   ]
  },
  {
   "cell_type": "code",
   "execution_count": 5,
   "metadata": {},
   "outputs": [],
   "source": [
    "// export\n",
    "public extension String {\n",
    "    func findFirst(pat: String) -> Range<String.Index>? {\n",
    "        return range(of: pat, options: .regularExpression)\n",
    "    }\n",
    "    func hasMatch(pat: String) -> Bool {\n",
    "        return findFirst(pat:pat) != nil\n",
    "    }\n",
    "}"
   ]
  },
  {
   "cell_type": "code",
   "execution_count": 6,
   "metadata": {},
   "outputs": [],
   "source": [
    "//export\n",
    "public func notebookToScript(fname: String){\n",
    "    // TODO: preinstall `Path` and then replace Foundation poo with this:\n",
    "    // let newname = fname.basename(dropExtension: true)+\".swift\"\n",
    "    // let url = (fname.parent/\"FastaiNotebooks/Sources/FastaiNotebooks\"/newname).url\n",
    "    let url_fname = URL(fileURLWithPath: fname)\n",
    "    let last = fname.lastPathComponent\n",
    "    let out_fname = (url_fname.deletingLastPathComponent().appendingPathComponent(\"FastaiNotebooks\", isDirectory: true)\n",
    "                     .appendingPathComponent(\"Sources\", isDirectory: true)\n",
    "                     .appendingPathComponent(\"FastaiNotebooks\", isDirectory: true).appendingPathComponent(last)\n",
    "                     .deletingPathExtension().appendingPathExtension(\"swift\"))\n",
    "    do {\n",
    "        let data = try Data(contentsOf: url_fname)\n",
    "        let jsonData = try! JSONSerialization.jsonObject(with: data, options: .allowFragments) as! [String: Any]\n",
    "        let cells = jsonData[\"cells\"] as! [[String:Any]]\n",
    "        var module = \"\"\"\n",
    "/*\n",
    "THIS FILE WAS AUTOGENERATED! DO NOT EDIT!\n",
    "file to edit: \\(fname.lastPathComponent)\n",
    "\n",
    "*/\n",
    "        \n",
    "\"\"\"\n",
    "        for cell in cells {\n",
    "            if let source = cell[\"source\"] as? [String], !source.isEmpty, \n",
    "                   source[0].hasMatch(pat: #\"^\\s*//\\s*export\\s*$\"#) {\n",
    "                module.append(\"\\n\" + source[1...].joined() + \"\\n\")\n",
    "            }\n",
    "        }\n",
    "        try? module.write(to: out_fname, atomically: false, encoding: .utf8)\n",
    "    } catch {\n",
    "        print(\"Can't read the content of \\(fname)\")\n",
    "    }\n",
    "}"
   ]
  },
  {
   "cell_type": "code",
   "execution_count": 7,
   "metadata": {},
   "outputs": [],
   "source": [
    "// export\n",
    "public func exportNotebooks(_ path: Path) {\n",
    "    for entry in try! path.ls()\n",
    "    where entry.kind == Entry.Kind.file && \n",
    "          entry.path.basename().hasMatch(pat: #\"^\\d*_.*ipynb$\"#) {\n",
    "        print(\"Converting \\(entry)\")\n",
    "        notebookToScript(fname: entry.path.string)\n",
    "    }\n",
    "}"
   ]
  },
  {
   "cell_type": "code",
   "execution_count": 8,
   "metadata": {},
   "outputs": [],
   "source": [
    "notebookToScript(fname: (Path.cwd/\"00_load_data.ipynb\").string)"
   ]
  },
  {
   "cell_type": "code",
   "execution_count": null,
   "metadata": {},
   "outputs": [],
   "source": []
  }
 ],
 "metadata": {
  "kernelspec": {
   "display_name": "Swift",
   "language": "swift",
   "name": "swift"
  },
  "language_info": {
   "file_extension": ".swift",
   "mimetype": "text/x-swift",
   "name": "swift",
   "version": ""
  }
 },
 "nbformat": 4,
 "nbformat_minor": 2
}
