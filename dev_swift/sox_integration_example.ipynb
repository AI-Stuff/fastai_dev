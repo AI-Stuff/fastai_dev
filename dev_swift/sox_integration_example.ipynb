{
 "cells": [
  {
   "cell_type": "markdown",
   "metadata": {},
   "source": [
    "## C Integration Examples\n",
    "\n",
    "Notes:\n",
    "\n",
    "- SwiftSox package requires sox to be installed: `sudo apt install libsox-dev libsox-fmt-all sox`\n",
    "- SwiftVips package requires vips to be installed: see `SwiftVips/install.sh` for steps"
   ]
  },
  {
   "cell_type": "code",
   "execution_count": null,
   "metadata": {},
   "outputs": [
    {
     "name": "stdout",
     "output_type": "stream",
     "text": [
      "Installing packages:\n",
      "\t.package(path: \"/home/jhoward/git/fastai_docs/dev_swift/SwiftVips\")\n",
      "\t\tSwiftVips\n",
      "\t.package(path: \"/home/jhoward/git/fastai_docs/dev_swift/SwiftSox\")\n",
      "\t\tSwiftSox\n",
      "\t.package(path: \"/home/jhoward/git/fastai_docs/dev_swift/FastaiNotebook_08_data_block\")\n",
      "\t\tFastaiNotebook_08_data_block\n",
      "With SwiftPM flags: []\n",
      "Working in: /tmp/tmpl10kcjdp/swift-install\n",
      "/home/jhoward/swift/usr/bin/swift-build: /home/jhoward/anaconda3/lib/libuuid.so.1: no version information available (required by /home/jhoward/swift/usr/lib/swift/linux/libFoundation.so)\n",
      "/home/jhoward/swift/usr/bin/swift-build: /home/jhoward/anaconda3/lib/libcurl.so.4: no version information available (required by /home/jhoward/swift/usr/lib/swift/linux/libFoundation.so)\n",
      "/home/jhoward/swift/usr/bin/swiftc: /home/jhoward/anaconda3/lib/libuuid.so.1: no version information available (required by /home/jhoward/swift/usr/bin/swiftc)\n",
      "Compile Swift Module 'SwiftSox' (1 sources)\n",
      "/home/jhoward/swift/usr/bin/swiftc: /home/jhoward/anaconda3/lib/libuuid.so.1: no version information available (required by /home/jhoward/swift/usr/bin/swiftc)\n",
      "\n",
      "/home/jhoward/swift/usr/bin/swift: /home/jhoward/anaconda3/lib/libuuid.so.1: no version information available (required by /home/jhoward/swift/usr/bin/swift)\n",
      "/home/jhoward/git/fastai_docs/dev_swift/swift-install/package/.build/x86_64-unknown-linux/debug/CSox.build/module.modulemap:2:14: warning: umbrella directory '/home/jhoward/git/fastai_docs/dev_swift/SwiftSox/Sources/CSox/include' not found\n",
      "    umbrella \"/home/jhoward/git/fastai_docs/dev_swift/SwiftSox/Sources/CSox/include\"\n",
      "             ^\n",
      "\n",
      "/home/jhoward/swift/usr/bin/swift: /home/jhoward/anaconda3/lib/libuuid.so.1: no version information available (required by /home/jhoward/swift/usr/bin/swift)\n",
      "/home/jhoward/git/fastai_docs/dev_swift/swift-install/package/.build/x86_64-unknown-linux/debug/CSox.build/module.modulemap:2:14: warning: umbrella directory '/home/jhoward/git/fastai_docs/dev_swift/SwiftSox/Sources/CSox/include' not found\n",
      "    umbrella \"/home/jhoward/git/fastai_docs/dev_swift/SwiftSox/Sources/CSox/include\"\n",
      "             ^\n",
      "\n",
      "Compile Swift Module 'jupyterInstalledPackages' (1 sources)\n",
      "/home/jhoward/swift/usr/bin/swiftc: /home/jhoward/anaconda3/lib/libuuid.so.1: no version information available (required by /home/jhoward/swift/usr/bin/swiftc)\n",
      "\n",
      "/home/jhoward/swift/usr/bin/swift: /home/jhoward/anaconda3/lib/libuuid.so.1: no version information available (required by /home/jhoward/swift/usr/bin/swift)\n",
      "/home/jhoward/git/fastai_docs/dev_swift/swift-install/package/.build/x86_64-unknown-linux/debug/CSox.build/module.modulemap:2:14: warning: umbrella directory '/home/jhoward/git/fastai_docs/dev_swift/SwiftSox/Sources/CSox/include' not found\n",
      "    umbrella \"/home/jhoward/git/fastai_docs/dev_swift/SwiftSox/Sources/CSox/include\"\n",
      "             ^\n",
      "\n",
      "/home/jhoward/swift/usr/bin/swift: /home/jhoward/anaconda3/lib/libuuid.so.1: no version information available (required by /home/jhoward/swift/usr/bin/swift)\n",
      "/home/jhoward/git/fastai_docs/dev_swift/swift-install/package/.build/x86_64-unknown-linux/debug/CSox.build/module.modulemap:2:14: warning: umbrella directory '/home/jhoward/git/fastai_docs/dev_swift/SwiftSox/Sources/CSox/include' not found\n",
      "    umbrella \"/home/jhoward/git/fastai_docs/dev_swift/SwiftSox/Sources/CSox/include\"\n",
      "             ^\n",
      "\n",
      "Linking ./.build/x86_64-unknown-linux/debug/libjupyterInstalledPackages.so\n",
      "/home/jhoward/swift/usr/bin/swiftc: /home/jhoward/anaconda3/lib/libuuid.so.1: no version information available (required by /home/jhoward/swift/usr/bin/swiftc)\n",
      "\n",
      "/home/jhoward/swift/usr/bin/swift-autolink-extract: /home/jhoward/anaconda3/lib/libuuid.so.1: no version information available (required by /home/jhoward/swift/usr/bin/swift-autolink-extract)\n",
      "\n",
      "Initializing Swift...\n",
      "Installation complete!\n"
     ]
    }
   ],
   "source": [
    "%install-location $cwd/swift-install\n",
    "%install '.package(path: \"$cwd/SwiftVips\")' SwiftVips\n",
    "%install '.package(path: \"$cwd/SwiftSox\")' SwiftSox\n",
    "%install '.package(path: \"$cwd/FastaiNotebook_08_data_block\")' FastaiNotebook_08_data_block"
   ]
  },
  {
   "cell_type": "code",
   "execution_count": null,
   "metadata": {},
   "outputs": [],
   "source": [
    "import Foundation\n",
    "import Python\n",
    "import TensorFlow\n",
    "import Path\n",
    "import FastaiNotebook_08_data_block"
   ]
  },
  {
   "cell_type": "markdown",
   "metadata": {},
   "source": [
    "### Sox"
   ]
  },
  {
   "cell_type": "code",
   "execution_count": null,
   "metadata": {},
   "outputs": [],
   "source": [
    "import sox\n",
    "import SwiftSox"
   ]
  },
  {
   "cell_type": "code",
   "execution_count": null,
   "metadata": {},
   "outputs": [],
   "source": [
    "let fd = ReadSoxAudio(\"SwiftSox/sounds/beep-01a.mp3\")"
   ]
  },
  {
   "cell_type": "code",
   "execution_count": null,
   "metadata": {},
   "outputs": [],
   "source": [
    "let sig = fd.pointee.signal"
   ]
  },
  {
   "cell_type": "code",
   "execution_count": null,
   "metadata": {},
   "outputs": [
    {
     "data": {
      "text/plain": [
       "▿ 4 elements\n",
       "  - .0 : 44100.0\n",
       "  - .1 : 16\n",
       "  - .2 : 1\n",
       "  - .3 : 43747\n"
      ]
     },
     "execution_count": null,
     "metadata": {},
     "output_type": "execute_result"
    }
   ],
   "source": [
    "(sig.rate,sig.precision,sig.channels,sig.length)"
   ]
  },
  {
   "cell_type": "code",
   "execution_count": null,
   "metadata": {},
   "outputs": [],
   "source": [
    "var samples = [Int32](repeating: 0, count: numericCast(sig.length))"
   ]
  },
  {
   "cell_type": "code",
   "execution_count": null,
   "metadata": {},
   "outputs": [
    {
     "data": {
      "text/plain": [
       "42624\n"
      ]
     },
     "execution_count": null,
     "metadata": {},
     "output_type": "execute_result"
    }
   ],
   "source": [
    "sox_read(fd, &samples, numericCast(sig.length))"
   ]
  },
  {
   "cell_type": "code",
   "execution_count": null,
   "metadata": {},
   "outputs": [],
   "source": [
    "let shape = TensorShape([Int(sig.length)])\n",
    "let t = Tensor(shape: shape, scalars: samples)"
   ]
  },
  {
   "cell_type": "code",
   "execution_count": null,
   "metadata": {},
   "outputs": [],
   "source": [
    "let display = Python.import(\"IPython.display\")"
   ]
  },
  {
   "cell_type": "code",
   "execution_count": null,
   "metadata": {},
   "outputs": [
    {
     "data": {
      "text/plain": [
       "<IPython.lib.display.Audio object>\n"
      ]
     },
     "execution_count": null,
     "metadata": {},
     "output_type": "execute_result"
    }
   ],
   "source": [
    "display.Audio(t.makeNumpyArray(), rate:44100)"
   ]
  },
  {
   "cell_type": "markdown",
   "metadata": {},
   "source": [
    "### Vips"
   ]
  },
  {
   "cell_type": "code",
   "execution_count": null,
   "metadata": {},
   "outputs": [],
   "source": [
    "import SwiftVips\n",
    "import CSwiftVips\n",
    "import vips"
   ]
  },
  {
   "cell_type": "code",
   "execution_count": null,
   "metadata": {},
   "outputs": [
    {
     "data": {
      "text/plain": [
       "('inline', 'module://ipykernel.pylab.backend_inline')\n"
      ]
     },
     "execution_count": null,
     "metadata": {},
     "output_type": "execute_result"
    }
   ],
   "source": [
    "%include \"EnableIPythonDisplay.swift\"\n",
    "let plt = Python.import(\"matplotlib.pyplot\")\n",
    "let np = Python.import(\"numpy\")\n",
    "IPythonDisplay.shell.enable_matplotlib(\"inline\")"
   ]
  },
  {
   "cell_type": "code",
   "execution_count": null,
   "metadata": {},
   "outputs": [],
   "source": [
    "vipsInit()"
   ]
  },
  {
   "cell_type": "code",
   "execution_count": null,
   "metadata": {},
   "outputs": [
    {
     "ename": "",
     "evalue": "",
     "output_type": "error",
     "traceback": [
      "error: <Cell 6>:1:34: error: extra argument 'sz' in call\nlet path = downloadImagenette(sz:\"\")\n                                 ^~\n\n"
     ]
    }
   ],
   "source": [
    "let path = downloadImagenette(sz:\"\")\n",
    "let allNames = fetchFiles(path: path/\"train\", recurse: true, extensions: [\"jpeg\", \"jpg\"])\n",
    "let fNames = Array(allNames[0..<256])\n",
    "let ns = fNames.map {$0.string}"
   ]
  },
  {
   "cell_type": "code",
   "execution_count": null,
   "metadata": {},
   "outputs": [],
   "source": [
    "let imgpath = ns[0]\n",
    "let img = vipsLoadImage(imgpath)!"
   ]
  },
  {
   "cell_type": "code",
   "execution_count": null,
   "metadata": {},
   "outputs": [],
   "source": [
    "func vipsToTensor(_ img:Image)->Tensor<UInt8> {\n",
    "    var sz:Int=0\n",
    "    let mem = vipsGet(img, &sz)\n",
    "    defer {free(mem)}\n",
    "    let shape = TensorShape(vipsShape(img))\n",
    "    return Tensor(shape: shape, scalars: UnsafeBufferPointer(start: mem, count: sz))\n",
    "}"
   ]
  },
  {
   "cell_type": "code",
   "execution_count": null,
   "metadata": {},
   "outputs": [],
   "source": [
    "show_img(vipsToTensor(img))"
   ]
  },
  {
   "cell_type": "code",
   "execution_count": null,
   "metadata": {},
   "outputs": [],
   "source": []
  },
  {
   "cell_type": "code",
   "execution_count": null,
   "metadata": {},
   "outputs": [],
   "source": [
    "let path = Path.cwd/\"SwiftCV/Tests/SwiftCVTests/fixtures\""
   ]
  }
 ],
 "metadata": {
  "kernelspec": {
   "display_name": "Swift",
   "language": "swift",
   "name": "swift"
  }
 },
 "nbformat": 4,
 "nbformat_minor": 2
}
