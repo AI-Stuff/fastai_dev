{
 "cells": [
  {
   "cell_type": "code",
   "execution_count": null,
   "metadata": {},
   "outputs": [
    {
     "name": "stdout",
     "output_type": "stream",
     "text": [
      "Installing packages:\n",
      "\t.package(path: \"/home/ubuntu/fastai_docs/dev_swift/FastaiNotebook_08a_heterogeneous_dictionary\")\n",
      "\t\tFastaiNotebook_08a_heterogeneous_dictionary\n",
      "With SwiftPM flags: []\n",
      "Working in: /tmp/tmpc24b9y8f/swift-install\n",
      "Compile Swift Module 'jupyterInstalledPackages' (1 sources)\n",
      "Initializing Swift...\n",
      "Installation complete!\n"
     ]
    }
   ],
   "source": [
    "%install-location $cwd/swift-install\n",
    "%install '.package(path: \"$cwd/FastaiNotebook_08a_heterogeneous_dictionary\")' FastaiNotebook_08a_heterogeneous_dictionary"
   ]
  },
  {
   "cell_type": "code",
   "execution_count": null,
   "metadata": {},
   "outputs": [],
   "source": [
    "// export\n",
    "import Path\n",
    "import TensorFlow"
   ]
  },
  {
   "cell_type": "code",
   "execution_count": null,
   "metadata": {},
   "outputs": [],
   "source": [
    "import FastaiNotebook_08a_heterogeneous_dictionary"
   ]
  },
  {
   "cell_type": "code",
   "execution_count": null,
   "metadata": {},
   "outputs": [
    {
     "data": {
      "text/plain": [
       "('inline', 'module://ipykernel.pylab.backend_inline')\n"
      ]
     },
     "execution_count": null,
     "metadata": {},
     "output_type": "execute_result"
    }
   ],
   "source": [
    "%include \"EnableIPythonDisplay.swift\"\n",
    "IPythonDisplay.shell.enable_matplotlib(\"inline\")"
   ]
  },
  {
   "cell_type": "markdown",
   "metadata": {},
   "source": [
    "## Load data"
   ]
  },
  {
   "cell_type": "markdown",
   "metadata": {},
   "source": [
    "Will train on imagenette when it's possible without OOM."
   ]
  },
  {
   "cell_type": "code",
   "execution_count": null,
   "metadata": {},
   "outputs": [],
   "source": [
    "let path = downloadImagette()"
   ]
  },
  {
   "cell_type": "code",
   "execution_count": null,
   "metadata": {},
   "outputs": [],
   "source": [
    "let il = ItemList(fromFolder: path, extensions: [\"jpeg\", \"jpg\"])\n",
    "let sd = SplitData(il, fromFunc: {grandParentSplitter(fName: $0, valid: \"val\")})\n",
    "var (procItem,procLabel) = (NoopProcessor<Path>(),CategoryProcessor())\n",
    "let sld = SplitLabeledData(sd, fromFunc: parentLabeler, procItem: &procItem, procLabel: &procLabel)\n",
    "let rawData = sld.toDataBunch(itemToTensor: pathsToTensor, labelToTensor: intsToTensor)\n",
    "let data = transformData(rawData, tfmItem: { openAndResize(fname: $0, size: 128) })"
   ]
  },
  {
   "cell_type": "code",
   "execution_count": null,
   "metadata": {},
   "outputs": [],
   "source": [
    "func modelInit() -> CNNModel { return CNNModel(channelIn: 3, nOut: 10, filters: [64, 64, 128, 256]) }"
   ]
  },
  {
   "cell_type": "markdown",
   "metadata": {},
   "source": [
    "## Stateful optimizer"
   ]
  },
  {
   "cell_type": "code",
   "execution_count": null,
   "metadata": {},
   "outputs": [],
   "source": [
    "//export\n",
    "//Expandable enum to have easier names than LearningRate.self.\n",
    "public struct HyperParams {\n",
    "    public static let lr = \"learningRate\"\n",
    "}"
   ]
  },
  {
   "cell_type": "code",
   "execution_count": null,
   "metadata": {},
   "outputs": [],
   "source": [
    "//export\n",
    "open class StatDelegate {\n",
    "    open var name: String { return \"\" }\n",
    "    var defaultConfig: [String:Float] { return [:] }\n",
    "    public init() {}\n",
    "    public func update(\n",
    "        state: inout [String: Tensor<Float>],\n",
    "        for param: Tensor<Float>,\n",
    "        along direction: Tensor<Float>,\n",
    "        config: inout [String:Float]\n",
    "    ) { }\n",
    "}\n",
    "\n",
    "//export\n",
    "open class StepDelegate {\n",
    "    var defaultConfig: [String:Float] { return [:] }\n",
    "    public init() {}\n",
    "    public func update(\n",
    "        param: inout Tensor<Float>,\n",
    "        along direction: inout Tensor<Float>,\n",
    "        state: [String: Tensor<Float>],\n",
    "        config: inout [String:Float]\n",
    "    ) { }\n",
    "}"
   ]
  },
  {
   "cell_type": "code",
   "execution_count": null,
   "metadata": {},
   "outputs": [],
   "source": [
    "//export\n",
    "public extension Tensor where Scalar: Numeric {\n",
    "    mutating func reset0() {\n",
    "        self = Tensor(0)\n",
    "    }\n",
    "}"
   ]
  },
  {
   "cell_type": "code",
   "execution_count": null,
   "metadata": {},
   "outputs": [],
   "source": [
    "//export\n",
    "public class StatefulOptimizer<Model: Layer>\n",
    "    where Model.AllDifferentiableVariables == Model.CotangentVector{\n",
    "    public var configs: [[String:Float]]\n",
    "    public var splitFunc: (Int) -> Int\n",
    "    public var states: [String: Model.AllDifferentiableVariables]\n",
    "    public var statDelegates: [StatDelegate]\n",
    "    public var stepDelegates: [StepDelegate]\n",
    "    public init(\n",
    "        for model: __shared Model,\n",
    "        stepDelegates: [StepDelegate],\n",
    "        statDelegates: [StatDelegate],\n",
    "        configs: [[String:Float]],\n",
    "        splitFunc: @escaping (Int) -> Int\n",
    "    ) {\n",
    "        self.configs = Array(repeating: [:], count: configs.count)\n",
    "        states = [:]\n",
    "        for stepDelegate in stepDelegates {\n",
    "            for i in self.configs.indices { self.configs[i].merge(stepDelegate.defaultConfig) { (_, new) in new } }\n",
    "        }\n",
    "        for statDelegate in statDelegates {\n",
    "            for i in self.configs.indices { self.configs[i].merge(statDelegate.defaultConfig) { (_, new) in new } }\n",
    "            states[statDelegate.name] = model.allDifferentiableVariables\n",
    "            for kp in states[statDelegate.name]!.keyPaths { \n",
    "                states[statDelegate.name]![keyPath: kp].reset0()\n",
    "            }\n",
    "        }\n",
    "        for i in 0..<configs.count {\n",
    "            self.configs[i].merge(configs[i]) { (_, new) in new }\n",
    "        }\n",
    "        self.stepDelegates = stepDelegates\n",
    "        self.statDelegates = statDelegates\n",
    "        self.splitFunc = splitFunc\n",
    "    }\n",
    "        \n",
    "    public func update(\n",
    "        _ model: inout Model.AllDifferentiableVariables,\n",
    "        along direction: Model.CotangentVector\n",
    "    ) {\n",
    "        for (i,kp) in model.keyPaths.enumerated() {\n",
    "            var grad = direction[keyPath: kp]\n",
    "            var state = states.mapValues(){$0[keyPath: kp]}\n",
    "            var config = configs[splitFunc(i)]\n",
    "            for statDelegate in statDelegates {\n",
    "                statDelegate.update(\n",
    "                    state: &state,\n",
    "                    for: model[keyPath: kp],\n",
    "                    along: grad,\n",
    "                    config: &config\n",
    "                )\n",
    "            }\n",
    "            for n in states.keys { states[n]![keyPath: kp] = state[n]! }\n",
    "            for stepDelegate in stepDelegates {\n",
    "                stepDelegate.update(\n",
    "                    param: &model[keyPath: kp],\n",
    "                    along: &grad,\n",
    "                    state: state,\n",
    "                    config: &config\n",
    "                )\n",
    "            }\n",
    "            configs[splitFunc(i)] = config\n",
    "        }\n",
    "    }\n",
    "}"
   ]
  },
  {
   "cell_type": "markdown",
   "metadata": {},
   "source": [
    "Conformance to the optimizer protocol"
   ]
  },
  {
   "cell_type": "code",
   "execution_count": null,
   "metadata": {},
   "outputs": [],
   "source": [
    "//export\n",
    "extension StatefulOptimizer: Optimizer{\n",
    "    public var learningRate: Float {\n",
    "        get { return configs.last![HyperParams.lr]! } \n",
    "        set { \n",
    "            for i in configs.indices {self.configs[i][HyperParams.lr] = newValue }\n",
    "        }\n",
    "    }\n",
    "    public var learningRates: [Float] {\n",
    "        get {\n",
    "            var res: [Float] = []\n",
    "            for config in configs {res.append(config[HyperParams.lr]!)}\n",
    "            return res\n",
    "        }\n",
    "        set { \n",
    "            for i in configs.indices {self.configs[i][HyperParams.lr] = newValue[i] } \n",
    "        }\n",
    "    }\n",
    "}"
   ]
  },
  {
   "cell_type": "markdown",
   "metadata": {},
   "source": [
    "Convenience init when there are no param groups"
   ]
  },
  {
   "cell_type": "code",
   "execution_count": null,
   "metadata": {},
   "outputs": [],
   "source": [
    "//export\n",
    "extension StatefulOptimizer{\n",
    "    public convenience init (for model: __shared Model,\n",
    "                             stepDelegates: [StepDelegate],\n",
    "                             statDelegates: [StatDelegate],\n",
    "                             config: [String:Float]) {\n",
    "        self.init(for: model,\n",
    "                  stepDelegates: stepDelegates,\n",
    "                  statDelegates: statDelegates,\n",
    "                  configs: [config],\n",
    "                  splitFunc: { _ in return 0 })\n",
    "    }\n",
    "}"
   ]
  },
  {
   "cell_type": "code",
   "execution_count": null,
   "metadata": {},
   "outputs": [],
   "source": [
    "//export\n",
    "public class SGDStep: StepDelegate {\n",
    "    override public var defaultConfig: [String: Float] { return [HyperParams.lr: 3e-3] }\n",
    "    override public func update(\n",
    "        param: inout TF,\n",
    "        along direction: inout TF,\n",
    "        state: [String: TF],\n",
    "        config: inout [String:Float]\n",
    "    ) {\n",
    "        param -= direction * config[HyperParams.lr]!\n",
    "    }\n",
    "}"
   ]
  },
  {
   "cell_type": "markdown",
   "metadata": {},
   "source": [
    "Test discriminative learning rates/freezing"
   ]
  },
  {
   "cell_type": "code",
   "execution_count": null,
   "metadata": {},
   "outputs": [],
   "source": [
    "//func splitFunc(_ a: Int) -> Int { return a < 2 ? 0 : 1 } to split\n",
    "//var configs = [HeterogeneousDictionary(HyperParams.lr, 0.0), HeterogeneousDictionary(HyperParams.lr, 0.01)]"
   ]
  },
  {
   "cell_type": "code",
   "execution_count": null,
   "metadata": {},
   "outputs": [],
   "source": [
    "var config: [String:Float] = [HyperParams.lr: 0.01]\n",
    "func optFunc(_ model: CNNModel) -> StatefulOptimizer<CNNModel> {\n",
    "    return StatefulOptimizer(\n",
    "        for: model,\n",
    "        stepDelegates: [SGDStep()],\n",
    "        statDelegates: [],\n",
    "        config: config)\n",
    "}"
   ]
  },
  {
   "cell_type": "code",
   "execution_count": null,
   "metadata": {},
   "outputs": [],
   "source": [
    "var learner = Learner(data: data, lossFunc: softmaxCrossEntropy, optFunc: optFunc, modelInit: modelInit)\n",
    "var recorder = learner.makeDefaultDelegates(metrics: [accuracy])\n",
    "learner.delegates.append(learner.makeNormalize(mean: mnistStats.mean, std: mnistStats.std))"
   ]
  },
  {
   "cell_type": "code",
   "execution_count": null,
   "metadata": {},
   "outputs": [
    {
     "name": "stdout",
     "output_type": "stream",
     "text": [
      "Epoch 0: [1.6311711, 0.436]                                                     \n",
      "                                                                            \r"
     ]
    }
   ],
   "source": [
    "learner.fit(1)"
   ]
  },
  {
   "cell_type": "code",
   "execution_count": null,
   "metadata": {},
   "outputs": [],
   "source": [
    "//export\n",
    "//public struct WeightDecayKey: HetDictKey { public static var defaultValue: Float = 0 }\n",
    "\n",
    "public extension HyperParams {\n",
    "    static let wd = \"weightDecay\"\n",
    "}\n",
    "\n",
    "public class WeightDecay: StepDelegate {\n",
    "    override public var defaultConfig: [String: Float] { return [HyperParams.wd: 0] }\n",
    "    override public func update(\n",
    "        param: inout TF,\n",
    "        along direction: inout TF,\n",
    "        state: [String: TF],\n",
    "        config: [String:Float]\n",
    "    ) {\n",
    "        param *= 1 - config[HyperParams.lr]! * config[HyperParams.wd]!\n",
    "    }\n",
    "}"
   ]
  },
  {
   "cell_type": "code",
   "execution_count": null,
   "metadata": {},
   "outputs": [],
   "source": [
    "//export\n",
    "public class L2Regularization: StepDelegate {\n",
    "    override public var defaultConfig: [String: Float] { return [HyperParams.wd: 0] }\n",
    "    override public func update(\n",
    "        param: inout TF,\n",
    "        along direction: inout TF,\n",
    "        state: [String: TF],\n",
    "        config: [String:Float]\n",
    "    ) {\n",
    "        direction += config[HyperParams.wd]! * param\n",
    "    }\n",
    "}"
   ]
  },
  {
   "cell_type": "code",
   "execution_count": null,
   "metadata": {},
   "outputs": [],
   "source": [
    "//export\n",
    "//Expandable enum to have tab completes/typo-proof for state variable names.\n",
    "public struct StateKeys {\n",
    "    public static let avgGrad = \"averageGrad\"\n",
    "}"
   ]
  },
  {
   "cell_type": "code",
   "execution_count": null,
   "metadata": {},
   "outputs": [],
   "source": [
    "//export\n",
    "\n",
    "//public struct Momentum: HetDictKey { public static var defaultValue: Float = 0.9 }\n",
    "//public struct MomentumDampening: HetDictKey, Equatable { public static var defaultValue: Float = 0.1 }\n",
    "public extension HyperParams {\n",
    "    static let mom = \"momentum\"\n",
    "    static let momDamp = \"dampening\"\n",
    "}\n",
    "\n",
    "public class AverageGrad: StatDelegate {\n",
    "    override public var defaultConfig: [String: Float] { return [HyperParams.mom: 0.9] }\n",
    "    public let dampened: Bool\n",
    "    public init(dampened: Bool = false) { self.dampened = dampened }\n",
    "    override public var name: String { return StateKeys.avgGrad }\n",
    "    override public func update(\n",
    "        state: inout [String: TF],\n",
    "        for param: TF,\n",
    "        along direction: TF,\n",
    "        config: inout [String:Float]\n",
    "    ) {\n",
    "        state[StateKeys.avgGrad]! *= config[HyperParams.mom]!\n",
    "        config[HyperParams.momDamp] = 1.0 - (dampened ? config[HyperParams.mom]! : 0.0)\n",
    "        state[StateKeys.avgGrad]! += config[HyperParams.momDamp]! * direction\n",
    "    }\n",
    "}"
   ]
  },
  {
   "cell_type": "code",
   "execution_count": null,
   "metadata": {},
   "outputs": [],
   "source": [
    "//export\n",
    "public class MomentumStep: StepDelegate {\n",
    "    override public func update(\n",
    "        param: inout TF,\n",
    "        along direction: inout TF,\n",
    "        state: [String: TF],\n",
    "        config: [String:Float]\n",
    "    ) {\n",
    "        param -= state[StateKeys.avgGrad]! * config[HyperParams.lr]!\n",
    "    }\n",
    "}"
   ]
  },
  {
   "cell_type": "code",
   "execution_count": null,
   "metadata": {},
   "outputs": [],
   "source": [
    "func optFunc(_ model: CNNModel) -> StatefulOptimizer<CNNModel> {\n",
    "    return StatefulOptimizer(\n",
    "        for: model,\n",
    "        stepDelegates: [MomentumStep()],\n",
    "        statDelegates: [AverageGrad()],\n",
    "        config: [HyperParams.lr: 0.01])\n",
    "}"
   ]
  },
  {
   "cell_type": "code",
   "execution_count": null,
   "metadata": {},
   "outputs": [],
   "source": [
    "var learner = Learner(data: data, lossFunc: softmaxCrossEntropy, optFunc: optFunc, modelInit: modelInit)\n",
    "var recorder = learner.makeDefaultDelegates(metrics: [accuracy])\n",
    "learner.delegates.append(learner.makeNormalize(mean: mnistStats.mean, std: mnistStats.std))"
   ]
  },
  {
   "cell_type": "code",
   "execution_count": null,
   "metadata": {},
   "outputs": [
    {
     "name": "stdout",
     "output_type": "stream",
     "text": [
      "Epoch 0: [1.4057755, 0.532]                                                     \n",
      "                                                                            \r"
     ]
    }
   ],
   "source": [
    "learner.fit(1)"
   ]
  },
  {
   "cell_type": "code",
   "execution_count": null,
   "metadata": {},
   "outputs": [
    {
     "data": {
      "text/plain": [
       "▿ 3 elements\n",
       "  ▿ 0 : 2 elements\n",
       "    - key : \"dampening\"\n",
       "    - value : 1.0\n",
       "  ▿ 1 : 2 elements\n",
       "    - key : \"learningRate\"\n",
       "    - value : 0.01\n",
       "  ▿ 2 : 2 elements\n",
       "    - key : \"momentum\"\n",
       "    - value : 0.9\n"
      ]
     },
     "execution_count": null,
     "metadata": {},
     "output_type": "execute_result"
    }
   ],
   "source": [
    "learner.opt.configs[0]"
   ]
  },
  {
   "cell_type": "code",
   "execution_count": null,
   "metadata": {},
   "outputs": [],
   "source": [
    "//export\n",
    "//public struct SquareMomentum: HetDictKey { public static var defaultValue: Float = 0.99 }\n",
    "//public struct SquareMomentumDampening: HetDictKey { public static var defaultValue: Float = 0.99 }\n",
    "\n",
    "public extension HyperParams {\n",
    "    static let ²mom = \"momentumSquares\"\n",
    "    static let ²momDamp = \"dampeningSquares\"\n",
    "}\n",
    "\n",
    "public extension StateKeys {\n",
    "    static let avgSqr = \"averageSquaredGrad\"\n",
    "}\n",
    "\n",
    "public class AverageSquaredGrad: StatDelegate {\n",
    "    let dampened: Bool\n",
    "    public init(dampened: Bool = true) { self.dampened = dampened }\n",
    "    override public var name: String { return StateKeys.avgSqr }\n",
    "    override public var defaultConfig: [String: Float] { return [HyperParams.²mom: 0.99] }\n",
    "    override public func update(\n",
    "        state: inout [String: TF],\n",
    "        for param: TF,\n",
    "        along direction: TF,\n",
    "        config: inout [String:Float]\n",
    "    ) {\n",
    "        state[StateKeys.avgSqr]! *= config[HyperParams.²mom]!\n",
    "        config[HyperParams.²momDamp] = 1.0 - (dampened ? config[HyperParams.²mom]! : 0.0)\n",
    "        state[StateKeys.avgSqr]! += config[HyperParams.²momDamp]! * direction.squared()\n",
    "    }\n",
    "}"
   ]
  },
  {
   "cell_type": "code",
   "execution_count": null,
   "metadata": {},
   "outputs": [],
   "source": [
    "//export\n",
    "public extension StateKeys {\n",
    "    static let step = \"stepCount\"\n",
    "}\n",
    "\n",
    "public class StepCount: StatDelegate {\n",
    "    override public var name: String { return StateKeys.step }\n",
    "    override public func update(\n",
    "        state: inout [String: TF],\n",
    "        for param: TF,\n",
    "        along direction: TF,\n",
    "        config: [String:Float]\n",
    "    ) {\n",
    "        state[StateKeys.step]! += 1.0\n",
    "    }\n",
    "}"
   ]
  },
  {
   "cell_type": "code",
   "execution_count": null,
   "metadata": {},
   "outputs": [],
   "source": [
    "//export\n",
    "//public struct Epsilon: HetDictKey { public static var defaultValue: Float = 1e-5 }\n",
    "public extension HyperParams {\n",
    "    static let eps = \"epsilon\"\n",
    "}"
   ]
  },
  {
   "cell_type": "code",
   "execution_count": null,
   "metadata": {},
   "outputs": [],
   "source": [
    "//export\n",
    "public class AdamStep: StepDelegate {\n",
    "    override public var defaultConfig: [String: Float] { return [HyperParams.eps: 1e-5] }\n",
    "    override public func update(\n",
    "        param: inout TF,\n",
    "        along direction: inout TF,\n",
    "        state: [String: TF],\n",
    "        config: [String:Float]\n",
    "    ) {\n",
    "        let step = state[StateKeys.step]!\n",
    "        let (mom,damp) = (config[HyperParams.mom]!,config[HyperParams.momDamp]!)\n",
    "        let debias1 = damp * (1 - pow(mom, step)) / (1 - mom)\n",
    "        let num = debias1 * state[StateKeys.avgGrad]!\n",
    "        \n",
    "        let (²mom,²damp) = (config[HyperParams.²mom]!,config[HyperParams.²momDamp]!)\n",
    "        let debias2 = ²damp * (1 - pow(²mom, step)) / (1 - ²mom)\n",
    "        let denom = sqrt(state[StateKeys.avgSqr]!/debias2) + config[HyperParams.eps]!\n",
    "        \n",
    "        param -= config[HyperParams.lr]! * num / denom\n",
    "    }\n",
    "}"
   ]
  },
  {
   "cell_type": "code",
   "execution_count": null,
   "metadata": {},
   "outputs": [],
   "source": [
    "func optFunc(_ model: CNNModel) -> StatefulOptimizer<CNNModel> {\n",
    "    return StatefulOptimizer(\n",
    "        for: model,\n",
    "        stepDelegates: [AdamStep()], \n",
    "        statDelegates: [AverageGrad(dampened: true), AverageSquaredGrad(), StepCount()], \n",
    "        config: [HyperParams.lr: 1e-3])\n",
    "}"
   ]
  },
  {
   "cell_type": "code",
   "execution_count": null,
   "metadata": {},
   "outputs": [],
   "source": [
    "let learner = Learner(data: data, lossFunc: softmaxCrossEntropy, optFunc: optFunc, modelInit: modelInit)\n",
    "let recorder = learner.makeDefaultDelegates(metrics: [accuracy])\n",
    "learner.delegates.append(learner.makeNormalize(mean: mnistStats.mean, std: mnistStats.std))"
   ]
  },
  {
   "cell_type": "code",
   "execution_count": null,
   "metadata": {},
   "outputs": [
    {
     "name": "stdout",
     "output_type": "stream",
     "text": [
      "Epoch 0: [1.1812357, 0.614]                                                     \n",
      "                                                                           \r"
     ]
    }
   ],
   "source": [
    "learner.fit(1)"
   ]
  },
  {
   "cell_type": "code",
   "execution_count": null,
   "metadata": {},
   "outputs": [
    {
     "data": {
      "text/plain": [
       "▿ 6 elements\n",
       "  ▿ 0 : 2 elements\n",
       "    - key : \"dampeningSquares\"\n",
       "    - value : 0.00999999\n",
       "  ▿ 1 : 2 elements\n",
       "    - key : \"momentum\"\n",
       "    - value : 0.9\n",
       "  ▿ 2 : 2 elements\n",
       "    - key : \"momentumSquares\"\n",
       "    - value : 0.99\n",
       "  ▿ 3 : 2 elements\n",
       "    - key : \"learningRate\"\n",
       "    - value : 0.01\n",
       "  ▿ 4 : 2 elements\n",
       "    - key : \"dampening\"\n",
       "    - value : 0.100000024\n",
       "  ▿ 5 : 2 elements\n",
       "    - key : \"epsilon\"\n",
       "    - value : 1e-05\n"
      ]
     },
     "execution_count": null,
     "metadata": {},
     "output_type": "execute_result"
    }
   ],
   "source": [
    "learner.opt.configs[0]"
   ]
  },
  {
   "cell_type": "code",
   "execution_count": null,
   "metadata": {},
   "outputs": [],
   "source": [
    "class LambStep: StepDelegate {\n",
    "    override var defaultConfig: [String: Float] { return [HyperParams.eps: 1e-6, HyperParams.wd: 0.0] }\n",
    "    override func update(\n",
    "        param: inout TF,\n",
    "        along direction: inout TF,\n",
    "        state: [String: TF],\n",
    "        config: inout [String: Float]\n",
    "    ) {\n",
    "        let stepCount = state[StateKeys.step]!\n",
    "        let (mom,damp) = (config[HyperParams.mom]!,config[HyperParams.momDamp]!)\n",
    "        let debias1 = damp * (1 - pow(mom, stepCount)) / (1 - mom)\n",
    "        let num = debias1 * state[StateKeys.avgGrad]!\n",
    "        \n",
    "        let (²mom,²damp) = (config[HyperParams.²mom]!,config[HyperParams.²momDamp]!)\n",
    "        let debias2 = ²damp * (1 - pow(²mom, stepCount)) / (1 - ²mom)\n",
    "        let denom = sqrt(state[StateKeys.avgSqr]!/debias2) + config[HyperParams.eps]!\n",
    "        \n",
    "        let step = num / denom + config[HyperParams.wd]! * param\n",
    "        let r1 = sqrt((param * param).mean())\n",
    "        let r2 = sqrt((step * step).mean())\n",
    "        let factor = min(r1 / r2, Float(10.0))\n",
    "        param -= config[HyperParams.lr]! * factor * step\n",
    "    }\n",
    "}"
   ]
  },
  {
   "cell_type": "markdown",
   "metadata": {},
   "source": [
    "### Making convenience functions"
   ]
  },
  {
   "cell_type": "code",
   "execution_count": null,
   "metadata": {},
   "outputs": [],
   "source": [
    "// export\n",
    "public func SGDOpt<Model>(lr: Float, mom: Float = 0.9, wd: Float = 0.0, dampening: Bool = false\n",
    "                         ) -> ((Model) -> StatefulOptimizer<Model>) {\n",
    "    var steppers = (mom != 0) ? [MomentumStep()] : [SGDStep()]\n",
    "    if wd != 0 { steppers.append(WeightDecay()) }\n",
    "    let stats = (mom != 0) ? [AverageGrad(dampened: dampening)] : []\n",
    "    var config: [String: Float] = [HyperParams.lr: lr]\n",
    "    if mom != 0 { config[HyperParams.mom] = mom }\n",
    "    if wd != 0  { config[HyperParams.wd ] = wd  }\n",
    "    return {model in \n",
    "        return StatefulOptimizer(for: model, stepDelegates: steppers, statDelegates: stats, config: config)}\n",
    "}"
   ]
  },
  {
   "cell_type": "code",
   "execution_count": null,
   "metadata": {},
   "outputs": [],
   "source": [
    "// export\n",
    "public func AdamOpt<Model>(lr: Float, mom: Float = 0.9, beta: Float=0.99, wd: Float = 0.0, eps: Float = 1e-5\n",
    "                         ) -> ((Model) -> StatefulOptimizer<Model>) {\n",
    "    var steppers: [StepDelegate] = [AdamStep()]\n",
    "    if wd != 0 { steppers.append(WeightDecay()) }\n",
    "    let stats = [AverageGrad(dampened: true), AverageSquaredGrad(), StepCount()]\n",
    "    var config: [String: Float] = [HyperParams.lr: lr]\n",
    "    config[HyperParams.mom] = mom\n",
    "    config[HyperParams.²mom] = beta\n",
    "    config[HyperParams.eps] = eps\n",
    "    if wd != 0  { config[HyperParams.wd ] = wd  }\n",
    "    return {model in \n",
    "        return StatefulOptimizer(for: model, stepDelegates: steppers, statDelegates: stats, config: config)}\n",
    "}"
   ]
  },
  {
   "cell_type": "markdown",
   "metadata": {},
   "source": [
    "### Schedule the hyperparams"
   ]
  },
  {
   "cell_type": "code",
   "execution_count": null,
   "metadata": {},
   "outputs": [],
   "source": [
    "public extension StatefulOptimizer {\n",
    "    func setParam(_ hp: String, _ val: Float) {\n",
    "        for i in 0..<configs.count { configs[i][hp] = val }\n",
    "    }\n",
    "}"
   ]
  },
  {
   "cell_type": "code",
   "execution_count": null,
   "metadata": {},
   "outputs": [],
   "source": [
    "// export\n",
    "extension Learner where Opt.Scalar: BinaryFloatingPoint, \n",
    "    Opt.Model.AllDifferentiableVariables == Opt.Model.CotangentVector{\n",
    "    public class ParamScheduler: Delegate {\n",
    "        public override var order: Int { return 1 }\n",
    "        public typealias ScheduleFunc = (Float) -> Float\n",
    "\n",
    "        // A learning rate schedule from step to float.\n",
    "        public var scheduler: ScheduleFunc\n",
    "        public let hp: String\n",
    "        \n",
    "        public init(scheduler: @escaping (Float) -> Float, hp: String) {\n",
    "            (self.scheduler,self.hp) = (scheduler,hp)\n",
    "        }\n",
    "        \n",
    "        override public func batchWillStart(learner: Learner) {\n",
    "            let val = scheduler(learner.pctEpochs/Float(learner.epochCount))\n",
    "            (learner.opt as! StatefulOptimizer<Opt.Model>).setParam(hp, val)\n",
    "        }\n",
    "    }\n",
    "    \n",
    "    public func makeParamScheduler(scheduler: @escaping (Float) -> Float, hp: String) -> ParamScheduler {\n",
    "        return ParamScheduler(scheduler: scheduler, hp: hp)\n",
    "    }\n",
    "}"
   ]
  },
  {
   "cell_type": "code",
   "execution_count": null,
   "metadata": {},
   "outputs": [],
   "source": [
    "let optFunc: (CNNModel) -> StatefulOptimizer<CNNModel> = AdamOpt(lr: 1e-3, mom: 0.9, beta: 0.99, wd: 1e-2, eps: 1e-6)"
   ]
  },
  {
   "cell_type": "code",
   "execution_count": null,
   "metadata": {},
   "outputs": [],
   "source": [
    "let learner = Learner(data: data, lossFunc: softmaxCrossEntropy, optFunc: optFunc, modelInit: modelInit)\n",
    "let recorder = learner.makeDefaultDelegates(metrics: [accuracy])\n",
    "learner.delegates.append(learner.makeNormalize(mean: mnistStats.mean, std: mnistStats.std))"
   ]
  },
  {
   "cell_type": "code",
   "execution_count": null,
   "metadata": {},
   "outputs": [],
   "source": [
    "let lr: Float = 1e-3\n",
    "let lrSched = combineSchedules(pcts: [0.5, 0.5], \n",
    "                               schedules: [makeAnnealer(start: lr/10.0, end: lr, schedule: cosineSchedule),\n",
    "                                           makeAnnealer(start: lr, end: lr/1e5, schedule: cosineSchedule)])\n",
    "let momSched = combineSchedules(pcts: [0.5, 0.5], \n",
    "                                schedules: [makeAnnealer(start: 0.95, end: 0.85, schedule: cosineSchedule),\n",
    "                                            makeAnnealer(start: 0.85, end: 0.95, schedule: cosineSchedule)])\n",
    "learner.addDelegate(learner.makeParamScheduler(scheduler: lrSched, hp: HyperParams.lr))\n",
    "learner.addDelegate(learner.makeParamScheduler(scheduler: momSched, hp: HyperParams.mom))"
   ]
  },
  {
   "cell_type": "code",
   "execution_count": null,
   "metadata": {},
   "outputs": [
    {
     "name": "stdout",
     "output_type": "stream",
     "text": [
      "Epoch 0: [1.2887342, 0.566]                                                     \n",
      "                                                                           \r"
     ]
    }
   ],
   "source": [
    "learner.fit(1)"
   ]
  },
  {
   "cell_type": "code",
   "execution_count": null,
   "metadata": {},
   "outputs": [
    {
     "data": {
      "image/png": "[encoded data removed]",
      "text/plain": [
       "<Figure size 432x288 with 1 Axes>"
      ]
     },
     "metadata": {
      "needs_background": "light"
     },
     "output_type": "display_data"
    }
   ],
   "source": [
    "recorder.plotLRs()"
   ]
  },
  {
   "cell_type": "markdown",
   "metadata": {},
   "source": [
    "## Export"
   ]
  },
  {
   "cell_type": "code",
   "execution_count": null,
   "metadata": {},
   "outputs": [],
   "source": [
    "notebookToScript(fname: Path.cwd / \"09_optimizer.ipynb\")"
   ]
  },
  {
   "cell_type": "code",
   "execution_count": null,
   "metadata": {},
   "outputs": [],
   "source": []
  }
 ],
 "metadata": {
  "kernelspec": {
   "display_name": "Swift",
   "language": "swift",
   "name": "swift"
  }
 },
 "nbformat": 4,
 "nbformat_minor": 1
}
