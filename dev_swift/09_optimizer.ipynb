{
 "cells": [
  {
   "cell_type": "code",
   "execution_count": null,
   "metadata": {},
   "outputs": [
    {
     "name": "stdout",
     "output_type": "stream",
     "text": [
      "Installing packages:\n",
      "\t.package(path: \"/home/ubuntu/fastai_docs/dev_swift/FastaiNotebook_08a_heterogeneous_dictionary\")\n",
      "\t\tFastaiNotebook_08a_heterogeneous_dictionary\n",
      "With SwiftPM flags: []\n",
      "Working in: /tmp/tmprf0ly84y/swift-install\n",
      "Fetching https://github.com/mxcl/Path.swift\n",
      "Fetching https://github.com/JustHTTP/Just\n",
      "Completed resolution in 4.43s\n",
      "Cloning https://github.com/mxcl/Path.swift\n",
      "Resolving https://github.com/mxcl/Path.swift at 0.16.2\n",
      "Cloning https://github.com/JustHTTP/Just\n",
      "Resolving https://github.com/JustHTTP/Just at 0.7.1\n",
      "Compile Swift Module 'Just' (1 sources)\n",
      "Compile Swift Module 'Path' (9 sources)\n",
      "Compile Swift Module 'FastaiNotebook_08a_heterogeneous_dictionary' (13 sources)\n",
      "Compile Swift Module 'jupyterInstalledPackages' (1 sources)\n",
      "Linking ./.build/x86_64-unknown-linux/debug/libjupyterInstalledPackages.so\n",
      "Initializing Swift...\n",
      "Installation complete!\n"
     ]
    }
   ],
   "source": [
    "%install '.package(path: \"$cwd/FastaiNotebook_08a_heterogeneous_dictionary\")' FastaiNotebook_08a_heterogeneous_dictionary"
   ]
  },
  {
   "cell_type": "markdown",
   "metadata": {},
   "source": [
    "## Load data"
   ]
  },
  {
   "cell_type": "code",
   "execution_count": null,
   "metadata": {},
   "outputs": [
    {
     "data": {
      "text/plain": [
       "('inline', 'module://ipykernel.pylab.backend_inline')\n"
      ]
     },
     "execution_count": null,
     "metadata": {},
     "output_type": "execute_result"
    }
   ],
   "source": [
    "import FastaiNotebook_08a_heterogeneous_dictionary\n",
    "%include \"EnableIPythonDisplay.swift\"\n",
    "IPythonDisplay.shell.enable_matplotlib(\"inline\")"
   ]
  },
  {
   "cell_type": "code",
   "execution_count": null,
   "metadata": {},
   "outputs": [],
   "source": [
    "// export\n",
    "import Path\n",
    "import TensorFlow"
   ]
  },
  {
   "cell_type": "code",
   "execution_count": null,
   "metadata": {},
   "outputs": [],
   "source": [
    "let path = downloadImagette()"
   ]
  },
  {
   "cell_type": "code",
   "execution_count": null,
   "metadata": {},
   "outputs": [],
   "source": [
    "let il = ItemList(fromFolder: path, extensions: [\"jpeg\", \"jpg\"])\n",
    "let sd = SplitData(il, fromFunc: {grandParentSplitter(fName: $0, valid: \"val\")})\n",
    "var (procItem,procLabel) = (NoopProcessor<Path>(),CategoryProcessor())\n",
    "let sld = SplitLabeledData(sd, fromFunc: parentLabeler, procItem: &procItem, procLabel: &procLabel)\n",
    "var rawData = sld.toDataBunch(itemToTensor: pathsToTensor, labelToTensor: intsToTensor)\n",
    "let data = transformData(rawData, tfmItem: { openAndResize(fname: $0, size: 128) })"
   ]
  },
  {
   "cell_type": "code",
   "execution_count": null,
   "metadata": {},
   "outputs": [],
   "source": [
    "let data = mnistDataBunch(flat: true)"
   ]
  },
  {
   "cell_type": "code",
   "execution_count": null,
   "metadata": {},
   "outputs": [],
   "source": [
    "let (n,m) = (60000,784)\n",
    "let c = 10\n",
    "let nHid = 50"
   ]
  },
  {
   "cell_type": "code",
   "execution_count": null,
   "metadata": {},
   "outputs": [],
   "source": [
    "func modelInit() -> BasicModel {return BasicModel(nIn: m, nHid: nHid, nOut: c)}"
   ]
  },
  {
   "cell_type": "markdown",
   "metadata": {},
   "source": [
    "## Stateful optimizer"
   ]
  },
  {
   "cell_type": "code",
   "execution_count": null,
   "metadata": {},
   "outputs": [],
   "source": [
    "//export\n",
    "open class StatDelegate<Scalar: TensorFlowFloatingPoint> {\n",
    "    open var name: String { return \"\" }\n",
    "    var defaultConfig: HeterogeneousDictionary { return HeterogeneousDictionary() }\n",
    "    func update(\n",
    "        state: inout [String: Tensor<Scalar>],\n",
    "        for param: Tensor<Scalar>,\n",
    "        along direction: Tensor<Scalar>,\n",
    "        config: inout HeterogeneousDictionary\n",
    "    ) { }\n",
    "}\n",
    "\n",
    "//export\n",
    "open class StepDelegate<Scalar: TensorFlowFloatingPoint> {\n",
    "    var defaultConfig: HeterogeneousDictionary { return HeterogeneousDictionary() }\n",
    "    func update(\n",
    "        param: inout Tensor<Scalar>,\n",
    "        along direction: inout Tensor<Scalar>,\n",
    "        state: [String: Tensor<Scalar>],\n",
    "        config: inout HeterogeneousDictionary\n",
    "    ) { }\n",
    "}"
   ]
  },
  {
   "cell_type": "code",
   "execution_count": null,
   "metadata": {},
   "outputs": [],
   "source": [
    "//export\n",
    "class StatefulOptimizer<Model: Layer,\n",
    "                        Scalar: TensorFlowFloatingPoint>: Optimizer\n",
    "    where Model.AllDifferentiableVariables == Model.CotangentVector{\n",
    "    var configs: [HeterogeneousDictionary]\n",
    "    var learningRate: Float {\n",
    "        get { return configs.last![LearningRate()] } \n",
    "        set { \n",
    "            for i in configs.indices {self.configs[i][LearningRate()] = newValue }\n",
    "        }\n",
    "    }\n",
    "    var learningRates: [Float] {\n",
    "        get {\n",
    "            var res: [Float] = []\n",
    "            for config in configs {res.append(config[LearningRate()])}\n",
    "            return res\n",
    "        }\n",
    "        set { \n",
    "            for i in configs.indices {self.configs[i][LearningRate()] = newValue[i] } \n",
    "        }\n",
    "    }\n",
    "    var splits: (Int) -> Int\n",
    "    var states: [String: Model.AllDifferentiableVariables]\n",
    "    var statDelegates: [StatDelegate<Scalar>]\n",
    "    var stepDelegates: [StepDelegate<Scalar>]\n",
    "    init(\n",
    "        stepDelegates: [StepDelegate<Scalar>],\n",
    "        statDelegates: [StatDelegate<Scalar>],\n",
    "        configs: [HeterogeneousDictionary],\n",
    "        splits: @escaping (Int) -> Int\n",
    "    ) {\n",
    "        self.configs = Array(repeating: HeterogeneousDictionary(), count: configs.count)\n",
    "        states = [:]\n",
    "        for stepDelegate in stepDelegates {\n",
    "            for i in self.configs.indices { self.configs[i].merge(stepDelegate.defaultConfig) { (_, new) in new } }\n",
    "        }\n",
    "        for statDelegate in statDelegates {\n",
    "            for i in self.configs.indices { self.configs[i].merge(statDelegate.defaultConfig) { (_, new) in new } }\n",
    "            states[statDelegate.name] = Model.AllDifferentiableVariables.zero\n",
    "        }\n",
    "        for i in 0..<configs.count {\n",
    "            self.configs[i].merge(configs[i]) { (_, new) in new }\n",
    "        }\n",
    "        self.stepDelegates = stepDelegates\n",
    "        self.statDelegates = statDelegates\n",
    "        self.splits = splits\n",
    "    }\n",
    "        \n",
    "    func update(\n",
    "        _ model: inout Model.AllDifferentiableVariables,\n",
    "        along direction: Model.CotangentVector\n",
    "    ) {\n",
    "        for (i,kp) in model.recursivelyAllWritableKeyPaths(to: Tensor<Scalar>.self).enumerated() {\n",
    "            var grad = direction[keyPath: kp]\n",
    "            var state = states.mapValues(){$0[keyPath: kp]}\n",
    "            var config = configs[splits(i)]\n",
    "            for statDelegate in statDelegates {\n",
    "                statDelegate.update(\n",
    "                    state: &state,\n",
    "                    for: model[keyPath: kp],\n",
    "                    along: grad,\n",
    "                    config: &config\n",
    "                )\n",
    "            }\n",
    "            for n in states.keys { states[n]![keyPath: kp] = state[n]! }\n",
    "            for stepDelegate in stepDelegates {\n",
    "                stepDelegate.update(\n",
    "                    param: &model[keyPath: kp],\n",
    "                    along: &grad,\n",
    "                    state: state,\n",
    "                    config: &config\n",
    "                )\n",
    "            }\n",
    "        }\n",
    "    }\n",
    "}"
   ]
  },
  {
   "cell_type": "code",
   "execution_count": null,
   "metadata": {},
   "outputs": [],
   "source": [
    "//export\n",
    "class SGDStep: StepDelegate<Float> {\n",
    "    override func update(\n",
    "        param: inout Tensor<Float>,\n",
    "        along direction: inout Tensor<Float>,\n",
    "        state: [String: Tensor<Float>],\n",
    "        config: inout HeterogeneousDictionary\n",
    "    ) {\n",
    "        param -= direction * config[LearningRate()]\n",
    "    }\n",
    "}"
   ]
  },
  {
   "cell_type": "code",
   "execution_count": null,
   "metadata": {},
   "outputs": [],
   "source": [
    "//export\n",
    "public struct WeightDecayKey: HetDictKey, Equatable {\n",
    "    public static var defaultValue: Float = 0.0\n",
    "}\n",
    "\n",
    "class WeightDecay: StepDelegate<Float> {\n",
    "    override func update(\n",
    "        param: inout Tensor<Float>,\n",
    "        along direction: inout Tensor<Float>,\n",
    "        state: [String: Tensor<Float>],\n",
    "        config: inout HeterogeneousDictionary\n",
    "    ) {\n",
    "        param *= 1 - config[LearningRate()] * config[WeightDecayKey()]\n",
    "    }\n",
    "}"
   ]
  },
  {
   "cell_type": "code",
   "execution_count": null,
   "metadata": {},
   "outputs": [],
   "source": [
    "//export\n",
    "\n",
    "class L2Regularization: StepDelegate<Float> {\n",
    "    override func update(\n",
    "        param: inout Tensor<Float>,\n",
    "        along direction: inout Tensor<Float>,\n",
    "        state: [String: Tensor<Float>],\n",
    "        config: inout HeterogeneousDictionary\n",
    "    ) {\n",
    "        direction += config[WeightDecayKey()] * param\n",
    "    }\n",
    "}"
   ]
  },
  {
   "cell_type": "code",
   "execution_count": null,
   "metadata": {},
   "outputs": [],
   "source": [
    "//export\n",
    "\n",
    "public struct Momentum: HetDictKey, Equatable {\n",
    "    public static var defaultValue: Float = 0.9\n",
    "}\n",
    "\n",
    "public struct MomentumDampening: HetDictKey, Equatable {\n",
    "    public static var defaultValue: Float = 0.9\n",
    "}\n",
    "\n",
    "class AverageGrad: StatDelegate<Float> {\n",
    "    let dampened: Bool\n",
    "    init(dampened: Bool = false) { self.dampened = dampened }\n",
    "    override var name: String { return \"averageGrad\" }\n",
    "    override func update(\n",
    "        state: inout [String: Tensor<Float>],\n",
    "        for param: Tensor<Float>,\n",
    "        along direction: Tensor<Float>,\n",
    "        config: inout HeterogeneousDictionary\n",
    "    ) {\n",
    "        state[\"averageGrad\"]! *= config[Momentum()]\n",
    "        config[MomentumDampening()] = 1.0 - (dampened ? config[Momentum()] : 0.0)\n",
    "        state[\"averageGrad\"]! += config[MomentumDampening()] * direction\n",
    "    }\n",
    "}"
   ]
  },
  {
   "cell_type": "code",
   "execution_count": null,
   "metadata": {},
   "outputs": [],
   "source": [
    "func splitFunc(_ a: Int) -> Int { return a < 2 ? 0 : 1 }"
   ]
  },
  {
   "cell_type": "code",
   "execution_count": null,
   "metadata": {},
   "outputs": [],
   "source": [
    "var configs = [HeterogeneousDictionary(LearningRate(), 0.0), HeterogeneousDictionary(LearningRate(), 0.01)]\n",
    "func optFunc(_ model: BasicModel) -> StatefulOptimizer<BasicModel, Float> {\n",
    "    return StatefulOptimizer(\n",
    "        stepDelegates: [SGDStep()],\n",
    "        statDelegates: [],\n",
    "        configs: configs,\n",
    "        splits: splitFunc)\n",
    "}"
   ]
  },
  {
   "cell_type": "code",
   "execution_count": null,
   "metadata": {},
   "outputs": [],
   "source": [
    "let learner = Learner(data: data, lossFunc: softmaxCrossEntropy, optFunc: optFunc, modelInit: modelInit)\n",
    "let recorder = learner.makeDefaultDelegates(metrics: [accuracy])\n",
    "learner.delegates.append(learner.makeNormalize(mean: mnistStats.mean, std: mnistStats.std))"
   ]
  },
  {
   "cell_type": "code",
   "execution_count": null,
   "metadata": {},
   "outputs": [],
   "source": [
    "let params = learner.model.allDifferentiableVariables"
   ]
  },
  {
   "cell_type": "code",
   "execution_count": null,
   "metadata": {},
   "outputs": [
    {
     "name": "stdout",
     "output_type": "stream",
     "text": [
      "[  0.009547793,    -0.0652047,  -0.040830057,   -0.06607734,  -0.035449643,  -0.029223876,\r\n",
      "  -0.069044866,   -0.07417027,  -0.044368744,  -0.017305592,  -0.054592714,   -0.07292264,\r\n",
      "   0.004027301,   -0.05478491,   -0.08444236,   -0.01053853,    0.08308772,    0.05292193,\r\n",
      " -0.0041120634,  -0.025117364,  -0.041467123,   -0.06437787,   0.018266529,   0.007423208,\r\n",
      "   -0.05540281,  -0.054200035,  -0.062669456,   0.010964707,   0.016433652,  -0.028503189,\r\n",
      "   -0.05840129,    0.07455959,  -0.080125235,   0.012823347,  0.0046170265,  -0.060755327,\r\n",
      "    -0.0266574,   0.064538606,  -0.010068561,   0.021664713,   -0.06170307,    -0.0270647,\r\n",
      "   -0.04225708,   -0.05714935, -0.0010171867,    0.08358967,    0.04058204,  -0.029697666,\r\n",
      "  0.0042612036,    0.08436677]\r\n",
      "0.0\r\n",
      "[ -0.076215886, 0.00037851845,   -0.19870798,   -0.10219983,   -0.21089736,    0.08636105,\r\n",
      "    0.20502812,    0.14080973,   -0.14035013,    0.24389455]\r\n",
      "0.0\r\n"
     ]
    }
   ],
   "source": [
    "for kp in params.recursivelyAllWritableKeyPaths(to: TF.self) { \n",
    "    print(params[keyPath: kp][0]) \n",
    "}"
   ]
  },
  {
   "cell_type": "code",
   "execution_count": null,
   "metadata": {},
   "outputs": [
    {
     "name": "stdout",
     "output_type": "stream",
     "text": [
      "Epoch 0: [1.1411686, 0.6516]                                                    \n",
      "Epoch 1: [0.9434332, 0.7135]                                                    \n",
      "                                                                              \r"
     ]
    }
   ],
   "source": [
    "learner.fit(2)"
   ]
  },
  {
   "cell_type": "code",
   "execution_count": null,
   "metadata": {},
   "outputs": [
    {
     "name": "stdout",
     "output_type": "stream",
     "text": [
      "[  0.009547793,    -0.0652047,  -0.040830057,   -0.06607734,  -0.035449643,  -0.029223876,\r\n",
      "  -0.069044866,   -0.07417027,  -0.044368744,  -0.017305592,  -0.054592714,   -0.07292264,\r\n",
      "   0.004027301,   -0.05478491,   -0.08444236,   -0.01053853,    0.08308772,    0.05292193,\r\n",
      " -0.0041120634,  -0.025117364,  -0.041467123,   -0.06437787,   0.018266529,   0.007423208,\r\n",
      "   -0.05540281,  -0.054200035,  -0.062669456,   0.010964707,   0.016433652,  -0.028503189,\r\n",
      "   -0.05840129,    0.07455959,  -0.080125235,   0.012823347,  0.0046170265,  -0.060755327,\r\n",
      "    -0.0266574,   0.064538606,  -0.010068561,   0.021664713,   -0.06170307,    -0.0270647,\r\n",
      "   -0.04225708,   -0.05714935, -0.0010171867,    0.08358967,    0.04058204,  -0.029697666,\r\n",
      "  0.0042612036,    0.08436677]\r\n",
      "0.0\r\n",
      "[  0.11427569,   -0.2975522,  -0.27106583,  -0.22690077,   -0.2002997,   0.17686953,\r\n",
      "    0.6566362, -0.039751936, -0.116897374,   0.15278816]\r\n",
      "-0.04700609\r\n"
     ]
    }
   ],
   "source": [
    "let params = learner.model.allDifferentiableVariables\n",
    "for kp in params.recursivelyAllWritableKeyPaths(to: TF.self) { \n",
    "    print(params[keyPath: kp][0]) \n",
    "}"
   ]
  },
  {
   "cell_type": "code",
   "execution_count": null,
   "metadata": {},
   "outputs": [],
   "source": [
    "//export\n",
    "class MomentumStep: StepDelegate<Float> {\n",
    "    override func update(\n",
    "        param: inout Tensor<Float>,\n",
    "        along direction: inout Tensor<Float>,\n",
    "        state: [String: Tensor<Float>],\n",
    "        config: inout HeterogeneousDictionary\n",
    "    ) {\n",
    "        param -= config[LearningRate()] * state[\"averageGrad\"]!\n",
    "    }\n",
    "}"
   ]
  },
  {
   "cell_type": "code",
   "execution_count": null,
   "metadata": {},
   "outputs": [],
   "source": [
    "func optFunc(_ model: BasicModel) -> StatefulOptimizer<BasicModel, Float> {\n",
    "    return StatefulOptimizer(\n",
    "        stepDelegates: [MomentumStep()],\n",
    "        statDelegates: [AverageGrad()],\n",
    "        configs: configs,\n",
    "        splits: splitFunc)\n",
    "}"
   ]
  },
  {
   "cell_type": "code",
   "execution_count": null,
   "metadata": {},
   "outputs": [],
   "source": [
    "let learner = Learner(data: data, lossFunc: softmaxCrossEntropy, optFunc: optFunc, modelInit: modelInit)\n",
    "let recorder = learner.makeDefaultDelegates(metrics: [accuracy])\n",
    "learner.delegates.append(learner.makeNormalize(mean: mnistStats.mean, std: mnistStats.std))"
   ]
  },
  {
   "cell_type": "code",
   "execution_count": null,
   "metadata": {},
   "outputs": [
    {
     "name": "stdout",
     "output_type": "stream",
     "text": [
      "Epoch 0: [0.6913208, 0.7908]                                                    \n",
      "Epoch 1: [0.6574781, 0.7991]                                                    \n",
      "                                                                              \r"
     ]
    }
   ],
   "source": [
    "learner.fit(2)"
   ]
  },
  {
   "cell_type": "code",
   "execution_count": null,
   "metadata": {},
   "outputs": [],
   "source": [
    "//export\n",
    "\n",
    "public struct SquareMomentum: HetDictKey, Equatable {\n",
    "    public static var defaultValue: Float = 0.99\n",
    "}\n",
    "\n",
    "public struct SquareMomentumDampening: HetDictKey, Equatable {\n",
    "    public static var defaultValue: Float = 0.99\n",
    "}\n",
    "\n",
    "\n",
    "class AverageSquaredGrad: StatDelegate<Float> {\n",
    "    let dampened: Bool\n",
    "    init(dampened: Bool = false) { self.dampened = dampened }\n",
    "    override var name: String { return \"averageSquaredGrad\" }\n",
    "    override func update(\n",
    "        state: inout [String: Tensor<Float>],\n",
    "        for param: Tensor<Float>,\n",
    "        along direction: Tensor<Float>,\n",
    "        config: inout HeterogeneousDictionary\n",
    "    ) {\n",
    "        state[\"averageSquaredGrad\"]! *= config[SquareMomentum()]\n",
    "        config[SquareMomentumDampening()] = 1.0 - (dampened ? config[SquareMomentum()] : 0.0)\n",
    "        state[\"averageSquaredGrad\"]! += config[SquareMomentumDampening()] * direction.squared()\n",
    "    }\n",
    "}"
   ]
  },
  {
   "cell_type": "code",
   "execution_count": null,
   "metadata": {},
   "outputs": [],
   "source": [
    "//export\n",
    "class StepCount: StatDelegate<Float> {\n",
    "    override var name: String { return \"step\" }\n",
    "    override func update(\n",
    "        state: inout [String: Tensor<Float>],\n",
    "        for param: Tensor<Float>,\n",
    "        along direction: Tensor<Float>,\n",
    "        config: inout HeterogeneousDictionary\n",
    "    ) {\n",
    "        state[\"step\"]! += 1.0\n",
    "    }\n",
    "}"
   ]
  },
  {
   "cell_type": "code",
   "execution_count": null,
   "metadata": {},
   "outputs": [],
   "source": [
    "//export\n",
    "func debias<Scalar: TensorFlowFloatingPoint>(_ mom: Scalar, _ damp: Scalar, _ step: Tensor<Scalar>) -> Tensor<Scalar> {\n",
    "    return damp * (1 - pow(mom, step)) / (1 - mom)\n",
    "}"
   ]
  },
  {
   "cell_type": "code",
   "execution_count": null,
   "metadata": {},
   "outputs": [],
   "source": [
    "//export\n",
    "public struct Epsilon: HetDictKey, Equatable {\n",
    "    public static var defaultValue: Float = 1e-5\n",
    "}\n",
    "\n",
    "class AdamStep: StepDelegate<Float> {\n",
    "    override func update(\n",
    "        param: inout Tensor<Float>,\n",
    "        along direction: inout Tensor<Float>,\n",
    "        state: [String: Tensor<Float>],\n",
    "        config: inout HeterogeneousDictionary\n",
    "    ) {\n",
    "        let debiasedLearningRate = config[LearningRate()] / debias(\n",
    "            config[Momentum()], config[MomentumDampening()], state[\"step\"]!)\n",
    "        let debiasedRMSGrad = sqrt(state[\"averageSquaredGrad\"]! / debias(\n",
    "            config[SquareMomentum()], config[SquareMomentumDampening()], state[\"step\"]!)) + config[Epsilon()]\n",
    "        param -= debiasedLearningRate * state[\"averageGrad\"]! / debiasedRMSGrad\n",
    "    }\n",
    "}"
   ]
  },
  {
   "cell_type": "code",
   "execution_count": null,
   "metadata": {},
   "outputs": [],
   "source": [
    "func opt(_ model: BasicModel) -> StatefulOptimizer<BasicModel, Float> {\n",
    "    return StatefulOptimizer(\n",
    "        stepDelegates: [AdamStep()], \n",
    "        statDelegates: [AverageGrad(), AverageSquaredGrad(), StepCount()], \n",
    "        configs: configs,\n",
    "        splits: splitFunc)\n",
    "}"
   ]
  },
  {
   "cell_type": "code",
   "execution_count": null,
   "metadata": {},
   "outputs": [],
   "source": [
    "let learner = Learner(data: data, lossFunc: softmaxCrossEntropy, optFunc: optFunc, modelInit: modelInit)\n",
    "let recorder = learner.makeDefaultDelegates(metrics: [accuracy])\n",
    "learner.delegates.append(learner.makeNormalize(mean: mnistStats.mean, std: mnistStats.std))"
   ]
  },
  {
   "cell_type": "code",
   "execution_count": null,
   "metadata": {},
   "outputs": [
    {
     "name": "stdout",
     "output_type": "stream",
     "text": [
      "Epoch 0: [0.7322381, 0.7717]                                                    \n",
      "Epoch 1: [0.6920017, 0.7842]                                                    \n",
      "                                                                              \r"
     ]
    }
   ],
   "source": [
    "learner.fit(2)"
   ]
  },
  {
   "cell_type": "code",
   "execution_count": null,
   "metadata": {},
   "outputs": [],
   "source": [
    "class LambStep: StepDelegate<Float> {\n",
    "    override var defaultConfig: HeterogeneousDictionary {\n",
    "        return HeterogeneousDictionary(Epsilon(), 1e-6, WeightDecayKey(), 0.0)\n",
    "    }\n",
    "    override func update(\n",
    "        param: inout Tensor<Float>,\n",
    "        along direction: inout Tensor<Float>,\n",
    "        state: [String: Tensor<Float>],\n",
    "        config: inout HeterogeneousDictionary\n",
    "    ) {\n",
    "        let debiasedAverageGrad = state[\"averageGrad\"]! / debias(\n",
    "            momentum: config[Momentum()],\n",
    "            dampening: config[MomentumDampening()],\n",
    "            step: state[\"step\"]!\n",
    "        )\n",
    "        let debiasedRMSGrad = sqrt(state[\"averageSquaredGrad\"]! / debias(\n",
    "            momentum: config[SquareMomentum()],\n",
    "            dampening: config[SquareMomentumDampening()],\n",
    "            step: state[\"step\"]!\n",
    "        ) + config[Epsilon()])\n",
    "        let step = debiasedAverageGrad / debiasedRMSGrad + config[WeightDecayKey()] * param\n",
    "        let r1 = sqrt((param * param).mean())\n",
    "        let r2 = sqrt((step * step).mean())\n",
    "        let factor = min(r1 / r2, Float(10.0))\n",
    "        param -= config[LearningRate()] * factor * step\n",
    "    }\n",
    "}"
   ]
  },
  {
   "cell_type": "markdown",
   "metadata": {},
   "source": [
    "## Export"
   ]
  },
  {
   "cell_type": "code",
   "execution_count": null,
   "metadata": {},
   "outputs": [],
   "source": [
    "notebookToScript(fname: (Path.cwd / \"09_optimizer.ipynb\").string)"
   ]
  },
  {
   "cell_type": "code",
   "execution_count": null,
   "metadata": {},
   "outputs": [],
   "source": []
  }
 ],
 "metadata": {
  "kernelspec": {
   "display_name": "Swift",
   "language": "swift",
   "name": "swift"
  }
 },
 "nbformat": 4,
 "nbformat_minor": 1
}
