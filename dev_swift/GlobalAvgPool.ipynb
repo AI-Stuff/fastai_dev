{
 "cells": [
  {
   "cell_type": "code",
   "execution_count": 1,
   "metadata": {},
   "outputs": [],
   "source": [
    "import TensorFlow"
   ]
  },
  {
   "cell_type": "code",
   "execution_count": 2,
   "metadata": {},
   "outputs": [],
   "source": [
    "public struct aModel: Layer {\n",
    "    public var conv = Conv2D<Float>(\n",
    "        filterShape: (3, 3, 16, 32), \n",
    "        strides: (2, 2), \n",
    "        padding: .same, \n",
    "        activation: relu)\n",
    "    public var pool = GlobalAvgPool2D<Float>()\n",
    "    public var linear = Dense<Float>(inputSize: 32, outputSize: 10)\n",
    "    \n",
    "    @differentiable\n",
    "    public func call(_ input: Tensor<Float>) -> Tensor<Float> {\n",
    "        return input.sequenced(through: conv, pool, linear)\n",
    "    }\n",
    "}"
   ]
  },
  {
   "cell_type": "code",
   "execution_count": 3,
   "metadata": {},
   "outputs": [],
   "source": [
    "var model = aModel()"
   ]
  },
  {
   "cell_type": "code",
   "execution_count": 4,
   "metadata": {},
   "outputs": [],
   "source": [
    "let x = Tensor<Float>(randomNormal: [64, 10, 10, 16])"
   ]
  },
  {
   "cell_type": "code",
   "execution_count": 8,
   "metadata": {},
   "outputs": [
    {
     "data": {
      "text/plain": [
       "▿ TensorShape\n",
       "  ▿ dimensions : 2 elements\n",
       "    - 0 : 64\n",
       "    - 1 : 10\n"
      ]
     },
     "execution_count": 8,
     "metadata": {},
     "output_type": "execute_result"
    }
   ],
   "source": [
    "let pred = model(x)\n",
    "pred.shape"
   ]
  },
  {
   "cell_type": "code",
   "execution_count": 9,
   "metadata": {},
   "outputs": [],
   "source": [
    "let y = Tensor<Float>(randomNormal: [64, 10])"
   ]
  },
  {
   "cell_type": "code",
   "execution_count": 13,
   "metadata": {},
   "outputs": [
    {
     "name": "stdout",
     "output_type": "stream",
     "text": [
      "Fatal error: Incompatible shapes: [64,32] vs. [64,5,5,32]: file /swift-base/swift/stdlib/public/TensorFlow/CompilerRuntime.swift, line 2108\r\n",
      "Current stack trace:\r\n",
      "0    libswiftCore.so                    0x00007fe34cfc9e00 _swift_stdlib_reportFatalErrorInFile + 115\r\n",
      "1    libswiftCore.so                    0x00007fe34cf1206c <unavailable> + 3035244\r\n",
      "2    libswiftCore.so                    0x00007fe34cf1215e <unavailable> + 3035486\r\n",
      "3    libswiftCore.so                    0x00007fe34cd59a12 <unavailable> + 1231378\r\n",
      "4    libswiftCore.so                    0x00007fe34ceded42 <unavailable> + 2825538\r\n",
      "5    libswiftCore.so                    0x00007fe34cd58ef9 <unavailable> + 1228537\r\n",
      "6    libswiftTensorFlow.so              0x00007fe34a349162 <unavailable> + 598370\r\n",
      "7    libswiftTensorFlow.so              0x00007fe34a3478b0 checkOk(_:file:line:) + 508\r\n",
      "8    libswiftTensorFlow.so              0x00007fe34a36bfb0 _TFCCheckOk(_:) + 81\r\n",
      "9    libswiftTensorFlow.so              0x00007fe34a36bfa0 _swift_tfc_CheckOk + 9\r\n"
     ]
    },
    {
     "ename": "",
     "evalue": "",
     "output_type": "error",
     "traceback": [
      "Current stack trace:",
      "\tframe #20: 0x00007fe379f95b14 $__lldb_expr31`AD__$s14__lldb_expr_306aModelV4cally10TensorFlow0E0VySfGAHF__adjoint_src_0_wrt_0_1 at <Cell 5>:12:22",
      "\tframe #22: 0x00007fe379ec4f16 $__lldb_expr76`partial apply for AD__$s14__lldb_expr_7510TensorFlow0C0VySfG02__a1_B3_306aModelVXEfU___adjoint_src_0_wrt_0 [inlined] AD__$s14__lldb_expr_7510TensorFlow0C0VySfG02__a1_B3_306aModelVXEfU___adjoint_src_0_wrt_0 at <Cell 13>:2:40",
      "\tframe #30: 0x00007fe379ec4339 $__lldb_expr76`main at <Cell 13>:1:26"
     ]
    }
   ],
   "source": [
    "let (loss, grad) = model.valueWithGradient {model -> Tensor<Float> in\n",
    "    return meanSquaredError(predicted: model(x), expected: y)}"
   ]
  },
  {
   "cell_type": "code",
   "execution_count": 5,
   "metadata": {},
   "outputs": [],
   "source": [
    "let x = Tensor<Float>(randomNormal: [64, 10, 10, 16])\n",
    "let y = Tensor<Float>(randomNormal: [64, 16])"
   ]
  },
  {
   "cell_type": "code",
   "execution_count": 6,
   "metadata": {},
   "outputs": [
    {
     "data": {
      "text/plain": [
       "0.0142605025\n"
      ]
     },
     "execution_count": 6,
     "metadata": {},
     "output_type": "execute_result"
    }
   ],
   "source": [
    "let z = x.mean(squeezingAxes: [1, 2])\n",
    "(y-z).mean()"
   ]
  },
  {
   "cell_type": "code",
   "execution_count": 7,
   "metadata": {},
   "outputs": [],
   "source": [
    "let x = Tensor<Float>(randomNormal: [64, 10, 16])\n",
    "let y = Tensor<Float>(randomNormal: [64, 16])"
   ]
  },
  {
   "cell_type": "code",
   "execution_count": 9,
   "metadata": {},
   "outputs": [
    {
     "name": "stdout",
     "output_type": "stream",
     "text": [
      "Fatal error: Incompatible shapes: [64,16] vs. [64,10,16]: file /swift-base/swift/stdlib/public/TensorFlow/CompilerRuntime.swift, line 2108\r\n",
      "Current stack trace:\r\n",
      "0    libswiftCore.so                    0x00007f22ce5ace00 _swift_stdlib_reportFatalErrorInFile + 115\r\n",
      "1    libswiftCore.so                    0x00007f22ce4f506c <unavailable> + 3035244\r\n",
      "2    libswiftCore.so                    0x00007f22ce4f515e <unavailable> + 3035486\r\n",
      "3    libswiftCore.so                    0x00007f22ce33ca12 <unavailable> + 1231378\r\n",
      "4    libswiftCore.so                    0x00007f22ce4c1d42 <unavailable> + 2825538\r\n",
      "5    libswiftCore.so                    0x00007f22ce33bef9 <unavailable> + 1228537\r\n",
      "6    libswiftTensorFlow.so              0x00007f22cb92c162 <unavailable> + 598370\r\n",
      "7    libswiftTensorFlow.so              0x00007f22cb92a8b0 checkOk(_:file:line:) + 508\r\n",
      "8    libswiftTensorFlow.so              0x00007f22cb94efb0 _TFCCheckOk(_:) + 81\r\n",
      "9    libswiftTensorFlow.so              0x00007f22cb94efa0 _swift_tfc_CheckOk + 9\r\n"
     ]
    },
    {
     "ename": "",
     "evalue": "",
     "output_type": "error",
     "traceback": [
      "Current stack trace:",
      "\tframe #16: 0x00007f22fb4a11a2 $__lldb_expr68`partial apply for AD__$s14__lldb_expr_6710TensorFlow0C0VySfGAEXEfU___adjoint_src_0_wrt_0 [inlined] AD__$s14__lldb_expr_6710TensorFlow0C0VySfGAEXEfU___adjoint_src_0_wrt_0 at <Cell 9>:2:17",
      "\tframe #24: 0x00007f22fb49c149 $__lldb_expr68`main at <Cell 9>:1:20",
      "\tframe #42: 0x00007f22fb4aa702 $__lldb_expr64`partial apply for AD__$s14__lldb_expr_6310TensorFlow0C0VySfGAEXEfU___adjoint_src_0_wrt_0 [inlined] AD__$s14__lldb_expr_6310TensorFlow0C0VySfGAEXEfU___adjoint_src_0_wrt_0 at <Cell 8>:2:15",
      "\tframe #50: 0x00007f22fb4a5149 $__lldb_expr64`main at <Cell 8>:1:20"
     ]
    }
   ],
   "source": [
    "let (loss, grad) = valueWithGradient(at: x) { x -> Tensor<Float> in\n",
    "    return (y-x.mean(squeezingAxes: 1)).mean()}"
   ]
  },
  {
   "cell_type": "code",
   "execution_count": null,
   "metadata": {},
   "outputs": [],
   "source": []
  }
 ],
 "metadata": {
  "kernelspec": {
   "display_name": "Swift",
   "language": "swift",
   "name": "swift"
  },
  "language_info": {
   "file_extension": ".swift",
   "mimetype": "text/x-swift",
   "name": "swift",
   "version": ""
  }
 },
 "nbformat": 4,
 "nbformat_minor": 2
}
