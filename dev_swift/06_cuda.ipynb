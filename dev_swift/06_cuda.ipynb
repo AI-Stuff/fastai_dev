{
 "cells": [
  {
   "cell_type": "markdown",
   "metadata": {},
   "source": [
    "# A CNN Mnist Model"
   ]
  },
  {
   "cell_type": "code",
   "execution_count": 1,
   "metadata": {},
   "outputs": [
    {
     "name": "stdout",
     "output_type": "stream",
     "text": [
      "Installing packages:\n",
      "\t.package(path: \"/home/ubuntu/fastai_docs/dev_swift/FastaiNotebook_05b_early_stopping\")\n",
      "\t\tFastaiNotebook_05b_early_stopping\n",
      "With SwiftPM flags: []\n",
      "Working in: /tmp/tmpiuxnivt_/swift-install\n",
      "Fetching https://github.com/mxcl/Path.swift\n",
      "Fetching https://github.com/JustHTTP/Just\n",
      "Completed resolution in 3.00s\n",
      "Cloning https://github.com/mxcl/Path.swift\n",
      "Resolving https://github.com/mxcl/Path.swift at 0.16.2\n",
      "Cloning https://github.com/JustHTTP/Just\n",
      "Resolving https://github.com/JustHTTP/Just at 0.7.1\n",
      "Compile Swift Module 'Just' (1 sources)\n",
      "Compile Swift Module 'Path' (9 sources)\n",
      "Compile Swift Module 'FastaiNotebook_05b_early_stopping' (9 sources)\n",
      "Compile Swift Module 'jupyterInstalledPackages' (1 sources)\n",
      "Linking ./.build/x86_64-unknown-linux/debug/libjupyterInstalledPackages.so\n",
      "Initializing Swift...\n",
      "Installation complete!\n"
     ]
    }
   ],
   "source": [
    "%install '.package(path: \"$cwd/FastaiNotebook_05b_early_stopping\")' FastaiNotebook_05b_early_stopping"
   ]
  },
  {
   "cell_type": "markdown",
   "metadata": {},
   "source": [
    "## Load data"
   ]
  },
  {
   "cell_type": "code",
   "execution_count": 2,
   "metadata": {},
   "outputs": [
    {
     "data": {
      "text/plain": [
       "('inline', 'module://ipykernel.pylab.backend_inline')\n"
      ]
     },
     "execution_count": 2,
     "metadata": {},
     "output_type": "execute_result"
    }
   ],
   "source": [
    "import FastaiNotebook_05b_early_stopping\n",
    "%include \"EnableIPythonDisplay.swift\"\n",
    "IPythonDisplay.shell.enable_matplotlib(\"inline\")"
   ]
  },
  {
   "cell_type": "code",
   "execution_count": 3,
   "metadata": {},
   "outputs": [],
   "source": [
    "// export\n",
    "import Path\n",
    "import TensorFlow\n",
    "import Python"
   ]
  },
  {
   "cell_type": "code",
   "execution_count": 4,
   "metadata": {},
   "outputs": [],
   "source": [
    "let plt = Python.import(\"matplotlib.pyplot\")"
   ]
  },
  {
   "cell_type": "code",
   "execution_count": 5,
   "metadata": {},
   "outputs": [],
   "source": [
    "let data = mnistDataBunch(flat: false, bs: 512)"
   ]
  },
  {
   "cell_type": "code",
   "execution_count": 6,
   "metadata": {},
   "outputs": [
    {
     "name": "stdout",
     "output_type": "stream",
     "text": [
      "Batch size: 512\r\n",
      "Example side size: 28\r\n",
      "Class count: 512\r\n"
     ]
    }
   ],
   "source": [
    "let firstBatch = data.train.ds.first(where: { _ in true })!\n",
    "let batchShape = firstBatch.xb.shape\n",
    "let batchSize = batchShape.dimensions[0]\n",
    "let exampleSideSize = batchShape.dimensions[1]\n",
    "assert(exampleSideSize == batchShape.dimensions[2])\n",
    "print(\"Batch size: \\(batchSize)\")\n",
    "print(\"Example side size: \\(exampleSideSize)\")\n",
    "\n",
    "let classCount = firstBatch.yb.shape.dimensions[0]\n",
    "print(\"Class count: \\(classCount)\")"
   ]
  },
  {
   "cell_type": "code",
   "execution_count": 7,
   "metadata": {},
   "outputs": [
    {
     "data": {
      "text/plain": [
       "▿ TensorShape\n",
       "  ▿ dimensions : 3 elements\n",
       "    - 0 : 512\n",
       "    - 1 : 28\n",
       "    - 2 : 28\n"
      ]
     },
     "execution_count": 7,
     "metadata": {},
     "output_type": "execute_result"
    }
   ],
   "source": [
    "firstBatch.xb.shape"
   ]
  },
  {
   "cell_type": "code",
   "execution_count": 8,
   "metadata": {},
   "outputs": [],
   "source": [
    "// export\n",
    "extension Learner {\n",
    "    public class AddChannel: Delegate {\n",
    "        public override func batchWillStart(learner: Learner) {\n",
    "            learner.currentInput = learner.currentInput!.expandingShape(at: -1)\n",
    "        }\n",
    "    }\n",
    "    \n",
    "    public func makeAddChannel() -> AddChannel { return AddChannel() }\n",
    "}"
   ]
  },
  {
   "cell_type": "code",
   "execution_count": 9,
   "metadata": {},
   "outputs": [],
   "source": [
    "//export\n",
    "extension Array: Layer where Element: Layer, Element.Input == Element.Output {\n",
    "    public typealias Input = Element.Input\n",
    "    public typealias Output = Element.Output\n",
    "    \n",
    "    @differentiable(vjp: _vjpApplied)\n",
    "    public func call(_ input: Input) -> Output {\n",
    "        var activation = input\n",
    "        for layer in self {\n",
    "            activation = layer(activation)\n",
    "        }\n",
    "        return activation\n",
    "    }\n",
    "    \n",
    "    public func _vjpApplied(_ input: Input)\n",
    "        -> (Output, (Output.CotangentVector) -> (Array.CotangentVector, Input.CotangentVector))\n",
    "    {\n",
    "        var activation = input\n",
    "        var pullbacks: [(Input.CotangentVector) -> (Element.CotangentVector, Input.CotangentVector)] = []\n",
    "        for layer in self {\n",
    "            let (newActivation, newPullback) = layer.valueWithPullback(at: activation) { $0($1) }\n",
    "            activation = newActivation\n",
    "            pullbacks.append(newPullback)\n",
    "        }\n",
    "        func pullback(_ v: Input.CotangentVector) -> (Array.CotangentVector, Input.CotangentVector) {\n",
    "            var activationGradient = v\n",
    "            var layerGradients: [Element.CotangentVector] = []\n",
    "            for pullback in pullbacks.reversed() {\n",
    "                let (newLayerGradient, newActivationGradient) = pullback(activationGradient)\n",
    "                activationGradient = newActivationGradient\n",
    "                layerGradients.append(newLayerGradient)\n",
    "            }\n",
    "            return (Array.CotangentVector(layerGradients.reversed()), activationGradient)\n",
    "        }\n",
    "        return (activation, pullback)\n",
    "    }\n",
    "}"
   ]
  },
  {
   "cell_type": "code",
   "execution_count": 10,
   "metadata": {},
   "outputs": [],
   "source": [
    "//export \n",
    "public func conv<Scalar>(_ cIn: Int, _ cOut: Int, ks: Int = 3, stride: Int = 2) -> FAConv2D<Scalar> {\n",
    "    return FAConv2D<Scalar>(filterShape: (ks, ks, cIn, cOut), \n",
    "                            strides: (stride,stride), \n",
    "                            padding: .same, \n",
    "                            activation: relu)\n",
    "}\n",
    "\n",
    "public struct CnnModel: Layer {\n",
    "    public var convs: [FAConv2D<Float>]\n",
    "    public var pool = FAAdaptiveAvgPool2D<Float>()\n",
    "    public var flatten = Flatten<Float>()\n",
    "    public var linear: FADense<Float>\n",
    "    \n",
    "    public init(channelIn: Int, nOut: Int, filters: [Int]){\n",
    "        convs = []\n",
    "        let allFilters = [channelIn] + filters\n",
    "        for i in 0..<filters.count { convs.append(conv(allFilters[i], allFilters[i+1])) }\n",
    "        linear = FADense<Float>(inputSize: filters.last!, outputSize: nOut)\n",
    "    }\n",
    "    \n",
    "    @differentiable\n",
    "    public func call(_ input: TF) -> TF {\n",
    "        return input.sequenced(through: convs, pool, flatten, linear)\n",
    "    }\n",
    "}"
   ]
  },
  {
   "cell_type": "code",
   "execution_count": 11,
   "metadata": {},
   "outputs": [],
   "source": [
    "let model = CnnModel(channelIn: 1, nOut: 10, filters: [8, 16, 32, 32])"
   ]
  },
  {
   "cell_type": "code",
   "execution_count": 12,
   "metadata": {},
   "outputs": [
    {
     "name": "stdout",
     "output_type": "stream",
     "text": [
      "TensorShape(dimensions: [512, 10])\r\n",
      "[0.0129952775, -0.017304689,  -0.04636014,   0.06974999,  0.020264331,  -0.02302126,\r\n",
      "   -0.0295473,  0.009958538, -0.009651821, -0.022774817]\r\n"
     ]
    }
   ],
   "source": [
    "// Test that data goes through the model as expected.\n",
    "let predictions = model(firstBatch.xb.expandingShape(at: -1))\n",
    "print(predictions.shape)\n",
    "print(predictions[0])"
   ]
  },
  {
   "cell_type": "markdown",
   "metadata": {},
   "source": [
    "# Compare training on CPU and GPU"
   ]
  },
  {
   "cell_type": "code",
   "execution_count": null,
   "metadata": {},
   "outputs": [],
   "source": [
    "func optFunc(_ model: CnnModel) -> SGD<CnnModel> { return SGD(for: model, learningRate: 0.4)}\n",
    "func modelInit() -> CnnModel { return CnnModel(channelIn: 1, nOut: 10, filters: [8, 16, 32, 32]) }\n",
    "let learner = Learner(data: data, lossFunc: softmaxCrossEntropy, optFunc: optFunc, modelInit: modelInit)\n",
    "let recorder = learner.makeDefaultDelegates(metrics: [accuracy])\n",
    "learner.addDelegates([learner.makeNormalize(mean: mnistStats.mean, std: mnistStats.std),\n",
    "                      learner.makeAddChannel()])"
   ]
  },
  {
   "cell_type": "code",
   "execution_count": null,
   "metadata": {},
   "outputs": [],
   "source": [
    "// This happens on the GPU (if you have one and it's configured correctly).\n",
    "// I tried this on a GCE 8vCPU 30GB + Tesla P100:\n",
    "// - time: ~4.3s\n",
    "// - nvidia-smi shows ~10% GPU-Util while this is running\n",
    "time { try! learner.fit(1) }"
   ]
  },
  {
   "cell_type": "code",
   "execution_count": null,
   "metadata": {},
   "outputs": [],
   "source": [
    "// This happens on the CPU.\n",
    "// I tried this on a GCE 8vCPU 30GB + Tesla P100:\n",
    "// - time: ~6.3s\n",
    "// - nvidia-smi shows 0% GPU-Util while this is running\n",
    "time {\n",
    "    withDevice(.cpu) { try! learner.fit(1) }\n",
    "}"
   ]
  },
  {
   "cell_type": "markdown",
   "metadata": {},
   "source": [
    "# Collect Layer Activation Statistics"
   ]
  },
  {
   "cell_type": "code",
   "execution_count": null,
   "metadata": {},
   "outputs": [],
   "source": [
    "class ActivationStatistics: LayerDelegate<Tensor<Float>> {\n",
    "    var activationMeans: [Float] = []\n",
    "    var activationStds: [Float] = []    \n",
    "    override func didProduceActivation(_ activation: Tensor<Float>) {\n",
    "        activationMeans.append(activation.mean().scalar!)\n",
    "        activationStds.append(activation.standardDeviation().reshaped(to: []).scalar!)\n",
    "    }\n",
    "}"
   ]
  },
  {
   "cell_type": "code",
   "execution_count": null,
   "metadata": {},
   "outputs": [],
   "source": [
    "extension KeyPathIterable {    \n",
    "    mutating func initializeLayerDelegates<T>(with initializer: () -> LayerDelegate<T>) {\n",
    "        for kp in recursivelyAllWritableKeyPaths(to: LayerDelegate<T>.self) {\n",
    "            self[keyPath: kp] = initializer()\n",
    "        }\n",
    "    }\n",
    "    \n",
    "    func layerDelegates<T, D: LayerDelegate<T>>(havingType: D.Type) -> [D] {\n",
    "        var result: [D] = []\n",
    "        for kp in recursivelyAllWritableKeyPaths(to: LayerDelegate<T>.self) {\n",
    "            guard let d = self[keyPath: kp] as? D else { continue }\n",
    "            result.append(d)\n",
    "        }\n",
    "        return result\n",
    "    }\n",
    "}"
   ]
  },
  {
   "cell_type": "code",
   "execution_count": 15,
   "metadata": {},
   "outputs": [
    {
     "ename": "",
     "evalue": "",
     "output_type": "error",
     "traceback": [
      "error: <Cell 15>:6:48: error: use of unresolved identifier 'ActivationStatistics'\nlearner.model.initializeLayerDelegates(with: { ActivationStatistics() })\n                                               ^~~~~~~~~~~~~~~~~~~~\n\n"
     ]
    }
   ],
   "source": [
    "let learner = Learner(data: data, lossFunc: softmaxCrossEntropy, optFunc: optFunc, modelInit: modelInit)\n",
    "let recorder = learner.makeDefaultDelegates(metrics: [accuracy])\n",
    "learner.addDelegates([learner.makeNormalize(mean: mnistStats.mean, std: mnistStats.std),\n",
    "                      learner.makeAddChannel()])\n",
    "\n",
    "learner.model.initializeLayerDelegates(with: { ActivationStatistics() })"
   ]
  },
  {
   "cell_type": "code",
   "execution_count": 16,
   "metadata": {},
   "outputs": [
    {
     "name": "stdout",
     "output_type": "stream",
     "text": [
      "-------------------------------------------------- 0.00% [0/118 00:00<00:00]\r",
      "Fatal error: Incompatible shapes: [512,32] vs. [512,2,2,32]: file /swift-base/swift/stdlib/public/TensorFlow/CompilerRuntime.swift, line 2108\r\n",
      "Current stack trace:\r\n",
      "0    libswiftCore.so                    0x00007fdcb523ae00 _swift_stdlib_reportFatalErrorInFile + 115\r\n",
      "1    libswiftCore.so                    0x00007fdcb518306c <unavailable> + 3035244\r\n",
      "2    libswiftCore.so                    0x00007fdcb518315e <unavailable> + 3035486\r\n",
      "3    libswiftCore.so                    0x00007fdcb4fcaa12 <unavailable> + 1231378\r\n",
      "4    libswiftCore.so                    0x00007fdcb514fd42 <unavailable> + 2825538\r\n",
      "5    libswiftCore.so                    0x00007fdcb4fc9ef9 <unavailable> + 1228537\r\n",
      "6    libswiftTensorFlow.so              0x00007fdcb23b7162 <unavailable> + 598370\r\n",
      "7    libswiftTensorFlow.so              0x00007fdcb23b58b0 checkOk(_:file:line:) + 508\r\n",
      "8    libswiftTensorFlow.so              0x00007fdcb23d9fb0 _TFCCheckOk(_:) + 81\r\n",
      "9    libswiftTensorFlow.so              0x00007fdcb23d9fa0 _swift_tfc_CheckOk + 9\r\n"
     ]
    },
    {
     "ename": "",
     "evalue": "",
     "output_type": "error",
     "traceback": [
      "Current stack trace:",
      "\tframe #12: 0x00007fdce21dbc99 libjupyterInstalledPackages.so`AD__$s33FastaiNotebook_05b_early_stopping17FAGlobalAvgPool2DV7forwardy10TensorFlow0I0VyxGAHF__adjoint_src_0_wrt_0_1 at 01a_fastai_layers.swift:287:22",
      "\tframe #13: 0x00007fdce21dbdb4 libjupyterInstalledPackages.so`partial apply for AD__$s33FastaiNotebook_05b_early_stopping17FAGlobalAvgPool2DV7forwardy10TensorFlow0I0VyxGAHF__adjoint_src_0_wrt_0_1 at <compiler-generated>:0",
      "\tframe #14: 0x00007fdce21dbf2b libjupyterInstalledPackages.so`AD__$s33FastaiNotebook_05b_early_stopping17FAGlobalAvgPool2DV4cally10TensorFlow0I0VyxGAHF__adjoint_src_0_wrt_0_1 at 01a_fastai_layers.swift:292:26",
      "\tframe #15: 0x00007fdce21dc064 libjupyterInstalledPackages.so`partial apply for AD__$s33FastaiNotebook_05b_early_stopping17FAGlobalAvgPool2DV4cally10TensorFlow0I0VyxGAHF__adjoint_src_0_wrt_0_1 at <compiler-generated>:0",
      "\tframe #16: 0x00007fdce21d8473 libjupyterInstalledPackages.so`thunk for @escaping @callee_guaranteed (@guaranteed Tensor<A>) -> (@unowned FAGlobalAvgPool2D<A>.AllDifferentiableVariables, @owned Tensor<A>) at <compiler-generated>:0",
      "\tframe #17: 0x00007fdce21e4812 libjupyterInstalledPackages.so`partial apply for thunk for @escaping @callee_guaranteed (@guaranteed Tensor<A>) -> (@unowned FAGlobalAvgPool2D<A>.AllDifferentiableVariables, @owned Tensor<A>) at <compiler-generated>:0",
      "\tframe #22: 0x00007fdc940f5724 $__lldb_expr84`AD__$s14__lldb_expr_838CnnModelV4cally10TensorFlow0F0VySfGAHF__adjoint_src_0_wrt_0_1 at <Cell 10>:23:22",
      "\tframe #26: 0x00007fdce21fcad9 libjupyterInstalledPackages.so`thunk for @escaping @callee_guaranteed (@in_guaranteed B.Model.Output.CotangentVector) -> (@out B.Model.CotangentVector, @out Tensor<Float>) at <compiler-generated>:0",
      "\tframe #27: 0x00007fdce21fd8fb libjupyterInstalledPackages.so`partial apply for thunk for @escaping @callee_guaranteed (@in_guaranteed B.Model.Output.CotangentVector) -> (@out B.Model.CotangentVector, @out Tensor<Float>) at <compiler-generated>:0",
      "\tframe #28: 0x00007fdce21fc8a4 libjupyterInstalledPackages.so`AD__$s33FastaiNotebook_05b_early_stopping7LearnerC5train33_EA86360ED3D10CE11AB0B8BB099D1561LL7onBatchyAA04DataP0Vy10TensorFlow0R0VySfGxG_tKFAL5ModelQy_XEfU___adjoint_src_0_wrt_0 at 04_callbacks.swift:190:21",
      "\tframe #29: 0x00007fdce21fd9ce libjupyterInstalledPackages.so`partial apply for AD__$s33FastaiNotebook_05b_early_stopping7LearnerC5train33_EA86360ED3D10CE11AB0B8BB099D1561LL7onBatchyAA04DataP0Vy10TensorFlow0R0VySfGxG_tKFAL5ModelQy_XEfU___adjoint_src_0_wrt_0 at <compiler-generated>:0",
      "\tframe #33: 0x00007fdce21f32ea libjupyterInstalledPackages.so`Learner.train(batch=(xb = \n[[[        0.0,         0.0,         0.0, ...,         0.0,         0.0,         0.0],\n  [        0.0,         0.0,         0.0, ...,         0.0,         0.0,         0.0],\n  [        0.0,         0.0,         0.0, ...,         0.0,         0.0,         0.0],\n  ...,\n  [        0.0,         0.0,         0.0, ...,         0.0,         0.0,         0.0],\n  [        0.0,         0.0,         0.0, ...,         0.0,         0.0,         0.0],\n  [        0.0,         0.0,         0.0, ...,         0.0,         0.0,         0.0]],\n\n [[        0.0,         0.0,         0.0, ...,         0.0,         0.0,         0.0],\n  [        0.0,         0.0,         0.0, ...,         0.0,         0.0,         0.0],\n  [        0.0,         0.0,         0.0, ...,         0.0,         0.0,         0.0],\n  ...,\n  [        0.0,         0.0,         0.0, ...,         0.0,         0.0,         0.0],\n  [        0.0,         0.0,         0.0, ...,         0.0,         0.0,         0.0],\n  [        0.0,         0.0,         0.0, ...,         0.0,         0.0,         0.0]],\n\n [[        0.0,         0.0,         0.0, ...,         0.0,         0.0,         0.0],\n  [        0.0,         0.0,         0.0, ...,         0.0,         0.0,         0.0],\n  [        0.0,         0.0,         0.0, ...,         0.0,         0.0,         0.0],\n  ...,\n  [        0.0,         0.0,         0.0, ...,         0.0,         0.0,         0.0],\n  [        0.0,         0.0,         0.0, ...,         0.0,         0.0,         0.0],\n  [        0.0,         0.0,         0.0, ...,         0.0,         0.0,         0.0]],\n\n ...,\n\n [[        0.0,         0.0,         0.0, ...,         0.0,         0.0,         0.0],\n  [        0.0,         0.0,         0.0, ...,         0.0,         0.0,         0.0],\n  [        0.0,         0.0,         0.0, ...,         0.0,         0.0,         0.0],\n  ...,\n  [        0.0,         0.0,         0.0, ...,         0.0,         0.0,         0.0],\n  [        0.0,         0.0,         0.0, ...,         0.0,         0.0,         0.0],\n  [        0.0,         0.0,         0.0, ...,         0.0,         0.0,         0.0]],\n\n [[        0.0,         0.0,         0.0, ...,         0.0,         0.0,         0.0],\n  [        0.0,         0.0,         0.0, ...,         0.0,         0.0,         0.0],\n  [        0.0,         0.0,         0.0, ...,         0.0,         0.0,         0.0],\n  ...,\n  [        0.0,         0.0,         0.0, ...,         0.0,         0.0,         0.0],\n  [        0.0,         0.0,         0.0, ...,         0.0,         0.0,         0.0],\n  [        0.0,         0.0,         0.0, ...,         0.0,         0.0,         0.0]],\n\n [[        0.0,         0.0,         0.0, ...,         0.0,         0.0,         0.0],\n  [        0.0,         0.0,         0.0, ...,         0.0,         0.0,         0.0],\n  [        0.0,         0.0,         0.0, ...,         0.0,         0.0,         0.0],\n  ...,\n  [        0.0,         0.0,         0.0, ...,         0.0,         0.0,         0.0],\n  [        0.0,         0.0,         0.0, ...,         0.0,         0.0,         0.0],\n  [        0.0,         0.0,         0.0, ...,         0.0,         0.0,         0.0]]], yb = 0x00000000402b1000 -> 0x00007fdcb5320ea8 libswiftCore.so`InitialAllocationPool + 28480), self=0x0000000037f82750) at 04_callbacks.swift:189:48",
      "\tframe #34: 0x00007fdce21f473d libjupyterInstalledPackages.so`Learner.train(ds=FastaiNotebook_05b_early_stopping.FADataset<FastaiNotebook_05b_early_stopping.DataBatch<TensorFlow.Tensor<Swift.Float>, TensorFlow.Tensor<Swift.Int32>>> @ 0x00007ffc428c29d0, self=0x0000000037f82750) at 04_callbacks.swift:204:35",
      "\tframe #35: 0x00007fdce21f55fb libjupyterInstalledPackages.so`Learner.fit(epochCount=2, self=0x0000000037f82750) at 04_callbacks.swift:222:30",
      "\tframe #36: 0x00007fdc940f993d $__lldb_expr118`closure #1 in  at <Cell 16>:2:21",
      "\tframe #37: 0x00007fdce21c64a7 libjupyterInstalledPackages.so`time(repeating=1, function=0x00007fdc940f9900 $__lldb_expr118`closure #1 () -> () in __lldb_expr_117 at <Cell 16>:2) at 00_load_data.swift:99:5",
      "\tframe #38: 0x00007fdc940f98f1 $__lldb_expr118`main at <Cell 16>:2:1",
      "\tframe #52: 0x00007fdce21dbc99 libjupyterInstalledPackages.so`AD__$s33FastaiNotebook_05b_early_stopping17FAGlobalAvgPool2DV7forwardy10TensorFlow0I0VyxGAHF__adjoint_src_0_wrt_0_1 at 01a_fastai_layers.swift:287:22",
      "\tframe #53: 0x00007fdce21dbdb4 libjupyterInstalledPackages.so`partial apply for AD__$s33FastaiNotebook_05b_early_stopping17FAGlobalAvgPool2DV7forwardy10TensorFlow0I0VyxGAHF__adjoint_src_0_wrt_0_1 at <compiler-generated>:0",
      "\tframe #54: 0x00007fdce21dbf2b libjupyterInstalledPackages.so`AD__$s33FastaiNotebook_05b_early_stopping17FAGlobalAvgPool2DV4cally10TensorFlow0I0VyxGAHF__adjoint_src_0_wrt_0_1 at 01a_fastai_layers.swift:292:26",
      "\tframe #55: 0x00007fdce21dc064 libjupyterInstalledPackages.so`partial apply for AD__$s33FastaiNotebook_05b_early_stopping17FAGlobalAvgPool2DV4cally10TensorFlow0I0VyxGAHF__adjoint_src_0_wrt_0_1 at <compiler-generated>:0",
      "\tframe #56: 0x00007fdce21d8473 libjupyterInstalledPackages.so`thunk for @escaping @callee_guaranteed (@guaranteed Tensor<A>) -> (@unowned FAGlobalAvgPool2D<A>.AllDifferentiableVariables, @owned Tensor<A>) at <compiler-generated>:0",
      "\tframe #57: 0x00007fdce21e4812 libjupyterInstalledPackages.so`partial apply for thunk for @escaping @callee_guaranteed (@guaranteed Tensor<A>) -> (@unowned FAGlobalAvgPool2D<A>.AllDifferentiableVariables, @owned Tensor<A>) at <compiler-generated>:0",
      "\tframe #62: 0x00007fdc940f5724 $__lldb_expr84`AD__$s14__lldb_expr_838CnnModelV4cally10TensorFlow0F0VySfGAHF__adjoint_src_0_wrt_0_1 at <Cell 10>:23:22",
      "\tframe #66: 0x00007fdce21fcad9 libjupyterInstalledPackages.so`thunk for @escaping @callee_guaranteed (@in_guaranteed B.Model.Output.CotangentVector) -> (@out B.Model.CotangentVector, @out Tensor<Float>) at <compiler-generated>:0",
      "\tframe #67: 0x00007fdce21fd8fb libjupyterInstalledPackages.so`partial apply for thunk for @escaping @callee_guaranteed (@in_guaranteed B.Model.Output.CotangentVector) -> (@out B.Model.CotangentVector, @out Tensor<Float>) at <compiler-generated>:0",
      "\tframe #68: 0x00007fdce21fc8a4 libjupyterInstalledPackages.so`AD__$s33FastaiNotebook_05b_early_stopping7LearnerC5train33_EA86360ED3D10CE11AB0B8BB099D1561LL7onBatchyAA04DataP0Vy10TensorFlow0R0VySfGxG_tKFAL5ModelQy_XEfU___adjoint_src_0_wrt_0 at 04_callbacks.swift:190:21",
      "\tframe #69: 0x00007fdce21fd9ce libjupyterInstalledPackages.so`partial apply for AD__$s33FastaiNotebook_05b_early_stopping7LearnerC5train33_EA86360ED3D10CE11AB0B8BB099D1561LL7onBatchyAA04DataP0Vy10TensorFlow0R0VySfGxG_tKFAL5ModelQy_XEfU___adjoint_src_0_wrt_0 at <compiler-generated>:0",
      "\tframe #73: 0x00007fdce21f32ea libjupyterInstalledPackages.so`Learner.train(batch=(xb = \n[[[        0.0,         0.0,         0.0, ...,         0.0,         0.0,         0.0],\n  [        0.0,         0.0,         0.0, ...,         0.0,         0.0,         0.0],\n  [        0.0,         0.0,         0.0, ...,         0.0,         0.0,         0.0],\n  ...,\n  [        0.0,         0.0,         0.0, ...,         0.0,         0.0,         0.0],\n  [        0.0,         0.0,         0.0, ...,         0.0,         0.0,         0.0],\n  [        0.0,         0.0,         0.0, ...,         0.0,         0.0,         0.0]],\n\n [[        0.0,         0.0,         0.0, ...,         0.0,         0.0,         0.0],\n  [        0.0,         0.0,         0.0, ...,         0.0,         0.0,         0.0],\n  [        0.0,         0.0,         0.0, ...,         0.0,         0.0,         0.0],\n  ...,\n  [        0.0,         0.0,         0.0, ...,         0.0,         0.0,         0.0],\n  [        0.0,         0.0,         0.0, ...,         0.0,         0.0,         0.0],\n  [        0.0,         0.0,         0.0, ...,         0.0,         0.0,         0.0]],\n\n [[        0.0,         0.0,         0.0, ...,         0.0,         0.0,         0.0],\n  [        0.0,         0.0,         0.0, ...,         0.0,         0.0,         0.0],\n  [        0.0,         0.0,         0.0, ...,         0.0,         0.0,         0.0],\n  ...,\n  [        0.0,         0.0,         0.0, ...,         0.0,         0.0,         0.0],\n  [        0.0,         0.0,         0.0, ...,         0.0,         0.0,         0.0],\n  [        0.0,         0.0,         0.0, ...,         0.0,         0.0,         0.0]],\n\n ...,\n\n [[        0.0,         0.0,         0.0, ...,         0.0,         0.0,         0.0],\n  [        0.0,         0.0,         0.0, ...,         0.0,         0.0,         0.0],\n  [        0.0,         0.0,         0.0, ...,         0.0,         0.0,         0.0],\n  ...,\n  [        0.0,         0.0,         0.0, ...,         0.0,         0.0,         0.0],\n  [        0.0,         0.0,         0.0, ...,         0.0,         0.0,         0.0],\n  [        0.0,         0.0,         0.0, ...,         0.0,         0.0,         0.0]],\n\n [[        0.0,         0.0,         0.0, ...,         0.0,         0.0,         0.0],\n  [        0.0,         0.0,         0.0, ...,         0.0,         0.0,         0.0],\n  [        0.0,         0.0,         0.0, ...,         0.0,         0.0,         0.0],\n  ...,\n  [        0.0,         0.0,         0.0, ...,         0.0,         0.0,         0.0],\n  [        0.0,         0.0,         0.0, ...,         0.0,         0.0,         0.0],\n  [        0.0,         0.0,         0.0, ...,         0.0,         0.0,         0.0]],\n\n [[        0.0,         0.0,         0.0, ...,         0.0,         0.0,         0.0],\n  [        0.0,         0.0,         0.0, ...,         0.0,         0.0,         0.0],\n  [        0.0,         0.0,         0.0, ...,         0.0,         0.0,         0.0],\n  ...,\n  [        0.0,         0.0,         0.0, ...,         0.0,         0.0,         0.0],\n  [        0.0,         0.0,         0.0, ...,         0.0,         0.0,         0.0],\n  [        0.0,         0.0,         0.0, ...,         0.0,         0.0,         0.0]]], yb = 0x000000004028aa00 -> 0x00007fdcb5320ea8 libswiftCore.so`InitialAllocationPool + 28480), self=0x0000000037f82750) at 04_callbacks.swift:189:48",
      "\tframe #74: 0x00007fdce21f473d libjupyterInstalledPackages.so`Learner.train(ds=FastaiNotebook_05b_early_stopping.FADataset<FastaiNotebook_05b_early_stopping.DataBatch<TensorFlow.Tensor<Swift.Float>, TensorFlow.Tensor<Swift.Int32>>> @ 0x00007ffc428c5490, self=0x0000000037f82750) at 04_callbacks.swift:204:35",
      "\tframe #75: 0x00007fdce21f55fb libjupyterInstalledPackages.so`Learner.fit(epochCount=1, self=0x0000000037f82750) at 04_callbacks.swift:222:30",
      "\tframe #76: 0x00007fdc940f95dd $__lldb_expr108`closure #1 in  at <Cell 14>:5:21",
      "\tframe #77: 0x00007fdce21c64a7 libjupyterInstalledPackages.so`time(repeating=1, function=0x00007fdc940f95a0 $__lldb_expr108`closure #1 () -> () in __lldb_expr_107 at <Cell 14>:5) at 00_load_data.swift:99:5",
      "\tframe #78: 0x00007fdc940f9591 $__lldb_expr108`main at <Cell 14>:5:1"
     ]
    }
   ],
   "source": [
    "// This LayerDelegate stuff slows it down to ~6s/epoch.\n",
    "time { try! learner.fit(2) }"
   ]
  },
  {
   "cell_type": "code",
   "execution_count": null,
   "metadata": {},
   "outputs": [],
   "source": [
    "let activationStatistics = learner.model.layerDelegates(havingType: ActivationStatistics.self)\n",
    "for stats in activationStatistics {\n",
    "    plt.plot(stats.activationMeans)\n",
    "}\n",
    "plt.legend(Array(1...activationStatistics.count))\n",
    "plt.show()"
   ]
  },
  {
   "cell_type": "code",
   "execution_count": null,
   "metadata": {},
   "outputs": [],
   "source": [
    "for stats in activationStatistics {\n",
    "    plt.plot(stats.activationStds)\n",
    "}\n",
    "plt.legend(Array(1...activationStatistics.count))\n",
    "plt.show()"
   ]
  },
  {
   "cell_type": "markdown",
   "metadata": {},
   "source": [
    "## Export"
   ]
  },
  {
   "cell_type": "code",
   "execution_count": null,
   "metadata": {},
   "outputs": [],
   "source": [
    "notebookToScript(fname: (Path.cwd / \"06_cuda.ipynb\").string)"
   ]
  },
  {
   "cell_type": "code",
   "execution_count": null,
   "metadata": {},
   "outputs": [],
   "source": []
  }
 ],
 "metadata": {
  "kernelspec": {
   "display_name": "Swift",
   "language": "swift",
   "name": "swift"
  },
  "language_info": {
   "file_extension": ".swift",
   "mimetype": "text/x-swift",
   "name": "swift",
   "version": ""
  }
 },
 "nbformat": 4,
 "nbformat_minor": 2
}
